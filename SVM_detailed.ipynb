{
  "nbformat": 4,
  "nbformat_minor": 0,
  "metadata": {
    "colab": {
      "name": "SVM detailed.ipynb",
      "provenance": [],
      "collapsed_sections": [],
      "authorship_tag": "ABX9TyNxunR1PmZKDHZ2cCuJLhjI",
      "include_colab_link": true
    },
    "kernelspec": {
      "display_name": "Python 3",
      "name": "python3"
    }
  },
  "cells": [
    {
      "cell_type": "markdown",
      "metadata": {
        "id": "view-in-github",
        "colab_type": "text"
      },
      "source": [
        "<a href=\"https://colab.research.google.com/github/abhi-lejon/Machine-learning/blob/master/SVM_detailed.ipynb\" target=\"_parent\"><img src=\"https://colab.research.google.com/assets/colab-badge.svg\" alt=\"Open In Colab\"/></a>"
      ]
    },
    {
      "cell_type": "code",
      "metadata": {
        "id": "Zws2FQ093tzz"
      },
      "source": [
        "import matplotlib.pyplot as plt\r\n",
        "import numpy as np\r\n",
        "import pandas as pd\r\n",
        "import sklearn\r\n",
        "import seaborn as sns\r\n",
        "from matplotlib.axes._axes import _log as matplotlib_axes_logger\r\n",
        "from matplotlib.colors import ListedColormap\r\n",
        "from mpl_toolkits import mplot3d\r\n",
        "from sklearn.metrics import accuracy_score\r\n",
        "from sklearn.metrics import confusion_matrix\r\n",
        "from sklearn.metrics import plot_confusion_matrix\r\n",
        "from sklearn.model_selection import train_test_split\r\n",
        "from sklearn.preprocessing import StandardScaler\r\n",
        "from sklearn.svm import SVC"
      ],
      "execution_count": 42,
      "outputs": []
    },
    {
      "cell_type": "code",
      "metadata": {
        "id": "GM-m81magoBO"
      },
      "source": [
        "matplotlib_axes_logger.setLevel('ERROR')"
      ],
      "execution_count": 43,
      "outputs": []
    },
    {
      "cell_type": "code",
      "metadata": {
        "id": "HhCYwobkgoKb"
      },
      "source": [
        "zero_one_colourmap=ListedColormap(('red','green'))"
      ],
      "execution_count": 44,
      "outputs": []
    },
    {
      "cell_type": "code",
      "metadata": {
        "id": "Z_Gddq7ygoQL"
      },
      "source": [
        "df=pd.read_csv('/content/train_LZdllcl.csv')"
      ],
      "execution_count": 45,
      "outputs": []
    },
    {
      "cell_type": "code",
      "metadata": {
        "colab": {
          "base_uri": "https://localhost:8080/"
        },
        "id": "mAZ0WquYhavD",
        "outputId": "cbdbd2c7-fdb6-4a9a-8532-2e071ce6bb80"
      },
      "source": [
        "df.shape"
      ],
      "execution_count": 46,
      "outputs": [
        {
          "output_type": "execute_result",
          "data": {
            "text/plain": [
              "(54808, 14)"
            ]
          },
          "metadata": {
            "tags": []
          },
          "execution_count": 46
        }
      ]
    },
    {
      "cell_type": "code",
      "metadata": {
        "id": "kKcwjLLihazN"
      },
      "source": [
        "df.drop(['employee_id','region'],axis=1,inplace=True)"
      ],
      "execution_count": 47,
      "outputs": []
    },
    {
      "cell_type": "code",
      "metadata": {
        "colab": {
          "base_uri": "https://localhost:8080/",
          "height": 165
        },
        "id": "olv4SIQoha2W",
        "outputId": "c10343d9-802d-467f-8b67-b4b0787085fd"
      },
      "source": [
        "df.head(2)"
      ],
      "execution_count": 48,
      "outputs": [
        {
          "output_type": "execute_result",
          "data": {
            "text/html": [
              "<div>\n",
              "<style scoped>\n",
              "    .dataframe tbody tr th:only-of-type {\n",
              "        vertical-align: middle;\n",
              "    }\n",
              "\n",
              "    .dataframe tbody tr th {\n",
              "        vertical-align: top;\n",
              "    }\n",
              "\n",
              "    .dataframe thead th {\n",
              "        text-align: right;\n",
              "    }\n",
              "</style>\n",
              "<table border=\"1\" class=\"dataframe\">\n",
              "  <thead>\n",
              "    <tr style=\"text-align: right;\">\n",
              "      <th></th>\n",
              "      <th>department</th>\n",
              "      <th>education</th>\n",
              "      <th>gender</th>\n",
              "      <th>recruitment_channel</th>\n",
              "      <th>no_of_trainings</th>\n",
              "      <th>age</th>\n",
              "      <th>previous_year_rating</th>\n",
              "      <th>length_of_service</th>\n",
              "      <th>KPIs_met &gt;80%</th>\n",
              "      <th>awards_won?</th>\n",
              "      <th>avg_training_score</th>\n",
              "      <th>is_promoted</th>\n",
              "    </tr>\n",
              "  </thead>\n",
              "  <tbody>\n",
              "    <tr>\n",
              "      <th>0</th>\n",
              "      <td>Sales &amp; Marketing</td>\n",
              "      <td>Master's &amp; above</td>\n",
              "      <td>f</td>\n",
              "      <td>sourcing</td>\n",
              "      <td>1</td>\n",
              "      <td>35</td>\n",
              "      <td>5.0</td>\n",
              "      <td>8</td>\n",
              "      <td>1</td>\n",
              "      <td>0</td>\n",
              "      <td>49</td>\n",
              "      <td>0</td>\n",
              "    </tr>\n",
              "    <tr>\n",
              "      <th>1</th>\n",
              "      <td>Operations</td>\n",
              "      <td>Bachelor's</td>\n",
              "      <td>m</td>\n",
              "      <td>other</td>\n",
              "      <td>1</td>\n",
              "      <td>30</td>\n",
              "      <td>5.0</td>\n",
              "      <td>4</td>\n",
              "      <td>0</td>\n",
              "      <td>0</td>\n",
              "      <td>60</td>\n",
              "      <td>0</td>\n",
              "    </tr>\n",
              "  </tbody>\n",
              "</table>\n",
              "</div>"
            ],
            "text/plain": [
              "          department         education  ... avg_training_score is_promoted\n",
              "0  Sales & Marketing  Master's & above  ...                 49           0\n",
              "1         Operations        Bachelor's  ...                 60           0\n",
              "\n",
              "[2 rows x 12 columns]"
            ]
          },
          "metadata": {
            "tags": []
          },
          "execution_count": 48
        }
      ]
    },
    {
      "cell_type": "code",
      "metadata": {
        "colab": {
          "base_uri": "https://localhost:8080/",
          "height": 387
        },
        "id": "QW_WZ12DxKPS",
        "outputId": "e6c151fc-ed9b-496c-e80a-500960bb8e53"
      },
      "source": [
        "#Foremost important thing is to check the classes in Target column\r\n",
        "target='is_promoted'\r\n",
        "print('The total records corresponding to class Zero are :',len(df[df[target]==0]))\r\n",
        "print('The total records corresponding to class Ones are :',len(df[df[target]==1]))\r\n",
        "sns.countplot(df[target],hue=df[target])\r\n",
        "#As we see it is completely imbalanced dataset."
      ],
      "execution_count": 49,
      "outputs": [
        {
          "output_type": "stream",
          "text": [
            "The total records corresponding to class Zero are : 50140\n",
            "The total records corresponding to class Ones are : 4668\n"
          ],
          "name": "stdout"
        },
        {
          "output_type": "stream",
          "text": [
            "/usr/local/lib/python3.6/dist-packages/seaborn/_decorators.py:43: FutureWarning: Pass the following variable as a keyword arg: x. From version 0.12, the only valid positional argument will be `data`, and passing other arguments without an explicit keyword will result in an error or misinterpretation.\n",
            "  FutureWarning\n"
          ],
          "name": "stderr"
        },
        {
          "output_type": "execute_result",
          "data": {
            "text/plain": [
              "<matplotlib.axes._subplots.AxesSubplot at 0x7f4bc3252a58>"
            ]
          },
          "metadata": {
            "tags": []
          },
          "execution_count": 49
        },
        {
          "output_type": "display_data",
          "data": {
            "image/png": "[encoded data removed]",
            "text/plain": [
              "<Figure size 432x288 with 1 Axes>"
            ]
          },
          "metadata": {
            "tags": [],
            "needs_background": "light"
          }
        }
      ]
    },
    {
      "cell_type": "code",
      "metadata": {
        "colab": {
          "base_uri": "https://localhost:8080/"
        },
        "id": "qt9XFMVOwnrC",
        "outputId": "5158128e-43d6-4ff2-ad8c-f73c5dabbcc6"
      },
      "source": [
        "#Two ways to treat the imbalanced dataste, 1) Undersampling 2) Oversmapling \r\n",
        "#In undersampling we bring down the no of records equal to minority classes.\r\n",
        "#In Oversampling the minority class count is made equal to majority classes.\r\n",
        "#In undersampling there will be loss of information, so will go for oversampling.\r\n",
        "majority_class=len(df[df[target]==0])\r\n",
        "print('The majority class records are',majority_class)\r\n",
        "minority_class_indicies=df[df[target]==1].index\r\n",
        "print(minority_class_indicies)"
      ],
      "execution_count": 50,
      "outputs": [
        {
          "output_type": "stream",
          "text": [
            "The majority class records are 50140\n",
            "Int64Index([   11,    39,    60,    66,    67,    69,    71,    75,    79,\n",
            "               84,\n",
            "            ...\n",
            "            54695, 54713, 54720, 54722, 54730, 54734, 54757, 54761, 54792,\n",
            "            54796],\n",
            "           dtype='int64', length=4668)\n"
          ],
          "name": "stdout"
        }
      ]
    },
    {
      "cell_type": "code",
      "metadata": {
        "colab": {
          "base_uri": "https://localhost:8080/"
        },
        "id": "4dKMFY3JwppV",
        "outputId": "b14e92ed-f7f3-43d3-e232-d86d5f488696"
      },
      "source": [
        "minority_indicies=np.random.choice(minority_class_indicies,majority_class)\r\n",
        "print(len(minority_indicies))\r\n",
        "print(majority_class)"
      ],
      "execution_count": 51,
      "outputs": [
        {
          "output_type": "stream",
          "text": [
            "50140\n",
            "50140\n"
          ],
          "name": "stdout"
        }
      ]
    },
    {
      "cell_type": "code",
      "metadata": {
        "id": "0LgG21gywpsL"
      },
      "source": [
        "majority_class_indicies=df[df[target]==0].index"
      ],
      "execution_count": 52,
      "outputs": []
    },
    {
      "cell_type": "code",
      "metadata": {
        "id": "dgfZ-BXtwpuT"
      },
      "source": [
        "over_sampled_data=np.concatenate(([minority_indicies,majority_class_indicies])) #Arrays should be kept always in paranthesis)\r\n",
        "df=df.loc[over_sampled_data]"
      ],
      "execution_count": 53,
      "outputs": []
    },
    {
      "cell_type": "code",
      "metadata": {
        "colab": {
          "base_uri": "https://localhost:8080/"
        },
        "id": "TRtb0N-LwuQA",
        "outputId": "88d57323-5af0-4b21-fcd1-590bb4fb67c0"
      },
      "source": [
        "df.shape"
      ],
      "execution_count": 54,
      "outputs": [
        {
          "output_type": "execute_result",
          "data": {
            "text/plain": [
              "(100280, 12)"
            ]
          },
          "metadata": {
            "tags": []
          },
          "execution_count": 54
        }
      ]
    },
    {
      "cell_type": "code",
      "metadata": {
        "id": "2OYozwUqha6Q"
      },
      "source": [
        "##Before startring off actual building, lets see how the data fts to perform SVM."
      ],
      "execution_count": 55,
      "outputs": []
    },
    {
      "cell_type": "code",
      "metadata": {
        "id": "OFJtd0nzgoXH"
      },
      "source": [
        "def plot_decision_boundary(X, y, clf):\r\n",
        "  X_set, y_set = X, y\r\n",
        "  X1, X2 = np.meshgrid(np.arange(start = X_set[:, 0].min() - 1, \r\n",
        "                                 stop = X_set[:, 0].max() + 1, \r\n",
        "                                 step = 0.01),\r\n",
        "                       np.arange(start = X_set[:, 1].min() - 1, \r\n",
        "                                 stop = X_set[:, 1].max() + 1, \r\n",
        "                                 step = 0.01))\r\n",
        "  \r\n",
        "  plt.contourf(X1, X2, clf.predict(np.array([X1.ravel(), \r\n",
        "                                             X2.ravel()]).T).reshape(X1.shape),\r\n",
        "               alpha = 0.75, \r\n",
        "               cmap = zero_one_colourmap)\r\n",
        "  plt.xlim(X1.min(), X1.max())\r\n",
        "  plt.ylim(X2.min(), X2.max())\r\n",
        "  for i, j in enumerate(np.unique(y_set)):\r\n",
        "    plt.scatter(X_set[y_set == j, 0], X_set[y_set == j, 1],\r\n",
        "                c = (zero_one_colourmap)(i), label = j)\r\n",
        "  plt.title('SVM Decision Boundary')\r\n",
        "  plt.xlabel('X1')\r\n",
        "  plt.ylabel('X2')\r\n",
        "  plt.legend()\r\n",
        "  return plt.show()"
      ],
      "execution_count": 56,
      "outputs": []
    },
    {
      "cell_type": "code",
      "metadata": {
        "id": "PtJvGTRegogU"
      },
      "source": [
        "\r\n",
        "def plot_3d_plot(X, y):\r\n",
        "  r = np.exp(-(X ** 2).sum(1))\r\n",
        "  ax = plt.subplot(projection='3d')\r\n",
        "  ax.scatter3D(X[:, 0], X[:, 1], r, c=y, s=100, cmap=zero_one_colourmap)\r\n",
        "  ax.set_xlabel('X1')\r\n",
        "  ax.set_ylabel('X2')\r\n",
        "  ax.set_zlabel('y')\r\n",
        "  return ax"
      ],
      "execution_count": 57,
      "outputs": []
    },
    {
      "cell_type": "code",
      "metadata": {
        "id": "PQ39f6fWgoys"
      },
      "source": [
        "#Finding Missing values\r\n",
        "def nullvalue(df):\r\n",
        "    df=df.mask(df==0,0.0001)\r\n",
        "    nullvaluecolumns=df.isna().sum()/df.shape[0]*100\r\n",
        "    print('The total columns are :',len(nullvaluecolumns))\r\n",
        "    drop_cols=nullvaluecolumns[nullvaluecolumns>30]\r\n",
        "    print('The columns to be dropped are :', len(drop_cols))\r\n",
        "    print(drop_cols)\r\n",
        "    df.drop(df[drop_cols],axis=1,inplace=True)\r\n",
        "    retained_cols=nullvaluecolumns[nullvaluecolumns<30]\r\n",
        "    print('The columns to be retained are :', len(retained_cols))\r\n",
        "    print('The retained columns are',retained_cols)\r\n",
        "    features_with_nan=[feature for feature in df.columns if df[feature].isna().sum()>=1]\r\n",
        "    print('The columns containing Nan values are :',len(features_with_nan))\r\n",
        "    print('features_with_nan',features_with_nan)\r\n",
        "    features_with_nan_cat=[feature for feature in df.columns if df[feature].isna().sum()>=1 and df[feature].dtypes=='O']\r\n",
        "    print('The categorical columns with missing values are',features_with_nan_cat)\r\n",
        "    features_with_nan_num=[feature for feature in df.columns if df[feature].isna().sum()>=1 and df[feature].dtypes!='O']\r\n",
        "    print('The Numerical columns with missing values are',features_with_nan_num)\r\n",
        "    Numerical=[feature for feature in df.columns if df[feature].dtypes!='O']\r\n",
        "    print('The Numerical columns are :',Numerical)\r\n",
        "    Categorical=[feature for feature in df.columns if df[feature].dtypes=='O']\r\n",
        "    print('The Categorical columns are :',Categorical)\r\n",
        "    year_feature=[feature for feature in Numerical if 'Yr' in feature or 'Year' in feature]\r\n",
        "    print('The year columns are',len(year_feature))\r\n",
        "    #Lets print the discrete and continous features in Numerical columns\r\n",
        "    Discrete_Numerical=[feature for feature in Numerical if len(df[feature].unique()<25) and feature not in year_feature]\r\n",
        "    print('The discrete numerical features are :', len(Discrete_Numerical))\r\n",
        "    print('Discrete_Numerical :',Discrete_Numerical)\r\n",
        "    Continous_Numerical=[feature for feature in Numerical if feature not in year_feature+Discrete_Numerical]\r\n",
        "    print('The continous numerical features are :', len(Continous_Numerical))\r\n",
        "    print('Continous_Numerical :',Continous_Numerical)\r\n",
        "    return df,drop_cols,retained_cols,features_with_nan,features_with_nan_cat,features_with_nan_num,Numerical,Categorical,year_feature,Discrete_Numerical,Continous_Numerical\r\n",
        "                         "
      ],
      "execution_count": 58,
      "outputs": []
    },
    {
      "cell_type": "code",
      "metadata": {
        "colab": {
          "base_uri": "https://localhost:8080/"
        },
        "id": "pmAXLM1gtqrm",
        "outputId": "c07cf7c5-6ae8-4248-fe08-5c9de109a891"
      },
      "source": [
        "df,drop_cols,retained_cols,features_with_nan,features_with_nan_cat,features_with_nan_num,Numerical,Categorical,year_feature,Discrete_Numerical,Continous_Numerical=nullvalue(df)"
      ],
      "execution_count": 59,
      "outputs": [
        {
          "output_type": "stream",
          "text": [
            "The total columns are : 12\n",
            "The columns to be dropped are : 0\n",
            "Series([], dtype: float64)\n",
            "The columns to be retained are : 12\n",
            "The retained columns are department              0.000000\n",
            "education               3.573993\n",
            "gender                  0.000000\n",
            "recruitment_channel     0.000000\n",
            "no_of_trainings         0.000000\n",
            "age                     0.000000\n",
            "previous_year_rating    7.319505\n",
            "length_of_service       0.000000\n",
            "KPIs_met >80%           0.000000\n",
            "awards_won?             0.000000\n",
            "avg_training_score      0.000000\n",
            "is_promoted             0.000000\n",
            "dtype: float64\n",
            "The columns containing Nan values are : 2\n",
            "features_with_nan ['education', 'previous_year_rating']\n",
            "The categorical columns with missing values are ['education']\n",
            "The Numerical columns with missing values are ['previous_year_rating']\n",
            "The Numerical columns are : ['no_of_trainings', 'age', 'previous_year_rating', 'length_of_service', 'KPIs_met >80%', 'awards_won?', 'avg_training_score', 'is_promoted']\n",
            "The Categorical columns are : ['department', 'education', 'gender', 'recruitment_channel']\n",
            "The year columns are 0\n",
            "The discrete numerical features are : 8\n",
            "Discrete_Numerical : ['no_of_trainings', 'age', 'previous_year_rating', 'length_of_service', 'KPIs_met >80%', 'awards_won?', 'avg_training_score', 'is_promoted']\n",
            "The continous numerical features are : 0\n",
            "Continous_Numerical : []\n"
          ],
          "name": "stdout"
        }
      ]
    },
    {
      "cell_type": "code",
      "metadata": {
        "id": "aCsMuxFXtqt9"
      },
      "source": [
        "#Replace the missing values in eduaction column with most repeated category in the column.\r\n",
        "def replacemissingcat(df,features_with_nan_cat):\r\n",
        "    for feature in features_with_nan_cat:\r\n",
        "        df[feature].fillna(df[feature].value_counts().index[0],inplace=True)\r\n",
        "    return df\r\n",
        "\r\n",
        "df=replacemissingcat(df,features_with_nan_cat)"
      ],
      "execution_count": 60,
      "outputs": []
    },
    {
      "cell_type": "code",
      "metadata": {
        "id": "goj5qKRBtqwS"
      },
      "source": [
        "#Lets replace the missing value sin numerical with median.\r\n",
        "def replacenummissing(df,features_with_nan_num):\r\n",
        "    for feature in features_with_nan_num:\r\n",
        "        data=df.copy()\r\n",
        "        data[feature].fillna(data[feature].median(),inplace=True)\r\n",
        "    return data\r\n",
        "df=replacenummissing(df,features_with_nan_num)"
      ],
      "execution_count": 61,
      "outputs": []
    },
    {
      "cell_type": "code",
      "metadata": {
        "id": "9inuiPgyvibt"
      },
      "source": [
        "#Lets remove outliers\r\n",
        "def outliertreatment(df):\r\n",
        "    for feature in df.describe().columns:\r\n",
        "        Q1=df.describe().at['25%',feature]\r\n",
        "        Q3=df.describe().at['75%',feature]\r\n",
        "        IQR=Q3-Q1\r\n",
        "        UTV=Q3+1.5*IQR\r\n",
        "        LTV=Q1-1.5*IQR\r\n",
        "        x=np.array(df[feature])\r\n",
        "        p=[]\r\n",
        "        for j in x:\r\n",
        "            if j<LTV or j>UTV:\r\n",
        "                p.append(df[feature].median())\r\n",
        "            else:\r\n",
        "                p.append(j)\r\n",
        "        df[feature]=p"
      ],
      "execution_count": 62,
      "outputs": []
    },
    {
      "cell_type": "code",
      "metadata": {
        "id": "YHl3r5Vwviea"
      },
      "source": [
        "outliertreatment(df)"
      ],
      "execution_count": 63,
      "outputs": []
    },
    {
      "cell_type": "code",
      "metadata": {
        "id": "5VVAU0XBtqyg"
      },
      "source": [
        "##Feature extraction-Label encoding\r\n",
        "Department={'Sales & Marketing':0,'Technology':1,'Procurement':2,'Operations':3,'Analytics':4,'R&D':5,'HR':6,'Finance':7,'Legal':8}\r\n",
        "df['department']=df['department'].map(Department)"
      ],
      "execution_count": 64,
      "outputs": []
    },
    {
      "cell_type": "code",
      "metadata": {
        "id": "T2X74kVcv3V3"
      },
      "source": [
        "df=pd.get_dummies(df,columns=['education','gender','recruitment_channel'],drop_first=True)#Ues this method"
      ],
      "execution_count": 65,
      "outputs": []
    },
    {
      "cell_type": "code",
      "metadata": {
        "id": "61h1Pccqvv9I"
      },
      "source": [
        "##Feature Scaling\r\n",
        "ss=StandardScaler()\r\n",
        "df=pd.DataFrame(ss.fit_transform(df),columns=df.columns)"
      ],
      "execution_count": 66,
      "outputs": []
    },
    {
      "cell_type": "code",
      "metadata": {
        "id": "xga3yu1GuFQB"
      },
      "source": [
        "target='is_promoted'\r\n",
        "x=df.loc[:,df.columns!=target]\r\n",
        "y=df.loc[:,df.columns==target]"
      ],
      "execution_count": 67,
      "outputs": []
    },
    {
      "cell_type": "code",
      "metadata": {
        "colab": {
          "base_uri": "https://localhost:8080/"
        },
        "id": "xMhIw9qAuRtQ",
        "outputId": "9e061a34-7b02-4641-8879-65e19844a69c"
      },
      "source": [
        "from sklearn.preprocessing import LabelEncoder\r\n",
        "le=LabelEncoder()\r\n",
        "y=pd.DataFrame(le.fit_transform(y),columns=['is_promoted'])"
      ],
      "execution_count": 68,
      "outputs": [
        {
          "output_type": "stream",
          "text": [
            "/usr/local/lib/python3.6/dist-packages/sklearn/preprocessing/_label.py:251: DataConversionWarning: A column-vector y was passed when a 1d array was expected. Please change the shape of y to (n_samples, ), for example using ravel().\n",
            "  y = column_or_1d(y, warn=True)\n"
          ],
          "name": "stderr"
        }
      ]
    },
    {
      "cell_type": "code",
      "metadata": {
        "id": "YwdVbsFNuRvn"
      },
      "source": [
        "X=x[['avg_training_score','age','KPIs_met >80%','length_of_service','department','previous_year_rating']]"
      ],
      "execution_count": 69,
      "outputs": []
    },
    {
      "cell_type": "code",
      "metadata": {
        "id": "WetUo1bCuR0A"
      },
      "source": [
        "X_train, X_test, y_train, y_test = train_test_split(X, y, \r\n",
        "                                                    test_size = 0.25, \r\n",
        "                                                    random_state = 0)"
      ],
      "execution_count": 70,
      "outputs": []
    },
    {
      "cell_type": "markdown",
      "metadata": {
        "id": "38xMfLvpwGQa"
      },
      "source": [
        "Lets use both Logistic regression and SVM"
      ]
    },
    {
      "cell_type": "code",
      "metadata": {
        "colab": {
          "base_uri": "https://localhost:8080/"
        },
        "id": "7_ytWL7ivDCt",
        "outputId": "04f4e4ac-8e2c-4c78-beb4-68336451c9ce"
      },
      "source": [
        "from sklearn.linear_model import LogisticRegression\r\n",
        "LR=LogisticRegression()\r\n",
        "LR.fit(X_train,y_train)\r\n",
        "y_pred=LR.predict(X_test)"
      ],
      "execution_count": 71,
      "outputs": [
        {
          "output_type": "stream",
          "text": [
            "/usr/local/lib/python3.6/dist-packages/sklearn/utils/validation.py:760: DataConversionWarning: A column-vector y was passed when a 1d array was expected. Please change the shape of y to (n_samples, ), for example using ravel().\n",
            "  y = column_or_1d(y, warn=True)\n"
          ],
          "name": "stderr"
        }
      ]
    },
    {
      "cell_type": "code",
      "metadata": {
        "id": "Tz1SIHKCyNs2"
      },
      "source": [
        "def generatemodelreport(y_actual,y_predicted):\r\n",
        "    print(\"Accuracy = \",accuracy_score(y_test,y_pred))\r\n",
        "    #print(\"Precision = \",precision_score(y_test,y_pred))\r\n",
        "    #print(\"Recal = \",recall_score(y_test,y_pred))\r\n",
        "    #print(\"F1 score = \",f1_score(y_test,y_pred))\r\n",
        "    pass"
      ],
      "execution_count": 72,
      "outputs": []
    },
    {
      "cell_type": "code",
      "metadata": {
        "colab": {
          "base_uri": "https://localhost:8080/"
        },
        "id": "VhCmILj7yNvK",
        "outputId": "96a9319e-c9a9-4b9a-c0ca-df13a6069552"
      },
      "source": [
        "generatemodelreport(y_test,y_pred)"
      ],
      "execution_count": 73,
      "outputs": [
        {
          "output_type": "stream",
          "text": [
            "Accuracy =  0.7159154367770243\n"
          ],
          "name": "stdout"
        }
      ]
    },
    {
      "cell_type": "code",
      "metadata": {
        "id": "aaQIW_veyNyC"
      },
      "source": [
        "def generate_auc_roc_curve(LR,x_test):\r\n",
        "    y_pred_proba=LR.predict_proba(x_test)[:,1]\r\n",
        "    print(y_pred_proba.shape)\r\n",
        "    fpr,tpr,thresholds=roc_curve(y_test,y_pred_proba)\r\n",
        "    auc=roc_auc_score(y_test,y_pred_proba)\r\n",
        "    plt.plot(fpr,tpr,label='AUC ROC crve with area under the curve='+str(auc))\r\n",
        "    plt.legend(loc=4)\r\n",
        "    plt.show()\r\n",
        "    pass"
      ],
      "execution_count": 74,
      "outputs": []
    },
    {
      "cell_type": "code",
      "metadata": {
        "colab": {
          "base_uri": "https://localhost:8080/",
          "height": 283
        },
        "id": "Y0NixQcRyN2Z",
        "outputId": "1b7315f1-5e58-454a-90c5-df00fe97a945"
      },
      "source": [
        "from sklearn.metrics import accuracy_score,precision_score,recall_score,f1_score,roc_auc_score,roc_curve,confusion_matrix,classification_report\r\n",
        "generate_auc_roc_curve(LR,X_test)"
      ],
      "execution_count": 75,
      "outputs": [
        {
          "output_type": "stream",
          "text": [
            "(25070,)\n"
          ],
          "name": "stdout"
        },
        {
          "output_type": "display_data",
          "data": {
            "image/png": "[encoded data removed]",
            "text/plain": [
              "<Figure size 432x288 with 1 Axes>"
            ]
          },
          "metadata": {
            "tags": [],
            "needs_background": "light"
          }
        }
      ]
    },
    {
      "cell_type": "code",
      "metadata": {
        "id": "N_mILLQ1yN5t"
      },
      "source": [
        "from sklearn.svm import SVC"
      ],
      "execution_count": 76,
      "outputs": []
    },
    {
      "cell_type": "code",
      "metadata": {
        "colab": {
          "base_uri": "https://localhost:8080/"
        },
        "id": "GOH31gjP1UBv",
        "outputId": "2e527430-3e06-45b2-c0ba-a6e4489353b4"
      },
      "source": [
        "print(X_train.shape),print(X_test.shape),print(y_train.shape),print(y_test.shape)"
      ],
      "execution_count": 77,
      "outputs": [
        {
          "output_type": "stream",
          "text": [
            "(75210, 6)\n",
            "(25070, 6)\n",
            "(75210, 1)\n",
            "(25070, 1)\n"
          ],
          "name": "stdout"
        },
        {
          "output_type": "execute_result",
          "data": {
            "text/plain": [
              "(None, None, None, None)"
            ]
          },
          "metadata": {
            "tags": []
          },
          "execution_count": 77
        }
      ]
    },
    {
      "cell_type": "code",
      "metadata": {
        "colab": {
          "base_uri": "https://localhost:8080/"
        },
        "id": "pY7U7hZ22yG1",
        "outputId": "c617c01b-2fc1-4734-debe-ddcdba4a0eea"
      },
      "source": [
        "svc=SVC(C=1,kernel='linear')\r\n",
        "svc.fit(X_train,y_train)\r\n",
        "y_pred=svc.predict(X_test)"
      ],
      "execution_count": 78,
      "outputs": [
        {
          "output_type": "stream",
          "text": [
            "/usr/local/lib/python3.6/dist-packages/sklearn/utils/validation.py:760: DataConversionWarning: A column-vector y was passed when a 1d array was expected. Please change the shape of y to (n_samples, ), for example using ravel().\n",
            "  y = column_or_1d(y, warn=True)\n"
          ],
          "name": "stderr"
        }
      ]
    },
    {
      "cell_type": "code",
      "metadata": {
        "id": "w7c00JLEtegx"
      },
      "source": [
        "def generatemodelreport(y_actual,y_predicted):\r\n",
        "    print(\"Accuracy = \",accuracy_score(y_test,y_pred))\r\n",
        "    print(\"Precision = \",precision_score(y_test,y_pred))\r\n",
        "    print(\"Recal = \",recall_score(y_test,y_pred))\r\n",
        "    print(\"F1 score = \",f1_score(y_test,y_pred))\r\n",
        "    pass"
      ],
      "execution_count": 79,
      "outputs": []
    },
    {
      "cell_type": "code",
      "metadata": {
        "colab": {
          "base_uri": "https://localhost:8080/"
        },
        "id": "t6qeeyDDtejs",
        "outputId": "9a24a637-0cf2-4067-ea8d-68d20fed3be0"
      },
      "source": [
        "generatemodelreport(y_test,y_pred)"
      ],
      "execution_count": 80,
      "outputs": [
        {
          "output_type": "stream",
          "text": [
            "Accuracy =  0.6940566414040686\n",
            "Precision =  0.6852068240243048\n",
            "Recal =  0.7079275653923541\n",
            "F1 score =  0.6963819175045524\n"
          ],
          "name": "stdout"
        }
      ]
    },
    {
      "cell_type": "code",
      "metadata": {
        "id": "0a1V91dZtemU"
      },
      "source": [
        "def generate_auc_roc_curve(LR,x_test):\r\n",
        "    y_pred_proba=LR.predict_proba(x_test)[:,1]\r\n",
        "    print(y_pred_proba.shape)\r\n",
        "    fpr,tpr,thresholds=roc_curve(y_test,y_pred_proba)\r\n",
        "    auc=roc_auc_score(y_test,y_pred_proba)\r\n",
        "    plt.plot(fpr,tpr,label='AUC ROC crve with area under the curve='+str(auc))\r\n",
        "    plt.legend(loc=4)\r\n",
        "    plt.show()\r\n",
        "    pass"
      ],
      "execution_count": 81,
      "outputs": []
    },
    {
      "cell_type": "code",
      "metadata": {
        "colab": {
          "base_uri": "https://localhost:8080/",
          "height": 283
        },
        "id": "cDC55aIqteo4",
        "outputId": "d70d49d7-1bf2-44f3-893d-3a141cf9a441"
      },
      "source": [
        "generate_auc_roc_curve(LR,X_test)"
      ],
      "execution_count": 82,
      "outputs": [
        {
          "output_type": "stream",
          "text": [
            "(25070,)\n"
          ],
          "name": "stdout"
        },
        {
          "output_type": "display_data",
          "data": {
            "image/png": "[encoded data removed]",
            "text/plain": [
              "<Figure size 432x288 with 1 Axes>"
            ]
          },
          "metadata": {
            "tags": [],
            "needs_background": "light"
          }
        }
      ]
    },
    {
      "cell_type": "code",
      "metadata": {
        "colab": {
          "base_uri": "https://localhost:8080/"
        },
        "id": "pq5aHwINteq4",
        "outputId": "afed60d2-1a14-4bab-e496-265e8e991e7d"
      },
      "source": [
        "cm=confusion_matrix(y_test,y_pred)\r\n",
        "cm"
      ],
      "execution_count": 83,
      "outputs": [
        {
          "output_type": "execute_result",
          "data": {
            "text/plain": [
              "array([[8604, 4041],\n",
              "       [3629, 8796]])"
            ]
          },
          "metadata": {
            "tags": []
          },
          "execution_count": 83
        }
      ]
    },
    {
      "cell_type": "code",
      "metadata": {
        "id": "rJ063-xN2yJM"
      },
      "source": [
        "def generate_clf(input_gamma,input_C=1):\r\n",
        "  classifier=SVC(kernel='poly',gamma=input_gamma,C=input_C)\r\n",
        "  classifier.fit(X,y)\r\n",
        "  y_pred=classifier.predict(X)\r\n",
        "  print('The training accuracy = {}'.format(accuracy_score(y,y_pred)))\r\n",
        "  return classifier"
      ],
      "execution_count": 84,
      "outputs": []
    },
    {
      "cell_type": "code",
      "metadata": {
        "id": "ycW9JGHe2yME"
      },
      "source": [
        "#Classifier_1=generate_clf(0.001)"
      ],
      "execution_count": 85,
      "outputs": []
    },
    {
      "cell_type": "code",
      "metadata": {
        "id": "dVS0PXIF2yOp"
      },
      "source": [
        "#Classifier_2=generate_clf(0.01)"
      ],
      "execution_count": 86,
      "outputs": []
    },
    {
      "cell_type": "code",
      "metadata": {
        "id": "oKjTSutB2yQ7"
      },
      "source": [
        "#Classifier_3=generate_clf(0.1)"
      ],
      "execution_count": 87,
      "outputs": []
    },
    {
      "cell_type": "code",
      "metadata": {
        "id": "JZrEHLLntq1E"
      },
      "source": [
        "#Classifier_4=generate_clf(1)"
      ],
      "execution_count": 88,
      "outputs": []
    },
    {
      "cell_type": "code",
      "metadata": {
        "colab": {
          "base_uri": "https://localhost:8080/"
        },
        "id": "cd5aK1W-TqvV",
        "outputId": "9d9584fa-36c5-4725-958b-d6f82e29f862"
      },
      "source": [
        "Classifier_5=generate_clf(0.1,0.1)"
      ],
      "execution_count": 89,
      "outputs": [
        {
          "output_type": "stream",
          "text": [
            "/usr/local/lib/python3.6/dist-packages/sklearn/utils/validation.py:760: DataConversionWarning: A column-vector y was passed when a 1d array was expected. Please change the shape of y to (n_samples, ), for example using ravel().\n",
            "  y = column_or_1d(y, warn=True)\n"
          ],
          "name": "stderr"
        },
        {
          "output_type": "stream",
          "text": [
            "The training accuracy = 0.7429397686477862\n"
          ],
          "name": "stdout"
        }
      ]
    },
    {
      "cell_type": "code",
      "metadata": {
        "colab": {
          "base_uri": "https://localhost:8080/"
        },
        "id": "cYpKkMWBTqyF",
        "outputId": "a5da23a9-0729-4791-934d-7aa829818868"
      },
      "source": [
        "Classifier_6=generate_clf(0.1,1)"
      ],
      "execution_count": 90,
      "outputs": [
        {
          "output_type": "stream",
          "text": [
            "/usr/local/lib/python3.6/dist-packages/sklearn/utils/validation.py:760: DataConversionWarning: A column-vector y was passed when a 1d array was expected. Please change the shape of y to (n_samples, ), for example using ravel().\n",
            "  y = column_or_1d(y, warn=True)\n"
          ],
          "name": "stderr"
        },
        {
          "output_type": "stream",
          "text": [
            "The training accuracy = 0.7417530913442362\n"
          ],
          "name": "stdout"
        }
      ]
    },
    {
      "cell_type": "code",
      "metadata": {
        "colab": {
          "base_uri": "https://localhost:8080/"
        },
        "id": "bUiZ3pbHTq1G",
        "outputId": "ae412d7e-5740-40ea-a3eb-3e19b971edb6"
      },
      "source": [
        "Classifier_6=generate_clf(1,10)"
      ],
      "execution_count": null,
      "outputs": [
        {
          "output_type": "stream",
          "text": [
            "/usr/local/lib/python3.6/dist-packages/sklearn/utils/validation.py:760: DataConversionWarning: A column-vector y was passed when a 1d array was expected. Please change the shape of y to (n_samples, ), for example using ravel().\n",
            "  y = column_or_1d(y, warn=True)\n"
          ],
          "name": "stderr"
        }
      ]
    },
    {
      "cell_type": "code",
      "metadata": {
        "id": "YY7Tvkp2Tq3D"
      },
      "source": [
        "#In SVM only optimal C and Gamma as to be choosen. Otherwise it fits the model."
      ],
      "execution_count": 91,
      "outputs": []
    },
    {
      "cell_type": "code",
      "metadata": {
        "id": "m6PBGC5YTq5n"
      },
      "source": [
        ""
      ],
      "execution_count": 91,
      "outputs": []
    },
    {
      "cell_type": "code",
      "metadata": {
        "id": "wUU2-iqJoVV7"
      },
      "source": [
        ""
      ],
      "execution_count": null,
      "outputs": []
    },
    {
      "cell_type": "code",
      "metadata": {
        "id": "ZwKHQzHooVbH"
      },
      "source": [
        ""
      ],
      "execution_count": null,
      "outputs": []
    },
    {
      "cell_type": "code",
      "metadata": {
        "id": "TeEzHbmhoVdy"
      },
      "source": [
        ""
      ],
      "execution_count": null,
      "outputs": []
    },
    {
      "cell_type": "code",
      "metadata": {
        "id": "FdqKCRLSoVgF"
      },
      "source": [
        ""
      ],
      "execution_count": null,
      "outputs": []
    },
    {
      "cell_type": "code",
      "metadata": {
        "id": "MgBMIRWToVi7"
      },
      "source": [
        ""
      ],
      "execution_count": null,
      "outputs": []
    }
  ]
}