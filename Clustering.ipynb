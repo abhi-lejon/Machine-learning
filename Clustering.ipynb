{
 "cells": [
  {
   "cell_type": "code",
   "execution_count": 43,
   "metadata": {},
   "outputs": [],
   "source": [
    "import pandas as pd\n",
    "import numpy as np"
   ]
  },
  {
   "cell_type": "code",
   "execution_count": 44,
   "metadata": {},
   "outputs": [],
   "source": [
    "data=np.random.randint(0,1000,(100,5))"
   ]
  },
  {
   "cell_type": "code",
   "execution_count": 45,
   "metadata": {},
   "outputs": [],
   "source": [
    "r1=data[22]\n",
    "r2=data[33]\n",
    "r3=data[66]"
   ]
  },
  {
   "cell_type": "code",
   "execution_count": 46,
   "metadata": {},
   "outputs": [],
   "source": [
    "d1=np.sqrt(((data-r1)*(data-r1)).sum(axis=1))\n",
    "d2=np.sqrt(((data-r2)*(data-r2)).sum(axis=1))\n",
    "d3=np.sqrt(((data-r3)*(data-r3)).sum(axis=1))"
   ]
  },
  {
   "cell_type": "code",
   "execution_count": 47,
   "metadata": {},
   "outputs": [],
   "source": [
    "distance_matrix=np.array(list(zip(d1,d2,d3)))"
   ]
  },
  {
   "cell_type": "code",
   "execution_count": 48,
   "metadata": {},
   "outputs": [
    {
     "data": {
      "text/plain": [
       "array([0, 1, 2, 1, 0, 2, 2, 2, 2, 2, 0, 1, 0, 2, 1, 2, 2, 1, 2, 2, 2, 1,\n",
       "       0, 1, 0, 2, 1, 2, 1, 1, 2, 1, 1, 1, 2, 2, 2, 2, 1, 0, 0, 0, 0, 1,\n",
       "       1, 0, 2, 2, 0, 0, 0, 0, 0, 1, 0, 1, 1, 1, 2, 1, 0, 1, 1, 2, 2, 0,\n",
       "       2, 1, 1, 0, 0, 2, 2, 2, 0, 2, 1, 2, 2, 0, 0, 2, 2, 1, 0, 0, 0, 1,\n",
       "       0, 0, 1, 1, 2, 0, 1, 1, 1, 1, 0, 2], dtype=int64)"
      ]
     },
     "execution_count": 48,
     "metadata": {},
     "output_type": "execute_result"
    }
   ],
   "source": [
    "distance_matrix.argmin(axis=1)"
   ]
  },
  {
   "cell_type": "code",
   "execution_count": 49,
   "metadata": {},
   "outputs": [],
   "source": [
    "c1=data[distance_matrix.argmin(axis=1)==0]\n",
    "c2=data[distance_matrix.argmin(axis=1)==1]\n",
    "c3=data[distance_matrix.argmin(axis=1)==2]"
   ]
  },
  {
   "cell_type": "code",
   "execution_count": 61,
   "metadata": {},
   "outputs": [
    {
     "data": {
      "text/plain": [
       "(array([588.70967742, 525.80645161, 773.83870968, 550.4516129 ,\n",
       "        424.83870968]),\n",
       " array([791.20588235, 506.52941176, 363.64705882, 394.88235294,\n",
       "        456.14705882]),\n",
       " array([293.14285714, 530.2       , 505.82857143, 403.94285714,\n",
       "        619.85714286]))"
      ]
     },
     "execution_count": 61,
     "metadata": {},
     "output_type": "execute_result"
    }
   ],
   "source": [
    "c1.mean(axis=0),c2.mean(axis=0),c3.mean(axis=0)"
   ]
  },
  {
   "cell_type": "code",
   "execution_count": 56,
   "metadata": {},
   "outputs": [
    {
     "data": {
      "text/plain": [
       "(31, 34, 35)"
      ]
     },
     "execution_count": 56,
     "metadata": {},
     "output_type": "execute_result"
    }
   ],
   "source": [
    "len(c1),len(c2),len(c3)"
   ]
  },
  {
   "cell_type": "code",
   "execution_count": 62,
   "metadata": {},
   "outputs": [],
   "source": [
    "r1=c1.mean(axis=0)\n",
    "r2=c2.mean(axis=0)\n",
    "r3=c3.mean(axis=0)"
   ]
  },
  {
   "cell_type": "code",
   "execution_count": 63,
   "metadata": {},
   "outputs": [],
   "source": [
    "d1=np.sqrt(((data-r1)*(data-r1)).sum(axis=1))\n",
    "d2=np.sqrt(((data-r2)*(data-r2)).sum(axis=1))\n",
    "d3=np.sqrt(((data-r3)*(data-r3)).sum(axis=1))"
   ]
  },
  {
   "cell_type": "code",
   "execution_count": 64,
   "metadata": {},
   "outputs": [],
   "source": [
    "distance_matrix=np.array(list(zip(d1,d2,d3)))"
   ]
  },
  {
   "cell_type": "code",
   "execution_count": 65,
   "metadata": {},
   "outputs": [],
   "source": [
    "c1=data[distance_matrix.argmin(axis=1)==0]\n",
    "c2=data[distance_matrix.argmin(axis=1)==1]\n",
    "c3=data[distance_matrix.argmin(axis=1)==2]"
   ]
  },
  {
   "cell_type": "code",
   "execution_count": 66,
   "metadata": {},
   "outputs": [
    {
     "data": {
      "text/plain": [
       "(array([582.6       , 604.65714286, 802.        , 574.62857143,\n",
       "        438.42857143]),\n",
       " array([777.84848485, 509.84848485, 336.96969697, 409.27272727,\n",
       "        472.15151515]),\n",
       " array([292.21875, 440.34375, 464.59375, 344.0625 , 607.75   ]))"
      ]
     },
     "execution_count": 66,
     "metadata": {},
     "output_type": "execute_result"
    }
   ],
   "source": [
    "c1.mean(axis=0),c2.mean(axis=0),c3.mean(axis=0)"
   ]
  },
  {
   "cell_type": "code",
   "execution_count": 67,
   "metadata": {},
   "outputs": [],
   "source": [
    "r1=c1.mean(axis=0)\n",
    "r2=c2.mean(axis=0)\n",
    "r3=c3.mean(axis=0)"
   ]
  },
  {
   "cell_type": "code",
   "execution_count": 68,
   "metadata": {},
   "outputs": [],
   "source": [
    "d1=np.sqrt(((data-r1)*(data-r1)).sum(axis=1))\n",
    "d2=np.sqrt(((data-r2)*(data-r2)).sum(axis=1))\n",
    "d3=np.sqrt(((data-r3)*(data-r3)).sum(axis=1))"
   ]
  },
  {
   "cell_type": "code",
   "execution_count": 69,
   "metadata": {},
   "outputs": [],
   "source": [
    "distance_matrix=np.array(list(zip(d1,d2,d3)))"
   ]
  },
  {
   "cell_type": "code",
   "execution_count": 70,
   "metadata": {},
   "outputs": [],
   "source": [
    "c1=data[distance_matrix.argmin(axis=1)==0]\n",
    "c2=data[distance_matrix.argmin(axis=1)==1]\n",
    "c3=data[distance_matrix.argmin(axis=1)==2]"
   ]
  },
  {
   "cell_type": "code",
   "execution_count": 71,
   "metadata": {},
   "outputs": [
    {
     "data": {
      "text/plain": [
       "(array([591.48717949, 619.64102564, 789.43589744, 576.82051282,\n",
       "        459.25641026]),\n",
       " array([764.2       , 499.53333333, 304.4       , 411.03333333,\n",
       "        450.26666667]),\n",
       " array([303.77419355, 417.        , 456.03225806, 316.16129032,\n",
       "        611.4516129 ]))"
      ]
     },
     "execution_count": 71,
     "metadata": {},
     "output_type": "execute_result"
    }
   ],
   "source": [
    "c1.mean(axis=0),c2.mean(axis=0),c3.mean(axis=0)"
   ]
  },
  {
   "cell_type": "code",
   "execution_count": 72,
   "metadata": {},
   "outputs": [],
   "source": [
    "r1=c1.mean(axis=0)\n",
    "r2=c2.mean(axis=0)\n",
    "r3=c3.mean(axis=0)"
   ]
  },
  {
   "cell_type": "code",
   "execution_count": 73,
   "metadata": {},
   "outputs": [],
   "source": [
    "d1=np.sqrt(((data-r1)*(data-r1)).sum(axis=1))\n",
    "d2=np.sqrt(((data-r2)*(data-r2)).sum(axis=1))\n",
    "d3=np.sqrt(((data-r3)*(data-r3)).sum(axis=1))"
   ]
  },
  {
   "cell_type": "code",
   "execution_count": 74,
   "metadata": {},
   "outputs": [],
   "source": [
    "distance_matrix=np.array(list(zip(d1,d2,d3)))"
   ]
  },
  {
   "cell_type": "code",
   "execution_count": 75,
   "metadata": {},
   "outputs": [],
   "source": [
    "c1=data[distance_matrix.argmin(axis=1)==0]\n",
    "c2=data[distance_matrix.argmin(axis=1)==1]\n",
    "c3=data[distance_matrix.argmin(axis=1)==2]"
   ]
  },
  {
   "cell_type": "code",
   "execution_count": 76,
   "metadata": {},
   "outputs": [
    {
     "data": {
      "text/plain": [
       "(array([605.02564103, 638.61538462, 783.05128205, 576.56410256,\n",
       "        476.87179487]),\n",
       " array([748.43333333, 496.63333333, 287.76666667, 425.63333333,\n",
       "        448.4       ]),\n",
       " array([302.        , 395.93548387, 480.16129032, 302.35483871,\n",
       "        591.09677419]))"
      ]
     },
     "execution_count": 76,
     "metadata": {},
     "output_type": "execute_result"
    }
   ],
   "source": [
    "c1.mean(axis=0),c2.mean(axis=0),c3.mean(axis=0)"
   ]
  },
  {
   "cell_type": "code",
   "execution_count": 77,
   "metadata": {},
   "outputs": [],
   "source": [
    "r1=c1.mean(axis=0)\n",
    "r2=c2.mean(axis=0)\n",
    "r3=c3.mean(axis=0)"
   ]
  },
  {
   "cell_type": "code",
   "execution_count": 78,
   "metadata": {},
   "outputs": [],
   "source": [
    "d1=np.sqrt(((data-r1)*(data-r1)).sum(axis=1))\n",
    "d2=np.sqrt(((data-r2)*(data-r2)).sum(axis=1))\n",
    "d3=np.sqrt(((data-r3)*(data-r3)).sum(axis=1))"
   ]
  },
  {
   "cell_type": "code",
   "execution_count": 79,
   "metadata": {},
   "outputs": [],
   "source": [
    "distance_matrix=np.array(list(zip(d1,d2,d3)))"
   ]
  },
  {
   "cell_type": "code",
   "execution_count": 80,
   "metadata": {},
   "outputs": [],
   "source": [
    "c1=data[distance_matrix.argmin(axis=1)==0]\n",
    "c2=data[distance_matrix.argmin(axis=1)==1]\n",
    "c3=data[distance_matrix.argmin(axis=1)==2]"
   ]
  },
  {
   "cell_type": "code",
   "execution_count": 81,
   "metadata": {},
   "outputs": [
    {
     "data": {
      "text/plain": [
       "(array([608.36842105, 655.26315789, 778.34210526, 587.07894737,\n",
       "        492.10526316]),\n",
       " array([748.43333333, 496.63333333, 287.76666667, 425.63333333,\n",
       "        448.4       ]),\n",
       " array([307.5    , 383.75   , 495.21875, 298.4375 , 569.4375 ]))"
      ]
     },
     "execution_count": 81,
     "metadata": {},
     "output_type": "execute_result"
    }
   ],
   "source": [
    "c1.mean(axis=0),c2.mean(axis=0),c3.mean(axis=0)"
   ]
  },
  {
   "cell_type": "code",
   "execution_count": 82,
   "metadata": {},
   "outputs": [],
   "source": [
    "r1=c1.mean(axis=0)\n",
    "r2=c2.mean(axis=0)\n",
    "r3=c3.mean(axis=0)"
   ]
  },
  {
   "cell_type": "code",
   "execution_count": 83,
   "metadata": {},
   "outputs": [],
   "source": [
    "d1=np.sqrt(((data-r1)*(data-r1)).sum(axis=1))\n",
    "d2=np.sqrt(((data-r2)*(data-r2)).sum(axis=1))\n",
    "d3=np.sqrt(((data-r3)*(data-r3)).sum(axis=1))"
   ]
  },
  {
   "cell_type": "code",
   "execution_count": 84,
   "metadata": {},
   "outputs": [],
   "source": [
    "distance_matrix=np.array(list(zip(d1,d2,d3)))"
   ]
  },
  {
   "cell_type": "code",
   "execution_count": 85,
   "metadata": {},
   "outputs": [],
   "source": [
    "c1=data[distance_matrix.argmin(axis=1)==0]\n",
    "c2=data[distance_matrix.argmin(axis=1)==1]\n",
    "c3=data[distance_matrix.argmin(axis=1)==2]"
   ]
  },
  {
   "cell_type": "code",
   "execution_count": 86,
   "metadata": {},
   "outputs": [
    {
     "data": {
      "text/plain": [
       "(array([610.40540541, 669.24324324, 772.45945946, 597.16216216,\n",
       "        495.75675676]),\n",
       " array([748.43333333, 496.63333333, 287.76666667, 425.63333333,\n",
       "        448.4       ]),\n",
       " array([314.33333333, 376.3030303 , 510.39393939, 295.87878788,\n",
       "        563.        ]))"
      ]
     },
     "execution_count": 86,
     "metadata": {},
     "output_type": "execute_result"
    }
   ],
   "source": [
    "c1.mean(axis=0),c2.mean(axis=0),c3.mean(axis=0)"
   ]
  },
  {
   "cell_type": "code",
   "execution_count": 87,
   "metadata": {},
   "outputs": [],
   "source": [
    "r1=c1.mean(axis=0)\n",
    "r2=c2.mean(axis=0)\n",
    "r3=c3.mean(axis=0)"
   ]
  },
  {
   "cell_type": "code",
   "execution_count": 88,
   "metadata": {},
   "outputs": [],
   "source": [
    "d1=np.sqrt(((data-r1)*(data-r1)).sum(axis=1))\n",
    "d2=np.sqrt(((data-r2)*(data-r2)).sum(axis=1))\n",
    "d3=np.sqrt(((data-r3)*(data-r3)).sum(axis=1))"
   ]
  },
  {
   "cell_type": "code",
   "execution_count": 89,
   "metadata": {},
   "outputs": [],
   "source": [
    "distance_matrix=np.array(list(zip(d1,d2,d3)))"
   ]
  },
  {
   "cell_type": "code",
   "execution_count": 90,
   "metadata": {},
   "outputs": [],
   "source": [
    "c1=data[distance_matrix.argmin(axis=1)==0]\n",
    "c2=data[distance_matrix.argmin(axis=1)==1]\n",
    "c3=data[distance_matrix.argmin(axis=1)==2]"
   ]
  },
  {
   "cell_type": "code",
   "execution_count": 91,
   "metadata": {},
   "outputs": [
    {
     "data": {
      "text/plain": [
       "(array([609.78947368, 677.84210526, 757.02631579, 607.44736842,\n",
       "        496.94736842]),\n",
       " array([754.        , 479.4137931 , 291.27586207, 406.24137931,\n",
       "        445.20689655]),\n",
       " array([314.33333333, 376.3030303 , 510.39393939, 295.87878788,\n",
       "        563.        ]))"
      ]
     },
     "execution_count": 91,
     "metadata": {},
     "output_type": "execute_result"
    }
   ],
   "source": [
    "c1.mean(axis=0),c2.mean(axis=0),c3.mean(axis=0)"
   ]
  },
  {
   "cell_type": "code",
   "execution_count": 92,
   "metadata": {},
   "outputs": [],
   "source": [
    "r1=c1.mean(axis=0)\n",
    "r2=c2.mean(axis=0)\n",
    "r3=c3.mean(axis=0)"
   ]
  },
  {
   "cell_type": "code",
   "execution_count": 93,
   "metadata": {},
   "outputs": [],
   "source": [
    "d1=np.sqrt(((data-r1)*(data-r1)).sum(axis=1))\n",
    "d2=np.sqrt(((data-r2)*(data-r2)).sum(axis=1))\n",
    "d3=np.sqrt(((data-r3)*(data-r3)).sum(axis=1))"
   ]
  },
  {
   "cell_type": "code",
   "execution_count": 94,
   "metadata": {},
   "outputs": [],
   "source": [
    "distance_matrix=np.array(list(zip(d1,d2,d3)))"
   ]
  },
  {
   "cell_type": "code",
   "execution_count": 95,
   "metadata": {},
   "outputs": [],
   "source": [
    "c1=data[distance_matrix.argmin(axis=1)==0]\n",
    "c2=data[distance_matrix.argmin(axis=1)==1]\n",
    "c3=data[distance_matrix.argmin(axis=1)==2]"
   ]
  },
  {
   "cell_type": "code",
   "execution_count": 96,
   "metadata": {},
   "outputs": [
    {
     "data": {
      "text/plain": [
       "(array([621.26315789, 687.31578947, 747.39473684, 620.52631579,\n",
       "        487.92105263]),\n",
       " array([745.96428571, 464.03571429, 287.96428571, 391.57142857,\n",
       "        443.85714286]),\n",
       " array([321.05882353, 381.41176471, 517.44117647, 296.58823529,\n",
       "        570.73529412]))"
      ]
     },
     "execution_count": 96,
     "metadata": {},
     "output_type": "execute_result"
    }
   ],
   "source": [
    "c1.mean(axis=0),c2.mean(axis=0),c3.mean(axis=0)"
   ]
  }
 ],
 "metadata": {
  "kernelspec": {
   "display_name": "Python 3",
   "language": "python",
   "name": "python3"
  },
  "language_info": {
   "codemirror_mode": {
    "name": "ipython",
    "version": 3
   },
   "file_extension": ".py",
   "mimetype": "text/x-python",
   "name": "python",
   "nbconvert_exporter": "python",
   "pygments_lexer": "ipython3",
   "version": "3.7.3"
  }
 },
 "nbformat": 4,
 "nbformat_minor": 2
}
