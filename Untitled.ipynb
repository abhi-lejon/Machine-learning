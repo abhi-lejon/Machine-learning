{
 "cells": [
  {
   "cell_type": "code",
   "execution_count": 205,
   "metadata": {
    "ExecuteTime": {
     "end_time": "2020-08-25T10:27:37.502786Z",
     "start_time": "2020-08-25T10:27:37.493809Z"
    }
   },
   "outputs": [],
   "source": [
    "import pandas as pd\n",
    "import numpy as np\n",
    "import seaborn as sns\n",
    "import matplotlib.pyplot as plt\n",
    "import warnings\n",
    "warnings.simplefilter('ignore')\n",
    "pd.pandas.set_option('display.max_columns',None)"
   ]
  },
  {
   "cell_type": "code",
   "execution_count": 206,
   "metadata": {
    "ExecuteTime": {
     "end_time": "2020-08-25T10:27:37.983504Z",
     "start_time": "2020-08-25T10:27:37.904711Z"
    }
   },
   "outputs": [],
   "source": [
    "train=pd.read_csv(r\"D:\\Users\\abhisv\\Documents\\Participants_Data\\Train.csv\")\n",
    "test=pd.read_csv(r\"D:\\Users\\abhisv\\Documents\\Participants_Data\\Test.csv\")"
   ]
  },
  {
   "cell_type": "code",
   "execution_count": 207,
   "metadata": {
    "ExecuteTime": {
     "end_time": "2020-08-25T10:27:38.418338Z",
     "start_time": "2020-08-25T10:27:38.405374Z"
    }
   },
   "outputs": [
    {
     "data": {
      "text/plain": [
       "((12666, 7), (29555, 6))"
      ]
     },
     "execution_count": 207,
     "metadata": {},
     "output_type": "execute_result"
    }
   ],
   "source": [
    "train.shape,test.shape"
   ]
  },
  {
   "cell_type": "code",
   "execution_count": 208,
   "metadata": {
    "ExecuteTime": {
     "end_time": "2020-08-25T10:27:38.827244Z",
     "start_time": "2020-08-25T10:27:38.810291Z"
    }
   },
   "outputs": [
    {
     "data": {
      "text/html": [
       "<div>\n",
       "<style scoped>\n",
       "    .dataframe tbody tr th:only-of-type {\n",
       "        vertical-align: middle;\n",
       "    }\n",
       "\n",
       "    .dataframe tbody tr th {\n",
       "        vertical-align: top;\n",
       "    }\n",
       "\n",
       "    .dataframe thead th {\n",
       "        text-align: right;\n",
       "    }\n",
       "</style>\n",
       "<table border=\"1\" class=\"dataframe\">\n",
       "  <thead>\n",
       "    <tr style=\"text-align: right;\">\n",
       "      <th></th>\n",
       "      <th>Area_Code</th>\n",
       "      <th>Locality_Code</th>\n",
       "      <th>Region_Code</th>\n",
       "      <th>Height</th>\n",
       "      <th>Diameter</th>\n",
       "      <th>Class</th>\n",
       "      <th>Species</th>\n",
       "    </tr>\n",
       "  </thead>\n",
       "  <tbody>\n",
       "    <tr>\n",
       "      <th>0</th>\n",
       "      <td>4694</td>\n",
       "      <td>17</td>\n",
       "      <td>1609</td>\n",
       "      <td>3.0</td>\n",
       "      <td>5.0</td>\n",
       "      <td>7</td>\n",
       "      <td>48</td>\n",
       "    </tr>\n",
       "    <tr>\n",
       "      <th>1</th>\n",
       "      <td>781</td>\n",
       "      <td>7</td>\n",
       "      <td>1380</td>\n",
       "      <td>4.0</td>\n",
       "      <td>17.0</td>\n",
       "      <td>2</td>\n",
       "      <td>54</td>\n",
       "    </tr>\n",
       "  </tbody>\n",
       "</table>\n",
       "</div>"
      ],
      "text/plain": [
       "   Area_Code  Locality_Code  Region_Code  Height  Diameter  Class  Species\n",
       "0       4694             17         1609     3.0       5.0      7       48\n",
       "1        781              7         1380     4.0      17.0      2       54"
      ]
     },
     "execution_count": 208,
     "metadata": {},
     "output_type": "execute_result"
    }
   ],
   "source": [
    "train.head(2)"
   ]
  },
  {
   "cell_type": "code",
   "execution_count": 209,
   "metadata": {
    "ExecuteTime": {
     "end_time": "2020-08-25T10:27:39.223186Z",
     "start_time": "2020-08-25T10:27:39.216204Z"
    }
   },
   "outputs": [],
   "source": [
    "def nulltreat(train):\n",
    "    nullvaluetable=train.isna().sum()/train.shape[0]*100\n",
    "    print('The total columns are',len(nullvaluetable))\n",
    "    print('The columns are ',nullvaluetable)\n",
    "    drop_cols=nullvaluetable[nullvaluetable>30].index\n",
    "    print('The columns to be dropped are',len(drop_cols))\n",
    "    print('The columns to be dropped are:',drop_cols)\n",
    "    retained_cols=nullvaluetable[nullvaluetable<30].index\n",
    "    print('The columns to be retained are',retained_cols)\n",
    "    numerical=[feature for feature in train if train[feature].dtypes!='O']\n",
    "    print('The numerical columns are', numerical)\n",
    "    categorical=[feature for feature in train if train[feature].dtypes=='O']\n",
    "    print('The categorical columns are',categorical)\n",
    "    #Lets check the discrete and continous variables in numerical\n",
    "    numerical_continous=[feature for feature in numerical if len(train[feature].unique())>25]\n",
    "    print('The numerical_continous columns are',numerical_continous)\n",
    "    numerical_discrete=[feature for feature in numerical if len(train[feature].unique())<25]\n",
    "    print('The numerical_discrete columns are',numerical_discrete)\n",
    "    return drop_cols,retained_cols,numerical,categorical,numerical_continous,numerical_discrete"
   ]
  },
  {
   "cell_type": "code",
   "execution_count": 210,
   "metadata": {
    "ExecuteTime": {
     "end_time": "2020-08-25T10:27:39.513416Z",
     "start_time": "2020-08-25T10:27:39.489474Z"
    }
   },
   "outputs": [
    {
     "name": "stdout",
     "output_type": "stream",
     "text": [
      "The total columns are 7\n",
      "The columns are  Area_Code        0.0\n",
      "Locality_Code    0.0\n",
      "Region_Code      0.0\n",
      "Height           0.0\n",
      "Diameter         0.0\n",
      "Class            0.0\n",
      "Species          0.0\n",
      "dtype: float64\n",
      "The columns to be dropped are 0\n",
      "The columns to be dropped are: Index([], dtype='object')\n",
      "The columns to be retained are Index(['Area_Code', 'Locality_Code', 'Region_Code', 'Height', 'Diameter',\n",
      "       'Class', 'Species'],\n",
      "      dtype='object')\n",
      "The numerical columns are ['Area_Code', 'Locality_Code', 'Region_Code', 'Height', 'Diameter', 'Class', 'Species']\n",
      "The categorical columns are []\n",
      "The numerical_continous columns are ['Area_Code', 'Region_Code', 'Height', 'Diameter', 'Species']\n",
      "The numerical_discrete columns are ['Locality_Code', 'Class']\n"
     ]
    }
   ],
   "source": [
    "drop_cols,retained_cols,numerical,categorical,numerical_continous,numerical_discrete=nulltreat(train)"
   ]
  },
  {
   "cell_type": "code",
   "execution_count": 211,
   "metadata": {
    "ExecuteTime": {
     "end_time": "2020-08-25T10:27:39.832559Z",
     "start_time": "2020-08-25T10:27:39.813608Z"
    }
   },
   "outputs": [
    {
     "name": "stdout",
     "output_type": "stream",
     "text": [
      "Area_Code 10122\n",
      "Locality_Code 21\n",
      "Region_Code 1870\n",
      "Height 92\n",
      "Diameter 132\n",
      "Class 8\n",
      "Species 222\n"
     ]
    }
   ],
   "source": [
    "for feature in train:\n",
    "    data=train.copy()\n",
    "    print(feature,data[feature].nunique())"
   ]
  },
  {
   "cell_type": "code",
   "execution_count": 212,
   "metadata": {
    "ExecuteTime": {
     "end_time": "2020-08-25T10:27:40.081890Z",
     "start_time": "2020-08-25T10:27:40.063939Z"
    }
   },
   "outputs": [
    {
     "data": {
      "text/html": [
       "<div>\n",
       "<style scoped>\n",
       "    .dataframe tbody tr th:only-of-type {\n",
       "        vertical-align: middle;\n",
       "    }\n",
       "\n",
       "    .dataframe tbody tr th {\n",
       "        vertical-align: top;\n",
       "    }\n",
       "\n",
       "    .dataframe thead th {\n",
       "        text-align: right;\n",
       "    }\n",
       "</style>\n",
       "<table border=\"1\" class=\"dataframe\">\n",
       "  <thead>\n",
       "    <tr style=\"text-align: right;\">\n",
       "      <th></th>\n",
       "      <th>Area_Code</th>\n",
       "      <th>Locality_Code</th>\n",
       "      <th>Region_Code</th>\n",
       "      <th>Height</th>\n",
       "      <th>Diameter</th>\n",
       "      <th>Class</th>\n",
       "      <th>Species</th>\n",
       "    </tr>\n",
       "  </thead>\n",
       "  <tbody>\n",
       "    <tr>\n",
       "      <th>0</th>\n",
       "      <td>4694</td>\n",
       "      <td>17</td>\n",
       "      <td>1609</td>\n",
       "      <td>3.0</td>\n",
       "      <td>5.0</td>\n",
       "      <td>7</td>\n",
       "      <td>48</td>\n",
       "    </tr>\n",
       "    <tr>\n",
       "      <th>1</th>\n",
       "      <td>781</td>\n",
       "      <td>7</td>\n",
       "      <td>1380</td>\n",
       "      <td>4.0</td>\n",
       "      <td>17.0</td>\n",
       "      <td>2</td>\n",
       "      <td>54</td>\n",
       "    </tr>\n",
       "  </tbody>\n",
       "</table>\n",
       "</div>"
      ],
      "text/plain": [
       "   Area_Code  Locality_Code  Region_Code  Height  Diameter  Class  Species\n",
       "0       4694             17         1609     3.0       5.0      7       48\n",
       "1        781              7         1380     4.0      17.0      2       54"
      ]
     },
     "execution_count": 212,
     "metadata": {},
     "output_type": "execute_result"
    }
   ],
   "source": [
    "train.head(2)"
   ]
  },
  {
   "cell_type": "code",
   "execution_count": 213,
   "metadata": {
    "ExecuteTime": {
     "end_time": "2020-08-25T10:27:40.541662Z",
     "start_time": "2020-08-25T10:27:40.410013Z"
    }
   },
   "outputs": [
    {
     "data": {
      "text/html": [
       "<div>\n",
       "<style scoped>\n",
       "    .dataframe tbody tr th:only-of-type {\n",
       "        vertical-align: middle;\n",
       "    }\n",
       "\n",
       "    .dataframe tbody tr th {\n",
       "        vertical-align: top;\n",
       "    }\n",
       "\n",
       "    .dataframe thead th {\n",
       "        text-align: right;\n",
       "    }\n",
       "</style>\n",
       "<table border=\"1\" class=\"dataframe\">\n",
       "  <thead>\n",
       "    <tr style=\"text-align: right;\">\n",
       "      <th></th>\n",
       "      <th>Area_Code</th>\n",
       "      <th>Locality_Code</th>\n",
       "      <th>Region_Code</th>\n",
       "      <th>Height</th>\n",
       "      <th>Diameter</th>\n",
       "      <th>Class</th>\n",
       "      <th>Species</th>\n",
       "    </tr>\n",
       "  </thead>\n",
       "  <tbody>\n",
       "    <tr>\n",
       "      <th>Area_Code</th>\n",
       "      <td>1.000000</td>\n",
       "      <td>-0.021825</td>\n",
       "      <td>0.004083</td>\n",
       "      <td>0.068352</td>\n",
       "      <td>0.071105</td>\n",
       "      <td>0.009331</td>\n",
       "      <td>-0.020675</td>\n",
       "    </tr>\n",
       "    <tr>\n",
       "      <th>Locality_Code</th>\n",
       "      <td>-0.021825</td>\n",
       "      <td>1.000000</td>\n",
       "      <td>0.077826</td>\n",
       "      <td>0.026532</td>\n",
       "      <td>0.039682</td>\n",
       "      <td>-0.040826</td>\n",
       "      <td>0.010616</td>\n",
       "    </tr>\n",
       "    <tr>\n",
       "      <th>Region_Code</th>\n",
       "      <td>0.004083</td>\n",
       "      <td>0.077826</td>\n",
       "      <td>1.000000</td>\n",
       "      <td>-0.007447</td>\n",
       "      <td>0.019510</td>\n",
       "      <td>0.008012</td>\n",
       "      <td>-0.009921</td>\n",
       "    </tr>\n",
       "    <tr>\n",
       "      <th>Height</th>\n",
       "      <td>0.068352</td>\n",
       "      <td>0.026532</td>\n",
       "      <td>-0.007447</td>\n",
       "      <td>1.000000</td>\n",
       "      <td>0.732924</td>\n",
       "      <td>0.153545</td>\n",
       "      <td>-0.151009</td>\n",
       "    </tr>\n",
       "    <tr>\n",
       "      <th>Diameter</th>\n",
       "      <td>0.071105</td>\n",
       "      <td>0.039682</td>\n",
       "      <td>0.019510</td>\n",
       "      <td>0.732924</td>\n",
       "      <td>1.000000</td>\n",
       "      <td>0.174234</td>\n",
       "      <td>-0.056560</td>\n",
       "    </tr>\n",
       "    <tr>\n",
       "      <th>Class</th>\n",
       "      <td>0.009331</td>\n",
       "      <td>-0.040826</td>\n",
       "      <td>0.008012</td>\n",
       "      <td>0.153545</td>\n",
       "      <td>0.174234</td>\n",
       "      <td>1.000000</td>\n",
       "      <td>-0.132955</td>\n",
       "    </tr>\n",
       "    <tr>\n",
       "      <th>Species</th>\n",
       "      <td>-0.020675</td>\n",
       "      <td>0.010616</td>\n",
       "      <td>-0.009921</td>\n",
       "      <td>-0.151009</td>\n",
       "      <td>-0.056560</td>\n",
       "      <td>-0.132955</td>\n",
       "      <td>1.000000</td>\n",
       "    </tr>\n",
       "  </tbody>\n",
       "</table>\n",
       "</div>"
      ],
      "text/plain": [
       "               Area_Code  Locality_Code  Region_Code    Height  Diameter  \\\n",
       "Area_Code       1.000000      -0.021825     0.004083  0.068352  0.071105   \n",
       "Locality_Code  -0.021825       1.000000     0.077826  0.026532  0.039682   \n",
       "Region_Code     0.004083       0.077826     1.000000 -0.007447  0.019510   \n",
       "Height          0.068352       0.026532    -0.007447  1.000000  0.732924   \n",
       "Diameter        0.071105       0.039682     0.019510  0.732924  1.000000   \n",
       "Class           0.009331      -0.040826     0.008012  0.153545  0.174234   \n",
       "Species        -0.020675       0.010616    -0.009921 -0.151009 -0.056560   \n",
       "\n",
       "                  Class   Species  \n",
       "Area_Code      0.009331 -0.020675  \n",
       "Locality_Code -0.040826  0.010616  \n",
       "Region_Code    0.008012 -0.009921  \n",
       "Height         0.153545 -0.151009  \n",
       "Diameter       0.174234 -0.056560  \n",
       "Class          1.000000 -0.132955  \n",
       "Species       -0.132955  1.000000  "
      ]
     },
     "execution_count": 213,
     "metadata": {},
     "output_type": "execute_result"
    }
   ],
   "source": [
    "train.corr(method='spearman')"
   ]
  },
  {
   "cell_type": "code",
   "execution_count": 214,
   "metadata": {
    "ExecuteTime": {
     "end_time": "2020-08-25T10:27:40.885743Z",
     "start_time": "2020-08-25T10:27:40.879758Z"
    }
   },
   "outputs": [],
   "source": [
    "y=pd.DataFrame(train.iloc[:,5])\n",
    "train.drop(['Class'],axis=1,inplace=True)"
   ]
  },
  {
   "cell_type": "code",
   "execution_count": 215,
   "metadata": {
    "ExecuteTime": {
     "end_time": "2020-08-25T10:27:41.194915Z",
     "start_time": "2020-08-25T10:27:41.188931Z"
    }
   },
   "outputs": [],
   "source": [
    "x=train"
   ]
  },
  {
   "cell_type": "code",
   "execution_count": 216,
   "metadata": {
    "ExecuteTime": {
     "end_time": "2020-08-25T10:27:41.532013Z",
     "start_time": "2020-08-25T10:27:41.519048Z"
    }
   },
   "outputs": [
    {
     "data": {
      "text/html": [
       "<div>\n",
       "<style scoped>\n",
       "    .dataframe tbody tr th:only-of-type {\n",
       "        vertical-align: middle;\n",
       "    }\n",
       "\n",
       "    .dataframe tbody tr th {\n",
       "        vertical-align: top;\n",
       "    }\n",
       "\n",
       "    .dataframe thead th {\n",
       "        text-align: right;\n",
       "    }\n",
       "</style>\n",
       "<table border=\"1\" class=\"dataframe\">\n",
       "  <thead>\n",
       "    <tr style=\"text-align: right;\">\n",
       "      <th></th>\n",
       "      <th>Area_Code</th>\n",
       "      <th>Locality_Code</th>\n",
       "      <th>Region_Code</th>\n",
       "      <th>Height</th>\n",
       "      <th>Diameter</th>\n",
       "      <th>Species</th>\n",
       "    </tr>\n",
       "  </thead>\n",
       "  <tbody>\n",
       "    <tr>\n",
       "      <th>0</th>\n",
       "      <td>4694</td>\n",
       "      <td>17</td>\n",
       "      <td>1609</td>\n",
       "      <td>3.0</td>\n",
       "      <td>5.0</td>\n",
       "      <td>48</td>\n",
       "    </tr>\n",
       "    <tr>\n",
       "      <th>1</th>\n",
       "      <td>781</td>\n",
       "      <td>7</td>\n",
       "      <td>1380</td>\n",
       "      <td>4.0</td>\n",
       "      <td>17.0</td>\n",
       "      <td>54</td>\n",
       "    </tr>\n",
       "    <tr>\n",
       "      <th>2</th>\n",
       "      <td>21014</td>\n",
       "      <td>6</td>\n",
       "      <td>1122</td>\n",
       "      <td>3.0</td>\n",
       "      <td>11.0</td>\n",
       "      <td>22</td>\n",
       "    </tr>\n",
       "  </tbody>\n",
       "</table>\n",
       "</div>"
      ],
      "text/plain": [
       "   Area_Code  Locality_Code  Region_Code  Height  Diameter  Species\n",
       "0       4694             17         1609     3.0       5.0       48\n",
       "1        781              7         1380     4.0      17.0       54\n",
       "2      21014              6         1122     3.0      11.0       22"
      ]
     },
     "execution_count": 216,
     "metadata": {},
     "output_type": "execute_result"
    }
   ],
   "source": [
    "x.head(3)"
   ]
  },
  {
   "cell_type": "markdown",
   "metadata": {
    "ExecuteTime": {
     "end_time": "2020-08-25T10:27:41.840141Z",
     "start_time": "2020-08-25T10:27:41.807278Z"
    }
   },
   "source": [
    "#Diameter\n",
    "Height\n",
    "Species\n",
    "Area_Code"
   ]
  },
  {
   "cell_type": "code",
   "execution_count": 220,
   "metadata": {
    "ExecuteTime": {
     "end_time": "2020-08-25T10:28:00.591832Z",
     "start_time": "2020-08-25T10:28:00.584852Z"
    }
   },
   "outputs": [],
   "source": [
    "x=x[['Diameter','Height','Species','Area_Code']]"
   ]
  },
  {
   "cell_type": "code",
   "execution_count": 221,
   "metadata": {
    "ExecuteTime": {
     "end_time": "2020-08-25T10:28:02.452190Z",
     "start_time": "2020-08-25T10:28:02.449196Z"
    }
   },
   "outputs": [],
   "source": [
    "#No outliers treatment required, will do scaling."
   ]
  },
  {
   "cell_type": "code",
   "execution_count": 222,
   "metadata": {
    "ExecuteTime": {
     "end_time": "2020-08-25T10:28:03.068902Z",
     "start_time": "2020-08-25T10:28:03.064917Z"
    }
   },
   "outputs": [],
   "source": [
    "##from sklearn.preprocessing import StandardScaler\n",
    "##ss=StandardScaler()\n",
    "##x=pd.DataFrame(ss.fit_transform(x),columns=x.columns)"
   ]
  },
  {
   "cell_type": "code",
   "execution_count": 223,
   "metadata": {
    "ExecuteTime": {
     "end_time": "2020-08-25T10:28:04.572584Z",
     "start_time": "2020-08-25T10:28:04.561614Z"
    }
   },
   "outputs": [],
   "source": [
    "from sklearn.preprocessing import MinMaxScaler\n",
    "mms=MinMaxScaler(feature_range=(0, 1))\n",
    "x=pd.DataFrame(mms.fit_transform(x),columns=x.columns)"
   ]
  },
  {
   "cell_type": "code",
   "execution_count": 224,
   "metadata": {
    "ExecuteTime": {
     "end_time": "2020-08-25T10:28:06.236655Z",
     "start_time": "2020-08-25T10:28:06.226679Z"
    }
   },
   "outputs": [],
   "source": [
    "from sklearn.model_selection import train_test_split\n",
    "x_train,x_test,y_train,y_test=train_test_split(x,y,test_size=0.25,random_state=0)"
   ]
  },
  {
   "cell_type": "code",
   "execution_count": 225,
   "metadata": {
    "ExecuteTime": {
     "end_time": "2020-08-25T10:28:07.960625Z",
     "start_time": "2020-08-25T10:28:07.953643Z"
    }
   },
   "outputs": [
    {
     "data": {
      "text/plain": [
       "((9499, 4), (3167, 4), (9499, 1), (3167, 1))"
      ]
     },
     "execution_count": 225,
     "metadata": {},
     "output_type": "execute_result"
    }
   ],
   "source": [
    "x_train.shape,x_test.shape,y_train.shape,y_test.shape"
   ]
  },
  {
   "cell_type": "code",
   "execution_count": 239,
   "metadata": {
    "ExecuteTime": {
     "end_time": "2020-08-25T12:47:56.831083Z",
     "start_time": "2020-08-25T12:47:54.940015Z"
    }
   },
   "outputs": [
    {
     "name": "stdout",
     "output_type": "stream",
     "text": [
      "[0.46540881 0.46929134 0.48973144 0.46993671 0.4548336 ]\n"
     ]
    }
   ],
   "source": [
    "from sklearn.model_selection import cross_val_score,StratifiedKFold\n",
    "accuracy_svc=cross_val_score(clf,x_test,y_test,cv=StratifiedKFold(n_splits=5),scoring='accuracy')\n",
    "print(accuracy_svc)"
   ]
  },
  {
   "cell_type": "code",
   "execution_count": 235,
   "metadata": {
    "ExecuteTime": {
     "end_time": "2020-08-25T11:25:31.188212Z",
     "start_time": "2020-08-25T11:25:26.834702Z"
    }
   },
   "outputs": [
    {
     "data": {
      "text/plain": [
       "SVC(C=1.0, cache_size=200, class_weight=None, coef0=0.0,\n",
       "    decision_function_shape='ovr', degree=3, gamma='auto_deprecated',\n",
       "    kernel='rbf', max_iter=-1, probability=False, random_state=None,\n",
       "    shrinking=True, tol=0.001, verbose=False)"
      ]
     },
     "execution_count": 235,
     "metadata": {},
     "output_type": "execute_result"
    }
   ],
   "source": [
    "from sklearn import svm\n",
    "clf=svm.SVC()\n",
    "clf.fit(x_train,y_train)"
   ]
  },
  {
   "cell_type": "code",
   "execution_count": 236,
   "metadata": {
    "ExecuteTime": {
     "end_time": "2020-08-25T11:25:49.337143Z",
     "start_time": "2020-08-25T11:25:48.291170Z"
    }
   },
   "outputs": [],
   "source": [
    "y_pred_svc=clf.predict(x_test)"
   ]
  },
  {
   "cell_type": "code",
   "execution_count": 237,
   "metadata": {
    "ExecuteTime": {
     "end_time": "2020-08-25T11:25:49.691187Z",
     "start_time": "2020-08-25T11:25:49.683198Z"
    }
   },
   "outputs": [
    {
     "name": "stdout",
     "output_type": "stream",
     "text": [
      "0.5336280391537733\n"
     ]
    }
   ],
   "source": [
    "score=accuracy_score(y_test,y_pred_svc)\n",
    "print(score)"
   ]
  },
  {
   "cell_type": "code",
   "execution_count": null,
   "metadata": {},
   "outputs": [],
   "source": []
  },
  {
   "cell_type": "code",
   "execution_count": null,
   "metadata": {},
   "outputs": [],
   "source": []
  },
  {
   "cell_type": "code",
   "execution_count": null,
   "metadata": {},
   "outputs": [],
   "source": []
  },
  {
   "cell_type": "code",
   "execution_count": null,
   "metadata": {},
   "outputs": [],
   "source": []
  },
  {
   "cell_type": "code",
   "execution_count": null,
   "metadata": {},
   "outputs": [],
   "source": []
  },
  {
   "cell_type": "code",
   "execution_count": null,
   "metadata": {},
   "outputs": [],
   "source": []
  },
  {
   "cell_type": "code",
   "execution_count": null,
   "metadata": {},
   "outputs": [],
   "source": []
  },
  {
   "cell_type": "code",
   "execution_count": 227,
   "metadata": {
    "ExecuteTime": {
     "end_time": "2020-08-25T10:29:03.635319Z",
     "start_time": "2020-08-25T10:29:03.632327Z"
    }
   },
   "outputs": [],
   "source": [
    "##from sklearn.neighbors import KNeighborsClassifier\n",
    "##knc=KNeighborsClassifier()\n",
    "##knc.fit(x_train,y_train)"
   ]
  },
  {
   "cell_type": "code",
   "execution_count": 228,
   "metadata": {
    "ExecuteTime": {
     "end_time": "2020-08-25T10:29:09.493522Z",
     "start_time": "2020-08-25T10:29:09.488569Z"
    }
   },
   "outputs": [],
   "source": [
    "##knc.predict(x_train)"
   ]
  },
  {
   "cell_type": "code",
   "execution_count": 229,
   "metadata": {
    "ExecuteTime": {
     "end_time": "2020-08-25T10:29:12.894838Z",
     "start_time": "2020-08-25T10:29:12.888855Z"
    }
   },
   "outputs": [],
   "source": [
    "##y_pred=knc.predict(x_test)"
   ]
  },
  {
   "cell_type": "code",
   "execution_count": 196,
   "metadata": {
    "ExecuteTime": {
     "end_time": "2020-08-25T10:20:46.781948Z",
     "start_time": "2020-08-25T10:20:46.776963Z"
    }
   },
   "outputs": [],
   "source": [
    "from sklearn.metrics import accuracy_score,confusion_matrix,precision_score,recall_score,f1_score"
   ]
  },
  {
   "cell_type": "code",
   "execution_count": 197,
   "metadata": {
    "ExecuteTime": {
     "end_time": "2020-08-25T10:20:47.481700Z",
     "start_time": "2020-08-25T10:20:47.474717Z"
    }
   },
   "outputs": [
    {
     "name": "stdout",
     "output_type": "stream",
     "text": [
      "0.576255131038838\n"
     ]
    }
   ],
   "source": [
    "score=accuracy_score(y_test,y_pred)\n",
    "print(score)"
   ]
  },
  {
   "cell_type": "code",
   "execution_count": 198,
   "metadata": {
    "ExecuteTime": {
     "end_time": "2020-08-25T10:20:48.294562Z",
     "start_time": "2020-08-25T10:20:48.280634Z"
    }
   },
   "outputs": [
    {
     "name": "stdout",
     "output_type": "stream",
     "text": [
      "[[135   7   7  15   4   0   3  14]\n",
      " [  5 101  81   4   0   0  27  46]\n",
      " [  6  95 288  35   1   0 144  17]\n",
      " [  5   3  38 755   0   0 175   2]\n",
      " [  8   0   0   0   3   0   0   1]\n",
      " [  1   0   0  20   0   0   1   0]\n",
      " [  5  16 170 254   0   0 396   4]\n",
      " [ 13  81  24   1   1   0   8 147]]\n"
     ]
    }
   ],
   "source": [
    "matrix=confusion_matrix(y_test,y_pred)\n",
    "print(matrix)"
   ]
  },
  {
   "cell_type": "code",
   "execution_count": 199,
   "metadata": {
    "ExecuteTime": {
     "end_time": "2020-08-25T10:20:51.622720Z",
     "start_time": "2020-08-25T10:20:49.145352Z"
    }
   },
   "outputs": [
    {
     "data": {
      "text/plain": [
       "SVC(C=1.0, cache_size=200, class_weight=None, coef0=0.0,\n",
       "    decision_function_shape='ovr', degree=3, gamma='auto_deprecated',\n",
       "    kernel='rbf', max_iter=-1, probability=False, random_state=None,\n",
       "    shrinking=True, tol=0.001, verbose=False)"
      ]
     },
     "execution_count": 199,
     "metadata": {},
     "output_type": "execute_result"
    }
   ],
   "source": [
    "from sklearn import svm\n",
    "clf=svm.SVC()\n",
    "clf.fit(x_train,y_train)"
   ]
  },
  {
   "cell_type": "code",
   "execution_count": 200,
   "metadata": {
    "ExecuteTime": {
     "end_time": "2020-08-25T10:20:52.547706Z",
     "start_time": "2020-08-25T10:20:51.901975Z"
    }
   },
   "outputs": [],
   "source": [
    "y_pred_svc=clf.predict(x_test)"
   ]
  },
  {
   "cell_type": "code",
   "execution_count": 201,
   "metadata": {
    "ExecuteTime": {
     "end_time": "2020-08-25T10:20:52.929226Z",
     "start_time": "2020-08-25T10:20:52.911275Z"
    }
   },
   "outputs": [
    {
     "name": "stdout",
     "output_type": "stream",
     "text": [
      "0.5336280391537733\n"
     ]
    }
   ],
   "source": [
    "score=accuracy_score(y_test,y_pred_svc)\n",
    "print(score)"
   ]
  },
  {
   "cell_type": "code",
   "execution_count": 202,
   "metadata": {
    "ExecuteTime": {
     "end_time": "2020-08-25T10:20:54.144598Z",
     "start_time": "2020-08-25T10:20:54.131633Z"
    }
   },
   "outputs": [
    {
     "name": "stdout",
     "output_type": "stream",
     "text": [
      "[[141   0  14  17   0   0   4   9]\n",
      " [  6   0 239   2   0   0  15   2]\n",
      " [  8   0 391  17   0   0 170   0]\n",
      " [  3   0  23 667   0   0 284   1]\n",
      " [ 10   0   2   0   0   0   0   0]\n",
      " [  0   0   0  22   0   0   0   0]\n",
      " [  3   0 172 193   0   0 477   0]\n",
      " [ 13   1 247   0   0   0   0  14]]\n"
     ]
    }
   ],
   "source": [
    "matrix=confusion_matrix(y_test,y_pred_svc)\n",
    "print(matrix)"
   ]
  },
  {
   "cell_type": "code",
   "execution_count": 203,
   "metadata": {
    "ExecuteTime": {
     "end_time": "2020-08-25T10:20:55.438036Z",
     "start_time": "2020-08-25T10:20:55.290431Z"
    }
   },
   "outputs": [
    {
     "name": "stdout",
     "output_type": "stream",
     "text": [
      "0.548489666136725\n"
     ]
    }
   ],
   "source": [
    "from sklearn.model_selection import cross_val_score\n",
    "accuracy_knn=cross_val_score(knc,y_test,y_pred,cv=5,scoring='accuracy').max()\n",
    "print(accuracy_knn)"
   ]
  },
  {
   "cell_type": "code",
   "execution_count": 204,
   "metadata": {
    "ExecuteTime": {
     "end_time": "2020-08-25T10:20:56.766365Z",
     "start_time": "2020-08-25T10:20:56.282018Z"
    }
   },
   "outputs": [
    {
     "name": "stdout",
     "output_type": "stream",
     "text": [
      "0.7122641509433962\n"
     ]
    }
   ],
   "source": [
    "from sklearn.model_selection import cross_val_score,StratifiedKFold\n",
    "accuracy_svc=cross_val_score(clf,y_test,y_pred_svc,cv=StratifiedKFold(n_splits=5),scoring='accuracy').max()\n",
    "print(accuracy_svc)"
   ]
  },
  {
   "cell_type": "code",
   "execution_count": 177,
   "metadata": {
    "ExecuteTime": {
     "end_time": "2020-08-25T10:16:56.928403Z",
     "start_time": "2020-08-25T10:16:56.919380Z"
    }
   },
   "outputs": [],
   "source": [
    "params={'leaf_size':[10,20,30,15],\n",
    "        'n_neighbors':[2,3,4,5,6,7],\n",
    "        'p':[1,2,3,4,5]}"
   ]
  },
  {
   "cell_type": "code",
   "execution_count": 178,
   "metadata": {
    "ExecuteTime": {
     "end_time": "2020-08-25T10:17:11.249461Z",
     "start_time": "2020-08-25T10:16:57.490590Z"
    }
   },
   "outputs": [
    {
     "data": {
      "text/plain": [
       "RandomizedSearchCV(cv='warn', error_score='raise-deprecating',\n",
       "                   estimator=KNeighborsClassifier(algorithm='auto',\n",
       "                                                  leaf_size=30,\n",
       "                                                  metric='minkowski',\n",
       "                                                  metric_params=None,\n",
       "                                                  n_jobs=None, n_neighbors=5,\n",
       "                                                  p=2, weights='uniform'),\n",
       "                   iid='warn', n_iter=10, n_jobs=-1,\n",
       "                   param_distributions={'leaf_size': [10, 20, 30, 15],\n",
       "                                        'n_neighbors': [2, 3, 4, 5, 6, 7],\n",
       "                                        'p': [1, 2, 3, 4, 5]},\n",
       "                   pre_dispatch='2*n_jobs', random_state=None, refit=True,\n",
       "                   return_train_score=False, scoring='accuracy', verbose=0)"
      ]
     },
     "execution_count": 178,
     "metadata": {},
     "output_type": "execute_result"
    }
   ],
   "source": [
    "from sklearn.model_selection import RandomizedSearchCV\n",
    "rscv=RandomizedSearchCV(estimator=knc,param_distributions=params,n_iter=10,scoring='accuracy',n_jobs=-1)\n",
    "rscv.fit(x_train,y_train)"
   ]
  },
  {
   "cell_type": "code",
   "execution_count": 179,
   "metadata": {
    "ExecuteTime": {
     "end_time": "2020-08-25T10:17:15.277780Z",
     "start_time": "2020-08-25T10:17:15.272795Z"
    }
   },
   "outputs": [],
   "source": [
    "from sklearn.feature_selection import SelectKBest,chi2"
   ]
  },
  {
   "cell_type": "code",
   "execution_count": 180,
   "metadata": {
    "ExecuteTime": {
     "end_time": "2020-08-25T10:17:15.995860Z",
     "start_time": "2020-08-25T10:17:15.961949Z"
    }
   },
   "outputs": [],
   "source": [
    "bestfeatures=SelectKBest(score_func=chi2,k=4) #select k best is used to get top score columns\n",
    "fit=bestfeatures.fit(x,y)"
   ]
  },
  {
   "cell_type": "code",
   "execution_count": 181,
   "metadata": {
    "ExecuteTime": {
     "end_time": "2020-08-25T10:17:37.509095Z",
     "start_time": "2020-08-25T10:17:37.493136Z"
    }
   },
   "outputs": [],
   "source": [
    "dfscores=pd.DataFrame(fit.scores_)\n",
    "dfcolumns=pd.DataFrame(x.columns)"
   ]
  },
  {
   "cell_type": "code",
   "execution_count": 182,
   "metadata": {
    "ExecuteTime": {
     "end_time": "2020-08-25T10:17:52.073129Z",
     "start_time": "2020-08-25T10:17:52.058166Z"
    }
   },
   "outputs": [],
   "source": [
    "featurescore=pd.concat([dfscores,dfcolumns],axis=1)\n",
    "featurescore.columns=['scores','specs']"
   ]
  },
  {
   "cell_type": "code",
   "execution_count": 184,
   "metadata": {
    "ExecuteTime": {
     "end_time": "2020-08-25T10:18:32.838324Z",
     "start_time": "2020-08-25T10:18:32.818378Z"
    }
   },
   "outputs": [
    {
     "name": "stdout",
     "output_type": "stream",
     "text": [
      "       scores      specs\n",
      "4  597.208354   Diameter\n",
      "3  162.231843     Height\n",
      "5  149.337280    Species\n",
      "0   15.264305  Area_Code\n"
     ]
    }
   ],
   "source": [
    "print(featurescore.nlargest(4,'scores'))"
   ]
  },
  {
   "cell_type": "code",
   "execution_count": null,
   "metadata": {},
   "outputs": [],
   "source": []
  },
  {
   "cell_type": "code",
   "execution_count": null,
   "metadata": {},
   "outputs": [],
   "source": []
  }
 ],
 "metadata": {
  "kernelspec": {
   "display_name": "Python 3",
   "language": "python",
   "name": "python3"
  },
  "language_info": {
   "codemirror_mode": {
    "name": "ipython",
    "version": 3
   },
   "file_extension": ".py",
   "mimetype": "text/x-python",
   "name": "python",
   "nbconvert_exporter": "python",
   "pygments_lexer": "ipython3",
   "version": "3.7.3"
  },
  "toc": {
   "base_numbering": 1,
   "nav_menu": {},
   "number_sections": true,
   "sideBar": true,
   "skip_h1_title": false,
   "title_cell": "Table of Contents",
   "title_sidebar": "Contents",
   "toc_cell": false,
   "toc_position": {},
   "toc_section_display": true,
   "toc_window_display": false
  },
  "varInspector": {
   "cols": {
    "lenName": 16,
    "lenType": 16,
    "lenVar": 40
   },
   "kernels_config": {
    "python": {
     "delete_cmd_postfix": "",
     "delete_cmd_prefix": "del ",
     "library": "var_list.py",
     "varRefreshCmd": "print(var_dic_list())"
    },
    "r": {
     "delete_cmd_postfix": ") ",
     "delete_cmd_prefix": "rm(",
     "library": "var_list.r",
     "varRefreshCmd": "cat(var_dic_list()) "
    }
   },
   "types_to_exclude": [
    "module",
    "function",
    "builtin_function_or_method",
    "instance",
    "_Feature"
   ],
   "window_display": false
  }
 },
 "nbformat": 4,
 "nbformat_minor": 2
}
