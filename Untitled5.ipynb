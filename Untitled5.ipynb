{
 "cells": [
  {
   "cell_type": "code",
   "execution_count": 133,
   "metadata": {
    "ExecuteTime": {
     "end_time": "2021-03-17T10:43:42.025213Z",
     "start_time": "2021-03-17T10:43:41.470290Z"
    }
   },
   "outputs": [],
   "source": [
    "import pandas as pd\n",
    "df1=pd.read_excel(r\"D:\\Users\\abhisv\\Downloads\\Assignment - 1.xlsx\")"
   ]
  },
  {
   "cell_type": "code",
   "execution_count": 134,
   "metadata": {
    "ExecuteTime": {
     "end_time": "2021-03-17T10:43:42.181796Z",
     "start_time": "2021-03-17T10:43:42.166832Z"
    }
   },
   "outputs": [
    {
     "data": {
      "text/html": [
       "<div>\n",
       "<style scoped>\n",
       "    .dataframe tbody tr th:only-of-type {\n",
       "        vertical-align: middle;\n",
       "    }\n",
       "\n",
       "    .dataframe tbody tr th {\n",
       "        vertical-align: top;\n",
       "    }\n",
       "\n",
       "    .dataframe thead th {\n",
       "        text-align: right;\n",
       "    }\n",
       "</style>\n",
       "<table border=\"1\" class=\"dataframe\">\n",
       "  <thead>\n",
       "    <tr style=\"text-align: right;\">\n",
       "      <th></th>\n",
       "      <th>Date</th>\n",
       "      <th>Country</th>\n",
       "      <th>Advertiser Account</th>\n",
       "      <th>Spends</th>\n",
       "    </tr>\n",
       "  </thead>\n",
       "  <tbody>\n",
       "    <tr>\n",
       "      <th>0</th>\n",
       "      <td>2020-12-19</td>\n",
       "      <td>USA</td>\n",
       "      <td>9a9b24</td>\n",
       "      <td>119090.0</td>\n",
       "    </tr>\n",
       "    <tr>\n",
       "      <th>1</th>\n",
       "      <td>2020-12-20</td>\n",
       "      <td>USA</td>\n",
       "      <td>9a9b24</td>\n",
       "      <td>112809.0</td>\n",
       "    </tr>\n",
       "    <tr>\n",
       "      <th>2</th>\n",
       "      <td>2020-12-26</td>\n",
       "      <td>USA</td>\n",
       "      <td>9a9b24</td>\n",
       "      <td>101680.0</td>\n",
       "    </tr>\n",
       "    <tr>\n",
       "      <th>3</th>\n",
       "      <td>2020-12-13</td>\n",
       "      <td>USA</td>\n",
       "      <td>9a9b24</td>\n",
       "      <td>106725.0</td>\n",
       "    </tr>\n",
       "    <tr>\n",
       "      <th>4</th>\n",
       "      <td>2020-12-12</td>\n",
       "      <td>USA</td>\n",
       "      <td>9a9b24</td>\n",
       "      <td>92708.0</td>\n",
       "    </tr>\n",
       "  </tbody>\n",
       "</table>\n",
       "</div>"
      ],
      "text/plain": [
       "        Date Country Advertiser Account    Spends\n",
       "0 2020-12-19     USA             9a9b24  119090.0\n",
       "1 2020-12-20     USA             9a9b24  112809.0\n",
       "2 2020-12-26     USA             9a9b24  101680.0\n",
       "3 2020-12-13     USA             9a9b24  106725.0\n",
       "4 2020-12-12     USA             9a9b24   92708.0"
      ]
     },
     "execution_count": 134,
     "metadata": {},
     "output_type": "execute_result"
    }
   ],
   "source": [
    "df1.head()"
   ]
  },
  {
   "cell_type": "code",
   "execution_count": 135,
   "metadata": {
    "ExecuteTime": {
     "end_time": "2021-03-17T10:43:43.259684Z",
     "start_time": "2021-03-17T10:43:43.253697Z"
    }
   },
   "outputs": [
    {
     "data": {
      "text/plain": [
       "(7710, 4)"
      ]
     },
     "execution_count": 135,
     "metadata": {},
     "output_type": "execute_result"
    }
   ],
   "source": [
    "df1.shape"
   ]
  },
  {
   "cell_type": "code",
   "execution_count": 136,
   "metadata": {
    "ExecuteTime": {
     "end_time": "2021-03-17T10:43:44.049018Z",
     "start_time": "2021-03-17T10:43:44.016109Z"
    }
   },
   "outputs": [],
   "source": [
    "df2=pd.read_excel(r\"D:\\Users\\abhisv\\Documents\\Metro bank\\Book1.xlsx\")"
   ]
  },
  {
   "cell_type": "code",
   "execution_count": 137,
   "metadata": {
    "ExecuteTime": {
     "end_time": "2021-03-17T10:43:45.744622Z",
     "start_time": "2021-03-17T10:43:45.734610Z"
    }
   },
   "outputs": [
    {
     "data": {
      "text/html": [
       "<div>\n",
       "<style scoped>\n",
       "    .dataframe tbody tr th:only-of-type {\n",
       "        vertical-align: middle;\n",
       "    }\n",
       "\n",
       "    .dataframe tbody tr th {\n",
       "        vertical-align: top;\n",
       "    }\n",
       "\n",
       "    .dataframe thead th {\n",
       "        text-align: right;\n",
       "    }\n",
       "</style>\n",
       "<table border=\"1\" class=\"dataframe\">\n",
       "  <thead>\n",
       "    <tr style=\"text-align: right;\">\n",
       "      <th></th>\n",
       "      <th>Country</th>\n",
       "      <th>Region</th>\n",
       "    </tr>\n",
       "  </thead>\n",
       "  <tbody>\n",
       "    <tr>\n",
       "      <th>0</th>\n",
       "      <td>USA</td>\n",
       "      <td>NaN</td>\n",
       "    </tr>\n",
       "    <tr>\n",
       "      <th>1</th>\n",
       "      <td>Canada</td>\n",
       "      <td>NaN</td>\n",
       "    </tr>\n",
       "    <tr>\n",
       "      <th>2</th>\n",
       "      <td>Spain</td>\n",
       "      <td>EU</td>\n",
       "    </tr>\n",
       "    <tr>\n",
       "      <th>3</th>\n",
       "      <td>United Kingdom</td>\n",
       "      <td>EU</td>\n",
       "    </tr>\n",
       "    <tr>\n",
       "      <th>4</th>\n",
       "      <td>India</td>\n",
       "      <td>APAC</td>\n",
       "    </tr>\n",
       "  </tbody>\n",
       "</table>\n",
       "</div>"
      ],
      "text/plain": [
       "          Country Region\n",
       "0             USA    NaN\n",
       "1          Canada    NaN\n",
       "2           Spain     EU\n",
       "3  United Kingdom     EU\n",
       "4           India   APAC"
      ]
     },
     "execution_count": 137,
     "metadata": {},
     "output_type": "execute_result"
    }
   ],
   "source": [
    "df2.head()"
   ]
  },
  {
   "cell_type": "code",
   "execution_count": 138,
   "metadata": {
    "ExecuteTime": {
     "end_time": "2021-03-17T10:43:46.518074Z",
     "start_time": "2021-03-17T10:43:46.503111Z"
    }
   },
   "outputs": [],
   "source": [
    "df=pd.merge(df1,df2,on='Country',how='inner')"
   ]
  },
  {
   "cell_type": "code",
   "execution_count": 139,
   "metadata": {
    "ExecuteTime": {
     "end_time": "2021-03-17T10:43:47.342184Z",
     "start_time": "2021-03-17T10:43:47.318251Z"
    }
   },
   "outputs": [
    {
     "data": {
      "text/html": [
       "<div>\n",
       "<style scoped>\n",
       "    .dataframe tbody tr th:only-of-type {\n",
       "        vertical-align: middle;\n",
       "    }\n",
       "\n",
       "    .dataframe tbody tr th {\n",
       "        vertical-align: top;\n",
       "    }\n",
       "\n",
       "    .dataframe thead th {\n",
       "        text-align: right;\n",
       "    }\n",
       "</style>\n",
       "<table border=\"1\" class=\"dataframe\">\n",
       "  <thead>\n",
       "    <tr style=\"text-align: right;\">\n",
       "      <th></th>\n",
       "      <th>Date</th>\n",
       "      <th>Country</th>\n",
       "      <th>Advertiser Account</th>\n",
       "      <th>Spends</th>\n",
       "      <th>Region</th>\n",
       "    </tr>\n",
       "  </thead>\n",
       "  <tbody>\n",
       "    <tr>\n",
       "      <th>0</th>\n",
       "      <td>2020-12-19</td>\n",
       "      <td>USA</td>\n",
       "      <td>9a9b24</td>\n",
       "      <td>119090.0</td>\n",
       "      <td>NaN</td>\n",
       "    </tr>\n",
       "    <tr>\n",
       "      <th>1</th>\n",
       "      <td>2020-12-20</td>\n",
       "      <td>USA</td>\n",
       "      <td>9a9b24</td>\n",
       "      <td>112809.0</td>\n",
       "      <td>NaN</td>\n",
       "    </tr>\n",
       "    <tr>\n",
       "      <th>2</th>\n",
       "      <td>2020-12-26</td>\n",
       "      <td>USA</td>\n",
       "      <td>9a9b24</td>\n",
       "      <td>101680.0</td>\n",
       "      <td>NaN</td>\n",
       "    </tr>\n",
       "    <tr>\n",
       "      <th>3</th>\n",
       "      <td>2020-12-13</td>\n",
       "      <td>USA</td>\n",
       "      <td>9a9b24</td>\n",
       "      <td>106725.0</td>\n",
       "      <td>NaN</td>\n",
       "    </tr>\n",
       "    <tr>\n",
       "      <th>4</th>\n",
       "      <td>2020-12-12</td>\n",
       "      <td>USA</td>\n",
       "      <td>9a9b24</td>\n",
       "      <td>92708.0</td>\n",
       "      <td>NaN</td>\n",
       "    </tr>\n",
       "  </tbody>\n",
       "</table>\n",
       "</div>"
      ],
      "text/plain": [
       "        Date Country Advertiser Account    Spends Region\n",
       "0 2020-12-19     USA             9a9b24  119090.0    NaN\n",
       "1 2020-12-20     USA             9a9b24  112809.0    NaN\n",
       "2 2020-12-26     USA             9a9b24  101680.0    NaN\n",
       "3 2020-12-13     USA             9a9b24  106725.0    NaN\n",
       "4 2020-12-12     USA             9a9b24   92708.0    NaN"
      ]
     },
     "execution_count": 139,
     "metadata": {},
     "output_type": "execute_result"
    }
   ],
   "source": [
    "df.head()"
   ]
  },
  {
   "cell_type": "code",
   "execution_count": 140,
   "metadata": {
    "ExecuteTime": {
     "end_time": "2021-03-17T10:43:48.717182Z",
     "start_time": "2021-03-17T10:43:48.711199Z"
    }
   },
   "outputs": [
    {
     "data": {
      "text/plain": [
       "(7710, 5)"
      ]
     },
     "execution_count": 140,
     "metadata": {},
     "output_type": "execute_result"
    }
   ],
   "source": [
    "df.shape"
   ]
  },
  {
   "cell_type": "code",
   "execution_count": 141,
   "metadata": {
    "ExecuteTime": {
     "end_time": "2021-03-17T10:43:49.819479Z",
     "start_time": "2021-03-17T10:43:49.805516Z"
    }
   },
   "outputs": [],
   "source": [
    "def nullvalue(df):\n",
    "    nullvaluetable=df.isna().sum()/df.shape[0]*100\n",
    "    print('The total columns are',len(nullvaluetable))\n",
    "    ##drop_cols=nullvaluetable[nullvaluetable>30].index\n",
    "    ##print('The columns to be dropped is',len(drop_cols))\n",
    "    ##print(drop_cols)#As this features have high missing values, lets delete the features, otherwise replacing them makes results skewed.\n",
    "    ##df.drop(df[drop_cols],axis=1,inplace=True)\n",
    "    ##print('The columns after dropping the drop_cols are',len(df.columns))\n",
    "    ##retained_cols=nullvaluetable[nullvaluetable<30].index\n",
    "    ##print('The columns to be retained is',len(retained_cols))\n",
    "    features_with_nan=[feature for feature in df.columns if df[feature].isna().sum()>1]\n",
    "    print('The columns to be with na are',len(features_with_nan))\n",
    "    numerical=[feature for feature in df if df[feature].dtypes!='O']\n",
    "    print('The numerical columns are', len(numerical))\n",
    "    print('The numerical columns are',numerical)\n",
    "    cat=[feature for feature in df if df[feature].dtypes=='O']\n",
    "    print('The cat columns are',len(cat))\n",
    "    year_feature=[feature for feature in numerical if 'Yr' in feature or'Year' in feature]\n",
    "    print('The year columns are',len(year_feature))\n",
    "    Date_feature=[feature for feature in df if 'Date' in feature]\n",
    "    print('The Date columns are',len(Date_feature))\n",
    "    #Lets check continous and discrete variables in numerical variables\n",
    "    discrete=[feature for feature in numerical if len(df[feature].unique())<25 and feature not in year_feature]\n",
    "    print('The discrete number of columns are',len(discrete))\n",
    "    continous=[feature for feature in numerical if feature not in discrete+year_feature]\n",
    "    print('The discrete number of columns are',len(continous))\n",
    "    return df,cat,numerical,year_feature,discrete,continous,features_with_nan,Date_feature"
   ]
  },
  {
   "cell_type": "code",
   "execution_count": 142,
   "metadata": {
    "ExecuteTime": {
     "end_time": "2021-03-17T10:43:50.381236Z",
     "start_time": "2021-03-17T10:43:50.353311Z"
    }
   },
   "outputs": [
    {
     "name": "stdout",
     "output_type": "stream",
     "text": [
      "The total columns are 5\n",
      "The columns to be with na are 1\n",
      "The numerical columns are 2\n",
      "The numerical columns are ['Date', 'Spends']\n",
      "The cat columns are 3\n",
      "The year columns are 0\n",
      "The Date columns are 1\n",
      "The discrete number of columns are 0\n",
      "The discrete number of columns are 2\n"
     ]
    }
   ],
   "source": [
    "df,cat,numerical,year_feature,discrete,continous,features_with_nan,Date_feature=nullvalue(df)"
   ]
  },
  {
   "cell_type": "code",
   "execution_count": 147,
   "metadata": {
    "ExecuteTime": {
     "end_time": "2021-03-17T12:35:02.408510Z",
     "start_time": "2021-03-17T12:35:02.390522Z"
    }
   },
   "outputs": [],
   "source": [
    "df['Date']=pd.to_datetime(df['Date'])"
   ]
  },
  {
   "cell_type": "code",
   "execution_count": 149,
   "metadata": {
    "ExecuteTime": {
     "end_time": "2021-03-17T12:35:08.814721Z",
     "start_time": "2021-03-17T12:35:08.652246Z"
    }
   },
   "outputs": [],
   "source": [
    "##Add few columns\n",
    "    ##Add month column\n",
    "df['Date']=df['Date'].astype(str)\n",
    "df['Month']=df['Date'].str[8:]\n",
    "df['Day']=df['Date'].str[5:7]\n",
    "df['Year']=df['Date'].str[0:4]"
   ]
  },
  {
   "cell_type": "code",
   "execution_count": 150,
   "metadata": {
    "ExecuteTime": {
     "end_time": "2021-03-17T12:35:14.781527Z",
     "start_time": "2021-03-17T12:35:14.128895Z"
    }
   },
   "outputs": [
    {
     "data": {
      "image/png": "[encoded data removed]",
      "text/plain": [
       "<Figure size 432x288 with 1 Axes>"
      ]
     },
     "metadata": {
      "needs_background": "light"
     },
     "output_type": "display_data"
    },
    {
     "data": {
      "text/plain": [
       "<Figure size 1440x1440 with 0 Axes>"
      ]
     },
     "metadata": {},
     "output_type": "display_data"
    }
   ],
   "source": [
    "import matplotlib.pyplot as plt\n",
    "data=df.copy()\n",
    "for feature in Date_feature:\n",
    "    data.groupby(feature)['Spends'].median().plot.bar()\n",
    "    plt.xlabel(feature)\n",
    "    plt.ylabel('Spends')\n",
    "    plt.figure(figsize=(20,20))\n",
    "    plt.show()"
   ]
  },
  {
   "cell_type": "code",
   "execution_count": 151,
   "metadata": {
    "ExecuteTime": {
     "end_time": "2021-03-17T12:35:19.047689Z",
     "start_time": "2021-03-17T12:35:17.639998Z"
    },
    "scrolled": true
   },
   "outputs": [
    {
     "data": {
      "image/png": "[encoded data removed]",
      "text/plain": [
       "<Figure size 432x288 with 1 Axes>"
      ]
     },
     "metadata": {
      "needs_background": "light"
     },
     "output_type": "display_data"
    },
    {
     "data": {
      "image/png": "[encoded data removed]",
      "text/plain": [
       "<Figure size 432x288 with 1 Axes>"
      ]
     },
     "metadata": {
      "needs_background": "light"
     },
     "output_type": "display_data"
    },
    {
     "data": {
      "image/png": "[encoded data removed]",
      "text/plain": [
       "<Figure size 432x288 with 1 Axes>"
      ]
     },
     "metadata": {
      "needs_background": "light"
     },
     "output_type": "display_data"
    }
   ],
   "source": [
    "for feature in cat:\n",
    "    data=df.copy()\n",
    "    data.groupby(feature)['Spends'].median().plot.bar()\n",
    "    plt.show()"
   ]
  },
  {
   "cell_type": "code",
   "execution_count": 2,
   "metadata": {
    "ExecuteTime": {
     "end_time": "2021-03-18T09:16:07.603348Z",
     "start_time": "2021-03-18T09:14:38.827153Z"
    }
   },
   "outputs": [
    {
     "name": "stdout",
     "output_type": "stream",
     "text": [
      "Collecting SpeechRecognition\n",
      "  Downloading https://files.pythonhosted.org/packages/26/e1/7f5678cd94ec1234269d23756dbdaa4c8cfaed973412f88ae8adf7893a50/SpeechRecognition-3.8.1-py2.py3-none-any.whl (32.8MB)\n",
      "Installing collected packages: SpeechRecognition\n",
      "Successfully installed SpeechRecognition-3.8.1\n",
      "Note: you may need to restart the kernel to use updated packages.\n"
     ]
    }
   ],
   "source": [
    "pip install SpeechRecognition"
   ]
  },
  {
   "cell_type": "code",
   "execution_count": null,
   "metadata": {},
   "outputs": [],
   "source": []
  }
 ],
 "metadata": {
  "kernelspec": {
   "display_name": "Python 3",
   "language": "python",
   "name": "python3"
  },
  "language_info": {
   "codemirror_mode": {
    "name": "ipython",
    "version": 3
   },
   "file_extension": ".py",
   "mimetype": "text/x-python",
   "name": "python",
   "nbconvert_exporter": "python",
   "pygments_lexer": "ipython3",
   "version": "3.7.3"
  },
  "toc": {
   "base_numbering": 1,
   "nav_menu": {},
   "number_sections": true,
   "sideBar": true,
   "skip_h1_title": false,
   "title_cell": "Table of Contents",
   "title_sidebar": "Contents",
   "toc_cell": false,
   "toc_position": {},
   "toc_section_display": true,
   "toc_window_display": false
  },
  "varInspector": {
   "cols": {
    "lenName": 16,
    "lenType": 16,
    "lenVar": 40
   },
   "kernels_config": {
    "python": {
     "delete_cmd_postfix": "",
     "delete_cmd_prefix": "del ",
     "library": "var_list.py",
     "varRefreshCmd": "print(var_dic_list())"
    },
    "r": {
     "delete_cmd_postfix": ") ",
     "delete_cmd_prefix": "rm(",
     "library": "var_list.r",
     "varRefreshCmd": "cat(var_dic_list()) "
    }
   },
   "types_to_exclude": [
    "module",
    "function",
    "builtin_function_or_method",
    "instance",
    "_Feature"
   ],
   "window_display": false
  }
 },
 "nbformat": 4,
 "nbformat_minor": 2
}
