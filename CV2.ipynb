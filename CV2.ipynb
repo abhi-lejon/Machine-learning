{
 "cells": [
  {
   "cell_type": "code",
   "execution_count": 1,
   "metadata": {
    "ExecuteTime": {
     "end_time": "2020-06-18T09:25:51.839044Z",
     "start_time": "2020-06-18T09:25:51.738197Z"
    }
   },
   "outputs": [],
   "source": [
    "import cv2\n",
    "import numpy as np"
   ]
  },
  {
   "cell_type": "code",
   "execution_count": null,
   "metadata": {
    "ExecuteTime": {
     "start_time": "2020-06-18T09:25:57.245Z"
    }
   },
   "outputs": [],
   "source": [
    "input=cv2.imread(r\"C:\\Users\\abhisv.CORP\\3D Objects\\Data\\Train\\furniture_ikea___Google_Search\\2Q__ (2).jpg\")\n",
    "cv2.imshow('furniture',input)\n",
    "cv2.waitKey(0)\n",
    "cv2.destroyAllWindows()"
   ]
  },
  {
   "cell_type": "code",
   "execution_count": 3,
   "metadata": {
    "ExecuteTime": {
     "end_time": "2020-05-02T10:00:16.867011Z",
     "start_time": "2020-05-02T10:00:16.851054Z"
    }
   },
   "outputs": [
    {
     "data": {
      "text/plain": [
       "104"
      ]
     },
     "execution_count": 3,
     "metadata": {},
     "output_type": "execute_result"
    }
   ],
   "source": [
    "len(input)"
   ]
  },
  {
   "cell_type": "code",
   "execution_count": 4,
   "metadata": {
    "ExecuteTime": {
     "end_time": "2020-05-02T10:00:17.599324Z",
     "start_time": "2020-05-02T10:00:17.592344Z"
    }
   },
   "outputs": [
    {
     "data": {
      "text/plain": [
       "array([[[155, 172, 229],\n",
       "        [153, 170, 226],\n",
       "        [156, 170, 222]],\n",
       "\n",
       "       [[141, 155, 214],\n",
       "        [156, 170, 228],\n",
       "        [171, 185, 238]],\n",
       "\n",
       "       [[142, 152, 216],\n",
       "        [131, 142, 204],\n",
       "        [122, 135, 191]]], dtype=uint8)"
      ]
     },
     "execution_count": 4,
     "metadata": {},
     "output_type": "execute_result"
    }
   ],
   "source": [
    "input[0:3,0:3]"
   ]
  },
  {
   "cell_type": "code",
   "execution_count": 6,
   "metadata": {
    "ExecuteTime": {
     "end_time": "2020-05-02T10:00:52.076537Z",
     "start_time": "2020-05-02T10:00:51.534592Z"
    }
   },
   "outputs": [],
   "source": [
    "import glob\n",
    "import cv2\n",
    "input=cv2.imread(r\"C:\\Users\\abhisv.CORP\\3D Objects\\Data\\Train\\fresh_foods_ikea___Google_Search\\2Q__.jpg\")\n",
    "cv2.imshow('food',input)\n",
    "cv2.waitKey(0)\n",
    "cv2.destroyAllWindows()"
   ]
  },
  {
   "cell_type": "code",
   "execution_count": null,
   "metadata": {},
   "outputs": [],
   "source": []
  },
  {
   "cell_type": "code",
   "execution_count": 7,
   "metadata": {
    "ExecuteTime": {
     "end_time": "2020-05-02T10:00:52.118427Z",
     "start_time": "2020-05-02T10:00:52.106459Z"
    }
   },
   "outputs": [
    {
     "ename": "SyntaxError",
     "evalue": "invalid syntax (<ipython-input-7-4a3b091a49e9>, line 1)",
     "output_type": "error",
     "traceback": [
      "\u001b[1;36m  File \u001b[1;32m\"<ipython-input-7-4a3b091a49e9>\"\u001b[1;36m, line \u001b[1;32m1\u001b[0m\n\u001b[1;33m    /////////////////\u001b[0m\n\u001b[1;37m     ^\u001b[0m\n\u001b[1;31mSyntaxError\u001b[0m\u001b[1;31m:\u001b[0m invalid syntax\n"
     ]
    }
   ],
   "source": [
    "/////////////////"
   ]
  },
  {
   "cell_type": "code",
   "execution_count": null,
   "metadata": {
    "ExecuteTime": {
     "end_time": "2020-05-02T10:00:52.131393Z",
     "start_time": "2020-05-02T10:00:25.342Z"
    }
   },
   "outputs": [],
   "source": [
    "import glob\n",
    "import os"
   ]
  },
  {
   "cell_type": "code",
   "execution_count": null,
   "metadata": {
    "ExecuteTime": {
     "end_time": "2020-05-02T10:00:52.136377Z",
     "start_time": "2020-05-02T10:00:25.833Z"
    }
   },
   "outputs": [],
   "source": [
    "x=os.listdir(r\"C:\\Users\\abhisv.CORP\\3D Objects\\Data\")"
   ]
  },
  {
   "cell_type": "code",
   "execution_count": null,
   "metadata": {
    "ExecuteTime": {
     "end_time": "2020-05-02T10:00:52.141364Z",
     "start_time": "2020-05-02T10:00:28.011Z"
    }
   },
   "outputs": [],
   "source": [
    "for i in os.listdir(r\"C:\\Users\\abhisv.CORP\\3D Objects\\Data\"):\n",
    "     for j in glob.glob(\"C:\\\\Users\\\\abhisv.CORP\\\\3D Objects\\\\Data\\\\\"+i+\"\\\\*\\\\*\"):\n",
    "        print(j)"
   ]
  },
  {
   "cell_type": "code",
   "execution_count": null,
   "metadata": {
    "ExecuteTime": {
     "end_time": "2020-05-02T10:00:52.145353Z",
     "start_time": "2020-05-02T10:00:30.441Z"
    }
   },
   "outputs": [],
   "source": [
    "import cv2\n",
    "\n",
    "img = cv2.imread(r\"C:\\Users\\abhisv.CORP\\3D Objects\\Data\\Train\\fresh_foods_ikea___Google_Search\\2Q__.jpg\")\n",
    "print(type(img))\n",
    "# <class 'numpy.ndarray'>\n",
    "\n",
    "print(img.shape)\n",
    "# (225, 400, 3)\n",
    "\n",
    "img_rotate_90_clockwise = cv2.rotate(img, cv2.ROTATE_90_CLOCKWISE)\n",
    "cv2.imwrite(r\"C:\\Users\\abhisv.CORP\\3D Objects\\Data\\Train\\fresh_foods_ikea___Google_Search\\2Q__.jpg\", img_rotate_90_clockwise)\n",
    "# True\n",
    "\n",
    "img_rotate_90_counterclockwise = cv2.rotate(img, cv2.ROTATE_90_COUNTERCLOCKWISE)\n",
    "cv2.imwrite(r\"C:\\Users\\abhisv.CORP\\3D Objects\\Data\\Train\\fresh_foods_ikea___Google_Search\\2Q__.jpg\", img_rotate_90_counterclockwise)\n",
    "# True\n",
    "\n",
    "img_rotate_180 = cv2.rotate(img, cv2.ROTATE_180)\n",
    "cv2.imwrite(r\"C:\\Users\\abhisv.CORP\\3D Objects\\Data\\Train\\fresh_foods_ikea___Google_Search\\2Q__.jpg\", img_rotate_180)\n",
    "# True"
   ]
  },
  {
   "cell_type": "code",
   "execution_count": null,
   "metadata": {
    "ExecuteTime": {
     "end_time": "2020-05-02T10:00:52.150340Z",
     "start_time": "2020-05-02T10:00:32.658Z"
    }
   },
   "outputs": [],
   "source": [
    "import matplotlib.pyplot as plt\n",
    "def flip(img,axes):\n",
    "    if (axes == 0) :\n",
    "        #horizental flip\n",
    "        return cv2.flip( img, 0 )\n",
    "    elif(axes == 1):\n",
    "        #vertical flip\n",
    "        return cv2.flip( img, 1 )\n",
    "    elif(axes == -1):\n",
    "        #both direction\n",
    "        return cv2.flip( img, -1 ) \n",
    "bflp = flip(input,-1)\n",
    "plt.imshow(bflp)\n",
    "cv2.imwrite(r\"C:\\Users\\abhisv.CORP\\3D Objects\\Data\\Train\\fresh_foods_ikea___Google_Search\\2Q__1.jpg\", bflp)\n",
    "\n"
   ]
  },
  {
   "cell_type": "code",
   "execution_count": null,
   "metadata": {
    "ExecuteTime": {
     "end_time": "2020-05-02T10:00:52.157321Z",
     "start_time": "2020-05-02T10:00:34.499Z"
    }
   },
   "outputs": [],
   "source": [
    "import glob\n",
    "files=glob.glob(r\"C:\\Users\\abhisv.CORP\\3D Objects\\Data\\Train\\New folder\\*.jpg\")\n",
    "for i in range(0,len(files)):\n",
    "    input=cv2.imread(files[i])\n",
    "    bflp=flip(input,1)\n",
    "    cv2.imwrite(files[i]+'vertical flip'+str(i)+'.jpg',bflp)\n",
    "    bflp=flip(input,0)\n",
    "    cv2.imwrite(files[i]+'horizontal flip'+str(i)+'.jpg',bflp)\n",
    "    bflp=flip(input,-1)\n",
    "    cv2.imwrite(files[i]+'both dir flip'+str(i)+'.jpg',bflp)\n",
    "    img_rotate_90_clockwise=cv2.rotate(input,cv2.ROTATE_90_CLOCKWISE)\n",
    "    cv2.imwrite(files[i]+'90_clockwise'+str(i)+'.jpg',img_rotate_90_clockwise)\n",
    "    img_rotate_90_counterclockwise=cv2.rotate(input,cv2.ROTATE_90_COUNTERCLOCKWISE)\n",
    "    cv2.imwrite(files[i]+'90_counterclockwise'+str(i)+'.jpg',img_rotate_90_counterclockwise)\n",
    "    img_rotate_180=cv2.rotate(input,cv2.ROTATE_180)\n",
    "    cv2.imwrite(files[i]+'180_rotation'+str(i)+'.jpg',img_rotate_180)"
   ]
  },
  {
   "cell_type": "code",
   "execution_count": null,
   "metadata": {
    "ExecuteTime": {
     "end_time": "2020-05-02T10:00:52.164303Z",
     "start_time": "2020-05-02T10:00:36.344Z"
    }
   },
   "outputs": [],
   "source": [
    "import numpy as np\n",
    "import cv2 as cv\n",
    "import glob\n",
    "from matplotlib import pyplot as plt\n",
    "files=glob.glob(r\"C:\\Users\\abhisv.CORP\\3D Objects\\Data\\Train\\New folder\\*.jpg\")\n",
    "for i in range(0,len(files)):\n",
    "    img = cv.imread(files[i],0)\n",
    "    edges = cv.Canny(img,100,200)\n",
    "    plt.subplot(121),plt.imshow(img,cmap = 'gray')\n",
    "    plt.title('Original Image'), plt.xticks([]), plt.yticks([])\n",
    "    plt.subplot(122),plt.imshow(edges,cmap = 'gray')\n",
    "    plt.title('Edge Image'), plt.xticks([]), plt.yticks([])\n",
    "    plt.show()"
   ]
  },
  {
   "cell_type": "code",
   "execution_count": 5,
   "metadata": {
    "ExecuteTime": {
     "end_time": "2020-05-07T15:41:02.990548Z",
     "start_time": "2020-05-07T15:39:08.124022Z"
    }
   },
   "outputs": [],
   "source": [
    "# OpenCV program to perform Edge detection in real time \n",
    "# import libraries of python OpenCV  \n",
    "# where its functionality resides \n",
    "import cv2  \n",
    "  \n",
    "# np is an alias pointing to numpy library \n",
    "import numpy as np \n",
    "  \n",
    "  \n",
    "# capture frames from a camera \n",
    "cap = cv2.VideoCapture(0) # fuction used to capture video\n",
    "  \n",
    "  \n",
    "# loop runs if capturing has been initialized \n",
    "\n",
    "while(1): \n",
    "  \n",
    "    # reads frames from a camera \n",
    "    ret, frame = cap.read() \n",
    "  \n",
    "    # converting BGR to HSV \n",
    "    hsv = cv2.cvtColor(frame, cv2.COLOR_BGR2HSV) \n",
    "      \n",
    "    # define range of red color in HSV \n",
    "    lower_red = np.array([30,150,50]) \n",
    "    upper_red = np.array([255,255,180]) \n",
    "      \n",
    "    # create a red HSV colour boundary and  \n",
    "    # threshold HSV image \n",
    "    mask = cv2.inRange(hsv, lower_red, upper_red) \n",
    "  \n",
    "    # Bitwise-AND mask and original image \n",
    "    res = cv2.bitwise_and(frame,frame, mask= mask) \n",
    "  \n",
    "    # Display an original image \n",
    "    cv2.imshow('Original',frame) \n",
    "  \n",
    "    # finds edges in the input image image and \n",
    "    # marks them in the output map edges \n",
    "    edges = cv2.Canny(frame,100,200) \n",
    "  \n",
    "    # Display edges in a frame \n",
    "    cv2.imshow('Edges',edges) \n",
    "  \n",
    "    # Wait for Esc key to stop \n",
    "    k = cv2.waitKey(5) & 0xFF\n",
    "    if k == 27: \n",
    "        break\n",
    "  \n",
    "  \n",
    "# Close the window \n",
    "cap.release() \n",
    "  \n",
    "# De-allocate any associated memory usage \n",
    "cv2.destroyAllWindows()"
   ]
  },
  {
   "cell_type": "code",
   "execution_count": 2,
   "metadata": {
    "ExecuteTime": {
     "end_time": "2020-05-07T15:38:14.457768Z",
     "start_time": "2020-05-07T15:37:51.820382Z"
    }
   },
   "outputs": [],
   "source": [
    "import cv2\n",
    "import numpy as np\n",
    "\n",
    "image = cv2.imread(r'C:\\Users\\abhisv.CORP\\3D Objects\\Data\\Train\\fresh_foods_ikea___Google_Search\\9k_ (3).jpg')\n",
    "cv2.imshow(\"Origial\", image)\n",
    "cv2.waitKey(0)\n",
    "\n",
    "B, G, R = cv2.split(image)\n",
    "\n",
    "# Let's create a matrix of zeros \n",
    "# with dimensions of the image h x w  \n",
    "zeros = np.zeros(image.shape[:2], dtype = \"uint8\")\n",
    "\n",
    "cv2.imshow(\"Red\", cv2.merge([zeros, zeros, R]))\n",
    "cv2.waitKey(0)\n",
    "cv2.imshow(\"Green\", cv2.merge([zeros, G, zeros]))\n",
    "cv2.waitKey(0)\n",
    "cv2.imshow(\"Blue\", cv2.merge([B, zeros, zeros]))\n",
    "\n",
    "cv2.waitKey(0)\n",
    "cv2.destroyAllWindows()"
   ]
  },
  {
   "cell_type": "code",
   "execution_count": 3,
   "metadata": {
    "ExecuteTime": {
     "end_time": "2020-05-07T15:38:21.242646Z",
     "start_time": "2020-05-07T15:38:14.487900Z"
    }
   },
   "outputs": [],
   "source": [
    "import cv2\n",
    "import numpy as np\n",
    "\n",
    "# Create a black image\n",
    "image = np.zeros((512,512,3), np.uint8)\n",
    "cv2.waitKey(0)\n",
    "\n",
    "# Can we make this in black and white?\n",
    "image_bw = np.zeros((512,512), np.uint8)\n",
    "\n",
    "\n",
    "cv2.imshow(\"Black Rectangle (Color)\", image)\n",
    "cv2.waitKey(0)\n",
    "cv2.imshow(\"Black Rectangle (B&W)\", image_bw)\n",
    "cv2.waitKey(0)\n",
    "\n",
    "cv2.waitKey(0)\n",
    "cv2.destroyAllWindows()"
   ]
  },
  {
   "cell_type": "code",
   "execution_count": 9,
   "metadata": {
    "ExecuteTime": {
     "end_time": "2020-05-02T10:01:13.626265Z",
     "start_time": "2020-05-02T10:01:12.521822Z"
    }
   },
   "outputs": [],
   "source": [
    "# Draw a diagonal blue line of thickness of 5 pixels\n",
    "image = np.zeros((312,512,3), np.uint8)\n",
    "#cv2.line(image, (startposition), (endposition), (color of the line), width of the line)\n",
    "cv2.line(image, (0,0), (511,511), (0,0,122), 5)\n",
    "cv2.line(image, (511,0), (0,511), (255,127,0), 5)\n",
    "cv2.imshow(\"Blue Line\", image)\n",
    "\n",
    "cv2.waitKey(1000)\n",
    "cv2.destroyAllWindows()"
   ]
  },
  {
   "cell_type": "code",
   "execution_count": 4,
   "metadata": {
    "ExecuteTime": {
     "end_time": "2020-05-07T15:38:38.323086Z",
     "start_time": "2020-05-07T15:38:32.566047Z"
    }
   },
   "outputs": [],
   "source": [
    "# Draw a Rectangle in\n",
    "image = np.zeros((512,512,3), np.uint8)\n",
    "# eine negative Linienbreite füllt das viereck aus\n",
    "cv2.rectangle(image, (200,100), (20,25), (50,50,50), -1)\n",
    "cv2.imshow(\"Rectangle\", image)\n",
    "cv2.waitKey(0)\n",
    "cv2.destroyAllWindows()"
   ]
  },
  {
   "cell_type": "code",
   "execution_count": null,
   "metadata": {},
   "outputs": [],
   "source": []
  }
 ],
 "metadata": {
  "kernelspec": {
   "display_name": "Python 3",
   "language": "python",
   "name": "python3"
  },
  "language_info": {
   "codemirror_mode": {
    "name": "ipython",
    "version": 3
   },
   "file_extension": ".py",
   "mimetype": "text/x-python",
   "name": "python",
   "nbconvert_exporter": "python",
   "pygments_lexer": "ipython3",
   "version": "3.7.3"
  },
  "toc": {
   "base_numbering": 1,
   "nav_menu": {},
   "number_sections": true,
   "sideBar": true,
   "skip_h1_title": false,
   "title_cell": "Table of Contents",
   "title_sidebar": "Contents",
   "toc_cell": false,
   "toc_position": {},
   "toc_section_display": true,
   "toc_window_display": false
  },
  "varInspector": {
   "cols": {
    "lenName": 16,
    "lenType": 16,
    "lenVar": 40
   },
   "kernels_config": {
    "python": {
     "delete_cmd_postfix": "",
     "delete_cmd_prefix": "del ",
     "library": "var_list.py",
     "varRefreshCmd": "print(var_dic_list())"
    },
    "r": {
     "delete_cmd_postfix": ") ",
     "delete_cmd_prefix": "rm(",
     "library": "var_list.r",
     "varRefreshCmd": "cat(var_dic_list()) "
    }
   },
   "types_to_exclude": [
    "module",
    "function",
    "builtin_function_or_method",
    "instance",
    "_Feature"
   ],
   "window_display": false
  }
 },
 "nbformat": 4,
 "nbformat_minor": 2
}
