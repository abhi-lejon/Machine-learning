{
 "cells": [
  {
   "cell_type": "code",
   "execution_count": null,
   "metadata": {},
   "outputs": [],
   "source": [
    "#Q1- Give a small example of variable length keyword argument"
   ]
  },
  {
   "cell_type": "code",
   "execution_count": 3,
   "metadata": {
    "ExecuteTime": {
     "end_time": "2021-04-18T11:01:16.239818Z",
     "start_time": "2021-04-18T11:01:16.183941Z"
    }
   },
   "outputs": [
    {
     "name": "stdout",
     "output_type": "stream",
     "text": [
      " python.hub \n"
     ]
    }
   ],
   "source": [
    "a=\" python.hub \"\n",
    "a.strip()\n",
    "print(a)"
   ]
  },
  {
   "cell_type": "code",
   "execution_count": 6,
   "metadata": {
    "ExecuteTime": {
     "end_time": "2021-04-18T11:02:07.896354Z",
     "start_time": "2021-04-18T11:02:07.889374Z"
    }
   },
   "outputs": [
    {
     "name": "stdout",
     "output_type": "stream",
     "text": [
      "python"
     ]
    }
   ],
   "source": [
    "for x in \"python\":\n",
    "    print(x,end='')"
   ]
  },
  {
   "cell_type": "code",
   "execution_count": 63,
   "metadata": {
    "ExecuteTime": {
     "end_time": "2021-04-11T13:43:44.493919Z",
     "start_time": "2021-04-11T13:43:44.478278Z"
    }
   },
   "outputs": [],
   "source": [
    "def kwargsexample(**kwargs):\n",
    "    print(type(kwargs))\n",
    "    for k,v in kwargs.items():\n",
    "        print(k,'....',v)"
   ]
  },
  {
   "cell_type": "code",
   "execution_count": 64,
   "metadata": {
    "ExecuteTime": {
     "end_time": "2021-04-11T13:44:00.123388Z",
     "start_time": "2021-04-11T13:44:00.117400Z"
    }
   },
   "outputs": [
    {
     "name": "stdout",
     "output_type": "stream",
     "text": [
      "<class 'dict'>\n",
      "x .... 10\n",
      "y .... 20\n",
      "z .... 30\n"
     ]
    }
   ],
   "source": [
    "kwargsexample(x=10,y=20,z=30) #You can give many number of keyword arguments"
   ]
  },
  {
   "cell_type": "code",
   "execution_count": null,
   "metadata": {},
   "outputs": [],
   "source": [
    "#Q2- Give a small example of variable length argument (Non keyword argument)"
   ]
  },
  {
   "cell_type": "code",
   "execution_count": 70,
   "metadata": {
    "ExecuteTime": {
     "end_time": "2021-04-11T13:47:51.235896Z",
     "start_time": "2021-04-11T13:47:51.229901Z"
    }
   },
   "outputs": [],
   "source": [
    "def args(*n):\n",
    "    for x in n:\n",
    "        print(x*2)"
   ]
  },
  {
   "cell_type": "code",
   "execution_count": 72,
   "metadata": {
    "ExecuteTime": {
     "end_time": "2021-04-11T13:47:56.729351Z",
     "start_time": "2021-04-11T13:47:56.723364Z"
    }
   },
   "outputs": [
    {
     "name": "stdout",
     "output_type": "stream",
     "text": [
      "20\n",
      "40\n",
      "60\n",
      "80\n"
     ]
    }
   ],
   "source": [
    "args(10,20,30,40) #Instead of adding variable and then executing a program each time, you can use args to get directly in function call."
   ]
  },
  {
   "cell_type": "code",
   "execution_count": 96,
   "metadata": {
    "ExecuteTime": {
     "end_time": "2021-04-11T16:48:54.427902Z",
     "start_time": "2021-04-11T16:48:54.403533Z"
    }
   },
   "outputs": [
    {
     "name": "stdout",
     "output_type": "stream",
     "text": [
      "0\n",
      "1\n",
      "1\n",
      "2\n",
      "3\n",
      "5\n"
     ]
    }
   ],
   "source": [
    "#Q3-Fibbonicci series.\n",
    "def fib(n):\n",
    "    a=0\n",
    "    b=1\n",
    "    print(a)\n",
    "    print(b)\n",
    "    for i in range(2,n+1):\n",
    "        c=a+b\n",
    "        a=b\n",
    "        b=c\n",
    "        print(c)\n",
    "fib(5)"
   ]
  },
  {
   "cell_type": "code",
   "execution_count": 108,
   "metadata": {
    "ExecuteTime": {
     "end_time": "2021-04-11T16:54:37.725905Z",
     "start_time": "2021-04-11T16:54:37.705775Z"
    }
   },
   "outputs": [
    {
     "name": "stdout",
     "output_type": "stream",
     "text": [
      "6\n"
     ]
    }
   ],
   "source": [
    "#Factorial of a number\n",
    "def facto(n):\n",
    "    factorial=1\n",
    "    for i in range(1,n+1):\n",
    "        factorial=factorial*i\n",
    "    print(factorial)\n",
    "facto(3)\n",
    "        "
   ]
  },
  {
   "cell_type": "code",
   "execution_count": 1,
   "metadata": {
    "ExecuteTime": {
     "end_time": "2021-04-20T15:09:17.616037Z",
     "start_time": "2021-04-20T15:09:14.824840Z"
    }
   },
   "outputs": [
    {
     "name": "stdout",
     "output_type": "stream",
     "text": [
      "Enter a string123\n",
      "The next palindrome is 121\n"
     ]
    }
   ],
   "source": [
    "#Palindrome\n",
    "def is_palindrome(n):\n",
    "    return str(n)==str(n)[::-1]\n",
    "n=input('Enter a string' )\n",
    "if is_palindrome(n):\n",
    "    print('Palindrome')\n",
    "else:\n",
    "    n1=n\n",
    "    while not is_palindrome(n1):\n",
    "        n1=int(n1)-1\n",
    "    print('The next palindrome is',n1)"
   ]
  },
  {
   "cell_type": "code",
   "execution_count": 116,
   "metadata": {
    "ExecuteTime": {
     "end_time": "2021-04-11T16:59:00.350849Z",
     "start_time": "2021-04-11T16:59:00.341948Z"
    }
   },
   "outputs": [
    {
     "name": "stdout",
     "output_type": "stream",
     "text": [
      "[[2, 3, 4], [5, 6, 7], [8, 9]]\n"
     ]
    }
   ],
   "source": [
    "#Substring\n",
    "l=[1,2,3,4,5,6,7,8,9]\n",
    "s=[l[i:i+3] for i in range(1,len(l),3)]\n",
    "print(s)"
   ]
  },
  {
   "cell_type": "code",
   "execution_count": 121,
   "metadata": {
    "ExecuteTime": {
     "end_time": "2021-04-11T17:01:48.044409Z",
     "start_time": "2021-04-11T17:01:39.805310Z"
    }
   },
   "outputs": [
    {
     "name": "stdout",
     "output_type": "stream",
     "text": [
      "Enter a value16\n",
      "Yes\n"
     ]
    }
   ],
   "source": [
    "##Perfect square\n",
    "import math\n",
    "def perfectsquare(n):\n",
    "    root=math.sqrt(n)\n",
    "    return n==root**2\n",
    "\n",
    "n=int(input('Enter a value'))\n",
    "if perfectsquare(n):\n",
    "    print('Yes')\n",
    "else:\n",
    "    print('Not')"
   ]
  },
  {
   "cell_type": "code",
   "execution_count": 129,
   "metadata": {
    "ExecuteTime": {
     "end_time": "2021-04-11T17:04:57.881682Z",
     "start_time": "2021-04-11T17:04:57.873963Z"
    }
   },
   "outputs": [
    {
     "name": "stdout",
     "output_type": "stream",
     "text": [
      "prime\n"
     ]
    }
   ],
   "source": [
    "##Prime or not\n",
    "num=3\n",
    "for i in range(2,num):\n",
    "    if num%i==0:\n",
    "        print('Not a prime')\n",
    "        break\n",
    "else:\n",
    "        print('prime')"
   ]
  },
  {
   "cell_type": "code",
   "execution_count": 130,
   "metadata": {
    "ExecuteTime": {
     "end_time": "2021-04-11T17:05:16.159265Z",
     "start_time": "2021-04-11T17:05:16.147947Z"
    }
   },
   "outputs": [
    {
     "name": "stdout",
     "output_type": "stream",
     "text": [
      "The second largest value in a list 6\n"
     ]
    }
   ],
   "source": [
    "l=[1,2,3,4,5,6,7]\n",
    "l.sort()\n",
    "print('The second largest value in a list',l[-2])"
   ]
  },
  {
   "cell_type": "code",
   "execution_count": 131,
   "metadata": {
    "ExecuteTime": {
     "end_time": "2021-04-11T17:05:59.337589Z",
     "start_time": "2021-04-11T17:05:59.329649Z"
    }
   },
   "outputs": [
    {
     "data": {
      "text/plain": [
       "5"
      ]
     },
     "execution_count": 131,
     "metadata": {},
     "output_type": "execute_result"
    }
   ],
   "source": [
    "l=[1,2,3,4,5,6]\n",
    "max([i for i in l if i!=max(l)])"
   ]
  },
  {
   "cell_type": "code",
   "execution_count": 132,
   "metadata": {
    "ExecuteTime": {
     "end_time": "2021-04-11T17:06:15.067918Z",
     "start_time": "2021-04-11T17:06:15.052178Z"
    }
   },
   "outputs": [
    {
     "name": "stdout",
     "output_type": "stream",
     "text": [
      "dict_items([('cat', 2), ('dog', 2), ('sheep', 3)])\n"
     ]
    }
   ],
   "source": [
    "l=['cat','dog','cat','dog','sheep','sheep','sheep']\n",
    "from collections import Counter\n",
    "c=Counter(l)\n",
    "print(c.items())"
   ]
  },
  {
   "cell_type": "code",
   "execution_count": 2,
   "metadata": {
    "ExecuteTime": {
     "end_time": "2021-04-20T15:16:55.129902Z",
     "start_time": "2021-04-20T15:16:53.384219Z"
    }
   },
   "outputs": [
    {
     "name": "stdout",
     "output_type": "stream",
     "text": [
      "Enter a wordabhi\n",
      "a\n",
      "b\n",
      "h\n",
      "i\n",
      "a as occured 1 times\n",
      "b as occured 1 times\n",
      "h as occured 1 times\n",
      "i as occured 1 times\n"
     ]
    }
   ],
   "source": [
    "##Count of words.\n",
    "word=input('Enter a word')\n",
    "d={}\n",
    "for x in word:\n",
    "    print(x)\n",
    "    d[x]=d.get(x,0)+1\n",
    "for k,v in sorted(d.items()):\n",
    "    print(k,'as occured',v,'times')"
   ]
  },
  {
   "cell_type": "code",
   "execution_count": 155,
   "metadata": {
    "ExecuteTime": {
     "end_time": "2021-04-12T11:45:58.111111Z",
     "start_time": "2021-04-12T11:45:47.863865Z"
    }
   },
   "outputs": [
    {
     "name": "stdout",
     "output_type": "stream",
     "text": [
      "Enter a stringA1B2C3D4\n",
      "ABBCCCDDDD\n"
     ]
    }
   ],
   "source": [
    "##I/P-- A2B2\n",
    "##O/P-- AABB\n",
    "s=input('Enter a string')\n",
    "output=''\n",
    "for i in range(len(s)):\n",
    "    if s[i].isalpha() and s[i+1].isdigit():\n",
    "        output+=s[i]*int(s[i+1])\n",
    "print(output)"
   ]
  },
  {
   "cell_type": "code",
   "execution_count": 156,
   "metadata": {
    "ExecuteTime": {
     "end_time": "2021-04-12T11:46:30.389789Z",
     "start_time": "2021-04-12T11:46:27.619112Z"
    }
   },
   "outputs": [
    {
     "name": "stdout",
     "output_type": "stream",
     "text": [
      "Enter a stringa2b3\n",
      "aabbb\n"
     ]
    }
   ],
   "source": [
    "##I/P-- A2B2\n",
    "##O/P-- aabb\n",
    "s=input('Enter a string')\n",
    "output=''\n",
    "for i in range(len(s)): ##If we are taking string as input then in range we have to use len.\n",
    "    if s[i].isalpha() and s[i+1].isdigit():\n",
    "        output+=s[i]*int(s[i+1])\n",
    "print(output.lower())"
   ]
  },
  {
   "cell_type": "code",
   "execution_count": 10,
   "metadata": {
    "ExecuteTime": {
     "end_time": "2021-04-12T13:47:36.219171Z",
     "start_time": "2021-04-12T13:47:28.421344Z"
    }
   },
   "outputs": [
    {
     "name": "stdout",
     "output_type": "stream",
     "text": [
      "Enter a string1ABHI\n",
      "Enter a string2GOWD\n",
      "AGBOHWID\n"
     ]
    }
   ],
   "source": [
    "##ABHI\n",
    "##SHEK\n",
    "##OUTPUT ASBHHEIK\n",
    "s1=input('Enter a string1')\n",
    "s2=input('Enter a string2')\n",
    "output=''\n",
    "i=j=0\n",
    "while i<len(s1) or j<len(s2):\n",
    "    output+=s1[i]+s2[j]\n",
    "    i=i+1\n",
    "    j=j+1\n",
    "print(output)"
   ]
  },
  {
   "cell_type": "code",
   "execution_count": 170,
   "metadata": {
    "ExecuteTime": {
     "end_time": "2021-04-12T12:19:44.695776Z",
     "start_time": "2021-04-12T12:19:44.688794Z"
    }
   },
   "outputs": [
    {
     "data": {
      "text/plain": [
       "('A', 97)"
      ]
     },
     "execution_count": 170,
     "metadata": {},
     "output_type": "execute_result"
    }
   ],
   "source": [
    "##INPUT a4k3b2 OUTPUT aeknbd\n",
    "#Use unicode technique.\n",
    "##a=97,b=98.A=65,B=66\n",
    "chr(65),ord('a')"
   ]
  },
  {
   "cell_type": "code",
   "execution_count": 8,
   "metadata": {
    "ExecuteTime": {
     "end_time": "2021-04-12T12:39:24.899543Z",
     "start_time": "2021-04-12T12:39:22.514907Z"
    }
   },
   "outputs": [
    {
     "name": "stdout",
     "output_type": "stream",
     "text": [
      "Enter a string a3\n",
      "ad\n"
     ]
    }
   ],
   "source": [
    "s=input('Enter a string ')\n",
    "output=''\n",
    "for i in s:\n",
    "    if i.isalpha():\n",
    "        output+=i\n",
    "        x=i\n",
    "    else:\n",
    "        newch=chr(ord(x)+int(i))\n",
    "        output=output+newch\n",
    "print(output)"
   ]
  },
  {
   "cell_type": "code",
   "execution_count": 19,
   "metadata": {
    "ExecuteTime": {
     "end_time": "2021-04-12T14:01:56.053924Z",
     "start_time": "2021-04-12T14:01:56.025401Z"
    }
   },
   "outputs": [
    {
     "ename": "NameError",
     "evalue": "name 'n' is not defined",
     "output_type": "error",
     "traceback": [
      "\u001b[1;31m---------------------------------------------------------------------------\u001b[0m",
      "\u001b[1;31mNameError\u001b[0m                                 Traceback (most recent call last)",
      "\u001b[1;32m<ipython-input-19-c47f5548f6ff>\u001b[0m in \u001b[0;36m<module>\u001b[1;34m\u001b[0m\n\u001b[0;32m     13\u001b[0m         \u001b[0mprevious\u001b[0m\u001b[1;33m=\u001b[0m\u001b[0ms\u001b[0m\u001b[1;33m[\u001b[0m\u001b[0mi\u001b[0m\u001b[1;33m]\u001b[0m\u001b[1;33m\u001b[0m\u001b[1;33m\u001b[0m\u001b[0m\n\u001b[0;32m     14\u001b[0m         \u001b[0mc\u001b[0m\u001b[1;33m=\u001b[0m\u001b[1;36m1\u001b[0m\u001b[1;33m\u001b[0m\u001b[1;33m\u001b[0m\u001b[0m\n\u001b[1;32m---> 15\u001b[1;33m     \u001b[1;32mif\u001b[0m \u001b[0mi\u001b[0m\u001b[1;33m==\u001b[0m\u001b[0mn\u001b[0m\u001b[1;33m-\u001b[0m\u001b[1;36m1\u001b[0m\u001b[1;33m:\u001b[0m\u001b[1;33m\u001b[0m\u001b[1;33m\u001b[0m\u001b[0m\n\u001b[0m\u001b[0;32m     16\u001b[0m         \u001b[0moutput\u001b[0m\u001b[1;33m=\u001b[0m\u001b[0moutput\u001b[0m\u001b[1;33m+\u001b[0m\u001b[0mc\u001b[0m\u001b[1;33m+\u001b[0m\u001b[0mprevious\u001b[0m\u001b[1;33m\u001b[0m\u001b[1;33m\u001b[0m\u001b[0m\n\u001b[0;32m     17\u001b[0m \u001b[1;33m\u001b[0m\u001b[0m\n",
      "\u001b[1;31mNameError\u001b[0m: name 'n' is not defined"
     ]
    }
   ],
   "source": [
    "##INPUT aaaabbbccz \n",
    "#OUTPUT 4a3b2c1z\n",
    "s='aaaabbbccz'\n",
    "previous=s[0]\n",
    "output=''\n",
    "c=1\n",
    "i=1\n",
    "while i<len(s):\n",
    "    if s[i]==previous:\n",
    "        c=c+1\n",
    "    else:\n",
    "        output=output+str(c)+previous\n",
    "        previous=s[i]\n",
    "        c=1\n",
    "    if i==len(s)-1:\n",
    "        output=output+str(c)+previous\n",
    "        \n",
    "    i=i+1\n",
    "print(output)"
   ]
  },
  {
   "cell_type": "code",
   "execution_count": null,
   "metadata": {},
   "outputs": [],
   "source": []
  }
 ],
 "metadata": {
  "kernelspec": {
   "display_name": "Python 3",
   "language": "python",
   "name": "python3"
  },
  "language_info": {
   "codemirror_mode": {
    "name": "ipython",
    "version": 3
   },
   "file_extension": ".py",
   "mimetype": "text/x-python",
   "name": "python",
   "nbconvert_exporter": "python",
   "pygments_lexer": "ipython3",
   "version": "3.7.3"
  },
  "toc": {
   "base_numbering": 1,
   "nav_menu": {},
   "number_sections": true,
   "sideBar": true,
   "skip_h1_title": false,
   "title_cell": "Table of Contents",
   "title_sidebar": "Contents",
   "toc_cell": false,
   "toc_position": {},
   "toc_section_display": true,
   "toc_window_display": false
  },
  "varInspector": {
   "cols": {
    "lenName": 16,
    "lenType": 16,
    "lenVar": 40
   },
   "kernels_config": {
    "python": {
     "delete_cmd_postfix": "",
     "delete_cmd_prefix": "del ",
     "library": "var_list.py",
     "varRefreshCmd": "print(var_dic_list())"
    },
    "r": {
     "delete_cmd_postfix": ") ",
     "delete_cmd_prefix": "rm(",
     "library": "var_list.r",
     "varRefreshCmd": "cat(var_dic_list()) "
    }
   },
   "types_to_exclude": [
    "module",
    "function",
    "builtin_function_or_method",
    "instance",
    "_Feature"
   ],
   "window_display": false
  }
 },
 "nbformat": 4,
 "nbformat_minor": 2
}
