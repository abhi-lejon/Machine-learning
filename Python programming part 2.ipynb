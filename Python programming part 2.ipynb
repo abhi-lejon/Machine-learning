{
 "cells": [
  {
   "cell_type": "code",
   "execution_count": 4,
   "metadata": {
    "ExecuteTime": {
     "end_time": "2021-01-09T05:49:22.790019Z",
     "start_time": "2021-01-09T05:49:22.786067Z"
    }
   },
   "outputs": [],
   "source": [
    "#P1- Printing hello world "
   ]
  },
  {
   "cell_type": "code",
   "execution_count": 3,
   "metadata": {
    "ExecuteTime": {
     "end_time": "2021-02-04T12:08:19.588339Z",
     "start_time": "2021-02-04T12:08:19.559391Z"
    }
   },
   "outputs": [
    {
     "data": {
      "text/plain": [
       "array([0, 1, 2, 3, 4])"
      ]
     },
     "execution_count": 3,
     "metadata": {},
     "output_type": "execute_result"
    }
   ],
   "source": [
    "import numpy as np\n",
    "np.arange(0,5)"
   ]
  },
  {
   "cell_type": "code",
   "execution_count": 2,
   "metadata": {
    "ExecuteTime": {
     "end_time": "2021-05-28T10:13:48.347550Z",
     "start_time": "2021-05-28T10:13:48.333587Z"
    }
   },
   "outputs": [
    {
     "name": "stdout",
     "output_type": "stream",
     "text": [
      "0000000020\n"
     ]
    }
   ],
   "source": [
    "txt='20'\n",
    "x=txt.zfill(10)\n",
    "print(x)"
   ]
  },
  {
   "cell_type": "code",
   "execution_count": 4,
   "metadata": {
    "ExecuteTime": {
     "end_time": "2021-02-04T12:08:44.907731Z",
     "start_time": "2021-02-04T12:08:44.890776Z"
    }
   },
   "outputs": [
    {
     "data": {
      "text/plain": [
       "array([9, 2, 9, 5, 2, 9, 2, 2, 5, 7, 3, 9, 9, 7, 3, 3, 2, 6, 1, 8, 8, 9,\n",
       "       4, 0, 6, 6, 2, 7, 1, 4, 6, 2, 9, 9, 2, 6, 9, 3, 7, 7, 6, 1, 7, 7,\n",
       "       1, 2, 1, 5, 9, 8, 2, 1, 3, 1, 4, 4, 2, 1, 8, 6, 7, 9, 0, 7, 5, 3,\n",
       "       0, 0, 1, 5, 0, 6, 3, 0, 5, 1, 7, 7, 7, 3, 1, 9, 9, 2, 9, 1, 3, 7,\n",
       "       9, 8, 8, 9, 9, 4, 4, 8, 0, 3, 2, 4])"
      ]
     },
     "execution_count": 4,
     "metadata": {},
     "output_type": "execute_result"
    }
   ],
   "source": [
    "np.random.randint(0,10,100)"
   ]
  },
  {
   "cell_type": "code",
   "execution_count": 11,
   "metadata": {
    "ExecuteTime": {
     "end_time": "2021-02-04T12:10:29.428159Z",
     "start_time": "2021-02-04T12:10:29.419076Z"
    }
   },
   "outputs": [
    {
     "data": {
      "text/plain": [
       "array([-0.63164428, -1.42842056,  0.14645812,  0.47481981,  0.37935497,\n",
       "       -0.89331549, -0.61250641, -0.90364648,  0.38369757,  0.18878483,\n",
       "        0.34096502, -1.6102087 , -0.4329439 , -1.83258553,  0.53173825,\n",
       "        0.1156742 , -0.82760156, -0.92943679, -0.52138362,  0.31061162])"
      ]
     },
     "execution_count": 11,
     "metadata": {},
     "output_type": "execute_result"
    }
   ],
   "source": [
    "np.random.randn(20)"
   ]
  },
  {
   "cell_type": "code",
   "execution_count": 12,
   "metadata": {
    "ExecuteTime": {
     "end_time": "2021-02-04T12:10:33.217559Z",
     "start_time": "2021-02-04T12:10:33.205593Z"
    }
   },
   "outputs": [
    {
     "data": {
      "text/plain": [
       "array([-1.56971314,  0.31623628,  0.48473991,  0.43878467,  0.17875718,\n",
       "        3.03229597, -0.21635086,  2.69150583,  0.488183  ,  0.10978291])"
      ]
     },
     "execution_count": 12,
     "metadata": {},
     "output_type": "execute_result"
    }
   ],
   "source": [
    "np.random.randn(10)"
   ]
  },
  {
   "cell_type": "code",
   "execution_count": 17,
   "metadata": {
    "ExecuteTime": {
     "end_time": "2021-02-04T12:15:12.485179Z",
     "start_time": "2021-02-04T12:15:12.474271Z"
    }
   },
   "outputs": [
    {
     "data": {
      "text/plain": [
       "array([  0.        ,  11.11111111,  22.22222222,  33.33333333,\n",
       "        44.44444444,  55.55555556,  66.66666667,  77.77777778,\n",
       "        88.88888889, 100.        ])"
      ]
     },
     "execution_count": 17,
     "metadata": {},
     "output_type": "execute_result"
    }
   ],
   "source": [
    "np.linspace(0,100,10)"
   ]
  },
  {
   "cell_type": "code",
   "execution_count": 31,
   "metadata": {
    "ExecuteTime": {
     "end_time": "2021-02-04T12:18:42.845063Z",
     "start_time": "2021-02-04T12:18:42.838137Z"
    }
   },
   "outputs": [
    {
     "data": {
      "text/plain": [
       "[100, 2, 3, 4]"
      ]
     },
     "execution_count": 31,
     "metadata": {},
     "output_type": "execute_result"
    }
   ],
   "source": [
    "a=[1,2,3,4]\n",
    "a[0]=100\n",
    "a"
   ]
  },
  {
   "cell_type": "code",
   "execution_count": 29,
   "metadata": {
    "ExecuteTime": {
     "end_time": "2021-02-04T12:18:34.455213Z",
     "start_time": "2021-02-04T12:18:34.441300Z"
    }
   },
   "outputs": [
    {
     "ename": "TypeError",
     "evalue": "'tuple' object does not support item assignment",
     "output_type": "error",
     "traceback": [
      "\u001b[1;31m---------------------------------------------------------------------------\u001b[0m",
      "\u001b[1;31mTypeError\u001b[0m                                 Traceback (most recent call last)",
      "\u001b[1;32m<ipython-input-29-52c63d0ab6b6>\u001b[0m in \u001b[0;36m<module>\u001b[1;34m\u001b[0m\n\u001b[0;32m      1\u001b[0m \u001b[0ma\u001b[0m\u001b[1;33m=\u001b[0m\u001b[1;33m(\u001b[0m\u001b[1;36m1\u001b[0m\u001b[1;33m,\u001b[0m\u001b[1;36m2\u001b[0m\u001b[1;33m,\u001b[0m\u001b[1;36m3\u001b[0m\u001b[1;33m,\u001b[0m\u001b[1;36m4\u001b[0m\u001b[1;33m)\u001b[0m\u001b[1;33m\u001b[0m\u001b[1;33m\u001b[0m\u001b[0m\n\u001b[1;32m----> 2\u001b[1;33m \u001b[0ma\u001b[0m\u001b[1;33m[\u001b[0m\u001b[1;36m0\u001b[0m\u001b[1;33m]\u001b[0m\u001b[1;33m=\u001b[0m\u001b[1;36m3\u001b[0m\u001b[1;33m\u001b[0m\u001b[1;33m\u001b[0m\u001b[0m\n\u001b[0m",
      "\u001b[1;31mTypeError\u001b[0m: 'tuple' object does not support item assignment"
     ]
    }
   ],
   "source": [
    "a=(1,2,3,4)\n",
    "a[0]=3"
   ]
  },
  {
   "cell_type": "code",
   "execution_count": 9,
   "metadata": {
    "ExecuteTime": {
     "end_time": "2021-02-05T10:11:26.190265Z",
     "start_time": "2021-02-05T10:11:26.181319Z"
    }
   },
   "outputs": [
    {
     "data": {
      "text/plain": [
       "[[1, 2, 3, 4], ['a', 'b', 'c', 'd']]"
      ]
     },
     "execution_count": 9,
     "metadata": {},
     "output_type": "execute_result"
    }
   ],
   "source": [
    "import copy\n",
    "a=[[1,2,3,4],['a','b','c','d']]\n",
    "b=copy.deepcopy(a)\n",
    "b"
   ]
  },
  {
   "cell_type": "code",
   "execution_count": 10,
   "metadata": {
    "ExecuteTime": {
     "end_time": "2021-02-05T10:11:27.177714Z",
     "start_time": "2021-02-05T10:11:27.171730Z"
    }
   },
   "outputs": [
    {
     "data": {
      "text/plain": [
       "[[1, 2, 3, 4], ['a', 'b', 'c', 'd']]"
      ]
     },
     "execution_count": 10,
     "metadata": {},
     "output_type": "execute_result"
    }
   ],
   "source": [
    "b[0]=[2,3,4,5]\n",
    "a"
   ]
  },
  {
   "cell_type": "code",
   "execution_count": 11,
   "metadata": {
    "ExecuteTime": {
     "end_time": "2021-02-05T10:11:30.201498Z",
     "start_time": "2021-02-05T10:11:30.195514Z"
    }
   },
   "outputs": [
    {
     "data": {
      "text/plain": [
       "[[2, 3, 4, 5], ['a', 'b', 'c', 'd']]"
      ]
     },
     "execution_count": 11,
     "metadata": {},
     "output_type": "execute_result"
    }
   ],
   "source": [
    "b"
   ]
  },
  {
   "cell_type": "code",
   "execution_count": 6,
   "metadata": {
    "ExecuteTime": {
     "end_time": "2021-02-05T10:10:53.829254Z",
     "start_time": "2021-02-05T10:10:53.821273Z"
    }
   },
   "outputs": [
    {
     "data": {
      "text/plain": [
       "[[1, 2, 3, 4], ['a', 'b', 'c', 'd']]"
      ]
     },
     "execution_count": 6,
     "metadata": {},
     "output_type": "execute_result"
    }
   ],
   "source": [
    "a=[[1,2,3,4],['a','b','c','d']]\n",
    "b=copy.copy(a)\n",
    "b"
   ]
  },
  {
   "cell_type": "code",
   "execution_count": 7,
   "metadata": {
    "ExecuteTime": {
     "end_time": "2021-02-05T10:11:07.485367Z",
     "start_time": "2021-02-05T10:11:07.479381Z"
    }
   },
   "outputs": [
    {
     "data": {
      "text/plain": [
       "[[100, 2, 3, 4], ['a', 'b', 'c', 'd']]"
      ]
     },
     "execution_count": 7,
     "metadata": {},
     "output_type": "execute_result"
    }
   ],
   "source": [
    "b[0][0]=100\n",
    "a"
   ]
  },
  {
   "cell_type": "code",
   "execution_count": 8,
   "metadata": {
    "ExecuteTime": {
     "end_time": "2021-02-05T10:11:10.770323Z",
     "start_time": "2021-02-05T10:11:10.764337Z"
    }
   },
   "outputs": [
    {
     "data": {
      "text/plain": [
       "[[100, 2, 3, 4], ['a', 'b', 'c', 'd']]"
      ]
     },
     "execution_count": 8,
     "metadata": {},
     "output_type": "execute_result"
    }
   ],
   "source": [
    "b"
   ]
  },
  {
   "cell_type": "code",
   "execution_count": 5,
   "metadata": {
    "ExecuteTime": {
     "end_time": "2021-01-09T05:49:22.974896Z",
     "start_time": "2021-01-09T05:49:22.969911Z"
    }
   },
   "outputs": [
    {
     "name": "stdout",
     "output_type": "stream",
     "text": [
      "Hello World!\n"
     ]
    }
   ],
   "source": [
    "print('Hello World!') #Can directly assign a value"
   ]
  },
  {
   "cell_type": "code",
   "execution_count": 6,
   "metadata": {
    "ExecuteTime": {
     "end_time": "2021-01-09T05:49:23.191541Z",
     "start_time": "2021-01-09T05:49:23.184527Z"
    }
   },
   "outputs": [
    {
     "name": "stdout",
     "output_type": "stream",
     "text": [
      "Hello World!\n"
     ]
    }
   ],
   "source": [
    "a='Hello World!' #Assign a value to variable and print the variable, both ways will work\n",
    "print(a)"
   ]
  },
  {
   "cell_type": "code",
   "execution_count": 20,
   "metadata": {
    "ExecuteTime": {
     "end_time": "2021-01-09T05:59:15.739857Z",
     "start_time": "2021-01-09T05:59:15.732873Z"
    }
   },
   "outputs": [
    {
     "name": "stdout",
     "output_type": "stream",
     "text": [
      "Sum of 4 and 6 is 10\n"
     ]
    }
   ],
   "source": [
    "#P2- Add two numbers\n",
    "num1=int(4.5)\n",
    "num2=6\n",
    "sum=num1+num2\n",
    "print(\"Sum of {0} and {1} is {2}\". format(num1,num2,sum))"
   ]
  },
  {
   "cell_type": "code",
   "execution_count": 23,
   "metadata": {
    "ExecuteTime": {
     "end_time": "2021-01-09T06:02:01.575609Z",
     "start_time": "2021-01-09T06:01:58.366762Z"
    }
   },
   "outputs": [
    {
     "name": "stdout",
     "output_type": "stream",
     "text": [
      "Enter first num: 4.5\n",
      "Enter second num: 3.2\n",
      "Sum of 4.5 and 3.2 is 7.7\n"
     ]
    }
   ],
   "source": [
    "N1=input(\"Enter first num: \")\n",
    "N2=input(\"Enter second num: \")\n",
    "Sum=float(N1)+float(N2) #Here's a trick, the input returns a string, so we need to convert string to number first and then add he numbers\n",
    "print(\"Sum of {0} and {1} is {2}\". format(N1,N2,Sum))"
   ]
  },
  {
   "cell_type": "code",
   "execution_count": 1,
   "metadata": {
    "ExecuteTime": {
     "end_time": "2021-05-24T05:49:18.371232Z",
     "start_time": "2021-05-24T05:49:14.750371Z"
    }
   },
   "outputs": [
    {
     "name": "stdout",
     "output_type": "stream",
     "text": [
      "Enter first num: 1\n",
      "Enter second num: 2\n",
      "The sum is 3.0\n"
     ]
    }
   ],
   "source": [
    "#Entire thing can be done in single line\n",
    "print('The sum is %.1f' %(float(input(\"Enter first num: \"))+float(input(\"Enter second num: \")))) #%.1f is as the input we are giving as float, so formatting as to done."
   ]
  },
  {
   "cell_type": "code",
   "execution_count": 47,
   "metadata": {
    "ExecuteTime": {
     "end_time": "2021-01-09T07:03:19.329855Z",
     "start_time": "2021-01-09T07:03:19.319881Z"
    }
   },
   "outputs": [
    {
     "name": "stdout",
     "output_type": "stream",
     "text": [
      "The square root of 5.000 is 2.236\n",
      "The squre root of (1+2j) is 1.272+0.786j\n",
      "[1.         1.41421356 1.73205081]\n",
      "3.1622776601683795\n"
     ]
    }
   ],
   "source": [
    "#P3- Finding square for positive number\n",
    "num=5\n",
    "num_sqrt=num**0.5\n",
    "print('The square root of %.3f is %.3f'%(num,num_sqrt))\n",
    "\n",
    "##For complex number and negative numbers, we use cmath module\n",
    "import cmath\n",
    "num=1+2j\n",
    "num_sqrt=cmath.sqrt(num)\n",
    "print('The squre root of {0} is {1:.3f}+{2:.3f}j'.format(num,num_sqrt.real,num_sqrt.imag))\n",
    "#To take input from the user, then use EVAL to convert complex numbers as well.\n",
    "import math\n",
    "import numpy as np\n",
    "num=[1,2,3]\n",
    "print(np.sqrt(num))\n",
    "num=10\n",
    "print(math.sqrt(num))\n",
    "#The math works for single number and numpy workd for list,tuple not for set."
   ]
  },
  {
   "cell_type": "code",
   "execution_count": 54,
   "metadata": {
    "ExecuteTime": {
     "end_time": "2021-01-09T07:10:20.995084Z",
     "start_time": "2021-01-09T07:10:20.987102Z"
    }
   },
   "outputs": [
    {
     "name": "stdout",
     "output_type": "stream",
     "text": [
      "The area of triangle is 16.25\n"
     ]
    }
   ],
   "source": [
    "#P4- Calculate area of triangle\n",
    "#Area of triangle is given by (1/2)*(base*height) or semi perimeter is given by s=(a+b+c)/2 and area is (s*(s-a)*(s-b)*(s-c))**0.5\n",
    "a=5\n",
    "b=10\n",
    "c=7\n",
    "s=(a+b+c)/2\n",
    "area=(s*(s-a)*(s-b)*(s-c))**0.5\n",
    "print('The area of triangle is %.2f' %area)"
   ]
  },
  {
   "cell_type": "code",
   "execution_count": 60,
   "metadata": {
    "ExecuteTime": {
     "end_time": "2021-01-09T07:22:59.547662Z",
     "start_time": "2021-01-09T07:22:59.537727Z"
    }
   },
   "outputs": [
    {
     "name": "stdout",
     "output_type": "stream",
     "text": [
      " The two solutions are (-3+0j) and (-2+0j) :)\n"
     ]
    }
   ],
   "source": [
    "#P5- Quadratic equation\n",
    "#Solve the quadratic equation a*x**2+b*x+c=0\n",
    "a=1\n",
    "b=5\n",
    "c=6\n",
    "#Find the discriminent\n",
    "#d=bsquare-4ac\n",
    "d=(b**2)-(4*a*c)\n",
    "#Find two solutions\n",
    "sol1=(-b-cmath.sqrt(d))/(2*a)\n",
    "sol2=(-b+cmath.sqrt(d))/(2*a)\n",
    "\n",
    "print(\" The two solutions are {0} and {1}\".format(sol1,sol2))\n"
   ]
  },
  {
   "cell_type": "code",
   "execution_count": 74,
   "metadata": {
    "ExecuteTime": {
     "end_time": "2021-01-09T07:28:35.412944Z",
     "start_time": "2021-01-09T07:28:35.402977Z"
    }
   },
   "outputs": [
    {
     "name": "stdout",
     "output_type": "stream",
     "text": [
      "The value of x after swapping is 5\n",
      "The value of y after swapping is 4\n",
      "**************************************************\n",
      "The value of x after swapping is 2\n",
      "The value of y after swapping is 1\n"
     ]
    }
   ],
   "source": [
    "#P6- Swapping two number using temporary variable\n",
    "x=4\n",
    "y=5\n",
    "\n",
    "temp=x\n",
    "x=y\n",
    "y=temp\n",
    "\n",
    "print(\"The value of x after swapping is {}\" .format(x))\n",
    "print(\"The value of y after swapping is {}\" .format(y))\n",
    "print('**************************************************')\n",
    "#Another method is direct one\n",
    "x=1\n",
    "y=2\n",
    "x,y=y,x\n",
    "print(\"The value of x after swapping is {}\" .format(x))\n",
    "print(\"The value of y after swapping is {}\" .format(y))"
   ]
  },
  {
   "cell_type": "code",
   "execution_count": 81,
   "metadata": {
    "ExecuteTime": {
     "end_time": "2021-01-09T07:31:15.116376Z",
     "start_time": "2021-01-09T07:31:15.107398Z"
    }
   },
   "outputs": [
    {
     "name": "stdout",
     "output_type": "stream",
     "text": [
      "1\n",
      "[7 0 8 5 3 4 1 6 7 2]\n",
      "[[ 0.22857332  0.48843953  0.27491146  0.2236774  -0.17404635]\n",
      " [-0.1103269   0.90614372 -0.18557588 -0.19313296 -0.22588615]\n",
      " [ 0.49316546  0.32798446 -0.21091749  0.42088812  1.14271374]\n",
      " [ 0.27067967  1.08933349  0.04359735 -0.94784203  0.30053295]\n",
      " [ 0.25876792  0.27750402 -0.44944467 -0.20102129 -0.46358901]]\n"
     ]
    }
   ],
   "source": [
    "#P6- # Program to generate a random number between 0 and 9\n",
    "import random\n",
    "print(random.randint(0,9))\n",
    "import numpy as np\n",
    "print(np.random.randint(0,9,10))#low,high,size\n",
    "print(np.random.randn(5,5))"
   ]
  },
  {
   "cell_type": "code",
   "execution_count": 89,
   "metadata": {
    "ExecuteTime": {
     "end_time": "2021-01-09T07:35:44.591607Z",
     "start_time": "2021-01-09T07:35:44.585624Z"
    }
   },
   "outputs": [
    {
     "name": "stdout",
     "output_type": "stream",
     "text": [
      "The 3.50 Kilometers is equal to 2.17 miles\n"
     ]
    }
   ],
   "source": [
    "#P-7 Kilometers to miles\n",
    "#For this u need a conv_factor=0.621\n",
    "kilometers=3.5\n",
    "conv_factor=0.621\n",
    "miles=kilometers*conv_factor\n",
    "print('The %.2f Kilometers is equal to %.2f miles' %(kilometers,miles))"
   ]
  },
  {
   "cell_type": "code",
   "execution_count": 90,
   "metadata": {
    "ExecuteTime": {
     "end_time": "2021-01-09T07:37:55.794739Z",
     "start_time": "2021-01-09T07:37:55.787757Z"
    }
   },
   "outputs": [
    {
     "name": "stdout",
     "output_type": "stream",
     "text": [
      "The fahrenheit is  95.0\n"
     ]
    }
   ],
   "source": [
    "#P8- Celsius to fahrenheit\n",
    "celsius=35\n",
    "fahrenheit=(celsius*1.8)+32\n",
    "print('The fahrenheit is ',format(fahrenheit))"
   ]
  },
  {
   "cell_type": "code",
   "execution_count": 102,
   "metadata": {
    "ExecuteTime": {
     "end_time": "2021-01-09T07:54:57.528570Z",
     "start_time": "2021-01-09T07:54:55.422379Z"
    }
   },
   "outputs": [
    {
     "name": "stdout",
     "output_type": "stream",
     "text": [
      "Enter a number0\n",
      "Zero\n",
      "***********************\n",
      "Enter a number0\n",
      "Zero\n"
     ]
    }
   ],
   "source": [
    "#P9- To check number is Positive, Negative or Zero.\n",
    "#This can be done in two ways, one way is using if,elif and other one is using Nested if.\n",
    "num=float(input('Enter a number'))\n",
    "if num>0:\n",
    "    print('Positive Number')\n",
    "elif num==0:\n",
    "    print('Zero')\n",
    "else:\n",
    "    print('Negative Number')\n",
    "print('***********************')\n",
    "\n",
    "num=int(input('Enter a number'))\n",
    "if num>=0: #Should give num>=0 first for nested if\n",
    "    if num==0:\n",
    "        print('Zero')\n",
    "    else:\n",
    "        print('Positive number')\n",
    "else:\n",
    "    print('Negative number')"
   ]
  },
  {
   "cell_type": "code",
   "execution_count": 111,
   "metadata": {
    "ExecuteTime": {
     "end_time": "2021-01-09T07:59:07.160302Z",
     "start_time": "2021-01-09T07:59:05.967109Z"
    }
   },
   "outputs": [
    {
     "name": "stdout",
     "output_type": "stream",
     "text": [
      "Enter a number3\n"
     ]
    },
    {
     "ename": "TypeError",
     "evalue": "not all arguments converted during string formatting",
     "output_type": "error",
     "traceback": [
      "\u001b[1;31m---------------------------------------------------------------------------\u001b[0m",
      "\u001b[1;31mTypeError\u001b[0m                                 Traceback (most recent call last)",
      "\u001b[1;32m<ipython-input-111-20d5d08c7493>\u001b[0m in \u001b[0;36m<module>\u001b[1;34m\u001b[0m\n\u001b[0;32m      1\u001b[0m \u001b[1;31m#P10- Check if a number is odd or even\u001b[0m\u001b[1;33m\u001b[0m\u001b[1;33m\u001b[0m\u001b[1;33m\u001b[0m\u001b[0m\n\u001b[0;32m      2\u001b[0m \u001b[0mnum\u001b[0m\u001b[1;33m=\u001b[0m\u001b[0minput\u001b[0m\u001b[1;33m(\u001b[0m\u001b[1;34m'Enter a number'\u001b[0m\u001b[1;33m)\u001b[0m\u001b[1;33m\u001b[0m\u001b[1;33m\u001b[0m\u001b[0m\n\u001b[1;32m----> 3\u001b[1;33m \u001b[1;32mif\u001b[0m \u001b[1;33m(\u001b[0m\u001b[0mnum\u001b[0m \u001b[1;33m%\u001b[0m \u001b[1;36m2\u001b[0m\u001b[1;33m)\u001b[0m \u001b[1;33m==\u001b[0m \u001b[1;36m0\u001b[0m\u001b[1;33m:\u001b[0m\u001b[1;33m\u001b[0m\u001b[1;33m\u001b[0m\u001b[0m\n\u001b[0m\u001b[0;32m      4\u001b[0m     \u001b[0mprint\u001b[0m\u001b[1;33m(\u001b[0m\u001b[1;34m'Even'\u001b[0m\u001b[1;33m)\u001b[0m\u001b[1;33m\u001b[0m\u001b[1;33m\u001b[0m\u001b[0m\n\u001b[0;32m      5\u001b[0m \u001b[1;32melse\u001b[0m\u001b[1;33m:\u001b[0m\u001b[1;33m\u001b[0m\u001b[1;33m\u001b[0m\u001b[0m\n",
      "\u001b[1;31mTypeError\u001b[0m: not all arguments converted during string formatting"
     ]
    }
   ],
   "source": [
    "#P10- Check if a number is odd or even\n",
    "num=input('Enter a number') #Always the input returns string, so we need use int or float.\n",
    "if (num % 2) == 0:\n",
    "    print('Even')\n",
    "else:\n",
    "    print('Odd')"
   ]
  },
  {
   "cell_type": "code",
   "execution_count": null,
   "metadata": {
    "ExecuteTime": {
     "start_time": "2021-01-09T09:50:58.981Z"
    }
   },
   "outputs": [],
   "source": [
    "#P11- To check is the given year is leap or not.\n",
    "#We say year is leap if it exactly divides by 4 and for century year it as to divide by 400, remainder should be Zero.\n",
    "year=int(input('Enter a year :'))\n",
    "if (year%4)==0:\n",
    "    if (year%100)==0:\n",
    "        if (year%400)==0:\n",
    "            print('Leap year')\n",
    "        else:\n",
    "            print('Not a Leap year')\n",
    "    else:\n",
    "        print('Leap year')\n",
    "else:\n",
    "    print('Not a leap year')"
   ]
  },
  {
   "cell_type": "code",
   "execution_count": 1,
   "metadata": {
    "ExecuteTime": {
     "end_time": "2021-01-09T09:58:24.841747Z",
     "start_time": "2021-01-09T09:58:24.831776Z"
    }
   },
   "outputs": [
    {
     "name": "stdout",
     "output_type": "stream",
     "text": [
      "The largest number is : 20\n"
     ]
    }
   ],
   "source": [
    "#P12- Finding the largest number\n",
    "num1=10\n",
    "num2=15\n",
    "num3=20\n",
    "if (num1>=num2) and (num1>=num3):\n",
    "    largest=num1\n",
    "elif (num2>=num1) and (num2>=num3):\n",
    "    largest=num2\n",
    "else:\n",
    "    largest=num3\n",
    "print('The largest number is :',largest)"
   ]
  },
  {
   "cell_type": "code",
   "execution_count": 6,
   "metadata": {
    "ExecuteTime": {
     "end_time": "2021-01-09T11:19:35.319594Z",
     "start_time": "2021-01-09T11:19:35.309618Z"
    }
   },
   "outputs": [
    {
     "name": "stdout",
     "output_type": "stream",
     "text": [
      "4  is not a prime number\n",
      "2 times 2 is 4\n"
     ]
    }
   ],
   "source": [
    "#P13- Given number is prime number or not, the number is said to be prime if its factor is 1.\n",
    "num=4\n",
    "if num>1: #Prime numbers are always greater than one.\n",
    "    for i in range(2,num):\n",
    "        if num%i==0:\n",
    "            print(num,\" is not a prime number\")\n",
    "            print(i,\"times\",num//i,\"is\",num)\n",
    "            break\n",
    "        else:\n",
    "            print(num,\"is a prime number\")\n",
    "else: #For num less than one.\n",
    "    print(num,\"is not a prime number\")\n"
   ]
  },
  {
   "cell_type": "code",
   "execution_count": 17,
   "metadata": {
    "ExecuteTime": {
     "end_time": "2021-01-09T11:30:14.192650Z",
     "start_time": "2021-01-09T11:30:14.179686Z"
    }
   },
   "outputs": [
    {
     "name": "stdout",
     "output_type": "stream",
     "text": [
      "Prime numbers between 900 and 1000 are:\n",
      "907\n",
      "911\n",
      "919\n",
      "929\n",
      "937\n",
      "941\n",
      "947\n",
      "953\n",
      "967\n",
      "971\n",
      "977\n",
      "983\n",
      "991\n",
      "997\n"
     ]
    }
   ],
   "source": [
    "#P14-Print all the prime numbers within an interval\n",
    "lower=900\n",
    "upper=1000\n",
    "print(\"Prime numbers between\", lower, \"and\", upper, \"are:\")\n",
    "for num in range(lower,upper+1):\n",
    "    if num>1: #All prime numbers are greater than 1.\n",
    "        for i in range(2,num):\n",
    "            if (num%i)==0:\n",
    "                break\n",
    "        else:\n",
    "            print(num)"
   ]
  },
  {
   "cell_type": "code",
   "execution_count": 18,
   "metadata": {
    "ExecuteTime": {
     "end_time": "2021-01-09T11:43:17.759838Z",
     "start_time": "2021-01-09T11:43:17.753835Z"
    }
   },
   "outputs": [
    {
     "name": "stdout",
     "output_type": "stream",
     "text": [
      "1\n",
      "2\n",
      "3\n",
      "4\n",
      "5\n",
      "6\n"
     ]
    }
   ],
   "source": [
    "#P15-Finding factorial of a number.\n",
    "num=7\n",
    "factorial=1\n",
    "if num<0:\n",
    "    print(\"Factorial doesn't exist for negative number\")\n",
    "elif num==0:\n",
    "    print('The Factorial is 1')\n",
    "else:\n",
    "    for i in range(1,num+1):\n",
    "        factorial=factorial*i\n",
    "    print('The factorial of',num,'is',factorial )"
   ]
  },
  {
   "cell_type": "code",
   "execution_count": 19,
   "metadata": {
    "ExecuteTime": {
     "end_time": "2021-01-09T17:04:28.901073Z",
     "start_time": "2021-01-09T17:04:28.880123Z"
    }
   },
   "outputs": [
    {
     "name": "stdout",
     "output_type": "stream",
     "text": [
      "0\n",
      "1\n",
      "1\n",
      "2\n",
      "3\n",
      "5\n",
      "8\n"
     ]
    }
   ],
   "source": [
    "#P16-Fibbonicci series\n",
    "def fib(a,b):\n",
    "    while(a<10):\n",
    "        print(a)\n",
    "        a,b=b,a+b\n",
    "\n",
    "fib(0,1)"
   ]
  },
  {
   "cell_type": "code",
   "execution_count": null,
   "metadata": {},
   "outputs": [],
   "source": [
    "#palindrome, perfect squares, sub list"
   ]
  },
  {
   "cell_type": "code",
   "execution_count": 18,
   "metadata": {
    "ExecuteTime": {
     "end_time": "2021-02-05T11:45:22.473357Z",
     "start_time": "2021-02-05T11:45:22.460390Z"
    }
   },
   "outputs": [
    {
     "data": {
      "text/plain": [
       "[[1, 2], [4, 5], [7, 8], [10]]"
      ]
     },
     "execution_count": 18,
     "metadata": {},
     "output_type": "execute_result"
    }
   ],
   "source": [
    "#Creating a sublists\n",
    "seq=[1,2,3,4,5,6,7,8,9,10]\n",
    "[seq[i:i+2] for i in range(0,len(seq),3)]"
   ]
  },
  {
   "cell_type": "code",
   "execution_count": 26,
   "metadata": {
    "ExecuteTime": {
     "end_time": "2021-01-10T06:04:03.347094Z",
     "start_time": "2021-01-10T06:04:03.336151Z"
    }
   },
   "outputs": [],
   "source": [
    "#Palindrome"
   ]
  },
  {
   "cell_type": "code",
   "execution_count": 11,
   "metadata": {
    "ExecuteTime": {
     "end_time": "2021-01-10T06:25:31.832872Z",
     "start_time": "2021-01-10T06:25:30.038124Z"
    }
   },
   "outputs": [
    {
     "name": "stdout",
     "output_type": "stream",
     "text": [
      "3\n",
      "123\n",
      "[123]\n",
      "The plindrome number are:\n"
     ]
    }
   ],
   "source": [
    "#Size of the string\n",
    "n=int(input())\n",
    "#Give the list of numbers having size n\n",
    "l=list(map(int,input().split(' '))) #We must use split\n",
    "print(l)\n",
    "print('The plindrome number are:')\n",
    "#Go through the list to check if the given number is palindrome or not\n",
    "for i in l:\n",
    "    num=str(i)\n",
    "    if (num==num[::-1]):\n",
    "        print(i)"
   ]
  },
  {
   "cell_type": "code",
   "execution_count": 4,
   "metadata": {
    "ExecuteTime": {
     "end_time": "2021-01-10T06:35:21.672481Z",
     "start_time": "2021-01-10T06:35:20.433915Z"
    }
   },
   "outputs": [
    {
     "name": "stdout",
     "output_type": "stream",
     "text": [
      "Enter the value:123\n",
      "The next palindrome is 121\n"
     ]
    }
   ],
   "source": [
    "def is_palindrome(n):\n",
    "    return str(n)==str(n)[::-1]\n",
    "\n",
    "n=str(input('Enter the value:'))\n",
    "if is_palindrome(n):\n",
    "    print('The number {0} is palindrome:'.format(n))\n",
    "else:\n",
    "    n1=n\n",
    "    while not is_palindrome(n1):\n",
    "        n1=int(n1)-1\n",
    "    print('The next palindrome is {1}'.format(n,n1))\n",
    "        "
   ]
  },
  {
   "cell_type": "code",
   "execution_count": 1,
   "metadata": {
    "ExecuteTime": {
     "end_time": "2021-01-10T06:49:36.133281Z",
     "start_time": "2021-01-10T06:49:34.351532Z"
    }
   },
   "outputs": [
    {
     "name": "stdout",
     "output_type": "stream",
     "text": [
      "Enter a integer3\n",
      "Not a perfect square\n"
     ]
    }
   ],
   "source": [
    "import math\n",
    "def is_square(integer):\n",
    "    root=math.sqrt(integer)\n",
    "    return integer==int(root)**2\n",
    "\n",
    "integer=int(input('Enter a integer'))\n",
    "if is_square(integer):\n",
    "    print('The given integer {0} is a perfect square'.format(integer))\n",
    "else:\n",
    "    print('Not a perfect square')\n",
    "\n"
   ]
  },
  {
   "cell_type": "code",
   "execution_count": 34,
   "metadata": {
    "ExecuteTime": {
     "end_time": "2021-02-05T12:05:58.659547Z",
     "start_time": "2021-02-05T12:05:58.647588Z"
    }
   },
   "outputs": [
    {
     "data": {
      "text/plain": [
       "[[1, 2, 3], [4, 5, 6], [7, 8, 9], [10]]"
      ]
     },
     "execution_count": 34,
     "metadata": {},
     "output_type": "execute_result"
    }
   ],
   "source": [
    "seq=[1,2,3,4,5,6,7,8,9,10]\n",
    "[seq[i:i+3] for i in range(0,len(seq),3)]"
   ]
  },
  {
   "cell_type": "code",
   "execution_count": 3,
   "metadata": {
    "ExecuteTime": {
     "end_time": "2021-02-18T11:30:44.227525Z",
     "start_time": "2021-02-18T11:30:44.221540Z"
    }
   },
   "outputs": [
    {
     "name": "stdout",
     "output_type": "stream",
     "text": [
      "[1, 4, 9, 16, 25]\n"
     ]
    }
   ],
   "source": [
    "l=[1,2,3,4,5]\n",
    "a=[i**2 for i in l]\n",
    "print(a)"
   ]
  },
  {
   "cell_type": "code",
   "execution_count": 110,
   "metadata": {
    "ExecuteTime": {
     "end_time": "2021-02-09T12:42:23.874733Z",
     "start_time": "2021-02-09T12:42:23.852170Z"
    }
   },
   "outputs": [
    {
     "name": "stdout",
     "output_type": "stream",
     "text": [
      "dict_items([('cat', 2), ('dog', 2), ('sheep', 3)])\n"
     ]
    }
   ],
   "source": [
    "l=['cat','dog','cat','dog','sheep','sheep','sheep']\n",
    "from collections import Counter\n",
    "c=Counter(l)\n",
    "print(c.items())"
   ]
  },
  {
   "cell_type": "code",
   "execution_count": 67,
   "metadata": {
    "ExecuteTime": {
     "end_time": "2021-04-11T16:22:22.899970Z",
     "start_time": "2021-04-11T16:22:22.887070Z"
    }
   },
   "outputs": [
    {
     "name": "stdout",
     "output_type": "stream",
     "text": [
      "a\n",
      "a\n",
      "b\n",
      "b\n",
      "b\n"
     ]
    },
    {
     "data": {
      "text/plain": [
       "defaultdict(int, {'a': 2, 'b': 3})"
      ]
     },
     "execution_count": 67,
     "metadata": {},
     "output_type": "execute_result"
    }
   ],
   "source": [
    "#l=['cat','dog','cat','dog','sheep','sheep','sheep']\n",
    "from collections import defaultdict\n",
    "l = ['a', 'a', 'b', 'b', 'b']\n",
    "d = defaultdict(int)\n",
    "for i in l:\n",
    "    print(i)\n",
    "    d[i] += 1\n",
    "d"
   ]
  },
  {
   "cell_type": "code",
   "execution_count": 5,
   "metadata": {
    "ExecuteTime": {
     "end_time": "2021-04-20T14:20:10.193219Z",
     "start_time": "2021-04-20T14:20:10.186220Z"
    }
   },
   "outputs": [
    {
     "name": "stdout",
     "output_type": "stream",
     "text": [
      "prime\n"
     ]
    }
   ],
   "source": [
    "num=5##FInding prime or not\n",
    "for i in range(2,num):\n",
    "    if num%i==0:\n",
    "        print('Not prime')\n",
    "else:\n",
    "    print('prime')"
   ]
  },
  {
   "cell_type": "code",
   "execution_count": null,
   "metadata": {},
   "outputs": [],
   "source": [
    "#Finding second largest number"
   ]
  },
  {
   "cell_type": "code",
   "execution_count": 62,
   "metadata": {
    "ExecuteTime": {
     "end_time": "2021-02-06T14:07:58.704694Z",
     "start_time": "2021-02-06T14:07:58.698711Z"
    }
   },
   "outputs": [],
   "source": [
    "l = ['a', 'b', 'a', 'b', 'b']\n",
    "d={}\n",
    "for i in l:\n",
    "    if i in d:d[i]+=1\n",
    "    else: d[i]=1"
   ]
  },
  {
   "cell_type": "code",
   "execution_count": 63,
   "metadata": {
    "ExecuteTime": {
     "end_time": "2021-02-06T14:08:19.681322Z",
     "start_time": "2021-02-06T14:08:19.675083Z"
    }
   },
   "outputs": [
    {
     "data": {
      "text/plain": [
       "[('a', 2), ('b', 3)]"
      ]
     },
     "execution_count": 63,
     "metadata": {},
     "output_type": "execute_result"
    }
   ],
   "source": [
    "mytups = [(i, d[i]) for i in d]\n",
    "mytups"
   ]
  },
  {
   "cell_type": "code",
   "execution_count": 71,
   "metadata": {
    "ExecuteTime": {
     "end_time": "2021-02-06T14:13:30.958305Z",
     "start_time": "2021-02-06T14:13:30.952327Z"
    }
   },
   "outputs": [
    {
     "name": "stdout",
     "output_type": "stream",
     "text": [
      "The second largest value in a list 6\n"
     ]
    }
   ],
   "source": [
    "l=[1,2,3,4,5,6,7]\n",
    "l.sort()\n",
    "print('The second largest value in a list',l[-2])"
   ]
  },
  {
   "cell_type": "code",
   "execution_count": 74,
   "metadata": {
    "ExecuteTime": {
     "end_time": "2021-02-06T14:18:43.484437Z",
     "start_time": "2021-02-06T14:18:43.477454Z"
    }
   },
   "outputs": [
    {
     "data": {
      "text/plain": [
       "6"
      ]
     },
     "execution_count": 74,
     "metadata": {},
     "output_type": "execute_result"
    }
   ],
   "source": [
    "max([n for n in l if n!=max(l)])"
   ]
  },
  {
   "cell_type": "code",
   "execution_count": 86,
   "metadata": {
    "ExecuteTime": {
     "end_time": "2021-02-08T05:49:48.594826Z",
     "start_time": "2021-02-08T05:49:48.585863Z"
    }
   },
   "outputs": [
    {
     "name": "stdout",
     "output_type": "stream",
     "text": [
      "707 706\n"
     ]
    }
   ],
   "source": [
    "alist=[10, 0,3,10,90,5,-2,4,18,45,707, 100,1,-266,706, 1]\n",
    "largest = alist[0]\n",
    "second_largest = alist[0]\n",
    "for i in range(len(alist)):\n",
    "    if alist[i] > second_largest:\n",
    "        second_largest = alist[i]\n",
    "    if alist[i] > largest:\n",
    "        tmp = second_largest\n",
    "        second_largest = largest\n",
    "        largest = tmp\n",
    "\n",
    "print(largest, second_largest)"
   ]
  },
  {
   "cell_type": "code",
   "execution_count": 77,
   "metadata": {
    "ExecuteTime": {
     "end_time": "2021-02-06T14:20:27.940083Z",
     "start_time": "2021-02-06T14:20:27.934081Z"
    }
   },
   "outputs": [
    {
     "data": {
      "text/plain": [
       "1"
      ]
     },
     "execution_count": 77,
     "metadata": {},
     "output_type": "execute_result"
    }
   ],
   "source": [
    "l=[1,2,3,4,5]\n",
    "l[0]"
   ]
  },
  {
   "cell_type": "code",
   "execution_count": 87,
   "metadata": {
    "ExecuteTime": {
     "end_time": "2021-02-08T13:41:53.987326Z",
     "start_time": "2021-02-08T13:41:53.974362Z"
    }
   },
   "outputs": [
    {
     "name": "stdout",
     "output_type": "stream",
     "text": [
      "1\n",
      "2\n",
      "3\n",
      "4\n",
      "5\n"
     ]
    }
   ],
   "source": [
    "l=[1,2,3,4,5] #iterable\n",
    "for i in l: #i is the iterator, which traverse through the list of values.\n",
    "    print(i)"
   ]
  },
  {
   "cell_type": "code",
   "execution_count": 19,
   "metadata": {
    "ExecuteTime": {
     "end_time": "2021-02-18T11:34:01.906203Z",
     "start_time": "2021-02-18T11:34:01.902214Z"
    }
   },
   "outputs": [],
   "source": [
    "l=[1,2,3,4,5]\n",
    "list=iter(l)"
   ]
  },
  {
   "cell_type": "code",
   "execution_count": 21,
   "metadata": {
    "ExecuteTime": {
     "end_time": "2021-02-18T11:34:05.766314Z",
     "start_time": "2021-02-18T11:34:05.759331Z"
    }
   },
   "outputs": [
    {
     "name": "stdout",
     "output_type": "stream",
     "text": [
      "2\n"
     ]
    }
   ],
   "source": [
    "print(next(list))"
   ]
  },
  {
   "cell_type": "code",
   "execution_count": 23,
   "metadata": {
    "ExecuteTime": {
     "end_time": "2021-02-18T11:34:18.319012Z",
     "start_time": "2021-02-18T11:34:18.306046Z"
    }
   },
   "outputs": [
    {
     "ename": "TypeError",
     "evalue": "'int' object is not iterable",
     "output_type": "error",
     "traceback": [
      "\u001b[1;31m---------------------------------------------------------------------------\u001b[0m",
      "\u001b[1;31mTypeError\u001b[0m                                 Traceback (most recent call last)",
      "\u001b[1;32m<ipython-input-23-50a30999ddbf>\u001b[0m in \u001b[0;36m<module>\u001b[1;34m\u001b[0m\n\u001b[0;32m      1\u001b[0m \u001b[1;32mimport\u001b[0m \u001b[0mrandom\u001b[0m\u001b[1;33m\u001b[0m\u001b[1;33m\u001b[0m\u001b[0m\n\u001b[1;32m----> 2\u001b[1;33m \u001b[1;32mfor\u001b[0m \u001b[0mi\u001b[0m \u001b[1;32min\u001b[0m \u001b[0mnp\u001b[0m\u001b[1;33m.\u001b[0m\u001b[0mrandom\u001b[0m\u001b[1;33m.\u001b[0m\u001b[0mrandint\u001b[0m\u001b[1;33m(\u001b[0m\u001b[1;36m1\u001b[0m\u001b[1;33m,\u001b[0m\u001b[1;36m2\u001b[0m\u001b[1;33m)\u001b[0m\u001b[1;33m:\u001b[0m\u001b[1;31m# we cannot iterate the integer\u001b[0m\u001b[1;33m\u001b[0m\u001b[1;33m\u001b[0m\u001b[0m\n\u001b[0m\u001b[0;32m      3\u001b[0m     \u001b[0mprint\u001b[0m\u001b[1;33m(\u001b[0m\u001b[0mi\u001b[0m\u001b[1;33m)\u001b[0m\u001b[1;33m\u001b[0m\u001b[1;33m\u001b[0m\u001b[0m\n",
      "\u001b[1;31mTypeError\u001b[0m: 'int' object is not iterable"
     ]
    }
   ],
   "source": [
    "import random\n",
    "for i in random.randint(1,2):# we cannot iterate the integer\n",
    "    print(i)"
   ]
  },
  {
   "cell_type": "code",
   "execution_count": 7,
   "metadata": {
    "ExecuteTime": {
     "end_time": "2021-02-18T11:32:31.985590Z",
     "start_time": "2021-02-18T11:32:31.968635Z"
    }
   },
   "outputs": [
    {
     "ename": "TypeError",
     "evalue": "'int' object is not iterable",
     "output_type": "error",
     "traceback": [
      "\u001b[1;31m---------------------------------------------------------------------------\u001b[0m",
      "\u001b[1;31mTypeError\u001b[0m                                 Traceback (most recent call last)",
      "\u001b[1;32m<ipython-input-7-1dd46053444f>\u001b[0m in \u001b[0;36m<module>\u001b[1;34m\u001b[0m\n\u001b[0;32m      1\u001b[0m \u001b[0mi\u001b[0m\u001b[1;33m=\u001b[0m\u001b[1;36m3\u001b[0m\u001b[1;33m\u001b[0m\u001b[1;33m\u001b[0m\u001b[0m\n\u001b[1;32m----> 2\u001b[1;33m \u001b[1;32mfor\u001b[0m \u001b[0mj\u001b[0m \u001b[1;32min\u001b[0m \u001b[0mi\u001b[0m\u001b[1;33m:\u001b[0m\u001b[1;33m\u001b[0m\u001b[1;33m\u001b[0m\u001b[0m\n\u001b[0m\u001b[0;32m      3\u001b[0m     \u001b[0mprint\u001b[0m\u001b[1;33m(\u001b[0m\u001b[0mj\u001b[0m\u001b[1;33m)\u001b[0m\u001b[1;33m\u001b[0m\u001b[1;33m\u001b[0m\u001b[0m\n",
      "\u001b[1;31mTypeError\u001b[0m: 'int' object is not iterable"
     ]
    }
   ],
   "source": [
    "i=3\n",
    "for j in i:\n",
    "    print(j)"
   ]
  },
  {
   "cell_type": "code",
   "execution_count": 26,
   "metadata": {
    "ExecuteTime": {
     "end_time": "2021-02-18T11:35:09.856099Z",
     "start_time": "2021-02-18T11:35:09.848118Z"
    }
   },
   "outputs": [
    {
     "name": "stdout",
     "output_type": "stream",
     "text": [
      "Love\n",
      "the\n",
      "nature\n"
     ]
    }
   ],
   "source": [
    "i='Love the nature'\n",
    "l=i.split()\n",
    "for i in l:\n",
    "    i.split()\n",
    "    print(i)"
   ]
  },
  {
   "cell_type": "code",
   "execution_count": 33,
   "metadata": {
    "ExecuteTime": {
     "end_time": "2021-02-18T16:12:56.449968Z",
     "start_time": "2021-02-18T16:12:56.444202Z"
    }
   },
   "outputs": [
    {
     "name": "stdout",
     "output_type": "stream",
     "text": [
      "The square of 4 is: 16\n"
     ]
    }
   ],
   "source": [
    "a=lambda x:x*x\n",
    "print('The square of 4 is:',a(4))"
   ]
  },
  {
   "cell_type": "code",
   "execution_count": 35,
   "metadata": {
    "ExecuteTime": {
     "end_time": "2021-04-11T15:00:24.219879Z",
     "start_time": "2021-04-11T15:00:24.211900Z"
    }
   },
   "outputs": [
    {
     "name": "stdout",
     "output_type": "stream",
     "text": [
      "{16, 1, 4, 9}\n"
     ]
    }
   ],
   "source": [
    "l1=set(map(lambda n:n**2,[1,2,3,4])) #Any number of arguments can be passed, but should have only one expression.\n",
    "print(l1)"
   ]
  },
  {
   "cell_type": "code",
   "execution_count": 36,
   "metadata": {
    "ExecuteTime": {
     "end_time": "2021-04-11T15:00:35.461644Z",
     "start_time": "2021-04-11T15:00:35.453630Z"
    }
   },
   "outputs": [
    {
     "name": "stdout",
     "output_type": "stream",
     "text": [
      "{9, 11, 5, 7}\n"
     ]
    }
   ],
   "source": [
    "l1=[1,2,3,4,5]\n",
    "l2=[4,5,6,7]\n",
    "l3=set(map(lambda x,y:x+y,l1,l2))\n",
    "print(l3)"
   ]
  },
  {
   "cell_type": "code",
   "execution_count": 37,
   "metadata": {
    "ExecuteTime": {
     "end_time": "2021-04-11T15:00:36.831483Z",
     "start_time": "2021-04-11T15:00:36.821510Z"
    }
   },
   "outputs": [
    {
     "data": {
      "text/plain": [
       "range(0, 10)"
      ]
     },
     "execution_count": 37,
     "metadata": {},
     "output_type": "execute_result"
    }
   ],
   "source": [
    "l1=range(10)\n",
    "l1"
   ]
  },
  {
   "cell_type": "code",
   "execution_count": 38,
   "metadata": {
    "ExecuteTime": {
     "end_time": "2021-04-11T15:00:37.875313Z",
     "start_time": "2021-04-11T15:00:37.869327Z"
    }
   },
   "outputs": [
    {
     "data": {
      "text/plain": [
       "range(10, 20)"
      ]
     },
     "execution_count": 38,
     "metadata": {},
     "output_type": "execute_result"
    }
   ],
   "source": [
    "l2=range(10,20)\n",
    "l2"
   ]
  },
  {
   "cell_type": "code",
   "execution_count": 39,
   "metadata": {
    "ExecuteTime": {
     "end_time": "2021-04-11T15:00:44.358840Z",
     "start_time": "2021-04-11T15:00:44.342883Z"
    }
   },
   "outputs": [
    {
     "data": {
      "text/plain": [
       "{10, 12, 14, 16, 18, 20, 22, 24, 26, 28}"
      ]
     },
     "execution_count": 39,
     "metadata": {},
     "output_type": "execute_result"
    }
   ],
   "source": [
    "l3=set(map(lambda x,y:x+y,l1,l2))\n",
    "l3"
   ]
  },
  {
   "cell_type": "code",
   "execution_count": 41,
   "metadata": {
    "ExecuteTime": {
     "end_time": "2021-04-11T15:00:52.463802Z",
     "start_time": "2021-04-11T15:00:52.456824Z"
    }
   },
   "outputs": [
    {
     "data": {
      "text/plain": [
       "{16, 18, 20, 22, 24, 26, 28}"
      ]
     },
     "execution_count": 41,
     "metadata": {},
     "output_type": "execute_result"
    }
   ],
   "source": [
    "l4=set(filter(lambda x:x>15,l3))\n",
    "l4"
   ]
  },
  {
   "cell_type": "code",
   "execution_count": 67,
   "metadata": {
    "ExecuteTime": {
     "end_time": "2021-02-18T16:30:59.466587Z",
     "start_time": "2021-02-18T16:30:59.457665Z"
    }
   },
   "outputs": [
    {
     "data": {
      "text/plain": [
       "2214051840"
      ]
     },
     "execution_count": 67,
     "metadata": {},
     "output_type": "execute_result"
    }
   ],
   "source": [
    "from functools import reduce\n",
    "reduce(lambda x,y:x*y, l4)"
   ]
  },
  {
   "cell_type": "code",
   "execution_count": 68,
   "metadata": {
    "ExecuteTime": {
     "end_time": "2021-02-18T16:31:01.331445Z",
     "start_time": "2021-02-18T16:31:01.324430Z"
    }
   },
   "outputs": [
    {
     "data": {
      "text/plain": [
       "2214051840"
      ]
     },
     "execution_count": 68,
     "metadata": {},
     "output_type": "execute_result"
    }
   ],
   "source": [
    "reduce(lambda x,y:x*y,filter(lambda x:x>15,map(lambda x,y:x+y,l1,l2)))"
   ]
  },
  {
   "cell_type": "code",
   "execution_count": 74,
   "metadata": {
    "ExecuteTime": {
     "end_time": "2021-02-18T16:42:13.450991Z",
     "start_time": "2021-02-18T16:42:13.444977Z"
    }
   },
   "outputs": [
    {
     "name": "stdout",
     "output_type": "stream",
     "text": [
      "10\n",
      "11\n",
      "12\n",
      "13\n",
      "14\n",
      "15\n",
      "16\n",
      "17\n",
      "18\n",
      "19\n"
     ]
    }
   ],
   "source": [
    "for i in range(10,20):\n",
    "    print(i)"
   ]
  },
  {
   "cell_type": "code",
   "execution_count": 3,
   "metadata": {
    "ExecuteTime": {
     "end_time": "2021-04-10T13:56:44.571260Z",
     "start_time": "2021-04-10T13:56:44.563261Z"
    }
   },
   "outputs": [
    {
     "name": "stdout",
     "output_type": "stream",
     "text": [
      "10\n"
     ]
    }
   ],
   "source": [
    "cas0=10\n",
    "print(cas0)"
   ]
  },
  {
   "cell_type": "code",
   "execution_count": 4,
   "metadata": {
    "ExecuteTime": {
     "end_time": "2021-04-10T13:56:45.559065Z",
     "start_time": "2021-04-10T13:56:45.543062Z"
    }
   },
   "outputs": [
    {
     "name": "stdout",
     "output_type": "stream",
     "text": [
      "10\n"
     ]
    }
   ],
   "source": [
    "cash=10\n",
    "print(cash)"
   ]
  },
  {
   "cell_type": "code",
   "execution_count": 5,
   "metadata": {
    "ExecuteTime": {
     "end_time": "2021-04-10T13:56:46.901509Z",
     "start_time": "2021-04-10T13:56:46.893542Z"
    }
   },
   "outputs": [
    {
     "ename": "SyntaxError",
     "evalue": "invalid syntax (<ipython-input-5-c5349cbac094>, line 1)",
     "output_type": "error",
     "traceback": [
      "\u001b[1;36m  File \u001b[1;32m\"<ipython-input-5-c5349cbac094>\"\u001b[1;36m, line \u001b[1;32m1\u001b[0m\n\u001b[1;33m    123cash=10\u001b[0m\n\u001b[1;37m          ^\u001b[0m\n\u001b[1;31mSyntaxError\u001b[0m\u001b[1;31m:\u001b[0m invalid syntax\n"
     ]
    }
   ],
   "source": [
    "123cash=10"
   ]
  },
  {
   "cell_type": "code",
   "execution_count": 6,
   "metadata": {
    "ExecuteTime": {
     "end_time": "2021-04-10T13:56:49.928749Z",
     "start_time": "2021-04-10T13:56:49.920750Z"
    }
   },
   "outputs": [],
   "source": [
    "cash123=10"
   ]
  },
  {
   "cell_type": "code",
   "execution_count": 8,
   "metadata": {
    "ExecuteTime": {
     "end_time": "2021-04-10T13:57:00.737788Z",
     "start_time": "2021-04-10T13:57:00.729788Z"
    }
   },
   "outputs": [
    {
     "name": "stdout",
     "output_type": "stream",
     "text": [
      "10\n"
     ]
    }
   ],
   "source": [
    "_abc=10\n",
    "print(_abc)"
   ]
  },
  {
   "cell_type": "code",
   "execution_count": 9,
   "metadata": {
    "ExecuteTime": {
     "end_time": "2021-04-10T13:57:14.225875Z",
     "start_time": "2021-04-10T13:57:14.208461Z"
    }
   },
   "outputs": [
    {
     "data": {
      "text/plain": [
       "['False',\n",
       " 'None',\n",
       " 'True',\n",
       " 'and',\n",
       " 'as',\n",
       " 'assert',\n",
       " 'async',\n",
       " 'await',\n",
       " 'break',\n",
       " 'class',\n",
       " 'continue',\n",
       " 'def',\n",
       " 'del',\n",
       " 'elif',\n",
       " 'else',\n",
       " 'except',\n",
       " 'finally',\n",
       " 'for',\n",
       " 'from',\n",
       " 'global',\n",
       " 'if',\n",
       " 'import',\n",
       " 'in',\n",
       " 'is',\n",
       " 'lambda',\n",
       " 'nonlocal',\n",
       " 'not',\n",
       " 'or',\n",
       " 'pass',\n",
       " 'raise',\n",
       " 'return',\n",
       " 'try',\n",
       " 'while',\n",
       " 'with',\n",
       " 'yield']"
      ]
     },
     "execution_count": 9,
     "metadata": {},
     "output_type": "execute_result"
    }
   ],
   "source": [
    "import keyword\n",
    "keyword.kwlist"
   ]
  },
  {
   "cell_type": "code",
   "execution_count": 10,
   "metadata": {
    "ExecuteTime": {
     "end_time": "2021-04-10T13:57:18.860443Z",
     "start_time": "2021-04-10T13:57:18.845586Z"
    }
   },
   "outputs": [
    {
     "data": {
      "text/plain": [
       "int"
      ]
     },
     "execution_count": 10,
     "metadata": {},
     "output_type": "execute_result"
    }
   ],
   "source": [
    "a=10\n",
    "type(a)"
   ]
  },
  {
   "cell_type": "code",
   "execution_count": 11,
   "metadata": {
    "ExecuteTime": {
     "end_time": "2021-04-10T13:57:33.711866Z",
     "start_time": "2021-04-10T13:57:33.699357Z"
    }
   },
   "outputs": [],
   "source": [
    "a=1+2j"
   ]
  },
  {
   "cell_type": "code",
   "execution_count": 12,
   "metadata": {
    "ExecuteTime": {
     "end_time": "2021-04-10T13:59:35.319176Z",
     "start_time": "2021-04-10T13:59:35.305667Z"
    }
   },
   "outputs": [
    {
     "data": {
      "text/plain": [
       "True"
      ]
     },
     "execution_count": 12,
     "metadata": {},
     "output_type": "execute_result"
    }
   ],
   "source": [
    "x=10\n",
    "y=10\n",
    "y is x"
   ]
  },
  {
   "cell_type": "code",
   "execution_count": 13,
   "metadata": {
    "ExecuteTime": {
     "end_time": "2021-04-10T13:59:36.241982Z",
     "start_time": "2021-04-10T13:59:36.230444Z"
    }
   },
   "outputs": [
    {
     "data": {
      "text/plain": [
       "True"
      ]
     },
     "execution_count": 13,
     "metadata": {},
     "output_type": "execute_result"
    }
   ],
   "source": [
    "x==y"
   ]
  },
  {
   "cell_type": "code",
   "execution_count": 93,
   "metadata": {
    "ExecuteTime": {
     "end_time": "2021-02-19T11:36:55.591504Z",
     "start_time": "2021-02-19T11:36:55.585519Z"
    }
   },
   "outputs": [
    {
     "data": {
      "text/plain": [
       "False"
      ]
     },
     "execution_count": 93,
     "metadata": {},
     "output_type": "execute_result"
    }
   ],
   "source": [
    "x=257\n",
    "y=257\n",
    "x is y"
   ]
  },
  {
   "cell_type": "code",
   "execution_count": 14,
   "metadata": {
    "ExecuteTime": {
     "end_time": "2021-04-10T14:00:01.791903Z",
     "start_time": "2021-04-10T14:00:01.777748Z"
    }
   },
   "outputs": [
    {
     "data": {
      "text/plain": [
       "False"
      ]
     },
     "execution_count": 14,
     "metadata": {},
     "output_type": "execute_result"
    }
   ],
   "source": [
    "x=10\n",
    "y=20\n",
    "x==y"
   ]
  },
  {
   "cell_type": "code",
   "execution_count": 94,
   "metadata": {
    "ExecuteTime": {
     "end_time": "2021-02-19T11:37:09.687112Z",
     "start_time": "2021-02-19T11:37:09.681127Z"
    }
   },
   "outputs": [
    {
     "data": {
      "text/plain": [
       "False"
      ]
     },
     "execution_count": 94,
     "metadata": {},
     "output_type": "execute_result"
    }
   ],
   "source": [
    "x=10.1 #Reusing is not there for floating and complex datatype\n",
    "y=10.1\n",
    "x is y"
   ]
  },
  {
   "cell_type": "code",
   "execution_count": 17,
   "metadata": {
    "ExecuteTime": {
     "end_time": "2021-04-10T14:01:00.150936Z",
     "start_time": "2021-04-10T14:01:00.135320Z"
    }
   },
   "outputs": [
    {
     "data": {
      "text/plain": [
       "False"
      ]
     },
     "execution_count": 17,
     "metadata": {},
     "output_type": "execute_result"
    }
   ],
   "source": [
    "x=10+2j\n",
    "Y=10+2j\n",
    "x is y"
   ]
  },
  {
   "cell_type": "code",
   "execution_count": 27,
   "metadata": {
    "ExecuteTime": {
     "end_time": "2021-04-10T14:10:03.055778Z",
     "start_time": "2021-04-10T14:10:03.021073Z"
    }
   },
   "outputs": [
    {
     "data": {
      "text/plain": [
       "(2051096300464, 2051096300208)"
      ]
     },
     "execution_count": 27,
     "metadata": {},
     "output_type": "execute_result"
    }
   ],
   "source": [
    "x=10+2j\n",
    "y=10+2j\n",
    "id(x),id(y)"
   ]
  },
  {
   "cell_type": "code",
   "execution_count": 30,
   "metadata": {
    "ExecuteTime": {
     "end_time": "2021-04-10T14:11:56.866750Z",
     "start_time": "2021-04-10T14:11:56.849684Z"
    }
   },
   "outputs": [
    {
     "data": {
      "text/plain": [
       "(2051096468200, 2051096468200)"
      ]
     },
     "execution_count": 30,
     "metadata": {},
     "output_type": "execute_result"
    }
   ],
   "source": [
    "a='abhi'\n",
    "b='abhi'\n",
    "a is b\n",
    "id(a),id(b)"
   ]
  },
  {
   "cell_type": "code",
   "execution_count": 29,
   "metadata": {
    "ExecuteTime": {
     "end_time": "2021-04-10T14:10:45.284284Z",
     "start_time": "2021-04-10T14:10:45.271358Z"
    }
   },
   "outputs": [
    {
     "data": {
      "text/plain": [
       "(140728445016400, 140728445016400)"
      ]
     },
     "execution_count": 29,
     "metadata": {},
     "output_type": "execute_result"
    }
   ],
   "source": [
    "a=True\n",
    "b=True\n",
    "a is b\n",
    "id(a),id(b)"
   ]
  },
  {
   "cell_type": "code",
   "execution_count": 26,
   "metadata": {
    "ExecuteTime": {
     "end_time": "2021-04-10T14:09:28.653897Z",
     "start_time": "2021-04-10T14:09:28.639427Z"
    }
   },
   "outputs": [
    {
     "data": {
      "text/plain": [
       "(2051096273896, 2051096273896)"
      ]
     },
     "execution_count": 26,
     "metadata": {},
     "output_type": "execute_result"
    }
   ],
   "source": [
    "a='abhi'\n",
    "b='abhi'\n",
    "a is b\n",
    "##id(a)\n",
    "id(a),id(b)"
   ]
  },
  {
   "cell_type": "code",
   "execution_count": 25,
   "metadata": {
    "ExecuteTime": {
     "end_time": "2021-04-10T14:03:47.475327Z",
     "start_time": "2021-04-10T14:03:47.468213Z"
    }
   },
   "outputs": [
    {
     "data": {
      "text/plain": [
       "(140728445539264, 140728445539264)"
      ]
     },
     "execution_count": 25,
     "metadata": {},
     "output_type": "execute_result"
    }
   ],
   "source": [
    "a=5\n",
    "b=5\n",
    "id(a),id(b)"
   ]
  },
  {
   "cell_type": "code",
   "execution_count": 35,
   "metadata": {
    "ExecuteTime": {
     "end_time": "2021-04-10T14:21:24.728095Z",
     "start_time": "2021-04-10T14:21:24.714880Z"
    }
   },
   "outputs": [
    {
     "data": {
      "text/plain": [
       "[1, 2, 3, [1, 2, 3, 4]]"
      ]
     },
     "execution_count": 35,
     "metadata": {},
     "output_type": "execute_result"
    }
   ],
   "source": [
    "l=[1,2,3]\n",
    "l.append([1,2,3,4])\n",
    "l"
   ]
  },
  {
   "cell_type": "code",
   "execution_count": 32,
   "metadata": {
    "ExecuteTime": {
     "end_time": "2021-04-10T14:19:06.722913Z",
     "start_time": "2021-04-10T14:19:06.698974Z"
    }
   },
   "outputs": [
    {
     "data": {
      "text/plain": [
       "[1, 2, 3, 10, 'Null']"
      ]
     },
     "execution_count": 32,
     "metadata": {},
     "output_type": "execute_result"
    }
   ],
   "source": [
    "l.append('Null')\n",
    "l"
   ]
  },
  {
   "cell_type": "code",
   "execution_count": 33,
   "metadata": {
    "ExecuteTime": {
     "end_time": "2021-04-10T14:19:19.659821Z",
     "start_time": "2021-04-10T14:19:19.636387Z"
    }
   },
   "outputs": [
    {
     "data": {
      "text/plain": [
       "[0.5, 2, 3, 10, 'Null']"
      ]
     },
     "execution_count": 33,
     "metadata": {},
     "output_type": "execute_result"
    }
   ],
   "source": [
    "l[0]=l[0]/2\n",
    "l"
   ]
  },
  {
   "cell_type": "code",
   "execution_count": 34,
   "metadata": {
    "ExecuteTime": {
     "end_time": "2021-04-10T14:19:24.073021Z",
     "start_time": "2021-04-10T14:19:23.862431Z"
    }
   },
   "outputs": [
    {
     "ename": "TypeError",
     "evalue": "unsupported operand type(s) for /: 'tuple' and 'int'",
     "output_type": "error",
     "traceback": [
      "\u001b[1;31m---------------------------------------------------------------------------\u001b[0m",
      "\u001b[1;31mTypeError\u001b[0m                                 Traceback (most recent call last)",
      "\u001b[1;32m<ipython-input-34-ec859ab74970>\u001b[0m in \u001b[0;36m<module>\u001b[1;34m\u001b[0m\n\u001b[0;32m      1\u001b[0m \u001b[0ms\u001b[0m\u001b[1;33m=\u001b[0m\u001b[1;33m(\u001b[0m\u001b[1;36m10\u001b[0m\u001b[1;33m,\u001b[0m\u001b[1;36m20\u001b[0m\u001b[1;33m,\u001b[0m\u001b[1;36m10\u001b[0m\u001b[1;33m)\u001b[0m\u001b[1;33m\u001b[0m\u001b[1;33m\u001b[0m\u001b[0m\n\u001b[1;32m----> 2\u001b[1;33m \u001b[0ms\u001b[0m\u001b[1;33m=\u001b[0m\u001b[0ms\u001b[0m\u001b[1;33m/\u001b[0m\u001b[1;36m2\u001b[0m\u001b[1;33m\u001b[0m\u001b[1;33m\u001b[0m\u001b[0m\n\u001b[0m",
      "\u001b[1;31mTypeError\u001b[0m: unsupported operand type(s) for /: 'tuple' and 'int'"
     ]
    }
   ],
   "source": [
    "s=(10,20,10)\n",
    "s=s/2"
   ]
  },
  {
   "cell_type": "code",
   "execution_count": 127,
   "metadata": {
    "ExecuteTime": {
     "end_time": "2021-02-19T12:31:53.565803Z",
     "start_time": "2021-02-19T12:31:53.552838Z"
    }
   },
   "outputs": [
    {
     "name": "stdout",
     "output_type": "stream",
     "text": [
      "0\n",
      "1\n",
      "2\n",
      "3\n",
      "4\n",
      "5\n",
      "6\n",
      "7\n",
      "8\n",
      "9\n"
     ]
    }
   ],
   "source": [
    "for i in range(10):\n",
    "    print(i)"
   ]
  },
  {
   "cell_type": "code",
   "execution_count": 130,
   "metadata": {
    "ExecuteTime": {
     "end_time": "2021-02-19T13:22:53.115917Z",
     "start_time": "2021-02-19T13:22:53.103951Z"
    }
   },
   "outputs": [
    {
     "ename": "TypeError",
     "evalue": "'set' object does not support item assignment",
     "output_type": "error",
     "traceback": [
      "\u001b[1;31m---------------------------------------------------------------------------\u001b[0m",
      "\u001b[1;31mTypeError\u001b[0m                                 Traceback (most recent call last)",
      "\u001b[1;32m<ipython-input-130-bf0cef909f84>\u001b[0m in \u001b[0;36m<module>\u001b[1;34m\u001b[0m\n\u001b[0;32m      1\u001b[0m \u001b[0ms\u001b[0m\u001b[1;33m=\u001b[0m\u001b[1;33m{\u001b[0m\u001b[1;36m1\u001b[0m\u001b[1;33m,\u001b[0m\u001b[1;36m2\u001b[0m\u001b[1;33m,\u001b[0m\u001b[1;36m3\u001b[0m\u001b[1;33m,\u001b[0m\u001b[1;36m4\u001b[0m\u001b[1;33m,\u001b[0m\u001b[1;34m'abc'\u001b[0m\u001b[1;33m}\u001b[0m\u001b[1;33m\u001b[0m\u001b[1;33m\u001b[0m\u001b[0m\n\u001b[1;32m----> 2\u001b[1;33m \u001b[0ms\u001b[0m\u001b[1;33m[\u001b[0m\u001b[1;36m0\u001b[0m\u001b[1;33m]\u001b[0m\u001b[1;33m=\u001b[0m\u001b[1;36m100\u001b[0m\u001b[1;33m\u001b[0m\u001b[1;33m\u001b[0m\u001b[0m\n\u001b[0m",
      "\u001b[1;31mTypeError\u001b[0m: 'set' object does not support item assignment"
     ]
    }
   ],
   "source": [
    "s={1,2,3,4,'abc'}\n",
    "s[0]="
   ]
  },
  {
   "cell_type": "code",
   "execution_count": 36,
   "metadata": {
    "ExecuteTime": {
     "end_time": "2021-04-10T14:23:46.626815Z",
     "start_time": "2021-04-10T14:23:46.614473Z"
    }
   },
   "outputs": [
    {
     "data": {
      "text/plain": [
       "{1: 'abhi', 2: 'abc'}"
      ]
     },
     "execution_count": 36,
     "metadata": {},
     "output_type": "execute_result"
    }
   ],
   "source": [
    "d={1:'abhi',2:'abc'}\n",
    "d"
   ]
  },
  {
   "cell_type": "code",
   "execution_count": 37,
   "metadata": {
    "ExecuteTime": {
     "end_time": "2021-04-10T14:23:48.371439Z",
     "start_time": "2021-04-10T14:23:48.358876Z"
    }
   },
   "outputs": [
    {
     "data": {
      "text/plain": [
       "{1: 'abhishek', 2: 'abc'}"
      ]
     },
     "execution_count": 37,
     "metadata": {},
     "output_type": "execute_result"
    }
   ],
   "source": [
    "d[1]='abhishek'\n",
    "d"
   ]
  },
  {
   "cell_type": "code",
   "execution_count": 133,
   "metadata": {
    "ExecuteTime": {
     "end_time": "2021-02-22T14:03:50.803504Z",
     "start_time": "2021-02-22T14:03:50.732785Z"
    }
   },
   "outputs": [
    {
     "data": {
      "text/plain": [
       "True"
      ]
     },
     "execution_count": 133,
     "metadata": {},
     "output_type": "execute_result"
    }
   ],
   "source": [
    "10<20"
   ]
  },
  {
   "cell_type": "code",
   "execution_count": 136,
   "metadata": {
    "ExecuteTime": {
     "end_time": "2021-02-22T14:04:07.434682Z",
     "start_time": "2021-02-22T14:04:07.428698Z"
    }
   },
   "outputs": [
    {
     "data": {
      "text/plain": [
       "False"
      ]
     },
     "execution_count": 136,
     "metadata": {},
     "output_type": "execute_result"
    }
   ],
   "source": [
    "10<20<15"
   ]
  },
  {
   "cell_type": "code",
   "execution_count": 137,
   "metadata": {
    "ExecuteTime": {
     "end_time": "2021-02-22T14:23:59.127917Z",
     "start_time": "2021-02-22T14:23:59.113595Z"
    }
   },
   "outputs": [
    {
     "data": {
      "text/plain": [
       "20"
      ]
     },
     "execution_count": 137,
     "metadata": {},
     "output_type": "execute_result"
    }
   ],
   "source": [
    "10 and 20"
   ]
  },
  {
   "cell_type": "code",
   "execution_count": 138,
   "metadata": {
    "ExecuteTime": {
     "end_time": "2021-02-22T14:29:59.947073Z",
     "start_time": "2021-02-22T14:29:59.940106Z"
    }
   },
   "outputs": [
    {
     "data": {
      "text/plain": [
       "4"
      ]
     },
     "execution_count": 138,
     "metadata": {},
     "output_type": "execute_result"
    }
   ],
   "source": [
    "4&5"
   ]
  },
  {
   "cell_type": "code",
   "execution_count": 139,
   "metadata": {
    "ExecuteTime": {
     "end_time": "2021-02-22T14:30:07.528603Z",
     "start_time": "2021-02-22T14:30:07.522617Z"
    }
   },
   "outputs": [
    {
     "data": {
      "text/plain": [
       "5"
      ]
     },
     "execution_count": 139,
     "metadata": {},
     "output_type": "execute_result"
    }
   ],
   "source": [
    "4|5"
   ]
  },
  {
   "cell_type": "code",
   "execution_count": 140,
   "metadata": {
    "ExecuteTime": {
     "end_time": "2021-02-22T14:31:51.117811Z",
     "start_time": "2021-02-22T14:31:51.110789Z"
    }
   },
   "outputs": [
    {
     "data": {
      "text/plain": [
       "1"
      ]
     },
     "execution_count": 140,
     "metadata": {},
     "output_type": "execute_result"
    }
   ],
   "source": [
    "4^5"
   ]
  },
  {
   "cell_type": "code",
   "execution_count": 141,
   "metadata": {
    "ExecuteTime": {
     "end_time": "2021-02-22T14:32:59.870478Z",
     "start_time": "2021-02-22T14:32:59.851265Z"
    }
   },
   "outputs": [
    {
     "data": {
      "text/plain": [
       "-5"
      ]
     },
     "execution_count": 141,
     "metadata": {},
     "output_type": "execute_result"
    }
   ],
   "source": [
    "~4"
   ]
  },
  {
   "cell_type": "code",
   "execution_count": 174,
   "metadata": {
    "ExecuteTime": {
     "end_time": "2021-02-23T06:50:52.664715Z",
     "start_time": "2021-02-23T06:50:52.657734Z"
    }
   },
   "outputs": [
    {
     "name": "stdout",
     "output_type": "stream",
     "text": [
      "2\n"
     ]
    }
   ],
   "source": [
    "a=10\n",
    "bin_a=bin(a)\n",
    "ones_1=[]\n",
    "for i in bin_a:\n",
    "    if i not in ('b','0'):\n",
    "      ones_1.append(i)  \n",
    "print(len(ones_1))"
   ]
  },
  {
   "cell_type": "code",
   "execution_count": 177,
   "metadata": {
    "ExecuteTime": {
     "end_time": "2021-02-23T09:17:32.963533Z",
     "start_time": "2021-02-23T09:17:32.958544Z"
    }
   },
   "outputs": [
    {
     "data": {
      "text/plain": [
       "True"
      ]
     },
     "execution_count": 177,
     "metadata": {},
     "output_type": "execute_result"
    }
   ],
   "source": [
    "s='Abhi is a good boy'\n",
    "'g' in s"
   ]
  },
  {
   "cell_type": "code",
   "execution_count": 4,
   "metadata": {
    "ExecuteTime": {
     "end_time": "2021-04-10T14:49:39.497827Z",
     "start_time": "2021-04-10T14:49:37.434086Z"
    }
   },
   "outputs": [
    {
     "name": "stdout",
     "output_type": "stream",
     "text": [
      "Enter 2 numbers: 2,4\n",
      "Teh value of a 2\n"
     ]
    }
   ],
   "source": [
    "a,b=[int(x)for x in input('Enter 2 numbers: ').split(',')]\n",
    "print('Teh value of a',a)##,print('Teh value of b',b)"
   ]
  },
  {
   "cell_type": "code",
   "execution_count": 3,
   "metadata": {
    "ExecuteTime": {
     "end_time": "2021-02-27T09:59:02.418089Z",
     "start_time": "2021-02-27T09:59:02.411107Z"
    }
   },
   "outputs": [
    {
     "name": "stdout",
     "output_type": "stream",
     "text": [
      "The total no characters 8\n"
     ]
    }
   ],
   "source": [
    "s='Abhishek'\n",
    "count=0\n",
    "for x in s:\n",
    "    count=count+1\n",
    "print('The total no characters',count)"
   ]
  },
  {
   "cell_type": "code",
   "execution_count": 4,
   "metadata": {
    "ExecuteTime": {
     "end_time": "2021-02-27T10:01:56.142347Z",
     "start_time": "2021-02-27T10:01:56.134368Z"
    }
   },
   "outputs": [
    {
     "name": "stdout",
     "output_type": "stream",
     "text": [
      "The value at index position i is A\n",
      "The value at index position i is b\n",
      "The value at index position i is h\n",
      "The value at index position i is i\n",
      "The value at index position i is s\n",
      "The value at index position i is h\n",
      "The value at index position i is e\n",
      "The value at index position i is k\n"
     ]
    }
   ],
   "source": [
    "s='Abhishek'\n",
    "i=0\n",
    "for x in s:\n",
    "    print('The value at index position i is',x)\n",
    "    i=i+1"
   ]
  },
  {
   "cell_type": "code",
   "execution_count": 9,
   "metadata": {
    "ExecuteTime": {
     "end_time": "2021-02-27T10:10:35.463367Z",
     "start_time": "2021-02-27T10:10:35.457427Z"
    }
   },
   "outputs": [
    {
     "name": "stdout",
     "output_type": "stream",
     "text": [
      "55\n"
     ]
    }
   ],
   "source": [
    "n=10\n",
    "sum=0\n",
    "i=1\n",
    "while i<=n:\n",
    "    sum=sum+i\n",
    "    i+=1\n",
    "print(sum)"
   ]
  },
  {
   "cell_type": "code",
   "execution_count": 33,
   "metadata": {
    "ExecuteTime": {
     "end_time": "2021-04-11T11:55:33.433865Z",
     "start_time": "2021-04-11T11:55:25.017643Z"
    }
   },
   "outputs": [
    {
     "name": "stdout",
     "output_type": "stream",
     "text": [
      "Enter the name ahi\n",
      "Enter the name Abhi\n",
      "Hello\n"
     ]
    }
   ],
   "source": [
    "name=''\n",
    "while name!='Abhi':\n",
    "    name=input('Enter the name ')\n",
    "print('Hello')"
   ]
  },
  {
   "cell_type": "code",
   "execution_count": 32,
   "metadata": {
    "ExecuteTime": {
     "end_time": "2021-04-11T11:55:11.748766Z",
     "start_time": "2021-04-11T11:54:57.855457Z"
    }
   },
   "outputs": [
    {
     "name": "stdout",
     "output_type": "stream",
     "text": [
      "namexyz\n",
      "pwdabh\n",
      "nameabhi\n",
      "pwdxyz\n",
      "nameAbhi\n",
      "pwdxyz\n",
      "Hello\n"
     ]
    }
   ],
   "source": [
    "name=''\n",
    "pwd=''\n",
    "while (name!='Abhi') or (pwd!='xyz'):\n",
    "    name=input('name')\n",
    "    pwd=input('pwd')\n",
    "print('Hello')"
   ]
  },
  {
   "cell_type": "code",
   "execution_count": 11,
   "metadata": {
    "ExecuteTime": {
     "end_time": "2021-02-27T10:39:16.293739Z",
     "start_time": "2021-02-27T10:39:16.287754Z"
    }
   },
   "outputs": [
    {
     "name": "stdout",
     "output_type": "stream",
     "text": [
      "\n",
      "*\n",
      "**\n",
      "***\n",
      "****\n",
      "*****\n"
     ]
    }
   ],
   "source": [
    "n=4\n",
    "for i in range(1+n+1):\n",
    "    print('*'*i)"
   ]
  },
  {
   "cell_type": "code",
   "execution_count": 8,
   "metadata": {
    "ExecuteTime": {
     "end_time": "2021-02-27T10:54:48.782389Z",
     "start_time": "2021-02-27T10:54:47.075258Z"
    }
   },
   "outputs": [
    {
     "name": "stdout",
     "output_type": "stream",
     "text": [
      "Enter a number3\n",
      "0\n",
      "*\n",
      "0\n",
      "*1\n",
      "*\n",
      "0\n",
      "*1\n",
      "*2\n",
      "*\n"
     ]
    }
   ],
   "source": [
    "n=int(input('Enter a number'))\n",
    "for i in range(1,n+1):\n",
    "    for j in range(i):\n",
    "        print(j)\n",
    "        print('*',end='')\n",
    "    print()"
   ]
  },
  {
   "cell_type": "code",
   "execution_count": 24,
   "metadata": {
    "ExecuteTime": {
     "end_time": "2021-02-27T11:07:15.063304Z",
     "start_time": "2021-02-27T11:07:13.687526Z"
    }
   },
   "outputs": [
    {
     "name": "stdout",
     "output_type": "stream",
     "text": [
      "Enter a number :2\n",
      "* * \n",
      "* * \n"
     ]
    }
   ],
   "source": [
    "n=int(input('Enter a number :'))\n",
    "for i in range(n): #Specifies row number\n",
    "    for j in range(n): # specifies column\n",
    "        print('*',end=' ')\n",
    "    print()"
   ]
  },
  {
   "cell_type": "code",
   "execution_count": 19,
   "metadata": {
    "ExecuteTime": {
     "end_time": "2021-02-27T11:05:39.446551Z",
     "start_time": "2021-02-27T11:05:39.439570Z"
    }
   },
   "outputs": [
    {
     "data": {
      "text/plain": [
       "range(0, 1)"
      ]
     },
     "execution_count": 19,
     "metadata": {},
     "output_type": "execute_result"
    }
   ],
   "source": [
    "range(1)"
   ]
  },
  {
   "cell_type": "code",
   "execution_count": 32,
   "metadata": {
    "ExecuteTime": {
     "end_time": "2021-02-27T11:12:39.927761Z",
     "start_time": "2021-02-27T11:12:39.878931Z"
    }
   },
   "outputs": [
    {
     "name": "stdout",
     "output_type": "stream",
     "text": [
      "                   *                   \n",
      "                  ***                  \n",
      "                 *****                 \n",
      "                *******                \n",
      "               *********               \n",
      "              ***********              \n",
      "             *************             \n",
      "            ***************            \n",
      "           *****************           \n",
      "          *******************          \n",
      "         *********************         \n",
      "        ***********************        \n",
      "       *************************       \n",
      "      ***************************      \n",
      "     *****************************     \n",
      "    *******************************    \n",
      "   *********************************   \n",
      "  ***********************************  \n",
      " ************************************* \n",
      "***************************************\n"
     ]
    }
   ],
   "source": [
    "def holidaybush(n):\n",
    "    z=n-1\n",
    "    x=1\n",
    "    for i in range(0,n):\n",
    "        for i in range(0,z):\n",
    "            print(' ',end='')\n",
    "        for i in range(0,x):\n",
    "            print('*',end='')\n",
    "        for i in range(0,z):\n",
    "            print(' ',end='')\n",
    "        x=x+2\n",
    "        z=z-1\n",
    "        print()\n",
    "holidaybush(20)"
   ]
  },
  {
   "cell_type": "code",
   "execution_count": 39,
   "metadata": {
    "ExecuteTime": {
     "end_time": "2021-02-27T11:32:23.875833Z",
     "start_time": "2021-02-27T11:32:20.282974Z"
    }
   },
   "outputs": [
    {
     "name": "stdout",
     "output_type": "stream",
     "text": [
      "Enter a number5\n",
      "     *\n",
      "    ***\n",
      "   *****\n"
     ]
    }
   ],
   "source": [
    "j=int(input('Enter a number'))\n",
    "for i in range(1,j+1,2):\n",
    "    print(' '*j+i*'*')\n",
    "    j=j-1"
   ]
  },
  {
   "cell_type": "code",
   "execution_count": 10,
   "metadata": {
    "ExecuteTime": {
     "end_time": "2021-03-03T09:11:43.894478Z",
     "start_time": "2021-03-03T09:11:40.438448Z"
    }
   },
   "outputs": [
    {
     "name": "stdout",
     "output_type": "stream",
     "text": [
      "Enter a string:herighdlng\\\n",
      "Enter substring:h\n",
      "Found at index: 5\n",
      "NUmber of occurances is: 1\n"
     ]
    }
   ],
   "source": [
    "s=input('Enter a string:')\n",
    "sub=input('Enter substring:')\n",
    "flag=False\n",
    "pos=-1\n",
    "n=len(s)\n",
    "count=0\n",
    "while True:\n",
    "    pos=s.rfind(sub,pos+1,n)\n",
    "    if pos==-1:\n",
    "        break\n",
    "    print('Found at index:',pos)\n",
    "    flag=True\n",
    "    count=count+1\n",
    "if flag==False:\n",
    "    print('Not found')\n",
    "print('NUmber of occurances is:',count)"
   ]
  },
  {
   "cell_type": "code",
   "execution_count": 11,
   "metadata": {
    "ExecuteTime": {
     "end_time": "2021-03-03T09:25:53.182013Z",
     "start_time": "2021-03-03T09:25:53.176028Z"
    }
   },
   "outputs": [
    {
     "name": "stdout",
     "output_type": "stream",
     "text": [
      "bbbbbb\n"
     ]
    }
   ],
   "source": [
    "s='ababab'\n",
    "s=s.replace('a','b')\n",
    "print(s)"
   ]
  },
  {
   "cell_type": "code",
   "execution_count": 14,
   "metadata": {
    "ExecuteTime": {
     "end_time": "2021-03-03T09:55:47.372790Z",
     "start_time": "2021-03-03T09:55:47.367803Z"
    }
   },
   "outputs": [
    {
     "name": "stdout",
     "output_type": "stream",
     "text": [
      "Abhi Is A Good Boy\n"
     ]
    }
   ],
   "source": [
    "s='Abhi Is A Good Boy'\n",
    "print(s.title())"
   ]
  },
  {
   "cell_type": "code",
   "execution_count": 15,
   "metadata": {
    "ExecuteTime": {
     "end_time": "2021-03-03T10:09:13.711961Z",
     "start_time": "2021-03-03T10:09:13.581750Z"
    }
   },
   "outputs": [
    {
     "data": {
      "text/plain": [
       "'yob a si ihbA'"
      ]
     },
     "execution_count": 15,
     "metadata": {},
     "output_type": "execute_result"
    }
   ],
   "source": [
    "a='Abhi is a boy'\n",
    "a[::-1]"
   ]
  },
  {
   "cell_type": "code",
   "execution_count": 53,
   "metadata": {
    "ExecuteTime": {
     "end_time": "2021-04-11T16:11:03.050916Z",
     "start_time": "2021-04-11T16:11:00.425116Z"
    }
   },
   "outputs": [
    {
     "name": "stdout",
     "output_type": "stream",
     "text": [
      "Enter a string: abhi shek\n",
      "('shek', 'abhi')\n"
     ]
    }
   ],
   "source": [
    "s=input('Enter a string: ')\n",
    "words=[]\n",
    "s1=s.split()\n",
    "for word in s1:\n",
    "    words.append(word)\n",
    "print(tuple(reversed(words)))"
   ]
  },
  {
   "cell_type": "code",
   "execution_count": 8,
   "metadata": {
    "ExecuteTime": {
     "end_time": "2021-03-03T11:32:53.958452Z",
     "start_time": "2021-03-03T11:32:42.260374Z"
    }
   },
   "outputs": [
    {
     "name": "stdout",
     "output_type": "stream",
     "text": [
      "Enter a string: AD65CB53\n",
      "ADCB\n",
      "6553\n",
      "ABCD3556\n"
     ]
    }
   ],
   "source": [
    "s=input('Enter a string: ')\n",
    "alpha=''\n",
    "num=''\n",
    "output=''\n",
    "for i in s:\n",
    "    if i.isalpha():\n",
    "        alpha=alpha+i #We cannot append the list like .append, so we need to add the string. If we are adding output value to output then convert to str and then add.\n",
    "    else: \n",
    "        num=num+i\n",
    "print(alpha)\n",
    "print(num)\n",
    "\n",
    "for x in sorted(alpha):\n",
    "    output=output+x\n",
    "for x in sorted(num):\n",
    "    output=output+x\n",
    "print(output)"
   ]
  },
  {
   "cell_type": "code",
   "execution_count": 55,
   "metadata": {
    "ExecuteTime": {
     "end_time": "2021-04-11T16:14:47.192284Z",
     "start_time": "2021-04-11T16:14:43.563623Z"
    }
   },
   "outputs": [
    {
     "name": "stdout",
     "output_type": "stream",
     "text": [
      "Enter a string: a2v2\n",
      "aavv\n"
     ]
    }
   ],
   "source": [
    "s = input(\"Enter a string: \")\n",
    "output = ''\n",
    "for i in range(len(s) - 1):\n",
    "    if s[i].isalpha() and s[i+1].isdigit():\n",
    "        output += s[i] * int(s[i+1])\n",
    "print(output)"
   ]
  },
  {
   "cell_type": "code",
   "execution_count": 62,
   "metadata": {
    "ExecuteTime": {
     "end_time": "2021-04-11T16:18:10.551769Z",
     "start_time": "2021-04-11T16:18:08.550265Z"
    }
   },
   "outputs": [
    {
     "name": "stdout",
     "output_type": "stream",
     "text": [
      "Enter a string : a2v2\n",
      "aavv\n"
     ]
    }
   ],
   "source": [
    "s=input('Enter a string : ')\n",
    "output=''\n",
    "for i in range(len(s)):\n",
    "    if s[i].isalpha() and s[i+1].isdigit():\n",
    "        output=output+s[i]*int(s[i+1])\n",
    "print(output)"
   ]
  },
  {
   "cell_type": "code",
   "execution_count": 12,
   "metadata": {
    "ExecuteTime": {
     "end_time": "2021-03-04T11:16:27.295987Z",
     "start_time": "2021-03-04T11:16:27.229165Z"
    }
   },
   "outputs": [
    {
     "ename": "TypeError",
     "evalue": "'set' object is not subscriptable",
     "output_type": "error",
     "traceback": [
      "\u001b[1;31m---------------------------------------------------------------------------\u001b[0m",
      "\u001b[1;31mTypeError\u001b[0m                                 Traceback (most recent call last)",
      "\u001b[1;32m<ipython-input-12-3b242adfdd71>\u001b[0m in \u001b[0;36m<module>\u001b[1;34m\u001b[0m\n\u001b[0;32m      1\u001b[0m \u001b[0ms\u001b[0m\u001b[1;33m=\u001b[0m\u001b[1;33m{\u001b[0m\u001b[1;36m10\u001b[0m\u001b[1;33m,\u001b[0m\u001b[1;36m20\u001b[0m\u001b[1;33m,\u001b[0m\u001b[1;36m30\u001b[0m\u001b[1;33m}\u001b[0m\u001b[1;33m\u001b[0m\u001b[1;33m\u001b[0m\u001b[0m\n\u001b[1;32m----> 2\u001b[1;33m \u001b[0ms\u001b[0m\u001b[1;33m[\u001b[0m\u001b[1;36m0\u001b[0m\u001b[1;33m]\u001b[0m\u001b[1;33m\u001b[0m\u001b[1;33m\u001b[0m\u001b[0m\n\u001b[0m",
      "\u001b[1;31mTypeError\u001b[0m: 'set' object is not subscriptable"
     ]
    }
   ],
   "source": [
    "s={10,20,30}\n",
    "s[0]"
   ]
  },
  {
   "cell_type": "code",
   "execution_count": 14,
   "metadata": {
    "ExecuteTime": {
     "end_time": "2021-03-04T11:16:37.124679Z",
     "start_time": "2021-03-04T11:16:37.092765Z"
    }
   },
   "outputs": [
    {
     "ename": "TypeError",
     "evalue": "'set' object is not subscriptable",
     "output_type": "error",
     "traceback": [
      "\u001b[1;31m---------------------------------------------------------------------------\u001b[0m",
      "\u001b[1;31mTypeError\u001b[0m                                 Traceback (most recent call last)",
      "\u001b[1;32m<ipython-input-14-b971cd896ac3>\u001b[0m in \u001b[0;36m<module>\u001b[1;34m\u001b[0m\n\u001b[0;32m      1\u001b[0m \u001b[1;33m\u001b[0m\u001b[0m\n\u001b[1;32m----> 2\u001b[1;33m \u001b[0mprint\u001b[0m\u001b[1;33m(\u001b[0m\u001b[0ms\u001b[0m\u001b[1;33m[\u001b[0m\u001b[1;36m0\u001b[0m\u001b[1;33m]\u001b[0m\u001b[1;33m)\u001b[0m\u001b[1;33m\u001b[0m\u001b[1;33m\u001b[0m\u001b[0m\n\u001b[0m",
      "\u001b[1;31mTypeError\u001b[0m: 'set' object is not subscriptable"
     ]
    }
   ],
   "source": [
    "\n",
    "print(s[0])"
   ]
  },
  {
   "cell_type": "code",
   "execution_count": 3,
   "metadata": {
    "ExecuteTime": {
     "end_time": "2021-03-06T07:13:57.080250Z",
     "start_time": "2021-03-06T07:13:51.918069Z"
    }
   },
   "outputs": [
    {
     "name": "stdout",
     "output_type": "stream",
     "text": [
      "Enter a word:abhi is a good boy\n",
      "The vowels are: {'a', 'o', 'i'}\n",
      "The number of vowels are: 3\n"
     ]
    }
   ],
   "source": [
    "w=input('Enter a word:')\n",
    "s=set(w)\n",
    "v={'a','e','i','o','u'}\n",
    "d=v.intersection(s)\n",
    "print('The vowels are:',d)\n",
    "print('The number of vowels are:',len(d))"
   ]
  },
  {
   "cell_type": "code",
   "execution_count": 81,
   "metadata": {
    "ExecuteTime": {
     "end_time": "2021-04-12T11:35:28.214740Z",
     "start_time": "2021-04-12T11:35:25.140984Z"
    }
   },
   "outputs": [
    {
     "name": "stdout",
     "output_type": "stream",
     "text": [
      "Enter number of students:1\n",
      "Enter a nameabhi\n",
      "Enter % of marks12\n",
      "Name of student \t % of marks\n",
      "\t abhi \t\t 12\n"
     ]
    }
   ],
   "source": [
    "rec={}\n",
    "n=int(input('Enter number of students:'))\n",
    "i=1\n",
    "while i<=n:\n",
    "    name=input('Enter a name')\n",
    "    marks=input('Enter % of marks')\n",
    "    rec[name]=marks\n",
    "    i=i+1\n",
    "print('Name of student','\\t','% of marks')\n",
    "for x in rec:\n",
    "    print('\\t',x,'\\t\\t',rec[x])"
   ]
  },
  {
   "cell_type": "code",
   "execution_count": 9,
   "metadata": {
    "ExecuteTime": {
     "end_time": "2021-03-06T07:37:15.432958Z",
     "start_time": "2021-03-06T07:37:15.422967Z"
    }
   },
   "outputs": [
    {
     "name": "stdout",
     "output_type": "stream",
     "text": [
      "{'1': 'abhi'}\n"
     ]
    }
   ],
   "source": [
    "d=dict([('1','abhi')])\n",
    "print(d)"
   ]
  },
  {
   "cell_type": "code",
   "execution_count": 12,
   "metadata": {
    "ExecuteTime": {
     "end_time": "2021-03-06T07:57:41.304458Z",
     "start_time": "2021-03-06T07:57:41.235642Z"
    }
   },
   "outputs": [
    {
     "ename": "TypeError",
     "evalue": "add() takes exactly one argument (2 given)",
     "output_type": "error",
     "traceback": [
      "\u001b[1;31m---------------------------------------------------------------------------\u001b[0m",
      "\u001b[1;31mTypeError\u001b[0m                                 Traceback (most recent call last)",
      "\u001b[1;32m<ipython-input-12-60d490ebd94b>\u001b[0m in \u001b[0;36m<module>\u001b[1;34m\u001b[0m\n\u001b[0;32m      1\u001b[0m \u001b[0ms\u001b[0m\u001b[1;33m=\u001b[0m\u001b[1;33m{\u001b[0m\u001b[1;36m1\u001b[0m\u001b[1;33m,\u001b[0m\u001b[1;36m2\u001b[0m\u001b[1;33m,\u001b[0m\u001b[1;36m3\u001b[0m\u001b[1;33m}\u001b[0m\u001b[1;33m\u001b[0m\u001b[1;33m\u001b[0m\u001b[0m\n\u001b[1;32m----> 2\u001b[1;33m \u001b[0ms\u001b[0m\u001b[1;33m.\u001b[0m\u001b[0madd\u001b[0m\u001b[1;33m(\u001b[0m\u001b[1;34m'Abhi'\u001b[0m\u001b[1;33m,\u001b[0m\u001b[0mrange\u001b[0m\u001b[1;33m(\u001b[0m\u001b[1;36m1\u001b[0m\u001b[1;33m,\u001b[0m\u001b[1;36m5\u001b[0m\u001b[1;33m)\u001b[0m\u001b[1;33m)\u001b[0m\u001b[1;33m\u001b[0m\u001b[1;33m\u001b[0m\u001b[0m\n\u001b[0m\u001b[0;32m      3\u001b[0m \u001b[0mprint\u001b[0m\u001b[1;33m(\u001b[0m\u001b[0ms\u001b[0m\u001b[1;33m)\u001b[0m\u001b[1;33m\u001b[0m\u001b[1;33m\u001b[0m\u001b[0m\n",
      "\u001b[1;31mTypeError\u001b[0m: add() takes exactly one argument (2 given)"
     ]
    }
   ],
   "source": [
    "s={1,2,3}\n",
    "s.add('Abhi',range(1,5))\n",
    "print(s)"
   ]
  },
  {
   "cell_type": "code",
   "execution_count": 15,
   "metadata": {
    "ExecuteTime": {
     "end_time": "2021-03-06T07:58:30.968712Z",
     "start_time": "2021-03-06T07:58:30.959717Z"
    }
   },
   "outputs": [
    {
     "name": "stdout",
     "output_type": "stream",
     "text": [
      "{1, 2, 3, 'h', 4, 10, 11, 12, 'i', 'b', 'A'}\n"
     ]
    }
   ],
   "source": [
    "s={1,2,3}\n",
    "s.update('Abhi',range(1,5),[10,11,12])\n",
    "print(s)"
   ]
  },
  {
   "cell_type": "code",
   "execution_count": 65,
   "metadata": {
    "ExecuteTime": {
     "end_time": "2021-04-11T16:20:53.741911Z",
     "start_time": "2021-04-11T16:20:53.727028Z"
    }
   },
   "outputs": [
    {
     "name": "stdout",
     "output_type": "stream",
     "text": [
      "3000\n"
     ]
    }
   ],
   "source": [
    "d={'A':1000,'B':1000,'C':1000}\n",
    "s=sum(d.values())\n",
    "print(s)"
   ]
  },
  {
   "cell_type": "code",
   "execution_count": 66,
   "metadata": {
    "ExecuteTime": {
     "end_time": "2021-04-11T16:21:39.510673Z",
     "start_time": "2021-04-11T16:21:36.279973Z"
    }
   },
   "outputs": [
    {
     "name": "stdout",
     "output_type": "stream",
     "text": [
      "Enter a word :abhishek\n",
      "a\n",
      "b\n",
      "h\n",
      "i\n",
      "s\n",
      "h\n",
      "e\n",
      "k\n",
      "a occured 1 times\n",
      "b occured 1 times\n",
      "e occured 1 times\n",
      "h occured 2 times\n",
      "i occured 1 times\n",
      "k occured 1 times\n",
      "s occured 1 times\n"
     ]
    }
   ],
   "source": [
    "word=input('Enter a word :')\n",
    "d={}\n",
    "for x in word:\n",
    "    print(x)\n",
    "    d[x]=d.get(x,0)+1\n",
    "for k,v in sorted(d.items()): #sorted to get in alphabetical order.\n",
    "    print(k,'occured',v,'times')"
   ]
  },
  {
   "cell_type": "code",
   "execution_count": null,
   "metadata": {
    "ExecuteTime": {
     "start_time": "2021-04-11T07:31:46.548Z"
    }
   },
   "outputs": [
    {
     "name": "stdout",
     "output_type": "stream",
     "text": [
      "Enter no of students :2\n",
      "Enter a nameabhi\n",
      "Enter a marks20\n",
      "Enter a nameabhi\n",
      "Enter a marks30\n",
      "Enter the student name to get the marksabhi\n",
      "The marks of abhi:30\n"
     ]
    }
   ],
   "source": [
    "n=int(input('Enter no of students :'))\n",
    "d={}\n",
    "for x in range(n):\n",
    "    name=input('Enter a name')\n",
    "    marks=input('Enter a marks')\n",
    "    d[name]=marks\n",
    "while True:\n",
    "    name=input('Enter the student name to get the marks')\n",
    "    marks=d.get(name,-1) #get is the function that returns corresponding value of the key.\n",
    "    if marks==-1:\n",
    "        print('Student not found')        \n",
    "    else:\n",
    "        print('The marks of {}:{}'.format(name,marks))\n",
    "    option=input('Do u want to find another student marks[Yes|No]: ')\n",
    "    if option=='No':\n",
    "        break\n",
    "print('Thanks for using out application')"
   ]
  },
  {
   "cell_type": "markdown",
   "metadata": {},
   "source": []
  },
  {
   "cell_type": "code",
   "execution_count": 29,
   "metadata": {
    "ExecuteTime": {
     "end_time": "2021-03-06T14:29:18.177733Z",
     "start_time": "2021-03-06T14:29:18.158786Z"
    }
   },
   "outputs": [],
   "source": [
    "def calc(a,b):\n",
    "    sum=a+b\n",
    "    mul=a*b\n",
    "    sub=a-b\n",
    "    return sum,mul,sub"
   ]
  },
  {
   "cell_type": "code",
   "execution_count": 34,
   "metadata": {
    "ExecuteTime": {
     "end_time": "2021-03-06T14:30:44.552285Z",
     "start_time": "2021-03-06T14:30:44.538322Z"
    }
   },
   "outputs": [
    {
     "data": {
      "text/plain": [
       "(3, 2, -1)"
      ]
     },
     "execution_count": 34,
     "metadata": {},
     "output_type": "execute_result"
    }
   ],
   "source": [
    "sum,mul,sub=calc(1,2)\n",
    "sum,mul,sub"
   ]
  },
  {
   "cell_type": "code",
   "execution_count": 36,
   "metadata": {
    "ExecuteTime": {
     "end_time": "2021-03-07T09:23:04.303964Z",
     "start_time": "2021-03-07T09:23:04.290852Z"
    }
   },
   "outputs": [
    {
     "data": {
      "text/plain": [
       "6"
      ]
     },
     "execution_count": 36,
     "metadata": {},
     "output_type": "execute_result"
    }
   ],
   "source": [
    "def factorial(n):\n",
    "    if n==0:\n",
    "        result=1\n",
    "    else:\n",
    "        result=n*factorial(n-1)\n",
    "    return result\n",
    "factorial(3)"
   ]
  },
  {
   "cell_type": "code",
   "execution_count": 37,
   "metadata": {
    "ExecuteTime": {
     "end_time": "2021-03-07T09:36:34.806344Z",
     "start_time": "2021-03-07T09:36:34.801315Z"
    }
   },
   "outputs": [
    {
     "name": "stdout",
     "output_type": "stream",
     "text": [
      "16\n"
     ]
    }
   ],
   "source": [
    "s=lambda n:n*n\n",
    "print(s(4))"
   ]
  },
  {
   "cell_type": "code",
   "execution_count": 38,
   "metadata": {
    "ExecuteTime": {
     "end_time": "2021-03-10T10:13:48.408997Z",
     "start_time": "2021-03-10T10:13:48.299325Z"
    }
   },
   "outputs": [
    {
     "name": "stdout",
     "output_type": "stream",
     "text": [
      "100\n"
     ]
    }
   ],
   "source": [
    "xx=50\n",
    "def var_test():\n",
    "    xx=100\n",
    "    return xx\n",
    "print(var_test())"
   ]
  },
  {
   "cell_type": "code",
   "execution_count": 40,
   "metadata": {
    "ExecuteTime": {
     "end_time": "2021-03-12T10:40:29.202636Z",
     "start_time": "2021-03-12T10:40:28.969702Z"
    }
   },
   "outputs": [
    {
     "ename": "ModuleNotFoundError",
     "evalue": "No module named 'module1'",
     "output_type": "error",
     "traceback": [
      "\u001b[1;31m---------------------------------------------------------------------------\u001b[0m",
      "\u001b[1;31mModuleNotFoundError\u001b[0m                       Traceback (most recent call last)",
      "\u001b[1;32m<ipython-input-40-e4e9c65f813c>\u001b[0m in \u001b[0;36m<module>\u001b[1;34m\u001b[0m\n\u001b[1;32m----> 1\u001b[1;33m \u001b[1;32mimport\u001b[0m \u001b[0mmodule1\u001b[0m\u001b[1;33m\u001b[0m\u001b[1;33m\u001b[0m\u001b[0m\n\u001b[0m",
      "\u001b[1;31mModuleNotFoundError\u001b[0m: No module named 'module1'"
     ]
    }
   ],
   "source": [
    "import module1"
   ]
  },
  {
   "cell_type": "code",
   "execution_count": 2,
   "metadata": {
    "ExecuteTime": {
     "end_time": "2021-04-11T08:52:24.320942Z",
     "start_time": "2021-04-11T08:52:24.310238Z"
    }
   },
   "outputs": [
    {
     "name": "stdout",
     "output_type": "stream",
     "text": [
      "0.9302696669260591\n",
      "0.35101544298854503\n",
      "0.2261792569248694\n",
      "0.3187158448785401\n",
      "0.12484074832641479\n",
      "0.9754370458331754\n",
      "0.4472379450626611\n",
      "0.8984616491098434\n",
      "0.4652112807036881\n",
      "0.46766568564482736\n"
     ]
    }
   ],
   "source": [
    "from random import *\n",
    "for i in range(10):\n",
    "    print(random()) ###Between 0 and 1"
   ]
  },
  {
   "cell_type": "code",
   "execution_count": 4,
   "metadata": {
    "ExecuteTime": {
     "end_time": "2021-04-11T08:52:43.251200Z",
     "start_time": "2021-04-11T08:52:43.237735Z"
    }
   },
   "outputs": [
    {
     "name": "stdout",
     "output_type": "stream",
     "text": [
      "5.5807319379577045\n",
      "1.2881976007044784\n",
      "8.989619862007967\n",
      "5.981194853144253\n",
      "9.571177541374823\n"
     ]
    }
   ],
   "source": [
    "for i in range(5):\n",
    "    print(uniform(1,10))"
   ]
  },
  {
   "cell_type": "code",
   "execution_count": 5,
   "metadata": {
    "ExecuteTime": {
     "end_time": "2021-04-11T08:52:57.861824Z",
     "start_time": "2021-04-11T08:52:57.845542Z"
    }
   },
   "outputs": [
    {
     "name": "stdout",
     "output_type": "stream",
     "text": [
      "B\n",
      "D\n",
      "B\n",
      "A\n",
      "D\n"
     ]
    }
   ],
   "source": [
    "list=['A','B','C','D']\n",
    "for i in range(5):\n",
    "    print(choice(list))"
   ]
  },
  {
   "cell_type": "code",
   "execution_count": 7,
   "metadata": {
    "ExecuteTime": {
     "end_time": "2021-04-11T08:53:17.372322Z",
     "start_time": "2021-04-11T08:53:17.359219Z"
    }
   },
   "outputs": [
    {
     "name": "stdout",
     "output_type": "stream",
     "text": [
      "955052\n",
      "478062\n",
      "243415\n",
      "822651\n",
      "612342\n",
      "485938\n",
      "207584\n",
      "521846\n",
      "786874\n",
      "515457\n"
     ]
    }
   ],
   "source": [
    "for i in range(10):\n",
    "    print(randint(100000,999999))"
   ]
  },
  {
   "cell_type": "code",
   "execution_count": 64,
   "metadata": {
    "ExecuteTime": {
     "end_time": "2021-03-15T09:24:11.725438Z",
     "start_time": "2021-03-15T09:24:11.705493Z"
    }
   },
   "outputs": [
    {
     "data": {
      "text/plain": [
       "'A'"
      ]
     },
     "execution_count": 64,
     "metadata": {},
     "output_type": "execute_result"
    }
   ],
   "source": [
    "chr(65)"
   ]
  },
  {
   "cell_type": "code",
   "execution_count": 28,
   "metadata": {
    "ExecuteTime": {
     "end_time": "2021-04-11T09:02:10.200868Z",
     "start_time": "2021-04-11T09:02:10.186491Z"
    }
   },
   "outputs": [
    {
     "name": "stdout",
     "output_type": "stream",
     "text": [
      "OTP of 4 digits: 211092\n"
     ]
    }
   ],
   "source": [
    "# import library \n",
    "import math, random \n",
    "  \n",
    "# function to generate OTP \n",
    "def generateOTP() : \n",
    "  \n",
    "    # Declare a digits variable   \n",
    "    # which stores all digits  \n",
    "    digits = \"0123456789\"\n",
    "    OTP = \"\" \n",
    "  \n",
    "   # length of password can be chaged \n",
    "   # by changing value in range \n",
    "    for i in range(6) : \n",
    "        OTP += digits[math.floor(random.random() * 10)] \n",
    "  \n",
    "    return OTP \n",
    "  \n",
    "# Driver code \n",
    "if __name__ == \"__main__\" : \n",
    "      \n",
    "    print(\"OTP of 4 digits:\", generateOTP())"
   ]
  },
  {
   "cell_type": "code",
   "execution_count": 18,
   "metadata": {
    "ExecuteTime": {
     "end_time": "2021-04-11T09:00:48.151759Z",
     "start_time": "2021-04-11T09:00:48.137924Z"
    }
   },
   "outputs": [
    {
     "name": "stdout",
     "output_type": "stream",
     "text": [
      "954837\n"
     ]
    }
   ],
   "source": [
    "digits = \"0123456789\"\n",
    "otp = \"\" \n",
    "for i in range(6):\n",
    "    otp=otp+digits[math.floor(random.random()*10)]\n",
    "print(otp)"
   ]
  },
  {
   "cell_type": "code",
   "execution_count": 30,
   "metadata": {
    "ExecuteTime": {
     "end_time": "2021-04-11T09:03:54.701210Z",
     "start_time": "2021-04-11T09:03:54.687614Z"
    }
   },
   "outputs": [
    {
     "name": "stdout",
     "output_type": "stream",
     "text": [
      "try\n",
      "else\n",
      "finally\n"
     ]
    }
   ],
   "source": [
    "try:\n",
    "    print('try')\n",
    "    #print(10/0)\n",
    "except:\n",
    "    print('except')\n",
    "else:\n",
    "    print('else')\n",
    "finally:\n",
    "    print('finally')"
   ]
  },
  {
   "cell_type": "code",
   "execution_count": 31,
   "metadata": {
    "ExecuteTime": {
     "end_time": "2021-04-11T09:04:09.887781Z",
     "start_time": "2021-04-11T09:04:09.863421Z"
    }
   },
   "outputs": [
    {
     "name": "stdout",
     "output_type": "stream",
     "text": [
      "enter the value\n",
      "entered\n"
     ]
    }
   ],
   "source": [
    "try:\n",
    "    print('enter the value')\n",
    "except:\n",
    "    print('Enter correct value')\n",
    "finally:\n",
    "    print('entered')"
   ]
  },
  {
   "cell_type": "code",
   "execution_count": 24,
   "metadata": {
    "ExecuteTime": {
     "end_time": "2021-04-10T15:56:37.604997Z",
     "start_time": "2021-04-10T15:56:37.591416Z"
    }
   },
   "outputs": [
    {
     "name": "stdout",
     "output_type": "stream",
     "text": [
      "The sum is: 10\n"
     ]
    }
   ],
   "source": [
    "from sys import argv\n",
    "args=argv[1:]\n",
    "sum=0\n",
    "for x in args:\n",
    "    n=int(n)\n",
    "    sum+=n\n",
    "print(\"The sum is:\",sum)\n",
    "#Give values in command line."
   ]
  },
  {
   "cell_type": "code",
   "execution_count": 22,
   "metadata": {
    "ExecuteTime": {
     "end_time": "2021-04-10T15:44:31.864500Z",
     "start_time": "2021-04-10T15:44:31.851746Z"
    }
   },
   "outputs": [
    {
     "name": "stdout",
     "output_type": "stream",
     "text": [
      "<class 'list'>\n"
     ]
    }
   ],
   "source": [
    "from sys import argv\n",
    "print(type(argv))"
   ]
  },
  {
   "cell_type": "code",
   "execution_count": 29,
   "metadata": {
    "ExecuteTime": {
     "end_time": "2021-04-10T15:59:58.504985Z",
     "start_time": "2021-04-10T15:59:58.497575Z"
    }
   },
   "outputs": [
    {
     "name": "stdout",
     "output_type": "stream",
     "text": [
      "[]\n"
     ]
    }
   ],
   "source": [
    "print(argv[3:50])"
   ]
  },
  {
   "cell_type": "code",
   "execution_count": null,
   "metadata": {},
   "outputs": [],
   "source": []
  }
 ],
 "metadata": {
  "kernelspec": {
   "display_name": "Python 3",
   "language": "python",
   "name": "python3"
  },
  "language_info": {
   "codemirror_mode": {
    "name": "ipython",
    "version": 3
   },
   "file_extension": ".py",
   "mimetype": "text/x-python",
   "name": "python",
   "nbconvert_exporter": "python",
   "pygments_lexer": "ipython3",
   "version": "3.7.3"
  },
  "toc": {
   "base_numbering": 1,
   "nav_menu": {},
   "number_sections": true,
   "sideBar": true,
   "skip_h1_title": false,
   "title_cell": "Table of Contents",
   "title_sidebar": "Contents",
   "toc_cell": false,
   "toc_position": {},
   "toc_section_display": true,
   "toc_window_display": false
  },
  "varInspector": {
   "cols": {
    "lenName": 16,
    "lenType": 16,
    "lenVar": 40
   },
   "kernels_config": {
    "python": {
     "delete_cmd_postfix": "",
     "delete_cmd_prefix": "del ",
     "library": "var_list.py",
     "varRefreshCmd": "print(var_dic_list())"
    },
    "r": {
     "delete_cmd_postfix": ") ",
     "delete_cmd_prefix": "rm(",
     "library": "var_list.r",
     "varRefreshCmd": "cat(var_dic_list()) "
    }
   },
   "types_to_exclude": [
    "module",
    "function",
    "builtin_function_or_method",
    "instance",
    "_Feature"
   ],
   "window_display": false
  }
 },
 "nbformat": 4,
 "nbformat_minor": 2
}
