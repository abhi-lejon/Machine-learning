{
 "cells": [
  {
   "cell_type": "code",
   "execution_count": 332,
   "metadata": {
    "ExecuteTime": {
     "end_time": "2020-05-23T05:09:24.987994Z",
     "start_time": "2020-05-23T05:09:24.983008Z"
    }
   },
   "outputs": [],
   "source": [
    "import pandas as pd\n",
    "import numpy as np\n",
    "import seaborn as sns\n",
    "import matplotlib.pyplot as plt\n",
    "import warnings\n",
    "warnings.simplefilter('ignore')"
   ]
  },
  {
   "cell_type": "code",
   "execution_count": 333,
   "metadata": {
    "ExecuteTime": {
     "end_time": "2020-05-23T05:09:26.379765Z",
     "start_time": "2020-05-23T05:09:26.254047Z"
    }
   },
   "outputs": [],
   "source": [
    "df=pd.read_csv(r\"D:\\Users\\abhisv\\Desktop\\results.csv\")"
   ]
  },
  {
   "cell_type": "code",
   "execution_count": 334,
   "metadata": {
    "ExecuteTime": {
     "end_time": "2020-05-23T05:09:27.645242Z",
     "start_time": "2020-05-23T05:09:27.639341Z"
    }
   },
   "outputs": [
    {
     "data": {
      "text/plain": [
       "(41586, 9)"
      ]
     },
     "execution_count": 334,
     "metadata": {},
     "output_type": "execute_result"
    }
   ],
   "source": [
    "df.shape"
   ]
  },
  {
   "cell_type": "code",
   "execution_count": 335,
   "metadata": {
    "ExecuteTime": {
     "end_time": "2020-05-23T05:09:28.621845Z",
     "start_time": "2020-05-23T05:09:28.604316Z"
    }
   },
   "outputs": [
    {
     "data": {
      "text/html": [
       "<div>\n",
       "<style scoped>\n",
       "    .dataframe tbody tr th:only-of-type {\n",
       "        vertical-align: middle;\n",
       "    }\n",
       "\n",
       "    .dataframe tbody tr th {\n",
       "        vertical-align: top;\n",
       "    }\n",
       "\n",
       "    .dataframe thead th {\n",
       "        text-align: right;\n",
       "    }\n",
       "</style>\n",
       "<table border=\"1\" class=\"dataframe\">\n",
       "  <thead>\n",
       "    <tr style=\"text-align: right;\">\n",
       "      <th></th>\n",
       "      <th>date</th>\n",
       "      <th>home_team</th>\n",
       "      <th>away_team</th>\n",
       "      <th>home_score</th>\n",
       "      <th>away_score</th>\n",
       "      <th>tournament</th>\n",
       "      <th>city</th>\n",
       "      <th>country</th>\n",
       "      <th>neutral</th>\n",
       "    </tr>\n",
       "  </thead>\n",
       "  <tbody>\n",
       "    <tr>\n",
       "      <th>0</th>\n",
       "      <td>1872-11-30</td>\n",
       "      <td>Scotland</td>\n",
       "      <td>England</td>\n",
       "      <td>0</td>\n",
       "      <td>0</td>\n",
       "      <td>Friendly</td>\n",
       "      <td>Glasgow</td>\n",
       "      <td>Scotland</td>\n",
       "      <td>False</td>\n",
       "    </tr>\n",
       "    <tr>\n",
       "      <th>1</th>\n",
       "      <td>1873-03-08</td>\n",
       "      <td>England</td>\n",
       "      <td>Scotland</td>\n",
       "      <td>4</td>\n",
       "      <td>2</td>\n",
       "      <td>Friendly</td>\n",
       "      <td>London</td>\n",
       "      <td>England</td>\n",
       "      <td>False</td>\n",
       "    </tr>\n",
       "    <tr>\n",
       "      <th>2</th>\n",
       "      <td>1874-03-07</td>\n",
       "      <td>Scotland</td>\n",
       "      <td>England</td>\n",
       "      <td>2</td>\n",
       "      <td>1</td>\n",
       "      <td>Friendly</td>\n",
       "      <td>Glasgow</td>\n",
       "      <td>Scotland</td>\n",
       "      <td>False</td>\n",
       "    </tr>\n",
       "  </tbody>\n",
       "</table>\n",
       "</div>"
      ],
      "text/plain": [
       "         date home_team away_team  home_score  away_score tournament     city  \\\n",
       "0  1872-11-30  Scotland   England           0           0   Friendly  Glasgow   \n",
       "1  1873-03-08   England  Scotland           4           2   Friendly   London   \n",
       "2  1874-03-07  Scotland   England           2           1   Friendly  Glasgow   \n",
       "\n",
       "    country  neutral  \n",
       "0  Scotland    False  \n",
       "1   England    False  \n",
       "2  Scotland    False  "
      ]
     },
     "execution_count": 335,
     "metadata": {},
     "output_type": "execute_result"
    }
   ],
   "source": [
    "df.head(3)"
   ]
  },
  {
   "cell_type": "markdown",
   "metadata": {},
   "source": [
    "#### date=Date of the match\n",
    "#### home_team=Name of the home team.\n",
    "#### away_team=Name of the away team.\n",
    "#### home_score=Home team goals.\n",
    "#### away_score=Away team goals.\n",
    "#### tournament=Tournament name.\n",
    "#### city=City where the match took place.\n",
    "#### country=Country where the match took place.\n",
    "#### neutral=Whether the match took place at a neutral venue or not."
   ]
  },
  {
   "cell_type": "code",
   "execution_count": 336,
   "metadata": {
    "ExecuteTime": {
     "end_time": "2020-05-23T05:09:30.231740Z",
     "start_time": "2020-05-23T05:09:30.170708Z"
    }
   },
   "outputs": [
    {
     "name": "stdout",
     "output_type": "stream",
     "text": [
      "<class 'pandas.core.frame.DataFrame'>\n",
      "RangeIndex: 41586 entries, 0 to 41585\n",
      "Data columns (total 9 columns):\n",
      "date          41586 non-null object\n",
      "home_team     41586 non-null object\n",
      "away_team     41586 non-null object\n",
      "home_score    41586 non-null int64\n",
      "away_score    41586 non-null int64\n",
      "tournament    41586 non-null object\n",
      "city          41586 non-null object\n",
      "country       41586 non-null object\n",
      "neutral       41586 non-null bool\n",
      "dtypes: bool(1), int64(2), object(6)\n",
      "memory usage: 2.6+ MB\n"
     ]
    }
   ],
   "source": [
    "df.info()"
   ]
  },
  {
   "cell_type": "code",
   "execution_count": 337,
   "metadata": {
    "ExecuteTime": {
     "end_time": "2020-05-23T05:09:44.063994Z",
     "start_time": "2020-05-23T05:09:31.232672Z"
    }
   },
   "outputs": [],
   "source": [
    "df['date']=df['date'].apply(pd.to_datetime)"
   ]
  },
  {
   "cell_type": "code",
   "execution_count": 338,
   "metadata": {
    "ExecuteTime": {
     "end_time": "2020-05-23T05:09:45.016607Z",
     "start_time": "2020-05-23T05:09:44.992380Z"
    }
   },
   "outputs": [],
   "source": [
    "df['year']=df['date'].dt.year\n",
    "df['month']=df['date'].dt.month\n",
    "df['day']=df['date'].dt.day"
   ]
  },
  {
   "cell_type": "code",
   "execution_count": 339,
   "metadata": {
    "ExecuteTime": {
     "end_time": "2020-05-23T05:09:45.933737Z",
     "start_time": "2020-05-23T05:09:45.919269Z"
    }
   },
   "outputs": [],
   "source": [
    "df.drop('date',axis=1,inplace=True)"
   ]
  },
  {
   "cell_type": "code",
   "execution_count": 340,
   "metadata": {
    "ExecuteTime": {
     "end_time": "2020-05-23T05:09:46.806664Z",
     "start_time": "2020-05-23T05:09:46.799682Z"
    }
   },
   "outputs": [
    {
     "name": "stdout",
     "output_type": "stream",
     "text": [
      "['home_team', 'away_team', 'tournament', 'city', 'country']\n"
     ]
    }
   ],
   "source": [
    "cat=[features for features in df if df[features].dtype=='O']\n",
    "print(cat)"
   ]
  },
  {
   "cell_type": "code",
   "execution_count": 341,
   "metadata": {
    "ExecuteTime": {
     "end_time": "2020-05-23T05:09:47.800430Z",
     "start_time": "2020-05-23T05:09:47.793435Z"
    }
   },
   "outputs": [
    {
     "name": "stdout",
     "output_type": "stream",
     "text": [
      "['home_score', 'away_score', 'neutral', 'year', 'month', 'day']\n"
     ]
    }
   ],
   "source": [
    "numerical=[features for features in df if df[features].dtype!='O']\n",
    "print(numerical)"
   ]
  },
  {
   "cell_type": "code",
   "execution_count": 342,
   "metadata": {
    "ExecuteTime": {
     "end_time": "2020-05-23T05:09:48.748002Z",
     "start_time": "2020-05-23T05:09:48.737499Z"
    }
   },
   "outputs": [],
   "source": [
    "#Lets visualize some of the patterns"
   ]
  },
  {
   "cell_type": "code",
   "execution_count": 343,
   "metadata": {
    "ExecuteTime": {
     "end_time": "2020-05-23T05:09:49.828321Z",
     "start_time": "2020-05-23T05:09:49.809265Z"
    }
   },
   "outputs": [
    {
     "data": {
      "text/html": [
       "<div>\n",
       "<style scoped>\n",
       "    .dataframe tbody tr th:only-of-type {\n",
       "        vertical-align: middle;\n",
       "    }\n",
       "\n",
       "    .dataframe tbody tr th {\n",
       "        vertical-align: top;\n",
       "    }\n",
       "\n",
       "    .dataframe thead th {\n",
       "        text-align: right;\n",
       "    }\n",
       "</style>\n",
       "<table border=\"1\" class=\"dataframe\">\n",
       "  <thead>\n",
       "    <tr style=\"text-align: right;\">\n",
       "      <th></th>\n",
       "      <th>home_team</th>\n",
       "      <th>away_team</th>\n",
       "      <th>home_score</th>\n",
       "      <th>away_score</th>\n",
       "      <th>tournament</th>\n",
       "      <th>city</th>\n",
       "      <th>country</th>\n",
       "      <th>neutral</th>\n",
       "      <th>year</th>\n",
       "      <th>month</th>\n",
       "      <th>day</th>\n",
       "    </tr>\n",
       "  </thead>\n",
       "  <tbody>\n",
       "    <tr>\n",
       "      <th>0</th>\n",
       "      <td>Scotland</td>\n",
       "      <td>England</td>\n",
       "      <td>0</td>\n",
       "      <td>0</td>\n",
       "      <td>Friendly</td>\n",
       "      <td>Glasgow</td>\n",
       "      <td>Scotland</td>\n",
       "      <td>False</td>\n",
       "      <td>1872</td>\n",
       "      <td>11</td>\n",
       "      <td>30</td>\n",
       "    </tr>\n",
       "    <tr>\n",
       "      <th>1</th>\n",
       "      <td>England</td>\n",
       "      <td>Scotland</td>\n",
       "      <td>4</td>\n",
       "      <td>2</td>\n",
       "      <td>Friendly</td>\n",
       "      <td>London</td>\n",
       "      <td>England</td>\n",
       "      <td>False</td>\n",
       "      <td>1873</td>\n",
       "      <td>3</td>\n",
       "      <td>8</td>\n",
       "    </tr>\n",
       "    <tr>\n",
       "      <th>2</th>\n",
       "      <td>Scotland</td>\n",
       "      <td>England</td>\n",
       "      <td>2</td>\n",
       "      <td>1</td>\n",
       "      <td>Friendly</td>\n",
       "      <td>Glasgow</td>\n",
       "      <td>Scotland</td>\n",
       "      <td>False</td>\n",
       "      <td>1874</td>\n",
       "      <td>3</td>\n",
       "      <td>7</td>\n",
       "    </tr>\n",
       "  </tbody>\n",
       "</table>\n",
       "</div>"
      ],
      "text/plain": [
       "  home_team away_team  home_score  away_score tournament     city   country  \\\n",
       "0  Scotland   England           0           0   Friendly  Glasgow  Scotland   \n",
       "1   England  Scotland           4           2   Friendly   London   England   \n",
       "2  Scotland   England           2           1   Friendly  Glasgow  Scotland   \n",
       "\n",
       "   neutral  year  month  day  \n",
       "0    False  1872     11   30  \n",
       "1    False  1873      3    8  \n",
       "2    False  1874      3    7  "
      ]
     },
     "execution_count": 343,
     "metadata": {},
     "output_type": "execute_result"
    }
   ],
   "source": [
    "df.head(3)"
   ]
  },
  {
   "cell_type": "code",
   "execution_count": 344,
   "metadata": {
    "ExecuteTime": {
     "end_time": "2020-05-23T05:09:50.690467Z",
     "start_time": "2020-05-23T05:09:50.665107Z"
    }
   },
   "outputs": [],
   "source": [
    "df_home_team=df.groupby('home_team')[['home_score']].sum().sort_values(by='home_score',ascending=False).reset_index()"
   ]
  },
  {
   "cell_type": "code",
   "execution_count": 345,
   "metadata": {
    "ExecuteTime": {
     "end_time": "2020-05-23T05:09:52.831831Z",
     "start_time": "2020-05-23T05:09:51.690073Z"
    }
   },
   "outputs": [
    {
     "data": {
      "image/png": "[encoded data removed]",
      "text/plain": [
       "<Figure size 720x720 with 1 Axes>"
      ]
     },
     "metadata": {
      "needs_background": "light"
     },
     "output_type": "display_data"
    }
   ],
   "source": [
    "plt.figure(figsize=(10,10))\n",
    "sns.barplot(x=df_home_team.home_team[:50],y=df_home_team.home_score[:50])\n",
    "plt.xticks(rotation=90)\n",
    "plt.show()\n",
    "#Brazil as score highest goals when played in home ground,"
   ]
  },
  {
   "cell_type": "code",
   "execution_count": 346,
   "metadata": {
    "ExecuteTime": {
     "end_time": "2020-05-23T05:09:54.374948Z",
     "start_time": "2020-05-23T05:09:54.341034Z"
    }
   },
   "outputs": [],
   "source": [
    "df_away_team=df.groupby('away_team')[['away_score']].sum().sort_values(by='away_score',ascending=False).reset_index()"
   ]
  },
  {
   "cell_type": "code",
   "execution_count": 347,
   "metadata": {
    "ExecuteTime": {
     "end_time": "2020-05-23T05:09:55.467720Z",
     "start_time": "2020-05-23T05:09:55.452164Z"
    }
   },
   "outputs": [
    {
     "data": {
      "text/html": [
       "<div>\n",
       "<style scoped>\n",
       "    .dataframe tbody tr th:only-of-type {\n",
       "        vertical-align: middle;\n",
       "    }\n",
       "\n",
       "    .dataframe tbody tr th {\n",
       "        vertical-align: top;\n",
       "    }\n",
       "\n",
       "    .dataframe thead th {\n",
       "        text-align: right;\n",
       "    }\n",
       "</style>\n",
       "<table border=\"1\" class=\"dataframe\">\n",
       "  <thead>\n",
       "    <tr style=\"text-align: right;\">\n",
       "      <th></th>\n",
       "      <th>away_team</th>\n",
       "      <th>away_score</th>\n",
       "    </tr>\n",
       "  </thead>\n",
       "  <tbody>\n",
       "    <tr>\n",
       "      <th>5</th>\n",
       "      <td>Brazil</td>\n",
       "      <td>746</td>\n",
       "    </tr>\n",
       "  </tbody>\n",
       "</table>\n",
       "</div>"
      ],
      "text/plain": [
       "  away_team  away_score\n",
       "5    Brazil         746"
      ]
     },
     "execution_count": 347,
     "metadata": {},
     "output_type": "execute_result"
    }
   ],
   "source": [
    "df_away_team[df_away_team['away_team']=='Brazil']"
   ]
  },
  {
   "cell_type": "code",
   "execution_count": 348,
   "metadata": {
    "ExecuteTime": {
     "end_time": "2020-05-23T05:09:57.803933Z",
     "start_time": "2020-05-23T05:09:56.716763Z"
    }
   },
   "outputs": [
    {
     "data": {
      "text/plain": [
       "(array([ 0,  1,  2,  3,  4,  5,  6,  7,  8,  9, 10, 11, 12, 13, 14, 15, 16,\n",
       "        17, 18, 19, 20, 21, 22, 23, 24, 25, 26, 27, 28, 29, 30, 31, 32, 33,\n",
       "        34, 35, 36, 37, 38, 39, 40, 41, 42, 43, 44, 45, 46, 47, 48, 49]),\n",
       " <a list of 50 Text xticklabel objects>)"
      ]
     },
     "execution_count": 348,
     "metadata": {},
     "output_type": "execute_result"
    },
    {
     "data": {
      "image/png": "[encoded data removed]",
      "text/plain": [
       "<Figure size 720x720 with 1 Axes>"
      ]
     },
     "metadata": {
      "needs_background": "light"
     },
     "output_type": "display_data"
    }
   ],
   "source": [
    "plt.figure(figsize=(10,10))\n",
    "sns.barplot(x=df_away_team['away_team'][:50],y=df_away_team['away_score'][:50])\n",
    "plt.xticks(rotation=90)\n",
    "#England as scored highest goals when played away. And brazil which as scored highest goals in home ground as came to 6th place when played away."
   ]
  },
  {
   "cell_type": "code",
   "execution_count": 349,
   "metadata": {
    "ExecuteTime": {
     "end_time": "2020-05-23T05:09:58.796536Z",
     "start_time": "2020-05-23T05:09:58.771619Z"
    }
   },
   "outputs": [
    {
     "data": {
      "text/html": [
       "<div>\n",
       "<style scoped>\n",
       "    .dataframe tbody tr th:only-of-type {\n",
       "        vertical-align: middle;\n",
       "    }\n",
       "\n",
       "    .dataframe tbody tr th {\n",
       "        vertical-align: top;\n",
       "    }\n",
       "\n",
       "    .dataframe thead th {\n",
       "        text-align: right;\n",
       "    }\n",
       "</style>\n",
       "<table border=\"1\" class=\"dataframe\">\n",
       "  <thead>\n",
       "    <tr style=\"text-align: right;\">\n",
       "      <th></th>\n",
       "      <th>home_team</th>\n",
       "      <th>away_team</th>\n",
       "      <th>home_score</th>\n",
       "      <th>away_score</th>\n",
       "      <th>tournament</th>\n",
       "      <th>city</th>\n",
       "      <th>country</th>\n",
       "      <th>neutral</th>\n",
       "      <th>year</th>\n",
       "      <th>month</th>\n",
       "      <th>day</th>\n",
       "    </tr>\n",
       "  </thead>\n",
       "  <tbody>\n",
       "    <tr>\n",
       "      <th>0</th>\n",
       "      <td>Scotland</td>\n",
       "      <td>England</td>\n",
       "      <td>0</td>\n",
       "      <td>0</td>\n",
       "      <td>Friendly</td>\n",
       "      <td>Glasgow</td>\n",
       "      <td>Scotland</td>\n",
       "      <td>False</td>\n",
       "      <td>1872</td>\n",
       "      <td>11</td>\n",
       "      <td>30</td>\n",
       "    </tr>\n",
       "    <tr>\n",
       "      <th>1</th>\n",
       "      <td>England</td>\n",
       "      <td>Scotland</td>\n",
       "      <td>4</td>\n",
       "      <td>2</td>\n",
       "      <td>Friendly</td>\n",
       "      <td>London</td>\n",
       "      <td>England</td>\n",
       "      <td>False</td>\n",
       "      <td>1873</td>\n",
       "      <td>3</td>\n",
       "      <td>8</td>\n",
       "    </tr>\n",
       "    <tr>\n",
       "      <th>2</th>\n",
       "      <td>Scotland</td>\n",
       "      <td>England</td>\n",
       "      <td>2</td>\n",
       "      <td>1</td>\n",
       "      <td>Friendly</td>\n",
       "      <td>Glasgow</td>\n",
       "      <td>Scotland</td>\n",
       "      <td>False</td>\n",
       "      <td>1874</td>\n",
       "      <td>3</td>\n",
       "      <td>7</td>\n",
       "    </tr>\n",
       "    <tr>\n",
       "      <th>3</th>\n",
       "      <td>England</td>\n",
       "      <td>Scotland</td>\n",
       "      <td>2</td>\n",
       "      <td>2</td>\n",
       "      <td>Friendly</td>\n",
       "      <td>London</td>\n",
       "      <td>England</td>\n",
       "      <td>False</td>\n",
       "      <td>1875</td>\n",
       "      <td>3</td>\n",
       "      <td>6</td>\n",
       "    </tr>\n",
       "    <tr>\n",
       "      <th>4</th>\n",
       "      <td>Scotland</td>\n",
       "      <td>England</td>\n",
       "      <td>3</td>\n",
       "      <td>0</td>\n",
       "      <td>Friendly</td>\n",
       "      <td>Glasgow</td>\n",
       "      <td>Scotland</td>\n",
       "      <td>False</td>\n",
       "      <td>1876</td>\n",
       "      <td>3</td>\n",
       "      <td>4</td>\n",
       "    </tr>\n",
       "  </tbody>\n",
       "</table>\n",
       "</div>"
      ],
      "text/plain": [
       "  home_team away_team  home_score  away_score tournament     city   country  \\\n",
       "0  Scotland   England           0           0   Friendly  Glasgow  Scotland   \n",
       "1   England  Scotland           4           2   Friendly   London   England   \n",
       "2  Scotland   England           2           1   Friendly  Glasgow  Scotland   \n",
       "3   England  Scotland           2           2   Friendly   London   England   \n",
       "4  Scotland   England           3           0   Friendly  Glasgow  Scotland   \n",
       "\n",
       "   neutral  year  month  day  \n",
       "0    False  1872     11   30  \n",
       "1    False  1873      3    8  \n",
       "2    False  1874      3    7  \n",
       "3    False  1875      3    6  \n",
       "4    False  1876      3    4  "
      ]
     },
     "execution_count": 349,
     "metadata": {},
     "output_type": "execute_result"
    }
   ],
   "source": [
    "df.head()"
   ]
  },
  {
   "cell_type": "code",
   "execution_count": 350,
   "metadata": {
    "ExecuteTime": {
     "end_time": "2020-05-23T05:11:15.902136Z",
     "start_time": "2020-05-23T05:11:15.893196Z"
    }
   },
   "outputs": [],
   "source": [
    "#Q1) Which team played the largest number of matches throughout history?"
   ]
  },
  {
   "cell_type": "code",
   "execution_count": 351,
   "metadata": {
    "ExecuteTime": {
     "end_time": "2020-05-23T05:11:17.424813Z",
     "start_time": "2020-05-23T05:11:17.199872Z"
    }
   },
   "outputs": [],
   "source": [
    "num_of_teams = 10\n",
    "tournaments_of_interest = ['Friendly', 'FIFA World Cup', 'UEFA Euro', 'African Cup of Nations', 'CFU Caribbean Cup', \n",
    "                           'Copa América', 'AFC Asian Cup', 'Other']\n",
    "cdf1 = df[['home_team', 'tournament']].rename(columns={'home_team': 'team'})\n",
    "cdf2 = df[['away_team', 'tournament']].rename(columns={'away_team': 'team'})\n",
    "cdf = pd.concat([cdf1, cdf2], axis=0, ignore_index=True)\n",
    "cdf.replace(to_replace={'FIFA World Cup qualification': 'FIFA World Cup', 'UEFA Euro qualification': 'UEFA Euro',\n",
    "                        'African Cup of Nations qualification': 'African Cup of Nations', 'AFC Asian Cup qualification':\n",
    "                        'AFC Asian Cup', 'CFU Caribbean Cup qualification': 'CFU Caribbean Cup'}, \n",
    "            value=None, inplace=True)\n",
    "cdf['count'] = 1\n",
    "cdf_piv = cdf.pivot_table(values='count', index='team', columns='tournament', aggfunc=np.sum, fill_value=0)\n",
    "tournament_counts = cdf['tournament'].value_counts(sort=True, ascending=False)\n",
    "teams = df['home_team'].append(df['away_team'], ignore_index=True)\n",
    "team_counts = teams.value_counts().sort_values(ascending=False).head(num_of_teams)\n",
    "s_df = pd.DataFrame(columns=tournaments_of_interest, index=team_counts.index)"
   ]
  },
  {
   "cell_type": "code",
   "execution_count": 352,
   "metadata": {
    "ExecuteTime": {
     "end_time": "2020-05-23T05:11:23.823795Z",
     "start_time": "2020-05-23T05:11:23.806863Z"
    }
   },
   "outputs": [],
   "source": [
    "for i in range(s_df.shape[0]):\n",
    "    t = s_df.index[i]\n",
    "    team_tournament_counts = []\n",
    "    for col in s_df.columns:\n",
    "        if col != 'Other':\n",
    "            team_tournament_counts.append(cdf_piv.loc[t, col])\n",
    "        else:\n",
    "            team_tournament_counts.append(team_counts.loc[t] - np.sum(team_tournament_counts))\n",
    "    s_df.loc[t, :] = team_tournament_counts"
   ]
  },
  {
   "cell_type": "code",
   "execution_count": 353,
   "metadata": {
    "ExecuteTime": {
     "end_time": "2020-05-23T05:11:32.382459Z",
     "start_time": "2020-05-23T05:11:30.256271Z"
    }
   },
   "outputs": [
    {
     "data": {
      "text/plain": [
       "Text(98.875, 0.5, 'No of matches')"
      ]
     },
     "execution_count": 353,
     "metadata": {},
     "output_type": "execute_result"
    },
    {
     "data": {
      "image/png": "[encoded data removed]",
      "text/plain": [
       "<Figure size 1080x504 with 1 Axes>"
      ]
     },
     "metadata": {
      "needs_background": "light"
     },
     "output_type": "display_data"
    }
   ],
   "source": [
    "ind = np.arange(num_of_teams); b_w = 0.35\n",
    "fig, ax = plt.subplots(figsize=(15,7));\n",
    "prev = np.zeros(num_of_teams)\n",
    "for i,col in enumerate(s_df.columns):\n",
    "    ax.bar(ind, s_df[col].values.flatten(), width=b_w, bottom=prev,label=col);\n",
    "    prev += s_df[col].values.flatten()\n",
    "ax.set_xticks(ind);\n",
    "ax.set_xticklabels(s_df.index.values, rotation=90);\n",
    "plt.legend(loc=1);\n",
    "plt.savefig('fban-played-more.png', dpi=300)\n",
    "plt.xlabel('Teams')\n",
    "plt.ylabel('No of matches')"
   ]
  },
  {
   "cell_type": "markdown",
   "metadata": {
    "ExecuteTime": {
     "end_time": "2020-05-22T07:26:27.491176Z",
     "start_time": "2020-05-22T07:26:27.485189Z"
    }
   },
   "source": [
    "Which team played the largest number of matches in FIFA World Cup?"
   ]
  },
  {
   "cell_type": "code",
   "execution_count": 354,
   "metadata": {
    "ExecuteTime": {
     "end_time": "2020-05-23T05:11:33.737403Z",
     "start_time": "2020-05-23T05:11:33.709454Z"
    }
   },
   "outputs": [],
   "source": [
    "df_fifa1=df[df['tournament']=='FIFA World Cup qualification'][['home_team']].rename(columns={'home_team':'team'})\n",
    "df_fifa2=df[df['tournament']=='FIFA World Cup qualification'][['away_team']].rename(columns={'away_team':'team'})\n",
    "df_fifa=pd.concat([df_fifa1,df_fifa2],axis=0,ignore_index=True)"
   ]
  },
  {
   "cell_type": "code",
   "execution_count": 355,
   "metadata": {
    "ExecuteTime": {
     "end_time": "2020-05-23T05:11:42.690005Z",
     "start_time": "2020-05-23T05:11:42.186879Z"
    }
   },
   "outputs": [
    {
     "data": {
      "text/plain": [
       "Costa Rica       166\n",
       "Mexico           165\n",
       "Uruguay          152\n",
       "Paraguay         151\n",
       "Colombia         151\n",
       "United States    149\n",
       "Bolivia          148\n",
       "Peru             145\n",
       "Chile            142\n",
       "Australia        141\n",
       "Name: team, dtype: int64"
      ]
     },
     "metadata": {},
     "output_type": "display_data"
    },
    {
     "data": {
      "image/png": "[encoded data removed]",
      "text/plain": [
       "<Figure size 1008x576 with 1 Axes>"
      ]
     },
     "metadata": {
      "needs_background": "light"
     },
     "output_type": "display_data"
    }
   ],
   "source": [
    "ax=df_fifa['team'].value_counts().head(10).plot(kind='bar', figsize=(14,8), color='#204658')\n",
    "display(df_fifa['team'].value_counts().head(10))"
   ]
  },
  {
   "cell_type": "markdown",
   "metadata": {},
   "source": [
    "Which team achieved more wins than others over the years?"
   ]
  },
  {
   "cell_type": "code",
   "execution_count": 356,
   "metadata": {
    "ExecuteTime": {
     "end_time": "2020-05-23T05:12:15.768656Z",
     "start_time": "2020-05-23T05:12:13.419941Z"
    }
   },
   "outputs": [],
   "source": [
    "#In order to know the winning team we need to create two columns one for result and other for draw\n",
    "def getmatchresult(scores):\n",
    "    if scores['home_score']>scores['away_score']:\n",
    "        return 'home_win'\n",
    "    elif scores['home_score']==scores['away_score']:\n",
    "        return 'draw'\n",
    "    else:\n",
    "        return 'away_win'\n",
    "    \n",
    "df['result']=df[['home_score','away_score']].apply(getmatchresult,axis=1)"
   ]
  },
  {
   "cell_type": "code",
   "execution_count": 357,
   "metadata": {
    "ExecuteTime": {
     "end_time": "2020-05-23T05:12:18.999339Z",
     "start_time": "2020-05-23T05:12:16.709374Z"
    }
   },
   "outputs": [],
   "source": [
    "#Adding winning team name\n",
    "def winningteam(d):\n",
    "    if d['result']=='draw':\n",
    "        return 'draw'\n",
    "    elif d['result']=='home_win':\n",
    "        return d['home_team']\n",
    "    else:\n",
    "        return d['away_team']\n",
    "    \n",
    "df['winner']=df[['home_team','away_team','result']].apply(winningteam,axis=1)"
   ]
  },
  {
   "cell_type": "code",
   "execution_count": 358,
   "metadata": {
    "ExecuteTime": {
     "end_time": "2020-05-23T05:12:20.158969Z",
     "start_time": "2020-05-23T05:12:20.135194Z"
    }
   },
   "outputs": [
    {
     "data": {
      "text/html": [
       "<div>\n",
       "<style scoped>\n",
       "    .dataframe tbody tr th:only-of-type {\n",
       "        vertical-align: middle;\n",
       "    }\n",
       "\n",
       "    .dataframe tbody tr th {\n",
       "        vertical-align: top;\n",
       "    }\n",
       "\n",
       "    .dataframe thead th {\n",
       "        text-align: right;\n",
       "    }\n",
       "</style>\n",
       "<table border=\"1\" class=\"dataframe\">\n",
       "  <thead>\n",
       "    <tr style=\"text-align: right;\">\n",
       "      <th></th>\n",
       "      <th>home_team</th>\n",
       "      <th>away_team</th>\n",
       "      <th>home_score</th>\n",
       "      <th>away_score</th>\n",
       "      <th>tournament</th>\n",
       "      <th>city</th>\n",
       "      <th>country</th>\n",
       "      <th>neutral</th>\n",
       "      <th>year</th>\n",
       "      <th>month</th>\n",
       "      <th>day</th>\n",
       "      <th>result</th>\n",
       "      <th>winner</th>\n",
       "    </tr>\n",
       "  </thead>\n",
       "  <tbody>\n",
       "    <tr>\n",
       "      <th>0</th>\n",
       "      <td>Scotland</td>\n",
       "      <td>England</td>\n",
       "      <td>0</td>\n",
       "      <td>0</td>\n",
       "      <td>Friendly</td>\n",
       "      <td>Glasgow</td>\n",
       "      <td>Scotland</td>\n",
       "      <td>False</td>\n",
       "      <td>1872</td>\n",
       "      <td>11</td>\n",
       "      <td>30</td>\n",
       "      <td>draw</td>\n",
       "      <td>draw</td>\n",
       "    </tr>\n",
       "    <tr>\n",
       "      <th>1</th>\n",
       "      <td>England</td>\n",
       "      <td>Scotland</td>\n",
       "      <td>4</td>\n",
       "      <td>2</td>\n",
       "      <td>Friendly</td>\n",
       "      <td>London</td>\n",
       "      <td>England</td>\n",
       "      <td>False</td>\n",
       "      <td>1873</td>\n",
       "      <td>3</td>\n",
       "      <td>8</td>\n",
       "      <td>home_win</td>\n",
       "      <td>England</td>\n",
       "    </tr>\n",
       "    <tr>\n",
       "      <th>2</th>\n",
       "      <td>Scotland</td>\n",
       "      <td>England</td>\n",
       "      <td>2</td>\n",
       "      <td>1</td>\n",
       "      <td>Friendly</td>\n",
       "      <td>Glasgow</td>\n",
       "      <td>Scotland</td>\n",
       "      <td>False</td>\n",
       "      <td>1874</td>\n",
       "      <td>3</td>\n",
       "      <td>7</td>\n",
       "      <td>home_win</td>\n",
       "      <td>Scotland</td>\n",
       "    </tr>\n",
       "  </tbody>\n",
       "</table>\n",
       "</div>"
      ],
      "text/plain": [
       "  home_team away_team  home_score  away_score tournament     city   country  \\\n",
       "0  Scotland   England           0           0   Friendly  Glasgow  Scotland   \n",
       "1   England  Scotland           4           2   Friendly   London   England   \n",
       "2  Scotland   England           2           1   Friendly  Glasgow  Scotland   \n",
       "\n",
       "   neutral  year  month  day    result    winner  \n",
       "0    False  1872     11   30      draw      draw  \n",
       "1    False  1873      3    8  home_win   England  \n",
       "2    False  1874      3    7  home_win  Scotland  "
      ]
     },
     "execution_count": 358,
     "metadata": {},
     "output_type": "execute_result"
    }
   ],
   "source": [
    "df.head(3)"
   ]
  },
  {
   "cell_type": "code",
   "execution_count": 359,
   "metadata": {
    "ExecuteTime": {
     "end_time": "2020-05-23T05:12:21.235814Z",
     "start_time": "2020-05-23T05:12:21.197880Z"
    }
   },
   "outputs": [],
   "source": [
    "cdf=df[df['winner']!='draw']\n",
    "winner_counts=cdf['winner'].value_counts().sort_values(ascending=False).head(10).reset_index()"
   ]
  },
  {
   "cell_type": "code",
   "execution_count": 360,
   "metadata": {
    "ExecuteTime": {
     "end_time": "2020-05-23T05:12:22.316248Z",
     "start_time": "2020-05-23T05:12:22.309660Z"
    }
   },
   "outputs": [],
   "source": [
    "winner_counts=winner_counts.rename(columns={'index':'winner','winner':'count'})"
   ]
  },
  {
   "cell_type": "code",
   "execution_count": 361,
   "metadata": {
    "ExecuteTime": {
     "end_time": "2020-05-23T05:12:23.920473Z",
     "start_time": "2020-05-23T05:12:23.541083Z"
    }
   },
   "outputs": [
    {
     "data": {
      "text/plain": [
       "(array([0, 1, 2, 3, 4, 5, 6, 7, 8, 9]), <a list of 10 Text xticklabel objects>)"
      ]
     },
     "execution_count": 361,
     "metadata": {},
     "output_type": "execute_result"
    },
    {
     "data": {
      "image/png": "[encoded data removed]",
      "text/plain": [
       "<Figure size 432x288 with 1 Axes>"
      ]
     },
     "metadata": {
      "needs_background": "light"
     },
     "output_type": "display_data"
    }
   ],
   "source": [
    "sns.barplot(winner_counts['winner'],winner_counts['count'])\n",
    "plt.xticks(rotation=90)#Brazil as won highest matches"
   ]
  },
  {
   "cell_type": "markdown",
   "metadata": {},
   "source": [
    "Which team lost more matches than others over the years?"
   ]
  },
  {
   "cell_type": "code",
   "execution_count": 362,
   "metadata": {
    "ExecuteTime": {
     "end_time": "2020-05-23T05:12:27.179152Z",
     "start_time": "2020-05-23T05:12:24.952127Z"
    }
   },
   "outputs": [],
   "source": [
    "def lostteam(s):\n",
    "    if s['result']=='draw':\n",
    "        return 'draw'\n",
    "    elif s['result']=='home_win':\n",
    "        return s['away_team']\n",
    "    else:\n",
    "        return s['home_team']\n",
    "    \n",
    "df['loser']=df[['home_team','away_team','result']].apply(lostteam,axis=1)"
   ]
  },
  {
   "cell_type": "code",
   "execution_count": 363,
   "metadata": {
    "ExecuteTime": {
     "end_time": "2020-05-23T05:12:28.307558Z",
     "start_time": "2020-05-23T05:12:28.279326Z"
    }
   },
   "outputs": [
    {
     "data": {
      "text/html": [
       "<div>\n",
       "<style scoped>\n",
       "    .dataframe tbody tr th:only-of-type {\n",
       "        vertical-align: middle;\n",
       "    }\n",
       "\n",
       "    .dataframe tbody tr th {\n",
       "        vertical-align: top;\n",
       "    }\n",
       "\n",
       "    .dataframe thead th {\n",
       "        text-align: right;\n",
       "    }\n",
       "</style>\n",
       "<table border=\"1\" class=\"dataframe\">\n",
       "  <thead>\n",
       "    <tr style=\"text-align: right;\">\n",
       "      <th></th>\n",
       "      <th>home_team</th>\n",
       "      <th>away_team</th>\n",
       "      <th>home_score</th>\n",
       "      <th>away_score</th>\n",
       "      <th>tournament</th>\n",
       "      <th>city</th>\n",
       "      <th>country</th>\n",
       "      <th>neutral</th>\n",
       "      <th>year</th>\n",
       "      <th>month</th>\n",
       "      <th>day</th>\n",
       "      <th>result</th>\n",
       "      <th>winner</th>\n",
       "      <th>loser</th>\n",
       "    </tr>\n",
       "  </thead>\n",
       "  <tbody>\n",
       "    <tr>\n",
       "      <th>0</th>\n",
       "      <td>Scotland</td>\n",
       "      <td>England</td>\n",
       "      <td>0</td>\n",
       "      <td>0</td>\n",
       "      <td>Friendly</td>\n",
       "      <td>Glasgow</td>\n",
       "      <td>Scotland</td>\n",
       "      <td>False</td>\n",
       "      <td>1872</td>\n",
       "      <td>11</td>\n",
       "      <td>30</td>\n",
       "      <td>draw</td>\n",
       "      <td>draw</td>\n",
       "      <td>draw</td>\n",
       "    </tr>\n",
       "    <tr>\n",
       "      <th>1</th>\n",
       "      <td>England</td>\n",
       "      <td>Scotland</td>\n",
       "      <td>4</td>\n",
       "      <td>2</td>\n",
       "      <td>Friendly</td>\n",
       "      <td>London</td>\n",
       "      <td>England</td>\n",
       "      <td>False</td>\n",
       "      <td>1873</td>\n",
       "      <td>3</td>\n",
       "      <td>8</td>\n",
       "      <td>home_win</td>\n",
       "      <td>England</td>\n",
       "      <td>Scotland</td>\n",
       "    </tr>\n",
       "    <tr>\n",
       "      <th>2</th>\n",
       "      <td>Scotland</td>\n",
       "      <td>England</td>\n",
       "      <td>2</td>\n",
       "      <td>1</td>\n",
       "      <td>Friendly</td>\n",
       "      <td>Glasgow</td>\n",
       "      <td>Scotland</td>\n",
       "      <td>False</td>\n",
       "      <td>1874</td>\n",
       "      <td>3</td>\n",
       "      <td>7</td>\n",
       "      <td>home_win</td>\n",
       "      <td>Scotland</td>\n",
       "      <td>England</td>\n",
       "    </tr>\n",
       "  </tbody>\n",
       "</table>\n",
       "</div>"
      ],
      "text/plain": [
       "  home_team away_team  home_score  away_score tournament     city   country  \\\n",
       "0  Scotland   England           0           0   Friendly  Glasgow  Scotland   \n",
       "1   England  Scotland           4           2   Friendly   London   England   \n",
       "2  Scotland   England           2           1   Friendly  Glasgow  Scotland   \n",
       "\n",
       "   neutral  year  month  day    result    winner     loser  \n",
       "0    False  1872     11   30      draw      draw      draw  \n",
       "1    False  1873      3    8  home_win   England  Scotland  \n",
       "2    False  1874      3    7  home_win  Scotland   England  "
      ]
     },
     "execution_count": 363,
     "metadata": {},
     "output_type": "execute_result"
    }
   ],
   "source": [
    "df.head(3)"
   ]
  },
  {
   "cell_type": "code",
   "execution_count": 364,
   "metadata": {
    "ExecuteTime": {
     "end_time": "2020-05-23T05:12:29.764541Z",
     "start_time": "2020-05-23T05:12:29.701090Z"
    }
   },
   "outputs": [],
   "source": [
    "cdf=df[df['loser']!='draw']\n",
    "loaser_counts=cdf['loser'].value_counts().sort_values(ascending=False).head(10).reset_index()"
   ]
  },
  {
   "cell_type": "code",
   "execution_count": 365,
   "metadata": {
    "ExecuteTime": {
     "end_time": "2020-05-23T05:12:44.805648Z",
     "start_time": "2020-05-23T05:12:44.798667Z"
    }
   },
   "outputs": [],
   "source": [
    "loaser_counts=loaser_counts.rename(columns={'index':'loser','loser':'count'})"
   ]
  },
  {
   "cell_type": "code",
   "execution_count": 366,
   "metadata": {
    "ExecuteTime": {
     "end_time": "2020-05-23T05:12:46.412687Z",
     "start_time": "2020-05-23T05:12:46.024506Z"
    }
   },
   "outputs": [
    {
     "data": {
      "text/plain": [
       "(array([0, 1, 2, 3, 4, 5, 6, 7, 8, 9]), <a list of 10 Text xticklabel objects>)"
      ]
     },
     "execution_count": 366,
     "metadata": {},
     "output_type": "execute_result"
    },
    {
     "data": {
      "image/png": "[encoded data removed]",
      "text/plain": [
       "<Figure size 432x288 with 1 Axes>"
      ]
     },
     "metadata": {
      "needs_background": "light"
     },
     "output_type": "display_data"
    }
   ],
   "source": [
    "sns.barplot(loaser_counts['loser'],loaser_counts['count'])\n",
    "plt.xticks(rotation=90)"
   ]
  },
  {
   "cell_type": "markdown",
   "metadata": {
    "ExecuteTime": {
     "end_time": "2020-05-22T12:13:13.021851Z",
     "start_time": "2020-05-22T12:13:12.914724Z"
    }
   },
   "source": [
    "Which team scored the largest number of goals throughout history?"
   ]
  },
  {
   "cell_type": "code",
   "execution_count": 367,
   "metadata": {
    "ExecuteTime": {
     "end_time": "2020-05-23T05:12:47.570560Z",
     "start_time": "2020-05-23T05:12:47.539652Z"
    }
   },
   "outputs": [
    {
     "data": {
      "text/html": [
       "<div>\n",
       "<style scoped>\n",
       "    .dataframe tbody tr th:only-of-type {\n",
       "        vertical-align: middle;\n",
       "    }\n",
       "\n",
       "    .dataframe tbody tr th {\n",
       "        vertical-align: top;\n",
       "    }\n",
       "\n",
       "    .dataframe thead th {\n",
       "        text-align: right;\n",
       "    }\n",
       "</style>\n",
       "<table border=\"1\" class=\"dataframe\">\n",
       "  <thead>\n",
       "    <tr style=\"text-align: right;\">\n",
       "      <th></th>\n",
       "      <th>home_team</th>\n",
       "      <th>away_team</th>\n",
       "      <th>home_score</th>\n",
       "      <th>away_score</th>\n",
       "      <th>tournament</th>\n",
       "      <th>city</th>\n",
       "      <th>country</th>\n",
       "      <th>neutral</th>\n",
       "      <th>year</th>\n",
       "      <th>month</th>\n",
       "      <th>day</th>\n",
       "      <th>result</th>\n",
       "      <th>winner</th>\n",
       "      <th>loser</th>\n",
       "    </tr>\n",
       "  </thead>\n",
       "  <tbody>\n",
       "    <tr>\n",
       "      <th>0</th>\n",
       "      <td>Scotland</td>\n",
       "      <td>England</td>\n",
       "      <td>0</td>\n",
       "      <td>0</td>\n",
       "      <td>Friendly</td>\n",
       "      <td>Glasgow</td>\n",
       "      <td>Scotland</td>\n",
       "      <td>False</td>\n",
       "      <td>1872</td>\n",
       "      <td>11</td>\n",
       "      <td>30</td>\n",
       "      <td>draw</td>\n",
       "      <td>draw</td>\n",
       "      <td>draw</td>\n",
       "    </tr>\n",
       "    <tr>\n",
       "      <th>1</th>\n",
       "      <td>England</td>\n",
       "      <td>Scotland</td>\n",
       "      <td>4</td>\n",
       "      <td>2</td>\n",
       "      <td>Friendly</td>\n",
       "      <td>London</td>\n",
       "      <td>England</td>\n",
       "      <td>False</td>\n",
       "      <td>1873</td>\n",
       "      <td>3</td>\n",
       "      <td>8</td>\n",
       "      <td>home_win</td>\n",
       "      <td>England</td>\n",
       "      <td>Scotland</td>\n",
       "    </tr>\n",
       "    <tr>\n",
       "      <th>2</th>\n",
       "      <td>Scotland</td>\n",
       "      <td>England</td>\n",
       "      <td>2</td>\n",
       "      <td>1</td>\n",
       "      <td>Friendly</td>\n",
       "      <td>Glasgow</td>\n",
       "      <td>Scotland</td>\n",
       "      <td>False</td>\n",
       "      <td>1874</td>\n",
       "      <td>3</td>\n",
       "      <td>7</td>\n",
       "      <td>home_win</td>\n",
       "      <td>Scotland</td>\n",
       "      <td>England</td>\n",
       "    </tr>\n",
       "    <tr>\n",
       "      <th>3</th>\n",
       "      <td>England</td>\n",
       "      <td>Scotland</td>\n",
       "      <td>2</td>\n",
       "      <td>2</td>\n",
       "      <td>Friendly</td>\n",
       "      <td>London</td>\n",
       "      <td>England</td>\n",
       "      <td>False</td>\n",
       "      <td>1875</td>\n",
       "      <td>3</td>\n",
       "      <td>6</td>\n",
       "      <td>draw</td>\n",
       "      <td>draw</td>\n",
       "      <td>draw</td>\n",
       "    </tr>\n",
       "    <tr>\n",
       "      <th>4</th>\n",
       "      <td>Scotland</td>\n",
       "      <td>England</td>\n",
       "      <td>3</td>\n",
       "      <td>0</td>\n",
       "      <td>Friendly</td>\n",
       "      <td>Glasgow</td>\n",
       "      <td>Scotland</td>\n",
       "      <td>False</td>\n",
       "      <td>1876</td>\n",
       "      <td>3</td>\n",
       "      <td>4</td>\n",
       "      <td>home_win</td>\n",
       "      <td>Scotland</td>\n",
       "      <td>England</td>\n",
       "    </tr>\n",
       "  </tbody>\n",
       "</table>\n",
       "</div>"
      ],
      "text/plain": [
       "  home_team away_team  home_score  away_score tournament     city   country  \\\n",
       "0  Scotland   England           0           0   Friendly  Glasgow  Scotland   \n",
       "1   England  Scotland           4           2   Friendly   London   England   \n",
       "2  Scotland   England           2           1   Friendly  Glasgow  Scotland   \n",
       "3   England  Scotland           2           2   Friendly   London   England   \n",
       "4  Scotland   England           3           0   Friendly  Glasgow  Scotland   \n",
       "\n",
       "   neutral  year  month  day    result    winner     loser  \n",
       "0    False  1872     11   30      draw      draw      draw  \n",
       "1    False  1873      3    8  home_win   England  Scotland  \n",
       "2    False  1874      3    7  home_win  Scotland   England  \n",
       "3    False  1875      3    6      draw      draw      draw  \n",
       "4    False  1876      3    4  home_win  Scotland   England  "
      ]
     },
     "execution_count": 367,
     "metadata": {},
     "output_type": "execute_result"
    }
   ],
   "source": [
    "df.head()"
   ]
  },
  {
   "cell_type": "markdown",
   "metadata": {},
   "source": [
    "Which team scored the largest number of goals in FIFA World Cup?"
   ]
  },
  {
   "cell_type": "code",
   "execution_count": 428,
   "metadata": {
    "ExecuteTime": {
     "end_time": "2020-05-23T05:38:31.696713Z",
     "start_time": "2020-05-23T05:38:31.689736Z"
    }
   },
   "outputs": [],
   "source": [
    "df['total_goals']=df['home_score']+df['away_score']"
   ]
  },
  {
   "cell_type": "code",
   "execution_count": 433,
   "metadata": {
    "ExecuteTime": {
     "end_time": "2020-05-23T05:39:54.950416Z",
     "start_time": "2020-05-23T05:39:54.926141Z"
    }
   },
   "outputs": [
    {
     "data": {
      "text/html": [
       "<div>\n",
       "<style scoped>\n",
       "    .dataframe tbody tr th:only-of-type {\n",
       "        vertical-align: middle;\n",
       "    }\n",
       "\n",
       "    .dataframe tbody tr th {\n",
       "        vertical-align: top;\n",
       "    }\n",
       "\n",
       "    .dataframe thead th {\n",
       "        text-align: right;\n",
       "    }\n",
       "</style>\n",
       "<table border=\"1\" class=\"dataframe\">\n",
       "  <thead>\n",
       "    <tr style=\"text-align: right;\">\n",
       "      <th></th>\n",
       "      <th>home_team</th>\n",
       "      <th>away_team</th>\n",
       "      <th>home_score</th>\n",
       "      <th>away_score</th>\n",
       "      <th>tournament</th>\n",
       "      <th>city</th>\n",
       "      <th>country</th>\n",
       "      <th>neutral</th>\n",
       "      <th>year</th>\n",
       "      <th>month</th>\n",
       "      <th>day</th>\n",
       "      <th>result</th>\n",
       "      <th>winner</th>\n",
       "      <th>loser</th>\n",
       "      <th>total_goals</th>\n",
       "    </tr>\n",
       "  </thead>\n",
       "  <tbody>\n",
       "    <tr>\n",
       "      <th>23796</th>\n",
       "      <td>Australia</td>\n",
       "      <td>American Samoa</td>\n",
       "      <td>31</td>\n",
       "      <td>0</td>\n",
       "      <td>FIFA World Cup qualification</td>\n",
       "      <td>Coffs Harbour</td>\n",
       "      <td>Australia</td>\n",
       "      <td>False</td>\n",
       "      <td>2001</td>\n",
       "      <td>4</td>\n",
       "      <td>11</td>\n",
       "      <td>home_win</td>\n",
       "      <td>Australia</td>\n",
       "      <td>American Samoa</td>\n",
       "      <td>31</td>\n",
       "    </tr>\n",
       "  </tbody>\n",
       "</table>\n",
       "</div>"
      ],
      "text/plain": [
       "       home_team       away_team  home_score  away_score  \\\n",
       "23796  Australia  American Samoa          31           0   \n",
       "\n",
       "                         tournament           city    country  neutral  year  \\\n",
       "23796  FIFA World Cup qualification  Coffs Harbour  Australia    False  2001   \n",
       "\n",
       "       month  day    result     winner           loser  total_goals  \n",
       "23796      4   11  home_win  Australia  American Samoa           31  "
      ]
     },
     "execution_count": 433,
     "metadata": {},
     "output_type": "execute_result"
    }
   ],
   "source": [
    "df[df['total_goals']==df['total_goals'].max()]"
   ]
  },
  {
   "cell_type": "markdown",
   "metadata": {},
   "source": [
    "Which teams played against each other the most?"
   ]
  },
  {
   "cell_type": "code",
   "execution_count": 468,
   "metadata": {
    "ExecuteTime": {
     "end_time": "2020-05-23T06:22:37.402107Z",
     "start_time": "2020-05-23T06:22:35.509711Z"
    }
   },
   "outputs": [
    {
     "data": {
      "text/plain": [
       "(array([ 0,  1,  2,  3,  4,  5,  6,  7,  8,  9, 10, 11, 12, 13, 14, 15, 16,\n",
       "        17, 18, 19]), <a list of 20 Text xticklabel objects>)"
      ]
     },
     "execution_count": 468,
     "metadata": {},
     "output_type": "execute_result"
    },
    {
     "data": {
      "image/png": "[encoded data removed]",
      "text/plain": [
       "<Figure size 432x288 with 1 Axes>"
      ]
     },
     "metadata": {
      "needs_background": "light"
     },
     "output_type": "display_data"
    }
   ],
   "source": [
    "from collections import Counter\n",
    "playing_teams=[]\n",
    "for i in range(df.shape[0]):\n",
    "    two_teams=[df.loc[i,'home_team'],df.loc[i,'away_team']]\n",
    "    two_teams.sort()\n",
    "    playing_teams.append(tuple(two_teams))\n",
    "common_playing_teams=Counter(playing_teams).most_common(20)\n",
    "common_playing_teams=[(' x '.join(a), b) for a,b in common_playing_teams]\n",
    "common_playing_teams=pd.DataFrame(common_playing_teams,columns=['Teams','No of matches'])\n",
    "sns.barplot(common_playing_teams['Teams'],common_playing_teams['No of matches'])\n",
    "plt.xticks(rotation=90)"
   ]
  },
  {
   "cell_type": "markdown",
   "metadata": {
    "ExecuteTime": {
     "end_time": "2020-05-23T05:46:42.776620Z",
     "start_time": "2020-05-23T05:46:42.770636Z"
    }
   },
   "source": [
    "Do Friendly Matches Have Less or More Goals than Non-Friendly Matches?"
   ]
  },
  {
   "cell_type": "code",
   "execution_count": 469,
   "metadata": {
    "ExecuteTime": {
     "end_time": "2020-05-23T06:25:42.729835Z",
     "start_time": "2020-05-23T06:25:42.710865Z"
    }
   },
   "outputs": [
    {
     "data": {
      "text/html": [
       "<div>\n",
       "<style scoped>\n",
       "    .dataframe tbody tr th:only-of-type {\n",
       "        vertical-align: middle;\n",
       "    }\n",
       "\n",
       "    .dataframe tbody tr th {\n",
       "        vertical-align: top;\n",
       "    }\n",
       "\n",
       "    .dataframe thead th {\n",
       "        text-align: right;\n",
       "    }\n",
       "</style>\n",
       "<table border=\"1\" class=\"dataframe\">\n",
       "  <thead>\n",
       "    <tr style=\"text-align: right;\">\n",
       "      <th></th>\n",
       "      <th>home_team</th>\n",
       "      <th>away_team</th>\n",
       "      <th>home_score</th>\n",
       "      <th>away_score</th>\n",
       "      <th>tournament</th>\n",
       "      <th>city</th>\n",
       "      <th>country</th>\n",
       "      <th>neutral</th>\n",
       "      <th>year</th>\n",
       "      <th>month</th>\n",
       "      <th>day</th>\n",
       "      <th>result</th>\n",
       "      <th>winner</th>\n",
       "      <th>loser</th>\n",
       "      <th>total_goals</th>\n",
       "    </tr>\n",
       "  </thead>\n",
       "  <tbody>\n",
       "    <tr>\n",
       "      <th>0</th>\n",
       "      <td>Scotland</td>\n",
       "      <td>England</td>\n",
       "      <td>0</td>\n",
       "      <td>0</td>\n",
       "      <td>Friendly</td>\n",
       "      <td>Glasgow</td>\n",
       "      <td>Scotland</td>\n",
       "      <td>False</td>\n",
       "      <td>1872</td>\n",
       "      <td>11</td>\n",
       "      <td>30</td>\n",
       "      <td>draw</td>\n",
       "      <td>draw</td>\n",
       "      <td>draw</td>\n",
       "      <td>0</td>\n",
       "    </tr>\n",
       "  </tbody>\n",
       "</table>\n",
       "</div>"
      ],
      "text/plain": [
       "  home_team away_team  home_score  away_score tournament     city   country  \\\n",
       "0  Scotland   England           0           0   Friendly  Glasgow  Scotland   \n",
       "\n",
       "   neutral  year  month  day result winner loser  total_goals  \n",
       "0    False  1872     11   30   draw   draw  draw            0  "
      ]
     },
     "execution_count": 469,
     "metadata": {},
     "output_type": "execute_result"
    }
   ],
   "source": [
    "df.head(1)"
   ]
  },
  {
   "cell_type": "code",
   "execution_count": 470,
   "metadata": {
    "ExecuteTime": {
     "end_time": "2020-05-23T06:26:55.204364Z",
     "start_time": "2020-05-23T06:26:55.169492Z"
    }
   },
   "outputs": [],
   "source": [
    "friendly_goals=df[df['tournament']=='Friendly']['total_goals'].sum()\n",
    "friendly_count=df[df['tournament']=='Friendly']['total_goals'].shape[0]\n",
    "friendly_avg_goals=friendly_goals/friendly_count"
   ]
  },
  {
   "cell_type": "code",
   "execution_count": 472,
   "metadata": {
    "ExecuteTime": {
     "end_time": "2020-05-23T06:27:21.847906Z",
     "start_time": "2020-05-23T06:27:21.810007Z"
    }
   },
   "outputs": [],
   "source": [
    "Nfriendly_goals=df[df['tournament']!='Friendly']['total_goals'].sum()\n",
    "Nfriendly_count=df[df['tournament']!='Friendly']['total_goals'].shape[0]\n",
    "Nfriendly_avg_goals=Nfriendly_goals/Nfriendly_count"
   ]
  },
  {
   "cell_type": "code",
   "execution_count": 474,
   "metadata": {
    "ExecuteTime": {
     "end_time": "2020-05-23T06:29:59.006486Z",
     "start_time": "2020-05-23T06:29:58.807476Z"
    }
   },
   "outputs": [
    {
     "data": {
      "text/plain": [
       "Text(0.5, 1.0, 'Average Number of goals in friendly vs. Non friendly matches')"
      ]
     },
     "execution_count": 474,
     "metadata": {},
     "output_type": "execute_result"
    },
    {
     "data": {
      "image/png": "[encoded data removed]",
      "text/plain": [
       "<Figure size 432x288 with 1 Axes>"
      ]
     },
     "metadata": {
      "needs_background": "light"
     },
     "output_type": "display_data"
    }
   ],
   "source": [
    "sns.barplot(x=['Friendly matches', 'Non-friendly matches'],y=[friendly_avg_goals,Nfriendly_avg_goals])\n",
    "plt.ylabel('No of goals')\n",
    "plt.title('Average Number of goals in friendly vs. Non friendly matches')"
   ]
  },
  {
   "cell_type": "markdown",
   "metadata": {},
   "source": [
    "In which tournament players tend to score more goals?"
   ]
  },
  {
   "cell_type": "code",
   "execution_count": 476,
   "metadata": {
    "ExecuteTime": {
     "end_time": "2020-05-23T06:37:22.474143Z",
     "start_time": "2020-05-23T06:37:22.451032Z"
    }
   },
   "outputs": [
    {
     "data": {
      "text/html": [
       "<div>\n",
       "<style scoped>\n",
       "    .dataframe tbody tr th:only-of-type {\n",
       "        vertical-align: middle;\n",
       "    }\n",
       "\n",
       "    .dataframe tbody tr th {\n",
       "        vertical-align: top;\n",
       "    }\n",
       "\n",
       "    .dataframe thead th {\n",
       "        text-align: right;\n",
       "    }\n",
       "</style>\n",
       "<table border=\"1\" class=\"dataframe\">\n",
       "  <thead>\n",
       "    <tr style=\"text-align: right;\">\n",
       "      <th></th>\n",
       "      <th>home_team</th>\n",
       "      <th>away_team</th>\n",
       "      <th>home_score</th>\n",
       "      <th>away_score</th>\n",
       "      <th>tournament</th>\n",
       "      <th>city</th>\n",
       "      <th>country</th>\n",
       "      <th>neutral</th>\n",
       "      <th>year</th>\n",
       "      <th>month</th>\n",
       "      <th>day</th>\n",
       "      <th>result</th>\n",
       "      <th>winner</th>\n",
       "      <th>loser</th>\n",
       "      <th>total_goals</th>\n",
       "    </tr>\n",
       "  </thead>\n",
       "  <tbody>\n",
       "    <tr>\n",
       "      <th>23796</th>\n",
       "      <td>Australia</td>\n",
       "      <td>American Samoa</td>\n",
       "      <td>31</td>\n",
       "      <td>0</td>\n",
       "      <td>FIFA World Cup qualification</td>\n",
       "      <td>Coffs Harbour</td>\n",
       "      <td>Australia</td>\n",
       "      <td>False</td>\n",
       "      <td>2001</td>\n",
       "      <td>4</td>\n",
       "      <td>11</td>\n",
       "      <td>home_win</td>\n",
       "      <td>Australia</td>\n",
       "      <td>American Samoa</td>\n",
       "      <td>31</td>\n",
       "    </tr>\n",
       "  </tbody>\n",
       "</table>\n",
       "</div>"
      ],
      "text/plain": [
       "       home_team       away_team  home_score  away_score  \\\n",
       "23796  Australia  American Samoa          31           0   \n",
       "\n",
       "                         tournament           city    country  neutral  year  \\\n",
       "23796  FIFA World Cup qualification  Coffs Harbour  Australia    False  2001   \n",
       "\n",
       "       month  day    result     winner           loser  total_goals  \n",
       "23796      4   11  home_win  Australia  American Samoa           31  "
      ]
     },
     "execution_count": 476,
     "metadata": {},
     "output_type": "execute_result"
    }
   ],
   "source": [
    "df[df['total_goals']==df['total_goals'].max()]"
   ]
  },
  {
   "cell_type": "code",
   "execution_count": 502,
   "metadata": {
    "ExecuteTime": {
     "end_time": "2020-05-23T06:58:13.311635Z",
     "start_time": "2020-05-23T06:58:13.290717Z"
    }
   },
   "outputs": [],
   "source": [
    "cdf1=df[['tournament','total_goals']].copy()\n",
    "tournament_num_matches =cdf1.groupby('tournament')['total_goals'].count()\n",
    "tournament_num_matches=pd.DataFrame(tournament_num_matches).rename(columns={'total_goals': 'match_count'})"
   ]
  },
  {
   "cell_type": "code",
   "execution_count": 519,
   "metadata": {
    "ExecuteTime": {
     "end_time": "2020-05-23T07:05:11.923643Z",
     "start_time": "2020-05-23T07:05:11.892727Z"
    }
   },
   "outputs": [],
   "source": [
    "cdf2=pd.DataFrame(df.groupby('tournament')['total_goals'].sum().sort_values(ascending=False).head(10).sort_values())\n",
    "cdf2['avg_goals']=0\n",
    "for i in range(cdf2.shape[0]):\n",
    "    t=cdf2.index[i]\n",
    "    mc=tournament_num_matches.loc[t,'match_count']\n",
    "    cdf2.iloc[i, 1] = cdf2.iloc[i, 0] / mc"
   ]
  },
  {
   "cell_type": "code",
   "execution_count": 527,
   "metadata": {
    "ExecuteTime": {
     "end_time": "2020-05-23T07:07:19.747135Z",
     "start_time": "2020-05-23T07:07:19.741141Z"
    }
   },
   "outputs": [],
   "source": [
    "cdf2.drop('total_goals',axis=1,inplace=True)"
   ]
  },
  {
   "cell_type": "code",
   "execution_count": 528,
   "metadata": {
    "ExecuteTime": {
     "end_time": "2020-05-23T07:08:01.123119Z",
     "start_time": "2020-05-23T07:08:01.110182Z"
    }
   },
   "outputs": [],
   "source": [
    "cdf2.sort_values(by='avg_goals',inplace=True)"
   ]
  },
  {
   "cell_type": "code",
   "execution_count": 532,
   "metadata": {
    "ExecuteTime": {
     "end_time": "2020-05-23T07:08:22.433901Z",
     "start_time": "2020-05-23T07:08:22.428914Z"
    }
   },
   "outputs": [],
   "source": [
    "cdf2=cdf2.reset_index()"
   ]
  },
  {
   "cell_type": "code",
   "execution_count": 533,
   "metadata": {
    "ExecuteTime": {
     "end_time": "2020-05-23T07:08:25.864529Z",
     "start_time": "2020-05-23T07:08:25.853559Z"
    }
   },
   "outputs": [
    {
     "data": {
      "text/html": [
       "<div>\n",
       "<style scoped>\n",
       "    .dataframe tbody tr th:only-of-type {\n",
       "        vertical-align: middle;\n",
       "    }\n",
       "\n",
       "    .dataframe tbody tr th {\n",
       "        vertical-align: top;\n",
       "    }\n",
       "\n",
       "    .dataframe thead th {\n",
       "        text-align: right;\n",
       "    }\n",
       "</style>\n",
       "<table border=\"1\" class=\"dataframe\">\n",
       "  <thead>\n",
       "    <tr style=\"text-align: right;\">\n",
       "      <th></th>\n",
       "      <th>tournament</th>\n",
       "      <th>avg_goals</th>\n",
       "    </tr>\n",
       "  </thead>\n",
       "  <tbody>\n",
       "    <tr>\n",
       "      <th>0</th>\n",
       "      <td>African Cup of Nations qualification</td>\n",
       "      <td>2.381579</td>\n",
       "    </tr>\n",
       "    <tr>\n",
       "      <th>1</th>\n",
       "      <td>UEFA Euro qualification</td>\n",
       "      <td>2.829589</td>\n",
       "    </tr>\n",
       "    <tr>\n",
       "      <th>2</th>\n",
       "      <td>FIFA World Cup</td>\n",
       "      <td>2.831111</td>\n",
       "    </tr>\n",
       "    <tr>\n",
       "      <th>3</th>\n",
       "      <td>FIFA World Cup qualification</td>\n",
       "      <td>2.887369</td>\n",
       "    </tr>\n",
       "    <tr>\n",
       "      <th>4</th>\n",
       "      <td>Friendly</td>\n",
       "      <td>2.898702</td>\n",
       "    </tr>\n",
       "    <tr>\n",
       "      <th>5</th>\n",
       "      <td>Copa América</td>\n",
       "      <td>3.205412</td>\n",
       "    </tr>\n",
       "    <tr>\n",
       "      <th>6</th>\n",
       "      <td>AFC Asian Cup qualification</td>\n",
       "      <td>3.341160</td>\n",
       "    </tr>\n",
       "    <tr>\n",
       "      <th>7</th>\n",
       "      <td>Merdeka Tournament</td>\n",
       "      <td>3.341948</td>\n",
       "    </tr>\n",
       "    <tr>\n",
       "      <th>8</th>\n",
       "      <td>CFU Caribbean Cup qualification</td>\n",
       "      <td>3.506601</td>\n",
       "    </tr>\n",
       "    <tr>\n",
       "      <th>9</th>\n",
       "      <td>British Championship</td>\n",
       "      <td>3.520792</td>\n",
       "    </tr>\n",
       "  </tbody>\n",
       "</table>\n",
       "</div>"
      ],
      "text/plain": [
       "                             tournament  avg_goals\n",
       "0  African Cup of Nations qualification   2.381579\n",
       "1               UEFA Euro qualification   2.829589\n",
       "2                        FIFA World Cup   2.831111\n",
       "3          FIFA World Cup qualification   2.887369\n",
       "4                              Friendly   2.898702\n",
       "5                          Copa América   3.205412\n",
       "6           AFC Asian Cup qualification   3.341160\n",
       "7                    Merdeka Tournament   3.341948\n",
       "8       CFU Caribbean Cup qualification   3.506601\n",
       "9                  British Championship   3.520792"
      ]
     },
     "execution_count": 533,
     "metadata": {},
     "output_type": "execute_result"
    }
   ],
   "source": [
    "cdf2"
   ]
  },
  {
   "cell_type": "markdown",
   "metadata": {},
   "source": [
    "Lets check average goials in each tournament"
   ]
  },
  {
   "cell_type": "code",
   "execution_count": 540,
   "metadata": {
    "ExecuteTime": {
     "end_time": "2020-05-23T07:11:10.774114Z",
     "start_time": "2020-05-23T07:11:10.419027Z"
    }
   },
   "outputs": [
    {
     "data": {
      "text/plain": [
       "(array([0, 1, 2, 3, 4, 5, 6, 7, 8, 9]), <a list of 10 Text xticklabel objects>)"
      ]
     },
     "execution_count": 540,
     "metadata": {},
     "output_type": "execute_result"
    },
    {
     "data": {
      "image/png": "[encoded data removed]",
      "text/plain": [
       "<Figure size 432x288 with 1 Axes>"
      ]
     },
     "metadata": {
      "needs_background": "light"
     },
     "output_type": "display_data"
    }
   ],
   "source": [
    "sns.barplot(x=cdf2['tournament'],y=cdf2['avg_goals'])\n",
    "plt.xticks(rotation=90)"
   ]
  },
  {
   "cell_type": "markdown",
   "metadata": {},
   "source": [
    "What’s the percentage of matches that ended in draw?"
   ]
  },
  {
   "cell_type": "code",
   "execution_count": 543,
   "metadata": {
    "ExecuteTime": {
     "end_time": "2020-05-23T07:19:33.708253Z",
     "start_time": "2020-05-23T07:19:33.689290Z"
    }
   },
   "outputs": [
    {
     "data": {
      "text/html": [
       "<div>\n",
       "<style scoped>\n",
       "    .dataframe tbody tr th:only-of-type {\n",
       "        vertical-align: middle;\n",
       "    }\n",
       "\n",
       "    .dataframe tbody tr th {\n",
       "        vertical-align: top;\n",
       "    }\n",
       "\n",
       "    .dataframe thead th {\n",
       "        text-align: right;\n",
       "    }\n",
       "</style>\n",
       "<table border=\"1\" class=\"dataframe\">\n",
       "  <thead>\n",
       "    <tr style=\"text-align: right;\">\n",
       "      <th></th>\n",
       "      <th>home_team</th>\n",
       "      <th>away_team</th>\n",
       "      <th>home_score</th>\n",
       "      <th>away_score</th>\n",
       "      <th>tournament</th>\n",
       "      <th>city</th>\n",
       "      <th>country</th>\n",
       "      <th>neutral</th>\n",
       "      <th>year</th>\n",
       "      <th>month</th>\n",
       "      <th>day</th>\n",
       "      <th>result</th>\n",
       "      <th>winner</th>\n",
       "      <th>loser</th>\n",
       "      <th>total_goals</th>\n",
       "    </tr>\n",
       "  </thead>\n",
       "  <tbody>\n",
       "    <tr>\n",
       "      <th>0</th>\n",
       "      <td>Scotland</td>\n",
       "      <td>England</td>\n",
       "      <td>0</td>\n",
       "      <td>0</td>\n",
       "      <td>Friendly</td>\n",
       "      <td>Glasgow</td>\n",
       "      <td>Scotland</td>\n",
       "      <td>False</td>\n",
       "      <td>1872</td>\n",
       "      <td>11</td>\n",
       "      <td>30</td>\n",
       "      <td>draw</td>\n",
       "      <td>draw</td>\n",
       "      <td>draw</td>\n",
       "      <td>0</td>\n",
       "    </tr>\n",
       "    <tr>\n",
       "      <th>1</th>\n",
       "      <td>England</td>\n",
       "      <td>Scotland</td>\n",
       "      <td>4</td>\n",
       "      <td>2</td>\n",
       "      <td>Friendly</td>\n",
       "      <td>London</td>\n",
       "      <td>England</td>\n",
       "      <td>False</td>\n",
       "      <td>1873</td>\n",
       "      <td>3</td>\n",
       "      <td>8</td>\n",
       "      <td>home_win</td>\n",
       "      <td>England</td>\n",
       "      <td>Scotland</td>\n",
       "      <td>6</td>\n",
       "    </tr>\n",
       "  </tbody>\n",
       "</table>\n",
       "</div>"
      ],
      "text/plain": [
       "  home_team away_team  home_score  away_score tournament     city   country  \\\n",
       "0  Scotland   England           0           0   Friendly  Glasgow  Scotland   \n",
       "1   England  Scotland           4           2   Friendly   London   England   \n",
       "\n",
       "   neutral  year  month  day    result   winner     loser  total_goals  \n",
       "0    False  1872     11   30      draw     draw      draw            0  \n",
       "1    False  1873      3    8  home_win  England  Scotland            6  "
      ]
     },
     "execution_count": 543,
     "metadata": {},
     "output_type": "execute_result"
    }
   ],
   "source": [
    "df.head(2)"
   ]
  },
  {
   "cell_type": "code",
   "execution_count": 545,
   "metadata": {
    "ExecuteTime": {
     "end_time": "2020-05-23T07:20:13.627182Z",
     "start_time": "2020-05-23T07:20:13.606236Z"
    }
   },
   "outputs": [],
   "source": [
    "draw_perc=df[df['result']=='draw'].shape[0]/df.shape[0]"
   ]
  },
  {
   "cell_type": "code",
   "execution_count": 546,
   "metadata": {
    "ExecuteTime": {
     "end_time": "2020-05-23T07:20:19.923866Z",
     "start_time": "2020-05-23T07:20:19.917883Z"
    }
   },
   "outputs": [
    {
     "data": {
      "text/plain": [
       "0.23031789544558265"
      ]
     },
     "execution_count": 546,
     "metadata": {},
     "output_type": "execute_result"
    }
   ],
   "source": [
    "draw_perc"
   ]
  },
  {
   "cell_type": "code",
   "execution_count": 552,
   "metadata": {
    "ExecuteTime": {
     "end_time": "2020-05-23T07:22:43.602177Z",
     "start_time": "2020-05-23T07:22:43.487987Z"
    }
   },
   "outputs": [
    {
     "data": {
      "text/plain": [
       "([<matplotlib.patches.Wedge at 0x1a6e2cdf278>,\n",
       "  <matplotlib.patches.Wedge at 0x1a6e2cdf9b0>],\n",
       " [Text(0.8243952802938666, 0.72826672437315, 'Draw'),\n",
       "  Text(-0.8243952802938668, -0.7282667243731497, 'Non-Draw')],\n",
       " [Text(0.4496701528875635, 0.3972363951126272, '23.03%'),\n",
       "  Text(-0.4496701528875636, -0.39723639511262704, '76.97%')])"
      ]
     },
     "execution_count": 552,
     "metadata": {},
     "output_type": "execute_result"
    },
    {
     "data": {
      "image/png": "[encoded data removed]",
      "text/plain": [
       "<Figure size 432x288 with 1 Axes>"
      ]
     },
     "metadata": {},
     "output_type": "display_data"
    }
   ],
   "source": [
    "plt.pie([draw_perc,1-draw_perc],labels=['Draw', 'Non-Draw'],autopct='%.2f%%',textprops={'fontsize':14, 'fontweight':'bold'}, \n",
    "       wedgeprops={'linewidth': 2, 'edgecolor': 'black'})"
   ]
  },
  {
   "cell_type": "markdown",
   "metadata": {},
   "source": [
    "What is the number of matches played in each tournament throughout history?"
   ]
  },
  {
   "cell_type": "code",
   "execution_count": 560,
   "metadata": {
    "ExecuteTime": {
     "end_time": "2020-05-23T07:31:40.857064Z",
     "start_time": "2020-05-23T07:31:40.551483Z"
    }
   },
   "outputs": [
    {
     "data": {
      "text/plain": [
       "<matplotlib.axes._subplots.AxesSubplot at 0x1a6e433d208>"
      ]
     },
     "execution_count": 560,
     "metadata": {},
     "output_type": "execute_result"
    },
    {
     "data": {
      "image/png": "[encoded data removed]",
      "text/plain": [
       "<Figure size 432x288 with 1 Axes>"
      ]
     },
     "metadata": {
      "needs_background": "light"
     },
     "output_type": "display_data"
    }
   ],
   "source": [
    "df['tournament'].value_counts().head(10).plot(kind='bar')"
   ]
  },
  {
   "cell_type": "code",
   "execution_count": 571,
   "metadata": {
    "ExecuteTime": {
     "end_time": "2020-05-23T07:44:28.796872Z",
     "start_time": "2020-05-23T07:44:28.786381Z"
    }
   },
   "outputs": [],
   "source": [
    "year_goals=pd.DataFrame(df.groupby('year')['total_goals'].sum().sort_values(ascending=False))"
   ]
  },
  {
   "cell_type": "code",
   "execution_count": 574,
   "metadata": {
    "ExecuteTime": {
     "end_time": "2020-05-23T07:45:30.403354Z",
     "start_time": "2020-05-23T07:45:30.397371Z"
    }
   },
   "outputs": [],
   "source": [
    "year_goals=year_goals.reset_index()"
   ]
  },
  {
   "cell_type": "code",
   "execution_count": 584,
   "metadata": {
    "ExecuteTime": {
     "end_time": "2020-05-23T11:11:51.027791Z",
     "start_time": "2020-05-23T11:11:49.816569Z"
    }
   },
   "outputs": [
    {
     "data": {
      "text/plain": [
       "<matplotlib.axes._subplots.AxesSubplot at 0x1a6ef21fcf8>"
      ]
     },
     "execution_count": 584,
     "metadata": {},
     "output_type": "execute_result"
    },
    {
     "data": {
      "image/png": "[encoded data removed]",
      "text/plain": [
       "<Figure size 2160x1152 with 1 Axes>"
      ]
     },
     "metadata": {
      "needs_background": "light"
     },
     "output_type": "display_data"
    },
    {
     "data": {
      "image/png": "[encoded data removed]",
      "text/plain": [
       "<Figure size 1440x1440 with 1 Axes>"
      ]
     },
     "metadata": {
      "needs_background": "light"
     },
     "output_type": "display_data"
    }
   ],
   "source": [
    "year_counts = df['year'].value_counts().head(50)\n",
    "fig, ax = plt.subplots(figsize=(30,16));\n",
    "sns.barplot(x=year_counts.index, y=year_counts, ax=ax, color='#b71c1c', linewidth=0, alpha=0.5);\n",
    "plt.figure(figsize=(20,20))\n",
    "\n",
    "sns.barplot(x=year_goals['year'].head(10),y=year_goals['total_goals'])\n",
    "\n"
   ]
  },
  {
   "cell_type": "code",
   "execution_count": null,
   "metadata": {},
   "outputs": [],
   "source": []
  },
  {
   "cell_type": "code",
   "execution_count": null,
   "metadata": {},
   "outputs": [],
   "source": []
  },
  {
   "cell_type": "code",
   "execution_count": null,
   "metadata": {},
   "outputs": [],
   "source": []
  },
  {
   "cell_type": "code",
   "execution_count": null,
   "metadata": {},
   "outputs": [],
   "source": []
  },
  {
   "cell_type": "code",
   "execution_count": null,
   "metadata": {},
   "outputs": [],
   "source": []
  },
  {
   "cell_type": "code",
   "execution_count": null,
   "metadata": {},
   "outputs": [],
   "source": []
  },
  {
   "cell_type": "code",
   "execution_count": null,
   "metadata": {},
   "outputs": [],
   "source": []
  },
  {
   "cell_type": "code",
   "execution_count": null,
   "metadata": {},
   "outputs": [],
   "source": []
  },
  {
   "cell_type": "code",
   "execution_count": null,
   "metadata": {},
   "outputs": [],
   "source": []
  },
  {
   "cell_type": "code",
   "execution_count": null,
   "metadata": {},
   "outputs": [],
   "source": []
  },
  {
   "cell_type": "code",
   "execution_count": null,
   "metadata": {},
   "outputs": [],
   "source": []
  },
  {
   "cell_type": "code",
   "execution_count": null,
   "metadata": {},
   "outputs": [],
   "source": []
  },
  {
   "cell_type": "code",
   "execution_count": null,
   "metadata": {},
   "outputs": [],
   "source": []
  },
  {
   "cell_type": "code",
   "execution_count": null,
   "metadata": {},
   "outputs": [],
   "source": []
  },
  {
   "cell_type": "code",
   "execution_count": null,
   "metadata": {},
   "outputs": [],
   "source": []
  },
  {
   "cell_type": "code",
   "execution_count": null,
   "metadata": {},
   "outputs": [],
   "source": []
  },
  {
   "cell_type": "code",
   "execution_count": null,
   "metadata": {},
   "outputs": [],
   "source": []
  },
  {
   "cell_type": "code",
   "execution_count": null,
   "metadata": {},
   "outputs": [],
   "source": []
  },
  {
   "cell_type": "code",
   "execution_count": null,
   "metadata": {},
   "outputs": [],
   "source": []
  },
  {
   "cell_type": "code",
   "execution_count": null,
   "metadata": {},
   "outputs": [],
   "source": []
  },
  {
   "cell_type": "code",
   "execution_count": null,
   "metadata": {},
   "outputs": [],
   "source": []
  },
  {
   "cell_type": "code",
   "execution_count": null,
   "metadata": {},
   "outputs": [],
   "source": []
  }
 ],
 "metadata": {
  "kernelspec": {
   "display_name": "Python 3",
   "language": "python",
   "name": "python3"
  },
  "language_info": {
   "codemirror_mode": {
    "name": "ipython",
    "version": 3
   },
   "file_extension": ".py",
   "mimetype": "text/x-python",
   "name": "python",
   "nbconvert_exporter": "python",
   "pygments_lexer": "ipython3",
   "version": "3.7.3"
  },
  "toc": {
   "base_numbering": 1,
   "nav_menu": {},
   "number_sections": true,
   "sideBar": true,
   "skip_h1_title": false,
   "title_cell": "Table of Contents",
   "title_sidebar": "Contents",
   "toc_cell": false,
   "toc_position": {},
   "toc_section_display": true,
   "toc_window_display": false
  },
  "varInspector": {
   "cols": {
    "lenName": 16,
    "lenType": 16,
    "lenVar": 40
   },
   "kernels_config": {
    "python": {
     "delete_cmd_postfix": "",
     "delete_cmd_prefix": "del ",
     "library": "var_list.py",
     "varRefreshCmd": "print(var_dic_list())"
    },
    "r": {
     "delete_cmd_postfix": ") ",
     "delete_cmd_prefix": "rm(",
     "library": "var_list.r",
     "varRefreshCmd": "cat(var_dic_list()) "
    }
   },
   "types_to_exclude": [
    "module",
    "function",
    "builtin_function_or_method",
    "instance",
    "_Feature"
   ],
   "window_display": false
  }
 },
 "nbformat": 4,
 "nbformat_minor": 2
}
