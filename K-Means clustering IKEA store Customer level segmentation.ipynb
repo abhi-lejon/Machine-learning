{
 "cells": [
  {
   "cell_type": "markdown",
   "metadata": {
    "ExecuteTime": {
     "end_time": "2019-11-21T02:08:19.477202Z",
     "start_time": "2019-11-21T02:08:19.472221Z"
    }
   },
   "source": [
    "### Business Use"
   ]
  },
  {
   "cell_type": "markdown",
   "metadata": {},
   "source": [
    "#### About the company\n",
    "    <p> IKEA is a European multinational retail group founded in 1943, that designs and sells ready-to-assemble furniture, kitchen appliances and home accessories, among other useful goods and occasionally home services. Founded by Ingvar kempard.It as a 433 stores in the world and a revenue of €41.3 billion(2019).</p>"
   ]
  },
  {
   "cell_type": "markdown",
   "metadata": {},
   "source": [
    "#### Problem definition\n",
    "    <p>We have Retail dataset of a IKEA stores in European region for 4 years. We have different attributes consisting mainly of Customer details, product details and order details.</p>"
   ]
  },
  {
   "cell_type": "markdown",
   "metadata": {},
   "source": [
    "#### Outcome\n",
    "    <p>There is multiple sales happening everyday, here we like to carry out the product level segmentation on the  basis of sales and discount.So that will get clusters, in which we can make out the predictions as which product as sold the most."
   ]
  },
  {
   "cell_type": "markdown",
   "metadata": {
    "ExecuteTime": {
     "end_time": "2019-11-22T02:01:11.678388Z",
     "start_time": "2019-11-22T02:01:11.674386Z"
    }
   },
   "source": [
    "#### Data Dictionary\n",
    "<ul>\n",
    "\t<li>Product Id: Unique ID for each product</li>\n",
    "    <li>Sales: sales happened corresponding to each product</li>\n",
    "    <li>Discount: Discount given on each product</li>\n",
    "    <li>Profit: what is the corresponding profit got from each product</li>\n",
    "</ul>"
   ]
  },
  {
   "cell_type": "markdown",
   "metadata": {
    "ExecuteTime": {
     "end_time": "2019-11-26T06:08:42.882396Z",
     "start_time": "2019-11-26T06:08:42.867910Z"
    }
   },
   "source": [
    "<img src='ikea.jpg' alt=\"image of a IKEA store\" height=\"500\" width=\"500\">"
   ]
  },
  {
   "cell_type": "markdown",
   "metadata": {},
   "source": [
    "### Preprocessing"
   ]
  },
  {
   "cell_type": "code",
   "execution_count": 1,
   "metadata": {
    "ExecuteTime": {
     "end_time": "2019-11-29T14:22:26.601511Z",
     "start_time": "2019-11-29T14:22:17.711649Z"
    }
   },
   "outputs": [],
   "source": [
    "import pandas as pd\n",
    "import numpy as np\n",
    "import seaborn as sns\n",
    "import os\n",
    "import glob\n",
    "import matplotlib.pyplot as plt"
   ]
  },
  {
   "cell_type": "code",
   "execution_count": 2,
   "metadata": {
    "ExecuteTime": {
     "end_time": "2019-11-29T14:22:27.547637Z",
     "start_time": "2019-11-29T14:22:26.622214Z"
    }
   },
   "outputs": [],
   "source": [
    "df=pd.read_csv(\"C:\\\\Users\\\\abhisv.CORP\\\\3D Objects\\\\superstore_dataset2011-2015.csv\",encoding='latin1')"
   ]
  },
  {
   "cell_type": "code",
   "execution_count": 3,
   "metadata": {
    "ExecuteTime": {
     "end_time": "2019-11-29T14:22:28.439528Z",
     "start_time": "2019-11-29T14:22:27.676346Z"
    }
   },
   "outputs": [
    {
     "data": {
      "text/plain": [
       "Postal Code      1.028080e+09\n",
       "Row ID           2.192263e+08\n",
       "Sales            2.377200e+05\n",
       "Profit           3.039477e+04\n",
       "Shipping Cost    3.282924e+03\n",
       "Quantity         5.192776e+00\n",
       "Discount         4.506277e-02\n",
       "dtype: float64"
      ]
     },
     "execution_count": 3,
     "metadata": {},
     "output_type": "execute_result"
    }
   ],
   "source": [
    "df.var().sort_values(ascending=False)"
   ]
  },
  {
   "cell_type": "code",
   "execution_count": 4,
   "metadata": {
    "ExecuteTime": {
     "end_time": "2019-11-29T14:22:39.141978Z",
     "start_time": "2019-11-29T14:22:39.137792Z"
    }
   },
   "outputs": [],
   "source": [
    "base_dataset_backup=df"
   ]
  },
  {
   "cell_type": "markdown",
   "metadata": {},
   "source": [
    "#### Memory Management\n",
    "\n"
   ]
  },
  {
   "cell_type": "code",
   "execution_count": 5,
   "metadata": {
    "ExecuteTime": {
     "end_time": "2019-11-29T14:22:42.312936Z",
     "start_time": "2019-11-29T14:22:41.889579Z"
    }
   },
   "outputs": [
    {
     "name": "stdout",
     "output_type": "stream",
     "text": [
      "Memory usage of dataframe is 9.39 MB\n",
      "Memory usage after optimization is: 4.02 MB\n",
      "Decreased by 57.2%\n"
     ]
    }
   ],
   "source": [
    "start_mem = df.memory_usage().sum() / 1024**2\n",
    "print('Memory usage of dataframe is {:.2f} MB'.format(start_mem))\n",
    "\n",
    "for col in df.columns:\n",
    "    col_type = df[col].dtype\n",
    "\n",
    "    if col_type != object:\n",
    "        c_min = df[col].min()\n",
    "        c_max = df[col].max()\n",
    "        if str(col_type)[:3] == 'int':\n",
    "            if c_min > np.iinfo(np.int8).min and c_max < np.iinfo(np.int8).max:\n",
    "                df[col] = df[col].astype(np.int8)\n",
    "            elif c_min > np.iinfo(np.int16).min and c_max < np.iinfo(np.int16).max:\n",
    "                df[col] = df[col].astype(np.int16)\n",
    "            elif c_min > np.iinfo(np.int32).min and c_max < np.iinfo(np.int32).max:\n",
    "                df[col] = df[col].astype(np.int32)\n",
    "            elif c_min > np.iinfo(np.int64).min and c_max < np.iinfo(np.int64).max:\n",
    "                df[col] = df[col].astype(np.int64)  \n",
    "        else:\n",
    "            if c_min > np.finfo(np.float16).min and c_max < np.finfo(np.float16).max:\n",
    "                df[col] = df[col].astype(np.float16)\n",
    "            elif c_min > np.finfo(np.float32).min and c_max < np.finfo(np.float32).max:\n",
    "                df[col] = df[col].astype(np.float32)\n",
    "            else:\n",
    "                df[col] = df[col].astype(np.float64)\n",
    "    else:\n",
    "        df[col] = df[col].astype('category')\n",
    "\n",
    "end_mem = df.memory_usage().sum() / 1024**2\n",
    "print('Memory usage after optimization is: {:.2f} MB'.format(end_mem))\n",
    "print('Decreased by {:.1f}%'.format(100 * (start_mem - end_mem) / start_mem))"
   ]
  },
  {
   "cell_type": "code",
   "execution_count": 6,
   "metadata": {
    "ExecuteTime": {
     "end_time": "2019-11-29T14:22:44.756532Z",
     "start_time": "2019-11-29T14:22:44.746519Z"
    }
   },
   "outputs": [
    {
     "data": {
      "text/plain": [
       "(51290, 24)"
      ]
     },
     "execution_count": 6,
     "metadata": {},
     "output_type": "execute_result"
    }
   ],
   "source": [
    "df.shape"
   ]
  },
  {
   "cell_type": "code",
   "execution_count": 7,
   "metadata": {
    "ExecuteTime": {
     "end_time": "2019-11-29T14:22:46.863864Z",
     "start_time": "2019-11-29T14:22:46.846110Z"
    }
   },
   "outputs": [
    {
     "data": {
      "text/plain": [
       "Row ID               int32\n",
       "Order ID          category\n",
       "Order Date        category\n",
       "Ship Date         category\n",
       "Ship Mode         category\n",
       "Customer ID       category\n",
       "Customer Name     category\n",
       "Segment           category\n",
       "City              category\n",
       "State             category\n",
       "Country           category\n",
       "Postal Code        float32\n",
       "Market            category\n",
       "Region            category\n",
       "Product ID        category\n",
       "Category          category\n",
       "Sub-Category      category\n",
       "Product Name      category\n",
       "Sales              float16\n",
       "Quantity              int8\n",
       "Discount           float16\n",
       "Profit             float16\n",
       "Shipping Cost      float16\n",
       "Order Priority    category\n",
       "dtype: object"
      ]
     },
     "execution_count": 7,
     "metadata": {},
     "output_type": "execute_result"
    }
   ],
   "source": [
    "df.dtypes"
   ]
  },
  {
   "cell_type": "code",
   "execution_count": 8,
   "metadata": {
    "ExecuteTime": {
     "end_time": "2019-11-29T14:22:51.143143Z",
     "start_time": "2019-11-29T14:22:51.131797Z"
    }
   },
   "outputs": [
    {
     "data": {
      "text/plain": [
       "Index(['Row ID', 'Order ID', 'Order Date', 'Ship Date', 'Ship Mode',\n",
       "       'Customer ID', 'Customer Name', 'Segment', 'City', 'State', 'Country',\n",
       "       'Postal Code', 'Market', 'Region', 'Product ID', 'Category',\n",
       "       'Sub-Category', 'Product Name', 'Sales', 'Quantity', 'Discount',\n",
       "       'Profit', 'Shipping Cost', 'Order Priority'],\n",
       "      dtype='object')"
      ]
     },
     "execution_count": 8,
     "metadata": {},
     "output_type": "execute_result"
    }
   ],
   "source": [
    "df.columns"
   ]
  },
  {
   "cell_type": "code",
   "execution_count": 9,
   "metadata": {
    "ExecuteTime": {
     "end_time": "2019-11-29T14:22:53.701603Z",
     "start_time": "2019-11-29T14:22:53.613429Z"
    }
   },
   "outputs": [
    {
     "data": {
      "text/plain": [
       "Index(['Row ID', 'Postal Code', 'Sales', 'Quantity', 'Discount', 'Profit',\n",
       "       'Shipping Cost'],\n",
       "      dtype='object')"
      ]
     },
     "execution_count": 9,
     "metadata": {},
     "output_type": "execute_result"
    }
   ],
   "source": [
    "df.describe().columns"
   ]
  },
  {
   "cell_type": "code",
   "execution_count": 10,
   "metadata": {
    "ExecuteTime": {
     "end_time": "2019-11-29T14:23:02.240807Z",
     "start_time": "2019-11-29T14:23:02.196378Z"
    }
   },
   "outputs": [],
   "source": [
    "base_df=df.groupby('Customer Name').sum()[['Sales','Profit']]"
   ]
  },
  {
   "cell_type": "code",
   "execution_count": 11,
   "metadata": {
    "ExecuteTime": {
     "end_time": "2019-11-29T14:23:29.057882Z",
     "start_time": "2019-11-29T14:23:29.050353Z"
    }
   },
   "outputs": [],
   "source": [
    "base_df.reset_index(inplace=True)"
   ]
  },
  {
   "cell_type": "code",
   "execution_count": 12,
   "metadata": {
    "ExecuteTime": {
     "end_time": "2019-11-29T14:23:30.335727Z",
     "start_time": "2019-11-29T14:23:30.309738Z"
    }
   },
   "outputs": [
    {
     "data": {
      "text/html": [
       "<div>\n",
       "<style scoped>\n",
       "    .dataframe tbody tr th:only-of-type {\n",
       "        vertical-align: middle;\n",
       "    }\n",
       "\n",
       "    .dataframe tbody tr th {\n",
       "        vertical-align: top;\n",
       "    }\n",
       "\n",
       "    .dataframe thead th {\n",
       "        text-align: right;\n",
       "    }\n",
       "</style>\n",
       "<table border=\"1\" class=\"dataframe\">\n",
       "  <thead>\n",
       "    <tr style=\"text-align: right;\">\n",
       "      <th></th>\n",
       "      <th>Customer Name</th>\n",
       "      <th>Sales</th>\n",
       "      <th>Profit</th>\n",
       "    </tr>\n",
       "  </thead>\n",
       "  <tbody>\n",
       "    <tr>\n",
       "      <th>790</th>\n",
       "      <td>Xylona Preis</td>\n",
       "      <td>12200.0</td>\n",
       "      <td>1304.000</td>\n",
       "    </tr>\n",
       "    <tr>\n",
       "      <th>791</th>\n",
       "      <td>Yana Sorensen</td>\n",
       "      <td>20032.0</td>\n",
       "      <td>3450.000</td>\n",
       "    </tr>\n",
       "    <tr>\n",
       "      <th>792</th>\n",
       "      <td>Yoseph Carroll</td>\n",
       "      <td>20160.0</td>\n",
       "      <td>4348.000</td>\n",
       "    </tr>\n",
       "    <tr>\n",
       "      <th>793</th>\n",
       "      <td>Zuschuss Carroll</td>\n",
       "      <td>28480.0</td>\n",
       "      <td>436.750</td>\n",
       "    </tr>\n",
       "    <tr>\n",
       "      <th>794</th>\n",
       "      <td>Zuschuss Donatelli</td>\n",
       "      <td>12432.0</td>\n",
       "      <td>201.625</td>\n",
       "    </tr>\n",
       "  </tbody>\n",
       "</table>\n",
       "</div>"
      ],
      "text/plain": [
       "          Customer Name    Sales    Profit\n",
       "790        Xylona Preis  12200.0  1304.000\n",
       "791       Yana Sorensen  20032.0  3450.000\n",
       "792      Yoseph Carroll  20160.0  4348.000\n",
       "793    Zuschuss Carroll  28480.0   436.750\n",
       "794  Zuschuss Donatelli  12432.0   201.625"
      ]
     },
     "execution_count": 12,
     "metadata": {},
     "output_type": "execute_result"
    }
   ],
   "source": [
    "base_df.tail()"
   ]
  },
  {
   "cell_type": "code",
   "execution_count": 13,
   "metadata": {
    "ExecuteTime": {
     "end_time": "2019-11-29T14:23:31.918759Z",
     "start_time": "2019-11-29T14:23:31.906331Z"
    }
   },
   "outputs": [
    {
     "data": {
      "text/plain": [
       "(795, 3)"
      ]
     },
     "execution_count": 13,
     "metadata": {},
     "output_type": "execute_result"
    }
   ],
   "source": [
    "base_df.shape"
   ]
  },
  {
   "cell_type": "markdown",
   "metadata": {},
   "source": [
    "#### Null value treatment\n"
   ]
  },
  {
   "cell_type": "code",
   "execution_count": 14,
   "metadata": {
    "ExecuteTime": {
     "end_time": "2019-11-29T14:23:34.126295Z",
     "start_time": "2019-11-29T14:23:34.110077Z"
    }
   },
   "outputs": [],
   "source": [
    "def null_values(base_df):\n",
    "    print(base_df.isna().sum())\n",
    "    ## null value percentage     \n",
    "    null_value_table=(base_df.isna().sum()/base_df.shape[0])*100\n",
    "    ## null value percentage beyond threshold drop , else treat the columns \n",
    "    \n",
    "    retained_columns=null_value_table[null_value_table<int(input())].index\n",
    "    # if any variable as null value greater than input(like 30% of the data) value than those variable are consider as drop\n",
    "    drop_columns=null_value_table[null_value_table>int(input())].index\n",
    "    base_df.drop(drop_columns,axis=1,inplace=True)\n",
    "    len(base_df.isna().sum().index)\n",
    "    cont=base_df.describe().columns\n",
    "    cat=[i for i in base_df.columns if i not in base_df.describe().columns]\n",
    "    for i in cat:\n",
    "        base_df[i].fillna(base_df[i].value_counts().index[0],inplace=True)\n",
    "    for i in cont:\n",
    "        base_df[i].fillna(base_df[i].median(),inplace=True)\n",
    "    print(base_df.isna().sum())\n",
    "    return base_df,cat,cont"
   ]
  },
  {
   "cell_type": "code",
   "execution_count": 15,
   "metadata": {
    "ExecuteTime": {
     "end_time": "2019-11-29T14:23:37.801854Z",
     "start_time": "2019-11-29T14:23:35.211530Z"
    }
   },
   "outputs": [
    {
     "name": "stdout",
     "output_type": "stream",
     "text": [
      "Customer Name    0\n",
      "Sales            0\n",
      "Profit           0\n",
      "dtype: int64\n",
      "30\n",
      "30\n",
      "Customer Name    0\n",
      "Sales            0\n",
      "Profit           0\n",
      "dtype: int64\n"
     ]
    }
   ],
   "source": [
    "base_df,cat,cont=null_values(base_df)"
   ]
  },
  {
   "cell_type": "code",
   "execution_count": 16,
   "metadata": {
    "ExecuteTime": {
     "end_time": "2019-11-29T14:23:38.980201Z",
     "start_time": "2019-11-29T14:23:38.972510Z"
    }
   },
   "outputs": [
    {
     "data": {
      "text/plain": [
       "Index(['Customer Name', 'Sales', 'Profit'], dtype='object')"
      ]
     },
     "execution_count": 16,
     "metadata": {},
     "output_type": "execute_result"
    }
   ],
   "source": [
    "base_df.columns"
   ]
  },
  {
   "cell_type": "markdown",
   "metadata": {},
   "source": [
    "#### Outlier treatment\n"
   ]
  },
  {
   "cell_type": "code",
   "execution_count": 17,
   "metadata": {
    "ExecuteTime": {
     "end_time": "2019-11-29T14:23:42.706893Z",
     "start_time": "2019-11-29T14:23:42.408788Z"
    }
   },
   "outputs": [
    {
     "data": {
      "text/plain": [
       "(array([    0.,  5000., 10000., 15000., 20000., 25000., 30000., 35000.,\n",
       "        40000., 45000.]), <a list of 10 Text xticklabel objects>)"
      ]
     },
     "execution_count": 17,
     "metadata": {},
     "output_type": "execute_result"
    },
    {
     "data": {
      "image/png": "[encoded data removed]",
      "text/plain": [
       "<Figure size 432x288 with 1 Axes>"
      ]
     },
     "metadata": {
      "needs_background": "light"
     },
     "output_type": "display_data"
    }
   ],
   "source": [
    "import seaborn as sns\n",
    "sns.boxplot(base_df['Sales'])\n",
    "plt.xticks(rotation=45)"
   ]
  },
  {
   "cell_type": "code",
   "execution_count": 18,
   "metadata": {
    "ExecuteTime": {
     "end_time": "2019-11-29T14:23:43.912820Z",
     "start_time": "2019-11-29T14:23:43.703527Z"
    }
   },
   "outputs": [
    {
     "data": {
      "text/plain": [
       "(array([-8000., -6000., -4000., -2000.,     0.,  2000.,  4000.,  6000.,\n",
       "         8000., 10000.]), <a list of 10 Text xticklabel objects>)"
      ]
     },
     "execution_count": 18,
     "metadata": {},
     "output_type": "execute_result"
    },
    {
     "data": {
      "image/png": "[encoded data removed]",
      "text/plain": [
       "<Figure size 432x288 with 1 Axes>"
      ]
     },
     "metadata": {
      "needs_background": "light"
     },
     "output_type": "display_data"
    }
   ],
   "source": [
    "import seaborn as sns\n",
    "sns.boxplot(base_df['Profit'])\n",
    "plt.xticks(rotation=45)"
   ]
  },
  {
   "cell_type": "code",
   "execution_count": 19,
   "metadata": {
    "ExecuteTime": {
     "end_time": "2019-11-29T14:23:44.770983Z",
     "start_time": "2019-11-29T14:23:44.756868Z"
    }
   },
   "outputs": [],
   "source": [
    "def outliers_transform(base_df):\n",
    "    for i in base_df.var().sort_values(ascending=False).index[1:10]:\n",
    "        x=np.array(base_df[i])\n",
    "        qr1=np.quantile(x,0.25)\n",
    "        qr3=np.quantile(x,0.75)\n",
    "        iqr=qr3-qr1\n",
    "        utv=qr3+(1.5*(iqr))\n",
    "        ltv=qr1-(1.5*(iqr))\n",
    "        y=[]\n",
    "        for p in x:\n",
    "            if p <ltv or p>utv:\n",
    "                y.append(np.median(x))\n",
    "            else:\n",
    "                y.append(p)\n",
    "        base_df[i]=y"
   ]
  },
  {
   "cell_type": "code",
   "execution_count": 20,
   "metadata": {
    "ExecuteTime": {
     "end_time": "2019-11-29T14:23:45.949234Z",
     "start_time": "2019-11-29T14:23:45.923515Z"
    }
   },
   "outputs": [],
   "source": [
    "outliers_transform(base_df)"
   ]
  },
  {
   "cell_type": "code",
   "execution_count": 21,
   "metadata": {
    "ExecuteTime": {
     "end_time": "2019-11-29T14:23:47.611198Z",
     "start_time": "2019-11-29T14:23:47.417864Z"
    }
   },
   "outputs": [
    {
     "data": {
      "text/plain": [
       "(array([    0.,  5000., 10000., 15000., 20000., 25000., 30000.]),\n",
       " <a list of 7 Text xticklabel objects>)"
      ]
     },
     "execution_count": 21,
     "metadata": {},
     "output_type": "execute_result"
    },
    {
     "data": {
      "image/png": "[encoded data removed]",
      "text/plain": [
       "<Figure size 432x288 with 1 Axes>"
      ]
     },
     "metadata": {
      "needs_background": "light"
     },
     "output_type": "display_data"
    }
   ],
   "source": [
    "import seaborn as sns\n",
    "sns.boxplot(base_df['Sales'])\n",
    "plt.xticks(rotation=45)"
   ]
  },
  {
   "cell_type": "code",
   "execution_count": 22,
   "metadata": {
    "ExecuteTime": {
     "end_time": "2019-11-29T14:23:48.759354Z",
     "start_time": "2019-11-29T14:23:48.509479Z"
    }
   },
   "outputs": [
    {
     "data": {
      "text/plain": [
       "(array([-8000., -6000., -4000., -2000.,     0.,  2000.,  4000.,  6000.,\n",
       "         8000., 10000.]), <a list of 10 Text xticklabel objects>)"
      ]
     },
     "execution_count": 22,
     "metadata": {},
     "output_type": "execute_result"
    },
    {
     "data": {
      "image/png": "[encoded data removed]",
      "text/plain": [
       "<Figure size 432x288 with 1 Axes>"
      ]
     },
     "metadata": {
      "needs_background": "light"
     },
     "output_type": "display_data"
    }
   ],
   "source": [
    "import seaborn as sns\n",
    "sns.boxplot(base_df['Profit'])\n",
    "plt.xticks(rotation=45)"
   ]
  },
  {
   "cell_type": "markdown",
   "metadata": {},
   "source": [
    "#### Min max scalar\n"
   ]
  },
  {
   "cell_type": "code",
   "execution_count": 23,
   "metadata": {
    "ExecuteTime": {
     "end_time": "2019-11-29T14:23:58.545009Z",
     "start_time": "2019-11-29T14:23:57.839759Z"
    }
   },
   "outputs": [],
   "source": [
    "from sklearn.preprocessing import MinMaxScaler\n",
    "def MinMaxScalerCustom(base_df):\n",
    "    le=MinMaxScaler()\n",
    "    le.fit(base_df)\n",
    "    x=le.transform(base_df)\n",
    "    data1=pd.DataFrame(x)\n",
    "    data1.columns=base_df.columns\n",
    "    base_df=data1\n",
    "    return base_df\n"
   ]
  },
  {
   "cell_type": "code",
   "execution_count": 24,
   "metadata": {
    "ExecuteTime": {
     "end_time": "2019-11-29T14:24:03.213134Z",
     "start_time": "2019-11-29T14:24:03.197967Z"
    }
   },
   "outputs": [],
   "source": [
    "base_df1=MinMaxScalerCustom(base_df[['Sales','Profit']])"
   ]
  },
  {
   "cell_type": "code",
   "execution_count": 25,
   "metadata": {
    "ExecuteTime": {
     "end_time": "2019-11-29T14:24:04.708292Z",
     "start_time": "2019-11-29T14:24:04.691297Z"
    }
   },
   "outputs": [
    {
     "data": {
      "text/html": [
       "<div>\n",
       "<style scoped>\n",
       "    .dataframe tbody tr th:only-of-type {\n",
       "        vertical-align: middle;\n",
       "    }\n",
       "\n",
       "    .dataframe tbody tr th {\n",
       "        vertical-align: top;\n",
       "    }\n",
       "\n",
       "    .dataframe thead th {\n",
       "        text-align: right;\n",
       "    }\n",
       "</style>\n",
       "<table border=\"1\" class=\"dataframe\">\n",
       "  <thead>\n",
       "    <tr style=\"text-align: right;\">\n",
       "      <th></th>\n",
       "      <th>Sales</th>\n",
       "      <th>Profit</th>\n",
       "    </tr>\n",
       "  </thead>\n",
       "  <tbody>\n",
       "    <tr>\n",
       "      <th>0</th>\n",
       "      <td>0.843826</td>\n",
       "      <td>0.730977</td>\n",
       "    </tr>\n",
       "    <tr>\n",
       "      <th>1</th>\n",
       "      <td>0.686351</td>\n",
       "      <td>0.580410</td>\n",
       "    </tr>\n",
       "    <tr>\n",
       "      <th>2</th>\n",
       "      <td>0.419554</td>\n",
       "      <td>0.439928</td>\n",
       "    </tr>\n",
       "    <tr>\n",
       "      <th>3</th>\n",
       "      <td>0.662925</td>\n",
       "      <td>0.750944</td>\n",
       "    </tr>\n",
       "    <tr>\n",
       "      <th>4</th>\n",
       "      <td>0.724744</td>\n",
       "      <td>0.543308</td>\n",
       "    </tr>\n",
       "  </tbody>\n",
       "</table>\n",
       "</div>"
      ],
      "text/plain": [
       "      Sales    Profit\n",
       "0  0.843826  0.730977\n",
       "1  0.686351  0.580410\n",
       "2  0.419554  0.439928\n",
       "3  0.662925  0.750944\n",
       "4  0.724744  0.543308"
      ]
     },
     "execution_count": 25,
     "metadata": {},
     "output_type": "execute_result"
    }
   ],
   "source": [
    "base_df1.head(5)"
   ]
  },
  {
   "cell_type": "code",
   "execution_count": 26,
   "metadata": {
    "ExecuteTime": {
     "end_time": "2019-11-29T14:24:06.312171Z",
     "start_time": "2019-11-29T14:24:06.303345Z"
    }
   },
   "outputs": [],
   "source": [
    "base_df2=base_df['Customer Name']"
   ]
  },
  {
   "cell_type": "code",
   "execution_count": 27,
   "metadata": {
    "ExecuteTime": {
     "end_time": "2019-11-29T14:24:21.784729Z",
     "start_time": "2019-11-29T14:24:21.776690Z"
    }
   },
   "outputs": [],
   "source": [
    "final_df=pd.concat([base_df1,base_df2], axis=1,sort=False)"
   ]
  },
  {
   "cell_type": "code",
   "execution_count": 28,
   "metadata": {
    "ExecuteTime": {
     "end_time": "2019-11-29T14:24:24.079995Z",
     "start_time": "2019-11-29T14:24:24.036131Z"
    },
    "scrolled": true
   },
   "outputs": [
    {
     "data": {
      "text/html": [
       "<div>\n",
       "<style scoped>\n",
       "    .dataframe tbody tr th:only-of-type {\n",
       "        vertical-align: middle;\n",
       "    }\n",
       "\n",
       "    .dataframe tbody tr th {\n",
       "        vertical-align: top;\n",
       "    }\n",
       "\n",
       "    .dataframe thead th {\n",
       "        text-align: right;\n",
       "    }\n",
       "</style>\n",
       "<table border=\"1\" class=\"dataframe\">\n",
       "  <thead>\n",
       "    <tr style=\"text-align: right;\">\n",
       "      <th></th>\n",
       "      <th>Sales</th>\n",
       "      <th>Profit</th>\n",
       "      <th>Customer Name</th>\n",
       "    </tr>\n",
       "  </thead>\n",
       "  <tbody>\n",
       "    <tr>\n",
       "      <th>0</th>\n",
       "      <td>0.843826</td>\n",
       "      <td>0.730977</td>\n",
       "      <td>Aaron Bergman</td>\n",
       "    </tr>\n",
       "    <tr>\n",
       "      <th>1</th>\n",
       "      <td>0.686351</td>\n",
       "      <td>0.580410</td>\n",
       "      <td>Aaron Hawkins</td>\n",
       "    </tr>\n",
       "    <tr>\n",
       "      <th>2</th>\n",
       "      <td>0.419554</td>\n",
       "      <td>0.439928</td>\n",
       "      <td>Aaron Smayling</td>\n",
       "    </tr>\n",
       "    <tr>\n",
       "      <th>3</th>\n",
       "      <td>0.662925</td>\n",
       "      <td>0.750944</td>\n",
       "      <td>Adam Bellavance</td>\n",
       "    </tr>\n",
       "    <tr>\n",
       "      <th>4</th>\n",
       "      <td>0.724744</td>\n",
       "      <td>0.543308</td>\n",
       "      <td>Adam Hart</td>\n",
       "    </tr>\n",
       "    <tr>\n",
       "      <th>5</th>\n",
       "      <td>0.469985</td>\n",
       "      <td>0.510861</td>\n",
       "      <td>Adam Shillingsburg</td>\n",
       "    </tr>\n",
       "    <tr>\n",
       "      <th>6</th>\n",
       "      <td>0.863348</td>\n",
       "      <td>0.848084</td>\n",
       "      <td>Adrian Barton</td>\n",
       "    </tr>\n",
       "    <tr>\n",
       "      <th>7</th>\n",
       "      <td>0.305678</td>\n",
       "      <td>0.555451</td>\n",
       "      <td>Adrian Hane</td>\n",
       "    </tr>\n",
       "    <tr>\n",
       "      <th>8</th>\n",
       "      <td>0.300797</td>\n",
       "      <td>0.520507</td>\n",
       "      <td>Adrian Shami</td>\n",
       "    </tr>\n",
       "    <tr>\n",
       "      <th>9</th>\n",
       "      <td>0.500569</td>\n",
       "      <td>0.612385</td>\n",
       "      <td>Aimee Bixby</td>\n",
       "    </tr>\n",
       "    <tr>\n",
       "      <th>10</th>\n",
       "      <td>0.372377</td>\n",
       "      <td>0.579331</td>\n",
       "      <td>Alan Barnes</td>\n",
       "    </tr>\n",
       "    <tr>\n",
       "      <th>11</th>\n",
       "      <td>0.595900</td>\n",
       "      <td>0.518888</td>\n",
       "      <td>Alan Dominguez</td>\n",
       "    </tr>\n",
       "    <tr>\n",
       "      <th>12</th>\n",
       "      <td>0.463153</td>\n",
       "      <td>0.375034</td>\n",
       "      <td>Alan Haines</td>\n",
       "    </tr>\n",
       "    <tr>\n",
       "      <th>13</th>\n",
       "      <td>0.803481</td>\n",
       "      <td>0.708041</td>\n",
       "      <td>Alan Hwang</td>\n",
       "    </tr>\n",
       "    <tr>\n",
       "      <th>14</th>\n",
       "      <td>0.729950</td>\n",
       "      <td>0.583918</td>\n",
       "      <td>Alan Schoenberger</td>\n",
       "    </tr>\n",
       "    <tr>\n",
       "      <th>15</th>\n",
       "      <td>0.276720</td>\n",
       "      <td>0.494266</td>\n",
       "      <td>Alan Shonely</td>\n",
       "    </tr>\n",
       "    <tr>\n",
       "      <th>16</th>\n",
       "      <td>0.470636</td>\n",
       "      <td>0.466170</td>\n",
       "      <td>Alejandro Ballentine</td>\n",
       "    </tr>\n",
       "    <tr>\n",
       "      <th>17</th>\n",
       "      <td>0.387343</td>\n",
       "      <td>0.590529</td>\n",
       "      <td>Alejandro Grove</td>\n",
       "    </tr>\n",
       "    <tr>\n",
       "      <th>18</th>\n",
       "      <td>0.700667</td>\n",
       "      <td>0.585942</td>\n",
       "      <td>Alejandro Savely</td>\n",
       "    </tr>\n",
       "    <tr>\n",
       "      <th>19</th>\n",
       "      <td>0.440377</td>\n",
       "      <td>0.467148</td>\n",
       "      <td>Aleksandra Gannaway</td>\n",
       "    </tr>\n",
       "    <tr>\n",
       "      <th>20</th>\n",
       "      <td>0.492110</td>\n",
       "      <td>0.481348</td>\n",
       "      <td>Alex Avila</td>\n",
       "    </tr>\n",
       "    <tr>\n",
       "      <th>21</th>\n",
       "      <td>0.454368</td>\n",
       "      <td>0.482899</td>\n",
       "      <td>Alex Grayson</td>\n",
       "    </tr>\n",
       "    <tr>\n",
       "      <th>22</th>\n",
       "      <td>0.511306</td>\n",
       "      <td>0.569482</td>\n",
       "      <td>Alex Russell</td>\n",
       "    </tr>\n",
       "    <tr>\n",
       "      <th>23</th>\n",
       "      <td>0.605011</td>\n",
       "      <td>0.615893</td>\n",
       "      <td>Alice McCarthy</td>\n",
       "    </tr>\n",
       "    <tr>\n",
       "      <th>24</th>\n",
       "      <td>0.107695</td>\n",
       "      <td>0.465900</td>\n",
       "      <td>Allen Armold</td>\n",
       "    </tr>\n",
       "    <tr>\n",
       "      <th>25</th>\n",
       "      <td>0.204815</td>\n",
       "      <td>0.445173</td>\n",
       "      <td>Allen Goldenen</td>\n",
       "    </tr>\n",
       "    <tr>\n",
       "      <th>26</th>\n",
       "      <td>0.229218</td>\n",
       "      <td>0.377732</td>\n",
       "      <td>Allen Rosenblatt</td>\n",
       "    </tr>\n",
       "    <tr>\n",
       "      <th>27</th>\n",
       "      <td>0.341793</td>\n",
       "      <td>0.444971</td>\n",
       "      <td>Alyssa Crouse</td>\n",
       "    </tr>\n",
       "    <tr>\n",
       "      <th>28</th>\n",
       "      <td>0.449488</td>\n",
       "      <td>0.603616</td>\n",
       "      <td>Alyssa Tate</td>\n",
       "    </tr>\n",
       "    <tr>\n",
       "      <th>29</th>\n",
       "      <td>0.539287</td>\n",
       "      <td>0.683486</td>\n",
       "      <td>Amy Cox</td>\n",
       "    </tr>\n",
       "    <tr>\n",
       "      <th>...</th>\n",
       "      <td>...</td>\n",
       "      <td>...</td>\n",
       "      <td>...</td>\n",
       "    </tr>\n",
       "    <tr>\n",
       "      <th>765</th>\n",
       "      <td>0.491134</td>\n",
       "      <td>0.516257</td>\n",
       "      <td>Tony Molinari</td>\n",
       "    </tr>\n",
       "    <tr>\n",
       "      <th>766</th>\n",
       "      <td>0.644705</td>\n",
       "      <td>0.560038</td>\n",
       "      <td>Tony Sayre</td>\n",
       "    </tr>\n",
       "    <tr>\n",
       "      <th>767</th>\n",
       "      <td>0.683748</td>\n",
       "      <td>0.432356</td>\n",
       "      <td>Tracy Blumstein</td>\n",
       "    </tr>\n",
       "    <tr>\n",
       "      <th>768</th>\n",
       "      <td>0.293314</td>\n",
       "      <td>0.440873</td>\n",
       "      <td>Tracy Collins</td>\n",
       "    </tr>\n",
       "    <tr>\n",
       "      <th>769</th>\n",
       "      <td>0.374329</td>\n",
       "      <td>0.365488</td>\n",
       "      <td>Tracy Hopkins</td>\n",
       "    </tr>\n",
       "    <tr>\n",
       "      <th>770</th>\n",
       "      <td>0.382138</td>\n",
       "      <td>0.536158</td>\n",
       "      <td>Tracy Poddar</td>\n",
       "    </tr>\n",
       "    <tr>\n",
       "      <th>771</th>\n",
       "      <td>0.283228</td>\n",
       "      <td>0.409614</td>\n",
       "      <td>Tracy Zic</td>\n",
       "    </tr>\n",
       "    <tr>\n",
       "      <th>772</th>\n",
       "      <td>0.215552</td>\n",
       "      <td>0.512075</td>\n",
       "      <td>Troy Blackwell</td>\n",
       "    </tr>\n",
       "    <tr>\n",
       "      <th>773</th>\n",
       "      <td>0.759883</td>\n",
       "      <td>0.531031</td>\n",
       "      <td>Troy Staebel</td>\n",
       "    </tr>\n",
       "    <tr>\n",
       "      <th>774</th>\n",
       "      <td>0.455019</td>\n",
       "      <td>0.516257</td>\n",
       "      <td>Trudy Brown</td>\n",
       "    </tr>\n",
       "    <tr>\n",
       "      <th>775</th>\n",
       "      <td>0.609566</td>\n",
       "      <td>0.623853</td>\n",
       "      <td>Trudy Glocke</td>\n",
       "    </tr>\n",
       "    <tr>\n",
       "      <th>776</th>\n",
       "      <td>0.247438</td>\n",
       "      <td>0.484215</td>\n",
       "      <td>Trudy Schmidt</td>\n",
       "    </tr>\n",
       "    <tr>\n",
       "      <th>777</th>\n",
       "      <td>0.491785</td>\n",
       "      <td>0.552078</td>\n",
       "      <td>Valerie Dominguez</td>\n",
       "    </tr>\n",
       "    <tr>\n",
       "      <th>778</th>\n",
       "      <td>0.434196</td>\n",
       "      <td>0.303967</td>\n",
       "      <td>Valerie Mitchum</td>\n",
       "    </tr>\n",
       "    <tr>\n",
       "      <th>779</th>\n",
       "      <td>0.629738</td>\n",
       "      <td>0.488600</td>\n",
       "      <td>Valerie Takahito</td>\n",
       "    </tr>\n",
       "    <tr>\n",
       "      <th>780</th>\n",
       "      <td>0.354156</td>\n",
       "      <td>0.416777</td>\n",
       "      <td>Vicky Freymann</td>\n",
       "    </tr>\n",
       "    <tr>\n",
       "      <th>781</th>\n",
       "      <td>0.332357</td>\n",
       "      <td>0.565569</td>\n",
       "      <td>Victor Preis</td>\n",
       "    </tr>\n",
       "    <tr>\n",
       "      <th>782</th>\n",
       "      <td>0.278673</td>\n",
       "      <td>0.476288</td>\n",
       "      <td>Victoria Brennan</td>\n",
       "    </tr>\n",
       "    <tr>\n",
       "      <th>783</th>\n",
       "      <td>0.595900</td>\n",
       "      <td>0.576228</td>\n",
       "      <td>Victoria Pisteka</td>\n",
       "    </tr>\n",
       "    <tr>\n",
       "      <th>784</th>\n",
       "      <td>0.534732</td>\n",
       "      <td>0.434852</td>\n",
       "      <td>Victoria Wilson</td>\n",
       "    </tr>\n",
       "    <tr>\n",
       "      <th>785</th>\n",
       "      <td>0.260452</td>\n",
       "      <td>0.390414</td>\n",
       "      <td>Vivek Gonzalez</td>\n",
       "    </tr>\n",
       "    <tr>\n",
       "      <th>786</th>\n",
       "      <td>0.808036</td>\n",
       "      <td>0.688073</td>\n",
       "      <td>Vivek Grady</td>\n",
       "    </tr>\n",
       "    <tr>\n",
       "      <th>787</th>\n",
       "      <td>0.306003</td>\n",
       "      <td>0.522059</td>\n",
       "      <td>Vivek Sundaresam</td>\n",
       "    </tr>\n",
       "    <tr>\n",
       "      <th>788</th>\n",
       "      <td>0.000000</td>\n",
       "      <td>0.459323</td>\n",
       "      <td>Vivian Mathis</td>\n",
       "    </tr>\n",
       "    <tr>\n",
       "      <th>789</th>\n",
       "      <td>0.528225</td>\n",
       "      <td>0.586886</td>\n",
       "      <td>William Brown</td>\n",
       "    </tr>\n",
       "    <tr>\n",
       "      <th>790</th>\n",
       "      <td>0.337888</td>\n",
       "      <td>0.502968</td>\n",
       "      <td>Xylona Preis</td>\n",
       "    </tr>\n",
       "    <tr>\n",
       "      <th>791</th>\n",
       "      <td>0.656418</td>\n",
       "      <td>0.647733</td>\n",
       "      <td>Yana Sorensen</td>\n",
       "    </tr>\n",
       "    <tr>\n",
       "      <th>792</th>\n",
       "      <td>0.661624</td>\n",
       "      <td>0.708311</td>\n",
       "      <td>Yoseph Carroll</td>\n",
       "    </tr>\n",
       "    <tr>\n",
       "      <th>793</th>\n",
       "      <td>1.000000</td>\n",
       "      <td>0.444465</td>\n",
       "      <td>Zuschuss Carroll</td>\n",
       "    </tr>\n",
       "    <tr>\n",
       "      <th>794</th>\n",
       "      <td>0.347324</td>\n",
       "      <td>0.428604</td>\n",
       "      <td>Zuschuss Donatelli</td>\n",
       "    </tr>\n",
       "  </tbody>\n",
       "</table>\n",
       "<p>795 rows × 3 columns</p>\n",
       "</div>"
      ],
      "text/plain": [
       "        Sales    Profit         Customer Name\n",
       "0    0.843826  0.730977         Aaron Bergman\n",
       "1    0.686351  0.580410         Aaron Hawkins\n",
       "2    0.419554  0.439928        Aaron Smayling\n",
       "3    0.662925  0.750944       Adam Bellavance\n",
       "4    0.724744  0.543308             Adam Hart\n",
       "5    0.469985  0.510861    Adam Shillingsburg\n",
       "6    0.863348  0.848084         Adrian Barton\n",
       "7    0.305678  0.555451           Adrian Hane\n",
       "8    0.300797  0.520507          Adrian Shami\n",
       "9    0.500569  0.612385           Aimee Bixby\n",
       "10   0.372377  0.579331           Alan Barnes\n",
       "11   0.595900  0.518888        Alan Dominguez\n",
       "12   0.463153  0.375034           Alan Haines\n",
       "13   0.803481  0.708041            Alan Hwang\n",
       "14   0.729950  0.583918     Alan Schoenberger\n",
       "15   0.276720  0.494266          Alan Shonely\n",
       "16   0.470636  0.466170  Alejandro Ballentine\n",
       "17   0.387343  0.590529       Alejandro Grove\n",
       "18   0.700667  0.585942      Alejandro Savely\n",
       "19   0.440377  0.467148   Aleksandra Gannaway\n",
       "20   0.492110  0.481348            Alex Avila\n",
       "21   0.454368  0.482899          Alex Grayson\n",
       "22   0.511306  0.569482          Alex Russell\n",
       "23   0.605011  0.615893        Alice McCarthy\n",
       "24   0.107695  0.465900          Allen Armold\n",
       "25   0.204815  0.445173        Allen Goldenen\n",
       "26   0.229218  0.377732      Allen Rosenblatt\n",
       "27   0.341793  0.444971         Alyssa Crouse\n",
       "28   0.449488  0.603616           Alyssa Tate\n",
       "29   0.539287  0.683486               Amy Cox\n",
       "..        ...       ...                   ...\n",
       "765  0.491134  0.516257         Tony Molinari\n",
       "766  0.644705  0.560038            Tony Sayre\n",
       "767  0.683748  0.432356       Tracy Blumstein\n",
       "768  0.293314  0.440873         Tracy Collins\n",
       "769  0.374329  0.365488         Tracy Hopkins\n",
       "770  0.382138  0.536158          Tracy Poddar\n",
       "771  0.283228  0.409614             Tracy Zic\n",
       "772  0.215552  0.512075        Troy Blackwell\n",
       "773  0.759883  0.531031          Troy Staebel\n",
       "774  0.455019  0.516257           Trudy Brown\n",
       "775  0.609566  0.623853          Trudy Glocke\n",
       "776  0.247438  0.484215         Trudy Schmidt\n",
       "777  0.491785  0.552078     Valerie Dominguez\n",
       "778  0.434196  0.303967       Valerie Mitchum\n",
       "779  0.629738  0.488600      Valerie Takahito\n",
       "780  0.354156  0.416777        Vicky Freymann\n",
       "781  0.332357  0.565569          Victor Preis\n",
       "782  0.278673  0.476288      Victoria Brennan\n",
       "783  0.595900  0.576228      Victoria Pisteka\n",
       "784  0.534732  0.434852       Victoria Wilson\n",
       "785  0.260452  0.390414        Vivek Gonzalez\n",
       "786  0.808036  0.688073           Vivek Grady\n",
       "787  0.306003  0.522059      Vivek Sundaresam\n",
       "788  0.000000  0.459323         Vivian Mathis\n",
       "789  0.528225  0.586886         William Brown\n",
       "790  0.337888  0.502968          Xylona Preis\n",
       "791  0.656418  0.647733         Yana Sorensen\n",
       "792  0.661624  0.708311        Yoseph Carroll\n",
       "793  1.000000  0.444465      Zuschuss Carroll\n",
       "794  0.347324  0.428604    Zuschuss Donatelli\n",
       "\n",
       "[795 rows x 3 columns]"
      ]
     },
     "execution_count": 28,
     "metadata": {},
     "output_type": "execute_result"
    }
   ],
   "source": [
    "final_df"
   ]
  },
  {
   "cell_type": "code",
   "execution_count": 29,
   "metadata": {
    "ExecuteTime": {
     "end_time": "2019-11-29T14:24:25.335016Z",
     "start_time": "2019-11-29T14:24:25.327210Z"
    }
   },
   "outputs": [
    {
     "data": {
      "text/plain": [
       "(795, 3)"
      ]
     },
     "execution_count": 29,
     "metadata": {},
     "output_type": "execute_result"
    }
   ],
   "source": [
    "final_df.shape"
   ]
  },
  {
   "cell_type": "code",
   "execution_count": 30,
   "metadata": {
    "ExecuteTime": {
     "end_time": "2019-11-29T14:24:32.551880Z",
     "start_time": "2019-11-29T14:24:32.542267Z"
    }
   },
   "outputs": [],
   "source": [
    "final_df1=final_df[['Sales','Profit']]"
   ]
  },
  {
   "cell_type": "markdown",
   "metadata": {},
   "source": [
    "#### Univariate analysis (EDA)\n"
   ]
  },
  {
   "cell_type": "code",
   "execution_count": 31,
   "metadata": {
    "ExecuteTime": {
     "end_time": "2019-11-29T14:24:34.584280Z",
     "start_time": "2019-11-29T14:24:34.569067Z"
    }
   },
   "outputs": [
    {
     "data": {
      "text/html": [
       "<div>\n",
       "<style scoped>\n",
       "    .dataframe tbody tr th:only-of-type {\n",
       "        vertical-align: middle;\n",
       "    }\n",
       "\n",
       "    .dataframe tbody tr th {\n",
       "        vertical-align: top;\n",
       "    }\n",
       "\n",
       "    .dataframe thead th {\n",
       "        text-align: right;\n",
       "    }\n",
       "</style>\n",
       "<table border=\"1\" class=\"dataframe\">\n",
       "  <thead>\n",
       "    <tr style=\"text-align: right;\">\n",
       "      <th></th>\n",
       "      <th>Sales</th>\n",
       "      <th>Profit</th>\n",
       "      <th>Customer Name</th>\n",
       "    </tr>\n",
       "  </thead>\n",
       "  <tbody>\n",
       "    <tr>\n",
       "      <th>0</th>\n",
       "      <td>0.843826</td>\n",
       "      <td>0.730977</td>\n",
       "      <td>Aaron Bergman</td>\n",
       "    </tr>\n",
       "    <tr>\n",
       "      <th>1</th>\n",
       "      <td>0.686351</td>\n",
       "      <td>0.580410</td>\n",
       "      <td>Aaron Hawkins</td>\n",
       "    </tr>\n",
       "  </tbody>\n",
       "</table>\n",
       "</div>"
      ],
      "text/plain": [
       "      Sales    Profit  Customer Name\n",
       "0  0.843826  0.730977  Aaron Bergman\n",
       "1  0.686351  0.580410  Aaron Hawkins"
      ]
     },
     "execution_count": 31,
     "metadata": {},
     "output_type": "execute_result"
    }
   ],
   "source": [
    "final_df.head(2)"
   ]
  },
  {
   "cell_type": "markdown",
   "metadata": {},
   "source": [
    "#### Bivariate analysis (EDA)\n"
   ]
  },
  {
   "cell_type": "code",
   "execution_count": 32,
   "metadata": {
    "ExecuteTime": {
     "end_time": "2019-11-29T14:24:37.757211Z",
     "start_time": "2019-11-29T14:24:36.244249Z"
    }
   },
   "outputs": [
    {
     "data": {
      "text/plain": [
       "<seaborn.axisgrid.PairGrid at 0x1b3f7355588>"
      ]
     },
     "execution_count": 32,
     "metadata": {},
     "output_type": "execute_result"
    },
    {
     "data": {
      "image/png": "[encoded data removed]",
      "text/plain": [
       "<Figure size 360x360 with 6 Axes>"
      ]
     },
     "metadata": {
      "needs_background": "light"
     },
     "output_type": "display_data"
    }
   ],
   "source": [
    "sns.pairplot(final_df)"
   ]
  },
  {
   "cell_type": "markdown",
   "metadata": {},
   "source": [
    "### Model Building"
   ]
  },
  {
   "cell_type": "markdown",
   "metadata": {},
   "source": [
    "#### Identifying the right number of clusters"
   ]
  },
  {
   "cell_type": "code",
   "execution_count": 33,
   "metadata": {
    "ExecuteTime": {
     "end_time": "2019-11-29T14:24:39.432065Z",
     "start_time": "2019-11-29T14:24:39.418025Z"
    }
   },
   "outputs": [],
   "source": [
    "# Using the elbow method to find the optimal number of clusters\n",
    "import matplotlib.pyplot as plt\n",
    "\n",
    "def kelbow(final_df1,k):\n",
    "    from sklearn.cluster import KMeans\n",
    "    x = []\n",
    "    for i in range(1,k):\n",
    "        kmeans = KMeans(n_clusters = i)\n",
    "        kmeans.fit(final_df1)\n",
    "        x.append(kmeans.inertia_)\n",
    "\n",
    "    plt.plot(range(1,30), x)\n",
    "    plt.title('The elbow method')\n",
    "    plt.xlabel('The number of clusters')\n",
    "    plt.ylabel('WCSS')\n",
    "    plt.show()\n",
    "    return x"
   ]
  },
  {
   "cell_type": "code",
   "execution_count": 34,
   "metadata": {
    "ExecuteTime": {
     "end_time": "2019-11-29T14:24:49.568130Z",
     "start_time": "2019-11-29T14:24:40.722197Z"
    }
   },
   "outputs": [
    {
     "data": {
      "image/png": "[encoded data removed]",
      "text/plain": [
       "<Figure size 432x288 with 1 Axes>"
      ]
     },
     "metadata": {
      "needs_background": "light"
     },
     "output_type": "display_data"
    },
    {
     "data": {
      "text/plain": [
       "[36.68929028256666,\n",
       " 17.139811228746733,\n",
       " 11.609685661870964,\n",
       " 9.618435013944268,\n",
       " 8.059414923259862,\n",
       " 6.894861893469611,\n",
       " 5.99679221069994,\n",
       " 5.3476384542452085,\n",
       " 4.784406870034462,\n",
       " 4.314743053822717,\n",
       " 3.8526329269402275,\n",
       " 3.496973375585943,\n",
       " 3.2632072256845643,\n",
       " 3.0408976243250407,\n",
       " 2.874917668865053,\n",
       " 2.7088693486695448,\n",
       " 2.541567485217679,\n",
       " 2.406667558145912,\n",
       " 2.2598692289827467,\n",
       " 2.1268681761484203,\n",
       " 2.0961467114381738,\n",
       " 1.973922221965824,\n",
       " 1.8819041320664838,\n",
       " 1.7846790248951088,\n",
       " 1.7487302511351017,\n",
       " 1.6644501953562643,\n",
       " 1.577818949777833,\n",
       " 1.502630539554184,\n",
       " 1.4173668310328331]"
      ]
     },
     "execution_count": 34,
     "metadata": {},
     "output_type": "execute_result"
    }
   ],
   "source": [
    "kelbow(final_df1,30)"
   ]
  },
  {
   "cell_type": "markdown",
   "metadata": {
    "ExecuteTime": {
     "end_time": "2019-11-21T02:10:48.409987Z",
     "start_time": "2019-11-21T02:10:48.405989Z"
    }
   },
   "source": [
    "#### Clustering"
   ]
  },
  {
   "cell_type": "code",
   "execution_count": 35,
   "metadata": {
    "ExecuteTime": {
     "end_time": "2019-11-29T14:24:58.855704Z",
     "start_time": "2019-11-29T14:24:58.838712Z"
    }
   },
   "outputs": [
    {
     "data": {
      "text/html": [
       "<div>\n",
       "<style scoped>\n",
       "    .dataframe tbody tr th:only-of-type {\n",
       "        vertical-align: middle;\n",
       "    }\n",
       "\n",
       "    .dataframe tbody tr th {\n",
       "        vertical-align: top;\n",
       "    }\n",
       "\n",
       "    .dataframe thead th {\n",
       "        text-align: right;\n",
       "    }\n",
       "</style>\n",
       "<table border=\"1\" class=\"dataframe\">\n",
       "  <thead>\n",
       "    <tr style=\"text-align: right;\">\n",
       "      <th></th>\n",
       "      <th>Sales</th>\n",
       "      <th>Profit</th>\n",
       "      <th>Customer Name</th>\n",
       "    </tr>\n",
       "  </thead>\n",
       "  <tbody>\n",
       "    <tr>\n",
       "      <th>0</th>\n",
       "      <td>0.843826</td>\n",
       "      <td>0.730977</td>\n",
       "      <td>Aaron Bergman</td>\n",
       "    </tr>\n",
       "    <tr>\n",
       "      <th>1</th>\n",
       "      <td>0.686351</td>\n",
       "      <td>0.580410</td>\n",
       "      <td>Aaron Hawkins</td>\n",
       "    </tr>\n",
       "  </tbody>\n",
       "</table>\n",
       "</div>"
      ],
      "text/plain": [
       "      Sales    Profit  Customer Name\n",
       "0  0.843826  0.730977  Aaron Bergman\n",
       "1  0.686351  0.580410  Aaron Hawkins"
      ]
     },
     "execution_count": 35,
     "metadata": {},
     "output_type": "execute_result"
    }
   ],
   "source": [
    "final_df.head(2)"
   ]
  },
  {
   "cell_type": "code",
   "execution_count": 36,
   "metadata": {
    "ExecuteTime": {
     "end_time": "2019-11-29T14:25:00.360665Z",
     "start_time": "2019-11-29T14:25:00.268202Z"
    }
   },
   "outputs": [
    {
     "data": {
      "text/plain": [
       "795"
      ]
     },
     "execution_count": 36,
     "metadata": {},
     "output_type": "execute_result"
    }
   ],
   "source": [
    "from sklearn.cluster import KMeans\n",
    "km=KMeans(n_clusters=5,random_state=40)\n",
    "km.fit(final_df1[['Sales','Profit']])\n",
    "len(km.predict(final_df1[['Sales','Profit']]))"
   ]
  },
  {
   "cell_type": "code",
   "execution_count": 37,
   "metadata": {
    "ExecuteTime": {
     "end_time": "2019-11-29T14:25:05.124059Z",
     "start_time": "2019-11-29T14:25:05.106547Z"
    }
   },
   "outputs": [
    {
     "data": {
      "text/plain": [
       "array([4, 1, 3, 4, 1, 3, 4, 0, 0, 2, 3, 1, 3, 4, 1, 0, 3, 3, 1, 3, 3, 3,\n",
       "       2, 2, 0, 0, 0, 3, 2, 2, 0, 1, 2, 2, 0, 0, 0, 0, 0, 1, 3, 3, 2, 0,\n",
       "       3, 2, 4, 2, 3, 3, 0, 1, 3, 3, 2, 3, 0, 4, 1, 1, 2, 0, 2, 3, 0, 0,\n",
       "       1, 3, 1, 0, 2, 3, 0, 2, 2, 1, 2, 4, 2, 2, 3, 1, 1, 3, 0, 3, 0, 3,\n",
       "       4, 0, 4, 1, 3, 2, 2, 0, 1, 4, 0, 3, 3, 3, 2, 0, 3, 3, 0, 0, 2, 2,\n",
       "       4, 3, 0, 4, 2, 3, 1, 3, 1, 2, 3, 1, 4, 3, 3, 1, 2, 4, 0, 3, 4, 3,\n",
       "       3, 1, 3, 0, 3, 2, 1, 3, 2, 3, 3, 1, 4, 3, 3, 3, 3, 2, 4, 2, 0, 0,\n",
       "       3, 4, 0, 2, 4, 3, 3, 2, 3, 4, 4, 3, 3, 2, 2, 0, 1, 3, 2, 2, 1, 3,\n",
       "       3, 0, 2, 1, 0, 1, 3, 0, 2, 3, 3, 2, 1, 3, 3, 2, 1, 3, 3, 4, 1, 0,\n",
       "       3, 3, 2, 3, 1, 4, 2, 2, 4, 0, 0, 2, 1, 3, 0, 3, 0, 4, 3, 3, 2, 2,\n",
       "       1, 2, 1, 0, 1, 3, 2, 4, 2, 3, 2, 4, 2, 4, 0, 3, 0, 0, 3, 3, 3, 3,\n",
       "       3, 3, 3, 3, 3, 0, 3, 0, 1, 0, 0, 3, 3, 4, 2, 0, 2, 4, 2, 3, 0, 4,\n",
       "       2, 0, 3, 2, 0, 0, 2, 2, 3, 2, 1, 4, 2, 0, 2, 2, 2, 3, 3, 0, 2, 2,\n",
       "       2, 0, 0, 0, 2, 0, 1, 3, 4, 2, 0, 4, 2, 0, 3, 3, 2, 3, 3, 1, 1, 2,\n",
       "       1, 3, 3, 3, 3, 2, 0, 3, 0, 2, 1, 0, 0, 0, 1, 4, 2, 2, 3, 0, 2, 3,\n",
       "       1, 2, 0, 2, 2, 2, 0, 1, 2, 3, 3, 1, 3, 4, 3, 1, 3, 2, 4, 1, 2, 0,\n",
       "       4, 3, 2, 1, 0, 3, 3, 2, 4, 3, 3, 3, 0, 0, 0, 2, 0, 0, 4, 3, 0, 3,\n",
       "       2, 3, 1, 3, 2, 0, 4, 4, 1, 1, 3, 0, 4, 4, 4, 0, 1, 3, 1, 3, 3, 0,\n",
       "       0, 1, 1, 4, 0, 1, 1, 0, 1, 1, 3, 2, 2, 4, 3, 4, 0, 3, 0, 3, 0, 4,\n",
       "       2, 0, 2, 2, 3, 3, 1, 2, 3, 3, 2, 2, 1, 0, 4, 2, 1, 1, 3, 3, 2, 0,\n",
       "       3, 0, 1, 0, 3, 1, 0, 2, 3, 0, 2, 4, 4, 0, 0, 3, 2, 0, 1, 3, 4, 2,\n",
       "       3, 3, 0, 0, 3, 0, 2, 1, 2, 0, 2, 4, 0, 2, 2, 3, 3, 3, 3, 3, 3, 4,\n",
       "       2, 2, 4, 4, 2, 1, 4, 2, 3, 3, 2, 0, 3, 3, 0, 0, 2, 3, 4, 3, 2, 3,\n",
       "       3, 3, 4, 3, 3, 1, 1, 0, 0, 2, 2, 2, 3, 2, 3, 2, 3, 4, 3, 3, 3, 1,\n",
       "       3, 0, 2, 1, 3, 0, 3, 0, 3, 1, 2, 3, 3, 0, 4, 3, 1, 1, 2, 4, 1, 1,\n",
       "       2, 0, 2, 0, 3, 3, 3, 3, 3, 4, 0, 4, 4, 2, 3, 2, 3, 2, 3, 3, 1, 0,\n",
       "       3, 4, 2, 3, 0, 2, 2, 3, 2, 1, 3, 1, 3, 0, 3, 2, 2, 4, 4, 3, 2, 0,\n",
       "       3, 3, 4, 1, 2, 0, 2, 3, 2, 0, 1, 3, 0, 3, 0, 0, 2, 2, 1, 1, 3, 0,\n",
       "       2, 3, 4, 3, 3, 4, 2, 2, 1, 1, 3, 3, 3, 2, 4, 2, 2, 3, 3, 4, 2, 0,\n",
       "       4, 0, 2, 0, 0, 2, 3, 3, 2, 2, 3, 0, 2, 1, 1, 0, 0, 2, 3, 0, 2, 2,\n",
       "       1, 3, 3, 0, 1, 3, 3, 0, 2, 1, 0, 3, 4, 2, 3, 1, 2, 3, 1, 3, 2, 4,\n",
       "       2, 3, 2, 1, 1, 3, 2, 0, 4, 2, 3, 1, 3, 0, 0, 3, 2, 3, 0, 2, 0, 3,\n",
       "       0, 3, 3, 1, 3, 0, 0, 1, 4, 3, 2, 2, 4, 3, 2, 0, 1, 2, 0, 3, 0, 3,\n",
       "       0, 2, 3, 3, 0, 2, 0, 3, 2, 0, 2, 2, 0, 2, 2, 4, 4, 0, 2, 3, 3, 3,\n",
       "       2, 2, 0, 3, 1, 3, 3, 2, 0, 4, 2, 4, 3, 2, 3, 1, 3, 2, 1, 1, 0, 3,\n",
       "       3, 0, 0, 1, 3, 2, 0, 2, 3, 1, 3, 3, 0, 2, 1, 0, 4, 0, 0, 2, 3, 2,\n",
       "       4, 4, 3])"
      ]
     },
     "execution_count": 37,
     "metadata": {},
     "output_type": "execute_result"
    }
   ],
   "source": [
    "km.predict(final_df1[['Sales','Profit']])"
   ]
  },
  {
   "cell_type": "code",
   "execution_count": 41,
   "metadata": {
    "ExecuteTime": {
     "end_time": "2019-11-29T14:26:25.597449Z",
     "start_time": "2019-11-29T14:26:25.585759Z"
    }
   },
   "outputs": [],
   "source": [
    "base_df['clusters']=km.predict(final_df1[['Sales','Profit']])# adding the 'clusters' column to base_df"
   ]
  },
  {
   "cell_type": "code",
   "execution_count": 42,
   "metadata": {
    "ExecuteTime": {
     "end_time": "2019-11-29T14:26:30.197658Z",
     "start_time": "2019-11-29T14:26:30.177752Z"
    }
   },
   "outputs": [
    {
     "data": {
      "text/html": [
       "<div>\n",
       "<style scoped>\n",
       "    .dataframe tbody tr th:only-of-type {\n",
       "        vertical-align: middle;\n",
       "    }\n",
       "\n",
       "    .dataframe tbody tr th {\n",
       "        vertical-align: top;\n",
       "    }\n",
       "\n",
       "    .dataframe thead th {\n",
       "        text-align: right;\n",
       "    }\n",
       "</style>\n",
       "<table border=\"1\" class=\"dataframe\">\n",
       "  <thead>\n",
       "    <tr style=\"text-align: right;\">\n",
       "      <th></th>\n",
       "      <th>Customer Name</th>\n",
       "      <th>Sales</th>\n",
       "      <th>Profit</th>\n",
       "      <th>clusters</th>\n",
       "    </tr>\n",
       "  </thead>\n",
       "  <tbody>\n",
       "    <tr>\n",
       "      <th>0</th>\n",
       "      <td>Aaron Bergman</td>\n",
       "      <td>24640.0</td>\n",
       "      <td>4684.0</td>\n",
       "      <td>4</td>\n",
       "    </tr>\n",
       "    <tr>\n",
       "      <th>1</th>\n",
       "      <td>Aaron Hawkins</td>\n",
       "      <td>20768.0</td>\n",
       "      <td>2452.0</td>\n",
       "      <td>1</td>\n",
       "    </tr>\n",
       "  </tbody>\n",
       "</table>\n",
       "</div>"
      ],
      "text/plain": [
       "   Customer Name    Sales  Profit  clusters\n",
       "0  Aaron Bergman  24640.0  4684.0         4\n",
       "1  Aaron Hawkins  20768.0  2452.0         1"
      ]
     },
     "execution_count": 42,
     "metadata": {},
     "output_type": "execute_result"
    }
   ],
   "source": [
    "base_df.head(2)"
   ]
  },
  {
   "cell_type": "markdown",
   "metadata": {},
   "source": [
    "#### Visualizing the clusters"
   ]
  },
  {
   "cell_type": "code",
   "execution_count": 43,
   "metadata": {
    "ExecuteTime": {
     "end_time": "2019-11-29T14:26:37.121315Z",
     "start_time": "2019-11-29T14:26:37.109262Z"
    },
    "scrolled": true
   },
   "outputs": [
    {
     "data": {
      "text/plain": [
       "3    247\n",
       "2    188\n",
       "0    165\n",
       "1    108\n",
       "4     87\n",
       "Name: clusters, dtype: int64"
      ]
     },
     "execution_count": 43,
     "metadata": {},
     "output_type": "execute_result"
    }
   ],
   "source": [
    "base_df['clusters'].value_counts()"
   ]
  },
  {
   "cell_type": "code",
   "execution_count": 44,
   "metadata": {
    "ExecuteTime": {
     "end_time": "2019-11-29T14:26:38.035908Z",
     "start_time": "2019-11-29T14:26:38.028157Z"
    }
   },
   "outputs": [],
   "source": [
    "base_df_c1=base_df[base_df['clusters']==1]"
   ]
  },
  {
   "cell_type": "code",
   "execution_count": 45,
   "metadata": {
    "ExecuteTime": {
     "end_time": "2019-11-29T14:26:40.966516Z",
     "start_time": "2019-11-29T14:26:40.958388Z"
    },
    "scrolled": true
   },
   "outputs": [
    {
     "data": {
      "text/plain": [
       "20237.777777777777"
      ]
     },
     "execution_count": 45,
     "metadata": {},
     "output_type": "execute_result"
    }
   ],
   "source": [
    "base_df_c1['Sales'].mean()"
   ]
  },
  {
   "cell_type": "code",
   "execution_count": 46,
   "metadata": {
    "ExecuteTime": {
     "end_time": "2019-11-29T14:26:42.525432Z",
     "start_time": "2019-11-29T14:26:42.516965Z"
    }
   },
   "outputs": [
    {
     "data": {
      "text/plain": [
       "(108, 4)"
      ]
     },
     "execution_count": 46,
     "metadata": {},
     "output_type": "execute_result"
    }
   ],
   "source": [
    "base_df_c1.shape"
   ]
  },
  {
   "cell_type": "code",
   "execution_count": 47,
   "metadata": {
    "ExecuteTime": {
     "end_time": "2019-11-29T14:26:54.044365Z",
     "start_time": "2019-11-29T14:26:54.034404Z"
    }
   },
   "outputs": [
    {
     "data": {
      "text/plain": [
       "(64,)"
      ]
     },
     "execution_count": 47,
     "metadata": {},
     "output_type": "execute_result"
    }
   ],
   "source": [
    "base_df_c1[base_df_c1['Sales']<base_df_c1['Sales'].mean()]['Customer Name'].values.shape"
   ]
  },
  {
   "cell_type": "code",
   "execution_count": 48,
   "metadata": {
    "ExecuteTime": {
     "end_time": "2019-11-29T14:26:56.467535Z",
     "start_time": "2019-11-29T14:26:56.460823Z"
    }
   },
   "outputs": [],
   "source": [
    "Potntial_customers=base_df_c1[base_df_c1['Sales']<base_df_c1['Sales'].mean()]"
   ]
  },
  {
   "cell_type": "code",
   "execution_count": 49,
   "metadata": {
    "ExecuteTime": {
     "end_time": "2019-11-29T14:27:05.464389Z",
     "start_time": "2019-11-29T14:27:05.446241Z"
    }
   },
   "outputs": [
    {
     "data": {
      "text/html": [
       "<div>\n",
       "<style scoped>\n",
       "    .dataframe tbody tr th:only-of-type {\n",
       "        vertical-align: middle;\n",
       "    }\n",
       "\n",
       "    .dataframe tbody tr th {\n",
       "        vertical-align: top;\n",
       "    }\n",
       "\n",
       "    .dataframe thead th {\n",
       "        text-align: right;\n",
       "    }\n",
       "</style>\n",
       "<table border=\"1\" class=\"dataframe\">\n",
       "  <thead>\n",
       "    <tr style=\"text-align: right;\">\n",
       "      <th></th>\n",
       "      <th>Customer Name</th>\n",
       "      <th>Sales</th>\n",
       "      <th>Profit</th>\n",
       "      <th>clusters</th>\n",
       "    </tr>\n",
       "  </thead>\n",
       "  <tbody>\n",
       "    <tr>\n",
       "      <th>11</th>\n",
       "      <td>Alan Dominguez</td>\n",
       "      <td>18544.0</td>\n",
       "      <td>1540.0</td>\n",
       "      <td>1</td>\n",
       "    </tr>\n",
       "    <tr>\n",
       "      <th>31</th>\n",
       "      <td>Andrew Allen</td>\n",
       "      <td>19760.0</td>\n",
       "      <td>2070.0</td>\n",
       "      <td>1</td>\n",
       "    </tr>\n",
       "  </tbody>\n",
       "</table>\n",
       "</div>"
      ],
      "text/plain": [
       "     Customer Name    Sales  Profit  clusters\n",
       "11  Alan Dominguez  18544.0  1540.0         1\n",
       "31    Andrew Allen  19760.0  2070.0         1"
      ]
     },
     "execution_count": 49,
     "metadata": {},
     "output_type": "execute_result"
    }
   ],
   "source": [
    "Potntial_customers.head(2)"
   ]
  },
  {
   "cell_type": "code",
   "execution_count": 50,
   "metadata": {
    "ExecuteTime": {
     "end_time": "2019-11-29T14:27:07.264660Z",
     "start_time": "2019-11-29T14:27:07.257655Z"
    }
   },
   "outputs": [
    {
     "data": {
      "text/plain": [
       "64"
      ]
     },
     "execution_count": 50,
     "metadata": {},
     "output_type": "execute_result"
    }
   ],
   "source": [
    "Potntial_customers.shape[0]"
   ]
  },
  {
   "cell_type": "code",
   "execution_count": 51,
   "metadata": {
    "ExecuteTime": {
     "end_time": "2019-11-29T14:27:08.096433Z",
     "start_time": "2019-11-29T14:27:08.086642Z"
    }
   },
   "outputs": [
    {
     "data": {
      "text/plain": [
       "1227.2777777777774"
      ]
     },
     "execution_count": 51,
     "metadata": {},
     "output_type": "execute_result"
    }
   ],
   "source": [
    "(abs(Potntial_customers['Sales']-base_df_c1['Sales'].mean()).sum())/Potntial_customers.shape[0]"
   ]
  },
  {
   "cell_type": "markdown",
   "metadata": {},
   "source": [
    "#### Interpreting the clusters"
   ]
  },
  {
   "cell_type": "markdown",
   "metadata": {},
   "source": [
    "### Model Validation"
   ]
  },
  {
   "cell_type": "markdown",
   "metadata": {},
   "source": [
    "#### Checking the accuracy of clusters"
   ]
  },
  {
   "cell_type": "code",
   "execution_count": 52,
   "metadata": {
    "ExecuteTime": {
     "end_time": "2019-11-29T14:27:16.878892Z",
     "start_time": "2019-11-29T14:27:16.871453Z"
    }
   },
   "outputs": [],
   "source": [
    "pd.options.display.float_format = '{:.2f}'.format"
   ]
  },
  {
   "cell_type": "code",
   "execution_count": 53,
   "metadata": {
    "ExecuteTime": {
     "end_time": "2019-11-29T14:27:18.049580Z",
     "start_time": "2019-11-29T14:27:18.033926Z"
    }
   },
   "outputs": [
    {
     "data": {
      "text/html": [
       "<div>\n",
       "<style scoped>\n",
       "    .dataframe tbody tr th:only-of-type {\n",
       "        vertical-align: middle;\n",
       "    }\n",
       "\n",
       "    .dataframe tbody tr th {\n",
       "        vertical-align: top;\n",
       "    }\n",
       "\n",
       "    .dataframe thead th {\n",
       "        text-align: right;\n",
       "    }\n",
       "</style>\n",
       "<table border=\"1\" class=\"dataframe\">\n",
       "  <thead>\n",
       "    <tr style=\"text-align: right;\">\n",
       "      <th></th>\n",
       "      <th>Customer Name</th>\n",
       "      <th>Sales</th>\n",
       "      <th>Profit</th>\n",
       "      <th>clusters</th>\n",
       "    </tr>\n",
       "  </thead>\n",
       "  <tbody>\n",
       "    <tr>\n",
       "      <th>0</th>\n",
       "      <td>Aaron Bergman</td>\n",
       "      <td>24640.00</td>\n",
       "      <td>4684.00</td>\n",
       "      <td>4</td>\n",
       "    </tr>\n",
       "    <tr>\n",
       "      <th>1</th>\n",
       "      <td>Aaron Hawkins</td>\n",
       "      <td>20768.00</td>\n",
       "      <td>2452.00</td>\n",
       "      <td>1</td>\n",
       "    </tr>\n",
       "  </tbody>\n",
       "</table>\n",
       "</div>"
      ],
      "text/plain": [
       "   Customer Name    Sales  Profit  clusters\n",
       "0  Aaron Bergman 24640.00 4684.00         4\n",
       "1  Aaron Hawkins 20768.00 2452.00         1"
      ]
     },
     "execution_count": 53,
     "metadata": {},
     "output_type": "execute_result"
    }
   ],
   "source": [
    "base_df.head(2)"
   ]
  },
  {
   "cell_type": "code",
   "execution_count": 54,
   "metadata": {
    "ExecuteTime": {
     "end_time": "2019-11-29T14:27:39.573517Z",
     "start_time": "2019-11-29T14:27:39.489538Z"
    }
   },
   "outputs": [
    {
     "data": {
      "text/html": [
       "<div>\n",
       "<style scoped>\n",
       "    .dataframe tbody tr th:only-of-type {\n",
       "        vertical-align: middle;\n",
       "    }\n",
       "\n",
       "    .dataframe tbody tr th {\n",
       "        vertical-align: top;\n",
       "    }\n",
       "\n",
       "    .dataframe thead th {\n",
       "        text-align: right;\n",
       "    }\n",
       "</style>\n",
       "<table border=\"1\" class=\"dataframe\">\n",
       "  <thead>\n",
       "    <tr style=\"text-align: right;\">\n",
       "      <th></th>\n",
       "      <th>clusters</th>\n",
       "      <th>0</th>\n",
       "      <th>1</th>\n",
       "      <th>2</th>\n",
       "      <th>3</th>\n",
       "      <th>4</th>\n",
       "    </tr>\n",
       "  </thead>\n",
       "  <tbody>\n",
       "    <tr>\n",
       "      <th rowspan=\"8\" valign=\"top\">Sales</th>\n",
       "      <th>count</th>\n",
       "      <td>165.00</td>\n",
       "      <td>108.00</td>\n",
       "      <td>188.00</td>\n",
       "      <td>247.00</td>\n",
       "      <td>87.00</td>\n",
       "    </tr>\n",
       "    <tr>\n",
       "      <th>mean</th>\n",
       "      <td>9709.28</td>\n",
       "      <td>20237.78</td>\n",
       "      <td>16641.57</td>\n",
       "      <td>13696.06</td>\n",
       "      <td>23792.92</td>\n",
       "    </tr>\n",
       "    <tr>\n",
       "      <th>std</th>\n",
       "      <td>1661.56</td>\n",
       "      <td>1869.02</td>\n",
       "      <td>1349.98</td>\n",
       "      <td>1256.62</td>\n",
       "      <td>2234.19</td>\n",
       "    </tr>\n",
       "    <tr>\n",
       "      <th>min</th>\n",
       "      <td>3892.00</td>\n",
       "      <td>17040.00</td>\n",
       "      <td>13680.00</td>\n",
       "      <td>11480.00</td>\n",
       "      <td>20048.00</td>\n",
       "    </tr>\n",
       "    <tr>\n",
       "      <th>25%</th>\n",
       "      <td>8688.00</td>\n",
       "      <td>18892.00</td>\n",
       "      <td>15542.00</td>\n",
       "      <td>12716.00</td>\n",
       "      <td>22224.00</td>\n",
       "    </tr>\n",
       "    <tr>\n",
       "      <th>50%</th>\n",
       "      <td>10152.00</td>\n",
       "      <td>19960.00</td>\n",
       "      <td>16488.00</td>\n",
       "      <td>13528.00</td>\n",
       "      <td>23408.00</td>\n",
       "    </tr>\n",
       "    <tr>\n",
       "      <th>75%</th>\n",
       "      <td>10992.00</td>\n",
       "      <td>21368.00</td>\n",
       "      <td>17556.00</td>\n",
       "      <td>14720.00</td>\n",
       "      <td>25336.00</td>\n",
       "    </tr>\n",
       "    <tr>\n",
       "      <th>max</th>\n",
       "      <td>11832.00</td>\n",
       "      <td>27168.00</td>\n",
       "      <td>20032.00</td>\n",
       "      <td>16928.00</td>\n",
       "      <td>28480.00</td>\n",
       "    </tr>\n",
       "    <tr>\n",
       "      <th rowspan=\"8\" valign=\"top\">Profit</th>\n",
       "      <th>count</th>\n",
       "      <td>165.00</td>\n",
       "      <td>108.00</td>\n",
       "      <td>188.00</td>\n",
       "      <td>247.00</td>\n",
       "      <td>87.00</td>\n",
       "    </tr>\n",
       "    <tr>\n",
       "      <th>mean</th>\n",
       "      <td>inf</td>\n",
       "      <td>inf</td>\n",
       "      <td>inf</td>\n",
       "      <td>inf</td>\n",
       "      <td>inf</td>\n",
       "    </tr>\n",
       "    <tr>\n",
       "      <th>std</th>\n",
       "      <td>inf</td>\n",
       "      <td>inf</td>\n",
       "      <td>inf</td>\n",
       "      <td>inf</td>\n",
       "      <td>inf</td>\n",
       "    </tr>\n",
       "    <tr>\n",
       "      <th>min</th>\n",
       "      <td>-2270.00</td>\n",
       "      <td>-3578.00</td>\n",
       "      <td>865.50</td>\n",
       "      <td>-6152.00</td>\n",
       "      <td>436.75</td>\n",
       "    </tr>\n",
       "    <tr>\n",
       "      <th>25%</th>\n",
       "      <td>519.00</td>\n",
       "      <td>724.00</td>\n",
       "      <td>2120.00</td>\n",
       "      <td>722.00</td>\n",
       "      <td>3192.00</td>\n",
       "    </tr>\n",
       "    <tr>\n",
       "      <th>50%</th>\n",
       "      <td>1031.00</td>\n",
       "      <td>1474.00</td>\n",
       "      <td>2579.00</td>\n",
       "      <td>1401.00</td>\n",
       "      <td>3920.00</td>\n",
       "    </tr>\n",
       "    <tr>\n",
       "      <th>75%</th>\n",
       "      <td>1552.00</td>\n",
       "      <td>2061.00</td>\n",
       "      <td>3148.50</td>\n",
       "      <td>1945.50</td>\n",
       "      <td>4610.00</td>\n",
       "    </tr>\n",
       "    <tr>\n",
       "      <th>max</th>\n",
       "      <td>3138.00</td>\n",
       "      <td>2970.00</td>\n",
       "      <td>8672.00</td>\n",
       "      <td>3046.00</td>\n",
       "      <td>8208.00</td>\n",
       "    </tr>\n",
       "  </tbody>\n",
       "</table>\n",
       "</div>"
      ],
      "text/plain": [
       "clusters            0        1        2        3        4\n",
       "Sales  count   165.00   108.00   188.00   247.00    87.00\n",
       "       mean   9709.28 20237.78 16641.57 13696.06 23792.92\n",
       "       std    1661.56  1869.02  1349.98  1256.62  2234.19\n",
       "       min    3892.00 17040.00 13680.00 11480.00 20048.00\n",
       "       25%    8688.00 18892.00 15542.00 12716.00 22224.00\n",
       "       50%   10152.00 19960.00 16488.00 13528.00 23408.00\n",
       "       75%   10992.00 21368.00 17556.00 14720.00 25336.00\n",
       "       max   11832.00 27168.00 20032.00 16928.00 28480.00\n",
       "Profit count   165.00   108.00   188.00   247.00    87.00\n",
       "       mean       inf      inf      inf      inf      inf\n",
       "       std        inf      inf      inf      inf      inf\n",
       "       min   -2270.00 -3578.00   865.50 -6152.00   436.75\n",
       "       25%     519.00   724.00  2120.00   722.00  3192.00\n",
       "       50%    1031.00  1474.00  2579.00  1401.00  3920.00\n",
       "       75%    1552.00  2061.00  3148.50  1945.50  4610.00\n",
       "       max    3138.00  2970.00  8672.00  3046.00  8208.00"
      ]
     },
     "execution_count": 54,
     "metadata": {},
     "output_type": "execute_result"
    }
   ],
   "source": [
    "pd.DataFrame(base_df.groupby(\"clusters\").describe()).T"
   ]
  },
  {
   "cell_type": "code",
   "execution_count": 60,
   "metadata": {
    "ExecuteTime": {
     "end_time": "2019-11-29T14:45:31.272028Z",
     "start_time": "2019-11-29T14:44:43.721358Z"
    }
   },
   "outputs": [
    {
     "data": {
      "text/plain": [
       "<matplotlib.collections.PathCollection at 0x1b3fc441da0>"
      ]
     },
     "execution_count": 60,
     "metadata": {},
     "output_type": "execute_result"
    },
    {
     "data": {
      "image/png": "[encoded data removed]",
      "text/plain": [
       "<Figure size 432x288 with 1 Axes>"
      ]
     },
     "metadata": {
      "needs_background": "light"
     },
     "output_type": "display_data"
    }
   ],
   "source": [
    "plt.scatter(base_df[base_df['clusters']==0]['Customer Name'],base_df[base_df['clusters']==0]['Profit'])\n",
    "plt.scatter(base_df[base_df['clusters']==1]['Customer Name'],base_df[base_df['clusters']==1]['Profit'])\n",
    "plt.scatter(base_df[base_df['clusters']==2]['Customer Name'],base_df[base_df['clusters']==2]['Profit'])\n",
    "plt.scatter(base_df[base_df['clusters']==3]['Customer Name'],base_df[base_df['clusters']==3]['Profit'])\n",
    "plt.scatter(base_df[base_df['clusters']==4]['Customer Name'],base_df[base_df['clusters']==4]['Profit'])"
   ]
  },
  {
   "cell_type": "markdown",
   "metadata": {},
   "source": [
    "#### Accuracy metrics"
   ]
  },
  {
   "cell_type": "code",
   "execution_count": 61,
   "metadata": {
    "ExecuteTime": {
     "end_time": "2019-11-29T14:46:32.878939Z",
     "start_time": "2019-11-29T14:46:32.866947Z"
    }
   },
   "outputs": [
    {
     "data": {
      "text/plain": [
       "(108, 4)"
      ]
     },
     "execution_count": 61,
     "metadata": {},
     "output_type": "execute_result"
    }
   ],
   "source": [
    "base_df[base_df['clusters']==1].shape"
   ]
  },
  {
   "cell_type": "code",
   "execution_count": 62,
   "metadata": {
    "ExecuteTime": {
     "end_time": "2019-11-29T14:46:34.561161Z",
     "start_time": "2019-11-29T14:46:33.981065Z"
    }
   },
   "outputs": [
    {
     "data": {
      "text/plain": [
       "0.19699011632835461"
      ]
     },
     "execution_count": 62,
     "metadata": {},
     "output_type": "execute_result"
    }
   ],
   "source": [
    "import math\n",
    "total_entropy=[]\n",
    "for i in base_df[base_df['clusters']==1]['Sales']:\n",
    "    num= list(base_df[base_df['clusters']==1]['Sales'].values).count(i)\n",
    "    den= base_df[base_df['clusters']==1]['Sales'].shape[0]\n",
    "    total_entropy.append(((num/den)*(1/math.log(num/den,2))))\n",
    "    \n",
    "\n",
    "total_entropy=np.array(total_entropy).sum()\n",
    "\n",
    "total_entropy=-(total_entropy)\n",
    "\n",
    "total_entropy"
   ]
  },
  {
   "cell_type": "code",
   "execution_count": 63,
   "metadata": {
    "ExecuteTime": {
     "end_time": "2019-11-29T14:46:36.072642Z",
     "start_time": "2019-11-29T14:46:35.390384Z"
    }
   },
   "outputs": [
    {
     "data": {
      "text/plain": [
       "0.14804095548293253"
      ]
     },
     "execution_count": 63,
     "metadata": {},
     "output_type": "execute_result"
    }
   ],
   "source": [
    "import math\n",
    "total_entropy=[]\n",
    "for i in base_df[base_df['clusters']==1]['Profit']:\n",
    "    num= list(base_df[base_df['clusters']==1]['Profit'].values).count(i)\n",
    "    den= base_df[base_df['clusters']==1]['Profit'].shape[0]\n",
    "    total_entropy.append(((num/den)*(1/math.log(num/den,2))))\n",
    "    \n",
    "\n",
    "total_entropy=np.array(total_entropy).sum()\n",
    "\n",
    "total_entropy=-(total_entropy)\n",
    "\n",
    "total_entropy"
   ]
  },
  {
   "cell_type": "code",
   "execution_count": null,
   "metadata": {},
   "outputs": [],
   "source": []
  },
  {
   "cell_type": "markdown",
   "metadata": {},
   "source": [
    "### Model Finetuning"
   ]
  },
  {
   "cell_type": "markdown",
   "metadata": {},
   "source": [
    "#### improving the clusters by selecting the better criteria"
   ]
  },
  {
   "cell_type": "markdown",
   "metadata": {},
   "source": [
    "### Model Deployment"
   ]
  },
  {
   "cell_type": "markdown",
   "metadata": {
    "ExecuteTime": {
     "end_time": "2019-11-21T02:13:47.837899Z",
     "start_time": "2019-11-21T02:13:47.831904Z"
    }
   },
   "source": [
    "#### flask api to access the model deployment "
   ]
  }
 ],
 "metadata": {
  "kernelspec": {
   "display_name": "Python 3",
   "language": "python",
   "name": "python3"
  },
  "language_info": {
   "codemirror_mode": {
    "name": "ipython",
    "version": 3
   },
   "file_extension": ".py",
   "mimetype": "text/x-python",
   "name": "python",
   "nbconvert_exporter": "python",
   "pygments_lexer": "ipython3",
   "version": "3.7.3"
  },
  "toc": {
   "base_numbering": 1,
   "nav_menu": {},
   "number_sections": true,
   "sideBar": true,
   "skip_h1_title": false,
   "title_cell": "Table of Contents",
   "title_sidebar": "Contents",
   "toc_cell": false,
   "toc_position": {
    "height": "calc(100% - 180px)",
    "left": "10px",
    "top": "150px",
    "width": "300.99px"
   },
   "toc_section_display": true,
   "toc_window_display": true
  },
  "varInspector": {
   "cols": {
    "lenName": 16,
    "lenType": 16,
    "lenVar": 40
   },
   "kernels_config": {
    "python": {
     "delete_cmd_postfix": "",
     "delete_cmd_prefix": "del ",
     "library": "var_list.py",
     "varRefreshCmd": "print(var_dic_list())"
    },
    "r": {
     "delete_cmd_postfix": ") ",
     "delete_cmd_prefix": "rm(",
     "library": "var_list.r",
     "varRefreshCmd": "cat(var_dic_list()) "
    }
   },
   "types_to_exclude": [
    "module",
    "function",
    "builtin_function_or_method",
    "instance",
    "_Feature"
   ],
   "window_display": false
  }
 },
 "nbformat": 4,
 "nbformat_minor": 2
}
