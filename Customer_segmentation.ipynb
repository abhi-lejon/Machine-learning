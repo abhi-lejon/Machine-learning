{
  "nbformat": 4,
  "nbformat_minor": 0,
  "metadata": {
    "colab": {
      "name": "Customer segmentation",
      "provenance": [],
      "collapsed_sections": [],
      "mount_file_id": "1j496-b5aRykKfGYwWTpe763Bp3UadQ_W",
      "authorship_tag": "ABX9TyNkRCbe0av8mjfJgP36mb43",
      "include_colab_link": true
    },
    "kernelspec": {
      "name": "python3",
      "display_name": "Python 3"
    },
    "language_info": {
      "name": "python"
    },
    "accelerator": "GPU"
  },
  "cells": [
    {
      "cell_type": "markdown",
      "metadata": {
        "id": "view-in-github",
        "colab_type": "text"
      },
      "source": [
        "<a href=\"https://colab.research.google.com/github/abhi-lejon/Machine-learning/blob/master/Customer_segmentation.ipynb\" target=\"_parent\"><img src=\"https://colab.research.google.com/assets/colab-badge.svg\" alt=\"Open In Colab\"/></a>"
      ]
    },
    {
      "cell_type": "code",
      "metadata": {
        "id": "m2V3QHmjXeRZ"
      },
      "source": [
        "import pandas as pd\n",
        "import seaborn as sns\n",
        "import matplotlib.pyplot as plt\n",
        "%matplotlib inline\n",
        "import warnings\n",
        "warnings.simplefilter(action='ignore',category='FutureWarning')"
      ],
      "execution_count": null,
      "outputs": []
    },
    {
      "cell_type": "code",
      "metadata": {
        "id": "wK8WABVpyU4A"
      },
      "source": [
        "df=pd.read_csv(r'/content/drive/MyDrive/Colab Notebooks/data.csv',encoding = 'unicode_escape')"
      ],
      "execution_count": null,
      "outputs": []
    },
    {
      "cell_type": "code",
      "metadata": {
        "colab": {
          "base_uri": "https://localhost:8080/"
        },
        "id": "dUYKumeWy9dt",
        "outputId": "182d06e1-653d-4136-9477-8af850d8ccbb"
      },
      "source": [
        "df.shape"
      ],
      "execution_count": null,
      "outputs": [
        {
          "output_type": "execute_result",
          "data": {
            "text/plain": [
              "(541909, 8)"
            ]
          },
          "metadata": {
            "tags": []
          },
          "execution_count": 3
        }
      ]
    },
    {
      "cell_type": "code",
      "metadata": {
        "colab": {
          "base_uri": "https://localhost:8080/",
          "height": 206
        },
        "id": "HLHUnYnCXuyb",
        "outputId": "83955f06-220a-43cc-db2c-27fbf68f1a9a"
      },
      "source": [
        "df.head()"
      ],
      "execution_count": null,
      "outputs": [
        {
          "output_type": "execute_result",
          "data": {
            "text/html": [
              "<div>\n",
              "<style scoped>\n",
              "    .dataframe tbody tr th:only-of-type {\n",
              "        vertical-align: middle;\n",
              "    }\n",
              "\n",
              "    .dataframe tbody tr th {\n",
              "        vertical-align: top;\n",
              "    }\n",
              "\n",
              "    .dataframe thead th {\n",
              "        text-align: right;\n",
              "    }\n",
              "</style>\n",
              "<table border=\"1\" class=\"dataframe\">\n",
              "  <thead>\n",
              "    <tr style=\"text-align: right;\">\n",
              "      <th></th>\n",
              "      <th>InvoiceNo</th>\n",
              "      <th>StockCode</th>\n",
              "      <th>Description</th>\n",
              "      <th>Quantity</th>\n",
              "      <th>InvoiceDate</th>\n",
              "      <th>UnitPrice</th>\n",
              "      <th>CustomerID</th>\n",
              "      <th>Country</th>\n",
              "    </tr>\n",
              "  </thead>\n",
              "  <tbody>\n",
              "    <tr>\n",
              "      <th>0</th>\n",
              "      <td>536365</td>\n",
              "      <td>85123A</td>\n",
              "      <td>WHITE HANGING HEART T-LIGHT HOLDER</td>\n",
              "      <td>6</td>\n",
              "      <td>12/1/2010 8:26</td>\n",
              "      <td>2.55</td>\n",
              "      <td>17850.0</td>\n",
              "      <td>United Kingdom</td>\n",
              "    </tr>\n",
              "    <tr>\n",
              "      <th>1</th>\n",
              "      <td>536365</td>\n",
              "      <td>71053</td>\n",
              "      <td>WHITE METAL LANTERN</td>\n",
              "      <td>6</td>\n",
              "      <td>12/1/2010 8:26</td>\n",
              "      <td>3.39</td>\n",
              "      <td>17850.0</td>\n",
              "      <td>United Kingdom</td>\n",
              "    </tr>\n",
              "    <tr>\n",
              "      <th>2</th>\n",
              "      <td>536365</td>\n",
              "      <td>84406B</td>\n",
              "      <td>CREAM CUPID HEARTS COAT HANGER</td>\n",
              "      <td>8</td>\n",
              "      <td>12/1/2010 8:26</td>\n",
              "      <td>2.75</td>\n",
              "      <td>17850.0</td>\n",
              "      <td>United Kingdom</td>\n",
              "    </tr>\n",
              "    <tr>\n",
              "      <th>3</th>\n",
              "      <td>536365</td>\n",
              "      <td>84029G</td>\n",
              "      <td>KNITTED UNION FLAG HOT WATER BOTTLE</td>\n",
              "      <td>6</td>\n",
              "      <td>12/1/2010 8:26</td>\n",
              "      <td>3.39</td>\n",
              "      <td>17850.0</td>\n",
              "      <td>United Kingdom</td>\n",
              "    </tr>\n",
              "    <tr>\n",
              "      <th>4</th>\n",
              "      <td>536365</td>\n",
              "      <td>84029E</td>\n",
              "      <td>RED WOOLLY HOTTIE WHITE HEART.</td>\n",
              "      <td>6</td>\n",
              "      <td>12/1/2010 8:26</td>\n",
              "      <td>3.39</td>\n",
              "      <td>17850.0</td>\n",
              "      <td>United Kingdom</td>\n",
              "    </tr>\n",
              "  </tbody>\n",
              "</table>\n",
              "</div>"
            ],
            "text/plain": [
              "  InvoiceNo StockCode  ... CustomerID         Country\n",
              "0    536365    85123A  ...    17850.0  United Kingdom\n",
              "1    536365     71053  ...    17850.0  United Kingdom\n",
              "2    536365    84406B  ...    17850.0  United Kingdom\n",
              "3    536365    84029G  ...    17850.0  United Kingdom\n",
              "4    536365    84029E  ...    17850.0  United Kingdom\n",
              "\n",
              "[5 rows x 8 columns]"
            ]
          },
          "metadata": {
            "tags": []
          },
          "execution_count": 4
        }
      ]
    },
    {
      "cell_type": "code",
      "metadata": {
        "id": "nH1WAWG6Xu4p"
      },
      "source": [
        "#Here from the initial understanding after looking the data, it contains both item and customer data.\n",
        "#So each cannot be diffrentiated by customer or item. but by telling thi sitem is purchased by this customer."
      ],
      "execution_count": null,
      "outputs": []
    },
    {
      "cell_type": "code",
      "metadata": {
        "id": "z7fRlVmuXu7T"
      },
      "source": [
        "#But for segmentation we need to focus on Customer centric.\n",
        "#Our job is to achieve customer-centric data, where each new row represents a unique customer whose attributes are listed in other columns."
      ],
      "execution_count": null,
      "outputs": []
    },
    {
      "cell_type": "code",
      "metadata": {
        "colab": {
          "base_uri": "https://localhost:8080/"
        },
        "id": "zSkH02m0Xu-I",
        "outputId": "b93753cd-8c76-4a4f-e8c1-ebc082d7e892"
      },
      "source": [
        "df.CustomerID.nunique() #As we have 4372 customer, so our final data should also have 4372 rows."
      ],
      "execution_count": null,
      "outputs": [
        {
          "output_type": "execute_result",
          "data": {
            "text/plain": [
              "4372"
            ]
          },
          "metadata": {
            "tags": []
          },
          "execution_count": 5
        }
      ]
    },
    {
      "cell_type": "code",
      "metadata": {
        "colab": {
          "base_uri": "https://localhost:8080/"
        },
        "id": "W9V5v3EIXvBG",
        "outputId": "67b4e74e-704d-404e-fbd0-6920aa089310"
      },
      "source": [
        "#Lets check for missing values.\n",
        "len(df)-len(df.dropna()) #This are the rows that would be dropped if we have deleted any row that as na."
      ],
      "execution_count": null,
      "outputs": [
        {
          "output_type": "execute_result",
          "data": {
            "text/plain": [
              "135080"
            ]
          },
          "metadata": {
            "tags": []
          },
          "execution_count": 6
        }
      ]
    },
    {
      "cell_type": "code",
      "metadata": {
        "colab": {
          "base_uri": "https://localhost:8080/"
        },
        "id": "Ojw2GnaueYiT",
        "outputId": "f3e288a5-1d35-461d-c0ed-360ee97e05c7"
      },
      "source": [
        "df.isna().sum()"
      ],
      "execution_count": null,
      "outputs": [
        {
          "output_type": "execute_result",
          "data": {
            "text/plain": [
              "InvoiceNo           0\n",
              "StockCode           0\n",
              "Description      1454\n",
              "Quantity            0\n",
              "InvoiceDate         0\n",
              "UnitPrice           0\n",
              "CustomerID     135080\n",
              "Country             0\n",
              "dtype: int64"
            ]
          },
          "metadata": {
            "tags": []
          },
          "execution_count": 7
        }
      ]
    },
    {
      "cell_type": "code",
      "metadata": {
        "id": "5_iPxMBYeYk_"
      },
      "source": [
        "#As Customer ID is missing, we can impute by using KNN or decision trees.\n",
        "#But imputing with median or other things wont work as the nature of customer id.\n",
        "#If we are computing the customer id then we need to be using high variance algorithm as the no of classes are more."
      ],
      "execution_count": null,
      "outputs": []
    },
    {
      "cell_type": "code",
      "metadata": {
        "id": "_bDPRj_VeYno"
      },
      "source": [
        "#But here lets drop the "
      ],
      "execution_count": null,
      "outputs": []
    },
    {
      "cell_type": "code",
      "metadata": {
        "id": "9skw52Rxp9HW"
      },
      "source": [
        "#df_pred=df[['StockCode','InvoiceNo','CustomerID']]"
      ],
      "execution_count": null,
      "outputs": []
    },
    {
      "cell_type": "code",
      "metadata": {
        "id": "hOvEMRmcp9KH"
      },
      "source": [
        "#x=df_pred.iloc[:,:2]\n",
        "#y=pd.DataFrame(df_pred.CustomerID)"
      ],
      "execution_count": null,
      "outputs": []
    },
    {
      "cell_type": "code",
      "metadata": {
        "colab": {
          "base_uri": "https://localhost:8080/"
        },
        "id": "eqNCLTbIhbGJ",
        "outputId": "c6b58167-5fe0-431e-fb9d-81c652bbdc1f"
      },
      "source": [
        "#Lets drop the rows in out example\n",
        "df=df.dropna(axis=0,how='any')\n",
        "df.shape"
      ],
      "execution_count": null,
      "outputs": [
        {
          "output_type": "execute_result",
          "data": {
            "text/plain": [
              "(406829, 8)"
            ]
          },
          "metadata": {
            "tags": []
          },
          "execution_count": 8
        }
      ]
    },
    {
      "cell_type": "code",
      "metadata": {
        "id": "jx64MdiezUcG"
      },
      "source": [
        "#Invoice No and stock code are irrelevant, so lets drop them.\n",
        "df.drop(['InvoiceNo','StockCode'],axis=1,inplace=True)"
      ],
      "execution_count": null,
      "outputs": []
    },
    {
      "cell_type": "code",
      "metadata": {
        "colab": {
          "base_uri": "https://localhost:8080/",
          "height": 206
        },
        "id": "Vsj9hyxm0ScT",
        "outputId": "8fac5c5b-c0c1-4459-ade3-c9efa9145b99"
      },
      "source": [
        "df.head()"
      ],
      "execution_count": null,
      "outputs": [
        {
          "output_type": "execute_result",
          "data": {
            "text/html": [
              "<div>\n",
              "<style scoped>\n",
              "    .dataframe tbody tr th:only-of-type {\n",
              "        vertical-align: middle;\n",
              "    }\n",
              "\n",
              "    .dataframe tbody tr th {\n",
              "        vertical-align: top;\n",
              "    }\n",
              "\n",
              "    .dataframe thead th {\n",
              "        text-align: right;\n",
              "    }\n",
              "</style>\n",
              "<table border=\"1\" class=\"dataframe\">\n",
              "  <thead>\n",
              "    <tr style=\"text-align: right;\">\n",
              "      <th></th>\n",
              "      <th>Description</th>\n",
              "      <th>Quantity</th>\n",
              "      <th>InvoiceDate</th>\n",
              "      <th>UnitPrice</th>\n",
              "      <th>CustomerID</th>\n",
              "      <th>Country</th>\n",
              "    </tr>\n",
              "  </thead>\n",
              "  <tbody>\n",
              "    <tr>\n",
              "      <th>0</th>\n",
              "      <td>WHITE HANGING HEART T-LIGHT HOLDER</td>\n",
              "      <td>6</td>\n",
              "      <td>12/1/2010 8:26</td>\n",
              "      <td>2.55</td>\n",
              "      <td>17850.0</td>\n",
              "      <td>United Kingdom</td>\n",
              "    </tr>\n",
              "    <tr>\n",
              "      <th>1</th>\n",
              "      <td>WHITE METAL LANTERN</td>\n",
              "      <td>6</td>\n",
              "      <td>12/1/2010 8:26</td>\n",
              "      <td>3.39</td>\n",
              "      <td>17850.0</td>\n",
              "      <td>United Kingdom</td>\n",
              "    </tr>\n",
              "    <tr>\n",
              "      <th>2</th>\n",
              "      <td>CREAM CUPID HEARTS COAT HANGER</td>\n",
              "      <td>8</td>\n",
              "      <td>12/1/2010 8:26</td>\n",
              "      <td>2.75</td>\n",
              "      <td>17850.0</td>\n",
              "      <td>United Kingdom</td>\n",
              "    </tr>\n",
              "    <tr>\n",
              "      <th>3</th>\n",
              "      <td>KNITTED UNION FLAG HOT WATER BOTTLE</td>\n",
              "      <td>6</td>\n",
              "      <td>12/1/2010 8:26</td>\n",
              "      <td>3.39</td>\n",
              "      <td>17850.0</td>\n",
              "      <td>United Kingdom</td>\n",
              "    </tr>\n",
              "    <tr>\n",
              "      <th>4</th>\n",
              "      <td>RED WOOLLY HOTTIE WHITE HEART.</td>\n",
              "      <td>6</td>\n",
              "      <td>12/1/2010 8:26</td>\n",
              "      <td>3.39</td>\n",
              "      <td>17850.0</td>\n",
              "      <td>United Kingdom</td>\n",
              "    </tr>\n",
              "  </tbody>\n",
              "</table>\n",
              "</div>"
            ],
            "text/plain": [
              "                           Description  Quantity  ... CustomerID         Country\n",
              "0   WHITE HANGING HEART T-LIGHT HOLDER         6  ...    17850.0  United Kingdom\n",
              "1                  WHITE METAL LANTERN         6  ...    17850.0  United Kingdom\n",
              "2       CREAM CUPID HEARTS COAT HANGER         8  ...    17850.0  United Kingdom\n",
              "3  KNITTED UNION FLAG HOT WATER BOTTLE         6  ...    17850.0  United Kingdom\n",
              "4       RED WOOLLY HOTTIE WHITE HEART.         6  ...    17850.0  United Kingdom\n",
              "\n",
              "[5 rows x 6 columns]"
            ]
          },
          "metadata": {
            "tags": []
          },
          "execution_count": 11
        }
      ]
    },
    {
      "cell_type": "code",
      "metadata": {
        "id": "jdm8sdy20Zhv"
      },
      "source": [
        "import re\n",
        "def clean(description):\n",
        "  return re.sub(r'[^\\w\\s]','',description).lower()"
      ],
      "execution_count": null,
      "outputs": []
    },
    {
      "cell_type": "code",
      "metadata": {
        "id": "DN9IZLtLLC7b"
      },
      "source": [
        "df['Description']=df['Description'].apply(clean)"
      ],
      "execution_count": null,
      "outputs": []
    },
    {
      "cell_type": "code",
      "metadata": {
        "colab": {
          "base_uri": "https://localhost:8080/",
          "height": 206
        },
        "id": "BqaK-edkbeeZ",
        "outputId": "8e46daa7-9140-4815-b478-51e2afdd0cb7"
      },
      "source": [
        "df.head()"
      ],
      "execution_count": null,
      "outputs": [
        {
          "output_type": "execute_result",
          "data": {
            "text/html": [
              "<div>\n",
              "<style scoped>\n",
              "    .dataframe tbody tr th:only-of-type {\n",
              "        vertical-align: middle;\n",
              "    }\n",
              "\n",
              "    .dataframe tbody tr th {\n",
              "        vertical-align: top;\n",
              "    }\n",
              "\n",
              "    .dataframe thead th {\n",
              "        text-align: right;\n",
              "    }\n",
              "</style>\n",
              "<table border=\"1\" class=\"dataframe\">\n",
              "  <thead>\n",
              "    <tr style=\"text-align: right;\">\n",
              "      <th></th>\n",
              "      <th>Description</th>\n",
              "      <th>Quantity</th>\n",
              "      <th>InvoiceDate</th>\n",
              "      <th>UnitPrice</th>\n",
              "      <th>CustomerID</th>\n",
              "      <th>Country</th>\n",
              "    </tr>\n",
              "  </thead>\n",
              "  <tbody>\n",
              "    <tr>\n",
              "      <th>0</th>\n",
              "      <td>white hanging heart tlight holder</td>\n",
              "      <td>6</td>\n",
              "      <td>12/1/2010 8:26</td>\n",
              "      <td>2.55</td>\n",
              "      <td>17850.0</td>\n",
              "      <td>United Kingdom</td>\n",
              "    </tr>\n",
              "    <tr>\n",
              "      <th>1</th>\n",
              "      <td>white metal lantern</td>\n",
              "      <td>6</td>\n",
              "      <td>12/1/2010 8:26</td>\n",
              "      <td>3.39</td>\n",
              "      <td>17850.0</td>\n",
              "      <td>United Kingdom</td>\n",
              "    </tr>\n",
              "    <tr>\n",
              "      <th>2</th>\n",
              "      <td>cream cupid hearts coat hanger</td>\n",
              "      <td>8</td>\n",
              "      <td>12/1/2010 8:26</td>\n",
              "      <td>2.75</td>\n",
              "      <td>17850.0</td>\n",
              "      <td>United Kingdom</td>\n",
              "    </tr>\n",
              "    <tr>\n",
              "      <th>3</th>\n",
              "      <td>knitted union flag hot water bottle</td>\n",
              "      <td>6</td>\n",
              "      <td>12/1/2010 8:26</td>\n",
              "      <td>3.39</td>\n",
              "      <td>17850.0</td>\n",
              "      <td>United Kingdom</td>\n",
              "    </tr>\n",
              "    <tr>\n",
              "      <th>4</th>\n",
              "      <td>red woolly hottie white heart</td>\n",
              "      <td>6</td>\n",
              "      <td>12/1/2010 8:26</td>\n",
              "      <td>3.39</td>\n",
              "      <td>17850.0</td>\n",
              "      <td>United Kingdom</td>\n",
              "    </tr>\n",
              "  </tbody>\n",
              "</table>\n",
              "</div>"
            ],
            "text/plain": [
              "                           Description  Quantity  ... CustomerID         Country\n",
              "0    white hanging heart tlight holder         6  ...    17850.0  United Kingdom\n",
              "1                  white metal lantern         6  ...    17850.0  United Kingdom\n",
              "2       cream cupid hearts coat hanger         8  ...    17850.0  United Kingdom\n",
              "3  knitted union flag hot water bottle         6  ...    17850.0  United Kingdom\n",
              "4        red woolly hottie white heart         6  ...    17850.0  United Kingdom\n",
              "\n",
              "[5 rows x 6 columns]"
            ]
          },
          "metadata": {
            "tags": []
          },
          "execution_count": 14
        }
      ]
    },
    {
      "cell_type": "code",
      "metadata": {
        "id": "PnmBGUAJbehf"
      },
      "source": [
        "df=df.reset_index().drop('index',axis=1)"
      ],
      "execution_count": null,
      "outputs": []
    },
    {
      "cell_type": "code",
      "metadata": {
        "id": "yoNo4hJ1beje"
      },
      "source": [
        "#Lets create a new column Total.\n",
        "df['Total']=df['Quantity']*df['UnitPrice']"
      ],
      "execution_count": null,
      "outputs": []
    },
    {
      "cell_type": "code",
      "metadata": {
        "id": "Bf4qXhP3bel3"
      },
      "source": [
        "#Lets vectorize the description\n",
        "#We can use TF-IDF vectorizer or Bag of words.\n",
        "#But as we are using data set lets go for bag of words.\n",
        "#Bag of words - is a way of extracting features from text for use in modeling,\n",
        "#which is more suited for long texts that have more redundant words. \n",
        "#It seems that every word in the description is a keyword of sorts, so vectorizing it simply with bag of words/count is the best way to go."
      ],
      "execution_count": null,
      "outputs": []
    },
    {
      "cell_type": "code",
      "metadata": {
        "colab": {
          "base_uri": "https://localhost:8080/",
          "height": 644
        },
        "id": "zt_2TyFE6J99",
        "outputId": "8888b02a-c1e6-4493-96ac-87069a6277f3"
      },
      "source": [
        "!pip install numpy scipy joblib scikit-learn --force-reinstall"
      ],
      "execution_count": null,
      "outputs": [
        {
          "output_type": "stream",
          "text": [
            "Collecting numpy\n",
            "  Using cached https://files.pythonhosted.org/packages/3f/03/c3526fb4e79a793498829ca570f2f868204ad9a8040afcd72d82a8f121db/numpy-1.21.0-cp37-cp37m-manylinux_2_12_x86_64.manylinux2010_x86_64.whl\n",
            "Collecting scipy\n",
            "  Using cached https://files.pythonhosted.org/packages/b2/85/b00f13b52d079b5625e1a12330fc6453c947a482ff667a907c7bc60ed220/scipy-1.7.0-cp37-cp37m-manylinux_2_5_x86_64.manylinux1_x86_64.whl\n",
            "Collecting joblib\n",
            "  Using cached https://files.pythonhosted.org/packages/55/85/70c6602b078bd9e6f3da4f467047e906525c355a4dacd4f71b97a35d9897/joblib-1.0.1-py3-none-any.whl\n",
            "Collecting scikit-learn\n",
            "  Using cached https://files.pythonhosted.org/packages/a8/eb/a48f25c967526b66d5f1fa7a984594f0bf0a5afafa94a8c4dbc317744620/scikit_learn-0.24.2-cp37-cp37m-manylinux2010_x86_64.whl\n",
            "Collecting threadpoolctl>=2.0.0\n",
            "  Using cached https://files.pythonhosted.org/packages/f7/12/ec3f2e203afa394a149911729357aa48affc59c20e2c1c8297a60f33f133/threadpoolctl-2.1.0-py3-none-any.whl\n",
            "\u001b[31mERROR: tensorflow 2.5.0 has requirement numpy~=1.19.2, but you'll have numpy 1.21.0 which is incompatible.\u001b[0m\n",
            "\u001b[31mERROR: datascience 0.10.6 has requirement folium==0.2.1, but you'll have folium 0.8.3 which is incompatible.\u001b[0m\n",
            "\u001b[31mERROR: albumentations 0.1.12 has requirement imgaug<0.2.7,>=0.2.5, but you'll have imgaug 0.2.9 which is incompatible.\u001b[0m\n",
            "Installing collected packages: numpy, scipy, joblib, threadpoolctl, scikit-learn\n",
            "  Found existing installation: numpy 1.21.0\n",
            "    Uninstalling numpy-1.21.0:\n",
            "      Successfully uninstalled numpy-1.21.0\n",
            "  Found existing installation: scipy 1.7.0\n",
            "    Uninstalling scipy-1.7.0:\n",
            "      Successfully uninstalled scipy-1.7.0\n",
            "  Found existing installation: joblib 1.0.1\n",
            "    Uninstalling joblib-1.0.1:\n",
            "      Successfully uninstalled joblib-1.0.1\n",
            "  Found existing installation: threadpoolctl 2.1.0\n",
            "    Uninstalling threadpoolctl-2.1.0:\n",
            "      Successfully uninstalled threadpoolctl-2.1.0\n",
            "  Found existing installation: scikit-learn 0.24.2\n",
            "    Uninstalling scikit-learn-0.24.2:\n",
            "      Successfully uninstalled scikit-learn-0.24.2\n",
            "Successfully installed joblib-1.0.1 numpy-1.21.0 scikit-learn-0.24.2 scipy-1.7.0 threadpoolctl-2.1.0\n"
          ],
          "name": "stdout"
        },
        {
          "output_type": "display_data",
          "data": {
            "application/vnd.colab-display-data+json": {
              "pip_warning": {
                "packages": [
                  "joblib",
                  "numpy",
                  "scipy",
                  "sklearn"
                ]
              }
            }
          },
          "metadata": {
            "tags": []
          }
        }
      ]
    },
    {
      "cell_type": "code",
      "metadata": {
        "id": "C36irdbQbeo4"
      },
      "source": [
        "from sklearn.feature_extraction.text import CountVectorizer\n",
        "vectorizer = CountVectorizer(stop_words='english') #Creating the object for count vectorizer and removing the stop words."
      ],
      "execution_count": null,
      "outputs": []
    },
    {
      "cell_type": "code",
      "metadata": {
        "id": "u_mxa44Ld_12",
        "colab": {
          "base_uri": "https://localhost:8080/"
        },
        "outputId": "26281d51-2ffb-42eb-df94-943f963ab855"
      },
      "source": [
        "descriptions=vectorizer.fit_transform(df['Description'])\n",
        "descriptions"
      ],
      "execution_count": null,
      "outputs": [
        {
          "output_type": "execute_result",
          "data": {
            "text/plain": [
              "<406829x2093 sparse matrix of type '<class 'numpy.int64'>'\n",
              "\twith 1640936 stored elements in Compressed Sparse Row format>"
            ]
          },
          "metadata": {
            "tags": []
          },
          "execution_count": 19
        }
      ]
    },
    {
      "cell_type": "code",
      "metadata": {
        "colab": {
          "base_uri": "https://localhost:8080/"
        },
        "id": "FUkq_gaed_4f",
        "outputId": "e58cd066-c261-443e-c9b1-8a2c778a93b2"
      },
      "source": [
        "#Lets create the clusters\n",
        "from sklearn.cluster import KMeans\n",
        "kmeans = KMeans(n_clusters=5)\n",
        "kmeans.fit(descriptions) #we are creating clusters based on descriptions."
      ],
      "execution_count": null,
      "outputs": [
        {
          "output_type": "execute_result",
          "data": {
            "text/plain": [
              "KMeans(n_clusters=5)"
            ]
          },
          "metadata": {
            "tags": []
          },
          "execution_count": 20
        }
      ]
    },
    {
      "cell_type": "code",
      "metadata": {
        "id": "edRFznypgeVP",
        "colab": {
          "base_uri": "https://localhost:8080/"
        },
        "outputId": "066ced58-cd41-4f5a-b302-bb741f581695"
      },
      "source": [
        "kmeans.labels_"
      ],
      "execution_count": null,
      "outputs": [
        {
          "output_type": "execute_result",
          "data": {
            "text/plain": [
              "array([1, 1, 3, ..., 3, 3, 0], dtype=int32)"
            ]
          },
          "metadata": {
            "tags": []
          },
          "execution_count": 21
        }
      ]
    },
    {
      "cell_type": "code",
      "metadata": {
        "id": "Qgyw2Jhsd_73"
      },
      "source": [
        "df['product']=kmeans.labels_"
      ],
      "execution_count": null,
      "outputs": []
    },
    {
      "cell_type": "code",
      "metadata": {
        "id": "CI6XG9wod_-X",
        "colab": {
          "base_uri": "https://localhost:8080/",
          "height": 206
        },
        "outputId": "18aa4969-dbfc-4958-90fa-12472b74c7f8"
      },
      "source": [
        "df.head()"
      ],
      "execution_count": null,
      "outputs": [
        {
          "output_type": "execute_result",
          "data": {
            "text/html": [
              "<div>\n",
              "<style scoped>\n",
              "    .dataframe tbody tr th:only-of-type {\n",
              "        vertical-align: middle;\n",
              "    }\n",
              "\n",
              "    .dataframe tbody tr th {\n",
              "        vertical-align: top;\n",
              "    }\n",
              "\n",
              "    .dataframe thead th {\n",
              "        text-align: right;\n",
              "    }\n",
              "</style>\n",
              "<table border=\"1\" class=\"dataframe\">\n",
              "  <thead>\n",
              "    <tr style=\"text-align: right;\">\n",
              "      <th></th>\n",
              "      <th>Description</th>\n",
              "      <th>Quantity</th>\n",
              "      <th>InvoiceDate</th>\n",
              "      <th>UnitPrice</th>\n",
              "      <th>CustomerID</th>\n",
              "      <th>Country</th>\n",
              "      <th>Total</th>\n",
              "      <th>product</th>\n",
              "    </tr>\n",
              "  </thead>\n",
              "  <tbody>\n",
              "    <tr>\n",
              "      <th>0</th>\n",
              "      <td>white hanging heart tlight holder</td>\n",
              "      <td>6</td>\n",
              "      <td>12/1/2010 8:26</td>\n",
              "      <td>2.55</td>\n",
              "      <td>17850.0</td>\n",
              "      <td>United Kingdom</td>\n",
              "      <td>15.30</td>\n",
              "      <td>1</td>\n",
              "    </tr>\n",
              "    <tr>\n",
              "      <th>1</th>\n",
              "      <td>white metal lantern</td>\n",
              "      <td>6</td>\n",
              "      <td>12/1/2010 8:26</td>\n",
              "      <td>3.39</td>\n",
              "      <td>17850.0</td>\n",
              "      <td>United Kingdom</td>\n",
              "      <td>20.34</td>\n",
              "      <td>1</td>\n",
              "    </tr>\n",
              "    <tr>\n",
              "      <th>2</th>\n",
              "      <td>cream cupid hearts coat hanger</td>\n",
              "      <td>8</td>\n",
              "      <td>12/1/2010 8:26</td>\n",
              "      <td>2.75</td>\n",
              "      <td>17850.0</td>\n",
              "      <td>United Kingdom</td>\n",
              "      <td>22.00</td>\n",
              "      <td>3</td>\n",
              "    </tr>\n",
              "    <tr>\n",
              "      <th>3</th>\n",
              "      <td>knitted union flag hot water bottle</td>\n",
              "      <td>6</td>\n",
              "      <td>12/1/2010 8:26</td>\n",
              "      <td>3.39</td>\n",
              "      <td>17850.0</td>\n",
              "      <td>United Kingdom</td>\n",
              "      <td>20.34</td>\n",
              "      <td>3</td>\n",
              "    </tr>\n",
              "    <tr>\n",
              "      <th>4</th>\n",
              "      <td>red woolly hottie white heart</td>\n",
              "      <td>6</td>\n",
              "      <td>12/1/2010 8:26</td>\n",
              "      <td>3.39</td>\n",
              "      <td>17850.0</td>\n",
              "      <td>United Kingdom</td>\n",
              "      <td>20.34</td>\n",
              "      <td>1</td>\n",
              "    </tr>\n",
              "  </tbody>\n",
              "</table>\n",
              "</div>"
            ],
            "text/plain": [
              "                           Description  Quantity  ...  Total  product\n",
              "0    white hanging heart tlight holder         6  ...  15.30        1\n",
              "1                  white metal lantern         6  ...  20.34        1\n",
              "2       cream cupid hearts coat hanger         8  ...  22.00        3\n",
              "3  knitted union flag hot water bottle         6  ...  20.34        3\n",
              "4        red woolly hottie white heart         6  ...  20.34        1\n",
              "\n",
              "[5 rows x 8 columns]"
            ]
          },
          "metadata": {
            "tags": []
          },
          "execution_count": 23
        }
      ]
    },
    {
      "cell_type": "code",
      "metadata": {
        "id": "kV4XEPtcs8qX"
      },
      "source": [
        "#But we need customer centric data which is quite difficult. Lets create the new data frame customer.\n",
        "#Currently, its only column will be unique values for CustomerID."
      ],
      "execution_count": null,
      "outputs": []
    },
    {
      "cell_type": "code",
      "metadata": {
        "id": "mENfVntttmS6"
      },
      "source": [
        "customers=pd.DataFrame({'CustomerID':df['CustomerID'].unique()})"
      ],
      "execution_count": null,
      "outputs": []
    },
    {
      "cell_type": "code",
      "metadata": {
        "colab": {
          "base_uri": "https://localhost:8080/"
        },
        "id": "46ujcjUCuV33",
        "outputId": "3254f673-9998-4e21-d7bf-a1dac87638e1"
      },
      "source": [
        "customers.shape"
      ],
      "execution_count": null,
      "outputs": [
        {
          "output_type": "execute_result",
          "data": {
            "text/plain": [
              "(4372, 1)"
            ]
          },
          "metadata": {
            "tags": []
          },
          "execution_count": 25
        }
      ]
    },
    {
      "cell_type": "code",
      "metadata": {
        "id": "QATOLr0iuW39"
      },
      "source": [
        "#Now we have got Customers, based on the cluster created based on the description we create new columns.\n",
        "customers['product 0']=0\n",
        "customers['product 1']=0\n",
        "customers['product 2']=0\n",
        "customers['product 3']=0\n",
        "customers['product 4']=0"
      ],
      "execution_count": null,
      "outputs": []
    },
    {
      "cell_type": "code",
      "metadata": {
        "colab": {
          "base_uri": "https://localhost:8080/",
          "height": 206
        },
        "id": "uljUNJjXwPhf",
        "outputId": "7ef7c0ae-b817-4583-ff0f-01a5a8659e2d"
      },
      "source": [
        "customers.head()"
      ],
      "execution_count": null,
      "outputs": [
        {
          "output_type": "execute_result",
          "data": {
            "text/html": [
              "<div>\n",
              "<style scoped>\n",
              "    .dataframe tbody tr th:only-of-type {\n",
              "        vertical-align: middle;\n",
              "    }\n",
              "\n",
              "    .dataframe tbody tr th {\n",
              "        vertical-align: top;\n",
              "    }\n",
              "\n",
              "    .dataframe thead th {\n",
              "        text-align: right;\n",
              "    }\n",
              "</style>\n",
              "<table border=\"1\" class=\"dataframe\">\n",
              "  <thead>\n",
              "    <tr style=\"text-align: right;\">\n",
              "      <th></th>\n",
              "      <th>CustomerID</th>\n",
              "      <th>product 0</th>\n",
              "      <th>product 1</th>\n",
              "      <th>product 2</th>\n",
              "      <th>product 3</th>\n",
              "      <th>product 4</th>\n",
              "    </tr>\n",
              "  </thead>\n",
              "  <tbody>\n",
              "    <tr>\n",
              "      <th>0</th>\n",
              "      <td>17850.0</td>\n",
              "      <td>0</td>\n",
              "      <td>0</td>\n",
              "      <td>0</td>\n",
              "      <td>0</td>\n",
              "      <td>0</td>\n",
              "    </tr>\n",
              "    <tr>\n",
              "      <th>1</th>\n",
              "      <td>13047.0</td>\n",
              "      <td>0</td>\n",
              "      <td>0</td>\n",
              "      <td>0</td>\n",
              "      <td>0</td>\n",
              "      <td>0</td>\n",
              "    </tr>\n",
              "    <tr>\n",
              "      <th>2</th>\n",
              "      <td>12583.0</td>\n",
              "      <td>0</td>\n",
              "      <td>0</td>\n",
              "      <td>0</td>\n",
              "      <td>0</td>\n",
              "      <td>0</td>\n",
              "    </tr>\n",
              "    <tr>\n",
              "      <th>3</th>\n",
              "      <td>13748.0</td>\n",
              "      <td>0</td>\n",
              "      <td>0</td>\n",
              "      <td>0</td>\n",
              "      <td>0</td>\n",
              "      <td>0</td>\n",
              "    </tr>\n",
              "    <tr>\n",
              "      <th>4</th>\n",
              "      <td>15100.0</td>\n",
              "      <td>0</td>\n",
              "      <td>0</td>\n",
              "      <td>0</td>\n",
              "      <td>0</td>\n",
              "      <td>0</td>\n",
              "    </tr>\n",
              "  </tbody>\n",
              "</table>\n",
              "</div>"
            ],
            "text/plain": [
              "   CustomerID  product 0  product 1  product 2  product 3  product 4\n",
              "0     17850.0          0          0          0          0          0\n",
              "1     13047.0          0          0          0          0          0\n",
              "2     12583.0          0          0          0          0          0\n",
              "3     13748.0          0          0          0          0          0\n",
              "4     15100.0          0          0          0          0          0"
            ]
          },
          "metadata": {
            "tags": []
          },
          "execution_count": 27
        }
      ]
    },
    {
      "cell_type": "code",
      "metadata": {
        "colab": {
          "base_uri": "https://localhost:8080/"
        },
        "id": "dYiZyLT-6t9M",
        "outputId": "076ddbb7-f5db-4c81-85a9-553303ba0bda"
      },
      "source": [
        "from tqdm import tqdm\n",
        "for index in tqdm(range(len(df))):\n",
        "    customerID = df.loc[index,'CustomerID']\n",
        "    product_category = df.loc[index,'product']\n",
        "    product_price = df.loc[index,'Total']\n",
        "    customers_table_index = customers[customers['CustomerID']==customerID].index[0]\n",
        "    customers.loc[customers_table_index, 'product'+' '+str(product_category)] += product_price"
      ],
      "execution_count": null,
      "outputs": [
        {
          "output_type": "stream",
          "text": [
            "100%|██████████| 406829/406829 [05:06<00:00, 1327.23it/s]\n"
          ],
          "name": "stderr"
        }
      ]
    },
    {
      "cell_type": "code",
      "metadata": {
        "id": "Yk3Oyqed6uHS"
      },
      "source": [
        "#tqdm is a python progress-tracking library that can help us gauge where the iteration is at during long loops. The index will allow us to index certain columns."
      ],
      "execution_count": null,
      "outputs": []
    },
    {
      "cell_type": "code",
      "metadata": {
        "id": "skqUaFvgawud"
      },
      "source": [
        "# The row whose customer ID matches the one we want to target’s product column has the product price added to it."
      ],
      "execution_count": null,
      "outputs": []
    },
    {
      "cell_type": "code",
      "metadata": {
        "id": "-lP2EAra-yys"
      },
      "source": [
        "#Creating Purchase History Descriptions\n",
        "#Creating purchase history description, like max, min, count, avg, sum.\n",
        "customers['purchasecount']=0\n",
        "customers['purchasemin']=0\n",
        "customers['purchasemax']=0\n",
        "customers['purchaseavg']=0\n",
        "customers['purchasesum']=0"
      ],
      "execution_count": null,
      "outputs": []
    },
    {
      "cell_type": "markdown",
      "metadata": {
        "id": "AsFKb7T4gguR"
      },
      "source": [
        "Let’s walk through the logic of what we want to do here. For each unique customer, we want to access all the (total) purchases that they’ve made. From there, if the history is stored in a NumPy array or a Pandas Series, attributes like the count, minimum, maximum, etc. can be easily called."
      ]
    },
    {
      "cell_type": "code",
      "metadata": {
        "colab": {
          "base_uri": "https://localhost:8080/"
        },
        "id": "IycMWWIyayHm",
        "outputId": "0cd33378-6f61-4512-ce10-e7bbee3c3624"
      },
      "source": [
        "from tqdm import tqdm\n",
        "for index in tqdm(range(len(customers))):\n",
        "  customerID=customers.loc[index,'CustomerID']\n",
        "  history=df[df['CustomerID']==customerID]['Total']\n",
        "  customers.loc[index,'purchasecount']=history.count()\n",
        "  customers.loc[index,'purchasemax']=history.max()\n",
        "  customers.loc[index,'purchasemin']=history.min()\n",
        "  customers.loc[index,'purchaseavg']=history.mean()\n",
        "  customers.loc[index,'purchasesum']=history.sum()"
      ],
      "execution_count": null,
      "outputs": [
        {
          "output_type": "stream",
          "text": [
            "100%|██████████| 4372/4372 [00:12<00:00, 343.88it/s]\n"
          ],
          "name": "stderr"
        }
      ]
    },
    {
      "cell_type": "code",
      "metadata": {
        "colab": {
          "base_uri": "https://localhost:8080/",
          "height": 206
        },
        "id": "p9SCKfdrayK7",
        "outputId": "fc21711b-5299-4c3c-f3d1-c5dc148c34a3"
      },
      "source": [
        "customers.head()"
      ],
      "execution_count": null,
      "outputs": [
        {
          "output_type": "execute_result",
          "data": {
            "text/html": [
              "<div>\n",
              "<style scoped>\n",
              "    .dataframe tbody tr th:only-of-type {\n",
              "        vertical-align: middle;\n",
              "    }\n",
              "\n",
              "    .dataframe tbody tr th {\n",
              "        vertical-align: top;\n",
              "    }\n",
              "\n",
              "    .dataframe thead th {\n",
              "        text-align: right;\n",
              "    }\n",
              "</style>\n",
              "<table border=\"1\" class=\"dataframe\">\n",
              "  <thead>\n",
              "    <tr style=\"text-align: right;\">\n",
              "      <th></th>\n",
              "      <th>CustomerID</th>\n",
              "      <th>product 0</th>\n",
              "      <th>product 1</th>\n",
              "      <th>product 2</th>\n",
              "      <th>product 3</th>\n",
              "      <th>product 4</th>\n",
              "      <th>purchasecount</th>\n",
              "      <th>purchasemin</th>\n",
              "      <th>purchasemax</th>\n",
              "      <th>purchaseavg</th>\n",
              "      <th>purchasesum</th>\n",
              "    </tr>\n",
              "  </thead>\n",
              "  <tbody>\n",
              "    <tr>\n",
              "      <th>0</th>\n",
              "      <td>17850.0</td>\n",
              "      <td>321.30</td>\n",
              "      <td>1506.44</td>\n",
              "      <td>0.0</td>\n",
              "      <td>3372.99</td>\n",
              "      <td>87.90</td>\n",
              "      <td>312</td>\n",
              "      <td>-30.60</td>\n",
              "      <td>107.25</td>\n",
              "      <td>16.950737</td>\n",
              "      <td>5288.63</td>\n",
              "    </tr>\n",
              "    <tr>\n",
              "      <th>1</th>\n",
              "      <td>13047.0</td>\n",
              "      <td>518.38</td>\n",
              "      <td>161.06</td>\n",
              "      <td>0.0</td>\n",
              "      <td>2399.66</td>\n",
              "      <td>0.00</td>\n",
              "      <td>196</td>\n",
              "      <td>-15.00</td>\n",
              "      <td>68.00</td>\n",
              "      <td>15.709694</td>\n",
              "      <td>3079.10</td>\n",
              "    </tr>\n",
              "    <tr>\n",
              "      <th>2</th>\n",
              "      <td>12583.0</td>\n",
              "      <td>1228.14</td>\n",
              "      <td>0.00</td>\n",
              "      <td>424.9</td>\n",
              "      <td>4932.28</td>\n",
              "      <td>602.02</td>\n",
              "      <td>251</td>\n",
              "      <td>-60.84</td>\n",
              "      <td>132.80</td>\n",
              "      <td>28.634821</td>\n",
              "      <td>7187.34</td>\n",
              "    </tr>\n",
              "    <tr>\n",
              "      <th>3</th>\n",
              "      <td>13748.0</td>\n",
              "      <td>52.08</td>\n",
              "      <td>34.30</td>\n",
              "      <td>0.0</td>\n",
              "      <td>861.87</td>\n",
              "      <td>0.00</td>\n",
              "      <td>28</td>\n",
              "      <td>9.36</td>\n",
              "      <td>204.00</td>\n",
              "      <td>33.866071</td>\n",
              "      <td>948.25</td>\n",
              "    </tr>\n",
              "    <tr>\n",
              "      <th>4</th>\n",
              "      <td>15100.0</td>\n",
              "      <td>0.00</td>\n",
              "      <td>0.00</td>\n",
              "      <td>0.0</td>\n",
              "      <td>635.10</td>\n",
              "      <td>0.00</td>\n",
              "      <td>6</td>\n",
              "      <td>-131.40</td>\n",
              "      <td>350.40</td>\n",
              "      <td>105.850000</td>\n",
              "      <td>635.10</td>\n",
              "    </tr>\n",
              "  </tbody>\n",
              "</table>\n",
              "</div>"
            ],
            "text/plain": [
              "   CustomerID  product 0  product 1  ...  purchasemax  purchaseavg  purchasesum\n",
              "0     17850.0     321.30    1506.44  ...       107.25    16.950737      5288.63\n",
              "1     13047.0     518.38     161.06  ...        68.00    15.709694      3079.10\n",
              "2     12583.0    1228.14       0.00  ...       132.80    28.634821      7187.34\n",
              "3     13748.0      52.08      34.30  ...       204.00    33.866071       948.25\n",
              "4     15100.0       0.00       0.00  ...       350.40   105.850000       635.10\n",
              "\n",
              "[5 rows x 11 columns]"
            ]
          },
          "metadata": {
            "tags": []
          },
          "execution_count": 32
        }
      ]
    },
    {
      "cell_type": "code",
      "metadata": {
        "id": "C3MhSwbqayNA"
      },
      "source": [
        "#We want to know if a customer is from the UK or not. This is simple enough — we’ll use the trusty set-and-input method."
      ],
      "execution_count": null,
      "outputs": []
    },
    {
      "cell_type": "code",
      "metadata": {
        "id": "cc1Qd3bDayPa"
      },
      "source": [
        "customers['Foreign'] = 0"
      ],
      "execution_count": null,
      "outputs": []
    },
    {
      "cell_type": "code",
      "metadata": {
        "colab": {
          "base_uri": "https://localhost:8080/"
        },
        "id": "z3WkNIiRCyw_",
        "outputId": "10814a91-d047-446f-9111-ffa7aaa6c405"
      },
      "source": [
        "for index in tqdm(range(len(customers))):\n",
        "    customerID = customers.loc[index,'CustomerID']\n",
        "    customerCountry = df[df['CustomerID']==customerID] .reset_index().loc[0,'Country']\n",
        "    if customerCountry == 'United Kingdom':\n",
        "        customers.loc[index,'Foreign'] = 0\n",
        "    else:\n",
        "        customers.loc[index,'Foreign'] = 1"
      ],
      "execution_count": null,
      "outputs": [
        {
          "output_type": "stream",
          "text": [
            "100%|██████████| 4372/4372 [00:09<00:00, 466.33it/s]\n"
          ],
          "name": "stderr"
        }
      ]
    },
    {
      "cell_type": "code",
      "metadata": {
        "colab": {
          "base_uri": "https://localhost:8080/",
          "height": 206
        },
        "id": "GGOUAIZyCy3v",
        "outputId": "9effd250-af79-4c2f-cd1e-980339f1f6bf"
      },
      "source": [
        "customers.head()"
      ],
      "execution_count": null,
      "outputs": [
        {
          "output_type": "execute_result",
          "data": {
            "text/html": [
              "<div>\n",
              "<style scoped>\n",
              "    .dataframe tbody tr th:only-of-type {\n",
              "        vertical-align: middle;\n",
              "    }\n",
              "\n",
              "    .dataframe tbody tr th {\n",
              "        vertical-align: top;\n",
              "    }\n",
              "\n",
              "    .dataframe thead th {\n",
              "        text-align: right;\n",
              "    }\n",
              "</style>\n",
              "<table border=\"1\" class=\"dataframe\">\n",
              "  <thead>\n",
              "    <tr style=\"text-align: right;\">\n",
              "      <th></th>\n",
              "      <th>CustomerID</th>\n",
              "      <th>product 0</th>\n",
              "      <th>product 1</th>\n",
              "      <th>product 2</th>\n",
              "      <th>product 3</th>\n",
              "      <th>product 4</th>\n",
              "      <th>purchasecount</th>\n",
              "      <th>purchasemin</th>\n",
              "      <th>purchasemax</th>\n",
              "      <th>purchaseavg</th>\n",
              "      <th>purchasesum</th>\n",
              "      <th>Foreign</th>\n",
              "    </tr>\n",
              "  </thead>\n",
              "  <tbody>\n",
              "    <tr>\n",
              "      <th>0</th>\n",
              "      <td>17850.0</td>\n",
              "      <td>321.30</td>\n",
              "      <td>1506.44</td>\n",
              "      <td>0.0</td>\n",
              "      <td>3372.99</td>\n",
              "      <td>87.90</td>\n",
              "      <td>312</td>\n",
              "      <td>-30.60</td>\n",
              "      <td>107.25</td>\n",
              "      <td>16.950737</td>\n",
              "      <td>5288.63</td>\n",
              "      <td>0</td>\n",
              "    </tr>\n",
              "    <tr>\n",
              "      <th>1</th>\n",
              "      <td>13047.0</td>\n",
              "      <td>518.38</td>\n",
              "      <td>161.06</td>\n",
              "      <td>0.0</td>\n",
              "      <td>2399.66</td>\n",
              "      <td>0.00</td>\n",
              "      <td>196</td>\n",
              "      <td>-15.00</td>\n",
              "      <td>68.00</td>\n",
              "      <td>15.709694</td>\n",
              "      <td>3079.10</td>\n",
              "      <td>0</td>\n",
              "    </tr>\n",
              "    <tr>\n",
              "      <th>2</th>\n",
              "      <td>12583.0</td>\n",
              "      <td>1228.14</td>\n",
              "      <td>0.00</td>\n",
              "      <td>424.9</td>\n",
              "      <td>4932.28</td>\n",
              "      <td>602.02</td>\n",
              "      <td>251</td>\n",
              "      <td>-60.84</td>\n",
              "      <td>132.80</td>\n",
              "      <td>28.634821</td>\n",
              "      <td>7187.34</td>\n",
              "      <td>1</td>\n",
              "    </tr>\n",
              "    <tr>\n",
              "      <th>3</th>\n",
              "      <td>13748.0</td>\n",
              "      <td>52.08</td>\n",
              "      <td>34.30</td>\n",
              "      <td>0.0</td>\n",
              "      <td>861.87</td>\n",
              "      <td>0.00</td>\n",
              "      <td>28</td>\n",
              "      <td>9.36</td>\n",
              "      <td>204.00</td>\n",
              "      <td>33.866071</td>\n",
              "      <td>948.25</td>\n",
              "      <td>0</td>\n",
              "    </tr>\n",
              "    <tr>\n",
              "      <th>4</th>\n",
              "      <td>15100.0</td>\n",
              "      <td>0.00</td>\n",
              "      <td>0.00</td>\n",
              "      <td>0.0</td>\n",
              "      <td>635.10</td>\n",
              "      <td>0.00</td>\n",
              "      <td>6</td>\n",
              "      <td>-131.40</td>\n",
              "      <td>350.40</td>\n",
              "      <td>105.850000</td>\n",
              "      <td>635.10</td>\n",
              "      <td>0</td>\n",
              "    </tr>\n",
              "  </tbody>\n",
              "</table>\n",
              "</div>"
            ],
            "text/plain": [
              "   CustomerID  product 0  product 1  ...  purchaseavg  purchasesum  Foreign\n",
              "0     17850.0     321.30    1506.44  ...    16.950737      5288.63        0\n",
              "1     13047.0     518.38     161.06  ...    15.709694      3079.10        0\n",
              "2     12583.0    1228.14       0.00  ...    28.634821      7187.34        1\n",
              "3     13748.0      52.08      34.30  ...    33.866071       948.25        0\n",
              "4     15100.0       0.00       0.00  ...   105.850000       635.10        0\n",
              "\n",
              "[5 rows x 12 columns]"
            ]
          },
          "metadata": {
            "tags": []
          },
          "execution_count": 46
        }
      ]
    },
    {
      "cell_type": "code",
      "metadata": {
        "id": "-EtccglHCy5f"
      },
      "source": [
        "#Our data is ready, now letrs create the clusters. Before that we need to scale the data.\n",
        "from sklearn.preprocessing import StandardScaler\n",
        "scaler = StandardScaler()\n",
        "scaled_customers = scaler.fit_transform(customers) #It will be numpy array."
      ],
      "execution_count": null,
      "outputs": []
    },
    {
      "cell_type": "code",
      "metadata": {
        "colab": {
          "base_uri": "https://localhost:8080/",
          "height": 206
        },
        "id": "zEQpcUYsCy8l",
        "outputId": "21b6c19c-d96f-4f20-cd93-ff70f64ab80e"
      },
      "source": [
        "scaled_customers=pd.DataFrame(scaled_customers,columns=customers.columns)\n",
        "scaled_customers.head()"
      ],
      "execution_count": null,
      "outputs": [
        {
          "output_type": "execute_result",
          "data": {
            "text/html": [
              "<div>\n",
              "<style scoped>\n",
              "    .dataframe tbody tr th:only-of-type {\n",
              "        vertical-align: middle;\n",
              "    }\n",
              "\n",
              "    .dataframe tbody tr th {\n",
              "        vertical-align: top;\n",
              "    }\n",
              "\n",
              "    .dataframe thead th {\n",
              "        text-align: right;\n",
              "    }\n",
              "</style>\n",
              "<table border=\"1\" class=\"dataframe\">\n",
              "  <thead>\n",
              "    <tr style=\"text-align: right;\">\n",
              "      <th></th>\n",
              "      <th>CustomerID</th>\n",
              "      <th>product 0</th>\n",
              "      <th>product 1</th>\n",
              "      <th>product 2</th>\n",
              "      <th>product 3</th>\n",
              "      <th>product 4</th>\n",
              "      <th>purchasecount</th>\n",
              "      <th>purchasemin</th>\n",
              "      <th>purchasemax</th>\n",
              "      <th>purchaseavg</th>\n",
              "      <th>purchasesum</th>\n",
              "      <th>Foreign</th>\n",
              "    </tr>\n",
              "  </thead>\n",
              "  <tbody>\n",
              "    <tr>\n",
              "      <th>0</th>\n",
              "      <td>1.480857</td>\n",
              "      <td>0.113867</td>\n",
              "      <td>0.822853</td>\n",
              "      <td>-0.122800</td>\n",
              "      <td>0.424056</td>\n",
              "      <td>-0.078515</td>\n",
              "      <td>0.941929</td>\n",
              "      <td>0.019410</td>\n",
              "      <td>-0.027050</td>\n",
              "      <td>-0.093381</td>\n",
              "      <td>0.412510</td>\n",
              "      <td>-0.326857</td>\n",
              "    </tr>\n",
              "    <tr>\n",
              "      <th>1</th>\n",
              "      <td>-1.308028</td>\n",
              "      <td>0.291915</td>\n",
              "      <td>-0.038868</td>\n",
              "      <td>-0.122800</td>\n",
              "      <td>0.232953</td>\n",
              "      <td>-0.156847</td>\n",
              "      <td>0.442886</td>\n",
              "      <td>0.024834</td>\n",
              "      <td>-0.040674</td>\n",
              "      <td>-0.103129</td>\n",
              "      <td>0.143658</td>\n",
              "      <td>-0.326857</td>\n",
              "    </tr>\n",
              "    <tr>\n",
              "      <th>2</th>\n",
              "      <td>-1.577452</td>\n",
              "      <td>0.933130</td>\n",
              "      <td>-0.142027</td>\n",
              "      <td>0.442666</td>\n",
              "      <td>0.730206</td>\n",
              "      <td>0.379643</td>\n",
              "      <td>0.679501</td>\n",
              "      <td>0.008896</td>\n",
              "      <td>-0.018181</td>\n",
              "      <td>-0.001604</td>\n",
              "      <td>0.643541</td>\n",
              "      <td>3.059443</td>\n",
              "    </tr>\n",
              "    <tr>\n",
              "      <th>3</th>\n",
              "      <td>-0.900989</td>\n",
              "      <td>-0.129353</td>\n",
              "      <td>-0.120058</td>\n",
              "      <td>-0.122800</td>\n",
              "      <td>-0.068975</td>\n",
              "      <td>-0.156847</td>\n",
              "      <td>-0.279865</td>\n",
              "      <td>0.033304</td>\n",
              "      <td>0.006533</td>\n",
              "      <td>0.039487</td>\n",
              "      <td>-0.115620</td>\n",
              "      <td>-0.326857</td>\n",
              "    </tr>\n",
              "    <tr>\n",
              "      <th>4</th>\n",
              "      <td>-0.115944</td>\n",
              "      <td>-0.176403</td>\n",
              "      <td>-0.142027</td>\n",
              "      <td>-0.122800</td>\n",
              "      <td>-0.113499</td>\n",
              "      <td>-0.156847</td>\n",
              "      <td>-0.374511</td>\n",
              "      <td>-0.015637</td>\n",
              "      <td>0.057349</td>\n",
              "      <td>0.604912</td>\n",
              "      <td>-0.153723</td>\n",
              "      <td>-0.326857</td>\n",
              "    </tr>\n",
              "  </tbody>\n",
              "</table>\n",
              "</div>"
            ],
            "text/plain": [
              "   CustomerID  product 0  product 1  ...  purchaseavg  purchasesum   Foreign\n",
              "0    1.480857   0.113867   0.822853  ...    -0.093381     0.412510 -0.326857\n",
              "1   -1.308028   0.291915  -0.038868  ...    -0.103129     0.143658 -0.326857\n",
              "2   -1.577452   0.933130  -0.142027  ...    -0.001604     0.643541  3.059443\n",
              "3   -0.900989  -0.129353  -0.120058  ...     0.039487    -0.115620 -0.326857\n",
              "4   -0.115944  -0.176403  -0.142027  ...     0.604912    -0.153723 -0.326857\n",
              "\n",
              "[5 rows x 12 columns]"
            ]
          },
          "metadata": {
            "tags": []
          },
          "execution_count": 52
        }
      ]
    },
    {
      "cell_type": "code",
      "metadata": {
        "id": "Oe_1t1XiHH9x"
      },
      "source": [
        "from sklearn.cluster import KMeans\n",
        "from sklearn.metrics import silhouette_score\n",
        "cluster_nums=[2,3,4,5,6,7]\n",
        "scores=[]\n",
        "for cluster_num in cluster_nums:\n",
        "  kmeans=KMeans(cluster_num)\n",
        "  kmeans.fit(scaled_customers)\n",
        "  clusters=kmeans.predict(scaled_customers)\n",
        "  silhouette = silhouette_score(scaled_customers, clusters)\n",
        "  scores.append(silhouette)"
      ],
      "execution_count": null,
      "outputs": []
    },
    {
      "cell_type": "code",
      "metadata": {
        "colab": {
          "base_uri": "https://localhost:8080/"
        },
        "id": "Owywb9A3HIqJ",
        "outputId": "a1594b01-55af-43b5-d28a-f0f105326a42"
      },
      "source": [
        "scores"
      ],
      "execution_count": null,
      "outputs": [
        {
          "output_type": "execute_result",
          "data": {
            "text/plain": [
              "[0.9477428990738933,\n",
              " 0.9521900635092116,\n",
              " 0.601552909663087,\n",
              " 0.6140448314014354,\n",
              " 0.42199512614474693,\n",
              " 0.42209851918359464]"
            ]
          },
          "metadata": {
            "tags": []
          },
          "execution_count": 64
        }
      ]
    },
    {
      "cell_type": "code",
      "metadata": {
        "colab": {
          "base_uri": "https://localhost:8080/",
          "height": 297
        },
        "id": "i9udl19aCy_R",
        "outputId": "ac59182b-65a6-4305-8b3f-f575b14b6a34"
      },
      "source": [
        "import seaborn as sns\n",
        "import matplotlib.pyplot as plt\n",
        "sns.set_style('whitegrid')\n",
        "plt.ylabel('Silhouette Score')\n",
        "plt.xlabel('Clusters')\n",
        "sns.lineplot(x=cluster_nums,y=scores)"
      ],
      "execution_count": null,
      "outputs": [
        {
          "output_type": "execute_result",
          "data": {
            "text/plain": [
              "<matplotlib.axes._subplots.AxesSubplot at 0x7f48d5298650>"
            ]
          },
          "metadata": {
            "tags": []
          },
          "execution_count": 66
        },
        {
          "output_type": "display_data",
          "data": {
            "image/png": "[encoded data removed]",
            "text/plain": [
              "<Figure size 432x288 with 1 Axes>"
            ]
          },
          "metadata": {
            "tags": []
          }
        }
      ]
    },
    {
      "cell_type": "markdown",
      "metadata": {
        "id": "yMzF57f6ImPb"
      },
      "source": [
        "2 and 3 clusters seem to have a similarly high silhouette score. We’ll use three clusters for now. We can train a three-cluster model for our cluster centers."
      ]
    },
    {
      "cell_type": "code",
      "metadata": {
        "colab": {
          "base_uri": "https://localhost:8080/"
        },
        "id": "X0TDlJoSCzC1",
        "outputId": "851f4270-a4a4-4ce7-9e40-94f1eee4f980"
      },
      "source": [
        "kmeans = KMeans(3)\n",
        "kmeans.fit(scaled_customers)"
      ],
      "execution_count": null,
      "outputs": [
        {
          "output_type": "execute_result",
          "data": {
            "text/plain": [
              "KMeans(n_clusters=3)"
            ]
          },
          "metadata": {
            "tags": []
          },
          "execution_count": 67
        }
      ]
    },
    {
      "cell_type": "code",
      "metadata": {
        "colab": {
          "base_uri": "https://localhost:8080/"
        },
        "id": "FPMw78zVIn13",
        "outputId": "ac1fb7c5-aa7b-4cec-b333-87d55accd8bf"
      },
      "source": [
        "#Analysis\n",
        "kmeans.cluster_centers_"
      ],
      "execution_count": null,
      "outputs": [
        {
          "output_type": "execute_result",
          "data": {
            "text/plain": [
              "array([[ 1.51397609e-01, -4.84773573e-02, -1.91813916e-02,\n",
              "        -2.69208702e-02, -3.81458550e-02, -1.82224110e-02,\n",
              "        -7.91679886e-03, -2.49629482e-05, -1.41488038e-03,\n",
              "        -2.51859782e-03, -3.87629122e-02, -3.26856915e-01],\n",
              "       [ 1.73637008e-01,  1.94738387e+01,  1.62537333e+01,\n",
              "         1.23809712e+01,  1.95473542e+01,  9.84938910e+00,\n",
              "         7.00296290e+00, -4.99816459e-01,  1.05045720e+00,\n",
              "         1.57298034e+00,  2.03016112e+01,  1.60817143e+00],\n",
              "       [-1.43249239e+00,  1.31634590e-01, -9.10698094e-02,\n",
              "         4.68657322e-02,  3.28473919e-02,  7.12471886e-03,\n",
              "        -4.25194622e-02,  8.60584682e-03, -4.23126211e-03,\n",
              "        -2.55970528e-03,  2.60429100e-02,  3.05944269e+00]])"
            ]
          },
          "metadata": {
            "tags": []
          },
          "execution_count": 71
        }
      ]
    },
    {
      "cell_type": "code",
      "metadata": {
        "colab": {
          "base_uri": "https://localhost:8080/",
          "height": 319
        },
        "id": "kT9BTx3GIn46",
        "outputId": "91db7216-43e4-4d00-d7e3-7591fe588e79"
      },
      "source": [
        "plt.figure(figsize=(15,3.5))\n",
        "sns.heatmap(scaler.inverse_transform(kmeans.cluster_centers_)\n",
        "[:,0:11],annot=True,yticklabels=['Cluster1','Cluster2','Cluster3'],xticklabels=scaled_customers.columns,cmap=\"YlGnBu\")"
      ],
      "execution_count": null,
      "outputs": [
        {
          "output_type": "execute_result",
          "data": {
            "text/plain": [
              "<matplotlib.axes._subplots.AxesSubplot at 0x7f48d03f4250>"
            ]
          },
          "metadata": {
            "tags": []
          },
          "execution_count": 91
        },
        {
          "output_type": "display_data",
          "data": {
            "image/png": "[encoded data removed]",
            "text/plain": [
              "<Figure size 1080x252 with 2 Axes>"
            ]
          },
          "metadata": {
            "tags": []
          }
        }
      ]
    },
    {
      "cell_type": "code",
      "metadata": {
        "id": "mhkmYSbDIn-v"
      },
      "source": [
        ""
      ],
      "execution_count": null,
      "outputs": []
    },
    {
      "cell_type": "code",
      "metadata": {
        "id": "cGsrUFjoIoBo"
      },
      "source": [
        ""
      ],
      "execution_count": null,
      "outputs": []
    }
  ]
}