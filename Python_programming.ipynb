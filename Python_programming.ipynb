{
  "nbformat": 4,
  "nbformat_minor": 0,
  "metadata": {
    "colab": {
      "name": "Python programming.ipynb",
      "provenance": [],
      "collapsed_sections": [],
      "authorship_tag": "ABX9TyN3X/xOm1ReD/lau2xhMNCO",
      "include_colab_link": true
    },
    "kernelspec": {
      "name": "python3",
      "display_name": "Python 3"
    },
    "language_info": {
      "name": "python"
    }
  },
  "cells": [
    {
      "cell_type": "markdown",
      "metadata": {
        "id": "view-in-github",
        "colab_type": "text"
      },
      "source": [
        "<a href=\"https://colab.research.google.com/github/abhi-lejon/Machine-learning/blob/master/Python_programming.ipynb\" target=\"_parent\"><img src=\"https://colab.research.google.com/assets/colab-badge.svg\" alt=\"Open In Colab\"/></a>"
      ]
    },
    {
      "cell_type": "code",
      "metadata": {
        "id": "KozcgiZWOJIp"
      },
      "source": [
        "#All fundamental data types are immutable int,float,complex,bool,string\n",
        "#0-256 objects are allocated by python virtual machine, anything above 257 new objects are created. \n",
        "#above 257 the comparision also not possible.\n",
        "#Bytes immutable\n",
        "#Byte array mutable\n",
        "#int string bool the reuseability is present, but for floating and complex the resue is not possible.\n",
        "#lIST-ORDER IS IMP, DUPLICATES ARE ALLOWED, DIFF DATA TYPES OBJECT ARE USED, MUTABLE (Append and extend is possible)\n",
        "#TUPLE- Same as list, but it is immutable\n",
        "#RANGE- commonly used data type immutable\n",
        "#SET=Order is not imp, dups are not allowed, mutable indexing is not possible in set (mutable means add and remove)\n",
        "#add and remove is possible in set\n",
        "#Frozen set immutable\n",
        "#Dict key value pair, update is used in dict. mutable\n",
        "#d.keys(),d.items(),d.values()\n",
        "#d1={} empty dict\n",
        "#d1=set{} empty set"
      ],
      "execution_count": null,
      "outputs": []
    },
    {
      "cell_type": "code",
      "metadata": {
        "colab": {
          "base_uri": "https://localhost:8080/"
        },
        "id": "il0Tnq73OLyg",
        "outputId": "2242e545-24a8-4b41-bc07-a6e391df3781"
      },
      "source": [
        "v1='abhi'\n",
        "v2='abhi'\n",
        "print(v1 is v2)\n",
        "print(v1==v2)\n",
        "print(id(v1)),print(id(v2)) ##For int,string and bool reuseability is possible.\n",
        "print(type(v1),type(v2))"
      ],
      "execution_count": null,
      "outputs": [
        {
          "output_type": "stream",
          "text": [
            "True\n",
            "True\n",
            "140610802982384\n",
            "140610802982384\n",
            "<class 'str'> <class 'str'>\n"
          ],
          "name": "stdout"
        }
      ]
    },
    {
      "cell_type": "code",
      "metadata": {
        "colab": {
          "base_uri": "https://localhost:8080/",
          "height": 35
        },
        "id": "ds5rv6R7OO5T",
        "outputId": "25a777ca-24b8-4539-9a14-bc57bd7d7790"
      },
      "source": [
        "a=\"Ernst\"\n",
        "a[7:8]"
      ],
      "execution_count": null,
      "outputs": [
        {
          "output_type": "execute_result",
          "data": {
            "application/vnd.google.colaboratory.intrinsic+json": {
              "type": "string"
            },
            "text/plain": [
              "''"
            ]
          },
          "metadata": {
            "tags": []
          },
          "execution_count": 27
        }
      ]
    },
    {
      "cell_type": "code",
      "metadata": {
        "id": "rWhxsRnQOSY1",
        "colab": {
          "base_uri": "https://localhost:8080/"
        },
        "outputId": "5079f1ed-e3ee-453c-9d99-13c236a07c5d"
      },
      "source": [
        "a=[] #Empty list returns empty list\n",
        "a"
      ],
      "execution_count": null,
      "outputs": [
        {
          "output_type": "execute_result",
          "data": {
            "text/plain": [
              "[]"
            ]
          },
          "metadata": {
            "tags": []
          },
          "execution_count": 2
        }
      ]
    },
    {
      "cell_type": "code",
      "metadata": {
        "id": "0CXxA4lsOVhj",
        "colab": {
          "base_uri": "https://localhost:8080/",
          "height": 183
        },
        "outputId": "2cf8a2a1-6113-4df5-c0e4-5385eca563ae"
      },
      "source": [
        "a=(1,2,3,4) ##Tuple is immutable\n",
        "a(10)"
      ],
      "execution_count": null,
      "outputs": [
        {
          "output_type": "error",
          "ename": "TypeError",
          "evalue": "ignored",
          "traceback": [
            "\u001b[0;31m---------------------------------------------------------------------------\u001b[0m",
            "\u001b[0;31mTypeError\u001b[0m                                 Traceback (most recent call last)",
            "\u001b[0;32m<ipython-input-3-361c7fc1829e>\u001b[0m in \u001b[0;36m<module>\u001b[0;34m()\u001b[0m\n\u001b[1;32m      1\u001b[0m \u001b[0ma\u001b[0m\u001b[0;34m=\u001b[0m\u001b[0;34m(\u001b[0m\u001b[0;36m1\u001b[0m\u001b[0;34m,\u001b[0m\u001b[0;36m2\u001b[0m\u001b[0;34m,\u001b[0m\u001b[0;36m3\u001b[0m\u001b[0;34m,\u001b[0m\u001b[0;36m4\u001b[0m\u001b[0;34m)\u001b[0m \u001b[0;31m##Tuple is immutable\u001b[0m\u001b[0;34m\u001b[0m\u001b[0;34m\u001b[0m\u001b[0m\n\u001b[0;32m----> 2\u001b[0;31m \u001b[0ma\u001b[0m\u001b[0;34m(\u001b[0m\u001b[0;36m10\u001b[0m\u001b[0;34m)\u001b[0m\u001b[0;34m\u001b[0m\u001b[0;34m\u001b[0m\u001b[0m\n\u001b[0m",
            "\u001b[0;31mTypeError\u001b[0m: 'tuple' object is not callable"
          ]
        }
      ]
    },
    {
      "cell_type": "code",
      "metadata": {
        "colab": {
          "base_uri": "https://localhost:8080/",
          "height": 201
        },
        "id": "p0Ir1i4TOVk-",
        "outputId": "2db4b365-bff4-4462-fe2b-142e8667a60d"
      },
      "source": [
        "a='Abhishek'##String is immutable\n",
        "a[0]='a'\n",
        "print(a)"
      ],
      "execution_count": null,
      "outputs": [
        {
          "output_type": "error",
          "ename": "TypeError",
          "evalue": "ignored",
          "traceback": [
            "\u001b[0;31m---------------------------------------------------------------------------\u001b[0m",
            "\u001b[0;31mTypeError\u001b[0m                                 Traceback (most recent call last)",
            "\u001b[0;32m<ipython-input-29-a4be24f1cef1>\u001b[0m in \u001b[0;36m<module>\u001b[0;34m()\u001b[0m\n\u001b[1;32m      1\u001b[0m \u001b[0ma\u001b[0m\u001b[0;34m=\u001b[0m\u001b[0;34m'Abhishek'\u001b[0m\u001b[0;31m##String is immutable\u001b[0m\u001b[0;34m\u001b[0m\u001b[0;34m\u001b[0m\u001b[0m\n\u001b[0;32m----> 2\u001b[0;31m \u001b[0ma\u001b[0m\u001b[0;34m[\u001b[0m\u001b[0;36m0\u001b[0m\u001b[0;34m]\u001b[0m\u001b[0;34m=\u001b[0m\u001b[0;34m'a'\u001b[0m\u001b[0;34m\u001b[0m\u001b[0;34m\u001b[0m\u001b[0m\n\u001b[0m\u001b[1;32m      3\u001b[0m \u001b[0mprint\u001b[0m\u001b[0;34m(\u001b[0m\u001b[0ma\u001b[0m\u001b[0;34m)\u001b[0m\u001b[0;34m\u001b[0m\u001b[0;34m\u001b[0m\u001b[0m\n",
            "\u001b[0;31mTypeError\u001b[0m: 'str' object does not support item assignment"
          ]
        }
      ]
    },
    {
      "cell_type": "code",
      "metadata": {
        "colab": {
          "base_uri": "https://localhost:8080/"
        },
        "id": "5Ct0xtNZOfDl",
        "outputId": "27ef15c2-6df8-43da-e2f3-7714cdb92cb6"
      },
      "source": [
        "list=[i for i in range(1,10)]\n",
        "print(list)\n",
        "list2=[i for i in range(11,20)]\n",
        "print(list2)"
      ],
      "execution_count": null,
      "outputs": [
        {
          "output_type": "stream",
          "text": [
            "[1, 2, 3, 4, 5, 6, 7, 8, 9]\n",
            "[11, 12, 13, 14, 15, 16, 17, 18, 19]\n"
          ],
          "name": "stdout"
        }
      ]
    },
    {
      "cell_type": "code",
      "metadata": {
        "id": "9lo9sNu46ME4",
        "colab": {
          "base_uri": "https://localhost:8080/"
        },
        "outputId": "1cb15f27-ad4e-4b88-e088-0a9485e3974a"
      },
      "source": [
        "x=1\n",
        "y=1\n",
        "print(x==y)\n",
        "print(x is y)\n",
        "print(id(x)),print(id(y)) ##For int,string and bool reuseability is possible."
      ],
      "execution_count": null,
      "outputs": [
        {
          "output_type": "stream",
          "text": [
            "True\n",
            "True\n",
            "94878918154752\n",
            "94878918154752\n"
          ],
          "name": "stdout"
        },
        {
          "output_type": "execute_result",
          "data": {
            "text/plain": [
              "(None, None)"
            ]
          },
          "metadata": {
            "tags": []
          },
          "execution_count": 5
        }
      ]
    },
    {
      "cell_type": "code",
      "metadata": {
        "id": "tco8UszN6MGx",
        "colab": {
          "base_uri": "https://localhost:8080/"
        },
        "outputId": "a41e352c-7b29-4234-cef7-aa5eb3174406"
      },
      "source": [
        "x=True\n",
        "y=True\n",
        "print(x==y)\n",
        "print(x is y)\n",
        "print(id(x)),print(id(y)) ##For int,string and bool reuseability is possible."
      ],
      "execution_count": null,
      "outputs": [
        {
          "output_type": "stream",
          "text": [
            "True\n",
            "True\n",
            "94878917480704\n",
            "94878917480704\n"
          ],
          "name": "stdout"
        },
        {
          "output_type": "execute_result",
          "data": {
            "text/plain": [
              "(None, None)"
            ]
          },
          "metadata": {
            "tags": []
          },
          "execution_count": 6
        }
      ]
    },
    {
      "cell_type": "code",
      "metadata": {
        "id": "qi6e_T8E6MJJ",
        "colab": {
          "base_uri": "https://localhost:8080/"
        },
        "outputId": "2cff79ba-8b0a-4e09-d2aa-d284f7a53cf1"
      },
      "source": [
        "##For float and complex reuseability is not possible.\n",
        "x=10.1\n",
        "y=10.1\n",
        "print(x==y) ##Content comparision\n",
        "print(x is y) ##Address comparision\n",
        "print(id(x)),print(id(y))"
      ],
      "execution_count": null,
      "outputs": [
        {
          "output_type": "stream",
          "text": [
            "True\n",
            "False\n",
            "140610673832752\n",
            "140610673832624\n"
          ],
          "name": "stdout"
        },
        {
          "output_type": "execute_result",
          "data": {
            "text/plain": [
              "(None, None)"
            ]
          },
          "metadata": {
            "tags": []
          },
          "execution_count": 7
        }
      ]
    },
    {
      "cell_type": "code",
      "metadata": {
        "id": "5rY2jMxI6MLR",
        "colab": {
          "base_uri": "https://localhost:8080/"
        },
        "outputId": "8f9f9878-def4-4dda-ae45-4ac3db152adb"
      },
      "source": [
        "##For float and complex reuseability is not possible.\n",
        "x=10+0j\n",
        "y=10+0j\n",
        "print(x==y)\n",
        "print(x is y)\n",
        "print(id(x)),print(id(y))"
      ],
      "execution_count": null,
      "outputs": [
        {
          "output_type": "stream",
          "text": [
            "True\n",
            "False\n",
            "140164685814576\n",
            "140164685814544\n"
          ],
          "name": "stdout"
        },
        {
          "output_type": "execute_result",
          "data": {
            "text/plain": [
              "(None, None)"
            ]
          },
          "metadata": {
            "tags": []
          },
          "execution_count": 8
        }
      ]
    },
    {
      "cell_type": "code",
      "metadata": {
        "id": "ILEQbIII6MQH",
        "colab": {
          "base_uri": "https://localhost:8080/"
        },
        "outputId": "4b56c9c2-46ba-46a6-af91-3ba1a31ebd75"
      },
      "source": [
        "l=[1,2,3,4]\n",
        "type(l)"
      ],
      "execution_count": null,
      "outputs": [
        {
          "output_type": "execute_result",
          "data": {
            "text/plain": [
              "list"
            ]
          },
          "metadata": {
            "tags": []
          },
          "execution_count": 9
        }
      ]
    },
    {
      "cell_type": "code",
      "metadata": {
        "id": "dU_jXjuI6MTU",
        "colab": {
          "base_uri": "https://localhost:8080/"
        },
        "outputId": "07177405-74a5-44a9-b785-4b2cdccb2573"
      },
      "source": [
        "x= 'abhi' if (10>20) else 'shek' #expr1 if condition else expr2\n",
        "print(x)"
      ],
      "execution_count": null,
      "outputs": [
        {
          "output_type": "stream",
          "text": [
            "shek\n"
          ],
          "name": "stdout"
        }
      ]
    },
    {
      "cell_type": "code",
      "metadata": {
        "id": "oQkMKoy96MWp",
        "colab": {
          "base_uri": "https://localhost:8080/"
        },
        "outputId": "277a0eba-f967-40df-ab4d-889143b74424"
      },
      "source": [
        "brand=input('Enter a string ')\n",
        "if brand=='kf':\n",
        "  print('Good')\n",
        "elif brand=='rc':\n",
        "  print('ok ok')\n",
        "else:\n",
        "  print('Not required')"
      ],
      "execution_count": null,
      "outputs": [
        {
          "output_type": "stream",
          "text": [
            "Enter a string rc\n",
            "ok ok\n"
          ],
          "name": "stdout"
        }
      ]
    },
    {
      "cell_type": "code",
      "metadata": {
        "colab": {
          "base_uri": "https://localhost:8080/"
        },
        "id": "5EMCMzm0FcXF",
        "outputId": "2fdd7b1d-6f3a-4cee-d303-cd4f64b7d052"
      },
      "source": [
        "#Count the number of characters\n",
        "s='Abhishek'\n",
        "count=0\n",
        "for x in s:\n",
        "  count+=1\n",
        "print(count)"
      ],
      "execution_count": null,
      "outputs": [
        {
          "output_type": "stream",
          "text": [
            "8\n"
          ],
          "name": "stdout"
        }
      ]
    },
    {
      "cell_type": "code",
      "metadata": {
        "colab": {
          "base_uri": "https://localhost:8080/"
        },
        "id": "Trh9CqnwFcZ-",
        "outputId": "b838f130-d252-4aff-966e-ae5a3de565a5"
      },
      "source": [
        "##Sum of n numbers\n",
        "n=3\n",
        "sum=0\n",
        "i=1\n",
        "while i<=n:\n",
        "  sum+=i\n",
        "  i=i+1\n",
        "print('The sum is ',sum)"
      ],
      "execution_count": null,
      "outputs": [
        {
          "output_type": "stream",
          "text": [
            "The sum is  6\n"
          ],
          "name": "stdout"
        }
      ]
    },
    {
      "cell_type": "code",
      "metadata": {
        "colab": {
          "base_uri": "https://localhost:8080/"
        },
        "id": "YUtzBP3EFccU",
        "outputId": "28aa6b50-7467-49f7-e201-7f207a4ef33c"
      },
      "source": [
        "#If input doesnot match keep on asking\n",
        "name=''\n",
        "while name!='Abhi':\n",
        "  name=input('Enter a name ')\n",
        "print(name)"
      ],
      "execution_count": null,
      "outputs": [
        {
          "output_type": "stream",
          "text": [
            "Enter a name Abhi\n",
            "Abhi\n"
          ],
          "name": "stdout"
        }
      ]
    },
    {
      "cell_type": "code",
      "metadata": {
        "colab": {
          "base_uri": "https://localhost:8080/"
        },
        "id": "4MCGboOFFckR",
        "outputId": "22411a24-0226-4e21-b41c-9d68ccf04332"
      },
      "source": [
        "#Example for infinite loop, to break the loop use break.\n",
        "i=0\n",
        "while True:\n",
        "  i=i+1\n",
        "  break\n",
        "print('Hello',i)"
      ],
      "execution_count": null,
      "outputs": [
        {
          "output_type": "stream",
          "text": [
            "Hello 1\n"
          ],
          "name": "stdout"
        }
      ]
    },
    {
      "cell_type": "code",
      "metadata": {
        "colab": {
          "base_uri": "https://localhost:8080/"
        },
        "id": "AuahTAjUFcmf",
        "outputId": "9cc2c57c-a34e-4c4e-e20a-870fd8f42e2b"
      },
      "source": [
        "for i in range(4): #row number\n",
        "  for j in range(4):#Column number\n",
        "    print('i={} and j={}'.format(i,j))"
      ],
      "execution_count": null,
      "outputs": [
        {
          "output_type": "stream",
          "text": [
            "i=0 and j=0\n",
            "i=0 and j=1\n",
            "i=0 and j=2\n",
            "i=0 and j=3\n",
            "i=1 and j=0\n",
            "i=1 and j=1\n",
            "i=1 and j=2\n",
            "i=1 and j=3\n",
            "i=2 and j=0\n",
            "i=2 and j=1\n",
            "i=2 and j=2\n",
            "i=2 and j=3\n",
            "i=3 and j=0\n",
            "i=3 and j=1\n",
            "i=3 and j=2\n",
            "i=3 and j=3\n"
          ],
          "name": "stdout"
        }
      ]
    },
    {
      "cell_type": "code",
      "metadata": {
        "id": "QMmN6ThG6MZi",
        "colab": {
          "base_uri": "https://localhost:8080/"
        },
        "outputId": "ac8a4fce-b07a-47d9-85b4-464de26c94a9"
      },
      "source": [
        "##print tree\n",
        "n=3\n",
        "for i in range(1,n+1):\n",
        "  for j in range(1,i+1):\n",
        "    print('i={} and j={}'.format(i,j))\n",
        "    print('*',end=' ')\n",
        "  print()"
      ],
      "execution_count": null,
      "outputs": [
        {
          "output_type": "stream",
          "text": [
            "i=1 and j=1\n",
            "* \n",
            "i=2 and j=1\n",
            "* i=2 and j=2\n",
            "* \n",
            "i=3 and j=1\n",
            "* i=3 and j=2\n",
            "* i=3 and j=3\n",
            "* \n"
          ],
          "name": "stdout"
        }
      ]
    },
    {
      "cell_type": "code",
      "metadata": {
        "id": "lrvSsjyI6McX",
        "colab": {
          "base_uri": "https://localhost:8080/"
        },
        "outputId": "4d8b0455-ccb0-4a0b-caaa-65ec4893af7e"
      },
      "source": [
        "n=3\n",
        "for i in range(n):\n",
        "  print('*'*n)"
      ],
      "execution_count": null,
      "outputs": [
        {
          "output_type": "stream",
          "text": [
            "***\n",
            "***\n",
            "***\n"
          ],
          "name": "stdout"
        }
      ]
    },
    {
      "cell_type": "code",
      "metadata": {
        "colab": {
          "base_uri": "https://localhost:8080/"
        },
        "id": "8ZcUqkCxMieQ",
        "outputId": "f2b34caa-1b1a-4b1a-f8cd-c436aa955d74"
      },
      "source": [
        "##xmas tree\n",
        "j=5\n",
        "for i in range(1,j,1):\n",
        "  print(' '*j+i*'*')\n",
        "  j=j-1"
      ],
      "execution_count": null,
      "outputs": [
        {
          "output_type": "stream",
          "text": [
            "     *\n",
            "    **\n",
            "   ***\n",
            "  ****\n"
          ],
          "name": "stdout"
        }
      ]
    },
    {
      "cell_type": "code",
      "metadata": {
        "colab": {
          "base_uri": "https://localhost:8080/"
        },
        "id": "609B1NOkPfR0",
        "outputId": "df7931d0-3fcf-45e9-bba2-02db6980d176"
      },
      "source": [
        "for i in range(4):\n",
        "  if i==3:\n",
        "    break\n",
        "print(i)"
      ],
      "execution_count": null,
      "outputs": [
        {
          "output_type": "stream",
          "text": [
            "3\n"
          ],
          "name": "stdout"
        }
      ]
    },
    {
      "cell_type": "code",
      "metadata": {
        "colab": {
          "base_uri": "https://localhost:8080/"
        },
        "id": "sabRmbNpPfUb",
        "outputId": "9b935701-41a5-4951-bb96-1525f0aa6de0"
      },
      "source": [
        "for i in range(10):\n",
        "  if i%2==0: #If i is even number so it will continue.\n",
        "    continue\n",
        "print(i)"
      ],
      "execution_count": null,
      "outputs": [
        {
          "output_type": "stream",
          "text": [
            "9\n"
          ],
          "name": "stdout"
        }
      ]
    },
    {
      "cell_type": "code",
      "metadata": {
        "colab": {
          "base_uri": "https://localhost:8080/"
        },
        "id": "AVrr1BIhPfXS",
        "outputId": "57ff37bb-1155-4dde-8e5a-7935e66f3b23"
      },
      "source": [
        "for i in range(100):\n",
        "  if i%10==0:\n",
        "    print(i)\n",
        "  else:\n",
        "    pass"
      ],
      "execution_count": null,
      "outputs": [
        {
          "output_type": "stream",
          "text": [
            "0\n",
            "10\n",
            "20\n",
            "30\n",
            "40\n",
            "50\n",
            "60\n",
            "70\n",
            "80\n",
            "90\n"
          ],
          "name": "stdout"
        }
      ]
    },
    {
      "cell_type": "code",
      "metadata": {
        "colab": {
          "base_uri": "https://localhost:8080/"
        },
        "id": "UcM1fn0OPfZp",
        "outputId": "ef5cf4d5-84a7-4ea2-dc09-a9d7e7c82ede"
      },
      "source": [
        "l=[1,2,3,4,5,6,7,8,9]\n",
        "l[:0:-1]"
      ],
      "execution_count": null,
      "outputs": [
        {
          "output_type": "execute_result",
          "data": {
            "text/plain": [
              "[9, 8, 7, 6, 5, 4, 3, 2]"
            ]
          },
          "metadata": {
            "tags": []
          },
          "execution_count": 58
        }
      ]
    },
    {
      "cell_type": "code",
      "metadata": {
        "colab": {
          "base_uri": "https://localhost:8080/"
        },
        "id": "g8_HOzVHMihJ",
        "outputId": "c00a5ec1-a10b-45cd-cc08-58d98afd1a3c"
      },
      "source": [
        "s=input('Enter a string ')\n",
        "n=len(s)\n",
        "i=0\n",
        "while i<n:\n",
        "  print(s[i],end=' ')\n",
        "  i=i+1"
      ],
      "execution_count": null,
      "outputs": [
        {
          "output_type": "stream",
          "text": [
            "Enter a string ABHI\n",
            "A B H I "
          ],
          "name": "stdout"
        }
      ]
    },
    {
      "cell_type": "code",
      "metadata": {
        "colab": {
          "base_uri": "https://localhost:8080/",
          "height": 201
        },
        "id": "I9CMOf3ZMij7",
        "outputId": "5f7053d7-3b8d-4b85-fa22-d8b038a226ef"
      },
      "source": [
        "l=[1,2]\n",
        "l+=3 #We cannot add integer directly to list.\n",
        "print(l)"
      ],
      "execution_count": null,
      "outputs": [
        {
          "output_type": "error",
          "ename": "TypeError",
          "evalue": "ignored",
          "traceback": [
            "\u001b[0;31m---------------------------------------------------------------------------\u001b[0m",
            "\u001b[0;31mTypeError\u001b[0m                                 Traceback (most recent call last)",
            "\u001b[0;32m<ipython-input-61-88f480a93c3c>\u001b[0m in \u001b[0;36m<module>\u001b[0;34m()\u001b[0m\n\u001b[1;32m      1\u001b[0m \u001b[0ml\u001b[0m\u001b[0;34m=\u001b[0m\u001b[0;34m[\u001b[0m\u001b[0;36m1\u001b[0m\u001b[0;34m,\u001b[0m\u001b[0;36m2\u001b[0m\u001b[0;34m]\u001b[0m\u001b[0;34m\u001b[0m\u001b[0;34m\u001b[0m\u001b[0m\n\u001b[0;32m----> 2\u001b[0;31m \u001b[0ml\u001b[0m\u001b[0;34m+=\u001b[0m\u001b[0;36m3\u001b[0m\u001b[0;34m\u001b[0m\u001b[0;34m\u001b[0m\u001b[0m\n\u001b[0m\u001b[1;32m      3\u001b[0m \u001b[0mprint\u001b[0m\u001b[0;34m(\u001b[0m\u001b[0ml\u001b[0m\u001b[0;34m)\u001b[0m\u001b[0;34m\u001b[0m\u001b[0;34m\u001b[0m\u001b[0m\n",
            "\u001b[0;31mTypeError\u001b[0m: 'int' object is not iterable"
          ]
        }
      ]
    },
    {
      "cell_type": "code",
      "metadata": {
        "colab": {
          "base_uri": "https://localhost:8080/",
          "height": 201
        },
        "id": "23ys5TKwIHpc",
        "outputId": "be42cfdb-f9b9-4603-9bad-e92bac54e824"
      },
      "source": [
        "l=[1,2]\n",
        "l=l[1]/3 # we can perfrom operation on existing list but using extend and append oly we can add other elements. Only on individual level we can work on list.\n",
        "print(l)"
      ],
      "execution_count": null,
      "outputs": [
        {
          "output_type": "error",
          "ename": "TypeError",
          "evalue": "ignored",
          "traceback": [
            "\u001b[0;31m---------------------------------------------------------------------------\u001b[0m",
            "\u001b[0;31mTypeError\u001b[0m                                 Traceback (most recent call last)",
            "\u001b[0;32m<ipython-input-13-1f1c22540bb0>\u001b[0m in \u001b[0;36m<module>\u001b[0;34m()\u001b[0m\n\u001b[1;32m      1\u001b[0m \u001b[0ml\u001b[0m\u001b[0;34m=\u001b[0m\u001b[0;34m[\u001b[0m\u001b[0;36m1\u001b[0m\u001b[0;34m,\u001b[0m\u001b[0;36m2\u001b[0m\u001b[0;34m]\u001b[0m\u001b[0;34m\u001b[0m\u001b[0;34m\u001b[0m\u001b[0m\n\u001b[0;32m----> 2\u001b[0;31m \u001b[0ml\u001b[0m\u001b[0;34m=\u001b[0m\u001b[0ml\u001b[0m\u001b[0;34m/\u001b[0m\u001b[0;36m3\u001b[0m \u001b[0;31m# we can perfrom operation on existing list but using extend and append oly we can add other elements.\u001b[0m\u001b[0;34m\u001b[0m\u001b[0;34m\u001b[0m\u001b[0m\n\u001b[0m\u001b[1;32m      3\u001b[0m \u001b[0mprint\u001b[0m\u001b[0;34m(\u001b[0m\u001b[0ml\u001b[0m\u001b[0;34m)\u001b[0m\u001b[0;34m\u001b[0m\u001b[0;34m\u001b[0m\u001b[0m\n",
            "\u001b[0;31mTypeError\u001b[0m: unsupported operand type(s) for /: 'list' and 'int'"
          ]
        }
      ]
    },
    {
      "cell_type": "code",
      "metadata": {
        "colab": {
          "base_uri": "https://localhost:8080/"
        },
        "id": "L5EgRymXMimH",
        "outputId": "9f88e65e-2178-4b5d-c0a1-9b32c0618139"
      },
      "source": [
        "#I/P B4A1d3\n",
        "#O/P ABD134\n",
        "s=input('Enter a string ')\n",
        "s1=''\n",
        "s2=''\n",
        "output=''\n",
        "for x in s:\n",
        "  if x.isalpha():\n",
        "      s1=s1+x #can concatenate only string\n",
        "  else:\n",
        "    s2=s2+x\n",
        "print(s1)\n",
        "print(s2)\n",
        "for x in sorted(s1):\n",
        "  output=output+x\n",
        "for x in sorted(s2):\n",
        "  output=output+x\n",
        "\n",
        "print(output)\n"
      ],
      "execution_count": null,
      "outputs": [
        {
          "output_type": "stream",
          "text": [
            "Enter a string B4A1d3\n",
            "BAd\n",
            "413\n",
            "ABd134\n"
          ],
          "name": "stdout"
        }
      ]
    },
    {
      "cell_type": "code",
      "metadata": {
        "colab": {
          "base_uri": "https://localhost:8080/"
        },
        "id": "Fw2iv2dgMioX",
        "outputId": "aadce045-3606-458c-84f0-4bd7a060b160"
      },
      "source": [
        "##I/P a4b3c2\n",
        "##O/P aaaabbbcc\n",
        "s=input('Enter a string ')\n",
        "output=''\n",
        "for x in s:\n",
        "  if x.isalpha():\n",
        "    output+=x\n",
        "    previous=x\n",
        "  else:\n",
        "    output=output+previous*(int(x)-1)\n",
        "print(output)"
      ],
      "execution_count": null,
      "outputs": [
        {
          "output_type": "stream",
          "text": [
            "Enter a string a4b3c2\n",
            "aaaabbbcc\n"
          ],
          "name": "stdout"
        }
      ]
    },
    {
      "cell_type": "code",
      "metadata": {
        "id": "8bIeWS8Y6MfS",
        "colab": {
          "base_uri": "https://localhost:8080/"
        },
        "outputId": "15cf644c-6edd-47ff-d72a-8bd876b028b6"
      },
      "source": [
        "##I/P a4k3b2\n",
        "##O/P aeknbd\n",
        "s=input('Enter a string ')\n",
        "output=''\n",
        "for x in s:\n",
        "  if x.isalpha():\n",
        "    output=output+x\n",
        "    previous=x\n",
        "    a=ord(previous)\n",
        "  else:\n",
        "    output=output+chr(a+int(x))\n",
        "print(output)"
      ],
      "execution_count": null,
      "outputs": [
        {
          "output_type": "stream",
          "text": [
            "Enter a string a4k3b2\n",
            "aeknbd\n"
          ],
          "name": "stdout"
        }
      ]
    },
    {
      "cell_type": "code",
      "metadata": {
        "colab": {
          "base_uri": "https://localhost:8080/"
        },
        "id": "kadWc1RePJyB",
        "outputId": "482dfb82-b18a-4305-f225-e5394ed2a477"
      },
      "source": [
        "ord('a'),chr(97),ord('A')"
      ],
      "execution_count": null,
      "outputs": [
        {
          "output_type": "execute_result",
          "data": {
            "text/plain": [
              "(97, 'a', 65)"
            ]
          },
          "metadata": {
            "tags": []
          },
          "execution_count": 22
        }
      ]
    },
    {
      "cell_type": "code",
      "metadata": {
        "colab": {
          "base_uri": "https://localhost:8080/"
        },
        "id": "KOFnAM7_vAWk",
        "outputId": "ad24e9a4-5f93-469a-db47-161af21e8d01"
      },
      "source": [
        "##I/P - ABHI SHEk\n",
        "##O/P - ASBHHEIK\n",
        "s1=input('Enter a string1 ')\n",
        "s2=input('Enter a string2 ')\n",
        "i=j=0\n",
        "output=''\n",
        "while i<len(s1) or j<len(s2):\n",
        "  output=output+s1[i]+s2[j]\n",
        "  i=i+1\n",
        "  j=j+1\n",
        "print(output)"
      ],
      "execution_count": null,
      "outputs": [
        {
          "output_type": "stream",
          "text": [
            "Enter a string1 ABHI\n",
            "Enter a string2 SHEk\n",
            "ASBHHEIk\n"
          ],
          "name": "stdout"
        }
      ]
    },
    {
      "cell_type": "code",
      "metadata": {
        "colab": {
          "base_uri": "https://localhost:8080/"
        },
        "id": "pBZz41XO2-WH",
        "outputId": "4df242ef-5e80-42c2-c389-bb28cd6c8859"
      },
      "source": [
        "s1=input('Enter a string1 ')\n",
        "s2=input('Enter a string2 ')\n",
        "output=''\n",
        "i=j=0\n",
        "while i<len(s1) or j<len(s2):\n",
        "  if i<len(s1):\n",
        "    output=output+s1[i]\n",
        "    i=i+1\n",
        "  if j<len(s2):\n",
        "    output=output+s2[j]\n",
        "    j=j+1\n",
        "print(output)"
      ],
      "execution_count": null,
      "outputs": [
        {
          "output_type": "stream",
          "text": [
            "Enter a string1 ABHI\n",
            "Enter a string2 SHEK\n",
            "ASBHHEIK\n"
          ],
          "name": "stdout"
        }
      ]
    },
    {
      "cell_type": "code",
      "metadata": {
        "colab": {
          "base_uri": "https://localhost:8080/"
        },
        "id": "xmlhzwQG4qtY",
        "outputId": "59723e14-758b-43db-bbb4-26a071c31bab"
      },
      "source": [
        "list=[1,2,3,4,5]\n",
        "i=0\n",
        "while i<len(list):\n",
        "  print(list[i])\n",
        "  i=i+1"
      ],
      "execution_count": null,
      "outputs": [
        {
          "output_type": "stream",
          "text": [
            "1\n",
            "2\n",
            "3\n",
            "4\n",
            "5\n"
          ],
          "name": "stdout"
        }
      ]
    },
    {
      "cell_type": "code",
      "metadata": {
        "colab": {
          "base_uri": "https://localhost:8080/"
        },
        "id": "jGn2fQjv4qwM",
        "outputId": "89c9e097-57e7-4574-b777-d8d6efa1c6f3"
      },
      "source": [
        "list=[1,2,3,4,5]\n",
        "x=len(list)\n",
        "for i in range(x):\n",
        "  print(list[i], 'is available at positive index',i,'and at negative index',i-x)"
      ],
      "execution_count": null,
      "outputs": [
        {
          "output_type": "stream",
          "text": [
            "0\n",
            "1 is available at positive index 0 and at negative index -5\n",
            "1\n",
            "2 is available at positive index 1 and at negative index -4\n",
            "2\n",
            "3 is available at positive index 2 and at negative index -3\n",
            "3\n",
            "4 is available at positive index 3 and at negative index -2\n",
            "4\n",
            "5 is available at positive index 4 and at negative index -1\n"
          ],
          "name": "stdout"
        }
      ]
    },
    {
      "cell_type": "code",
      "metadata": {
        "colab": {
          "base_uri": "https://localhost:8080/",
          "height": 357
        },
        "id": "QiJmEde34qyS",
        "outputId": "60399920-4fb7-42b1-a19b-0370342ca013"
      },
      "source": [
        "l=[1,2,3,4,5]\n",
        "print(l.count(2))\n",
        "l.append([10,11]) #It adds to the list (sublist)\n",
        "print(l)\n",
        "l.insert(3,20) #At the particular index position inserts the value.\n",
        "print(l)\n",
        "l.extend([100,200]) #Like extending\n",
        "print(l)\n",
        "##l.sort()\n",
        "##print(l)\n",
        "l.remove(2) # Removes particular value.\n",
        "print(l)\n",
        "#l.remove(55) #If no element gives error.\n",
        "#print(l)\n",
        "l.pop() #Removes last element\n",
        "print(l)\n",
        "l.pop(5) #Removes value at index position 5\n",
        "print(l)\n",
        "l.clear()\n",
        "print(l)"
      ],
      "execution_count": null,
      "outputs": [
        {
          "output_type": "stream",
          "text": [
            "1\n",
            "[1, 2, 3, 4, 5, [10, 11]]\n",
            "[1, 2, 3, 20, 4, 5, [10, 11]]\n",
            "[1, 2, 3, 20, 4, 5, [10, 11], 100, 200]\n",
            "[1, 3, 20, 4, 5, [10, 11], 100, 200]\n",
            "[1, 3, 20, 4, 5, [10, 11], 100]\n",
            "[1, 3, 20, 4, 5, 100]\n"
          ],
          "name": "stdout"
        },
        {
          "output_type": "error",
          "ename": "AttributeError",
          "evalue": "ignored",
          "traceback": [
            "\u001b[0;31m---------------------------------------------------------------------------\u001b[0m",
            "\u001b[0;31mAttributeError\u001b[0m                            Traceback (most recent call last)",
            "\u001b[0;32m<ipython-input-29-77c35affcfcd>\u001b[0m in \u001b[0;36m<module>\u001b[0;34m()\u001b[0m\n\u001b[1;32m     17\u001b[0m \u001b[0ml\u001b[0m\u001b[0;34m.\u001b[0m\u001b[0mpop\u001b[0m\u001b[0;34m(\u001b[0m\u001b[0;36m5\u001b[0m\u001b[0;34m)\u001b[0m \u001b[0;31m#Removes value at index position 5\u001b[0m\u001b[0;34m\u001b[0m\u001b[0;34m\u001b[0m\u001b[0m\n\u001b[1;32m     18\u001b[0m \u001b[0mprint\u001b[0m\u001b[0;34m(\u001b[0m\u001b[0ml\u001b[0m\u001b[0;34m)\u001b[0m\u001b[0;34m\u001b[0m\u001b[0;34m\u001b[0m\u001b[0m\n\u001b[0;32m---> 19\u001b[0;31m \u001b[0ml\u001b[0m\u001b[0;34m.\u001b[0m\u001b[0mupdate\u001b[0m\u001b[0;34m(\u001b[0m\u001b[0;36m100\u001b[0m\u001b[0;34m)\u001b[0m\u001b[0;34m\u001b[0m\u001b[0;34m\u001b[0m\u001b[0m\n\u001b[0m\u001b[1;32m     20\u001b[0m \u001b[0mprint\u001b[0m\u001b[0;34m(\u001b[0m\u001b[0ml\u001b[0m\u001b[0;34m)\u001b[0m\u001b[0;34m\u001b[0m\u001b[0;34m\u001b[0m\u001b[0m\n\u001b[1;32m     21\u001b[0m \u001b[0ml\u001b[0m\u001b[0;34m.\u001b[0m\u001b[0mclear\u001b[0m\u001b[0;34m(\u001b[0m\u001b[0;34m)\u001b[0m\u001b[0;34m\u001b[0m\u001b[0;34m\u001b[0m\u001b[0m\n",
            "\u001b[0;31mAttributeError\u001b[0m: 'list' object has no attribute 'update'"
          ]
        }
      ]
    },
    {
      "cell_type": "markdown",
      "metadata": {
        "id": "-kYTKtr1d9hM"
      },
      "source": [
        "List Compherension\n"
      ]
    },
    {
      "cell_type": "markdown",
      "metadata": {
        "id": "xzHPWjxueRIj"
      },
      "source": [
        "[expression for loop condition(if,while....)]"
      ]
    },
    {
      "cell_type": "code",
      "metadata": {
        "colab": {
          "base_uri": "https://localhost:8080/"
        },
        "id": "u44fWhW5eTrT",
        "outputId": "fe95c955-3479-4681-dac8-707e98c1bff2"
      },
      "source": [
        "even_numbers=[i*2 for i in range(10) if i%2==0]\n",
        "even_numbers"
      ],
      "execution_count": null,
      "outputs": [
        {
          "output_type": "execute_result",
          "data": {
            "text/plain": [
              "[0, 4, 8, 12, 16]"
            ]
          },
          "metadata": {
            "tags": []
          },
          "execution_count": 113
        }
      ]
    },
    {
      "cell_type": "code",
      "metadata": {
        "colab": {
          "base_uri": "https://localhost:8080/",
          "height": 235
        },
        "id": "1aFahlfSgspU",
        "outputId": "d83e5e83-6c5d-48d2-8f2c-03e93d081066"
      },
      "source": [
        "t1=(10,20,30,40,50)\n",
        "t2=tuple(sorted(t1))\n",
        "print(t1)\n",
        "print(t2)\n",
        "import operator\n",
        "cmp(t1,t2) #If both are equal returns zero, t1<t2 returns -1, t1>t2 returns +1. #cmp doesnot work in py3. so we need to define it."
      ],
      "execution_count": null,
      "outputs": [
        {
          "output_type": "stream",
          "text": [
            "(10, 20, 30, 40, 50)\n",
            "(10, 20, 30, 40, 50)\n"
          ],
          "name": "stdout"
        },
        {
          "output_type": "error",
          "ename": "NameError",
          "evalue": "ignored",
          "traceback": [
            "\u001b[0;31m---------------------------------------------------------------------------\u001b[0m",
            "\u001b[0;31mNameError\u001b[0m                                 Traceback (most recent call last)",
            "\u001b[0;32m<ipython-input-31-642f2754875d>\u001b[0m in \u001b[0;36m<module>\u001b[0;34m()\u001b[0m\n\u001b[1;32m      4\u001b[0m \u001b[0mprint\u001b[0m\u001b[0;34m(\u001b[0m\u001b[0mt2\u001b[0m\u001b[0;34m)\u001b[0m\u001b[0;34m\u001b[0m\u001b[0;34m\u001b[0m\u001b[0m\n\u001b[1;32m      5\u001b[0m \u001b[0;32mimport\u001b[0m \u001b[0moperator\u001b[0m\u001b[0;34m\u001b[0m\u001b[0;34m\u001b[0m\u001b[0m\n\u001b[0;32m----> 6\u001b[0;31m \u001b[0mlt\u001b[0m\u001b[0;34m(\u001b[0m\u001b[0mt1\u001b[0m\u001b[0;34m,\u001b[0m\u001b[0mt2\u001b[0m\u001b[0;34m)\u001b[0m \u001b[0;31m#If both are equal returns zero, t1<t2 returns -1, t1>t2 returns +1.\u001b[0m\u001b[0;34m\u001b[0m\u001b[0;34m\u001b[0m\u001b[0m\n\u001b[0m",
            "\u001b[0;31mNameError\u001b[0m: name 'lt' is not defined"
          ]
        }
      ]
    },
    {
      "cell_type": "code",
      "metadata": {
        "colab": {
          "base_uri": "https://localhost:8080/"
        },
        "id": "27u04p-NUOzU",
        "outputId": "b24333b8-b4ed-4bb8-b4fd-bfb025bd68c0"
      },
      "source": [
        "t1=(10,20,30,40,50)\n",
        "#t2=tuple(sorted(t1))\n",
        "t2=(1,2,3,4,5)\n",
        "def cmp(t1, t2):\n",
        "    return (t1 > t2) - (t1 < t2) \n",
        "\n",
        "cmp(t1, t2)"
      ],
      "execution_count": null,
      "outputs": [
        {
          "output_type": "execute_result",
          "data": {
            "text/plain": [
              "1"
            ]
          },
          "metadata": {
            "tags": []
          },
          "execution_count": 34
        }
      ]
    },
    {
      "cell_type": "code",
      "metadata": {
        "colab": {
          "base_uri": "https://localhost:8080/"
        },
        "id": "O4sVnnJ1gsro",
        "outputId": "59390229-56c8-4c22-b235-0178a32ee116"
      },
      "source": [
        "w=input('Enter a word ')\n",
        "s=set(w)\n",
        "v={'a','e','i','o','u'}\n",
        "d=s.intersection(v)   \n",
        "print('The vowels are ',d)"
      ],
      "execution_count": null,
      "outputs": [
        {
          "output_type": "stream",
          "text": [
            "Enter a word abhi\n",
            "teh vowels are  {'i', 'a'}\n"
          ],
          "name": "stdout"
        }
      ]
    },
    {
      "cell_type": "code",
      "metadata": {
        "colab": {
          "base_uri": "https://localhost:8080/"
        },
        "id": "x3ANLvrXgsuR",
        "outputId": "bf2ad714-dd02-40b2-8d82-172bd50bfdd6"
      },
      "source": [
        "s={1,2,3,4,5}\n",
        "s1=s\n",
        "print(s1)\n",
        "s2=s.copy()\n",
        "print(s2)\n",
        "s2.pop() #Removes random item\n",
        "print(s2)\n",
        "s1.add(10)\n",
        "print(s1)\n",
        "s1.update('Ab'+'hi'+'sh'+'ek','w') #we can pass anything like set,list,tuple,dict it converts them to set and adds.\n",
        "print(s1)\n",
        "s1.remove(2) #If no value then gives error, discard will not give error.\n",
        "print(s1)"
      ],
      "execution_count": null,
      "outputs": [
        {
          "output_type": "stream",
          "text": [
            "{1, 2, 3, 4, 5}\n",
            "{1, 2, 3, 4, 5}\n",
            "{2, 3, 4, 5}\n",
            "{1, 2, 3, 4, 5, 10}\n",
            "{1, 2, 3, 4, 5, 'b', 'w', 'e', 10, 'i', 's', 'k', 'h', 'A'}\n",
            "{1, 3, 4, 5, 'b', 'w', 'e', 10, 'i', 's', 'k', 'h', 'A'}\n"
          ],
          "name": "stdout"
        }
      ]
    },
    {
      "cell_type": "code",
      "metadata": {
        "id": "2Ca-ajICy1wN"
      },
      "source": [
        "d={1:'a',2:'b',3:'c'}\n",
        "d.get(4)"
      ],
      "execution_count": null,
      "outputs": []
    },
    {
      "cell_type": "code",
      "metadata": {
        "colab": {
          "base_uri": "https://localhost:8080/"
        },
        "id": "sE54jvyMgswo",
        "outputId": "09a4234b-13eb-4a28-9893-fc806f165ad2"
      },
      "source": [
        "d={1:'a',2:'b',3:'c'}\n",
        "d.get(4,'NA') ##If corresponding key is not found returns NA.\n",
        "d.setdefault(4,'x')##Set default value to corresponding key\n",
        "print(d)\n",
        "print(d.keys())\n",
        "del d[1]\n",
        "print(d)\n",
        "d.clear()\n",
        "print(d)"
      ],
      "execution_count": null,
      "outputs": [
        {
          "output_type": "stream",
          "text": [
            "{1: 'a', 2: 'b', 3: 'c', 4: 'x'}\n",
            "dict_keys([1, 2, 3, 4])\n",
            "{2: 'b', 3: 'c', 4: 'x'}\n",
            "{}\n"
          ],
          "name": "stdout"
        }
      ]
    },
    {
      "cell_type": "code",
      "metadata": {
        "colab": {
          "base_uri": "https://localhost:8080/"
        },
        "id": "DzDqtUtXbF4y",
        "outputId": "955ba2a0-a527-40aa-8130-565c52b11715"
      },
      "source": [
        "d = {1: \"one\", 2: \"three\"} #Dict cannot have duplicate keys.\n",
        "d1 = {2: \"two\"}\n",
        "\n",
        "# updates the value of key 2\n",
        "d.update(d1)\n",
        "print(d)\n",
        "d1 = {3: \"three\"}\n",
        "\n",
        "# adds element with key 3\n",
        "d.update(d1)\n",
        "print(d)"
      ],
      "execution_count": null,
      "outputs": [
        {
          "output_type": "stream",
          "text": [
            "{1: 'one', 2: 'two'}\n",
            "{1: 'one', 2: 'two', 3: 'three'}\n"
          ],
          "name": "stdout"
        }
      ]
    },
    {
      "cell_type": "code",
      "metadata": {
        "colab": {
          "base_uri": "https://localhost:8080/"
        },
        "id": "ivoT8bwJaqXq",
        "outputId": "89cb8e9c-6cfd-4fee-e382-a5180d59a35c"
      },
      "source": [
        "d={1:'a',2:'b',3:'c'}\n",
        "for k,v in d.items():\n",
        "  print(k,'******',v)"
      ],
      "execution_count": null,
      "outputs": [
        {
          "output_type": "stream",
          "text": [
            "1 ****** a\n",
            "2 ****** b\n",
            "3 ****** c\n"
          ],
          "name": "stdout"
        }
      ]
    },
    {
      "cell_type": "code",
      "metadata": {
        "colab": {
          "base_uri": "https://localhost:8080/"
        },
        "id": "affkGYlIgszF",
        "outputId": "d00eabad-5ef4-49f7-e50b-4a74df01fecb"
      },
      "source": [
        "#For no of occurance problem always use get().\n",
        "word=input('Enter a word ')\n",
        "d={}\n",
        "for x in word:\n",
        "  print(x)\n",
        "  d[x]=d.get(x,0)+1\n",
        "print(d)"
      ],
      "execution_count": null,
      "outputs": [
        {
          "output_type": "stream",
          "text": [
            "Enter a word ab\n",
            "{}\n",
            "a\n",
            "b\n",
            "{'a': 1, 'b': 1}\n"
          ],
          "name": "stdout"
        }
      ]
    },
    {
      "cell_type": "code",
      "metadata": {
        "colab": {
          "base_uri": "https://localhost:8080/"
        },
        "id": "edkLccoOgs35",
        "outputId": "3b05de58-9549-4da8-998b-8839cf017a51"
      },
      "source": [
        "word=input('Enter a word ')\n",
        "v={'a','e','i','o','u'}\n",
        "d={}\n",
        "for x in word:\n",
        "  if x in v:\n",
        "    d[x]=d.get(x,0)+1\n",
        "print(d)"
      ],
      "execution_count": null,
      "outputs": [
        {
          "output_type": "stream",
          "text": [
            "Enter a word abhi\n",
            "{'a': 1, 'i': 1}\n"
          ],
          "name": "stdout"
        }
      ]
    },
    {
      "cell_type": "code",
      "metadata": {
        "colab": {
          "base_uri": "https://localhost:8080/"
        },
        "id": "Zz8lECTI300F",
        "outputId": "05655df0-240c-471d-ed8d-04d009e9a9cc"
      },
      "source": [
        "def wish():\n",
        "  print('Hello')\n",
        "print(wish()) #Python function can return multiple values.  "
      ],
      "execution_count": null,
      "outputs": [
        {
          "output_type": "stream",
          "text": [
            "Hello\n",
            "None\n"
          ],
          "name": "stdout"
        }
      ]
    },
    {
      "cell_type": "code",
      "metadata": {
        "colab": {
          "base_uri": "https://localhost:8080/"
        },
        "id": "w_LzlB4pooDv",
        "outputId": "da2a9a21-a86b-478d-fad9-467549bfc4b3"
      },
      "source": [
        "d1={1:'a',2:'b'}\n",
        "d2={3:'c'}\n",
        "d3={2:'e'}\n",
        "d1.update(d2)\n",
        "d1.update(d3)\n",
        "print(d1)"
      ],
      "execution_count": null,
      "outputs": [
        {
          "output_type": "stream",
          "text": [
            "{1: 'a', 2: 'e', 3: 'c'}\n"
          ],
          "name": "stdout"
        }
      ]
    },
    {
      "cell_type": "code",
      "metadata": {
        "colab": {
          "base_uri": "https://localhost:8080/",
          "height": 35
        },
        "id": "0Ws9uRhqooGk",
        "outputId": "b87fd4a3-d3b3-430d-ae67-f842a1857028"
      },
      "source": [
        "a=\"Abhi\"\n",
        "a[7:8]"
      ],
      "execution_count": null,
      "outputs": [
        {
          "output_type": "execute_result",
          "data": {
            "application/vnd.google.colaboratory.intrinsic+json": {
              "type": "string"
            },
            "text/plain": [
              "''"
            ]
          },
          "metadata": {
            "tags": []
          },
          "execution_count": 166
        }
      ]
    },
    {
      "cell_type": "code",
      "metadata": {
        "colab": {
          "base_uri": "https://localhost:8080/"
        },
        "id": "Ghto1dNCooIt",
        "outputId": "784ab8dd-70ca-46e9-bfca-e1ba1536a843"
      },
      "source": [
        "import numpy as np\n",
        "a=[1,2,3,4]\n",
        "a[0]=10\n",
        "print(a)\n",
        "try:\n",
        "  print(a/2)\n",
        "except:\n",
        "  print('On entire list the operation is not possible, so we go for array')\n",
        "a=np.array(a)\n",
        "print(a/2)"
      ],
      "execution_count": null,
      "outputs": [
        {
          "output_type": "stream",
          "text": [
            "[10, 2, 3, 4]\n",
            "On entire list the operation is not possible, so we go for array\n",
            "[5.  1.  1.5 2. ]\n"
          ],
          "name": "stdout"
        }
      ]
    },
    {
      "cell_type": "code",
      "metadata": {
        "colab": {
          "base_uri": "https://localhost:8080/"
        },
        "id": "W4ydv3U_ooKt",
        "outputId": "3edbc0cb-5be9-4d87-e909-925e6ebece32"
      },
      "source": [
        "l=['a','A','B']\n",
        "l.sort()#By default descending order.\n",
        "print(l)"
      ],
      "execution_count": null,
      "outputs": [
        {
          "output_type": "stream",
          "text": [
            "['A', 'B', 'a']\n"
          ],
          "name": "stdout"
        }
      ]
    },
    {
      "cell_type": "code",
      "metadata": {
        "colab": {
          "base_uri": "https://localhost:8080/",
          "height": 183
        },
        "id": "mdwHGxwwooNo",
        "outputId": "c13f2985-7a3b-4e04-f614-3aa7cac81e35"
      },
      "source": [
        "a=(1,2,3,4)\n",
        "a(1) ##Tuple is immmutable"
      ],
      "execution_count": null,
      "outputs": [
        {
          "output_type": "error",
          "ename": "TypeError",
          "evalue": "ignored",
          "traceback": [
            "\u001b[0;31m---------------------------------------------------------------------------\u001b[0m",
            "\u001b[0;31mTypeError\u001b[0m                                 Traceback (most recent call last)",
            "\u001b[0;32m<ipython-input-60-f424c98ba6c2>\u001b[0m in \u001b[0;36m<module>\u001b[0;34m()\u001b[0m\n\u001b[1;32m      1\u001b[0m \u001b[0ma\u001b[0m\u001b[0;34m=\u001b[0m\u001b[0;34m(\u001b[0m\u001b[0;36m1\u001b[0m\u001b[0;34m,\u001b[0m\u001b[0;36m2\u001b[0m\u001b[0;34m,\u001b[0m\u001b[0;36m3\u001b[0m\u001b[0;34m,\u001b[0m\u001b[0;36m4\u001b[0m\u001b[0;34m)\u001b[0m\u001b[0;34m\u001b[0m\u001b[0;34m\u001b[0m\u001b[0m\n\u001b[0;32m----> 2\u001b[0;31m \u001b[0ma\u001b[0m\u001b[0;34m(\u001b[0m\u001b[0;36m1\u001b[0m\u001b[0;34m)\u001b[0m \u001b[0;31m##Tuple is immmutable\u001b[0m\u001b[0;34m\u001b[0m\u001b[0;34m\u001b[0m\u001b[0m\n\u001b[0m",
            "\u001b[0;31mTypeError\u001b[0m: 'tuple' object is not callable"
          ]
        }
      ]
    },
    {
      "cell_type": "code",
      "metadata": {
        "colab": {
          "base_uri": "https://localhost:8080/",
          "height": 201
        },
        "id": "bJ16bYU4zIcZ",
        "outputId": "660c6e1e-101f-4b24-905d-4e3c92f0f814"
      },
      "source": [
        "a='Abhishek'\n",
        "a[0]='a'\n",
        "print(a) #String is immmutable."
      ],
      "execution_count": null,
      "outputs": [
        {
          "output_type": "error",
          "ename": "TypeError",
          "evalue": "ignored",
          "traceback": [
            "\u001b[0;31m---------------------------------------------------------------------------\u001b[0m",
            "\u001b[0;31mTypeError\u001b[0m                                 Traceback (most recent call last)",
            "\u001b[0;32m<ipython-input-16-1be83f8e53e5>\u001b[0m in \u001b[0;36m<module>\u001b[0;34m()\u001b[0m\n\u001b[1;32m      1\u001b[0m \u001b[0ma\u001b[0m\u001b[0;34m=\u001b[0m\u001b[0;34m'Abhishek'\u001b[0m\u001b[0;34m\u001b[0m\u001b[0;34m\u001b[0m\u001b[0m\n\u001b[0;32m----> 2\u001b[0;31m \u001b[0ma\u001b[0m\u001b[0;34m[\u001b[0m\u001b[0;36m0\u001b[0m\u001b[0;34m]\u001b[0m\u001b[0;34m=\u001b[0m\u001b[0;34m'a'\u001b[0m\u001b[0;34m\u001b[0m\u001b[0;34m\u001b[0m\u001b[0m\n\u001b[0m\u001b[1;32m      3\u001b[0m \u001b[0mprint\u001b[0m\u001b[0;34m(\u001b[0m\u001b[0ma\u001b[0m\u001b[0;34m)\u001b[0m\u001b[0;34m\u001b[0m\u001b[0;34m\u001b[0m\u001b[0m\n",
            "\u001b[0;31mTypeError\u001b[0m: 'str' object does not support item assignment"
          ]
        }
      ]
    },
    {
      "cell_type": "code",
      "metadata": {
        "colab": {
          "base_uri": "https://localhost:8080/"
        },
        "id": "LdhQwsOjzIe-",
        "outputId": "36f02172-0494-4ee3-9832-d24ced38f4c4"
      },
      "source": [
        "list=[i for i in range(10,20)]\n",
        "print(list)"
      ],
      "execution_count": null,
      "outputs": [
        {
          "output_type": "stream",
          "text": [
            "[10, 11, 12, 13, 14, 15, 16, 17, 18, 19]\n"
          ],
          "name": "stdout"
        }
      ]
    },
    {
      "cell_type": "code",
      "metadata": {
        "colab": {
          "base_uri": "https://localhost:8080/"
        },
        "id": "WXbd5kj_zz4_",
        "outputId": "cb56a9ad-a2cf-4d73-b105-6cc39322fbb6"
      },
      "source": [
        "a,b,c=[int(i) for i in input('Enter 3 values ').split(',')]\n",
        "print(a,b,c)"
      ],
      "execution_count": null,
      "outputs": [
        {
          "output_type": "stream",
          "text": [
            "Enter 3 values 1,2,3\n",
            "1 2 3\n"
          ],
          "name": "stdout"
        }
      ]
    },
    {
      "cell_type": "code",
      "metadata": {
        "colab": {
          "base_uri": "https://localhost:8080/"
        },
        "id": "5vKufaQMzz7Y",
        "outputId": "bab44b87-0644-42b1-fc34-1e333431bad3"
      },
      "source": [
        "##odd or even\n",
        "for i in range(1,10):\n",
        "  if i%2==0:\n",
        "    print('even')\n",
        "  else:\n",
        "    print('odd')"
      ],
      "execution_count": null,
      "outputs": [
        {
          "output_type": "stream",
          "text": [
            "odd\n",
            "even\n",
            "odd\n",
            "even\n",
            "odd\n",
            "even\n",
            "odd\n",
            "even\n",
            "odd\n"
          ],
          "name": "stdout"
        }
      ]
    },
    {
      "cell_type": "code",
      "metadata": {
        "colab": {
          "base_uri": "https://localhost:8080/"
        },
        "id": "wOenQnOczz-D",
        "outputId": "06293a17-55c1-4b9c-cfd1-bfb51e726aaa"
      },
      "source": [
        "##Number is prime or not # prime number is a number which gets divide by 1 and itselves.\n",
        "num=eval(input('Enter a number '))\n",
        "for i in range(2,num):\n",
        "  if num%i==0:\n",
        "    print('Not a prime')\n",
        "    break\n",
        "else:\n",
        "    print('prime')"
      ],
      "execution_count": null,
      "outputs": [
        {
          "output_type": "stream",
          "text": [
            "Enter a number 7\n",
            "prime\n"
          ],
          "name": "stdout"
        }
      ]
    },
    {
      "cell_type": "code",
      "metadata": {
        "colab": {
          "base_uri": "https://localhost:8080/"
        },
        "id": "CXeawdqNzIg_",
        "outputId": "59cc9631-6048-4fbc-d4c8-47d8ae9efb98"
      },
      "source": [
        "##Prime numbers between a range of values\n",
        "lower=int(input('Enter a lower number '))\n",
        "upper=int(input('Enter a upper number '))\n",
        "for num in range(lower,upper+1):\n",
        "  for i in range(2,num):\n",
        "    if num%i==0:\n",
        "      break\n",
        "  else:\n",
        "      print('The prime numbers are ',num)"
      ],
      "execution_count": null,
      "outputs": [
        {
          "output_type": "stream",
          "text": [
            "Enter a lower number 10\n",
            "Enter a upper number 20\n",
            "The prime numbers are  11\n",
            "The prime numbers are  13\n",
            "The prime numbers are  17\n",
            "The prime numbers are  19\n"
          ],
          "name": "stdout"
        }
      ]
    },
    {
      "cell_type": "code",
      "metadata": {
        "colab": {
          "base_uri": "https://localhost:8080/"
        },
        "id": "GPryzHipzIj_",
        "outputId": "461230d2-1d0d-4b6c-bbba-bc76c5dcf69f"
      },
      "source": [
        "##Creating a single list from nested list.\n",
        "l=[[1,2,3],[4,5,6],[7,8,9]]\n",
        "list=[]\n",
        "for i in l:\n",
        "  list.extend(i)\n",
        "print(list)"
      ],
      "execution_count": null,
      "outputs": [
        {
          "output_type": "stream",
          "text": [
            "[1, 2, 3, 4, 5, 6, 7, 8, 9]\n"
          ],
          "name": "stdout"
        }
      ]
    },
    {
      "cell_type": "code",
      "metadata": {
        "colab": {
          "base_uri": "https://localhost:8080/"
        },
        "id": "fYibxtsS_Yxq",
        "outputId": "0ebf6b6b-aa1f-4283-8c22-c944eb4a8569"
      },
      "source": [
        "l=[[1,2,3],[4,5,6],[7,8,9]]\n",
        "list=[]\n",
        "for i in l:\n",
        "  list=list+i\n",
        "print(list)"
      ],
      "execution_count": null,
      "outputs": [
        {
          "output_type": "stream",
          "text": [
            "[1, 2, 3, 4, 5, 6, 7, 8, 9]\n"
          ],
          "name": "stdout"
        }
      ]
    },
    {
      "cell_type": "code",
      "metadata": {
        "colab": {
          "base_uri": "https://localhost:8080/"
        },
        "id": "v7WtPJ6O_Y0b",
        "outputId": "8438174c-ff15-436b-d0c0-e75869b75ff8"
      },
      "source": [
        "##Sublisting\n",
        "list=[1,2,3,4,5,6,7,8,9,10]\n",
        "sublist=[list[i:i+2] for i in range(0,len(list),2)]\n",
        "sublist"
      ],
      "execution_count": null,
      "outputs": [
        {
          "output_type": "execute_result",
          "data": {
            "text/plain": [
              "[[1, 2], [3, 4], [5, 6], [7, 8], [9, 10]]"
            ]
          },
          "metadata": {
            "tags": []
          },
          "execution_count": 62
        }
      ]
    },
    {
      "cell_type": "code",
      "metadata": {
        "colab": {
          "base_uri": "https://localhost:8080/"
        },
        "id": "TuT2-tMNMl5-",
        "outputId": "585ab1b0-fe85-4183-9c71-18737d0c9511"
      },
      "source": [
        "def func(name,age=20):\n",
        "  print(name,age)\n",
        "func('Abhi',30) #Overwriting  the default argument age."
      ],
      "execution_count": null,
      "outputs": [
        {
          "output_type": "stream",
          "text": [
            "Abhi 30\n"
          ],
          "name": "stdout"
        }
      ]
    },
    {
      "cell_type": "code",
      "metadata": {
        "colab": {
          "base_uri": "https://localhost:8080/"
        },
        "id": "lEEaPTHYFku9",
        "outputId": "8e5ca2db-75bd-4975-ce16-7f5d31a29d36"
      },
      "source": [
        "#Default dict - Its like a container of dict, if key is not present then we get key error, in order to prevent that we can pass default value for a key using defaultdict.\n",
        "#defaultdict(default_factory)# default factory is a function that returns the default value, if not it raises key error.\n",
        "def def_value():\n",
        "  return 'Not Present'\n",
        "from collections import defaultdict\n",
        "d=defaultdict(def_value) #or we can use defaultdict(lambda: 'not Present')\n",
        "d['a']=1\n",
        "\n",
        "print(d['a'])\n",
        "print(d['b'])"
      ],
      "execution_count": null,
      "outputs": [
        {
          "output_type": "stream",
          "text": [
            "1\n",
            "Not Present\n"
          ],
          "name": "stdout"
        }
      ]
    },
    {
      "cell_type": "markdown",
      "metadata": {
        "id": "7itoHlrVQRht"
      },
      "source": [
        "import pandas as pd\n",
        "df=pd.read_csv(r\"D:\\Users\\abhisv\\Desktop\\Startups_Expense.csv\",sep=',')\n",
        "df.drop_duplicates(subset=['State'],keep='last')\n",
        "#To get dups dataset\n",
        "#df[df.duplicated(subset=['State'])]"
      ]
    },
    {
      "cell_type": "code",
      "metadata": {
        "id": "7tv81VZY_Y4H"
      },
      "source": [
        "##Give a small example of variable length keyword argument.\n",
        "def kwargsexample(**kwargs): ##It is always dict type\n",
        "  for k,v in kwargs.items():\n",
        "    print(type(kwargs))\n",
        "    print(k,v)"
      ],
      "execution_count": null,
      "outputs": []
    },
    {
      "cell_type": "code",
      "metadata": {
        "colab": {
          "base_uri": "https://localhost:8080/"
        },
        "id": "EpCFXdoFQW4f",
        "outputId": "c76b0842-99a1-4450-ebc4-712e8c720596"
      },
      "source": [
        "kwargsexample(a=10,b=20,c=30)"
      ],
      "execution_count": null,
      "outputs": [
        {
          "output_type": "stream",
          "text": [
            "<class 'dict'>\n",
            "a 10\n",
            "<class 'dict'>\n",
            "b 20\n",
            "<class 'dict'>\n",
            "c 30\n"
          ],
          "name": "stdout"
        }
      ]
    },
    {
      "cell_type": "code",
      "metadata": {
        "id": "7qTARpx7zIl5"
      },
      "source": [
        "##Give an example for variable length argument.\n",
        "def varargs(*n):\n",
        "  for i in n:\n",
        "    print(type(i))\n",
        "    print(i*2)"
      ],
      "execution_count": null,
      "outputs": []
    },
    {
      "cell_type": "code",
      "metadata": {
        "colab": {
          "base_uri": "https://localhost:8080/"
        },
        "id": "E8GFU66NzInw",
        "outputId": "df9f152e-d0c1-4698-8236-0c340378e17c"
      },
      "source": [
        "varargs(10,20,30)#Instead of adding variable and then executing a program each time, you can use args to get directly in function call."
      ],
      "execution_count": null,
      "outputs": [
        {
          "output_type": "stream",
          "text": [
            "<class 'int'>\n",
            "20\n",
            "<class 'int'>\n",
            "40\n",
            "<class 'int'>\n",
            "60\n"
          ],
          "name": "stdout"
        }
      ]
    },
    {
      "cell_type": "code",
      "metadata": {
        "id": "BZQqZCO_SsJy"
      },
      "source": [
        "##fiboncci series\n",
        "def fib(n):\n",
        "  a=0\n",
        "  b=1\n",
        "  print(a)\n",
        "  print(b)\n",
        "  i=1\n",
        "  while i<n:\n",
        "    c=a+b\n",
        "    a=b\n",
        "    b=c \n",
        "    print(c)\n",
        "    i=i+1"
      ],
      "execution_count": null,
      "outputs": []
    },
    {
      "cell_type": "code",
      "metadata": {
        "colab": {
          "base_uri": "https://localhost:8080/"
        },
        "id": "Q72oRwRSNYeV",
        "outputId": "839f49fe-21bc-4dca-bea9-1c7bbbcbbd10"
      },
      "source": [
        "fib(5)"
      ],
      "execution_count": null,
      "outputs": [
        {
          "output_type": "stream",
          "text": [
            "0\n",
            "1\n",
            "1\n",
            "2\n",
            "3\n",
            "5\n"
          ],
          "name": "stdout"
        }
      ]
    },
    {
      "cell_type": "code",
      "metadata": {
        "colab": {
          "base_uri": "https://localhost:8080/"
        },
        "id": "ZaFOVK8PNZbX",
        "outputId": "a3d0def8-5793-4438-f81d-1c57a6a6720d"
      },
      "source": [
        "#Other way of fib series.\n",
        "def fib(n):\n",
        "    a=0\n",
        "    b=1\n",
        "    print(a)\n",
        "    print(b)\n",
        "    for i in range(2,n+1):\n",
        "        c=a+b\n",
        "        a=b\n",
        "        b=c\n",
        "        print(c)\n",
        "fib(5)"
      ],
      "execution_count": null,
      "outputs": [
        {
          "output_type": "stream",
          "text": [
            "0\n",
            "1\n",
            "1\n",
            "2\n",
            "3\n",
            "5\n"
          ],
          "name": "stdout"
        }
      ]
    },
    {
      "cell_type": "code",
      "metadata": {
        "colab": {
          "base_uri": "https://localhost:8080/"
        },
        "id": "r76vs_jNeJHU",
        "outputId": "8ea3fd16-7f1d-4d21-e23b-2f48c7e239bf"
      },
      "source": [
        "##Factorial of a number\n",
        "def factorial(n):\n",
        "  factorial=1\n",
        "  for i in range(2,n+1):\n",
        "    factorial=factorial*i\n",
        "  print(factorial)\n",
        "\n",
        "factorial(3)"
      ],
      "execution_count": null,
      "outputs": [
        {
          "output_type": "stream",
          "text": [
            "6\n"
          ],
          "name": "stdout"
        }
      ]
    },
    {
      "cell_type": "code",
      "metadata": {
        "colab": {
          "base_uri": "https://localhost:8080/"
        },
        "id": "akcHKAV9eJKF",
        "outputId": "efa689a6-9218-4a21-93d5-95cc3e8b1606"
      },
      "source": [
        "##palindrome or not\n",
        "def palindrome(n):\n",
        "  return str(n)==str(n)[::-1]\n",
        "n=int(input('Enter a string '))\n",
        "if palindrome(n):\n",
        "  print('Yes')\n",
        "else:\n",
        "  while not palindrome(n): #Here we can also use temp variable to store(n1=n and then decrement n1)\n",
        "    n=n-1\n",
        "  print('The next palindrome is ',n)"
      ],
      "execution_count": null,
      "outputs": [
        {
          "output_type": "stream",
          "text": [
            "Enter a string 123\n",
            "The next palindrome is  121\n"
          ],
          "name": "stdout"
        }
      ]
    },
    {
      "cell_type": "code",
      "metadata": {
        "colab": {
          "base_uri": "https://localhost:8080/"
        },
        "id": "HSBShkqueJMk",
        "outputId": "f3876fb5-1467-4874-b0be-e7dca48b29e9"
      },
      "source": [
        "##Perfect square\n",
        "import math\n",
        "def perfectsq(n):\n",
        "  root=math.sqrt(n)\n",
        "  return n==root**2\n",
        "\n",
        "n=eval(input('Enter a number '))\n",
        "if perfectsq(n):\n",
        "  print('Yes')\n",
        "else:\n",
        "  print('No')"
      ],
      "execution_count": null,
      "outputs": [
        {
          "output_type": "stream",
          "text": [
            "Enter a number 5\n",
            "No\n"
          ],
          "name": "stdout"
        }
      ]
    },
    {
      "cell_type": "code",
      "metadata": {
        "colab": {
          "base_uri": "https://localhost:8080/"
        },
        "id": "RYH8nNt0eJOY",
        "outputId": "81213f2b-d6e6-44ce-f4e4-215553b60158"
      },
      "source": [
        "##Second largest value in a list\n",
        "l=[1,2,3,4,5,6]\n",
        "l.sort()\n",
        "print('the second largest value is ',l[-2])"
      ],
      "execution_count": null,
      "outputs": [
        {
          "output_type": "stream",
          "text": [
            "the second largest value is  5\n"
          ],
          "name": "stdout"
        }
      ]
    },
    {
      "cell_type": "code",
      "metadata": {
        "colab": {
          "base_uri": "https://localhost:8080/"
        },
        "id": "s85ndH_EeJQI",
        "outputId": "d43229a4-6b1c-42ba-819e-e314ca5fff29"
      },
      "source": [
        "l=[1,2,3,4,5,6]\n",
        "max([i for i in l if i!=max(l)])"
      ],
      "execution_count": null,
      "outputs": [
        {
          "output_type": "execute_result",
          "data": {
            "text/plain": [
              "5"
            ]
          },
          "metadata": {
            "tags": []
          },
          "execution_count": 63
        }
      ]
    },
    {
      "cell_type": "code",
      "metadata": {
        "colab": {
          "base_uri": "https://localhost:8080/"
        },
        "id": "ujWuiz1uJA_1",
        "outputId": "38cd8816-b019-4888-c502-a9fd7b512f0a"
      },
      "source": [
        "##How many times the word is repeated in a list\n",
        "l=['a','b','c','a','b','c']\n",
        "from collections import Counter\n",
        "c=Counter(l)\n",
        "print(c)"
      ],
      "execution_count": null,
      "outputs": [
        {
          "output_type": "stream",
          "text": [
            "Counter({'a': 2, 'b': 2, 'c': 2})\n"
          ],
          "name": "stdout"
        }
      ]
    },
    {
      "cell_type": "code",
      "metadata": {
        "colab": {
          "base_uri": "https://localhost:8080/"
        },
        "id": "8TlzqtLpJBCt",
        "outputId": "08c4b68c-a09f-4a9a-9e69-b25e2396455b"
      },
      "source": [
        "a='Abh ishek'\n",
        "d={}\n",
        "for i in a:\n",
        "  d[i]=d.get(i,0)+1\n",
        "for k,v in d.items():\n",
        "  print(k,v)"
      ],
      "execution_count": null,
      "outputs": [
        {
          "output_type": "stream",
          "text": [
            "A 1\n",
            "b 1\n",
            "h 2\n",
            "  1\n",
            "i 1\n",
            "s 1\n",
            "e 1\n",
            "k 1\n"
          ],
          "name": "stdout"
        }
      ]
    },
    {
      "cell_type": "code",
      "metadata": {
        "colab": {
          "base_uri": "https://localhost:8080/"
        },
        "id": "YqYyr44KJBFS",
        "outputId": "af265af9-f3d6-4386-8498-9c6be18a50d6"
      },
      "source": [
        "##leap year or not\n",
        "year=int(input('Enter a year '))\n",
        "if (year%4)==0:\n",
        "  if (year%100)==0:\n",
        "    if (year%400)==0:\n",
        "      print('leap year')\n",
        "    else:\n",
        "      print('Not a leap year')\n",
        "  else:\n",
        "    print('leap year')\n",
        "else:\n",
        "  print('Not a leap year')"
      ],
      "execution_count": null,
      "outputs": [
        {
          "output_type": "stream",
          "text": [
            "Enter a year 2032\n",
            "leap year\n"
          ],
          "name": "stdout"
        }
      ]
    },
    {
      "cell_type": "code",
      "metadata": {
        "colab": {
          "base_uri": "https://localhost:8080/"
        },
        "id": "1l2diL-MJBPU",
        "outputId": "32000345-626c-4657-9607-51420c05165e"
      },
      "source": [
        "s=input('Enter a string ')\n",
        "words=[]\n",
        "s1=s.split()\n",
        "print(s1)\n",
        "for word in s1:\n",
        "  print(word)\n",
        "  words.append(word)\n",
        "print(tuple(reversed(words)))"
      ],
      "execution_count": null,
      "outputs": [
        {
          "output_type": "stream",
          "text": [
            "Enter a string abhi shek\n",
            "['abhi', 'shek']\n",
            "abhi\n",
            "shek\n",
            "('shek', 'abhi')\n"
          ],
          "name": "stdout"
        }
      ]
    },
    {
      "cell_type": "code",
      "metadata": {
        "colab": {
          "base_uri": "https://localhost:8080/",
          "height": 201
        },
        "id": "rtuFwLTZM_g_",
        "outputId": "0c513b09-b6cb-4441-d7cc-0384523bb7c5"
      },
      "source": [
        "thistuple=(1,2,3)\n",
        "del thistuple\n",
        "print(thistuple)"
      ],
      "execution_count": null,
      "outputs": [
        {
          "output_type": "error",
          "ename": "NameError",
          "evalue": "ignored",
          "traceback": [
            "\u001b[0;31m---------------------------------------------------------------------------\u001b[0m",
            "\u001b[0;31mNameError\u001b[0m                                 Traceback (most recent call last)",
            "\u001b[0;32m<ipython-input-5-e6acd38a2983>\u001b[0m in \u001b[0;36m<module>\u001b[0;34m()\u001b[0m\n\u001b[1;32m      1\u001b[0m \u001b[0mthistuple\u001b[0m\u001b[0;34m=\u001b[0m\u001b[0;34m(\u001b[0m\u001b[0;36m1\u001b[0m\u001b[0;34m,\u001b[0m\u001b[0;36m2\u001b[0m\u001b[0;34m,\u001b[0m\u001b[0;36m3\u001b[0m\u001b[0;34m)\u001b[0m\u001b[0;34m\u001b[0m\u001b[0;34m\u001b[0m\u001b[0m\n\u001b[1;32m      2\u001b[0m \u001b[0;32mdel\u001b[0m \u001b[0mthistuple\u001b[0m\u001b[0;34m\u001b[0m\u001b[0;34m\u001b[0m\u001b[0m\n\u001b[0;32m----> 3\u001b[0;31m \u001b[0mprint\u001b[0m\u001b[0;34m(\u001b[0m\u001b[0mthistuple\u001b[0m\u001b[0;34m)\u001b[0m\u001b[0;34m\u001b[0m\u001b[0;34m\u001b[0m\u001b[0m\n\u001b[0m",
            "\u001b[0;31mNameError\u001b[0m: name 'thistuple' is not defined"
          ]
        }
      ]
    },
    {
      "cell_type": "code",
      "metadata": {
        "colab": {
          "base_uri": "https://localhost:8080/"
        },
        "id": "kSUuJXb3M_jk",
        "outputId": "c07ee2ff-834c-4909-f371-5d4eff68f3f2"
      },
      "source": [
        "import numpy as np\n",
        "a=[1,2,3,4]\n",
        "a=np.array(a)\n",
        "print(type(a))\n",
        "a=a/2\n",
        "print(a)"
      ],
      "execution_count": null,
      "outputs": [
        {
          "output_type": "stream",
          "text": [
            "<class 'numpy.ndarray'>\n",
            "[0.5 1.  1.5 2. ]\n"
          ],
          "name": "stdout"
        }
      ]
    },
    {
      "cell_type": "code",
      "metadata": {
        "colab": {
          "base_uri": "https://localhost:8080/"
        },
        "id": "-8Ra3xveM_l6",
        "outputId": "088081cb-b890-47f5-db83-1121fcfd9b54"
      },
      "source": [
        "np.arange(0,10)"
      ],
      "execution_count": null,
      "outputs": [
        {
          "output_type": "execute_result",
          "data": {
            "text/plain": [
              "array([0, 1, 2, 3, 4, 5, 6, 7, 8, 9])"
            ]
          },
          "metadata": {
            "tags": []
          },
          "execution_count": 6
        }
      ]
    },
    {
      "cell_type": "code",
      "metadata": {
        "colab": {
          "base_uri": "https://localhost:8080/"
        },
        "id": "pRn9PRvvM_qU",
        "outputId": "19665540-4d04-4332-a6ad-fa6a8b9134e7"
      },
      "source": [
        "np.linspace(0,10,num=50)"
      ],
      "execution_count": null,
      "outputs": [
        {
          "output_type": "execute_result",
          "data": {
            "text/plain": [
              "array([ 0.        ,  0.20408163,  0.40816327,  0.6122449 ,  0.81632653,\n",
              "        1.02040816,  1.2244898 ,  1.42857143,  1.63265306,  1.83673469,\n",
              "        2.04081633,  2.24489796,  2.44897959,  2.65306122,  2.85714286,\n",
              "        3.06122449,  3.26530612,  3.46938776,  3.67346939,  3.87755102,\n",
              "        4.08163265,  4.28571429,  4.48979592,  4.69387755,  4.89795918,\n",
              "        5.10204082,  5.30612245,  5.51020408,  5.71428571,  5.91836735,\n",
              "        6.12244898,  6.32653061,  6.53061224,  6.73469388,  6.93877551,\n",
              "        7.14285714,  7.34693878,  7.55102041,  7.75510204,  7.95918367,\n",
              "        8.16326531,  8.36734694,  8.57142857,  8.7755102 ,  8.97959184,\n",
              "        9.18367347,  9.3877551 ,  9.59183673,  9.79591837, 10.        ])"
            ]
          },
          "metadata": {
            "tags": []
          },
          "execution_count": 7
        }
      ]
    },
    {
      "cell_type": "code",
      "metadata": {
        "colab": {
          "base_uri": "https://localhost:8080/"
        },
        "id": "EpybZQ99M_sM",
        "outputId": "de74a36c-89d9-451d-9569-59502b3d0266"
      },
      "source": [
        "np.random.randint(0,10,10)#Oly integer values between 0 to 10 upto 10 values."
      ],
      "execution_count": null,
      "outputs": [
        {
          "output_type": "execute_result",
          "data": {
            "text/plain": [
              "array([3, 2, 3, 7, 7, 7, 1, 3, 3, 9])"
            ]
          },
          "metadata": {
            "tags": []
          },
          "execution_count": 9
        }
      ]
    },
    {
      "cell_type": "code",
      "metadata": {
        "colab": {
          "base_uri": "https://localhost:8080/"
        },
        "id": "ge90uozrOcRX",
        "outputId": "4fae0df6-39f8-4b9a-b5eb-3ee146a26fc9"
      },
      "source": [
        "np.random.randn(10) #Gives 10 random values"
      ],
      "execution_count": null,
      "outputs": [
        {
          "output_type": "execute_result",
          "data": {
            "text/plain": [
              "array([ 1.22345066,  1.77270049, -0.3732889 ,  0.44489725, -2.1907323 ,\n",
              "       -1.37067737,  1.32628199, -1.79653224, -0.22992637,  1.35193755])"
            ]
          },
          "metadata": {
            "tags": []
          },
          "execution_count": 10
        }
      ]
    },
    {
      "cell_type": "code",
      "metadata": {
        "colab": {
          "base_uri": "https://localhost:8080/"
        },
        "id": "3Y4p_0jSOi-m",
        "outputId": "b584dcf7-d315-4bab-b356-37f9e10a6107"
      },
      "source": [
        "print(np.ones(4))\n",
        "print(np.zeros(4))\n",
        "print(np.ones((2,2)))\n",
        "print(np.zeros((2,2)))"
      ],
      "execution_count": null,
      "outputs": [
        {
          "output_type": "stream",
          "text": [
            "[1. 1. 1. 1.]\n",
            "[0. 0. 0. 0.]\n",
            "[[1. 1.]\n",
            " [1. 1.]]\n",
            "[[0. 0.]\n",
            " [0. 0.]]\n"
          ],
          "name": "stdout"
        }
      ]
    },
    {
      "cell_type": "code",
      "metadata": {
        "colab": {
          "base_uri": "https://localhost:8080/"
        },
        "id": "I3dGcyD9OmSE",
        "outputId": "13b70716-ff2b-48c4-b9ad-939f381182e7"
      },
      "source": [
        "a=[1,2,3,4,5]\n",
        "np.min(a),np.max(a),np.argmin(a),np.argmax(a)"
      ],
      "execution_count": null,
      "outputs": [
        {
          "output_type": "execute_result",
          "data": {
            "text/plain": [
              "(1, 5, 0, 4)"
            ]
          },
          "metadata": {
            "tags": []
          },
          "execution_count": 18
        }
      ]
    },
    {
      "cell_type": "code",
      "metadata": {
        "colab": {
          "base_uri": "https://localhost:8080/"
        },
        "id": "74v7YE4mOmU8",
        "outputId": "82d740ea-9478-45b6-915c-f9b22d958f04"
      },
      "source": [
        "a=np.random.randint(10,40,100)\n",
        "a[a>20]"
      ],
      "execution_count": null,
      "outputs": [
        {
          "output_type": "execute_result",
          "data": {
            "text/plain": [
              "array([25, 33, 28, 32, 36, 30, 32, 38, 39, 33, 35, 39, 21, 30, 21, 37, 22,\n",
              "       31, 29, 38, 28, 38, 39, 23, 37, 38, 36, 39, 22, 23, 38, 26, 39, 22,\n",
              "       34, 23, 27, 32, 35, 26, 26, 26, 38, 27, 38, 38, 31, 37, 21, 29, 30,\n",
              "       26, 29, 21, 32, 34, 21, 22, 33, 30, 32, 21, 35, 38, 28, 21, 34])"
            ]
          },
          "metadata": {
            "tags": []
          },
          "execution_count": 22
        }
      ]
    },
    {
      "cell_type": "code",
      "metadata": {
        "colab": {
          "base_uri": "https://localhost:8080/"
        },
        "id": "z51irk_dOmW9",
        "outputId": "e5ea6181-45f6-47cd-948e-4c80324bad33"
      },
      "source": [
        "import numpy as np\n",
        "a=np.array(([1,2,3],[4,5,6],[7,8,9]))\n",
        "#a[0][1]\n",
        "print(a)"
      ],
      "execution_count": null,
      "outputs": [
        {
          "output_type": "stream",
          "text": [
            "[[1 2 3]\n",
            " [4 5 6]\n",
            " [7 8 9]]\n"
          ],
          "name": "stdout"
        }
      ]
    },
    {
      "cell_type": "code",
      "metadata": {
        "colab": {
          "base_uri": "https://localhost:8080/"
        },
        "id": "g6kltPLCOmZR",
        "outputId": "cfc6c8b6-409a-42c2-e95b-077d2c48a0c0"
      },
      "source": [
        "np.eye(5) #Gives identity matrix of 5*5."
      ],
      "execution_count": null,
      "outputs": [
        {
          "output_type": "execute_result",
          "data": {
            "text/plain": [
              "array([[1., 0., 0., 0., 0.],\n",
              "       [0., 1., 0., 0., 0.],\n",
              "       [0., 0., 1., 0., 0.],\n",
              "       [0., 0., 0., 1., 0.],\n",
              "       [0., 0., 0., 0., 1.]])"
            ]
          },
          "metadata": {
            "tags": []
          },
          "execution_count": 29
        }
      ]
    },
    {
      "cell_type": "code",
      "metadata": {
        "colab": {
          "base_uri": "https://localhost:8080/",
          "height": 352
        },
        "id": "i8Qlhk7-OmbU",
        "outputId": "d527c4fd-1c7d-4273-ba2d-bacb74e4ef20"
      },
      "source": [
        "import matplotlib.pyplot as plt\n",
        "%matplotlib inline\n",
        "a=np.random.randn(5,5)\n",
        "plt.plot(a)"
      ],
      "execution_count": null,
      "outputs": [
        {
          "output_type": "execute_result",
          "data": {
            "text/plain": [
              "[<matplotlib.lines.Line2D at 0x7f15126abfd0>,\n",
              " <matplotlib.lines.Line2D at 0x7f1512645cd0>,\n",
              " <matplotlib.lines.Line2D at 0x7f1512645e90>,\n",
              " <matplotlib.lines.Line2D at 0x7f151264f090>,\n",
              " <matplotlib.lines.Line2D at 0x7f151264f250>]"
            ]
          },
          "metadata": {
            "tags": []
          },
          "execution_count": 49
        },
        {
          "output_type": "display_data",
          "data": {
            "image/png": "[encoded data removed]",
            "text/plain": [
              "<Figure size 432x288 with 1 Axes>"
            ]
          },
          "metadata": {
            "tags": [],
            "needs_background": "light"
          }
        }
      ]
    },
    {
      "cell_type": "code",
      "metadata": {
        "colab": {
          "base_uri": "https://localhost:8080/"
        },
        "id": "xN3xqLfBTq1M",
        "outputId": "b02762d1-1891-4d61-951c-f2c4e8afaf6b"
      },
      "source": [
        "import numpy as np\n",
        "np.random.randint(0,10,2)"
      ],
      "execution_count": null,
      "outputs": [
        {
          "output_type": "execute_result",
          "data": {
            "text/plain": [
              "array([9, 8])"
            ]
          },
          "metadata": {
            "tags": []
          },
          "execution_count": 5
        }
      ]
    },
    {
      "cell_type": "code",
      "metadata": {
        "colab": {
          "base_uri": "https://localhost:8080/",
          "height": 35
        },
        "id": "jTMLPdvrQAC9",
        "outputId": "e92e867e-6eed-40db-c697-157fd403db50"
      },
      "source": [
        "a='data Science'\n",
        "a.capitalize()"
      ],
      "execution_count": null,
      "outputs": [
        {
          "output_type": "execute_result",
          "data": {
            "application/vnd.google.colaboratory.intrinsic+json": {
              "type": "string"
            },
            "text/plain": [
              "'Data science'"
            ]
          },
          "metadata": {
            "tags": []
          },
          "execution_count": 12
        }
      ]
    },
    {
      "cell_type": "code",
      "metadata": {
        "colab": {
          "base_uri": "https://localhost:8080/",
          "height": 35
        },
        "id": "yyD5dMwwKumP",
        "outputId": "eaa826e5-354f-420a-89bb-1d550e09eb4e"
      },
      "source": [
        "a='data science'\n",
        "a.title()"
      ],
      "execution_count": null,
      "outputs": [
        {
          "output_type": "execute_result",
          "data": {
            "application/vnd.google.colaboratory.intrinsic+json": {
              "type": "string"
            },
            "text/plain": [
              "'Data Science'"
            ]
          },
          "metadata": {
            "tags": []
          },
          "execution_count": 1
        }
      ]
    },
    {
      "cell_type": "code",
      "metadata": {
        "colab": {
          "base_uri": "https://localhost:8080/",
          "height": 35
        },
        "id": "4zaxE7REQAFt",
        "outputId": "e0674d39-5762-4a73-ec10-6841d33c9fcd"
      },
      "source": [
        "a='Machine learning'\n",
        "a[3].capitalize()+a[6].capitalize()+a[9].capitalize()"
      ],
      "execution_count": null,
      "outputs": [
        {
          "output_type": "execute_result",
          "data": {
            "application/vnd.google.colaboratory.intrinsic+json": {
              "type": "string"
            },
            "text/plain": [
              "'HEE'"
            ]
          },
          "metadata": {
            "tags": []
          },
          "execution_count": 41
        }
      ]
    },
    {
      "cell_type": "code",
      "metadata": {
        "colab": {
          "base_uri": "https://localhost:8080/"
        },
        "id": "IL81cZ5LQAIT",
        "outputId": "b05cdceb-9bb7-4761-cacc-cd834e238772"
      },
      "source": [
        "a.center(20,'*'),a.count('a'),a.count('a',2),a.count('a',0,10)"
      ],
      "execution_count": null,
      "outputs": [
        {
          "output_type": "execute_result",
          "data": {
            "text/plain": [
              "('**Machine learning**', 2, 1, 1)"
            ]
          },
          "metadata": {
            "tags": []
          },
          "execution_count": 45
        }
      ]
    },
    {
      "cell_type": "code",
      "metadata": {
        "colab": {
          "base_uri": "https://localhost:8080/",
          "height": 218
        },
        "id": "FmP9dzZfQAK1",
        "outputId": "525050e3-c30e-4a94-b680-e37a2545667b"
      },
      "source": [
        " a='abhishek'\n",
        " print(a.find('a'),a.index('a'),a.find('m')) #find returns -1 if no matching\n",
        " print(a.index('m')) #index gives value error if no value is found, index faster than find."
      ],
      "execution_count": null,
      "outputs": [
        {
          "output_type": "stream",
          "text": [
            "0 0 -1\n"
          ],
          "name": "stdout"
        },
        {
          "output_type": "error",
          "ename": "ValueError",
          "evalue": "ignored",
          "traceback": [
            "\u001b[0;31m---------------------------------------------------------------------------\u001b[0m",
            "\u001b[0;31mValueError\u001b[0m                                Traceback (most recent call last)",
            "\u001b[0;32m<ipython-input-55-640dd11741d9>\u001b[0m in \u001b[0;36m<module>\u001b[0;34m()\u001b[0m\n\u001b[1;32m      1\u001b[0m \u001b[0ma\u001b[0m\u001b[0;34m=\u001b[0m\u001b[0;34m'abhishek'\u001b[0m\u001b[0;34m\u001b[0m\u001b[0;34m\u001b[0m\u001b[0m\n\u001b[1;32m      2\u001b[0m \u001b[0mprint\u001b[0m\u001b[0;34m(\u001b[0m\u001b[0ma\u001b[0m\u001b[0;34m.\u001b[0m\u001b[0mfind\u001b[0m\u001b[0;34m(\u001b[0m\u001b[0;34m'a'\u001b[0m\u001b[0;34m)\u001b[0m\u001b[0;34m,\u001b[0m\u001b[0ma\u001b[0m\u001b[0;34m.\u001b[0m\u001b[0mindex\u001b[0m\u001b[0;34m(\u001b[0m\u001b[0;34m'a'\u001b[0m\u001b[0;34m)\u001b[0m\u001b[0;34m,\u001b[0m\u001b[0ma\u001b[0m\u001b[0;34m.\u001b[0m\u001b[0mfind\u001b[0m\u001b[0;34m(\u001b[0m\u001b[0;34m'm'\u001b[0m\u001b[0;34m)\u001b[0m\u001b[0;34m)\u001b[0m\u001b[0;34m\u001b[0m\u001b[0;34m\u001b[0m\u001b[0m\n\u001b[0;32m----> 3\u001b[0;31m \u001b[0mprint\u001b[0m\u001b[0;34m(\u001b[0m\u001b[0ma\u001b[0m\u001b[0;34m.\u001b[0m\u001b[0mindex\u001b[0m\u001b[0;34m(\u001b[0m\u001b[0;34m'm'\u001b[0m\u001b[0;34m)\u001b[0m\u001b[0;34m)\u001b[0m\u001b[0;34m\u001b[0m\u001b[0;34m\u001b[0m\u001b[0m\n\u001b[0m",
            "\u001b[0;31mValueError\u001b[0m: substring not found"
          ]
        }
      ]
    },
    {
      "cell_type": "code",
      "metadata": {
        "colab": {
          "base_uri": "https://localhost:8080/"
        },
        "id": "9DKvWqoEQANe",
        "outputId": "da6915fd-507f-4c32-a4f9-9f7b3f1ab887"
      },
      "source": [
        "a.lower(),a.upper(),a.islower(),a.isupper(),min(a),max(a),len(a)"
      ],
      "execution_count": null,
      "outputs": [
        {
          "output_type": "execute_result",
          "data": {
            "text/plain": [
              "('abhishek', 'ABHISHEK', True, False, 'a', 's', 8)"
            ]
          },
          "metadata": {
            "tags": []
          },
          "execution_count": 60
        }
      ]
    },
    {
      "cell_type": "code",
      "metadata": {
        "colab": {
          "base_uri": "https://localhost:8080/"
        },
        "id": "rG5wYZhfQAQU",
        "outputId": "6432457a-d186-451a-b004-97517f21eb0b"
      },
      "source": [
        "a='data science'\n",
        "a.split('s')"
      ],
      "execution_count": null,
      "outputs": [
        {
          "output_type": "execute_result",
          "data": {
            "text/plain": [
              "['data ', 'cience']"
            ]
          },
          "metadata": {
            "tags": []
          },
          "execution_count": 8
        }
      ]
    },
    {
      "cell_type": "code",
      "metadata": {
        "colab": {
          "base_uri": "https://localhost:8080/",
          "height": 166
        },
        "id": "Uom-KcvwQATI",
        "outputId": "e1a6f7cd-68a6-4a94-dd4b-b4d16362f451"
      },
      "source": [
        "a.isalpha(),a.isnumeric(),a.isdigit()"
      ],
      "execution_count": null,
      "outputs": [
        {
          "output_type": "error",
          "ename": "AttributeError",
          "evalue": "ignored",
          "traceback": [
            "\u001b[0;31m---------------------------------------------------------------------------\u001b[0m",
            "\u001b[0;31mAttributeError\u001b[0m                            Traceback (most recent call last)",
            "\u001b[0;32m<ipython-input-70-fc92a341fdba>\u001b[0m in \u001b[0;36m<module>\u001b[0;34m()\u001b[0m\n\u001b[0;32m----> 1\u001b[0;31m \u001b[0ma\u001b[0m\u001b[0;34m.\u001b[0m\u001b[0misalpha\u001b[0m\u001b[0;34m(\u001b[0m\u001b[0;34m)\u001b[0m\u001b[0;34m,\u001b[0m\u001b[0ma\u001b[0m\u001b[0;34m.\u001b[0m\u001b[0misnum\u001b[0m\u001b[0;34m(\u001b[0m\u001b[0;34m)\u001b[0m\u001b[0;34m,\u001b[0m\u001b[0ma\u001b[0m\u001b[0;34m.\u001b[0m\u001b[0misdigit\u001b[0m\u001b[0;34m(\u001b[0m\u001b[0;34m)\u001b[0m\u001b[0;34m\u001b[0m\u001b[0;34m\u001b[0m\u001b[0m\n\u001b[0m",
            "\u001b[0;31mAttributeError\u001b[0m: 'str' object has no attribute 'isnum'"
          ]
        }
      ]
    },
    {
      "cell_type": "code",
      "metadata": {
        "colab": {
          "base_uri": "https://localhost:8080/"
        },
        "id": "UzrFqPXc5dvW",
        "outputId": "474c201e-45c2-4d0f-d020-ff69116ac6c0"
      },
      "source": [
        "a='a123b'\n",
        "print(a.isalpha())"
      ],
      "execution_count": null,
      "outputs": [
        {
          "output_type": "stream",
          "text": [
            "False\n"
          ],
          "name": "stdout"
        }
      ]
    },
    {
      "cell_type": "code",
      "metadata": {
        "colab": {
          "base_uri": "https://localhost:8080/"
        },
        "id": "T6LqIrLg542Z",
        "outputId": "884e2939-b492-451b-93fd-93a778dddd0d"
      },
      "source": [
        "a='123a'\n",
        "print(a.isnumeric())#isnumeric and isdigit can be used for other language numerals too. but isdigit gives false and isnumeric gives true."
      ],
      "execution_count": null,
      "outputs": [
        {
          "output_type": "stream",
          "text": [
            "False\n"
          ],
          "name": "stdout"
        }
      ]
    },
    {
      "cell_type": "code",
      "metadata": {
        "colab": {
          "base_uri": "https://localhost:8080/"
        },
        "id": "U-K8t5fK6Hq_",
        "outputId": "682baf46-7b7a-4479-d4a2-51e2253e4639"
      },
      "source": [
        "a='123'\n",
        "print(a.isdigit())"
      ],
      "execution_count": null,
      "outputs": [
        {
          "output_type": "stream",
          "text": [
            "True\n"
          ],
          "name": "stdout"
        }
      ]
    },
    {
      "cell_type": "code",
      "metadata": {
        "colab": {
          "base_uri": "https://localhost:8080/"
        },
        "id": "G8vR4_UMV5Ee",
        "outputId": "6fd46aa1-c0e9-40c8-f553-4b61506c5778"
      },
      "source": [
        "x='pqrs'\n",
        "for i in range(len(x)):\n",
        "  x[i].upper() #String is immutable.\n",
        "print(x)"
      ],
      "execution_count": null,
      "outputs": [
        {
          "output_type": "stream",
          "text": [
            "pqrs\n"
          ],
          "name": "stdout"
        }
      ]
    },
    {
      "cell_type": "code",
      "metadata": {
        "colab": {
          "base_uri": "https://localhost:8080/"
        },
        "id": "xnait2y-WVc_",
        "outputId": "a7b3c99f-8c37-434c-d06e-ddc8807fd152"
      },
      "source": [
        "##12345678910\n",
        "##10987654321\n",
        "for i in range(1,11):\n",
        "  print(i,11-i)"
      ],
      "execution_count": null,
      "outputs": [
        {
          "output_type": "stream",
          "text": [
            "1 10\n",
            "2 9\n",
            "3 8\n",
            "4 7\n",
            "5 6\n",
            "6 5\n",
            "7 4\n",
            "8 3\n",
            "9 2\n",
            "10 1\n"
          ],
          "name": "stdout"
        }
      ]
    },
    {
      "cell_type": "code",
      "metadata": {
        "colab": {
          "base_uri": "https://localhost:8080/"
        },
        "id": "7zReJGOLWVfb",
        "outputId": "75ac9b66-2892-4a9c-bb08-5816a5d67008"
      },
      "source": [
        "##1Aa\n",
        "##2Bb\n",
        "for i in range(1,11):\n",
        "  print(i,chr(64+i),chr(64+i).lower(),end=' ')"
      ],
      "execution_count": null,
      "outputs": [
        {
          "output_type": "stream",
          "text": [
            "1 A a 2 B b 3 C c 4 D d 5 E e 6 F f 7 G g 8 H h 9 I i 10 J j "
          ],
          "name": "stdout"
        }
      ]
    },
    {
      "cell_type": "code",
      "metadata": {
        "colab": {
          "base_uri": "https://localhost:8080/"
        },
        "id": "hnVsUqftWVh4",
        "outputId": "297cb7dc-3e92-463a-f733-a8ed73dbfd3a"
      },
      "source": [
        "x=20\n",
        "while x>10:\n",
        "  print('Loop')\n",
        "  x=x-1"
      ],
      "execution_count": null,
      "outputs": [
        {
          "output_type": "stream",
          "text": [
            "Loop\n",
            "Loop\n",
            "Loop\n",
            "Loop\n",
            "Loop\n",
            "Loop\n",
            "Loop\n",
            "Loop\n",
            "Loop\n",
            "Loop\n"
          ],
          "name": "stdout"
        }
      ]
    },
    {
      "cell_type": "code",
      "metadata": {
        "colab": {
          "base_uri": "https://localhost:8080/"
        },
        "id": "DxOvQa33WVj4",
        "outputId": "2c19fc68-cfbb-4e63-bc82-685581b63ed8"
      },
      "source": [
        "for i in range(1,6): ##For reverse of this pattern use x=[5,4,3,2,1] for i in x;\n",
        "  print(i*'*')"
      ],
      "execution_count": null,
      "outputs": [
        {
          "output_type": "stream",
          "text": [
            "*\n",
            "**\n",
            "***\n",
            "****\n",
            "*****\n"
          ],
          "name": "stdout"
        }
      ]
    },
    {
      "cell_type": "code",
      "metadata": {
        "colab": {
          "base_uri": "https://localhost:8080/"
        },
        "id": "7zyt31s9WVl6",
        "outputId": "0ac9f5d0-affa-48fa-b232-4d8454cf4f29"
      },
      "source": [
        "a=set('pqr')\n",
        "a.add('abc')\n",
        "print(a)\n",
        "a.remove('p')\n",
        "print(a)"
      ],
      "execution_count": null,
      "outputs": [
        {
          "output_type": "stream",
          "text": [
            "{'p', 'abc', 'r', 'q'}\n",
            "{'abc', 'r', 'q'}\n"
          ],
          "name": "stdout"
        }
      ]
    },
    {
      "cell_type": "code",
      "metadata": {
        "id": "0hHvB1cke8i_",
        "colab": {
          "base_uri": "https://localhost:8080/"
        },
        "outputId": "4f80d4cb-9a65-4a0a-ba5f-fe9950cb2b05"
      },
      "source": [
        "import numpy as np\n",
        "np.array(([1,2,3],[4,5,6],[7,8,9])) #Gives matrix output."
      ],
      "execution_count": null,
      "outputs": [
        {
          "output_type": "execute_result",
          "data": {
            "text/plain": [
              "array([[1, 2, 3],\n",
              "       [4, 5, 6],\n",
              "       [7, 8, 9]])"
            ]
          },
          "metadata": {
            "tags": []
          },
          "execution_count": 3
        }
      ]
    },
    {
      "cell_type": "code",
      "metadata": {
        "id": "nriUEkSxe8nz",
        "colab": {
          "base_uri": "https://localhost:8080/"
        },
        "outputId": "4d164677-8b9a-4306-d25e-e214cd32efe8"
      },
      "source": [
        "##Return a max length of each word in a string.\n",
        "a='Abhishek is a goodxxxxxxxx boywwwwwwwwwwwwww'\n",
        "j=0\n",
        "b=a.split()\n",
        "print(b)\n",
        "for i in b:\n",
        "  if (len(i)>j):\n",
        "    j=len(i)\n",
        "  print(j)\n"
      ],
      "execution_count": null,
      "outputs": [
        {
          "output_type": "stream",
          "text": [
            "['Abhishek', 'is', 'a', 'goodxxxxxxxx', 'boywwwwwwwwwwwwww']\n",
            "8\n",
            "8\n",
            "8\n",
            "12\n",
            "17\n"
          ],
          "name": "stdout"
        }
      ]
    },
    {
      "cell_type": "code",
      "metadata": {
        "id": "Oni0J_mje8vO",
        "colab": {
          "base_uri": "https://localhost:8080/"
        },
        "outputId": "9ddea118-1a29-4831-940c-535fc43edeca"
      },
      "source": [
        "##From a string print first and third letter from each word.\n",
        "a='Beautiful morning'\n",
        "x=a.split()\n",
        "for i in x:\n",
        "  print(i[0],i[2])"
      ],
      "execution_count": null,
      "outputs": [
        {
          "output_type": "stream",
          "text": [
            "B a\n",
            "m r\n"
          ],
          "name": "stdout"
        }
      ]
    },
    {
      "cell_type": "code",
      "metadata": {
        "id": "nPGSFyfTe8xK",
        "colab": {
          "base_uri": "https://localhost:8080/"
        },
        "outputId": "8365b3b6-0a89-450e-d558-e7a1311a0101"
      },
      "source": [
        "##Calculating number of 'aeiou' from a string\n",
        "a='AbhiShek is gooD Boy'\n",
        "j=0\n",
        "for i in a:\n",
        "  if ((i.capitalize()=='A') or \n",
        "     (i.capitalize()=='E') or\n",
        "     (i.capitalize()=='I') or\n",
        "     (i.capitalize()=='O') or\n",
        "     (i.capitalize()=='U')):\n",
        "    j=j+1\n",
        "print(j)"
      ],
      "execution_count": null,
      "outputs": [
        {
          "output_type": "stream",
          "text": [
            "7\n"
          ],
          "name": "stdout"
        }
      ]
    },
    {
      "cell_type": "code",
      "metadata": {
        "colab": {
          "base_uri": "https://localhost:8080/"
        },
        "id": "Ea9XDHn8esZg",
        "outputId": "c0e40b75-3625-4326-ea29-23189ff14925"
      },
      "source": [
        "##If string is isalpha, return first letter else return last letter.\n",
        "a='Abh1shek is a good boy'\n",
        "b=a.split()\n",
        "for i in b:\n",
        "  if i.isalpha():\n",
        "    print(i[0])\n",
        "  else:\n",
        "    print(i[-1])"
      ],
      "execution_count": null,
      "outputs": [
        {
          "output_type": "stream",
          "text": [
            "k\n",
            "i\n",
            "a\n",
            "g\n",
            "b\n"
          ],
          "name": "stdout"
        }
      ]
    },
    {
      "cell_type": "code",
      "metadata": {
        "colab": {
          "base_uri": "https://localhost:8080/"
        },
        "id": "5fS_3gg_escm",
        "outputId": "7ee01c57-f0db-465c-cc14-d5b5f39e6ced"
      },
      "source": [
        "##Analysing a review from a customer whether it is positive or negative.\n",
        "a='This company is a worst company and people should not stay longer working in this company'\n",
        "l1=['good','GOOD','Happy','Great']\n",
        "l2=['worst','not']\n",
        "p=0\n",
        "n=0\n",
        "b=a.split()\n",
        "print(b)\n",
        "for i in b:\n",
        "  if i in l1:\n",
        "    p=p+1\n",
        "  elif i in l2:\n",
        "    n=n+1\n",
        "print(p)\n",
        "print(n)"
      ],
      "execution_count": null,
      "outputs": [
        {
          "output_type": "stream",
          "text": [
            "['This', 'company', 'is', 'a', 'worst', 'company', 'and', 'people', 'should', 'not', 'stay', 'longer', 'working', 'in', 'this', 'company']\n",
            "0\n",
            "2\n"
          ],
          "name": "stdout"
        }
      ]
    },
    {
      "cell_type": "code",
      "metadata": {
        "id": "0uz6XDmyesfL",
        "colab": {
          "base_uri": "https://localhost:8080/"
        },
        "outputId": "3ea5697a-f58c-40de-892f-6d612e4a789b"
      },
      "source": [
        "l=list('1234')\n",
        "print(l)\n",
        "l[0]=l[1]=5\n",
        "print(l)"
      ],
      "execution_count": null,
      "outputs": [
        {
          "output_type": "stream",
          "text": [
            "['1', '2', '3', '4']\n",
            "[5, 5, '3', '4']\n"
          ],
          "name": "stdout"
        }
      ]
    },
    {
      "cell_type": "code",
      "metadata": {
        "id": "XGRiG0lIeshy",
        "colab": {
          "base_uri": "https://localhost:8080/"
        },
        "outputId": "04bb4f9d-aff5-4e33-ff78-ebbebbe335bd"
      },
      "source": [
        "a=np.array(([1,2,3],[4,5,6],[7,8,9]))\n",
        "print(a)"
      ],
      "execution_count": null,
      "outputs": [
        {
          "output_type": "stream",
          "text": [
            "[[1 2 3]\n",
            " [4 5 6]\n",
            " [7 8 9]]\n"
          ],
          "name": "stdout"
        }
      ]
    },
    {
      "cell_type": "code",
      "metadata": {
        "colab": {
          "base_uri": "https://localhost:8080/"
        },
        "id": "DyS1qHKcDc26",
        "outputId": "8de7c2f2-faa6-48bf-a030-939b25fd8d88"
      },
      "source": [
        "a.sum(),a.max(axis=1),a.sum(axis=0),a.shape, a[1], a.min(), a.max(),a.max(axis=0)"
      ],
      "execution_count": null,
      "outputs": [
        {
          "output_type": "execute_result",
          "data": {
            "text/plain": [
              "(45,\n",
              " array([3, 6, 9]),\n",
              " array([12, 15, 18]),\n",
              " (3, 3),\n",
              " array([4, 5, 6]),\n",
              " 1,\n",
              " 9,\n",
              " array([7, 8, 9]))"
            ]
          },
          "metadata": {
            "tags": []
          },
          "execution_count": 35
        }
      ]
    },
    {
      "cell_type": "code",
      "metadata": {
        "colab": {
          "base_uri": "https://localhost:8080/"
        },
        "id": "6Vm280fUDc5e",
        "outputId": "a43105eb-d17d-4989-da56-e04741a3bf3d"
      },
      "source": [
        "a='12345'\n",
        "print(type(a))\n",
        "a=list(a)\n",
        "print(type(a))"
      ],
      "execution_count": null,
      "outputs": [
        {
          "output_type": "stream",
          "text": [
            "<class 'str'>\n",
            "<class 'list'>\n"
          ],
          "name": "stdout"
        }
      ]
    },
    {
      "cell_type": "code",
      "metadata": {
        "colab": {
          "base_uri": "https://localhost:8080/"
        },
        "id": "i7HhRBWfDc-l",
        "outputId": "d6ac9b30-00fa-4248-f31e-a459796ee4d9"
      },
      "source": [
        "##Removing the garbage characters\n",
        "a='Ind@ia a beau@#$!tiful C!ountr#y'\n",
        "garbage=['!','@','#','$','%']\n",
        "for i in a:\n",
        "  if i in garbage:\n",
        "    a=a.replace(i,'')\n",
        "print(a)"
      ],
      "execution_count": null,
      "outputs": [
        {
          "output_type": "stream",
          "text": [
            "India a beautiful Country\n"
          ],
          "name": "stdout"
        }
      ]
    },
    {
      "cell_type": "code",
      "metadata": {
        "colab": {
          "base_uri": "https://localhost:8080/"
        },
        "id": "B6vT1YgxDdB8",
        "outputId": "98c6c152-56e9-4360-9541-3072a1e4ef79"
      },
      "source": [
        "##Concatenating the words (0th posn to 0th posn etc...)\n",
        "a='My name is abhi'\n",
        "b='Am a engineer'\n",
        "c=''\n",
        "a=a.split()\n",
        "b=b.split()\n",
        "for i in a:\n",
        "  #print(i)\n",
        "  for j in b:\n",
        "    #print(j)\n",
        "    c=i+j\n",
        "  print(c)"
      ],
      "execution_count": null,
      "outputs": [
        {
          "output_type": "stream",
          "text": [
            "Myengineer\n",
            "nameengineer\n",
            "isengineer\n",
            "abhiengineer\n"
          ],
          "name": "stdout"
        }
      ]
    },
    {
      "cell_type": "code",
      "metadata": {
        "id": "oq3kXzXheskX"
      },
      "source": [
        "##Functions\n",
        "def calc(a,b)#Positional argument order is imp\n",
        "def calc(a=10,b=20)#Default argument, and also they should come at last.\n",
        "calc(b=10,a=20)#Keyword argument oreder is not imp"
      ],
      "execution_count": null,
      "outputs": []
    },
    {
      "cell_type": "code",
      "metadata": {
        "id": "H80Oiai7Q0Fi"
      },
      "source": [
        "Lambda/ Nameless function/ Temparory function\n",
        "lambda argument(input):expression"
      ],
      "execution_count": null,
      "outputs": []
    },
    {
      "cell_type": "code",
      "metadata": {
        "colab": {
          "base_uri": "https://localhost:8080/"
        },
        "id": "_SbJEU10Q0Io",
        "outputId": "930cf4a2-4ae7-4cec-b409-e099c58f7798"
      },
      "source": [
        "s=lambda n:n*2\n",
        "print(s(4))"
      ],
      "execution_count": null,
      "outputs": [
        {
          "output_type": "stream",
          "text": [
            "8\n"
          ],
          "name": "stdout"
        }
      ]
    },
    {
      "cell_type": "code",
      "metadata": {
        "id": "KP4IcbBYQ0K8"
      },
      "source": [
        "#Filter,zip,map,reduce\n",
        "They excepts another function as argument.(lambda function will be used)\n",
        "filter(function,sequence)\n"
      ],
      "execution_count": null,
      "outputs": []
    },
    {
      "cell_type": "code",
      "metadata": {
        "colab": {
          "base_uri": "https://localhost:8080/"
        },
        "id": "46DinpUJQ0M7",
        "outputId": "f1109955-2dc6-492f-e17c-34d45c4f1e47"
      },
      "source": [
        "seq=[1,2,3,4,5]\n",
        "seq=list(filter(lambda x:x%2==0, seq))\n",
        "seq"
      ],
      "execution_count": null,
      "outputs": [
        {
          "output_type": "execute_result",
          "data": {
            "text/plain": [
              "[2, 4]"
            ]
          },
          "metadata": {
            "tags": []
          },
          "execution_count": 14
        }
      ]
    },
    {
      "cell_type": "code",
      "metadata": {
        "id": "BgXhQ6uVesmh",
        "colab": {
          "base_uri": "https://localhost:8080/"
        },
        "outputId": "664ebd4c-92db-44b1-9ee3-22788572d89c"
      },
      "source": [
        "#map(lambdax:x*2,l)\n",
        "l=[1,2,3,4]\n",
        "a=set(map(lambda x:x*2,l)) #For every element in a sequence it will map the value.\n",
        "a"
      ],
      "execution_count": null,
      "outputs": [
        {
          "output_type": "execute_result",
          "data": {
            "text/plain": [
              "{2, 4, 6, 8}"
            ]
          },
          "metadata": {
            "tags": []
          },
          "execution_count": 18
        }
      ]
    },
    {
      "cell_type": "code",
      "metadata": {
        "colab": {
          "base_uri": "https://localhost:8080/",
          "height": 218
        },
        "id": "nFgdZr4vamjw",
        "outputId": "59ddfe45-1028-441f-dd39-4a60e4bba2fd"
      },
      "source": [
        "#reduce\n",
        "#reduce(func,seq)#Returns final result import functools\n",
        "#accumulate(func,seq)#Returns all intermediate results. from itertools\n",
        "from functools import reduce\n",
        "a=reduce(lambda x,y:x+y, [1,2,3,4]) #Like returning final value.\n",
        "a\n",
        "from itertools import accumulate #returns intermediate value.\n",
        "b=accumulate(lambda x,y:x+y, [1,2,3,4])\n",
        "b"
      ],
      "execution_count": null,
      "outputs": [
        {
          "output_type": "error",
          "ename": "TypeError",
          "evalue": "ignored",
          "traceback": [
            "\u001b[0;31m---------------------------------------------------------------------------\u001b[0m",
            "\u001b[0;31mTypeError\u001b[0m                                 Traceback (most recent call last)",
            "\u001b[0;32m<ipython-input-22-c94ff9fd3da2>\u001b[0m in \u001b[0;36m<module>\u001b[0;34m()\u001b[0m\n\u001b[1;32m      6\u001b[0m \u001b[0ma\u001b[0m\u001b[0;34m\u001b[0m\u001b[0;34m\u001b[0m\u001b[0m\n\u001b[1;32m      7\u001b[0m \u001b[0;32mfrom\u001b[0m \u001b[0mitertools\u001b[0m \u001b[0;32mimport\u001b[0m \u001b[0maccumulate\u001b[0m\u001b[0;34m\u001b[0m\u001b[0;34m\u001b[0m\u001b[0m\n\u001b[0;32m----> 8\u001b[0;31m \u001b[0mb\u001b[0m\u001b[0;34m=\u001b[0m\u001b[0maccumulate\u001b[0m\u001b[0;34m(\u001b[0m\u001b[0;32mlambda\u001b[0m \u001b[0mx\u001b[0m\u001b[0;34m,\u001b[0m\u001b[0my\u001b[0m\u001b[0;34m:\u001b[0m\u001b[0mx\u001b[0m\u001b[0;34m+\u001b[0m\u001b[0my\u001b[0m\u001b[0;34m,\u001b[0m \u001b[0;34m[\u001b[0m\u001b[0;36m1\u001b[0m\u001b[0;34m,\u001b[0m\u001b[0;36m2\u001b[0m\u001b[0;34m,\u001b[0m\u001b[0;36m3\u001b[0m\u001b[0;34m,\u001b[0m\u001b[0;36m4\u001b[0m\u001b[0;34m]\u001b[0m\u001b[0;34m)\u001b[0m\u001b[0;34m\u001b[0m\u001b[0;34m\u001b[0m\u001b[0m\n\u001b[0m\u001b[1;32m      9\u001b[0m \u001b[0mb\u001b[0m\u001b[0;34m\u001b[0m\u001b[0;34m\u001b[0m\u001b[0m\n",
            "\u001b[0;31mTypeError\u001b[0m: 'function' object is not iterable"
          ]
        }
      ]
    },
    {
      "cell_type": "code",
      "metadata": {
        "colab": {
          "base_uri": "https://localhost:8080/"
        },
        "id": "xhe7ptpBammU",
        "outputId": "b91f1124-16ef-40e3-96c1-a54d085c7a8c"
      },
      "source": [
        "a=reduce(lambda x,y:x*y,[1,2,3,4])\n",
        "a"
      ],
      "execution_count": null,
      "outputs": [
        {
          "output_type": "execute_result",
          "data": {
            "text/plain": [
              "24"
            ]
          },
          "metadata": {
            "tags": []
          },
          "execution_count": 24
        }
      ]
    },
    {
      "cell_type": "code",
      "metadata": {
        "colab": {
          "base_uri": "https://localhost:8080/"
        },
        "id": "6Fk4oksaamon",
        "outputId": "2583cdd7-80b7-4f6b-96c5-3d0d09b32e95"
      },
      "source": [
        "l1=range(10)\n",
        "l1"
      ],
      "execution_count": null,
      "outputs": [
        {
          "output_type": "execute_result",
          "data": {
            "text/plain": [
              "range(0, 10)"
            ]
          },
          "metadata": {
            "tags": []
          },
          "execution_count": 25
        }
      ]
    },
    {
      "cell_type": "code",
      "metadata": {
        "colab": {
          "base_uri": "https://localhost:8080/"
        },
        "id": "lJ93hy2Camqg",
        "outputId": "703f20b2-3062-4701-8586-6bc452cfd7ac"
      },
      "source": [
        "l2=range(10,20)\n",
        "l2"
      ],
      "execution_count": null,
      "outputs": [
        {
          "output_type": "execute_result",
          "data": {
            "text/plain": [
              "range(10, 20)"
            ]
          },
          "metadata": {
            "tags": []
          },
          "execution_count": 26
        }
      ]
    },
    {
      "cell_type": "code",
      "metadata": {
        "id": "ksIIrDSke8y2",
        "colab": {
          "base_uri": "https://localhost:8080/"
        },
        "outputId": "203c9ee5-111d-4395-fe84-17556e088dd7"
      },
      "source": [
        "l3=set(map(lambda x,y:x+y,l1,l2))\n",
        "l3"
      ],
      "execution_count": null,
      "outputs": [
        {
          "output_type": "execute_result",
          "data": {
            "text/plain": [
              "{10, 12, 14, 16, 18, 20, 22, 24, 26, 28}"
            ]
          },
          "metadata": {
            "tags": []
          },
          "execution_count": 27
        }
      ]
    },
    {
      "cell_type": "code",
      "metadata": {
        "colab": {
          "base_uri": "https://localhost:8080/"
        },
        "id": "CuR4T_aWcdB4",
        "outputId": "c4dda359-98ea-46a0-ef5a-91f54b754e9f"
      },
      "source": [
        "l4=set(filter(lambda x:x>15,l3))\n",
        "l4"
      ],
      "execution_count": null,
      "outputs": [
        {
          "output_type": "execute_result",
          "data": {
            "text/plain": [
              "{16, 18, 20, 22, 24, 26, 28}"
            ]
          },
          "metadata": {
            "tags": []
          },
          "execution_count": 28
        }
      ]
    },
    {
      "cell_type": "code",
      "metadata": {
        "colab": {
          "base_uri": "https://localhost:8080/"
        },
        "id": "txsI3hbMcdEp",
        "outputId": "b643ebb6-2181-4fb2-9223-812c308e87ac"
      },
      "source": [
        "from functools import reduce\n",
        "reduce(lambda x,y:x*y, l4)#values gets assigned to x and y"
      ],
      "execution_count": null,
      "outputs": [
        {
          "output_type": "execute_result",
          "data": {
            "text/plain": [
              "2214051840"
            ]
          },
          "metadata": {
            "tags": []
          },
          "execution_count": 29
        }
      ]
    },
    {
      "cell_type": "code",
      "metadata": {
        "colab": {
          "base_uri": "https://localhost:8080/"
        },
        "id": "-UD4VnjRcdHF",
        "outputId": "324dbd8f-785a-4758-8843-99dcdbcdedfe"
      },
      "source": [
        "reduce(lambda x,y:x*y,filter(lambda x:x>15,map(lambda x,y:x+y,l1,l2)))"
      ],
      "execution_count": null,
      "outputs": [
        {
          "output_type": "execute_result",
          "data": {
            "text/plain": [
              "2214051840"
            ]
          },
          "metadata": {
            "tags": []
          },
          "execution_count": 30
        }
      ]
    },
    {
      "cell_type": "code",
      "metadata": {
        "colab": {
          "base_uri": "https://localhost:8080/"
        },
        "id": "JC09W9MCcdJD",
        "outputId": "18668453-f5a5-4326-8e3e-d2ea710138c5"
      },
      "source": [
        "##Decorator is used to extend the functionality of existing code without modifying it.\n",
        "def decor(wish):\n",
        "  def inner(name):\n",
        "    if name=='xyz':\n",
        "      print('Hello')\n",
        "    else:\n",
        "      wish(name)\n",
        "  return inner\n",
        "@decor #Decorator takes function as an argument\n",
        "def wish(name):\n",
        "  print('Hello guest')\n",
        "wish('xyz')"
      ],
      "execution_count": null,
      "outputs": [
        {
          "output_type": "stream",
          "text": [
            "Hello\n"
          ],
          "name": "stdout"
        }
      ]
    },
    {
      "cell_type": "code",
      "metadata": {
        "colab": {
          "base_uri": "https://localhost:8080/",
          "height": 235
        },
        "id": "DlU5vxLkd4aP",
        "outputId": "1e22c573-7fde-459a-b084-fe8c75d5d50a"
      },
      "source": [
        "#Module - A group of functions saved to a file. and that can be directly loaded into other piece of work\n",
        "#Code reuseability, maintainability,length of code gets reduced.\n",
        "#If this is the code in module1 file\n",
        "def add(a,b):\n",
        "    return a+b\n",
        "\n",
        "def mul(a,b):\n",
        "    return a*b\n",
        "\n",
        "##In other ide use it directly\n",
        "import importlib\n",
        "#import module1\n",
        "importlib.reload(module1) #To reload the changes happened in module1\n",
        "print(module1.add(20,100))\n",
        "print(module1.mul(30,50))\n",
        "\n",
        "x=10\n",
        "y=20\n",
        "def f1():\n",
        "    print('Hello')\n",
        "print(dir(module1))##Finding the members of a module.\n",
        "\n",
        "\n",
        "print(__builtins__)\n"
      ],
      "execution_count": null,
      "outputs": [
        {
          "output_type": "error",
          "ename": "NameError",
          "evalue": "ignored",
          "traceback": [
            "\u001b[0;31m---------------------------------------------------------------------------\u001b[0m",
            "\u001b[0;31mNameError\u001b[0m                                 Traceback (most recent call last)",
            "\u001b[0;32m<ipython-input-4-0930533deee1>\u001b[0m in \u001b[0;36m<module>\u001b[0;34m()\u001b[0m\n\u001b[1;32m     11\u001b[0m \u001b[0;32mimport\u001b[0m \u001b[0mimportlib\u001b[0m\u001b[0;34m\u001b[0m\u001b[0;34m\u001b[0m\u001b[0m\n\u001b[1;32m     12\u001b[0m \u001b[0;31m#import module1\u001b[0m\u001b[0;34m\u001b[0m\u001b[0;34m\u001b[0m\u001b[0;34m\u001b[0m\u001b[0m\n\u001b[0;32m---> 13\u001b[0;31m \u001b[0mimportlib\u001b[0m\u001b[0;34m.\u001b[0m\u001b[0mreload\u001b[0m\u001b[0;34m(\u001b[0m\u001b[0mmodule1\u001b[0m\u001b[0;34m)\u001b[0m \u001b[0;31m#To reload the changes happened in module1\u001b[0m\u001b[0;34m\u001b[0m\u001b[0;34m\u001b[0m\u001b[0m\n\u001b[0m\u001b[1;32m     14\u001b[0m \u001b[0mprint\u001b[0m\u001b[0;34m(\u001b[0m\u001b[0mmodule1\u001b[0m\u001b[0;34m.\u001b[0m\u001b[0madd\u001b[0m\u001b[0;34m(\u001b[0m\u001b[0;36m20\u001b[0m\u001b[0;34m,\u001b[0m\u001b[0;36m100\u001b[0m\u001b[0;34m)\u001b[0m\u001b[0;34m)\u001b[0m\u001b[0;34m\u001b[0m\u001b[0;34m\u001b[0m\u001b[0m\n\u001b[1;32m     15\u001b[0m \u001b[0mprint\u001b[0m\u001b[0;34m(\u001b[0m\u001b[0mmodule1\u001b[0m\u001b[0;34m.\u001b[0m\u001b[0mmul\u001b[0m\u001b[0;34m(\u001b[0m\u001b[0;36m30\u001b[0m\u001b[0;34m,\u001b[0m\u001b[0;36m50\u001b[0m\u001b[0;34m)\u001b[0m\u001b[0;34m)\u001b[0m\u001b[0;34m\u001b[0m\u001b[0;34m\u001b[0m\u001b[0m\n",
            "\u001b[0;31mNameError\u001b[0m: name 'module1' is not defined"
          ]
        }
      ]
    },
    {
      "cell_type": "code",
      "metadata": {
        "colab": {
          "base_uri": "https://localhost:8080/"
        },
        "id": "k93uAXHCSVDb",
        "outputId": "c1ac5938-aca2-45ee-d907-37df0bf430c6"
      },
      "source": [
        "txt='20'\n",
        "x=txt.zfill(10) ##zfill makes length as 10.\n",
        "print(x)"
      ],
      "execution_count": null,
      "outputs": [
        {
          "output_type": "stream",
          "text": [
            "0000000020\n"
          ],
          "name": "stdout"
        }
      ]
    },
    {
      "cell_type": "code",
      "metadata": {
        "colab": {
          "base_uri": "https://localhost:8080/"
        },
        "id": "YGIHFnLESVGm",
        "outputId": "301f821f-01d9-4a10-e578-5d6450de8802"
      },
      "source": [
        "def avg():\n",
        "    assert marks!= 0 ##Setting condition earlier only.\n",
        "    avg=(sum(marks)/len(marks))\n",
        "    return avg\n",
        "\n",
        "marks = [10,20,30]\n",
        "print(\"Average of Abhi:\",avg())\n",
        "print(len(marks),sum(marks))"
      ],
      "execution_count": null,
      "outputs": [
        {
          "output_type": "stream",
          "text": [
            "Average of Abhi: 20.0\n",
            "3 60\n"
          ],
          "name": "stdout"
        }
      ]
    },
    {
      "cell_type": "code",
      "metadata": {
        "colab": {
          "base_uri": "https://localhost:8080/",
          "height": 141
        },
        "id": "XuPICHRNpF6F",
        "outputId": "ecc23b08-7be5-40d6-e73f-7760ddbd5e52"
      },
      "source": [
        "pd.DataFrame([1,2,3],columns=['A'],index=['A','B','C'])"
      ],
      "execution_count": null,
      "outputs": [
        {
          "output_type": "execute_result",
          "data": {
            "text/html": [
              "<div>\n",
              "<style scoped>\n",
              "    .dataframe tbody tr th:only-of-type {\n",
              "        vertical-align: middle;\n",
              "    }\n",
              "\n",
              "    .dataframe tbody tr th {\n",
              "        vertical-align: top;\n",
              "    }\n",
              "\n",
              "    .dataframe thead th {\n",
              "        text-align: right;\n",
              "    }\n",
              "</style>\n",
              "<table border=\"1\" class=\"dataframe\">\n",
              "  <thead>\n",
              "    <tr style=\"text-align: right;\">\n",
              "      <th></th>\n",
              "      <th>A</th>\n",
              "    </tr>\n",
              "  </thead>\n",
              "  <tbody>\n",
              "    <tr>\n",
              "      <th>A</th>\n",
              "      <td>1</td>\n",
              "    </tr>\n",
              "    <tr>\n",
              "      <th>B</th>\n",
              "      <td>2</td>\n",
              "    </tr>\n",
              "    <tr>\n",
              "      <th>C</th>\n",
              "      <td>3</td>\n",
              "    </tr>\n",
              "  </tbody>\n",
              "</table>\n",
              "</div>"
            ],
            "text/plain": [
              "   A\n",
              "A  1\n",
              "B  2\n",
              "C  3"
            ]
          },
          "metadata": {
            "tags": []
          },
          "execution_count": 18
        }
      ]
    },
    {
      "cell_type": "code",
      "metadata": {
        "colab": {
          "base_uri": "https://localhost:8080/",
          "height": 202
        },
        "id": "7wEycLGipZKc",
        "outputId": "f290cd6c-85c7-4f61-9596-5930ed1344bf"
      },
      "source": [
        "pd.DataFrame(np.zeros((5,5)),columns=['A','B','C','D','E'])"
      ],
      "execution_count": null,
      "outputs": [
        {
          "output_type": "execute_result",
          "data": {
            "text/html": [
              "<div>\n",
              "<style scoped>\n",
              "    .dataframe tbody tr th:only-of-type {\n",
              "        vertical-align: middle;\n",
              "    }\n",
              "\n",
              "    .dataframe tbody tr th {\n",
              "        vertical-align: top;\n",
              "    }\n",
              "\n",
              "    .dataframe thead th {\n",
              "        text-align: right;\n",
              "    }\n",
              "</style>\n",
              "<table border=\"1\" class=\"dataframe\">\n",
              "  <thead>\n",
              "    <tr style=\"text-align: right;\">\n",
              "      <th></th>\n",
              "      <th>A</th>\n",
              "      <th>B</th>\n",
              "      <th>C</th>\n",
              "      <th>D</th>\n",
              "      <th>E</th>\n",
              "    </tr>\n",
              "  </thead>\n",
              "  <tbody>\n",
              "    <tr>\n",
              "      <th>0</th>\n",
              "      <td>0.0</td>\n",
              "      <td>0.0</td>\n",
              "      <td>0.0</td>\n",
              "      <td>0.0</td>\n",
              "      <td>0.0</td>\n",
              "    </tr>\n",
              "    <tr>\n",
              "      <th>1</th>\n",
              "      <td>0.0</td>\n",
              "      <td>0.0</td>\n",
              "      <td>0.0</td>\n",
              "      <td>0.0</td>\n",
              "      <td>0.0</td>\n",
              "    </tr>\n",
              "    <tr>\n",
              "      <th>2</th>\n",
              "      <td>0.0</td>\n",
              "      <td>0.0</td>\n",
              "      <td>0.0</td>\n",
              "      <td>0.0</td>\n",
              "      <td>0.0</td>\n",
              "    </tr>\n",
              "    <tr>\n",
              "      <th>3</th>\n",
              "      <td>0.0</td>\n",
              "      <td>0.0</td>\n",
              "      <td>0.0</td>\n",
              "      <td>0.0</td>\n",
              "      <td>0.0</td>\n",
              "    </tr>\n",
              "    <tr>\n",
              "      <th>4</th>\n",
              "      <td>0.0</td>\n",
              "      <td>0.0</td>\n",
              "      <td>0.0</td>\n",
              "      <td>0.0</td>\n",
              "      <td>0.0</td>\n",
              "    </tr>\n",
              "  </tbody>\n",
              "</table>\n",
              "</div>"
            ],
            "text/plain": [
              "     A    B    C    D    E\n",
              "0  0.0  0.0  0.0  0.0  0.0\n",
              "1  0.0  0.0  0.0  0.0  0.0\n",
              "2  0.0  0.0  0.0  0.0  0.0\n",
              "3  0.0  0.0  0.0  0.0  0.0\n",
              "4  0.0  0.0  0.0  0.0  0.0"
            ]
          },
          "metadata": {
            "tags": []
          },
          "execution_count": 32
        }
      ]
    },
    {
      "cell_type": "code",
      "metadata": {
        "id": "CRglOaUOSVJR"
      },
      "source": [
        "import pandas as pd\n",
        "import numpy as np\n",
        "import seaborn as sns\n",
        "import matplotlib.pyplot as plt\n",
        "%matplotlib inline\n",
        "import warnings\n",
        "warnings.simplefilter(action='ignore')\n",
        "pd.pandas.set_option('display.max_columns',None)\n",
        "df=pd.read_excel('/content/Assignment.xlsx')"
      ],
      "execution_count": null,
      "outputs": []
    },
    {
      "cell_type": "code",
      "metadata": {
        "colab": {
          "base_uri": "https://localhost:8080/",
          "height": 202
        },
        "id": "w3vmzXmXWdTg",
        "outputId": "a1f8ef91-ccba-45c8-a996-312bcca5a3c8"
      },
      "source": [
        "df.head()"
      ],
      "execution_count": null,
      "outputs": [
        {
          "output_type": "execute_result",
          "data": {
            "text/html": [
              "<div>\n",
              "<style scoped>\n",
              "    .dataframe tbody tr th:only-of-type {\n",
              "        vertical-align: middle;\n",
              "    }\n",
              "\n",
              "    .dataframe tbody tr th {\n",
              "        vertical-align: top;\n",
              "    }\n",
              "\n",
              "    .dataframe thead th {\n",
              "        text-align: right;\n",
              "    }\n",
              "</style>\n",
              "<table border=\"1\" class=\"dataframe\">\n",
              "  <thead>\n",
              "    <tr style=\"text-align: right;\">\n",
              "      <th></th>\n",
              "      <th>Date</th>\n",
              "      <th>Country</th>\n",
              "      <th>Advertiser Account</th>\n",
              "      <th>Spends</th>\n",
              "    </tr>\n",
              "  </thead>\n",
              "  <tbody>\n",
              "    <tr>\n",
              "      <th>0</th>\n",
              "      <td>2020-12-19</td>\n",
              "      <td>USA</td>\n",
              "      <td>9a9b24</td>\n",
              "      <td>119090.0</td>\n",
              "    </tr>\n",
              "    <tr>\n",
              "      <th>1</th>\n",
              "      <td>2020-12-20</td>\n",
              "      <td>USA</td>\n",
              "      <td>9a9b24</td>\n",
              "      <td>112809.0</td>\n",
              "    </tr>\n",
              "    <tr>\n",
              "      <th>2</th>\n",
              "      <td>2020-12-26</td>\n",
              "      <td>USA</td>\n",
              "      <td>9a9b24</td>\n",
              "      <td>101680.0</td>\n",
              "    </tr>\n",
              "    <tr>\n",
              "      <th>3</th>\n",
              "      <td>2020-12-13</td>\n",
              "      <td>USA</td>\n",
              "      <td>9a9b24</td>\n",
              "      <td>106725.0</td>\n",
              "    </tr>\n",
              "    <tr>\n",
              "      <th>4</th>\n",
              "      <td>2020-12-12</td>\n",
              "      <td>USA</td>\n",
              "      <td>9a9b24</td>\n",
              "      <td>92708.0</td>\n",
              "    </tr>\n",
              "  </tbody>\n",
              "</table>\n",
              "</div>"
            ],
            "text/plain": [
              "        Date Country Advertiser Account    Spends\n",
              "0 2020-12-19     USA             9a9b24  119090.0\n",
              "1 2020-12-20     USA             9a9b24  112809.0\n",
              "2 2020-12-26     USA             9a9b24  101680.0\n",
              "3 2020-12-13     USA             9a9b24  106725.0\n",
              "4 2020-12-12     USA             9a9b24   92708.0"
            ]
          },
          "metadata": {
            "tags": []
          },
          "execution_count": 14
        }
      ]
    },
    {
      "cell_type": "code",
      "metadata": {
        "colab": {
          "base_uri": "https://localhost:8080/"
        },
        "id": "UqupX0NZWdWL",
        "outputId": "dfe80435-68d6-4d95-b7af-08bef39bea6a"
      },
      "source": [
        "df.shape #Gives no of rows and columns"
      ],
      "execution_count": null,
      "outputs": [
        {
          "output_type": "execute_result",
          "data": {
            "text/plain": [
              "(7710, 4)"
            ]
          },
          "metadata": {
            "tags": []
          },
          "execution_count": 33
        }
      ]
    },
    {
      "cell_type": "code",
      "metadata": {
        "colab": {
          "base_uri": "https://localhost:8080/"
        },
        "id": "ZkSncKlDWdZW",
        "outputId": "24eb5b41-06e1-412d-eed1-8c49a6a7ce1e"
      },
      "source": [
        "df.columns"
      ],
      "execution_count": null,
      "outputs": [
        {
          "output_type": "execute_result",
          "data": {
            "text/plain": [
              "Index(['Date', 'Country', 'Advertiser Account', 'Spends'], dtype='object')"
            ]
          },
          "metadata": {
            "tags": []
          },
          "execution_count": 34
        }
      ]
    },
    {
      "cell_type": "code",
      "metadata": {
        "colab": {
          "base_uri": "https://localhost:8080/",
          "height": 294
        },
        "id": "-PcfwgqwWdb2",
        "outputId": "ce0ab0c8-c5e8-4db5-b2c4-31f3ab55be21"
      },
      "source": [
        "df.describe()#Only for Numerical columns"
      ],
      "execution_count": null,
      "outputs": [
        {
          "output_type": "execute_result",
          "data": {
            "text/html": [
              "<div>\n",
              "<style scoped>\n",
              "    .dataframe tbody tr th:only-of-type {\n",
              "        vertical-align: middle;\n",
              "    }\n",
              "\n",
              "    .dataframe tbody tr th {\n",
              "        vertical-align: top;\n",
              "    }\n",
              "\n",
              "    .dataframe thead th {\n",
              "        text-align: right;\n",
              "    }\n",
              "</style>\n",
              "<table border=\"1\" class=\"dataframe\">\n",
              "  <thead>\n",
              "    <tr style=\"text-align: right;\">\n",
              "      <th></th>\n",
              "      <th>Spends</th>\n",
              "    </tr>\n",
              "  </thead>\n",
              "  <tbody>\n",
              "    <tr>\n",
              "      <th>count</th>\n",
              "      <td>7710.000000</td>\n",
              "    </tr>\n",
              "    <tr>\n",
              "      <th>mean</th>\n",
              "      <td>1330.061364</td>\n",
              "    </tr>\n",
              "    <tr>\n",
              "      <th>std</th>\n",
              "      <td>7788.796411</td>\n",
              "    </tr>\n",
              "    <tr>\n",
              "      <th>min</th>\n",
              "      <td>0.000000</td>\n",
              "    </tr>\n",
              "    <tr>\n",
              "      <th>25%</th>\n",
              "      <td>3.620809</td>\n",
              "    </tr>\n",
              "    <tr>\n",
              "      <th>50%</th>\n",
              "      <td>38.648418</td>\n",
              "    </tr>\n",
              "    <tr>\n",
              "      <th>75%</th>\n",
              "      <td>304.014600</td>\n",
              "    </tr>\n",
              "    <tr>\n",
              "      <th>max</th>\n",
              "      <td>119743.000000</td>\n",
              "    </tr>\n",
              "  </tbody>\n",
              "</table>\n",
              "</div>"
            ],
            "text/plain": [
              "              Spends\n",
              "count    7710.000000\n",
              "mean     1330.061364\n",
              "std      7788.796411\n",
              "min         0.000000\n",
              "25%         3.620809\n",
              "50%        38.648418\n",
              "75%       304.014600\n",
              "max    119743.000000"
            ]
          },
          "metadata": {
            "tags": []
          },
          "execution_count": 36
        }
      ]
    },
    {
      "cell_type": "code",
      "metadata": {
        "colab": {
          "base_uri": "https://localhost:8080/"
        },
        "id": "YM47P1z9WdeQ",
        "outputId": "72ce0ad3-d0e1-4ce6-ec94-f1092b2ec19c"
      },
      "source": [
        "df.dtypes"
      ],
      "execution_count": null,
      "outputs": [
        {
          "output_type": "execute_result",
          "data": {
            "text/plain": [
              "Date                  datetime64[ns]\n",
              "Country                       object\n",
              "Advertiser Account            object\n",
              "Spends                       float64\n",
              "dtype: object"
            ]
          },
          "metadata": {
            "tags": []
          },
          "execution_count": 37
        }
      ]
    },
    {
      "cell_type": "code",
      "metadata": {
        "colab": {
          "base_uri": "https://localhost:8080/",
          "height": 79
        },
        "id": "tAWtVuN6Wdi2",
        "outputId": "3a0b00c2-a017-4c64-a25a-3f0885db31e3"
      },
      "source": [
        "df.corr()#Gives the pair wise correlation between the columns excluding the null values."
      ],
      "execution_count": null,
      "outputs": [
        {
          "output_type": "execute_result",
          "data": {
            "text/html": [
              "<div>\n",
              "<style scoped>\n",
              "    .dataframe tbody tr th:only-of-type {\n",
              "        vertical-align: middle;\n",
              "    }\n",
              "\n",
              "    .dataframe tbody tr th {\n",
              "        vertical-align: top;\n",
              "    }\n",
              "\n",
              "    .dataframe thead th {\n",
              "        text-align: right;\n",
              "    }\n",
              "</style>\n",
              "<table border=\"1\" class=\"dataframe\">\n",
              "  <thead>\n",
              "    <tr style=\"text-align: right;\">\n",
              "      <th></th>\n",
              "      <th>Spends</th>\n",
              "    </tr>\n",
              "  </thead>\n",
              "  <tbody>\n",
              "    <tr>\n",
              "      <th>Spends</th>\n",
              "      <td>1.0</td>\n",
              "    </tr>\n",
              "  </tbody>\n",
              "</table>\n",
              "</div>"
            ],
            "text/plain": [
              "        Spends\n",
              "Spends     1.0"
            ]
          },
          "metadata": {
            "tags": []
          },
          "execution_count": 38
        }
      ]
    },
    {
      "cell_type": "code",
      "metadata": {
        "colab": {
          "base_uri": "https://localhost:8080/"
        },
        "id": "hOTYSHnzWdmI",
        "outputId": "df9204ab-7417-4730-8055-652207ff8369"
      },
      "source": [
        "df.describe(include='all').columns #Only for numerical columns"
      ],
      "execution_count": null,
      "outputs": [
        {
          "output_type": "execute_result",
          "data": {
            "text/plain": [
              "Index(['Date', 'Country', 'Advertiser Account', 'Spends'], dtype='object')"
            ]
          },
          "metadata": {
            "tags": []
          },
          "execution_count": 53
        }
      ]
    },
    {
      "cell_type": "code",
      "metadata": {
        "colab": {
          "base_uri": "https://localhost:8080/"
        },
        "id": "sHe5SdqlSVM4",
        "outputId": "6f384607-bd4d-453f-a9e3-e64b07753a03"
      },
      "source": [
        "df.describe(include='datetime').columns #Include gives the columns corresponding to the specified datatype.all gives all datatypes."
      ],
      "execution_count": null,
      "outputs": [
        {
          "output_type": "execute_result",
          "data": {
            "text/plain": [
              "Index(['Date'], dtype='object')"
            ]
          },
          "metadata": {
            "tags": []
          },
          "execution_count": 45
        }
      ]
    },
    {
      "cell_type": "code",
      "metadata": {
        "colab": {
          "base_uri": "https://localhost:8080/"
        },
        "id": "dAJFXO2NSVPR",
        "outputId": "66ac3a5e-87ca-485f-ee7a-a5b471c346f8"
      },
      "source": [
        "df.isna().sum()#Gives the no. of null values/df.shape[0]#Divide gives the percentage of null values."
      ],
      "execution_count": null,
      "outputs": [
        {
          "output_type": "execute_result",
          "data": {
            "text/plain": [
              "Date                  0.0\n",
              "Country               0.0\n",
              "Advertiser Account    0.0\n",
              "Spends                0.0\n",
              "dtype: float64"
            ]
          },
          "metadata": {
            "tags": []
          },
          "execution_count": 48
        }
      ]
    },
    {
      "cell_type": "code",
      "metadata": {
        "colab": {
          "base_uri": "https://localhost:8080/"
        },
        "id": "JV7rtOSYd4dW",
        "outputId": "3868ffa9-849b-4e17-f022-7de3d57e5b21"
      },
      "source": [
        "df.shape[0],df.shape[1] #Gives the no of rows and columns"
      ],
      "execution_count": null,
      "outputs": [
        {
          "output_type": "execute_result",
          "data": {
            "text/plain": [
              "(7710, 4)"
            ]
          },
          "metadata": {
            "tags": []
          },
          "execution_count": 49
        }
      ]
    },
    {
      "cell_type": "code",
      "metadata": {
        "id": "UrRyvQAyd4fz"
      },
      "source": [
        "df.fillna('1',axis=1,inplace=True) #Filling null values."
      ],
      "execution_count": null,
      "outputs": []
    },
    {
      "cell_type": "code",
      "metadata": {
        "colab": {
          "base_uri": "https://localhost:8080/"
        },
        "id": "E0QhTCcLd4iL",
        "outputId": "0cd1fdf5-24e0-4d83-d9f7-317572ffa89a"
      },
      "source": [
        "df.index #Gives the index range"
      ],
      "execution_count": null,
      "outputs": [
        {
          "output_type": "execute_result",
          "data": {
            "text/plain": [
              "RangeIndex(start=0, stop=7710, step=1)"
            ]
          },
          "metadata": {
            "tags": []
          },
          "execution_count": 50
        }
      ]
    },
    {
      "cell_type": "code",
      "metadata": {
        "id": "VU75yoNqd4kP"
      },
      "source": [
        "df.set_index('col',inplace=True)#Replace the index values with other column values."
      ],
      "execution_count": null,
      "outputs": []
    },
    {
      "cell_type": "code",
      "metadata": {
        "id": "fK1nHdZaumUE"
      },
      "source": [
        "df.reset_index(inplace=True)#Resetting to original values."
      ],
      "execution_count": null,
      "outputs": []
    },
    {
      "cell_type": "code",
      "metadata": {
        "colab": {
          "base_uri": "https://localhost:8080/",
          "height": 311
        },
        "id": "oU34S07GumXM",
        "outputId": "ff0743f4-d960-464a-ae7a-99f2dc1fd340"
      },
      "source": [
        "df.drop('col',axis=1,inplace=True) #Dropping a column"
      ],
      "execution_count": null,
      "outputs": [
        {
          "output_type": "error",
          "ename": "KeyError",
          "evalue": "ignored",
          "traceback": [
            "\u001b[0;31m---------------------------------------------------------------------------\u001b[0m",
            "\u001b[0;31mKeyError\u001b[0m                                  Traceback (most recent call last)",
            "\u001b[0;32m<ipython-input-51-40d97a935046>\u001b[0m in \u001b[0;36m<module>\u001b[0;34m()\u001b[0m\n\u001b[0;32m----> 1\u001b[0;31m \u001b[0mdf\u001b[0m\u001b[0;34m.\u001b[0m\u001b[0mdrop\u001b[0m\u001b[0;34m(\u001b[0m\u001b[0;34m'col'\u001b[0m\u001b[0;34m,\u001b[0m\u001b[0maxis\u001b[0m\u001b[0;34m=\u001b[0m\u001b[0;36m1\u001b[0m\u001b[0;34m,\u001b[0m\u001b[0minplace\u001b[0m\u001b[0;34m=\u001b[0m\u001b[0;32mTrue\u001b[0m\u001b[0;34m)\u001b[0m \u001b[0;31m#Dropping a column\u001b[0m\u001b[0;34m\u001b[0m\u001b[0;34m\u001b[0m\u001b[0m\n\u001b[0m",
            "\u001b[0;32m/usr/local/lib/python3.7/dist-packages/pandas/core/frame.py\u001b[0m in \u001b[0;36mdrop\u001b[0;34m(self, labels, axis, index, columns, level, inplace, errors)\u001b[0m\n\u001b[1;32m   4172\u001b[0m             \u001b[0mlevel\u001b[0m\u001b[0;34m=\u001b[0m\u001b[0mlevel\u001b[0m\u001b[0;34m,\u001b[0m\u001b[0;34m\u001b[0m\u001b[0;34m\u001b[0m\u001b[0m\n\u001b[1;32m   4173\u001b[0m             \u001b[0minplace\u001b[0m\u001b[0;34m=\u001b[0m\u001b[0minplace\u001b[0m\u001b[0;34m,\u001b[0m\u001b[0;34m\u001b[0m\u001b[0;34m\u001b[0m\u001b[0m\n\u001b[0;32m-> 4174\u001b[0;31m             \u001b[0merrors\u001b[0m\u001b[0;34m=\u001b[0m\u001b[0merrors\u001b[0m\u001b[0;34m,\u001b[0m\u001b[0;34m\u001b[0m\u001b[0;34m\u001b[0m\u001b[0m\n\u001b[0m\u001b[1;32m   4175\u001b[0m         )\n\u001b[1;32m   4176\u001b[0m \u001b[0;34m\u001b[0m\u001b[0m\n",
            "\u001b[0;32m/usr/local/lib/python3.7/dist-packages/pandas/core/generic.py\u001b[0m in \u001b[0;36mdrop\u001b[0;34m(self, labels, axis, index, columns, level, inplace, errors)\u001b[0m\n\u001b[1;32m   3887\u001b[0m         \u001b[0;32mfor\u001b[0m \u001b[0maxis\u001b[0m\u001b[0;34m,\u001b[0m \u001b[0mlabels\u001b[0m \u001b[0;32min\u001b[0m \u001b[0maxes\u001b[0m\u001b[0;34m.\u001b[0m\u001b[0mitems\u001b[0m\u001b[0;34m(\u001b[0m\u001b[0;34m)\u001b[0m\u001b[0;34m:\u001b[0m\u001b[0;34m\u001b[0m\u001b[0;34m\u001b[0m\u001b[0m\n\u001b[1;32m   3888\u001b[0m             \u001b[0;32mif\u001b[0m \u001b[0mlabels\u001b[0m \u001b[0;32mis\u001b[0m \u001b[0;32mnot\u001b[0m \u001b[0;32mNone\u001b[0m\u001b[0;34m:\u001b[0m\u001b[0;34m\u001b[0m\u001b[0;34m\u001b[0m\u001b[0m\n\u001b[0;32m-> 3889\u001b[0;31m                 \u001b[0mobj\u001b[0m \u001b[0;34m=\u001b[0m \u001b[0mobj\u001b[0m\u001b[0;34m.\u001b[0m\u001b[0m_drop_axis\u001b[0m\u001b[0;34m(\u001b[0m\u001b[0mlabels\u001b[0m\u001b[0;34m,\u001b[0m \u001b[0maxis\u001b[0m\u001b[0;34m,\u001b[0m \u001b[0mlevel\u001b[0m\u001b[0;34m=\u001b[0m\u001b[0mlevel\u001b[0m\u001b[0;34m,\u001b[0m \u001b[0merrors\u001b[0m\u001b[0;34m=\u001b[0m\u001b[0merrors\u001b[0m\u001b[0;34m)\u001b[0m\u001b[0;34m\u001b[0m\u001b[0;34m\u001b[0m\u001b[0m\n\u001b[0m\u001b[1;32m   3890\u001b[0m \u001b[0;34m\u001b[0m\u001b[0m\n\u001b[1;32m   3891\u001b[0m         \u001b[0;32mif\u001b[0m \u001b[0minplace\u001b[0m\u001b[0;34m:\u001b[0m\u001b[0;34m\u001b[0m\u001b[0;34m\u001b[0m\u001b[0m\n",
            "\u001b[0;32m/usr/local/lib/python3.7/dist-packages/pandas/core/generic.py\u001b[0m in \u001b[0;36m_drop_axis\u001b[0;34m(self, labels, axis, level, errors)\u001b[0m\n\u001b[1;32m   3921\u001b[0m                 \u001b[0mnew_axis\u001b[0m \u001b[0;34m=\u001b[0m \u001b[0maxis\u001b[0m\u001b[0;34m.\u001b[0m\u001b[0mdrop\u001b[0m\u001b[0;34m(\u001b[0m\u001b[0mlabels\u001b[0m\u001b[0;34m,\u001b[0m \u001b[0mlevel\u001b[0m\u001b[0;34m=\u001b[0m\u001b[0mlevel\u001b[0m\u001b[0;34m,\u001b[0m \u001b[0merrors\u001b[0m\u001b[0;34m=\u001b[0m\u001b[0merrors\u001b[0m\u001b[0;34m)\u001b[0m\u001b[0;34m\u001b[0m\u001b[0;34m\u001b[0m\u001b[0m\n\u001b[1;32m   3922\u001b[0m             \u001b[0;32melse\u001b[0m\u001b[0;34m:\u001b[0m\u001b[0;34m\u001b[0m\u001b[0;34m\u001b[0m\u001b[0m\n\u001b[0;32m-> 3923\u001b[0;31m                 \u001b[0mnew_axis\u001b[0m \u001b[0;34m=\u001b[0m \u001b[0maxis\u001b[0m\u001b[0;34m.\u001b[0m\u001b[0mdrop\u001b[0m\u001b[0;34m(\u001b[0m\u001b[0mlabels\u001b[0m\u001b[0;34m,\u001b[0m \u001b[0merrors\u001b[0m\u001b[0;34m=\u001b[0m\u001b[0merrors\u001b[0m\u001b[0;34m)\u001b[0m\u001b[0;34m\u001b[0m\u001b[0;34m\u001b[0m\u001b[0m\n\u001b[0m\u001b[1;32m   3924\u001b[0m             \u001b[0mresult\u001b[0m \u001b[0;34m=\u001b[0m \u001b[0mself\u001b[0m\u001b[0;34m.\u001b[0m\u001b[0mreindex\u001b[0m\u001b[0;34m(\u001b[0m\u001b[0;34m**\u001b[0m\u001b[0;34m{\u001b[0m\u001b[0maxis_name\u001b[0m\u001b[0;34m:\u001b[0m \u001b[0mnew_axis\u001b[0m\u001b[0;34m}\u001b[0m\u001b[0;34m)\u001b[0m\u001b[0;34m\u001b[0m\u001b[0;34m\u001b[0m\u001b[0m\n\u001b[1;32m   3925\u001b[0m \u001b[0;34m\u001b[0m\u001b[0m\n",
            "\u001b[0;32m/usr/local/lib/python3.7/dist-packages/pandas/core/indexes/base.py\u001b[0m in \u001b[0;36mdrop\u001b[0;34m(self, labels, errors)\u001b[0m\n\u001b[1;32m   5285\u001b[0m         \u001b[0;32mif\u001b[0m \u001b[0mmask\u001b[0m\u001b[0;34m.\u001b[0m\u001b[0many\u001b[0m\u001b[0;34m(\u001b[0m\u001b[0;34m)\u001b[0m\u001b[0;34m:\u001b[0m\u001b[0;34m\u001b[0m\u001b[0;34m\u001b[0m\u001b[0m\n\u001b[1;32m   5286\u001b[0m             \u001b[0;32mif\u001b[0m \u001b[0merrors\u001b[0m \u001b[0;34m!=\u001b[0m \u001b[0;34m\"ignore\"\u001b[0m\u001b[0;34m:\u001b[0m\u001b[0;34m\u001b[0m\u001b[0;34m\u001b[0m\u001b[0m\n\u001b[0;32m-> 5287\u001b[0;31m                 \u001b[0;32mraise\u001b[0m \u001b[0mKeyError\u001b[0m\u001b[0;34m(\u001b[0m\u001b[0;34mf\"{labels[mask]} not found in axis\"\u001b[0m\u001b[0;34m)\u001b[0m\u001b[0;34m\u001b[0m\u001b[0;34m\u001b[0m\u001b[0m\n\u001b[0m\u001b[1;32m   5288\u001b[0m             \u001b[0mindexer\u001b[0m \u001b[0;34m=\u001b[0m \u001b[0mindexer\u001b[0m\u001b[0;34m[\u001b[0m\u001b[0;34m~\u001b[0m\u001b[0mmask\u001b[0m\u001b[0;34m]\u001b[0m\u001b[0;34m\u001b[0m\u001b[0;34m\u001b[0m\u001b[0m\n\u001b[1;32m   5289\u001b[0m         \u001b[0;32mreturn\u001b[0m \u001b[0mself\u001b[0m\u001b[0;34m.\u001b[0m\u001b[0mdelete\u001b[0m\u001b[0;34m(\u001b[0m\u001b[0mindexer\u001b[0m\u001b[0;34m)\u001b[0m\u001b[0;34m\u001b[0m\u001b[0;34m\u001b[0m\u001b[0m\n",
            "\u001b[0;31mKeyError\u001b[0m: \"['col'] not found in axis\""
          ]
        }
      ]
    },
    {
      "cell_type": "code",
      "metadata": {
        "id": "7Mi4QNCeumZ0"
      },
      "source": [
        "#At column level axis=1\n",
        "#At row level axis=0"
      ],
      "execution_count": null,
      "outputs": []
    },
    {
      "cell_type": "code",
      "metadata": {
        "id": "y3AvwJ7_WVnz"
      },
      "source": [
        "df.groupby('col')"
      ],
      "execution_count": null,
      "outputs": []
    },
    {
      "cell_type": "code",
      "metadata": {
        "colab": {
          "base_uri": "https://localhost:8080/",
          "height": 447
        },
        "id": "_FpDzV5bvcRx",
        "outputId": "d130ef90-b4aa-4a01-a9d3-2c2f9736215d"
      },
      "source": [
        "df.describe(include='all') #Includes all datatypes."
      ],
      "execution_count": null,
      "outputs": [
        {
          "output_type": "execute_result",
          "data": {
            "text/html": [
              "<div>\n",
              "<style scoped>\n",
              "    .dataframe tbody tr th:only-of-type {\n",
              "        vertical-align: middle;\n",
              "    }\n",
              "\n",
              "    .dataframe tbody tr th {\n",
              "        vertical-align: top;\n",
              "    }\n",
              "\n",
              "    .dataframe thead th {\n",
              "        text-align: right;\n",
              "    }\n",
              "</style>\n",
              "<table border=\"1\" class=\"dataframe\">\n",
              "  <thead>\n",
              "    <tr style=\"text-align: right;\">\n",
              "      <th></th>\n",
              "      <th>Date</th>\n",
              "      <th>Country</th>\n",
              "      <th>Advertiser Account</th>\n",
              "      <th>Spends</th>\n",
              "    </tr>\n",
              "  </thead>\n",
              "  <tbody>\n",
              "    <tr>\n",
              "      <th>count</th>\n",
              "      <td>7710</td>\n",
              "      <td>7710</td>\n",
              "      <td>7710</td>\n",
              "      <td>7710.000000</td>\n",
              "    </tr>\n",
              "    <tr>\n",
              "      <th>unique</th>\n",
              "      <td>28</td>\n",
              "      <td>6</td>\n",
              "      <td>83</td>\n",
              "      <td>NaN</td>\n",
              "    </tr>\n",
              "    <tr>\n",
              "      <th>top</th>\n",
              "      <td>2020-12-10 00:00:00</td>\n",
              "      <td>USA</td>\n",
              "      <td>fd61ae</td>\n",
              "      <td>NaN</td>\n",
              "    </tr>\n",
              "    <tr>\n",
              "      <th>freq</th>\n",
              "      <td>283</td>\n",
              "      <td>1966</td>\n",
              "      <td>173</td>\n",
              "      <td>NaN</td>\n",
              "    </tr>\n",
              "    <tr>\n",
              "      <th>first</th>\n",
              "      <td>2020-12-06 00:00:00</td>\n",
              "      <td>NaN</td>\n",
              "      <td>NaN</td>\n",
              "      <td>NaN</td>\n",
              "    </tr>\n",
              "    <tr>\n",
              "      <th>last</th>\n",
              "      <td>2021-01-02 00:00:00</td>\n",
              "      <td>NaN</td>\n",
              "      <td>NaN</td>\n",
              "      <td>NaN</td>\n",
              "    </tr>\n",
              "    <tr>\n",
              "      <th>mean</th>\n",
              "      <td>NaN</td>\n",
              "      <td>NaN</td>\n",
              "      <td>NaN</td>\n",
              "      <td>1330.061364</td>\n",
              "    </tr>\n",
              "    <tr>\n",
              "      <th>std</th>\n",
              "      <td>NaN</td>\n",
              "      <td>NaN</td>\n",
              "      <td>NaN</td>\n",
              "      <td>7788.796411</td>\n",
              "    </tr>\n",
              "    <tr>\n",
              "      <th>min</th>\n",
              "      <td>NaN</td>\n",
              "      <td>NaN</td>\n",
              "      <td>NaN</td>\n",
              "      <td>0.000000</td>\n",
              "    </tr>\n",
              "    <tr>\n",
              "      <th>25%</th>\n",
              "      <td>NaN</td>\n",
              "      <td>NaN</td>\n",
              "      <td>NaN</td>\n",
              "      <td>3.620809</td>\n",
              "    </tr>\n",
              "    <tr>\n",
              "      <th>50%</th>\n",
              "      <td>NaN</td>\n",
              "      <td>NaN</td>\n",
              "      <td>NaN</td>\n",
              "      <td>38.648418</td>\n",
              "    </tr>\n",
              "    <tr>\n",
              "      <th>75%</th>\n",
              "      <td>NaN</td>\n",
              "      <td>NaN</td>\n",
              "      <td>NaN</td>\n",
              "      <td>304.014600</td>\n",
              "    </tr>\n",
              "    <tr>\n",
              "      <th>max</th>\n",
              "      <td>NaN</td>\n",
              "      <td>NaN</td>\n",
              "      <td>NaN</td>\n",
              "      <td>119743.000000</td>\n",
              "    </tr>\n",
              "  </tbody>\n",
              "</table>\n",
              "</div>"
            ],
            "text/plain": [
              "                       Date Country Advertiser Account         Spends\n",
              "count                  7710    7710               7710    7710.000000\n",
              "unique                   28       6                 83            NaN\n",
              "top     2020-12-10 00:00:00     USA             fd61ae            NaN\n",
              "freq                    283    1966                173            NaN\n",
              "first   2020-12-06 00:00:00     NaN                NaN            NaN\n",
              "last    2021-01-02 00:00:00     NaN                NaN            NaN\n",
              "mean                    NaN     NaN                NaN    1330.061364\n",
              "std                     NaN     NaN                NaN    7788.796411\n",
              "min                     NaN     NaN                NaN       0.000000\n",
              "25%                     NaN     NaN                NaN       3.620809\n",
              "50%                     NaN     NaN                NaN      38.648418\n",
              "75%                     NaN     NaN                NaN     304.014600\n",
              "max                     NaN     NaN                NaN  119743.000000"
            ]
          },
          "metadata": {
            "tags": []
          },
          "execution_count": 54
        }
      ]
    },
    {
      "cell_type": "code",
      "metadata": {
        "id": "vwM-9b9evcU5"
      },
      "source": [
        "df.rename(columns={'Advertiser Account':'Advertiser_account'},inplace=True)\n",
        "df.rename(index={0:'A',inplace=True})"
      ],
      "execution_count": null,
      "outputs": []
    },
    {
      "cell_type": "code",
      "metadata": {
        "id": "8raBK5qOv-tt"
      },
      "source": [
        "df.sort_values(by='Country',inplace=True)"
      ],
      "execution_count": null,
      "outputs": []
    },
    {
      "cell_type": "code",
      "metadata": {
        "colab": {
          "base_uri": "https://localhost:8080/"
        },
        "id": "AzOyO-iHv-w7",
        "outputId": "a4f181fc-4883-412f-fe32-93cda41bdd32"
      },
      "source": [
        "df.nunique() ##All columns no of unique values will be given. unique gives corresponding values"
      ],
      "execution_count": null,
      "outputs": [
        {
          "output_type": "execute_result",
          "data": {
            "text/plain": [
              "Date                    28\n",
              "Country                  6\n",
              "Advertiser_account      83\n",
              "Spends                7590\n",
              "dtype: int64"
            ]
          },
          "metadata": {
            "tags": []
          },
          "execution_count": 63
        }
      ]
    },
    {
      "cell_type": "code",
      "metadata": {
        "colab": {
          "base_uri": "https://localhost:8080/"
        },
        "id": "Fw5VVVfLv-z7",
        "outputId": "be5d55c0-5b72-408d-ad10-54124cc58722"
      },
      "source": [
        "df['Country'].nunique(),df['Country'].unique(),df['Country'].value_counts()"
      ],
      "execution_count": null,
      "outputs": [
        {
          "output_type": "execute_result",
          "data": {
            "text/plain": [
              "(6, array(['Canada', 'India', 'Indonesia', 'Spain', 'USA', 'United Kingdom'],\n",
              "       dtype=object), USA               1966\n",
              " Canada            1509\n",
              " United Kingdom    1177\n",
              " India             1113\n",
              " Indonesia         1067\n",
              " Spain              878\n",
              " Name: Country, dtype: int64)"
            ]
          },
          "metadata": {
            "tags": []
          },
          "execution_count": 66
        }
      ]
    },
    {
      "cell_type": "code",
      "metadata": {
        "id": "uqwXXSmGQz_t"
      },
      "source": [
        "import pandas as pd\n",
        "df1=pd.DataFrame(np.ones((2,2)),columns=['A','B'])\n",
        "df2=pd.DataFrame(np.ones((2,2)),columns=['A','B'])"
      ],
      "execution_count": null,
      "outputs": []
    },
    {
      "cell_type": "code",
      "metadata": {
        "colab": {
          "base_uri": "https://localhost:8080/",
          "height": 175
        },
        "id": "8I5Ab5BqRKET",
        "outputId": "03886583-a5ae-4c9d-e0e7-e765c0fe7834"
      },
      "source": [
        "pd.merge(df1,df2,how='inner')"
      ],
      "execution_count": null,
      "outputs": [
        {
          "output_type": "execute_result",
          "data": {
            "text/html": [
              "<div>\n",
              "<style scoped>\n",
              "    .dataframe tbody tr th:only-of-type {\n",
              "        vertical-align: middle;\n",
              "    }\n",
              "\n",
              "    .dataframe tbody tr th {\n",
              "        vertical-align: top;\n",
              "    }\n",
              "\n",
              "    .dataframe thead th {\n",
              "        text-align: right;\n",
              "    }\n",
              "</style>\n",
              "<table border=\"1\" class=\"dataframe\">\n",
              "  <thead>\n",
              "    <tr style=\"text-align: right;\">\n",
              "      <th></th>\n",
              "      <th>A</th>\n",
              "      <th>B</th>\n",
              "    </tr>\n",
              "  </thead>\n",
              "  <tbody>\n",
              "    <tr>\n",
              "      <th>0</th>\n",
              "      <td>1.0</td>\n",
              "      <td>1.0</td>\n",
              "    </tr>\n",
              "    <tr>\n",
              "      <th>1</th>\n",
              "      <td>1.0</td>\n",
              "      <td>1.0</td>\n",
              "    </tr>\n",
              "    <tr>\n",
              "      <th>2</th>\n",
              "      <td>1.0</td>\n",
              "      <td>1.0</td>\n",
              "    </tr>\n",
              "    <tr>\n",
              "      <th>3</th>\n",
              "      <td>1.0</td>\n",
              "      <td>1.0</td>\n",
              "    </tr>\n",
              "  </tbody>\n",
              "</table>\n",
              "</div>"
            ],
            "text/plain": [
              "     A    B\n",
              "0  1.0  1.0\n",
              "1  1.0  1.0\n",
              "2  1.0  1.0\n",
              "3  1.0  1.0"
            ]
          },
          "metadata": {
            "tags": []
          },
          "execution_count": 49
        }
      ]
    },
    {
      "cell_type": "code",
      "metadata": {
        "id": "xHvsawV5vcYS"
      },
      "source": [
        "pd.merge(Dataset1,Dataset2,on='',how='inner/Right/Left/Outer',indicator=True) #Columns name should be same order have to be same"
      ],
      "execution_count": null,
      "outputs": []
    },
    {
      "cell_type": "code",
      "metadata": {
        "id": "y_KPToahzD-p"
      },
      "source": [
        "pd.concat(A,B) #Adding columns from dataset to other.\n",
        "pd.concat(A,B) #Append at row level\n",
        "pd.concat(A,B,axis=1) #Append at column level"
      ],
      "execution_count": null,
      "outputs": []
    },
    {
      "cell_type": "code",
      "metadata": {
        "colab": {
          "base_uri": "https://localhost:8080/"
        },
        "id": "nsyptZSmRbbc",
        "outputId": "f2480f60-67ac-45e3-d3ee-e93e4e69b76c"
      },
      "source": [
        "s1 = pd.Series(['a', 'b'])\n",
        "s2 = pd.Series(['c', 'd'])\n",
        "pd.concat([s1, s2],ignore_index=True)"
      ],
      "execution_count": null,
      "outputs": [
        {
          "output_type": "execute_result",
          "data": {
            "text/plain": [
              "0    a\n",
              "1    b\n",
              "2    c\n",
              "3    d\n",
              "dtype: object"
            ]
          },
          "metadata": {
            "tags": []
          },
          "execution_count": 55
        }
      ]
    },
    {
      "cell_type": "code",
      "metadata": {
        "id": "E14wF62mzEC0"
      },
      "source": [
        "D1.append(D2) #Append is a function of DataFrame."
      ],
      "execution_count": null,
      "outputs": []
    },
    {
      "cell_type": "code",
      "metadata": {
        "colab": {
          "base_uri": "https://localhost:8080/",
          "height": 175
        },
        "id": "IJaG7f4_SG47",
        "outputId": "1338092c-b0a5-4ae8-a0e1-7237deebf877"
      },
      "source": [
        "df1.append(df2)"
      ],
      "execution_count": null,
      "outputs": [
        {
          "output_type": "execute_result",
          "data": {
            "text/html": [
              "<div>\n",
              "<style scoped>\n",
              "    .dataframe tbody tr th:only-of-type {\n",
              "        vertical-align: middle;\n",
              "    }\n",
              "\n",
              "    .dataframe tbody tr th {\n",
              "        vertical-align: top;\n",
              "    }\n",
              "\n",
              "    .dataframe thead th {\n",
              "        text-align: right;\n",
              "    }\n",
              "</style>\n",
              "<table border=\"1\" class=\"dataframe\">\n",
              "  <thead>\n",
              "    <tr style=\"text-align: right;\">\n",
              "      <th></th>\n",
              "      <th>A</th>\n",
              "      <th>B</th>\n",
              "    </tr>\n",
              "  </thead>\n",
              "  <tbody>\n",
              "    <tr>\n",
              "      <th>0</th>\n",
              "      <td>1.0</td>\n",
              "      <td>1.0</td>\n",
              "    </tr>\n",
              "    <tr>\n",
              "      <th>1</th>\n",
              "      <td>1.0</td>\n",
              "      <td>1.0</td>\n",
              "    </tr>\n",
              "    <tr>\n",
              "      <th>0</th>\n",
              "      <td>1.0</td>\n",
              "      <td>1.0</td>\n",
              "    </tr>\n",
              "    <tr>\n",
              "      <th>1</th>\n",
              "      <td>1.0</td>\n",
              "      <td>1.0</td>\n",
              "    </tr>\n",
              "  </tbody>\n",
              "</table>\n",
              "</div>"
            ],
            "text/plain": [
              "     A    B\n",
              "0  1.0  1.0\n",
              "1  1.0  1.0\n",
              "0  1.0  1.0\n",
              "1  1.0  1.0"
            ]
          },
          "metadata": {
            "tags": []
          },
          "execution_count": 56
        }
      ]
    },
    {
      "cell_type": "code",
      "metadata": {
        "id": "y3OoDvlEzEHT"
      },
      "source": [
        "pd.read_html('Html file path')\n",
        "pd.to_csv('')#Writing to csv"
      ],
      "execution_count": null,
      "outputs": []
    },
    {
      "cell_type": "code",
      "metadata": {
        "id": "OwFP29fxz1h9"
      },
      "source": [
        "pd.series([1,2,3,4])#Deals only for one column of data."
      ],
      "execution_count": null,
      "outputs": []
    },
    {
      "cell_type": "code",
      "metadata": {
        "colab": {
          "base_uri": "https://localhost:8080/"
        },
        "id": "xSeBnG7Pz1lh",
        "outputId": "fbc9096f-9f70-4a31-fe06-74b574c65ccf"
      },
      "source": [
        "df['Country'].values #Gives numpy array #values gives numpy array."
      ],
      "execution_count": null,
      "outputs": [
        {
          "output_type": "execute_result",
          "data": {
            "text/plain": [
              "array(['Canada', 'Canada', 'Canada', ..., 'United Kingdom',\n",
              "       'United Kingdom', 'United Kingdom'], dtype=object)"
            ]
          },
          "metadata": {
            "tags": []
          },
          "execution_count": 70
        }
      ]
    },
    {
      "cell_type": "code",
      "metadata": {
        "id": "9bC-QnW6z1qZ"
      },
      "source": [
        "df.drop('x1',axis=1,inplace=True)\n",
        "df.drop(['x1','x2'],axsi=1,inplace=True])#Dropping at column level\n",
        "df.drop([0,1,2,3,4],axis=0,inplace=True) #Dropping at row level\n",
        "df.dropna(axis=1,how='any') #Atleast one value is null drop the col, how=all entire col is null\n",
        "df.dropna(axis=0,how='any/all') #Atleast one value is null drop the row, how=all entire row is null"
      ],
      "execution_count": null,
      "outputs": []
    },
    {
      "cell_type": "code",
      "metadata": {
        "id": "E2hKXPZuz1xO"
      },
      "source": [
        "loc works on row level.\n",
        "iloc works on both row and column #at index level\n",
        "df.loc[0:4,'t':'z']\n",
        "df.iloc[0:3,1:4]"
      ],
      "execution_count": null,
      "outputs": []
    },
    {
      "cell_type": "code",
      "metadata": {
        "id": "GvqvnS6Z1irB"
      },
      "source": [
        "df.groupby('A').sum()[['B','C']]"
      ],
      "execution_count": null,
      "outputs": []
    },
    {
      "cell_type": "code",
      "metadata": {
        "colab": {
          "base_uri": "https://localhost:8080/"
        },
        "id": "gx7hMfGN1iu9",
        "outputId": "c7f50a31-624e-4699-d19c-08a7a43f17ae"
      },
      "source": [
        "txt='Abhi is a good boy'\n",
        "x=txt.partition('good')\n",
        "print(x)"
      ],
      "execution_count": null,
      "outputs": [
        {
          "output_type": "stream",
          "text": [
            "('Abhi is a ', 'good', ' boy')\n"
          ],
          "name": "stdout"
        }
      ]
    },
    {
      "cell_type": "code",
      "metadata": {
        "colab": {
          "base_uri": "https://localhost:8080/"
        },
        "id": "8FNW5JBp1ixi",
        "outputId": "9ce0efa2-2b33-46d9-ad40-4f1b2e178445"
      },
      "source": [
        "list=['a','A','aA']\n",
        "list.sort()\n",
        "print(list)"
      ],
      "execution_count": null,
      "outputs": [
        {
          "output_type": "stream",
          "text": [
            "['A', 'a', 'aA']\n"
          ],
          "name": "stdout"
        }
      ]
    },
    {
      "cell_type": "code",
      "metadata": {
        "colab": {
          "base_uri": "https://localhost:8080/"
        },
        "id": "rcUTy9rJ1i1S",
        "outputId": "f371ec59-23d9-4830-d248-6915af54fdd0"
      },
      "source": [
        "ord('a'),ord('A')"
      ],
      "execution_count": null,
      "outputs": [
        {
          "output_type": "execute_result",
          "data": {
            "text/plain": [
              "(97, 65)"
            ]
          },
          "metadata": {
            "tags": []
          },
          "execution_count": 6
        }
      ]
    },
    {
      "cell_type": "markdown",
      "metadata": {
        "id": "oNwnybokBr0S"
      },
      "source": [
        "PMF,PDF,CDF"
      ]
    },
    {
      "cell_type": "code",
      "metadata": {
        "id": "1tcqTl4t1i4a"
      },
      "source": [
        "PMF maps each value to its corresponding probability value. Its is plotted for discrete distributions\n",
        "Discrete data is the finite set of data. Continous is the infinite set of data."
      ],
      "execution_count": null,
      "outputs": []
    },
    {
      "cell_type": "code",
      "metadata": {
        "id": "RO_ZjCZwBRNu"
      },
      "source": [
        "#Example dice, all the outcomes will have same probability, 1/6 which is 0.167"
      ],
      "execution_count": null,
      "outputs": []
    },
    {
      "cell_type": "code",
      "metadata": {
        "colab": {
          "base_uri": "https://localhost:8080/",
          "height": 337
        },
        "id": "8EdMaWlpBRt8",
        "outputId": "049987f5-57d7-453c-f413-70bcb2f0a490"
      },
      "source": [
        "import pandas as pd\n",
        "import seaborn as sns\n",
        "from pandas import DataFrame\n",
        "sample1=[1,2,3,4,5,6]\n",
        "df2=DataFrame(sample1,columns=['Rolleddice'])\n",
        "probabilities=df2['Rolleddice'].value_counts(normalize=True)#Normalize gives the proba value it divide all obs by total no of obs. frequencies by n.\n",
        "sns.barplot(probabilities.index,probabilities.values,color='blue')"
      ],
      "execution_count": null,
      "outputs": [
        {
          "output_type": "stream",
          "text": [
            "/usr/local/lib/python3.7/dist-packages/seaborn/_decorators.py:43: FutureWarning: Pass the following variables as keyword args: x, y. From version 0.12, the only valid positional argument will be `data`, and passing other arguments without an explicit keyword will result in an error or misinterpretation.\n",
            "  FutureWarning\n"
          ],
          "name": "stderr"
        },
        {
          "output_type": "execute_result",
          "data": {
            "text/plain": [
              "<matplotlib.axes._subplots.AxesSubplot at 0x7ff404ea1a50>"
            ]
          },
          "metadata": {
            "tags": []
          },
          "execution_count": 17
        },
        {
          "output_type": "display_data",
          "data": {
            "image/png": "[encoded data removed]",
            "text/plain": [
              "<Figure size 432x288 with 1 Axes>"
            ]
          },
          "metadata": {
            "tags": [],
            "needs_background": "light"
          }
        }
      ]
    },
    {
      "cell_type": "code",
      "metadata": {
        "colab": {
          "base_uri": "https://localhost:8080/",
          "height": 337
        },
        "id": "YoU8Z70-BRxl",
        "outputId": "d95bcea3-3b62-4122-e824-b90b27cee792"
      },
      "source": [
        "sample2 = [10,15,20,20,25,33,40,51,51,60,64,64,64]\n",
        "df3 = DataFrame(sample2,columns=['Sample'])\n",
        "probabilities = df3['Sample'].value_counts(normalize=True)    \n",
        "sns.barplot(probabilities.index, probabilities.values, color='grey')"
      ],
      "execution_count": null,
      "outputs": [
        {
          "output_type": "stream",
          "text": [
            "/usr/local/lib/python3.7/dist-packages/seaborn/_decorators.py:43: FutureWarning: Pass the following variables as keyword args: x, y. From version 0.12, the only valid positional argument will be `data`, and passing other arguments without an explicit keyword will result in an error or misinterpretation.\n",
            "  FutureWarning\n"
          ],
          "name": "stderr"
        },
        {
          "output_type": "execute_result",
          "data": {
            "text/plain": [
              "<matplotlib.axes._subplots.AxesSubplot at 0x7ff404db2250>"
            ]
          },
          "metadata": {
            "tags": []
          },
          "execution_count": 18
        },
        {
          "output_type": "display_data",
          "data": {
            "image/png": "[encoded data removed]",
            "text/plain": [
              "<Figure size 432x288 with 1 Axes>"
            ]
          },
          "metadata": {
            "tags": [],
            "needs_background": "light"
          }
        }
      ]
    },
    {
      "cell_type": "code",
      "metadata": {
        "id": "kep2fUQ-Ft67"
      },
      "source": [
        "#To derive a mean of PMF, we sum up the probablities.\n",
        "#If the no of values are more, the PMF becomes difficult to interpret. So we go for CDF.\n",
        "CDF(x) is the proba that a random value 'X' will be less than or equal to x (X=x)"
      ],
      "execution_count": null,
      "outputs": []
    },
    {
      "cell_type": "markdown",
      "metadata": {
        "id": "NwQsFnDxIIgu"
      },
      "source": [
        "Let’s take an example of a standardized test. If there are five people A,B,C,D,E in the class and their corresponding scores are 10,20,30,40,50. CDF(30) implies the percentage of students that scored less than or equal to 30, which will be equal to (3/5)*100 i.e. 60%."
      ]
    },
    {
      "cell_type": "markdown",
      "metadata": {
        "id": "zNU9q_EDIi87"
      },
      "source": [
        "Suppose you need to find out what fraction of values lie between x1 and x2, where x1>x2, then you should find CDF(x2)-CDF(x1).\n",
        "Similarly, to find the probability that a particular value will be greater than x1, we do 1-CDF(x1)."
      ]
    },
    {
      "cell_type": "code",
      "metadata": {
        "colab": {
          "base_uri": "https://localhost:8080/",
          "height": 265
        },
        "id": "pbYowWv7Ft-1",
        "outputId": "398d0a23-96d0-46d9-d3a5-290b420d2f27"
      },
      "source": [
        "import matplotlib.pyplot as plt\n",
        "%matplotlib inline\n",
        "fig,ax=plt.subplots(figsize=(8,4))\n",
        "ax.hist(df2.Rolleddice,density=1,histtype='barstacked',cumulative='True',label='CDF')\n",
        "plt.show()"
      ],
      "execution_count": null,
      "outputs": [
        {
          "output_type": "display_data",
          "data": {
            "image/png": "[encoded data removed]",
            "text/plain": [
              "<Figure size 576x288 with 1 Axes>"
            ]
          },
          "metadata": {
            "tags": [],
            "needs_background": "light"
          }
        }
      ]
    },
    {
      "cell_type": "code",
      "metadata": {
        "colab": {
          "base_uri": "https://localhost:8080/",
          "height": 265
        },
        "id": "66xU_ysYFuDB",
        "outputId": "bb5bab6a-2619-4089-d49a-5aaf47fbc827"
      },
      "source": [
        "fig, ax = plt.subplots(figsize=(8, 4))\n",
        "ax.hist(df3.Sample, density = 1, histtype='barstacked',cumulative=True, label='CDF')\n",
        "plt.grid()\n",
        "plt.show()"
      ],
      "execution_count": null,
      "outputs": [
        {
          "output_type": "display_data",
          "data": {
            "image/png": "[encoded data removed]",
            "text/plain": [
              "<Figure size 576x288 with 1 Axes>"
            ]
          },
          "metadata": {
            "tags": [],
            "needs_background": "light"
          }
        }
      ]
    },
    {
      "cell_type": "code",
      "metadata": {
        "id": "_KstDq7OFuGW"
      },
      "source": [
        "#PDF is for continous distribution. (x1<x<x2)\n",
        "#In PDF finding a probability for single value is difficult,\n",
        "# we can find a probability within a certain range of values.\n",
        "#Any single point will have a probability density of zero.\n",
        "#Any single point will have a length of zero therefore the proba density of single point is zero.\n",
        "#If we take the range of such single points then we can find the proba density.\n",
        "#The total area under a PDF equals 1\n",
        "#We can have cdf for pdf also, which says how much percentage of distribution is present to the left."
      ],
      "execution_count": null,
      "outputs": []
    },
    {
      "cell_type": "markdown",
      "metadata": {
        "id": "Slt40QdZQMIL"
      },
      "source": [
        "/content/1_HLFwCDZC56XIBhTc839E6g.png\n",
        "\n",
        "> Indented block\n",
        "\n",
        "> Indented block\n",
        "\n",
        "\n",
        "\n"
      ]
    },
    {
      "cell_type": "markdown",
      "metadata": {
        "id": "ezU9Mz20XyvX"
      },
      "source": [
        "# New Section"
      ]
    },
    {
      "cell_type": "code",
      "metadata": {
        "id": "5YdOD4I9BR1P"
      },
      "source": [
        "int from 0 to inf f(x)dx=1 For entire area."
      ],
      "execution_count": null,
      "outputs": []
    },
    {
      "cell_type": "code",
      "metadata": {
        "id": "Du4AFShaBR4X",
        "colab": {
          "base_uri": "https://localhost:8080/"
        },
        "outputId": "9542cffe-b4bb-4282-8935-5e4c6722609e"
      },
      "source": [
        "a=123 #Here it is integer\n",
        "print(type(a))\n",
        "def func():\n",
        "  a=[]# Same continue here, for list the a should be defined as list as a=[123]\n",
        "print(type(a))"
      ],
      "execution_count": null,
      "outputs": [
        {
          "output_type": "stream",
          "text": [
            "<class 'int'>\n",
            "<class 'int'>\n"
          ],
          "name": "stdout"
        }
      ]
    },
    {
      "cell_type": "code",
      "metadata": {
        "id": "wYkjt9FTBR7H",
        "colab": {
          "base_uri": "https://localhost:8080/"
        },
        "outputId": "51953740-e418-405f-b2f2-6526489c8745"
      },
      "source": [
        "a=[]\n",
        "print(type(a))"
      ],
      "execution_count": null,
      "outputs": [
        {
          "output_type": "stream",
          "text": [
            "<class 'list'>\n"
          ],
          "name": "stdout"
        }
      ]
    },
    {
      "cell_type": "code",
      "metadata": {
        "colab": {
          "base_uri": "https://localhost:8080/"
        },
        "id": "U9PirRa-NcMd",
        "outputId": "2f1938c3-e6b9-47c3-f044-178a85dcc8f5"
      },
      "source": [
        "a='abcdabcdabcd'\n",
        "b=a.split('cd',4)#Splits teh given chars.\n",
        "print(b)"
      ],
      "execution_count": null,
      "outputs": [
        {
          "output_type": "stream",
          "text": [
            "['ab', 'ab', 'ab', '']\n"
          ],
          "name": "stdout"
        }
      ]
    },
    {
      "cell_type": "code",
      "metadata": {
        "colab": {
          "base_uri": "https://localhost:8080/"
        },
        "id": "bqUUxNicN4jT",
        "outputId": "88ba2c7e-49be-4dc6-cd04-9435ed7fe112"
      },
      "source": [
        "import numpy as np\n",
        "a=np.random.randint(2,10,20,dtype=int)\n",
        "a\n",
        "import sys\n",
        "sys.getsizeof(a)"
      ],
      "execution_count": null,
      "outputs": [
        {
          "output_type": "execute_result",
          "data": {
            "text/plain": [
              "256"
            ]
          },
          "metadata": {
            "tags": []
          },
          "execution_count": 24
        }
      ]
    },
    {
      "cell_type": "code",
      "metadata": {
        "colab": {
          "base_uri": "https://localhost:8080/"
        },
        "id": "MApxXYW6N4l9",
        "outputId": "1734e94d-a6da-4e31-b625-3ac3aca23758"
      },
      "source": [
        "np.random.rand(1,2,2)"
      ],
      "execution_count": null,
      "outputs": [
        {
          "output_type": "execute_result",
          "data": {
            "text/plain": [
              "array([[[0.16578696, 0.33265382],\n",
              "        [0.24556408, 0.07967033]]])"
            ]
          },
          "metadata": {
            "tags": []
          },
          "execution_count": 27
        }
      ]
    },
    {
      "cell_type": "code",
      "metadata": {
        "colab": {
          "base_uri": "https://localhost:8080/"
        },
        "id": "JrhIInT3N4pU",
        "outputId": "10504a41-0fa7-452b-8a8a-1e703e17f290"
      },
      "source": [
        "a=np.random.uniform(0,10,2)\n",
        "print(a)\n",
        "print(type(a))"
      ],
      "execution_count": null,
      "outputs": [
        {
          "output_type": "stream",
          "text": [
            "[5.38568989 0.91365182]\n",
            "<class 'numpy.ndarray'>\n"
          ],
          "name": "stdout"
        }
      ]
    },
    {
      "cell_type": "code",
      "metadata": {
        "colab": {
          "base_uri": "https://localhost:8080/"
        },
        "id": "aoitd7vJPmfl",
        "outputId": "534f2893-9bcf-488e-9db7-30ab21f67982"
      },
      "source": [
        "np.random.normal(5,5,2)"
      ],
      "execution_count": null,
      "outputs": [
        {
          "output_type": "execute_result",
          "data": {
            "text/plain": [
              "array([-1.10051974, 13.21805576])"
            ]
          },
          "metadata": {
            "tags": []
          },
          "execution_count": 37
        }
      ]
    },
    {
      "cell_type": "code",
      "metadata": {
        "colab": {
          "base_uri": "https://localhost:8080/"
        },
        "id": "_cnGItGgQbhd",
        "outputId": "e4d181a9-e7e5-4ce6-ef49-3213c685448b"
      },
      "source": [
        "np.full((2,3,4),fill_value=7)"
      ],
      "execution_count": null,
      "outputs": [
        {
          "output_type": "execute_result",
          "data": {
            "text/plain": [
              "array([[[7, 7, 7, 7],\n",
              "        [7, 7, 7, 7],\n",
              "        [7, 7, 7, 7]],\n",
              "\n",
              "       [[7, 7, 7, 7],\n",
              "        [7, 7, 7, 7],\n",
              "        [7, 7, 7, 7]]])"
            ]
          },
          "metadata": {
            "tags": []
          },
          "execution_count": 50
        }
      ]
    },
    {
      "cell_type": "code",
      "metadata": {
        "colab": {
          "base_uri": "https://localhost:8080/"
        },
        "id": "oD8kyeTfR6qP",
        "outputId": "6e698dc2-eb10-4fc2-db06-c6bbd7ace880"
      },
      "source": [
        "np.eye(2,4) #Only 2-D array."
      ],
      "execution_count": null,
      "outputs": [
        {
          "output_type": "execute_result",
          "data": {
            "text/plain": [
              "array([[1., 0., 0., 0.],\n",
              "       [0., 1., 0., 0.]])"
            ]
          },
          "metadata": {
            "tags": []
          },
          "execution_count": 54
        }
      ]
    },
    {
      "cell_type": "code",
      "metadata": {
        "colab": {
          "base_uri": "https://localhost:8080/"
        },
        "id": "rNg8ozdVR6t6",
        "outputId": "0cb63fae-7ad6-41ad-9d11-fe36f090bc2b"
      },
      "source": [
        "np.identity(2)"
      ],
      "execution_count": null,
      "outputs": [
        {
          "output_type": "execute_result",
          "data": {
            "text/plain": [
              "array([[1., 0.],\n",
              "       [0., 1.]])"
            ]
          },
          "metadata": {
            "tags": []
          },
          "execution_count": 53
        }
      ]
    },
    {
      "cell_type": "code",
      "metadata": {
        "colab": {
          "base_uri": "https://localhost:8080/"
        },
        "id": "Al4x_bYNR6zQ",
        "outputId": "3bf37e98-d1f6-4326-fff4-0329faf37e62"
      },
      "source": [
        "s=lambda n:n*2\n",
        "print(s(2))"
      ],
      "execution_count": null,
      "outputs": [
        {
          "output_type": "stream",
          "text": [
            "4\n"
          ],
          "name": "stdout"
        }
      ]
    },
    {
      "cell_type": "code",
      "metadata": {
        "colab": {
          "base_uri": "https://localhost:8080/"
        },
        "id": "HuEbEK-ns477",
        "outputId": "2cffc27b-2241-4c88-f3c0-1d6a3bc9e292"
      },
      "source": [
        "a=12\n",
        "print(a in [x for x in range(13)])"
      ],
      "execution_count": null,
      "outputs": [
        {
          "output_type": "stream",
          "text": [
            "True\n"
          ],
          "name": "stdout"
        }
      ]
    },
    {
      "cell_type": "code",
      "metadata": {
        "colab": {
          "base_uri": "https://localhost:8080/"
        },
        "id": "lBR9cgNms4-t",
        "outputId": "218b237b-2a60-4866-c81c-4dba70d21f91"
      },
      "source": [
        "x=0\n",
        "while x<20:\n",
        "  x=x+3\n",
        "print(x)"
      ],
      "execution_count": null,
      "outputs": [
        {
          "output_type": "stream",
          "text": [
            "21\n"
          ],
          "name": "stdout"
        }
      ]
    },
    {
      "cell_type": "code",
      "metadata": {
        "colab": {
          "base_uri": "https://localhost:8080/",
          "height": 141
        },
        "id": "mb6E0x7Zs5CJ",
        "outputId": "dd9bc3a3-a20b-42ca-e998-5fdcbf774417"
      },
      "source": [
        "import pandas as pd\n",
        "from pandas import DataFrame\n",
        "df=pd.DataFrame({'col1':['A']*3+['B']*4+['C','B','A'],'col2':[2,3,4,2,4,2,1,3,4,4]})\n",
        "df\n",
        "df.drop_duplicates()#Drops the duplicates\n",
        "df.drop_duplicates(subset='col1',keep='first')#in oer to keep only first occurance use subset and keep first. if keep last then last values will come."
      ],
      "execution_count": null,
      "outputs": [
        {
          "output_type": "execute_result",
          "data": {
            "text/html": [
              "<div>\n",
              "<style scoped>\n",
              "    .dataframe tbody tr th:only-of-type {\n",
              "        vertical-align: middle;\n",
              "    }\n",
              "\n",
              "    .dataframe tbody tr th {\n",
              "        vertical-align: top;\n",
              "    }\n",
              "\n",
              "    .dataframe thead th {\n",
              "        text-align: right;\n",
              "    }\n",
              "</style>\n",
              "<table border=\"1\" class=\"dataframe\">\n",
              "  <thead>\n",
              "    <tr style=\"text-align: right;\">\n",
              "      <th></th>\n",
              "      <th>col1</th>\n",
              "      <th>col2</th>\n",
              "    </tr>\n",
              "  </thead>\n",
              "  <tbody>\n",
              "    <tr>\n",
              "      <th>0</th>\n",
              "      <td>A</td>\n",
              "      <td>2</td>\n",
              "    </tr>\n",
              "    <tr>\n",
              "      <th>3</th>\n",
              "      <td>B</td>\n",
              "      <td>2</td>\n",
              "    </tr>\n",
              "    <tr>\n",
              "      <th>7</th>\n",
              "      <td>C</td>\n",
              "      <td>3</td>\n",
              "    </tr>\n",
              "  </tbody>\n",
              "</table>\n",
              "</div>"
            ],
            "text/plain": [
              "  col1  col2\n",
              "0    A     2\n",
              "3    B     2\n",
              "7    C     3"
            ]
          },
          "metadata": {
            "tags": []
          },
          "execution_count": 1
        }
      ]
    },
    {
      "cell_type": "code",
      "metadata": {
        "colab": {
          "base_uri": "https://localhost:8080/",
          "height": 235
        },
        "id": "V3OUKr8-s5GX",
        "outputId": "05a70fc7-e298-4c92-9ce0-250a664dac78"
      },
      "source": [
        "#Q2-Create new df from this, Replace missing value by 99.\n",
        "df=pd.DataFrame([[1,2,3,np.nan,4],\n",
        "                [2,np.nan,5,6,4],\n",
        "                [np.nan,7,np.nan,9,6],\n",
        "                [1,np.nan,np.nan,6,7]])\n",
        "df.fillna(99,axis=1)"
      ],
      "execution_count": null,
      "outputs": [
        {
          "output_type": "error",
          "ename": "NameError",
          "evalue": "ignored",
          "traceback": [
            "\u001b[0;31m---------------------------------------------------------------------------\u001b[0m",
            "\u001b[0;31mNameError\u001b[0m                                 Traceback (most recent call last)",
            "\u001b[0;32m<ipython-input-2-4b79fda5a3be>\u001b[0m in \u001b[0;36m<module>\u001b[0;34m()\u001b[0m\n\u001b[1;32m      1\u001b[0m \u001b[0;31m#Q2-Create new df from this, Replace missing value by 99.\u001b[0m\u001b[0;34m\u001b[0m\u001b[0;34m\u001b[0m\u001b[0;34m\u001b[0m\u001b[0m\n\u001b[0;32m----> 2\u001b[0;31m df=pd.DataFrame([[1,2,3,np.nan,4],\n\u001b[0m\u001b[1;32m      3\u001b[0m                 \u001b[0;34m[\u001b[0m\u001b[0;36m2\u001b[0m\u001b[0;34m,\u001b[0m\u001b[0mnp\u001b[0m\u001b[0;34m.\u001b[0m\u001b[0mnan\u001b[0m\u001b[0;34m,\u001b[0m\u001b[0;36m5\u001b[0m\u001b[0;34m,\u001b[0m\u001b[0;36m6\u001b[0m\u001b[0;34m,\u001b[0m\u001b[0;36m4\u001b[0m\u001b[0;34m]\u001b[0m\u001b[0;34m,\u001b[0m\u001b[0;34m\u001b[0m\u001b[0;34m\u001b[0m\u001b[0m\n\u001b[1;32m      4\u001b[0m                 \u001b[0;34m[\u001b[0m\u001b[0mnp\u001b[0m\u001b[0;34m.\u001b[0m\u001b[0mnan\u001b[0m\u001b[0;34m,\u001b[0m\u001b[0;36m7\u001b[0m\u001b[0;34m,\u001b[0m\u001b[0mnp\u001b[0m\u001b[0;34m.\u001b[0m\u001b[0mnan\u001b[0m\u001b[0;34m,\u001b[0m\u001b[0;36m9\u001b[0m\u001b[0;34m,\u001b[0m\u001b[0;36m6\u001b[0m\u001b[0;34m]\u001b[0m\u001b[0;34m,\u001b[0m\u001b[0;34m\u001b[0m\u001b[0;34m\u001b[0m\u001b[0m\n\u001b[1;32m      5\u001b[0m                 [1,np.nan,np.nan,6,7]])\n",
            "\u001b[0;31mNameError\u001b[0m: name 'np' is not defined"
          ]
        }
      ]
    },
    {
      "cell_type": "code",
      "metadata": {
        "colab": {
          "base_uri": "https://localhost:8080/"
        },
        "id": "ipb3aEii_e2z",
        "outputId": "034465a2-b9ce-47be-9fb5-374b46e0a333"
      },
      "source": [
        "#Q3\n",
        "import numpy as np\n",
        "a=np.array((1,2,3,2,3,4,3,4,5,6))\n",
        "b=np.array((7,2,10,2,7,4,9,4,9,8))\n",
        "a=set(a)\n",
        "b=set(b)\n",
        "list(a.intersection(b))"
      ],
      "execution_count": null,
      "outputs": [
        {
          "output_type": "execute_result",
          "data": {
            "text/plain": [
              "[2, 4]"
            ]
          },
          "metadata": {
            "tags": []
          },
          "execution_count": 4
        }
      ]
    },
    {
      "cell_type": "code",
      "metadata": {
        "id": "C_j7OVou_e6R",
        "colab": {
          "base_uri": "https://localhost:8080/"
        },
        "outputId": "797ad5c5-b722-4954-f41a-3e5df1caca39"
      },
      "source": [
        "#Q4\n",
        "a=list(np.array((1,2,3,4,5)))\n",
        "b=list(np.array((1,2,3,6,7)))\n",
        "c=[]\n",
        "for i in a:\n",
        "    if i in b:\n",
        "        c.append(i) #Only strings can be concatenated. list tuple can be appended.\n",
        "print(np.array(c))"
      ],
      "execution_count": null,
      "outputs": [
        {
          "output_type": "stream",
          "text": [
            "[1 2 3]\n"
          ],
          "name": "stdout"
        }
      ]
    },
    {
      "cell_type": "code",
      "metadata": {
        "id": "6UHqQ2BC_e9K",
        "colab": {
          "base_uri": "https://localhost:8080/"
        },
        "outputId": "df458193-1c65-4d81-88ca-2b95f893dd5f"
      },
      "source": [
        "#Q4\n",
        "a=np.array((1,2,3,4,5))\n",
        "b=np.array((1,2,3,6,7))\n",
        "c=[]\n",
        "for i in a:\n",
        "    if i in b:\n",
        "        c=c+i #Only strings can be concatenated. array list tuple can be appended.\n",
        "print(np.array(c))"
      ],
      "execution_count": null,
      "outputs": [
        {
          "output_type": "stream",
          "text": [
            "[]\n"
          ],
          "name": "stdout"
        }
      ]
    },
    {
      "cell_type": "code",
      "metadata": {
        "colab": {
          "base_uri": "https://localhost:8080/"
        },
        "id": "i5KB0Pxv_fAK",
        "outputId": "32290419-9c80-4ceb-86b8-af8ab0b24c13"
      },
      "source": [
        "x=5\n",
        "result=5 if x>5 else 6\n",
        "print(result)"
      ],
      "execution_count": null,
      "outputs": [
        {
          "output_type": "stream",
          "text": [
            "6\n"
          ],
          "name": "stdout"
        }
      ]
    },
    {
      "cell_type": "code",
      "metadata": {
        "id": "Jn3C5Rq2_fEF",
        "colab": {
          "base_uri": "https://localhost:8080/"
        },
        "outputId": "cdf85d15-b5c1-4e43-d138-c8bd914402ff"
      },
      "source": [
        "a='pythonHub'\n",
        "b=\"pythonHub\"\n",
        "print(a==b)"
      ],
      "execution_count": null,
      "outputs": [
        {
          "output_type": "stream",
          "text": [
            "True\n"
          ],
          "name": "stdout"
        }
      ]
    },
    {
      "cell_type": "code",
      "metadata": {
        "id": "XMDCOMMvzUii",
        "colab": {
          "base_uri": "https://localhost:8080/"
        },
        "outputId": "c6586e32-3f27-4fe1-8ac4-68bc2a4c0ed2"
      },
      "source": [
        "def func():\n",
        "  for x in range(22,23,24):\n",
        "    print(x)\n",
        "func()"
      ],
      "execution_count": null,
      "outputs": [
        {
          "output_type": "stream",
          "text": [
            "22\n"
          ],
          "name": "stdout"
        }
      ]
    },
    {
      "cell_type": "code",
      "metadata": {
        "id": "9Y2u3TTAzUmk",
        "colab": {
          "base_uri": "https://localhost:8080/",
          "height": 201
        },
        "outputId": "f3755fbc-8bfe-4468-ef70-c16b55d5977f"
      },
      "source": [
        "s1={1,2,3}\n",
        "s2={1,2,3}\n",
        "print(s1+s2)"
      ],
      "execution_count": null,
      "outputs": [
        {
          "output_type": "error",
          "ename": "TypeError",
          "evalue": "ignored",
          "traceback": [
            "\u001b[0;31m---------------------------------------------------------------------------\u001b[0m",
            "\u001b[0;31mTypeError\u001b[0m                                 Traceback (most recent call last)",
            "\u001b[0;32m<ipython-input-1-f56979a9444c>\u001b[0m in \u001b[0;36m<module>\u001b[0;34m()\u001b[0m\n\u001b[1;32m      1\u001b[0m \u001b[0ms1\u001b[0m\u001b[0;34m=\u001b[0m\u001b[0;34m{\u001b[0m\u001b[0;36m1\u001b[0m\u001b[0;34m,\u001b[0m\u001b[0;36m2\u001b[0m\u001b[0;34m,\u001b[0m\u001b[0;36m3\u001b[0m\u001b[0;34m}\u001b[0m\u001b[0;34m\u001b[0m\u001b[0;34m\u001b[0m\u001b[0m\n\u001b[1;32m      2\u001b[0m \u001b[0ms2\u001b[0m\u001b[0;34m=\u001b[0m\u001b[0;34m{\u001b[0m\u001b[0;36m1\u001b[0m\u001b[0;34m,\u001b[0m\u001b[0;36m2\u001b[0m\u001b[0;34m,\u001b[0m\u001b[0;36m3\u001b[0m\u001b[0;34m}\u001b[0m\u001b[0;34m\u001b[0m\u001b[0;34m\u001b[0m\u001b[0m\n\u001b[0;32m----> 3\u001b[0;31m \u001b[0mprint\u001b[0m\u001b[0;34m(\u001b[0m\u001b[0ms1\u001b[0m\u001b[0;34m+\u001b[0m\u001b[0ms2\u001b[0m\u001b[0;34m)\u001b[0m\u001b[0;34m\u001b[0m\u001b[0;34m\u001b[0m\u001b[0m\n\u001b[0m",
            "\u001b[0;31mTypeError\u001b[0m: unsupported operand type(s) for +: 'set' and 'set'"
          ]
        }
      ]
    },
    {
      "cell_type": "code",
      "metadata": {
        "id": "TQabrK5gzUqx",
        "colab": {
          "base_uri": "https://localhost:8080/"
        },
        "outputId": "8d4f6b10-dc09-4b36-b6dc-fd5c655f3b19"
      },
      "source": [
        "x=[(1,2),(2,3),(2,1)]\n",
        "x.sort()\n",
        "print(x)"
      ],
      "execution_count": null,
      "outputs": [
        {
          "output_type": "stream",
          "text": [
            "[(1, 2), (2, 1), (2, 3)]\n"
          ],
          "name": "stdout"
        }
      ]
    },
    {
      "cell_type": "code",
      "metadata": {
        "id": "_Mrm5GnRzUv6",
        "colab": {
          "base_uri": "https://localhost:8080/"
        },
        "outputId": "12efef46-ebae-4722-c7de-40854ceee8f8"
      },
      "source": [
        "a=[1,2,3]\n",
        "b=a\n",
        "print(a is b),print(a==b)"
      ],
      "execution_count": null,
      "outputs": [
        {
          "output_type": "stream",
          "text": [
            "True\n",
            "True\n"
          ],
          "name": "stdout"
        },
        {
          "output_type": "execute_result",
          "data": {
            "text/plain": [
              "(None, None)"
            ]
          },
          "metadata": {
            "tags": []
          },
          "execution_count": 3
        }
      ]
    },
    {
      "cell_type": "code",
      "metadata": {
        "id": "mNRRNIWBzUy1"
      },
      "source": [
        "import pandas as pd\n",
        "import numpy as np\n",
        "df=pd.DataFrame(np.random.randint(0,108,108),columns=['Age'])"
      ],
      "execution_count": null,
      "outputs": []
    },
    {
      "cell_type": "code",
      "metadata": {
        "id": "ZyK7yDk2zU3A",
        "colab": {
          "base_uri": "https://localhost:8080/"
        },
        "outputId": "75b7e1d8-d913-4086-f58e-1b00de6f050e"
      },
      "source": [
        "df['Age'].dtype"
      ],
      "execution_count": null,
      "outputs": [
        {
          "output_type": "execute_result",
          "data": {
            "text/plain": [
              "dtype('int64')"
            ]
          },
          "metadata": {
            "tags": []
          },
          "execution_count": 2
        }
      ]
    },
    {
      "cell_type": "code",
      "metadata": {
        "id": "yB8o3STWzU8T"
      },
      "source": [
        "def Modified_Age(df):\n",
        "  for i in range(df['Age']):\n",
        "    print(i)\n",
        "    if i%2==0:\n",
        "      print(i**2)\n",
        "    else:\n",
        "      print(i)\n",
        "\n",
        "  return df"
      ],
      "execution_count": null,
      "outputs": []
    },
    {
      "cell_type": "code",
      "metadata": {
        "colab": {
          "base_uri": "https://localhost:8080/"
        },
        "id": "FloaJfB7eesY",
        "outputId": "931d67f4-2923-490c-a440-be68c594167e"
      },
      "source": [
        "type(df)"
      ],
      "execution_count": null,
      "outputs": [
        {
          "output_type": "execute_result",
          "data": {
            "text/plain": [
              "pandas.core.frame.DataFrame"
            ]
          },
          "metadata": {
            "tags": []
          },
          "execution_count": 4
        }
      ]
    },
    {
      "cell_type": "code",
      "metadata": {
        "id": "rqWzjOyEcynG"
      },
      "source": [
        "#df['Modified_Age']=Modified_Age(df)"
      ],
      "execution_count": null,
      "outputs": []
    },
    {
      "cell_type": "code",
      "metadata": {
        "id": "fF5rEyazdZUe"
      },
      "source": [
        "#df['Modified_Age']=df.apply(Modified_Age,axis=1)"
      ],
      "execution_count": null,
      "outputs": []
    },
    {
      "cell_type": "code",
      "metadata": {
        "id": "aS3wk9kbnCUQ"
      },
      "source": [
        "df['Modified_Age']=df.apply(lambda x:x['Age']**2 if x['Age']%2==0 else x['Age'], axis=1)"
      ],
      "execution_count": null,
      "outputs": []
    },
    {
      "cell_type": "code",
      "metadata": {
        "colab": {
          "base_uri": "https://localhost:8080/",
          "height": 423
        },
        "id": "CHRfcB_0nrvM",
        "outputId": "b463d173-eea3-4228-d055-8593a9a2975b"
      },
      "source": [
        "df"
      ],
      "execution_count": null,
      "outputs": [
        {
          "output_type": "execute_result",
          "data": {
            "text/html": [
              "<div>\n",
              "<style scoped>\n",
              "    .dataframe tbody tr th:only-of-type {\n",
              "        vertical-align: middle;\n",
              "    }\n",
              "\n",
              "    .dataframe tbody tr th {\n",
              "        vertical-align: top;\n",
              "    }\n",
              "\n",
              "    .dataframe thead th {\n",
              "        text-align: right;\n",
              "    }\n",
              "</style>\n",
              "<table border=\"1\" class=\"dataframe\">\n",
              "  <thead>\n",
              "    <tr style=\"text-align: right;\">\n",
              "      <th></th>\n",
              "      <th>Age</th>\n",
              "      <th>Modified_Age</th>\n",
              "    </tr>\n",
              "  </thead>\n",
              "  <tbody>\n",
              "    <tr>\n",
              "      <th>0</th>\n",
              "      <td>16</td>\n",
              "      <td>256</td>\n",
              "    </tr>\n",
              "    <tr>\n",
              "      <th>1</th>\n",
              "      <td>61</td>\n",
              "      <td>61</td>\n",
              "    </tr>\n",
              "    <tr>\n",
              "      <th>2</th>\n",
              "      <td>45</td>\n",
              "      <td>45</td>\n",
              "    </tr>\n",
              "    <tr>\n",
              "      <th>3</th>\n",
              "      <td>57</td>\n",
              "      <td>57</td>\n",
              "    </tr>\n",
              "    <tr>\n",
              "      <th>4</th>\n",
              "      <td>40</td>\n",
              "      <td>1600</td>\n",
              "    </tr>\n",
              "    <tr>\n",
              "      <th>...</th>\n",
              "      <td>...</td>\n",
              "      <td>...</td>\n",
              "    </tr>\n",
              "    <tr>\n",
              "      <th>103</th>\n",
              "      <td>18</td>\n",
              "      <td>324</td>\n",
              "    </tr>\n",
              "    <tr>\n",
              "      <th>104</th>\n",
              "      <td>41</td>\n",
              "      <td>41</td>\n",
              "    </tr>\n",
              "    <tr>\n",
              "      <th>105</th>\n",
              "      <td>74</td>\n",
              "      <td>5476</td>\n",
              "    </tr>\n",
              "    <tr>\n",
              "      <th>106</th>\n",
              "      <td>40</td>\n",
              "      <td>1600</td>\n",
              "    </tr>\n",
              "    <tr>\n",
              "      <th>107</th>\n",
              "      <td>43</td>\n",
              "      <td>43</td>\n",
              "    </tr>\n",
              "  </tbody>\n",
              "</table>\n",
              "<p>108 rows × 2 columns</p>\n",
              "</div>"
            ],
            "text/plain": [
              "     Age  Modified_Age\n",
              "0     16           256\n",
              "1     61            61\n",
              "2     45            45\n",
              "3     57            57\n",
              "4     40          1600\n",
              "..   ...           ...\n",
              "103   18           324\n",
              "104   41            41\n",
              "105   74          5476\n",
              "106   40          1600\n",
              "107   43            43\n",
              "\n",
              "[108 rows x 2 columns]"
            ]
          },
          "metadata": {
            "tags": []
          },
          "execution_count": 7
        }
      ]
    },
    {
      "cell_type": "code",
      "metadata": {
        "id": "lr_a_F48bvlu"
      },
      "source": [
        "np.where takes the condition if it is true returns x else returns y"
      ],
      "execution_count": null,
      "outputs": []
    },
    {
      "cell_type": "code",
      "metadata": {
        "id": "0yJHAkOEzU_d",
        "colab": {
          "base_uri": "https://localhost:8080/",
          "height": 423
        },
        "outputId": "4142f5f3-b665-4d80-9951-980b9c0f36a2"
      },
      "source": [
        "df['Modified_Age']=np.where(df['Age']%2==0,df['Age']**2,df['Age'])\n",
        "df"
      ],
      "execution_count": null,
      "outputs": [
        {
          "output_type": "execute_result",
          "data": {
            "text/html": [
              "<div>\n",
              "<style scoped>\n",
              "    .dataframe tbody tr th:only-of-type {\n",
              "        vertical-align: middle;\n",
              "    }\n",
              "\n",
              "    .dataframe tbody tr th {\n",
              "        vertical-align: top;\n",
              "    }\n",
              "\n",
              "    .dataframe thead th {\n",
              "        text-align: right;\n",
              "    }\n",
              "</style>\n",
              "<table border=\"1\" class=\"dataframe\">\n",
              "  <thead>\n",
              "    <tr style=\"text-align: right;\">\n",
              "      <th></th>\n",
              "      <th>Age</th>\n",
              "      <th>Modified_Age</th>\n",
              "    </tr>\n",
              "  </thead>\n",
              "  <tbody>\n",
              "    <tr>\n",
              "      <th>0</th>\n",
              "      <td>16</td>\n",
              "      <td>256</td>\n",
              "    </tr>\n",
              "    <tr>\n",
              "      <th>1</th>\n",
              "      <td>61</td>\n",
              "      <td>61</td>\n",
              "    </tr>\n",
              "    <tr>\n",
              "      <th>2</th>\n",
              "      <td>45</td>\n",
              "      <td>45</td>\n",
              "    </tr>\n",
              "    <tr>\n",
              "      <th>3</th>\n",
              "      <td>57</td>\n",
              "      <td>57</td>\n",
              "    </tr>\n",
              "    <tr>\n",
              "      <th>4</th>\n",
              "      <td>40</td>\n",
              "      <td>1600</td>\n",
              "    </tr>\n",
              "    <tr>\n",
              "      <th>...</th>\n",
              "      <td>...</td>\n",
              "      <td>...</td>\n",
              "    </tr>\n",
              "    <tr>\n",
              "      <th>103</th>\n",
              "      <td>18</td>\n",
              "      <td>324</td>\n",
              "    </tr>\n",
              "    <tr>\n",
              "      <th>104</th>\n",
              "      <td>41</td>\n",
              "      <td>41</td>\n",
              "    </tr>\n",
              "    <tr>\n",
              "      <th>105</th>\n",
              "      <td>74</td>\n",
              "      <td>5476</td>\n",
              "    </tr>\n",
              "    <tr>\n",
              "      <th>106</th>\n",
              "      <td>40</td>\n",
              "      <td>1600</td>\n",
              "    </tr>\n",
              "    <tr>\n",
              "      <th>107</th>\n",
              "      <td>43</td>\n",
              "      <td>43</td>\n",
              "    </tr>\n",
              "  </tbody>\n",
              "</table>\n",
              "<p>108 rows × 2 columns</p>\n",
              "</div>"
            ],
            "text/plain": [
              "     Age  Modified_Age\n",
              "0     16           256\n",
              "1     61            61\n",
              "2     45            45\n",
              "3     57            57\n",
              "4     40          1600\n",
              "..   ...           ...\n",
              "103   18           324\n",
              "104   41            41\n",
              "105   74          5476\n",
              "106   40          1600\n",
              "107   43            43\n",
              "\n",
              "[108 rows x 2 columns]"
            ]
          },
          "metadata": {
            "tags": []
          },
          "execution_count": 8
        }
      ]
    },
    {
      "cell_type": "code",
      "metadata": {
        "id": "JvzkvRe7zVCl",
        "colab": {
          "base_uri": "https://localhost:8080/"
        },
        "outputId": "7feba591-737b-4d01-b396-6de6ffc9317e"
      },
      "source": [
        "type(df)"
      ],
      "execution_count": null,
      "outputs": [
        {
          "output_type": "execute_result",
          "data": {
            "text/plain": [
              "pandas.core.frame.DataFrame"
            ]
          },
          "metadata": {
            "tags": []
          },
          "execution_count": 104
        }
      ]
    },
    {
      "cell_type": "code",
      "metadata": {
        "id": "4BN9BPCHaTXH"
      },
      "source": [
        "#df.apply\n",
        "Objects passed to the function are Series objects whose index is either the DataFrame’s index (axis=0) or \n",
        "the DataFrame’s columns (axis=1). By default (result_type=None), \n",
        "the final return type is inferred from the return type of the applied function. Otherwise, it depends on the result_type argument.\n",
        "#return type will be series or dataframe"
      ],
      "execution_count": null,
      "outputs": []
    },
    {
      "cell_type": "code",
      "metadata": {
        "colab": {
          "base_uri": "https://localhost:8080/"
        },
        "id": "O8W0KRSrmnoe",
        "outputId": "bf09c664-48c6-4060-8673-381eec7aa3d5"
      },
      "source": [
        "#Find a subarray with given sum\n",
        "array=[1,2,3,4,5,6,7]\n",
        "def getsubarraywithsum(arr,s):\n",
        "  result=[]\n",
        "  for x in range(len(arr)):\n",
        "    result.append(arr[x])\n",
        "    while(sum(result)>s):\n",
        "      result.pop(0)\n",
        "    if (sum(result)==s):\n",
        "      return result\n",
        "  return []\n",
        "getsubarraywithsum(array,20)"
      ],
      "execution_count": null,
      "outputs": [
        {
          "output_type": "execute_result",
          "data": {
            "text/plain": [
              "[2, 3, 4, 5, 6]"
            ]
          },
          "metadata": {
            "tags": []
          },
          "execution_count": 141
        }
      ]
    },
    {
      "cell_type": "code",
      "metadata": {
        "colab": {
          "base_uri": "https://localhost:8080/"
        },
        "id": "HDDMoEE-mnvU",
        "outputId": "f1620cec-9ba6-41e9-f15a-af4ea878db37"
      },
      "source": [
        "array=[-2,-3,4,-1,-2,1,5,-3]\n",
        "def getsubarraywithsum(arr,s):\n",
        "  result=[]\n",
        "  for x in range(len(arr)):\n",
        "    result.append(arr[x])\n",
        "    while(sum(result)>s):\n",
        "      result.pop(0)\n",
        "    if (sum(result)==s):\n",
        "      return result\n",
        "  return []\n",
        "getsubarraywithsum(array,7)"
      ],
      "execution_count": null,
      "outputs": [
        {
          "output_type": "execute_result",
          "data": {
            "text/plain": [
              "[]"
            ]
          },
          "metadata": {
            "tags": []
          },
          "execution_count": 145
        }
      ]
    },
    {
      "cell_type": "code",
      "metadata": {
        "colab": {
          "base_uri": "https://localhost:8080/"
        },
        "id": "t7JmWrXSmnx-",
        "outputId": "be94c43d-c024-44a6-aa59-0d37ea8a0899"
      },
      "source": [
        "\n",
        "# Python program to print largest contiguous array sum\n",
        " \n",
        "from sys import maxsize\n",
        " \n",
        "# Function to find the maximum contiguous subarray\n",
        "# and print its starting and end index\n",
        "def maxSubArraySum(a,size):\n",
        " \n",
        "    max_so_far = -maxsize - 1\n",
        "    max_ending_here = 0\n",
        "    start = 0\n",
        "    end = 0\n",
        "    s = 0\n",
        " \n",
        "    for i in range(0,size):\n",
        " \n",
        "        max_ending_here += a[i]\n",
        " \n",
        "        if max_so_far < max_ending_here:\n",
        "            max_so_far = max_ending_here\n",
        "            start = s\n",
        "            end = i\n",
        " \n",
        "        if max_ending_here < 0:\n",
        "            max_ending_here = 0\n",
        "            s = i+1\n",
        " \n",
        "    print (\"Maximum contiguous sum is %d\"%(max_so_far))\n",
        "    print (\"Starting Index %d\"%(start))\n",
        "    print (\"Ending Index %d\"%(end))\n",
        " \n",
        "# Driver program to test maxSubArraySum\n",
        "a = [-2, -3, 4, -1, -2, 1, 5, -3]\n",
        "maxSubArraySum(a,len(a))"
      ],
      "execution_count": null,
      "outputs": [
        {
          "output_type": "stream",
          "text": [
            "Maximum contiguous sum is 7\n",
            "Starting Index 2\n",
            "Ending Index 6\n"
          ],
          "name": "stdout"
        }
      ]
    },
    {
      "cell_type": "code",
      "metadata": {
        "colab": {
          "base_uri": "https://localhost:8080/"
        },
        "id": "rs4tsvxyeH-M",
        "outputId": "65161dfb-f3a2-4797-f912-f8375e45870d"
      },
      "source": [
        "n=3\n",
        "for i in range(n):\n",
        "  print(i,end=' ')"
      ],
      "execution_count": null,
      "outputs": [
        {
          "output_type": "stream",
          "text": [
            "0 1 2 "
          ],
          "name": "stdout"
        }
      ]
    },
    {
      "cell_type": "code",
      "metadata": {
        "id": "hOW1BH9YlmlX"
      },
      "source": [
        "data ={\n",
        "'Product':['Coffee','chocolate','cashew','cocoa','chocolate','Coffee','cocoa','cocoa','Chocolate'],\n",
        "'Brand': ['A','B','A','A','A','B','B','C','C'],\n",
        "'Weight(g)':[500,1500,200,2000,120,500,500,1000,500],\n",
        "'Quantity': [12,10,165,10,100,20,200,320,150],\n",
        "'Good Sale': ['No','Yes','Yes','Yes','No','No','Yes','Yes','No']\n",
        "}"
      ],
      "execution_count": null,
      "outputs": []
    },
    {
      "cell_type": "code",
      "metadata": {
        "id": "JDoo0lHEuljy"
      },
      "source": [
        "import pandas   as pd\n",
        "data=pd.DataFrame(data)"
      ],
      "execution_count": null,
      "outputs": []
    },
    {
      "cell_type": "code",
      "metadata": {
        "id": "DJwYyqQNuS_D"
      },
      "source": [
        "data['Product']=data['Product'].str.upper() # As datatype of data['Product] is object so we cannot directly \n",
        "#convert it into upper, so first make it string using str and do upper."
      ],
      "execution_count": null,
      "outputs": []
    },
    {
      "cell_type": "code",
      "metadata": {
        "id": "hIcSPgA6xDGY"
      },
      "source": [
        "#other method we have .apply method\n",
        "data['Product']=data['Product'].apply(lambda x:x.upper())#It takes out each value from product column so it will be in string format, so directly it \n",
        "#will do upper and apply to that column."
      ],
      "execution_count": null,
      "outputs": []
    },
    {
      "cell_type": "code",
      "metadata": {
        "id": "w25tu14Nv8v1"
      },
      "source": [
        "#pandas.Series( data, index, dtype, copy)"
      ],
      "execution_count": null,
      "outputs": []
    },
    {
      "cell_type": "code",
      "metadata": {
        "colab": {
          "base_uri": "https://localhost:8080/",
          "height": 331
        },
        "id": "LiJY3IHtuTBp",
        "outputId": "6139e3a9-6800-4225-8079-4b424721f938"
      },
      "source": [
        "data"
      ],
      "execution_count": null,
      "outputs": [
        {
          "output_type": "execute_result",
          "data": {
            "text/html": [
              "<div>\n",
              "<style scoped>\n",
              "    .dataframe tbody tr th:only-of-type {\n",
              "        vertical-align: middle;\n",
              "    }\n",
              "\n",
              "    .dataframe tbody tr th {\n",
              "        vertical-align: top;\n",
              "    }\n",
              "\n",
              "    .dataframe thead th {\n",
              "        text-align: right;\n",
              "    }\n",
              "</style>\n",
              "<table border=\"1\" class=\"dataframe\">\n",
              "  <thead>\n",
              "    <tr style=\"text-align: right;\">\n",
              "      <th></th>\n",
              "      <th>Product</th>\n",
              "      <th>Brand</th>\n",
              "      <th>Weight(g)</th>\n",
              "      <th>Quantity</th>\n",
              "      <th>Good Sale</th>\n",
              "    </tr>\n",
              "  </thead>\n",
              "  <tbody>\n",
              "    <tr>\n",
              "      <th>0</th>\n",
              "      <td>COFFEE</td>\n",
              "      <td>A</td>\n",
              "      <td>500</td>\n",
              "      <td>12</td>\n",
              "      <td>No</td>\n",
              "    </tr>\n",
              "    <tr>\n",
              "      <th>1</th>\n",
              "      <td>CHOCOLATE</td>\n",
              "      <td>B</td>\n",
              "      <td>1500</td>\n",
              "      <td>10</td>\n",
              "      <td>Yes</td>\n",
              "    </tr>\n",
              "    <tr>\n",
              "      <th>2</th>\n",
              "      <td>CASHEW</td>\n",
              "      <td>A</td>\n",
              "      <td>200</td>\n",
              "      <td>165</td>\n",
              "      <td>Yes</td>\n",
              "    </tr>\n",
              "    <tr>\n",
              "      <th>3</th>\n",
              "      <td>COCOA</td>\n",
              "      <td>A</td>\n",
              "      <td>2000</td>\n",
              "      <td>10</td>\n",
              "      <td>Yes</td>\n",
              "    </tr>\n",
              "    <tr>\n",
              "      <th>4</th>\n",
              "      <td>CHOCOLATE</td>\n",
              "      <td>A</td>\n",
              "      <td>120</td>\n",
              "      <td>100</td>\n",
              "      <td>No</td>\n",
              "    </tr>\n",
              "    <tr>\n",
              "      <th>5</th>\n",
              "      <td>COFFEE</td>\n",
              "      <td>B</td>\n",
              "      <td>500</td>\n",
              "      <td>20</td>\n",
              "      <td>No</td>\n",
              "    </tr>\n",
              "    <tr>\n",
              "      <th>6</th>\n",
              "      <td>COCOA</td>\n",
              "      <td>B</td>\n",
              "      <td>500</td>\n",
              "      <td>200</td>\n",
              "      <td>Yes</td>\n",
              "    </tr>\n",
              "    <tr>\n",
              "      <th>7</th>\n",
              "      <td>COCOA</td>\n",
              "      <td>C</td>\n",
              "      <td>1000</td>\n",
              "      <td>320</td>\n",
              "      <td>Yes</td>\n",
              "    </tr>\n",
              "    <tr>\n",
              "      <th>8</th>\n",
              "      <td>CHOCOLATE</td>\n",
              "      <td>C</td>\n",
              "      <td>500</td>\n",
              "      <td>150</td>\n",
              "      <td>No</td>\n",
              "    </tr>\n",
              "  </tbody>\n",
              "</table>\n",
              "</div>"
            ],
            "text/plain": [
              "     Product Brand  Weight(g)  Quantity Good Sale\n",
              "0     COFFEE     A        500        12        No\n",
              "1  CHOCOLATE     B       1500        10       Yes\n",
              "2     CASHEW     A        200       165       Yes\n",
              "3      COCOA     A       2000        10       Yes\n",
              "4  CHOCOLATE     A        120       100        No\n",
              "5     COFFEE     B        500        20        No\n",
              "6      COCOA     B        500       200       Yes\n",
              "7      COCOA     C       1000       320       Yes\n",
              "8  CHOCOLATE     C        500       150        No"
            ]
          },
          "metadata": {
            "tags": []
          },
          "execution_count": 10
        }
      ]
    },
    {
      "cell_type": "code",
      "metadata": {
        "colab": {
          "base_uri": "https://localhost:8080/",
          "height": 206
        },
        "id": "KSCZzJzQuTEl",
        "outputId": "29d7511f-a9d5-406b-e3c7-a3ef13430fd0"
      },
      "source": [
        "#Q1) Get total weight of each product.\n",
        "#So approach is we can group by product and get the sum od weight of each product.\n",
        "data.groupby('Product')[['Weight(g)']].sum()"
      ],
      "execution_count": null,
      "outputs": [
        {
          "output_type": "execute_result",
          "data": {
            "text/html": [
              "<div>\n",
              "<style scoped>\n",
              "    .dataframe tbody tr th:only-of-type {\n",
              "        vertical-align: middle;\n",
              "    }\n",
              "\n",
              "    .dataframe tbody tr th {\n",
              "        vertical-align: top;\n",
              "    }\n",
              "\n",
              "    .dataframe thead th {\n",
              "        text-align: right;\n",
              "    }\n",
              "</style>\n",
              "<table border=\"1\" class=\"dataframe\">\n",
              "  <thead>\n",
              "    <tr style=\"text-align: right;\">\n",
              "      <th></th>\n",
              "      <th>Weight(g)</th>\n",
              "    </tr>\n",
              "    <tr>\n",
              "      <th>Product</th>\n",
              "      <th></th>\n",
              "    </tr>\n",
              "  </thead>\n",
              "  <tbody>\n",
              "    <tr>\n",
              "      <th>CASHEW</th>\n",
              "      <td>200</td>\n",
              "    </tr>\n",
              "    <tr>\n",
              "      <th>CHOCOLATE</th>\n",
              "      <td>2120</td>\n",
              "    </tr>\n",
              "    <tr>\n",
              "      <th>COCOA</th>\n",
              "      <td>3500</td>\n",
              "    </tr>\n",
              "    <tr>\n",
              "      <th>COFFEE</th>\n",
              "      <td>1000</td>\n",
              "    </tr>\n",
              "  </tbody>\n",
              "</table>\n",
              "</div>"
            ],
            "text/plain": [
              "           Weight(g)\n",
              "Product             \n",
              "CASHEW           200\n",
              "CHOCOLATE       2120\n",
              "COCOA           3500\n",
              "COFFEE          1000"
            ]
          },
          "metadata": {
            "tags": []
          },
          "execution_count": 11
        }
      ]
    },
    {
      "cell_type": "code",
      "metadata": {
        "id": "472ZPUXjxaNw"
      },
      "source": [
        "#Q2 - For city bang and che do bill quantity /4 and others as zero, this have to be in new column."
      ],
      "execution_count": null,
      "outputs": []
    },
    {
      "cell_type": "code",
      "metadata": {
        "id": "zIQamN4W0TKZ"
      },
      "source": [
        "data = {' Customer':[1,2,3,4,5,6,7,8,9,10,11],\n",
        "'Material ID':[64578,64579,64580,64581,64582,64583,64584,64585,64586,64587,64588],\n",
        "'Bill Quantity':[100,58,36,45,145,369,768,39,89,0,143],\n",
        "'Bill Type':['sale','sale','return','return','sale','return','sale','sale','return','sale','sale'],\n",
        "'Product location':['bangalore','Mumbai','chennai','hydrabed','chennai','chennai','mumbai','Bangalore','','bangalore','delhi'],\n",
        "'month of sale':['july','february','November','June','october','december','June','july','augest','augest','May']}"
      ],
      "execution_count": null,
      "outputs": []
    },
    {
      "cell_type": "code",
      "metadata": {
        "id": "3TQy09rO0UUi"
      },
      "source": [
        "import pandas as pd\n",
        "data=pd.DataFrame(data)"
      ],
      "execution_count": null,
      "outputs": []
    },
    {
      "cell_type": "code",
      "metadata": {
        "id": "wcZzmooytQ7L"
      },
      "source": [
        "data['Product location']=data['Product location'].str.upper()"
      ],
      "execution_count": null,
      "outputs": []
    },
    {
      "cell_type": "code",
      "metadata": {
        "id": "z4AXhAHC0He6"
      },
      "source": [
        "#data['Newbillquantity']=data.apply(lambda x:x['Bill Quantity']/4  if x['Product location']=='BANGALORE' or x['Product location']=='CHENNAI' else 0,axis=1)"
      ],
      "execution_count": null,
      "outputs": []
    },
    {
      "cell_type": "code",
      "metadata": {
        "id": "LwakLzjStu5S"
      },
      "source": [
        "#data"
      ],
      "execution_count": null,
      "outputs": []
    },
    {
      "cell_type": "code",
      "metadata": {
        "id": "m4-qJP3l0Hkq"
      },
      "source": [
        "import numpy as np\n",
        "data['Newbillquantity1']=np.where((data['Product location']=='BANGALORE') | (data['Product location']=='CHENNAI'),data['Bill Quantity']/4,0)"
      ],
      "execution_count": null,
      "outputs": []
    },
    {
      "cell_type": "code",
      "metadata": {
        "colab": {
          "base_uri": "https://localhost:8080/",
          "height": 394
        },
        "id": "APm8VartuTHy",
        "outputId": "70d92fad-931b-4f0c-c51f-dd06f63a2d39"
      },
      "source": [
        "data[['Product location','Newbillquantity1']]"
      ],
      "execution_count": null,
      "outputs": [
        {
          "output_type": "execute_result",
          "data": {
            "text/html": [
              "<div>\n",
              "<style scoped>\n",
              "    .dataframe tbody tr th:only-of-type {\n",
              "        vertical-align: middle;\n",
              "    }\n",
              "\n",
              "    .dataframe tbody tr th {\n",
              "        vertical-align: top;\n",
              "    }\n",
              "\n",
              "    .dataframe thead th {\n",
              "        text-align: right;\n",
              "    }\n",
              "</style>\n",
              "<table border=\"1\" class=\"dataframe\">\n",
              "  <thead>\n",
              "    <tr style=\"text-align: right;\">\n",
              "      <th></th>\n",
              "      <th>Product location</th>\n",
              "      <th>Newbillquantity1</th>\n",
              "    </tr>\n",
              "  </thead>\n",
              "  <tbody>\n",
              "    <tr>\n",
              "      <th>0</th>\n",
              "      <td>BANGALORE</td>\n",
              "      <td>25.00</td>\n",
              "    </tr>\n",
              "    <tr>\n",
              "      <th>1</th>\n",
              "      <td>MUMBAI</td>\n",
              "      <td>0.00</td>\n",
              "    </tr>\n",
              "    <tr>\n",
              "      <th>2</th>\n",
              "      <td>CHENNAI</td>\n",
              "      <td>9.00</td>\n",
              "    </tr>\n",
              "    <tr>\n",
              "      <th>3</th>\n",
              "      <td>HYDRABED</td>\n",
              "      <td>0.00</td>\n",
              "    </tr>\n",
              "    <tr>\n",
              "      <th>4</th>\n",
              "      <td>CHENNAI</td>\n",
              "      <td>36.25</td>\n",
              "    </tr>\n",
              "    <tr>\n",
              "      <th>5</th>\n",
              "      <td>CHENNAI</td>\n",
              "      <td>92.25</td>\n",
              "    </tr>\n",
              "    <tr>\n",
              "      <th>6</th>\n",
              "      <td>MUMBAI</td>\n",
              "      <td>0.00</td>\n",
              "    </tr>\n",
              "    <tr>\n",
              "      <th>7</th>\n",
              "      <td>BANGALORE</td>\n",
              "      <td>9.75</td>\n",
              "    </tr>\n",
              "    <tr>\n",
              "      <th>8</th>\n",
              "      <td></td>\n",
              "      <td>0.00</td>\n",
              "    </tr>\n",
              "    <tr>\n",
              "      <th>9</th>\n",
              "      <td>BANGALORE</td>\n",
              "      <td>0.00</td>\n",
              "    </tr>\n",
              "    <tr>\n",
              "      <th>10</th>\n",
              "      <td>DELHI</td>\n",
              "      <td>0.00</td>\n",
              "    </tr>\n",
              "  </tbody>\n",
              "</table>\n",
              "</div>"
            ],
            "text/plain": [
              "   Product location  Newbillquantity1\n",
              "0         BANGALORE             25.00\n",
              "1            MUMBAI              0.00\n",
              "2           CHENNAI              9.00\n",
              "3          HYDRABED              0.00\n",
              "4           CHENNAI             36.25\n",
              "5           CHENNAI             92.25\n",
              "6            MUMBAI              0.00\n",
              "7         BANGALORE              9.75\n",
              "8                                0.00\n",
              "9         BANGALORE              0.00\n",
              "10            DELHI              0.00"
            ]
          },
          "metadata": {
            "tags": []
          },
          "execution_count": 55
        }
      ]
    },
    {
      "cell_type": "code",
      "metadata": {
        "colab": {
          "base_uri": "https://localhost:8080/",
          "height": 394
        },
        "id": "xEiJ7y1fuTLH",
        "outputId": "337c82db-1c21-4199-a9db-aa9fb1e51f15"
      },
      "source": [
        "data"
      ],
      "execution_count": null,
      "outputs": [
        {
          "output_type": "execute_result",
          "data": {
            "text/html": [
              "<div>\n",
              "<style scoped>\n",
              "    .dataframe tbody tr th:only-of-type {\n",
              "        vertical-align: middle;\n",
              "    }\n",
              "\n",
              "    .dataframe tbody tr th {\n",
              "        vertical-align: top;\n",
              "    }\n",
              "\n",
              "    .dataframe thead th {\n",
              "        text-align: right;\n",
              "    }\n",
              "</style>\n",
              "<table border=\"1\" class=\"dataframe\">\n",
              "  <thead>\n",
              "    <tr style=\"text-align: right;\">\n",
              "      <th></th>\n",
              "      <th>Customer</th>\n",
              "      <th>Material ID</th>\n",
              "      <th>Bill Quantity</th>\n",
              "      <th>Bill Type</th>\n",
              "      <th>Product location</th>\n",
              "      <th>month of sale</th>\n",
              "      <th>Newbillquantity1</th>\n",
              "    </tr>\n",
              "  </thead>\n",
              "  <tbody>\n",
              "    <tr>\n",
              "      <th>0</th>\n",
              "      <td>1</td>\n",
              "      <td>64578</td>\n",
              "      <td>100</td>\n",
              "      <td>sale</td>\n",
              "      <td>BANGALORE</td>\n",
              "      <td>july</td>\n",
              "      <td>25.00</td>\n",
              "    </tr>\n",
              "    <tr>\n",
              "      <th>1</th>\n",
              "      <td>2</td>\n",
              "      <td>64579</td>\n",
              "      <td>58</td>\n",
              "      <td>sale</td>\n",
              "      <td>MUMBAI</td>\n",
              "      <td>february</td>\n",
              "      <td>0.00</td>\n",
              "    </tr>\n",
              "    <tr>\n",
              "      <th>2</th>\n",
              "      <td>3</td>\n",
              "      <td>64580</td>\n",
              "      <td>36</td>\n",
              "      <td>return</td>\n",
              "      <td>CHENNAI</td>\n",
              "      <td>November</td>\n",
              "      <td>9.00</td>\n",
              "    </tr>\n",
              "    <tr>\n",
              "      <th>3</th>\n",
              "      <td>4</td>\n",
              "      <td>64581</td>\n",
              "      <td>45</td>\n",
              "      <td>return</td>\n",
              "      <td>HYDRABED</td>\n",
              "      <td>June</td>\n",
              "      <td>0.00</td>\n",
              "    </tr>\n",
              "    <tr>\n",
              "      <th>4</th>\n",
              "      <td>5</td>\n",
              "      <td>64582</td>\n",
              "      <td>145</td>\n",
              "      <td>sale</td>\n",
              "      <td>CHENNAI</td>\n",
              "      <td>october</td>\n",
              "      <td>36.25</td>\n",
              "    </tr>\n",
              "    <tr>\n",
              "      <th>5</th>\n",
              "      <td>6</td>\n",
              "      <td>64583</td>\n",
              "      <td>369</td>\n",
              "      <td>return</td>\n",
              "      <td>CHENNAI</td>\n",
              "      <td>december</td>\n",
              "      <td>92.25</td>\n",
              "    </tr>\n",
              "    <tr>\n",
              "      <th>6</th>\n",
              "      <td>7</td>\n",
              "      <td>64584</td>\n",
              "      <td>768</td>\n",
              "      <td>sale</td>\n",
              "      <td>MUMBAI</td>\n",
              "      <td>June</td>\n",
              "      <td>0.00</td>\n",
              "    </tr>\n",
              "    <tr>\n",
              "      <th>7</th>\n",
              "      <td>8</td>\n",
              "      <td>64585</td>\n",
              "      <td>39</td>\n",
              "      <td>sale</td>\n",
              "      <td>BANGALORE</td>\n",
              "      <td>july</td>\n",
              "      <td>9.75</td>\n",
              "    </tr>\n",
              "    <tr>\n",
              "      <th>8</th>\n",
              "      <td>9</td>\n",
              "      <td>64586</td>\n",
              "      <td>89</td>\n",
              "      <td>return</td>\n",
              "      <td></td>\n",
              "      <td>augest</td>\n",
              "      <td>0.00</td>\n",
              "    </tr>\n",
              "    <tr>\n",
              "      <th>9</th>\n",
              "      <td>10</td>\n",
              "      <td>64587</td>\n",
              "      <td>0</td>\n",
              "      <td>sale</td>\n",
              "      <td>BANGALORE</td>\n",
              "      <td>augest</td>\n",
              "      <td>0.00</td>\n",
              "    </tr>\n",
              "    <tr>\n",
              "      <th>10</th>\n",
              "      <td>11</td>\n",
              "      <td>64588</td>\n",
              "      <td>143</td>\n",
              "      <td>sale</td>\n",
              "      <td>DELHI</td>\n",
              "      <td>May</td>\n",
              "      <td>0.00</td>\n",
              "    </tr>\n",
              "  </tbody>\n",
              "</table>\n",
              "</div>"
            ],
            "text/plain": [
              "     Customer  Material ID  ...  month of sale Newbillquantity1\n",
              "0           1        64578  ...           july            25.00\n",
              "1           2        64579  ...       february             0.00\n",
              "2           3        64580  ...       November             9.00\n",
              "3           4        64581  ...           June             0.00\n",
              "4           5        64582  ...        october            36.25\n",
              "5           6        64583  ...       december            92.25\n",
              "6           7        64584  ...           June             0.00\n",
              "7           8        64585  ...           july             9.75\n",
              "8           9        64586  ...         augest             0.00\n",
              "9          10        64587  ...         augest             0.00\n",
              "10         11        64588  ...            May             0.00\n",
              "\n",
              "[11 rows x 7 columns]"
            ]
          },
          "metadata": {
            "tags": []
          },
          "execution_count": 56
        }
      ]
    },
    {
      "cell_type": "code",
      "metadata": {
        "id": "yKNH0AvdGeep"
      },
      "source": [
        " split the data 0,1,2,3,4,5   6,7,8,9,10\n",
        "    o/p 0,6,1,7,2,8,3,9,4,10,5\n",
        "df1=data[data.index%2==0]\n",
        "df2=data[data.index%2==1]"
      ],
      "execution_count": null,
      "outputs": []
    },
    {
      "cell_type": "code",
      "metadata": {
        "colab": {
          "base_uri": "https://localhost:8080/",
          "height": 237
        },
        "id": "LlaDKqN2Go5n",
        "outputId": "bf176e3b-ad1b-4326-b85b-8d4e4b55557d"
      },
      "source": [
        "df1"
      ],
      "execution_count": null,
      "outputs": [
        {
          "output_type": "execute_result",
          "data": {
            "text/html": [
              "<div>\n",
              "<style scoped>\n",
              "    .dataframe tbody tr th:only-of-type {\n",
              "        vertical-align: middle;\n",
              "    }\n",
              "\n",
              "    .dataframe tbody tr th {\n",
              "        vertical-align: top;\n",
              "    }\n",
              "\n",
              "    .dataframe thead th {\n",
              "        text-align: right;\n",
              "    }\n",
              "</style>\n",
              "<table border=\"1\" class=\"dataframe\">\n",
              "  <thead>\n",
              "    <tr style=\"text-align: right;\">\n",
              "      <th></th>\n",
              "      <th>Customer</th>\n",
              "      <th>Material ID</th>\n",
              "      <th>Bill Quantity</th>\n",
              "      <th>Bill Type</th>\n",
              "      <th>Product location</th>\n",
              "      <th>month of sale</th>\n",
              "      <th>Newbillquantity1</th>\n",
              "    </tr>\n",
              "  </thead>\n",
              "  <tbody>\n",
              "    <tr>\n",
              "      <th>0</th>\n",
              "      <td>1</td>\n",
              "      <td>64578</td>\n",
              "      <td>100</td>\n",
              "      <td>sale</td>\n",
              "      <td>BANGALORE</td>\n",
              "      <td>july</td>\n",
              "      <td>25.00</td>\n",
              "    </tr>\n",
              "    <tr>\n",
              "      <th>2</th>\n",
              "      <td>3</td>\n",
              "      <td>64580</td>\n",
              "      <td>36</td>\n",
              "      <td>return</td>\n",
              "      <td>CHENNAI</td>\n",
              "      <td>November</td>\n",
              "      <td>9.00</td>\n",
              "    </tr>\n",
              "    <tr>\n",
              "      <th>4</th>\n",
              "      <td>5</td>\n",
              "      <td>64582</td>\n",
              "      <td>145</td>\n",
              "      <td>sale</td>\n",
              "      <td>CHENNAI</td>\n",
              "      <td>october</td>\n",
              "      <td>36.25</td>\n",
              "    </tr>\n",
              "    <tr>\n",
              "      <th>6</th>\n",
              "      <td>7</td>\n",
              "      <td>64584</td>\n",
              "      <td>768</td>\n",
              "      <td>sale</td>\n",
              "      <td>MUMBAI</td>\n",
              "      <td>June</td>\n",
              "      <td>0.00</td>\n",
              "    </tr>\n",
              "    <tr>\n",
              "      <th>8</th>\n",
              "      <td>9</td>\n",
              "      <td>64586</td>\n",
              "      <td>89</td>\n",
              "      <td>return</td>\n",
              "      <td></td>\n",
              "      <td>augest</td>\n",
              "      <td>0.00</td>\n",
              "    </tr>\n",
              "    <tr>\n",
              "      <th>10</th>\n",
              "      <td>11</td>\n",
              "      <td>64588</td>\n",
              "      <td>143</td>\n",
              "      <td>sale</td>\n",
              "      <td>DELHI</td>\n",
              "      <td>May</td>\n",
              "      <td>0.00</td>\n",
              "    </tr>\n",
              "  </tbody>\n",
              "</table>\n",
              "</div>"
            ],
            "text/plain": [
              "     Customer  Material ID  ...  month of sale Newbillquantity1\n",
              "0           1        64578  ...           july            25.00\n",
              "2           3        64580  ...       November             9.00\n",
              "4           5        64582  ...        october            36.25\n",
              "6           7        64584  ...           June             0.00\n",
              "8           9        64586  ...         augest             0.00\n",
              "10         11        64588  ...            May             0.00\n",
              "\n",
              "[6 rows x 7 columns]"
            ]
          },
          "metadata": {
            "tags": []
          },
          "execution_count": 58
        }
      ]
    },
    {
      "cell_type": "code",
      "metadata": {
        "colab": {
          "base_uri": "https://localhost:8080/",
          "height": 206
        },
        "id": "i4rTFd30GpSz",
        "outputId": "23306c6c-9277-44ce-f55f-7cd9010bd522"
      },
      "source": [
        "df2"
      ],
      "execution_count": null,
      "outputs": [
        {
          "output_type": "execute_result",
          "data": {
            "text/html": [
              "<div>\n",
              "<style scoped>\n",
              "    .dataframe tbody tr th:only-of-type {\n",
              "        vertical-align: middle;\n",
              "    }\n",
              "\n",
              "    .dataframe tbody tr th {\n",
              "        vertical-align: top;\n",
              "    }\n",
              "\n",
              "    .dataframe thead th {\n",
              "        text-align: right;\n",
              "    }\n",
              "</style>\n",
              "<table border=\"1\" class=\"dataframe\">\n",
              "  <thead>\n",
              "    <tr style=\"text-align: right;\">\n",
              "      <th></th>\n",
              "      <th>Customer</th>\n",
              "      <th>Material ID</th>\n",
              "      <th>Bill Quantity</th>\n",
              "      <th>Bill Type</th>\n",
              "      <th>Product location</th>\n",
              "      <th>month of sale</th>\n",
              "      <th>Newbillquantity1</th>\n",
              "    </tr>\n",
              "  </thead>\n",
              "  <tbody>\n",
              "    <tr>\n",
              "      <th>1</th>\n",
              "      <td>2</td>\n",
              "      <td>64579</td>\n",
              "      <td>58</td>\n",
              "      <td>sale</td>\n",
              "      <td>MUMBAI</td>\n",
              "      <td>february</td>\n",
              "      <td>0.00</td>\n",
              "    </tr>\n",
              "    <tr>\n",
              "      <th>3</th>\n",
              "      <td>4</td>\n",
              "      <td>64581</td>\n",
              "      <td>45</td>\n",
              "      <td>return</td>\n",
              "      <td>HYDRABED</td>\n",
              "      <td>June</td>\n",
              "      <td>0.00</td>\n",
              "    </tr>\n",
              "    <tr>\n",
              "      <th>5</th>\n",
              "      <td>6</td>\n",
              "      <td>64583</td>\n",
              "      <td>369</td>\n",
              "      <td>return</td>\n",
              "      <td>CHENNAI</td>\n",
              "      <td>december</td>\n",
              "      <td>92.25</td>\n",
              "    </tr>\n",
              "    <tr>\n",
              "      <th>7</th>\n",
              "      <td>8</td>\n",
              "      <td>64585</td>\n",
              "      <td>39</td>\n",
              "      <td>sale</td>\n",
              "      <td>BANGALORE</td>\n",
              "      <td>july</td>\n",
              "      <td>9.75</td>\n",
              "    </tr>\n",
              "    <tr>\n",
              "      <th>9</th>\n",
              "      <td>10</td>\n",
              "      <td>64587</td>\n",
              "      <td>0</td>\n",
              "      <td>sale</td>\n",
              "      <td>BANGALORE</td>\n",
              "      <td>augest</td>\n",
              "      <td>0.00</td>\n",
              "    </tr>\n",
              "  </tbody>\n",
              "</table>\n",
              "</div>"
            ],
            "text/plain": [
              "    Customer  Material ID  ...  month of sale Newbillquantity1\n",
              "1          2        64579  ...       february             0.00\n",
              "3          4        64581  ...           June             0.00\n",
              "5          6        64583  ...       december            92.25\n",
              "7          8        64585  ...           july             9.75\n",
              "9         10        64587  ...         augest             0.00\n",
              "\n",
              "[5 rows x 7 columns]"
            ]
          },
          "metadata": {
            "tags": []
          },
          "execution_count": 59
        }
      ]
    },
    {
      "cell_type": "code",
      "metadata": {
        "id": "1R7VLfYjGpWt"
      },
      "source": [
        "#df1=data[[i%2==0 for i in range(len(data.index))]]\n",
        "#df2=data[[i%2==1 for i in range(len(data.index))]]"
      ],
      "execution_count": null,
      "outputs": []
    },
    {
      "cell_type": "code",
      "metadata": {
        "id": "YMM7G6DfHUJr"
      },
      "source": [
        "df1=data.loc[0:5]\n",
        "df2=data.loc[6:]"
      ],
      "execution_count": null,
      "outputs": []
    },
    {
      "cell_type": "code",
      "metadata": {
        "id": "WcWe5OP_HdMp"
      },
      "source": [
        ""
      ],
      "execution_count": null,
      "outputs": []
    },
    {
      "cell_type": "code",
      "metadata": {
        "id": "5S2C3DDjHdQb"
      },
      "source": [
        ""
      ],
      "execution_count": null,
      "outputs": []
    },
    {
      "cell_type": "code",
      "metadata": {
        "id": "Fc4Qq7gZHdWs"
      },
      "source": [
        "4)   0th index materiall id and 1st index material id concatenate and put into 0th index\n",
        "\n",
        "2,3\n",
        "4,5\n",
        "6,7\n",
        "oly concatenated row we need."
      ],
      "execution_count": null,
      "outputs": []
    },
    {
      "cell_type": "code",
      "metadata": {
        "id": "vy94q_1BHdak"
      },
      "source": [
        ""
      ],
      "execution_count": null,
      "outputs": []
    },
    {
      "cell_type": "code",
      "metadata": {
        "id": "82K2Kj1eHdd6"
      },
      "source": [
        ""
      ],
      "execution_count": null,
      "outputs": []
    }
  ]
}