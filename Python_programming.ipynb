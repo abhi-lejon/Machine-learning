{
  "nbformat": 4,
  "nbformat_minor": 0,
  "metadata": {
    "colab": {
      "name": "Python programming.ipynb",
      "provenance": [],
      "collapsed_sections": [],
      "authorship_tag": "ABX9TyNXMeGOw/Faln3S0aSqC6pi",
      "include_colab_link": true
    },
    "kernelspec": {
      "name": "python3",
      "display_name": "Python 3"
    },
    "language_info": {
      "name": "python"
    }
  },
  "cells": [
    {
      "cell_type": "markdown",
      "metadata": {
        "id": "view-in-github",
        "colab_type": "text"
      },
      "source": [
        "<a href=\"https://colab.research.google.com/github/abhi-lejon/Machine-learning/blob/master/Python_programming.ipynb\" target=\"_parent\"><img src=\"https://colab.research.google.com/assets/colab-badge.svg\" alt=\"Open In Colab\"/></a>"
      ]
    },
    {
      "cell_type": "code",
      "metadata": {
        "id": "1tu7wMr46MCr",
        "colab": {
          "base_uri": "https://localhost:8080/"
        },
        "outputId": "4218f966-f949-43de-888b-ff8832e28471"
      },
      "source": [
        "v1='abhi'\n",
        "v2='abhi'\n",
        "print(v1 is v2)\n",
        "print(v1==v2)\n",
        "print(id(v1)),print(id(v2)) ##For int,string and bool reuseability is possible."
      ],
      "execution_count": 3,
      "outputs": [
        {
          "output_type": "stream",
          "text": [
            "True\n",
            "True\n",
            "140164685803376\n",
            "140164685803376\n"
          ],
          "name": "stdout"
        },
        {
          "output_type": "execute_result",
          "data": {
            "text/plain": [
              "(None, None)"
            ]
          },
          "metadata": {
            "tags": []
          },
          "execution_count": 3
        }
      ]
    },
    {
      "cell_type": "code",
      "metadata": {
        "id": "9lo9sNu46ME4",
        "colab": {
          "base_uri": "https://localhost:8080/"
        },
        "outputId": "1cb15f27-ad4e-4b88-e088-0a9485e3974a"
      },
      "source": [
        "x=1\n",
        "y=1\n",
        "print(x==y)\n",
        "print(x is y)\n",
        "print(id(x)),print(id(y)) ##For int,string and bool reuseability is possible."
      ],
      "execution_count": 5,
      "outputs": [
        {
          "output_type": "stream",
          "text": [
            "True\n",
            "True\n",
            "94878918154752\n",
            "94878918154752\n"
          ],
          "name": "stdout"
        },
        {
          "output_type": "execute_result",
          "data": {
            "text/plain": [
              "(None, None)"
            ]
          },
          "metadata": {
            "tags": []
          },
          "execution_count": 5
        }
      ]
    },
    {
      "cell_type": "code",
      "metadata": {
        "id": "tco8UszN6MGx",
        "colab": {
          "base_uri": "https://localhost:8080/"
        },
        "outputId": "a41e352c-7b29-4234-cef7-aa5eb3174406"
      },
      "source": [
        "x=True\n",
        "y=True\n",
        "print(x==y)\n",
        "print(x is y)\n",
        "print(id(x)),print(id(y)) ##For int,string and bool reuseability is possible."
      ],
      "execution_count": 6,
      "outputs": [
        {
          "output_type": "stream",
          "text": [
            "True\n",
            "True\n",
            "94878917480704\n",
            "94878917480704\n"
          ],
          "name": "stdout"
        },
        {
          "output_type": "execute_result",
          "data": {
            "text/plain": [
              "(None, None)"
            ]
          },
          "metadata": {
            "tags": []
          },
          "execution_count": 6
        }
      ]
    },
    {
      "cell_type": "code",
      "metadata": {
        "id": "qi6e_T8E6MJJ",
        "colab": {
          "base_uri": "https://localhost:8080/"
        },
        "outputId": "c7134cc4-d618-4f0c-cae2-2ff61fca6f1e"
      },
      "source": [
        "##For float and complex reuseability is not possible.\n",
        "x=10.1\n",
        "y=10.1\n",
        "print(x==y)\n",
        "print(x is y)\n",
        "print(id(x)),print(id(y))"
      ],
      "execution_count": 7,
      "outputs": [
        {
          "output_type": "stream",
          "text": [
            "True\n",
            "False\n",
            "140164624527120\n",
            "140164624527248\n"
          ],
          "name": "stdout"
        },
        {
          "output_type": "execute_result",
          "data": {
            "text/plain": [
              "(None, None)"
            ]
          },
          "metadata": {
            "tags": []
          },
          "execution_count": 7
        }
      ]
    },
    {
      "cell_type": "code",
      "metadata": {
        "id": "5rY2jMxI6MLR",
        "colab": {
          "base_uri": "https://localhost:8080/"
        },
        "outputId": "8f9f9878-def4-4dda-ae45-4ac3db152adb"
      },
      "source": [
        "##For float and complex reuseability is not possible.\n",
        "x=10+0j\n",
        "y=10+0j\n",
        "print(x==y)\n",
        "print(x is y)\n",
        "print(id(x)),print(id(y))"
      ],
      "execution_count": 8,
      "outputs": [
        {
          "output_type": "stream",
          "text": [
            "True\n",
            "False\n",
            "140164685814576\n",
            "140164685814544\n"
          ],
          "name": "stdout"
        },
        {
          "output_type": "execute_result",
          "data": {
            "text/plain": [
              "(None, None)"
            ]
          },
          "metadata": {
            "tags": []
          },
          "execution_count": 8
        }
      ]
    },
    {
      "cell_type": "code",
      "metadata": {
        "id": "ILEQbIII6MQH",
        "colab": {
          "base_uri": "https://localhost:8080/"
        },
        "outputId": "4b56c9c2-46ba-46a6-af91-3ba1a31ebd75"
      },
      "source": [
        "l=[1,2,3,4]\n",
        "type(l)"
      ],
      "execution_count": 9,
      "outputs": [
        {
          "output_type": "execute_result",
          "data": {
            "text/plain": [
              "list"
            ]
          },
          "metadata": {
            "tags": []
          },
          "execution_count": 9
        }
      ]
    },
    {
      "cell_type": "code",
      "metadata": {
        "id": "dU_jXjuI6MTU",
        "colab": {
          "base_uri": "https://localhost:8080/"
        },
        "outputId": "07177405-74a5-44a9-b785-4b2cdccb2573"
      },
      "source": [
        "x= 'abhi' if (10>20) else 'shek'\n",
        "print(x)"
      ],
      "execution_count": 12,
      "outputs": [
        {
          "output_type": "stream",
          "text": [
            "shek\n"
          ],
          "name": "stdout"
        }
      ]
    },
    {
      "cell_type": "code",
      "metadata": {
        "id": "oQkMKoy96MWp",
        "colab": {
          "base_uri": "https://localhost:8080/"
        },
        "outputId": "277a0eba-f967-40df-ab4d-889143b74424"
      },
      "source": [
        "brand=input('Enter a string ')\n",
        "if brand=='kf':\n",
        "  print('Good')\n",
        "elif brand=='rc':\n",
        "  print('ok ok')\n",
        "else:\n",
        "  print('Not required')"
      ],
      "execution_count": 15,
      "outputs": [
        {
          "output_type": "stream",
          "text": [
            "Enter a string rc\n",
            "ok ok\n"
          ],
          "name": "stdout"
        }
      ]
    },
    {
      "cell_type": "code",
      "metadata": {
        "colab": {
          "base_uri": "https://localhost:8080/"
        },
        "id": "5EMCMzm0FcXF",
        "outputId": "2fdd7b1d-6f3a-4cee-d303-cd4f64b7d052"
      },
      "source": [
        "#Count the number of characters\n",
        "s='Abhishek'\n",
        "count=0\n",
        "for x in s:\n",
        "  count+=1\n",
        "print(count)"
      ],
      "execution_count": 17,
      "outputs": [
        {
          "output_type": "stream",
          "text": [
            "8\n"
          ],
          "name": "stdout"
        }
      ]
    },
    {
      "cell_type": "code",
      "metadata": {
        "colab": {
          "base_uri": "https://localhost:8080/"
        },
        "id": "Trh9CqnwFcZ-",
        "outputId": "b838f130-d252-4aff-966e-ae5a3de565a5"
      },
      "source": [
        "##Sum of n numbers\n",
        "n=3\n",
        "sum=0\n",
        "i=1\n",
        "while i<=n:\n",
        "  sum+=i\n",
        "  i=i+1\n",
        "print('The sum is ',sum)"
      ],
      "execution_count": 21,
      "outputs": [
        {
          "output_type": "stream",
          "text": [
            "The sum is  6\n"
          ],
          "name": "stdout"
        }
      ]
    },
    {
      "cell_type": "code",
      "metadata": {
        "colab": {
          "base_uri": "https://localhost:8080/"
        },
        "id": "YUtzBP3EFccU",
        "outputId": "a40b97e3-74fd-4b94-9c6d-6aed098b9dad"
      },
      "source": [
        "#If input doesnot match keep on asking\n",
        "name=''\n",
        "while name!='Abhi':\n",
        "  name=input('Enter a name ')\n",
        "print(name)"
      ],
      "execution_count": 26,
      "outputs": [
        {
          "output_type": "stream",
          "text": [
            "Enter a nameAbhi\n",
            "Abhi\n"
          ],
          "name": "stdout"
        }
      ]
    },
    {
      "cell_type": "code",
      "metadata": {
        "colab": {
          "base_uri": "https://localhost:8080/"
        },
        "id": "4MCGboOFFckR",
        "outputId": "22411a24-0226-4e21-b41c-9d68ccf04332"
      },
      "source": [
        "#Example for infinite loop, to break the loop use break.\n",
        "i=0\n",
        "while True:\n",
        "  i=i+1\n",
        "  break\n",
        "print('Hello',i)"
      ],
      "execution_count": 30,
      "outputs": [
        {
          "output_type": "stream",
          "text": [
            "Hello 1\n"
          ],
          "name": "stdout"
        }
      ]
    },
    {
      "cell_type": "code",
      "metadata": {
        "colab": {
          "base_uri": "https://localhost:8080/"
        },
        "id": "AuahTAjUFcmf",
        "outputId": "9cc2c57c-a34e-4c4e-e20a-870fd8f42e2b"
      },
      "source": [
        "for i in range(4):\n",
        "  for j in range(4):\n",
        "    print('i={} and j={}'.format(i,j))"
      ],
      "execution_count": 31,
      "outputs": [
        {
          "output_type": "stream",
          "text": [
            "i=0 and j=0\n",
            "i=0 and j=1\n",
            "i=0 and j=2\n",
            "i=0 and j=3\n",
            "i=1 and j=0\n",
            "i=1 and j=1\n",
            "i=1 and j=2\n",
            "i=1 and j=3\n",
            "i=2 and j=0\n",
            "i=2 and j=1\n",
            "i=2 and j=2\n",
            "i=2 and j=3\n",
            "i=3 and j=0\n",
            "i=3 and j=1\n",
            "i=3 and j=2\n",
            "i=3 and j=3\n"
          ],
          "name": "stdout"
        }
      ]
    },
    {
      "cell_type": "code",
      "metadata": {
        "id": "QMmN6ThG6MZi",
        "colab": {
          "base_uri": "https://localhost:8080/"
        },
        "outputId": "ac8a4fce-b07a-47d9-85b4-464de26c94a9"
      },
      "source": [
        "##print tree\n",
        "n=3\n",
        "for i in range(1,n+1):\n",
        "  for j in range(1,i+1):\n",
        "    print('i={} and j={}'.format(i,j))\n",
        "    print('*',end=' ')\n",
        "  print()"
      ],
      "execution_count": 38,
      "outputs": [
        {
          "output_type": "stream",
          "text": [
            "i=1 and j=1\n",
            "* \n",
            "i=2 and j=1\n",
            "* i=2 and j=2\n",
            "* \n",
            "i=3 and j=1\n",
            "* i=3 and j=2\n",
            "* i=3 and j=3\n",
            "* \n"
          ],
          "name": "stdout"
        }
      ]
    },
    {
      "cell_type": "code",
      "metadata": {
        "id": "lrvSsjyI6McX",
        "colab": {
          "base_uri": "https://localhost:8080/"
        },
        "outputId": "4d8b0455-ccb0-4a0b-caaa-65ec4893af7e"
      },
      "source": [
        "n=3\n",
        "for i in range(n):\n",
        "  print('*'*n)"
      ],
      "execution_count": 41,
      "outputs": [
        {
          "output_type": "stream",
          "text": [
            "***\n",
            "***\n",
            "***\n"
          ],
          "name": "stdout"
        }
      ]
    },
    {
      "cell_type": "code",
      "metadata": {
        "colab": {
          "base_uri": "https://localhost:8080/"
        },
        "id": "8ZcUqkCxMieQ",
        "outputId": "f2b34caa-1b1a-4b1a-f8cd-c436aa955d74"
      },
      "source": [
        "##xmas tree\n",
        "j=5\n",
        "for i in range(1,j,1):\n",
        "  print(' '*j+i*'*')\n",
        "  j=j-1"
      ],
      "execution_count": 48,
      "outputs": [
        {
          "output_type": "stream",
          "text": [
            "     *\n",
            "    **\n",
            "   ***\n",
            "  ****\n"
          ],
          "name": "stdout"
        }
      ]
    },
    {
      "cell_type": "code",
      "metadata": {
        "colab": {
          "base_uri": "https://localhost:8080/"
        },
        "id": "609B1NOkPfR0",
        "outputId": "df7931d0-3fcf-45e9-bba2-02db6980d176"
      },
      "source": [
        "for i in range(4):\n",
        "  if i==3:\n",
        "    break\n",
        "print(i)"
      ],
      "execution_count": 49,
      "outputs": [
        {
          "output_type": "stream",
          "text": [
            "3\n"
          ],
          "name": "stdout"
        }
      ]
    },
    {
      "cell_type": "code",
      "metadata": {
        "colab": {
          "base_uri": "https://localhost:8080/"
        },
        "id": "sabRmbNpPfUb",
        "outputId": "9b935701-41a5-4951-bb96-1525f0aa6de0"
      },
      "source": [
        "for i in range(10):\n",
        "  if i%2==0: #If i is even number so it will continue.\n",
        "    continue\n",
        "print(i)"
      ],
      "execution_count": 53,
      "outputs": [
        {
          "output_type": "stream",
          "text": [
            "9\n"
          ],
          "name": "stdout"
        }
      ]
    },
    {
      "cell_type": "code",
      "metadata": {
        "colab": {
          "base_uri": "https://localhost:8080/"
        },
        "id": "AVrr1BIhPfXS",
        "outputId": "57ff37bb-1155-4dde-8e5a-7935e66f3b23"
      },
      "source": [
        "for i in range(100):\n",
        "  if i%10==0:\n",
        "    print(i)\n",
        "  else:\n",
        "    pass"
      ],
      "execution_count": 55,
      "outputs": [
        {
          "output_type": "stream",
          "text": [
            "0\n",
            "10\n",
            "20\n",
            "30\n",
            "40\n",
            "50\n",
            "60\n",
            "70\n",
            "80\n",
            "90\n"
          ],
          "name": "stdout"
        }
      ]
    },
    {
      "cell_type": "code",
      "metadata": {
        "colab": {
          "base_uri": "https://localhost:8080/"
        },
        "id": "UcM1fn0OPfZp",
        "outputId": "ef5cf4d5-84a7-4ea2-dc09-a9d7e7c82ede"
      },
      "source": [
        "l=[1,2,3,4,5,6,7,8,9]\n",
        "l[:0:-1]"
      ],
      "execution_count": 58,
      "outputs": [
        {
          "output_type": "execute_result",
          "data": {
            "text/plain": [
              "[9, 8, 7, 6, 5, 4, 3, 2]"
            ]
          },
          "metadata": {
            "tags": []
          },
          "execution_count": 58
        }
      ]
    },
    {
      "cell_type": "code",
      "metadata": {
        "colab": {
          "base_uri": "https://localhost:8080/"
        },
        "id": "g8_HOzVHMihJ",
        "outputId": "51450d34-6b06-4ced-b656-998c37b1fc05"
      },
      "source": [
        "s=input('Enter a string ')\n",
        "n=len(s)\n",
        "i=0\n",
        "while i<n:\n",
        "  print(s[i],end='')\n",
        "  i=i+1"
      ],
      "execution_count": 60,
      "outputs": [
        {
          "output_type": "stream",
          "text": [
            "Enter a string ABHI\n",
            "ABHI"
          ],
          "name": "stdout"
        }
      ]
    },
    {
      "cell_type": "code",
      "metadata": {
        "colab": {
          "base_uri": "https://localhost:8080/",
          "height": 201
        },
        "id": "I9CMOf3ZMij7",
        "outputId": "5f7053d7-3b8d-4b85-fa22-d8b038a226ef"
      },
      "source": [
        "l=[1,2]\n",
        "l+=3\n",
        "print(l)"
      ],
      "execution_count": 61,
      "outputs": [
        {
          "output_type": "error",
          "ename": "TypeError",
          "evalue": "ignored",
          "traceback": [
            "\u001b[0;31m---------------------------------------------------------------------------\u001b[0m",
            "\u001b[0;31mTypeError\u001b[0m                                 Traceback (most recent call last)",
            "\u001b[0;32m<ipython-input-61-88f480a93c3c>\u001b[0m in \u001b[0;36m<module>\u001b[0;34m()\u001b[0m\n\u001b[1;32m      1\u001b[0m \u001b[0ml\u001b[0m\u001b[0;34m=\u001b[0m\u001b[0;34m[\u001b[0m\u001b[0;36m1\u001b[0m\u001b[0;34m,\u001b[0m\u001b[0;36m2\u001b[0m\u001b[0;34m]\u001b[0m\u001b[0;34m\u001b[0m\u001b[0;34m\u001b[0m\u001b[0m\n\u001b[0;32m----> 2\u001b[0;31m \u001b[0ml\u001b[0m\u001b[0;34m+=\u001b[0m\u001b[0;36m3\u001b[0m\u001b[0;34m\u001b[0m\u001b[0;34m\u001b[0m\u001b[0m\n\u001b[0m\u001b[1;32m      3\u001b[0m \u001b[0mprint\u001b[0m\u001b[0;34m(\u001b[0m\u001b[0ml\u001b[0m\u001b[0;34m)\u001b[0m\u001b[0;34m\u001b[0m\u001b[0;34m\u001b[0m\u001b[0m\n",
            "\u001b[0;31mTypeError\u001b[0m: 'int' object is not iterable"
          ]
        }
      ]
    },
    {
      "cell_type": "code",
      "metadata": {
        "colab": {
          "base_uri": "https://localhost:8080/"
        },
        "id": "L5EgRymXMimH",
        "outputId": "9f88e65e-2178-4b5d-c0a1-9b32c0618139"
      },
      "source": [
        "#I/P B4A1d3\n",
        "#O/P ABD134\n",
        "s=input('Enter a string ')\n",
        "s1=''\n",
        "s2=''\n",
        "output=''\n",
        "for x in s:\n",
        "  if x.isalpha():\n",
        "      s1=s1+x\n",
        "  else:\n",
        "    s2=s2+x\n",
        "print(s1)\n",
        "print(s2)\n",
        "for x in sorted(s1):\n",
        "  output=output+x\n",
        "for x in sorted(s2):\n",
        "  output=output+x\n",
        "\n",
        "print(output)\n"
      ],
      "execution_count": 69,
      "outputs": [
        {
          "output_type": "stream",
          "text": [
            "Enter a string B4A1d3\n",
            "BAd\n",
            "413\n",
            "ABd134\n"
          ],
          "name": "stdout"
        }
      ]
    },
    {
      "cell_type": "code",
      "metadata": {
        "colab": {
          "base_uri": "https://localhost:8080/"
        },
        "id": "Fw2iv2dgMioX",
        "outputId": "c037a622-2ec2-47db-d351-c632c5e4147e"
      },
      "source": [
        "##I/P a4b3c2\n",
        "##O/P aaaabbbcc\n",
        "s=input('Enter a string')\n",
        "output=''\n",
        "for x in s:\n",
        "  if x.isalpha():\n",
        "    output+=x\n",
        "    previous=x\n",
        "  else:\n",
        "    output=output+previous*(int(x)-1)\n",
        "print(output)"
      ],
      "execution_count": 70,
      "outputs": [
        {
          "output_type": "stream",
          "text": [
            "Enter a stringa4b3c2\n",
            "aaaabbbcc\n"
          ],
          "name": "stdout"
        }
      ]
    },
    {
      "cell_type": "code",
      "metadata": {
        "id": "8bIeWS8Y6MfS",
        "colab": {
          "base_uri": "https://localhost:8080/"
        },
        "outputId": "15cf644c-6edd-47ff-d72a-8bd876b028b6"
      },
      "source": [
        "##I/P a4k3b2\n",
        "##O/P aeknbd\n",
        "s=input('Enter a string ')\n",
        "output=''\n",
        "for x in s:\n",
        "  if x.isalpha():\n",
        "    output=output+x\n",
        "    previous=x\n",
        "    a=ord(previous)\n",
        "  else:\n",
        "    output=output+chr(a+int(x))\n",
        "print(output)"
      ],
      "execution_count": 81,
      "outputs": [
        {
          "output_type": "stream",
          "text": [
            "Enter a string a4k3b2\n",
            "aeknbd\n"
          ],
          "name": "stdout"
        }
      ]
    },
    {
      "cell_type": "code",
      "metadata": {
        "colab": {
          "base_uri": "https://localhost:8080/"
        },
        "id": "KOFnAM7_vAWk",
        "outputId": "ad24e9a4-5f93-469a-db47-161af21e8d01"
      },
      "source": [
        "##I/P - ABHI SHEk\n",
        "##O/P - ASBHHEIK\n",
        "s1=input('Enter a string1 ')\n",
        "s2=input('Enter a string2 ')\n",
        "i=j=0\n",
        "output=''\n",
        "while i<len(s1) or j<len(s2):\n",
        "  output=output+s1[i]+s2[j]\n",
        "  i=i+1\n",
        "  j=j+1\n",
        "print(output)"
      ],
      "execution_count": 86,
      "outputs": [
        {
          "output_type": "stream",
          "text": [
            "Enter a string1 ABHI\n",
            "Enter a string2 SHEk\n",
            "ASBHHEIk\n"
          ],
          "name": "stdout"
        }
      ]
    },
    {
      "cell_type": "code",
      "metadata": {
        "colab": {
          "base_uri": "https://localhost:8080/"
        },
        "id": "pBZz41XO2-WH",
        "outputId": "4df242ef-5e80-42c2-c389-bb28cd6c8859"
      },
      "source": [
        "s1=input('Enter a string1 ')\n",
        "s2=input('Enter a string2 ')\n",
        "output=''\n",
        "i=j=0\n",
        "while i<len(s1) or j<len(s2):\n",
        "  if i<len(s1):\n",
        "    output=output+s1[i]\n",
        "    i=i+1\n",
        "  if j<len(s2):\n",
        "    output=output+s2[j]\n",
        "    j=j+1\n",
        "print(output)"
      ],
      "execution_count": 89,
      "outputs": [
        {
          "output_type": "stream",
          "text": [
            "Enter a string1 ABHI\n",
            "Enter a string2 SHEK\n",
            "ASBHHEIK\n"
          ],
          "name": "stdout"
        }
      ]
    },
    {
      "cell_type": "code",
      "metadata": {
        "colab": {
          "base_uri": "https://localhost:8080/"
        },
        "id": "xmlhzwQG4qtY",
        "outputId": "59723e14-758b-43db-bbb4-26a071c31bab"
      },
      "source": [
        "list=[1,2,3,4,5]\n",
        "i=0\n",
        "while i<len(list):\n",
        "  print(list[i])\n",
        "  i=i+1"
      ],
      "execution_count": 90,
      "outputs": [
        {
          "output_type": "stream",
          "text": [
            "1\n",
            "2\n",
            "3\n",
            "4\n",
            "5\n"
          ],
          "name": "stdout"
        }
      ]
    },
    {
      "cell_type": "code",
      "metadata": {
        "colab": {
          "base_uri": "https://localhost:8080/"
        },
        "id": "jGn2fQjv4qwM",
        "outputId": "378215bd-072d-46cc-a2a9-15a62838e350"
      },
      "source": [
        "list=[1,2,3,4,5]\n",
        "x=len(list)\n",
        "for i in range(x):\n",
        "  print(list[i], 'is available at positive index',i,'and at negative index',i-x)"
      ],
      "execution_count": 93,
      "outputs": [
        {
          "output_type": "stream",
          "text": [
            "1 is available at positive index 0 and at negative index -5\n",
            "2 is available at positive index 1 and at negative index -4\n",
            "3 is available at positive index 2 and at negative index -3\n",
            "4 is available at positive index 3 and at negative index -2\n",
            "5 is available at positive index 4 and at negative index -1\n"
          ],
          "name": "stdout"
        }
      ]
    },
    {
      "cell_type": "code",
      "metadata": {
        "colab": {
          "base_uri": "https://localhost:8080/"
        },
        "id": "QiJmEde34qyS",
        "outputId": "8f982c90-1f30-4001-9ccf-ee04510ffc30"
      },
      "source": [
        "l=[1,2,3,4,5]\n",
        "print(l.count(2))\n",
        "l.append(10)\n",
        "print(l)\n",
        "l.insert(3,20)\n",
        "print(l)\n",
        "l.extend([100,200])\n",
        "print(l)\n",
        "l.sort()\n",
        "print(l)\n",
        "l.remove(2)\n",
        "print(l)\n",
        "l.pop()\n",
        "print(l)\n",
        "l.pop(5)\n",
        "print(l)\n",
        "l.clear()\n",
        "print(l)"
      ],
      "execution_count": 109,
      "outputs": [
        {
          "output_type": "stream",
          "text": [
            "1\n",
            "[1, 2, 3, 4, 5, 10]\n",
            "[1, 2, 3, 20, 4, 5, 10]\n",
            "[1, 2, 3, 20, 4, 5, 10, 100, 200]\n",
            "[1, 2, 3, 4, 5, 10, 20, 100, 200]\n",
            "[1, 3, 4, 5, 10, 20, 100, 200]\n",
            "[1, 3, 4, 5, 10, 20, 100]\n",
            "[1, 3, 4, 5, 10, 100]\n",
            "[]\n"
          ],
          "name": "stdout"
        }
      ]
    },
    {
      "cell_type": "markdown",
      "metadata": {
        "id": "-kYTKtr1d9hM"
      },
      "source": [
        "List Compherension\n"
      ]
    },
    {
      "cell_type": "markdown",
      "metadata": {
        "id": "xzHPWjxueRIj"
      },
      "source": [
        "[expression for loop condition(if,while....)]"
      ]
    },
    {
      "cell_type": "code",
      "metadata": {
        "colab": {
          "base_uri": "https://localhost:8080/"
        },
        "id": "u44fWhW5eTrT",
        "outputId": "fe95c955-3479-4681-dac8-707e98c1bff2"
      },
      "source": [
        "even_numbers=[i*2 for i in range(10) if i%2==0]\n",
        "even_numbers"
      ],
      "execution_count": 113,
      "outputs": [
        {
          "output_type": "execute_result",
          "data": {
            "text/plain": [
              "[0, 4, 8, 12, 16]"
            ]
          },
          "metadata": {
            "tags": []
          },
          "execution_count": 113
        }
      ]
    },
    {
      "cell_type": "code",
      "metadata": {
        "colab": {
          "base_uri": "https://localhost:8080/",
          "height": 235
        },
        "id": "1aFahlfSgspU",
        "outputId": "7ba7efc7-6488-4539-de61-07abfc3f9663"
      },
      "source": [
        "t1=(10,20,30,40,50)\n",
        "t2=tuple(sorted(t1))\n",
        "print(t1)\n",
        "print(t2)\n",
        "import operator\n",
        "cmp(t1,t2) #If both are equal returns zero, t1<t2 returns -1, t1>t2 returns +1."
      ],
      "execution_count": 120,
      "outputs": [
        {
          "output_type": "stream",
          "text": [
            "(10, 20, 30, 40, 50)\n",
            "(10, 20, 30, 40, 50)\n"
          ],
          "name": "stdout"
        },
        {
          "output_type": "error",
          "ename": "NameError",
          "evalue": "ignored",
          "traceback": [
            "\u001b[0;31m---------------------------------------------------------------------------\u001b[0m",
            "\u001b[0;31mNameError\u001b[0m                                 Traceback (most recent call last)",
            "\u001b[0;32m<ipython-input-120-5b1833a172e9>\u001b[0m in \u001b[0;36m<module>\u001b[0;34m()\u001b[0m\n\u001b[1;32m      4\u001b[0m \u001b[0mprint\u001b[0m\u001b[0;34m(\u001b[0m\u001b[0mt2\u001b[0m\u001b[0;34m)\u001b[0m\u001b[0;34m\u001b[0m\u001b[0;34m\u001b[0m\u001b[0m\n\u001b[1;32m      5\u001b[0m \u001b[0;32mimport\u001b[0m \u001b[0moperator\u001b[0m\u001b[0;34m\u001b[0m\u001b[0;34m\u001b[0m\u001b[0m\n\u001b[0;32m----> 6\u001b[0;31m \u001b[0mcmp\u001b[0m\u001b[0;34m(\u001b[0m\u001b[0mt1\u001b[0m\u001b[0;34m,\u001b[0m\u001b[0mt2\u001b[0m\u001b[0;34m)\u001b[0m \u001b[0;31m#If both are equal returns zero, t1<t2 returns -1, t1>t2 retu8rns +1.\u001b[0m\u001b[0;34m\u001b[0m\u001b[0;34m\u001b[0m\u001b[0m\n\u001b[0m",
            "\u001b[0;31mNameError\u001b[0m: name 'cmp' is not defined"
          ]
        }
      ]
    },
    {
      "cell_type": "code",
      "metadata": {
        "colab": {
          "base_uri": "https://localhost:8080/"
        },
        "id": "O4sVnnJ1gsro",
        "outputId": "59390229-56c8-4c22-b235-0178a32ee116"
      },
      "source": [
        "w=input('Enter a word ')\n",
        "s=set(w)\n",
        "v={'a','e','i','o','u'}\n",
        "d=s.intersection(v)\n",
        "print('The vowels are ',d)"
      ],
      "execution_count": 124,
      "outputs": [
        {
          "output_type": "stream",
          "text": [
            "Enter a word abhi\n",
            "teh vowels are  {'i', 'a'}\n"
          ],
          "name": "stdout"
        }
      ]
    },
    {
      "cell_type": "code",
      "metadata": {
        "colab": {
          "base_uri": "https://localhost:8080/"
        },
        "id": "x3ANLvrXgsuR",
        "outputId": "ef21dadc-8fab-421e-9b9c-6df9747b1e32"
      },
      "source": [
        "s={1,2,3,4,5}\n",
        "s1=s\n",
        "print(s1)\n",
        "s2=s.copy()\n",
        "print(s2)\n",
        "s2.pop()\n",
        "print(s2)\n",
        "s1.add(10)\n",
        "print(s1)\n",
        "s1.update('Ab'+'hi')\n",
        "print(s1)\n",
        "s1.remove(2) #If no value then gives error, discard will not give error.\n",
        "print(s1)"
      ],
      "execution_count": 136,
      "outputs": [
        {
          "output_type": "stream",
          "text": [
            "{1, 2, 3, 4, 5}\n",
            "{1, 2, 3, 4, 5}\n",
            "{2, 3, 4, 5}\n",
            "{1, 2, 3, 4, 5, 10}\n",
            "{1, 2, 3, 4, 5, 10, 'b', 'A', 'i', 'h'}\n",
            "{1, 3, 4, 5, 10, 'b', 'A', 'i', 'h'}\n"
          ],
          "name": "stdout"
        }
      ]
    },
    {
      "cell_type": "code",
      "metadata": {
        "id": "2Ca-ajICy1wN"
      },
      "source": [
        "d={1:'a',2:'b',3:'c'}\n",
        "d.get(4)"
      ],
      "execution_count": 10,
      "outputs": []
    },
    {
      "cell_type": "code",
      "metadata": {
        "colab": {
          "base_uri": "https://localhost:8080/"
        },
        "id": "sE54jvyMgswo",
        "outputId": "80aefb00-ea6b-43b1-bc1c-4264c9e3df70"
      },
      "source": [
        "d={1:'a',2:'b',3:'c'}\n",
        "d.get(4,'NA')\n",
        "d.setdefault(4,'x')\n",
        "print(d)\n",
        "d.clear()\n",
        "print(d)"
      ],
      "execution_count": 7,
      "outputs": [
        {
          "output_type": "stream",
          "text": [
            "{1: 'a', 2: 'b', 3: 'c', 4: 'x'}\n",
            "{}\n"
          ],
          "name": "stdout"
        }
      ]
    },
    {
      "cell_type": "code",
      "metadata": {
        "colab": {
          "base_uri": "https://localhost:8080/"
        },
        "id": "affkGYlIgszF",
        "outputId": "d00eabad-5ef4-49f7-e50b-4a74df01fecb"
      },
      "source": [
        "word=input('Enter a word ')\n",
        "d={}\n",
        "for x in word:\n",
        "  print(x)\n",
        "  d[x]=d.get(x,0)+1\n",
        "print(d)"
      ],
      "execution_count": 160,
      "outputs": [
        {
          "output_type": "stream",
          "text": [
            "Enter a word ab\n",
            "{}\n",
            "a\n",
            "b\n",
            "{'a': 1, 'b': 1}\n"
          ],
          "name": "stdout"
        }
      ]
    },
    {
      "cell_type": "code",
      "metadata": {
        "colab": {
          "base_uri": "https://localhost:8080/"
        },
        "id": "edkLccoOgs35",
        "outputId": "3b05de58-9549-4da8-998b-8839cf017a51"
      },
      "source": [
        "word=input('Enter a word ')\n",
        "v={'a','e','i','o','u'}\n",
        "d={}\n",
        "for x in word:\n",
        "  if x in v:\n",
        "    d[x]=d.get(x,0)+1\n",
        "print(d)"
      ],
      "execution_count": 161,
      "outputs": [
        {
          "output_type": "stream",
          "text": [
            "Enter a word abhi\n",
            "{'a': 1, 'i': 1}\n"
          ],
          "name": "stdout"
        }
      ]
    },
    {
      "cell_type": "code",
      "metadata": {
        "colab": {
          "base_uri": "https://localhost:8080/"
        },
        "id": "Zz8lECTI300F",
        "outputId": "05655df0-240c-471d-ed8d-04d009e9a9cc"
      },
      "source": [
        "def wish():\n",
        "  print('Hello')\n",
        "print(wish()) #Python function can return multiple values.  "
      ],
      "execution_count": 163,
      "outputs": [
        {
          "output_type": "stream",
          "text": [
            "Hello\n",
            "None\n"
          ],
          "name": "stdout"
        }
      ]
    },
    {
      "cell_type": "code",
      "metadata": {
        "colab": {
          "base_uri": "https://localhost:8080/"
        },
        "id": "w_LzlB4pooDv",
        "outputId": "8b73a4c3-08c5-4eb0-ad6c-5a6ea0bc883f"
      },
      "source": [
        "d1={1:'a',2:'b'}\n",
        "d2={3:'c'}\n",
        "d1.update(d2)\n",
        "print(d1)"
      ],
      "execution_count": 164,
      "outputs": [
        {
          "output_type": "stream",
          "text": [
            "{1: 'a', 2: 'b', 3: 'c'}\n"
          ],
          "name": "stdout"
        }
      ]
    },
    {
      "cell_type": "code",
      "metadata": {
        "colab": {
          "base_uri": "https://localhost:8080/",
          "height": 35
        },
        "id": "0Ws9uRhqooGk",
        "outputId": "b87fd4a3-d3b3-430d-ae67-f842a1857028"
      },
      "source": [
        "a=\"Abhi\"\n",
        "a[7:8]"
      ],
      "execution_count": 166,
      "outputs": [
        {
          "output_type": "execute_result",
          "data": {
            "application/vnd.google.colaboratory.intrinsic+json": {
              "type": "string"
            },
            "text/plain": [
              "''"
            ]
          },
          "metadata": {
            "tags": []
          },
          "execution_count": 166
        }
      ]
    },
    {
      "cell_type": "code",
      "metadata": {
        "colab": {
          "base_uri": "https://localhost:8080/"
        },
        "id": "Ghto1dNCooIt",
        "outputId": "784ab8dd-70ca-46e9-bfca-e1ba1536a843"
      },
      "source": [
        "import numpy as np\n",
        "a=[1,2,3,4]\n",
        "a[0]=10\n",
        "print(a)\n",
        "try:\n",
        "  print(a/2)\n",
        "except:\n",
        "  print('On entire list the operation is not possible, so we go for array')\n",
        "a=np.array(a)\n",
        "print(a/2)"
      ],
      "execution_count": 12,
      "outputs": [
        {
          "output_type": "stream",
          "text": [
            "[10, 2, 3, 4]\n",
            "On entire list the operation is not possible, so we go for array\n",
            "[5.  1.  1.5 2. ]\n"
          ],
          "name": "stdout"
        }
      ]
    },
    {
      "cell_type": "code",
      "metadata": {
        "colab": {
          "base_uri": "https://localhost:8080/"
        },
        "id": "W4ydv3U_ooKt",
        "outputId": "3edbc0cb-5be9-4d87-e909-925e6ebece32"
      },
      "source": [
        "l=['a','A','B']\n",
        "l.sort()\n",
        "print(l)"
      ],
      "execution_count": 1,
      "outputs": [
        {
          "output_type": "stream",
          "text": [
            "['A', 'B', 'a']\n"
          ],
          "name": "stdout"
        }
      ]
    },
    {
      "cell_type": "code",
      "metadata": {
        "colab": {
          "base_uri": "https://localhost:8080/",
          "height": 183
        },
        "id": "mdwHGxwwooNo",
        "outputId": "47d167ab-61b0-4509-8360-88263245c9b2"
      },
      "source": [
        "a=(1,2,3,4)\n",
        "a(0) ##Tuple is unmutable"
      ],
      "execution_count": 14,
      "outputs": [
        {
          "output_type": "error",
          "ename": "TypeError",
          "evalue": "ignored",
          "traceback": [
            "\u001b[0;31m---------------------------------------------------------------------------\u001b[0m",
            "\u001b[0;31mTypeError\u001b[0m                                 Traceback (most recent call last)",
            "\u001b[0;32m<ipython-input-14-c728c93b676a>\u001b[0m in \u001b[0;36m<module>\u001b[0;34m()\u001b[0m\n\u001b[1;32m      1\u001b[0m \u001b[0ma\u001b[0m\u001b[0;34m=\u001b[0m\u001b[0;34m(\u001b[0m\u001b[0;36m1\u001b[0m\u001b[0;34m,\u001b[0m\u001b[0;36m2\u001b[0m\u001b[0;34m,\u001b[0m\u001b[0;36m3\u001b[0m\u001b[0;34m,\u001b[0m\u001b[0;36m4\u001b[0m\u001b[0;34m)\u001b[0m\u001b[0;34m\u001b[0m\u001b[0;34m\u001b[0m\u001b[0m\n\u001b[0;32m----> 2\u001b[0;31m \u001b[0ma\u001b[0m\u001b[0;34m(\u001b[0m\u001b[0;36m0\u001b[0m\u001b[0;34m)\u001b[0m\u001b[0;34m\u001b[0m\u001b[0;34m\u001b[0m\u001b[0m\n\u001b[0m",
            "\u001b[0;31mTypeError\u001b[0m: 'tuple' object is not callable"
          ]
        }
      ]
    },
    {
      "cell_type": "code",
      "metadata": {
        "colab": {
          "base_uri": "https://localhost:8080/",
          "height": 201
        },
        "id": "bJ16bYU4zIcZ",
        "outputId": "660c6e1e-101f-4b24-905d-4e3c92f0f814"
      },
      "source": [
        "a='Abhishek'\n",
        "a[0]='a'\n",
        "print(a) #String is unmutable."
      ],
      "execution_count": 16,
      "outputs": [
        {
          "output_type": "error",
          "ename": "TypeError",
          "evalue": "ignored",
          "traceback": [
            "\u001b[0;31m---------------------------------------------------------------------------\u001b[0m",
            "\u001b[0;31mTypeError\u001b[0m                                 Traceback (most recent call last)",
            "\u001b[0;32m<ipython-input-16-1be83f8e53e5>\u001b[0m in \u001b[0;36m<module>\u001b[0;34m()\u001b[0m\n\u001b[1;32m      1\u001b[0m \u001b[0ma\u001b[0m\u001b[0;34m=\u001b[0m\u001b[0;34m'Abhishek'\u001b[0m\u001b[0;34m\u001b[0m\u001b[0;34m\u001b[0m\u001b[0m\n\u001b[0;32m----> 2\u001b[0;31m \u001b[0ma\u001b[0m\u001b[0;34m[\u001b[0m\u001b[0;36m0\u001b[0m\u001b[0;34m]\u001b[0m\u001b[0;34m=\u001b[0m\u001b[0;34m'a'\u001b[0m\u001b[0;34m\u001b[0m\u001b[0;34m\u001b[0m\u001b[0m\n\u001b[0m\u001b[1;32m      3\u001b[0m \u001b[0mprint\u001b[0m\u001b[0;34m(\u001b[0m\u001b[0ma\u001b[0m\u001b[0;34m)\u001b[0m\u001b[0;34m\u001b[0m\u001b[0;34m\u001b[0m\u001b[0m\n",
            "\u001b[0;31mTypeError\u001b[0m: 'str' object does not support item assignment"
          ]
        }
      ]
    },
    {
      "cell_type": "code",
      "metadata": {
        "colab": {
          "base_uri": "https://localhost:8080/"
        },
        "id": "LdhQwsOjzIe-",
        "outputId": "36f02172-0494-4ee3-9832-d24ced38f4c4"
      },
      "source": [
        "list=[i for i in range(10,20)]\n",
        "print(list)"
      ],
      "execution_count": 20,
      "outputs": [
        {
          "output_type": "stream",
          "text": [
            "[10, 11, 12, 13, 14, 15, 16, 17, 18, 19]\n"
          ],
          "name": "stdout"
        }
      ]
    },
    {
      "cell_type": "code",
      "metadata": {
        "colab": {
          "base_uri": "https://localhost:8080/"
        },
        "id": "WXbd5kj_zz4_",
        "outputId": "cb56a9ad-a2cf-4d73-b105-6cc39322fbb6"
      },
      "source": [
        "a,b,c=[int(i) for i in input('Enter 3 values ').split(',')]\n",
        "print(a,b,c)"
      ],
      "execution_count": 25,
      "outputs": [
        {
          "output_type": "stream",
          "text": [
            "Enter 3 values 1,2,3\n",
            "1 2 3\n"
          ],
          "name": "stdout"
        }
      ]
    },
    {
      "cell_type": "code",
      "metadata": {
        "colab": {
          "base_uri": "https://localhost:8080/"
        },
        "id": "5vKufaQMzz7Y",
        "outputId": "bab44b87-0644-42b1-fc34-1e333431bad3"
      },
      "source": [
        "##odd or even\n",
        "for i in range(1,10):\n",
        "  if i%2==0:\n",
        "    print('even')\n",
        "  else:\n",
        "    print('odd')"
      ],
      "execution_count": 28,
      "outputs": [
        {
          "output_type": "stream",
          "text": [
            "odd\n",
            "even\n",
            "odd\n",
            "even\n",
            "odd\n",
            "even\n",
            "odd\n",
            "even\n",
            "odd\n"
          ],
          "name": "stdout"
        }
      ]
    },
    {
      "cell_type": "code",
      "metadata": {
        "colab": {
          "base_uri": "https://localhost:8080/"
        },
        "id": "wOenQnOczz-D",
        "outputId": "7b632797-d16f-4137-c9e6-cbd545980e9f"
      },
      "source": [
        "##Number is prime or not # prime number is a number which gets divide by 1 and itselves.\n",
        "num=eval(input('Enter a number '))\n",
        "for i in range(2,num):\n",
        "  if num%i==0:\n",
        "    print('Not a prime')\n",
        "    break\n",
        "else:\n",
        "    print('prime')"
      ],
      "execution_count": 42,
      "outputs": [
        {
          "output_type": "stream",
          "text": [
            "Enter a number 5\n",
            "prime\n"
          ],
          "name": "stdout"
        }
      ]
    },
    {
      "cell_type": "code",
      "metadata": {
        "colab": {
          "base_uri": "https://localhost:8080/"
        },
        "id": "CXeawdqNzIg_",
        "outputId": "59cc9631-6048-4fbc-d4c8-47d8ae9efb98"
      },
      "source": [
        "##Prime numbers between a range of values\n",
        "lower=int(input('Enter a lower number '))\n",
        "upper=int(input('Enter a upper number '))\n",
        "for num in range(lower,upper+1):\n",
        "  for i in range(2,num):\n",
        "    if num%i==0:\n",
        "      break\n",
        "  else:\n",
        "      print('The prime numbers are ',num)"
      ],
      "execution_count": 1,
      "outputs": [
        {
          "output_type": "stream",
          "text": [
            "Enter a lower number 10\n",
            "Enter a upper number 20\n",
            "The prime numbers are  11\n",
            "The prime numbers are  13\n",
            "The prime numbers are  17\n",
            "The prime numbers are  19\n"
          ],
          "name": "stdout"
        }
      ]
    },
    {
      "cell_type": "code",
      "metadata": {
        "colab": {
          "base_uri": "https://localhost:8080/"
        },
        "id": "GPryzHipzIj_",
        "outputId": "461230d2-1d0d-4b6c-bbba-bc76c5dcf69f"
      },
      "source": [
        "##Creating a single list from nested list.\n",
        "l=[[1,2,3],[4,5,6],[7,8,9]]\n",
        "list=[]\n",
        "for i in l:\n",
        "  list.extend(i)\n",
        "print(list)\n"
      ],
      "execution_count": 4,
      "outputs": [
        {
          "output_type": "stream",
          "text": [
            "[1, 2, 3, 4, 5, 6, 7, 8, 9]\n"
          ],
          "name": "stdout"
        }
      ]
    },
    {
      "cell_type": "code",
      "metadata": {
        "colab": {
          "base_uri": "https://localhost:8080/"
        },
        "id": "fYibxtsS_Yxq",
        "outputId": "0ebf6b6b-aa1f-4283-8c22-c944eb4a8569"
      },
      "source": [
        "l=[[1,2,3],[4,5,6],[7,8,9]]\n",
        "list=[]\n",
        "for i in l:\n",
        "  list=list+i\n",
        "print(list)"
      ],
      "execution_count": 5,
      "outputs": [
        {
          "output_type": "stream",
          "text": [
            "[1, 2, 3, 4, 5, 6, 7, 8, 9]\n"
          ],
          "name": "stdout"
        }
      ]
    },
    {
      "cell_type": "code",
      "metadata": {
        "colab": {
          "base_uri": "https://localhost:8080/"
        },
        "id": "v7WtPJ6O_Y0b",
        "outputId": "93c4d8dd-31a0-4aef-8643-ce17ab4aeeeb"
      },
      "source": [
        "##Sublisting\n",
        "list=[1,2,3,4,5,6,7,8,9,10]\n",
        "sublist=[list[i:i+1] for i in range(0,len(list),2)]\n",
        "sublist"
      ],
      "execution_count": 6,
      "outputs": [
        {
          "output_type": "execute_result",
          "data": {
            "text/plain": [
              "[[1], [3], [5], [7], [9]]"
            ]
          },
          "metadata": {
            "tags": []
          },
          "execution_count": 6
        }
      ]
    },
    {
      "cell_type": "code",
      "metadata": {
        "colab": {
          "base_uri": "https://localhost:8080/"
        },
        "id": "TuT2-tMNMl5-",
        "outputId": "b9e1b1ae-5aa4-4c21-bfbe-bacc9310f441"
      },
      "source": [
        "def func(name,age=20):\n",
        "  print(name,age)\n",
        "func('Abhi')"
      ],
      "execution_count": 3,
      "outputs": [
        {
          "output_type": "stream",
          "text": [
            "Abhi 20\n"
          ],
          "name": "stdout"
        }
      ]
    },
    {
      "cell_type": "markdown",
      "metadata": {
        "id": "7itoHlrVQRht"
      },
      "source": [
        "import pandas as pd\n",
        "df=pd.read_csv(r\"D:\\Users\\abhisv\\Desktop\\Startups_Expense.csv\",sep=',')\n",
        "df.drop_duplicates(subset=['State'],keep='last')\n",
        "#To get dups dataset\n",
        "#df[df.duplicated(subset=['State'])]"
      ]
    },
    {
      "cell_type": "code",
      "metadata": {
        "id": "7tv81VZY_Y4H"
      },
      "source": [
        "##Give a small example of variable length keyword argument.\n",
        "def kwargsexample(**kwargs): ##It is always dict type\n",
        "  for k,v in kwargs.items():\n",
        "    print(type(kwargs))\n",
        "    print(k,v)"
      ],
      "execution_count": 6,
      "outputs": []
    },
    {
      "cell_type": "code",
      "metadata": {
        "colab": {
          "base_uri": "https://localhost:8080/"
        },
        "id": "EpCFXdoFQW4f",
        "outputId": "c76b0842-99a1-4450-ebc4-712e8c720596"
      },
      "source": [
        "kwargsexample(a=10,b=20,c=30)"
      ],
      "execution_count": 7,
      "outputs": [
        {
          "output_type": "stream",
          "text": [
            "<class 'dict'>\n",
            "a 10\n",
            "<class 'dict'>\n",
            "b 20\n",
            "<class 'dict'>\n",
            "c 30\n"
          ],
          "name": "stdout"
        }
      ]
    },
    {
      "cell_type": "code",
      "metadata": {
        "id": "7qTARpx7zIl5"
      },
      "source": [
        "##Give an example for variable length argument.\n",
        "def varargs(*n):\n",
        "  for i in n:\n",
        "    print(type(i))\n",
        "    print(i*2)"
      ],
      "execution_count": 18,
      "outputs": []
    },
    {
      "cell_type": "code",
      "metadata": {
        "colab": {
          "base_uri": "https://localhost:8080/"
        },
        "id": "E8GFU66NzInw",
        "outputId": "df9f152e-d0c1-4698-8236-0c340378e17c"
      },
      "source": [
        "varargs(10,20,30)#Instead of adding variable and then executing a program each time, you can use args to get directly in function call."
      ],
      "execution_count": 19,
      "outputs": [
        {
          "output_type": "stream",
          "text": [
            "<class 'int'>\n",
            "20\n",
            "<class 'int'>\n",
            "40\n",
            "<class 'int'>\n",
            "60\n"
          ],
          "name": "stdout"
        }
      ]
    },
    {
      "cell_type": "code",
      "metadata": {
        "id": "BZQqZCO_SsJy"
      },
      "source": [
        "##fiboncci series\n",
        "def fib(n):\n",
        "  a=0\n",
        "  b=1\n",
        "  print(a)\n",
        "  print(b)\n",
        "  i=1\n",
        "  while i<n:\n",
        "    c=a+b\n",
        "    a=b\n",
        "    b=c \n",
        "    print(c)\n",
        "    i=i+1"
      ],
      "execution_count": 32,
      "outputs": []
    },
    {
      "cell_type": "code",
      "metadata": {
        "colab": {
          "base_uri": "https://localhost:8080/"
        },
        "id": "Q72oRwRSNYeV",
        "outputId": "839f49fe-21bc-4dca-bea9-1c7bbbcbbd10"
      },
      "source": [
        "fib(5)"
      ],
      "execution_count": 33,
      "outputs": [
        {
          "output_type": "stream",
          "text": [
            "0\n",
            "1\n",
            "1\n",
            "2\n",
            "3\n",
            "5\n"
          ],
          "name": "stdout"
        }
      ]
    },
    {
      "cell_type": "code",
      "metadata": {
        "colab": {
          "base_uri": "https://localhost:8080/"
        },
        "id": "ZaFOVK8PNZbX",
        "outputId": "a3d0def8-5793-4438-f81d-1c57a6a6720d"
      },
      "source": [
        "#Other way of fib series.\n",
        "def fib(n):\n",
        "    a=0\n",
        "    b=1\n",
        "    print(a)\n",
        "    print(b)\n",
        "    for i in range(2,n+1):\n",
        "        c=a+b\n",
        "        a=b\n",
        "        b=c\n",
        "        print(c)\n",
        "fib(5)"
      ],
      "execution_count": 34,
      "outputs": [
        {
          "output_type": "stream",
          "text": [
            "0\n",
            "1\n",
            "1\n",
            "2\n",
            "3\n",
            "5\n"
          ],
          "name": "stdout"
        }
      ]
    },
    {
      "cell_type": "code",
      "metadata": {
        "colab": {
          "base_uri": "https://localhost:8080/"
        },
        "id": "r76vs_jNeJHU",
        "outputId": "43934954-8c7b-4638-fbe2-1e1143bb61db"
      },
      "source": [
        "##Factorial of a number\n",
        "def factorial(n):\n",
        "  factorial=1\n",
        "  for i in range(2,n+1):\n",
        "    factorial=factorial*i\n",
        "  print(factorial)\n",
        "\n",
        "factorial(3)"
      ],
      "execution_count": 39,
      "outputs": [
        {
          "output_type": "stream",
          "text": [
            "6\n"
          ],
          "name": "stdout"
        }
      ]
    },
    {
      "cell_type": "code",
      "metadata": {
        "colab": {
          "base_uri": "https://localhost:8080/"
        },
        "id": "akcHKAV9eJKF",
        "outputId": "1fce2810-a9ed-436f-c665-dd391f42229f"
      },
      "source": [
        "##palindrome or not\n",
        "def palindrome(n):\n",
        "  return str(n)==str(n)[::-1]\n",
        "n=int(input('Enter a string'))\n",
        "if palindrome(n):\n",
        "  print('Yes')\n",
        "else:\n",
        "  while not palindrome(n): #Here we can also use temp variable to store(n1=n and then decrement n1)\n",
        "    n=n-1\n",
        "  print('The next palindrome is ',n)"
      ],
      "execution_count": 49,
      "outputs": [
        {
          "output_type": "stream",
          "text": [
            "Enter a string123\n",
            "The next palindrome is  121\n"
          ],
          "name": "stdout"
        }
      ]
    },
    {
      "cell_type": "code",
      "metadata": {
        "colab": {
          "base_uri": "https://localhost:8080/"
        },
        "id": "HSBShkqueJMk",
        "outputId": "f3876fb5-1467-4874-b0be-e7dca48b29e9"
      },
      "source": [
        "##Perfect square\n",
        "import math\n",
        "def perfectsq(n):\n",
        "  root=math.sqrt(n)\n",
        "  return n==root**2\n",
        "\n",
        "n=eval(input('Enter a number '))\n",
        "if perfectsq(n):\n",
        "  print('Yes')\n",
        "else:\n",
        "  print('No')"
      ],
      "execution_count": 54,
      "outputs": [
        {
          "output_type": "stream",
          "text": [
            "Enter a number 5\n",
            "No\n"
          ],
          "name": "stdout"
        }
      ]
    },
    {
      "cell_type": "code",
      "metadata": {
        "colab": {
          "base_uri": "https://localhost:8080/"
        },
        "id": "RYH8nNt0eJOY",
        "outputId": "81213f2b-d6e6-44ce-f4e4-215553b60158"
      },
      "source": [
        "##Second largest value in a list\n",
        "l=[1,2,3,4,5,6]\n",
        "l.sort()\n",
        "print('the second largest value is ',l[-2])"
      ],
      "execution_count": 64,
      "outputs": [
        {
          "output_type": "stream",
          "text": [
            "the second largest value is  5\n"
          ],
          "name": "stdout"
        }
      ]
    },
    {
      "cell_type": "code",
      "metadata": {
        "colab": {
          "base_uri": "https://localhost:8080/"
        },
        "id": "s85ndH_EeJQI",
        "outputId": "d43229a4-6b1c-42ba-819e-e314ca5fff29"
      },
      "source": [
        "l=[1,2,3,4,5,6]\n",
        "max([i for i in l if i!=max(l)])"
      ],
      "execution_count": 63,
      "outputs": [
        {
          "output_type": "execute_result",
          "data": {
            "text/plain": [
              "5"
            ]
          },
          "metadata": {
            "tags": []
          },
          "execution_count": 63
        }
      ]
    },
    {
      "cell_type": "code",
      "metadata": {
        "colab": {
          "base_uri": "https://localhost:8080/"
        },
        "id": "ujWuiz1uJA_1",
        "outputId": "38cd8816-b019-4888-c502-a9fd7b512f0a"
      },
      "source": [
        "##How many times the word is repeated in a list\n",
        "l=['a','b','c','a','b','c']\n",
        "from collections import Counter\n",
        "c=Counter(l)\n",
        "print(c)"
      ],
      "execution_count": 65,
      "outputs": [
        {
          "output_type": "stream",
          "text": [
            "Counter({'a': 2, 'b': 2, 'c': 2})\n"
          ],
          "name": "stdout"
        }
      ]
    },
    {
      "cell_type": "code",
      "metadata": {
        "colab": {
          "base_uri": "https://localhost:8080/"
        },
        "id": "8TlzqtLpJBCt",
        "outputId": "08c4b68c-a09f-4a9a-9e69-b25e2396455b"
      },
      "source": [
        "a='Abh ishek'\n",
        "d={}\n",
        "for i in a:\n",
        "  d[i]=d.get(i,0)+1\n",
        "for k,v in d.items():\n",
        "  print(k,v)"
      ],
      "execution_count": 75,
      "outputs": [
        {
          "output_type": "stream",
          "text": [
            "A 1\n",
            "b 1\n",
            "h 2\n",
            "  1\n",
            "i 1\n",
            "s 1\n",
            "e 1\n",
            "k 1\n"
          ],
          "name": "stdout"
        }
      ]
    },
    {
      "cell_type": "code",
      "metadata": {
        "colab": {
          "base_uri": "https://localhost:8080/"
        },
        "id": "YqYyr44KJBFS",
        "outputId": "af265af9-f3d6-4386-8498-9c6be18a50d6"
      },
      "source": [
        "##leap year or not\n",
        "year=int(input('Enter a year '))\n",
        "if (year%4)==0:\n",
        "  if (year%100)==0:\n",
        "    if (year%400)==0:\n",
        "      print('leap year')\n",
        "    else:\n",
        "      print('Not a leap year')\n",
        "  else:\n",
        "    print('leap year')\n",
        "else:\n",
        "  print('Not a leap year')"
      ],
      "execution_count": 84,
      "outputs": [
        {
          "output_type": "stream",
          "text": [
            "Enter a year 2032\n",
            "leap year\n"
          ],
          "name": "stdout"
        }
      ]
    },
    {
      "cell_type": "code",
      "metadata": {
        "colab": {
          "base_uri": "https://localhost:8080/"
        },
        "id": "1l2diL-MJBPU",
        "outputId": "30963f9d-1198-4f93-f086-b4d092e77fae"
      },
      "source": [
        "s=input('Enter a string ')\n",
        "words=[]\n",
        "s1=s.split()\n",
        "print(s1)\n",
        "for word in s1:\n",
        "  print(word)\n",
        "  words.append(word)\n",
        "print(tuple(reversed(words)))"
      ],
      "execution_count": 96,
      "outputs": [
        {
          "output_type": "stream",
          "text": [
            "Enter a string abhi shek\n",
            "['abhi', 'shek']\n",
            "abhi\n",
            "shek\n",
            "('shek', 'abhi')\n"
          ],
          "name": "stdout"
        }
      ]
    },
    {
      "cell_type": "code",
      "metadata": {
        "colab": {
          "base_uri": "https://localhost:8080/",
          "height": 201
        },
        "id": "rtuFwLTZM_g_",
        "outputId": "43ed3484-6487-4eb5-a52d-6a6e99a69b4b"
      },
      "source": [
        "thistuple=(1,2,3)\n",
        "del thistuple\n",
        "print(thistuple)"
      ],
      "execution_count": 93,
      "outputs": [
        {
          "output_type": "error",
          "ename": "NameError",
          "evalue": "ignored",
          "traceback": [
            "\u001b[0;31m---------------------------------------------------------------------------\u001b[0m",
            "\u001b[0;31mNameError\u001b[0m                                 Traceback (most recent call last)",
            "\u001b[0;32m<ipython-input-93-e6acd38a2983>\u001b[0m in \u001b[0;36m<module>\u001b[0;34m()\u001b[0m\n\u001b[1;32m      1\u001b[0m \u001b[0mthistuple\u001b[0m\u001b[0;34m=\u001b[0m\u001b[0;34m(\u001b[0m\u001b[0;36m1\u001b[0m\u001b[0;34m,\u001b[0m\u001b[0;36m2\u001b[0m\u001b[0;34m,\u001b[0m\u001b[0;36m3\u001b[0m\u001b[0;34m)\u001b[0m\u001b[0;34m\u001b[0m\u001b[0;34m\u001b[0m\u001b[0m\n\u001b[1;32m      2\u001b[0m \u001b[0;32mdel\u001b[0m \u001b[0mthistuple\u001b[0m\u001b[0;34m\u001b[0m\u001b[0;34m\u001b[0m\u001b[0m\n\u001b[0;32m----> 3\u001b[0;31m \u001b[0mprint\u001b[0m\u001b[0;34m(\u001b[0m\u001b[0mthistuple\u001b[0m\u001b[0;34m)\u001b[0m\u001b[0;34m\u001b[0m\u001b[0;34m\u001b[0m\u001b[0m\n\u001b[0m",
            "\u001b[0;31mNameError\u001b[0m: name 'thistuple' is not defined"
          ]
        }
      ]
    },
    {
      "cell_type": "code",
      "metadata": {
        "colab": {
          "base_uri": "https://localhost:8080/"
        },
        "id": "kSUuJXb3M_jk",
        "outputId": "c07ee2ff-834c-4909-f371-5d4eff68f3f2"
      },
      "source": [
        "import numpy as np\n",
        "a=[1,2,3,4]\n",
        "a=np.array(a)\n",
        "print(type(a))\n",
        "a=a/2\n",
        "print(a)"
      ],
      "execution_count": 4,
      "outputs": [
        {
          "output_type": "stream",
          "text": [
            "<class 'numpy.ndarray'>\n",
            "[0.5 1.  1.5 2. ]\n"
          ],
          "name": "stdout"
        }
      ]
    },
    {
      "cell_type": "code",
      "metadata": {
        "colab": {
          "base_uri": "https://localhost:8080/"
        },
        "id": "-8Ra3xveM_l6",
        "outputId": "088081cb-b890-47f5-db83-1121fcfd9b54"
      },
      "source": [
        "np.arange(0,10)"
      ],
      "execution_count": 6,
      "outputs": [
        {
          "output_type": "execute_result",
          "data": {
            "text/plain": [
              "array([0, 1, 2, 3, 4, 5, 6, 7, 8, 9])"
            ]
          },
          "metadata": {
            "tags": []
          },
          "execution_count": 6
        }
      ]
    },
    {
      "cell_type": "code",
      "metadata": {
        "colab": {
          "base_uri": "https://localhost:8080/"
        },
        "id": "pRn9PRvvM_qU",
        "outputId": "19665540-4d04-4332-a6ad-fa6a8b9134e7"
      },
      "source": [
        "np.linspace(0,10,num=50)"
      ],
      "execution_count": 7,
      "outputs": [
        {
          "output_type": "execute_result",
          "data": {
            "text/plain": [
              "array([ 0.        ,  0.20408163,  0.40816327,  0.6122449 ,  0.81632653,\n",
              "        1.02040816,  1.2244898 ,  1.42857143,  1.63265306,  1.83673469,\n",
              "        2.04081633,  2.24489796,  2.44897959,  2.65306122,  2.85714286,\n",
              "        3.06122449,  3.26530612,  3.46938776,  3.67346939,  3.87755102,\n",
              "        4.08163265,  4.28571429,  4.48979592,  4.69387755,  4.89795918,\n",
              "        5.10204082,  5.30612245,  5.51020408,  5.71428571,  5.91836735,\n",
              "        6.12244898,  6.32653061,  6.53061224,  6.73469388,  6.93877551,\n",
              "        7.14285714,  7.34693878,  7.55102041,  7.75510204,  7.95918367,\n",
              "        8.16326531,  8.36734694,  8.57142857,  8.7755102 ,  8.97959184,\n",
              "        9.18367347,  9.3877551 ,  9.59183673,  9.79591837, 10.        ])"
            ]
          },
          "metadata": {
            "tags": []
          },
          "execution_count": 7
        }
      ]
    },
    {
      "cell_type": "code",
      "metadata": {
        "colab": {
          "base_uri": "https://localhost:8080/"
        },
        "id": "EpybZQ99M_sM",
        "outputId": "de74a36c-89d9-451d-9569-59502b3d0266"
      },
      "source": [
        "np.random.randint(0,10,10)#Oly integer values between 0 to 10 upto 100 values."
      ],
      "execution_count": 9,
      "outputs": [
        {
          "output_type": "execute_result",
          "data": {
            "text/plain": [
              "array([3, 2, 3, 7, 7, 7, 1, 3, 3, 9])"
            ]
          },
          "metadata": {
            "tags": []
          },
          "execution_count": 9
        }
      ]
    },
    {
      "cell_type": "code",
      "metadata": {
        "colab": {
          "base_uri": "https://localhost:8080/"
        },
        "id": "ge90uozrOcRX",
        "outputId": "4fae0df6-39f8-4b9a-b5eb-3ee146a26fc9"
      },
      "source": [
        "np.random.randn(10) #Gives 10 random values"
      ],
      "execution_count": 10,
      "outputs": [
        {
          "output_type": "execute_result",
          "data": {
            "text/plain": [
              "array([ 1.22345066,  1.77270049, -0.3732889 ,  0.44489725, -2.1907323 ,\n",
              "       -1.37067737,  1.32628199, -1.79653224, -0.22992637,  1.35193755])"
            ]
          },
          "metadata": {
            "tags": []
          },
          "execution_count": 10
        }
      ]
    },
    {
      "cell_type": "code",
      "metadata": {
        "colab": {
          "base_uri": "https://localhost:8080/"
        },
        "id": "3Y4p_0jSOi-m",
        "outputId": "b584dcf7-d315-4bab-b356-37f9e10a6107"
      },
      "source": [
        "print(np.ones(4))\n",
        "print(np.zeros(4))\n",
        "print(np.ones((2,2)))\n",
        "print(np.zeros((2,2)))"
      ],
      "execution_count": 16,
      "outputs": [
        {
          "output_type": "stream",
          "text": [
            "[1. 1. 1. 1.]\n",
            "[0. 0. 0. 0.]\n",
            "[[1. 1.]\n",
            " [1. 1.]]\n",
            "[[0. 0.]\n",
            " [0. 0.]]\n"
          ],
          "name": "stdout"
        }
      ]
    },
    {
      "cell_type": "code",
      "metadata": {
        "colab": {
          "base_uri": "https://localhost:8080/"
        },
        "id": "I3dGcyD9OmSE",
        "outputId": "13b70716-ff2b-48c4-b9ad-939f381182e7"
      },
      "source": [
        "a=[1,2,3,4,5]\n",
        "np.min(a),np.max(a),np.argmin(a),np.argmax(a)"
      ],
      "execution_count": 18,
      "outputs": [
        {
          "output_type": "execute_result",
          "data": {
            "text/plain": [
              "(1, 5, 0, 4)"
            ]
          },
          "metadata": {
            "tags": []
          },
          "execution_count": 18
        }
      ]
    },
    {
      "cell_type": "code",
      "metadata": {
        "colab": {
          "base_uri": "https://localhost:8080/"
        },
        "id": "74v7YE4mOmU8",
        "outputId": "82d740ea-9478-45b6-915c-f9b22d958f04"
      },
      "source": [
        "a=np.random.randint(10,40,100)\n",
        "a[a>20]"
      ],
      "execution_count": 22,
      "outputs": [
        {
          "output_type": "execute_result",
          "data": {
            "text/plain": [
              "array([25, 33, 28, 32, 36, 30, 32, 38, 39, 33, 35, 39, 21, 30, 21, 37, 22,\n",
              "       31, 29, 38, 28, 38, 39, 23, 37, 38, 36, 39, 22, 23, 38, 26, 39, 22,\n",
              "       34, 23, 27, 32, 35, 26, 26, 26, 38, 27, 38, 38, 31, 37, 21, 29, 30,\n",
              "       26, 29, 21, 32, 34, 21, 22, 33, 30, 32, 21, 35, 38, 28, 21, 34])"
            ]
          },
          "metadata": {
            "tags": []
          },
          "execution_count": 22
        }
      ]
    },
    {
      "cell_type": "code",
      "metadata": {
        "colab": {
          "base_uri": "https://localhost:8080/"
        },
        "id": "z51irk_dOmW9",
        "outputId": "e0464e77-42fa-44e2-9268-2c9913674f70"
      },
      "source": [
        "a=np.array(([1,2,3],[4,5,6],[7,8,9]))\n",
        "a[0][1]"
      ],
      "execution_count": 27,
      "outputs": [
        {
          "output_type": "execute_result",
          "data": {
            "text/plain": [
              "2"
            ]
          },
          "metadata": {
            "tags": []
          },
          "execution_count": 27
        }
      ]
    },
    {
      "cell_type": "code",
      "metadata": {
        "colab": {
          "base_uri": "https://localhost:8080/"
        },
        "id": "g6kltPLCOmZR",
        "outputId": "cfc6c8b6-409a-42c2-e95b-077d2c48a0c0"
      },
      "source": [
        "np.eye(5) #Gives identity matrix of 5*5."
      ],
      "execution_count": 29,
      "outputs": [
        {
          "output_type": "execute_result",
          "data": {
            "text/plain": [
              "array([[1., 0., 0., 0., 0.],\n",
              "       [0., 1., 0., 0., 0.],\n",
              "       [0., 0., 1., 0., 0.],\n",
              "       [0., 0., 0., 1., 0.],\n",
              "       [0., 0., 0., 0., 1.]])"
            ]
          },
          "metadata": {
            "tags": []
          },
          "execution_count": 29
        }
      ]
    },
    {
      "cell_type": "code",
      "metadata": {
        "colab": {
          "base_uri": "https://localhost:8080/",
          "height": 352
        },
        "id": "i8Qlhk7-OmbU",
        "outputId": "d527c4fd-1c7d-4273-ba2d-bacb74e4ef20"
      },
      "source": [
        "import matplotlib.pyplot as plt\n",
        "%matplotlib inline\n",
        "a=np.random.randn(5,5)\n",
        "plt.plot(a)"
      ],
      "execution_count": 49,
      "outputs": [
        {
          "output_type": "execute_result",
          "data": {
            "text/plain": [
              "[<matplotlib.lines.Line2D at 0x7f15126abfd0>,\n",
              " <matplotlib.lines.Line2D at 0x7f1512645cd0>,\n",
              " <matplotlib.lines.Line2D at 0x7f1512645e90>,\n",
              " <matplotlib.lines.Line2D at 0x7f151264f090>,\n",
              " <matplotlib.lines.Line2D at 0x7f151264f250>]"
            ]
          },
          "metadata": {
            "tags": []
          },
          "execution_count": 49
        },
        {
          "output_type": "display_data",
          "data": {
            "image/png": "[encoded data removed]",
            "text/plain": [
              "<Figure size 432x288 with 1 Axes>"
            ]
          },
          "metadata": {
            "tags": [],
            "needs_background": "light"
          }
        }
      ]
    },
    {
      "cell_type": "code",
      "metadata": {
        "colab": {
          "base_uri": "https://localhost:8080/",
          "height": 35
        },
        "id": "jTMLPdvrQAC9",
        "outputId": "90f209d4-3051-40c4-8ae5-bb548ef069ec"
      },
      "source": [
        "a='data science'\n",
        "a.capitalize()"
      ],
      "execution_count": 40,
      "outputs": [
        {
          "output_type": "execute_result",
          "data": {
            "application/vnd.google.colaboratory.intrinsic+json": {
              "type": "string"
            },
            "text/plain": [
              "'Data science'"
            ]
          },
          "metadata": {
            "tags": []
          },
          "execution_count": 40
        }
      ]
    },
    {
      "cell_type": "code",
      "metadata": {
        "colab": {
          "base_uri": "https://localhost:8080/",
          "height": 35
        },
        "id": "4zaxE7REQAFt",
        "outputId": "e0674d39-5762-4a73-ec10-6841d33c9fcd"
      },
      "source": [
        "a='Machine learning'\n",
        "a[3].capitalize()+a[6].capitalize()+a[9].capitalize()"
      ],
      "execution_count": 41,
      "outputs": [
        {
          "output_type": "execute_result",
          "data": {
            "application/vnd.google.colaboratory.intrinsic+json": {
              "type": "string"
            },
            "text/plain": [
              "'HEE'"
            ]
          },
          "metadata": {
            "tags": []
          },
          "execution_count": 41
        }
      ]
    },
    {
      "cell_type": "code",
      "metadata": {
        "colab": {
          "base_uri": "https://localhost:8080/"
        },
        "id": "IL81cZ5LQAIT",
        "outputId": "b05cdceb-9bb7-4761-cacc-cd834e238772"
      },
      "source": [
        "a.center(20,'*'),a.count('a'),a.count('a',2),a.count('a',0,10)"
      ],
      "execution_count": 45,
      "outputs": [
        {
          "output_type": "execute_result",
          "data": {
            "text/plain": [
              "('**Machine learning**', 2, 1, 1)"
            ]
          },
          "metadata": {
            "tags": []
          },
          "execution_count": 45
        }
      ]
    },
    {
      "cell_type": "code",
      "metadata": {
        "colab": {
          "base_uri": "https://localhost:8080/",
          "height": 218
        },
        "id": "FmP9dzZfQAK1",
        "outputId": "525050e3-c30e-4a94-b680-e37a2545667b"
      },
      "source": [
        " a='abhishek'\n",
        " print(a.find('a'),a.index('a'),a.find('m')) #find returns -1 if no matching\n",
        " print(a.index('m')) #index gives value erro if no value is found, index faster than find."
      ],
      "execution_count": 55,
      "outputs": [
        {
          "output_type": "stream",
          "text": [
            "0 0 -1\n"
          ],
          "name": "stdout"
        },
        {
          "output_type": "error",
          "ename": "ValueError",
          "evalue": "ignored",
          "traceback": [
            "\u001b[0;31m---------------------------------------------------------------------------\u001b[0m",
            "\u001b[0;31mValueError\u001b[0m                                Traceback (most recent call last)",
            "\u001b[0;32m<ipython-input-55-640dd11741d9>\u001b[0m in \u001b[0;36m<module>\u001b[0;34m()\u001b[0m\n\u001b[1;32m      1\u001b[0m \u001b[0ma\u001b[0m\u001b[0;34m=\u001b[0m\u001b[0;34m'abhishek'\u001b[0m\u001b[0;34m\u001b[0m\u001b[0;34m\u001b[0m\u001b[0m\n\u001b[1;32m      2\u001b[0m \u001b[0mprint\u001b[0m\u001b[0;34m(\u001b[0m\u001b[0ma\u001b[0m\u001b[0;34m.\u001b[0m\u001b[0mfind\u001b[0m\u001b[0;34m(\u001b[0m\u001b[0;34m'a'\u001b[0m\u001b[0;34m)\u001b[0m\u001b[0;34m,\u001b[0m\u001b[0ma\u001b[0m\u001b[0;34m.\u001b[0m\u001b[0mindex\u001b[0m\u001b[0;34m(\u001b[0m\u001b[0;34m'a'\u001b[0m\u001b[0;34m)\u001b[0m\u001b[0;34m,\u001b[0m\u001b[0ma\u001b[0m\u001b[0;34m.\u001b[0m\u001b[0mfind\u001b[0m\u001b[0;34m(\u001b[0m\u001b[0;34m'm'\u001b[0m\u001b[0;34m)\u001b[0m\u001b[0;34m)\u001b[0m\u001b[0;34m\u001b[0m\u001b[0;34m\u001b[0m\u001b[0m\n\u001b[0;32m----> 3\u001b[0;31m \u001b[0mprint\u001b[0m\u001b[0;34m(\u001b[0m\u001b[0ma\u001b[0m\u001b[0;34m.\u001b[0m\u001b[0mindex\u001b[0m\u001b[0;34m(\u001b[0m\u001b[0;34m'm'\u001b[0m\u001b[0;34m)\u001b[0m\u001b[0;34m)\u001b[0m\u001b[0;34m\u001b[0m\u001b[0;34m\u001b[0m\u001b[0m\n\u001b[0m",
            "\u001b[0;31mValueError\u001b[0m: substring not found"
          ]
        }
      ]
    },
    {
      "cell_type": "code",
      "metadata": {
        "colab": {
          "base_uri": "https://localhost:8080/"
        },
        "id": "9DKvWqoEQANe",
        "outputId": "da6915fd-507f-4c32-a4f9-9f7b3f1ab887"
      },
      "source": [
        "a.lower(),a.upper(),a.islower(),a.isupper(),min(a),max(a),len(a)"
      ],
      "execution_count": 60,
      "outputs": [
        {
          "output_type": "execute_result",
          "data": {
            "text/plain": [
              "('abhishek', 'ABHISHEK', True, False, 'a', 's', 8)"
            ]
          },
          "metadata": {
            "tags": []
          },
          "execution_count": 60
        }
      ]
    },
    {
      "cell_type": "code",
      "metadata": {
        "colab": {
          "base_uri": "https://localhost:8080/"
        },
        "id": "rG5wYZhfQAQU",
        "outputId": "0ae910d5-0600-42c1-be7b-5b67c5845e41"
      },
      "source": [
        "a='data science'\n",
        "a.split('a')"
      ],
      "execution_count": 68,
      "outputs": [
        {
          "output_type": "execute_result",
          "data": {
            "text/plain": [
              "['d', 't', ' science']"
            ]
          },
          "metadata": {
            "tags": []
          },
          "execution_count": 68
        }
      ]
    },
    {
      "cell_type": "code",
      "metadata": {
        "colab": {
          "base_uri": "https://localhost:8080/",
          "height": 166
        },
        "id": "Uom-KcvwQATI",
        "outputId": "e1a6f7cd-68a6-4a94-dd4b-b4d16362f451"
      },
      "source": [
        "a.isalpha(),a.isnum(),a.isdigit()"
      ],
      "execution_count": 70,
      "outputs": [
        {
          "output_type": "error",
          "ename": "AttributeError",
          "evalue": "ignored",
          "traceback": [
            "\u001b[0;31m---------------------------------------------------------------------------\u001b[0m",
            "\u001b[0;31mAttributeError\u001b[0m                            Traceback (most recent call last)",
            "\u001b[0;32m<ipython-input-70-fc92a341fdba>\u001b[0m in \u001b[0;36m<module>\u001b[0;34m()\u001b[0m\n\u001b[0;32m----> 1\u001b[0;31m \u001b[0ma\u001b[0m\u001b[0;34m.\u001b[0m\u001b[0misalpha\u001b[0m\u001b[0;34m(\u001b[0m\u001b[0;34m)\u001b[0m\u001b[0;34m,\u001b[0m\u001b[0ma\u001b[0m\u001b[0;34m.\u001b[0m\u001b[0misnum\u001b[0m\u001b[0;34m(\u001b[0m\u001b[0;34m)\u001b[0m\u001b[0;34m,\u001b[0m\u001b[0ma\u001b[0m\u001b[0;34m.\u001b[0m\u001b[0misdigit\u001b[0m\u001b[0;34m(\u001b[0m\u001b[0;34m)\u001b[0m\u001b[0;34m\u001b[0m\u001b[0;34m\u001b[0m\u001b[0m\n\u001b[0m",
            "\u001b[0;31mAttributeError\u001b[0m: 'str' object has no attribute 'isnum'"
          ]
        }
      ]
    },
    {
      "cell_type": "code",
      "metadata": {
        "colab": {
          "base_uri": "https://localhost:8080/"
        },
        "id": "G8vR4_UMV5Ee",
        "outputId": "6fd46aa1-c0e9-40c8-f553-4b61506c5778"
      },
      "source": [
        "x='pqrs'\n",
        "for i in range(len(x)):\n",
        "  x[i].upper() #String is immutable.\n",
        "print(x)"
      ],
      "execution_count": 2,
      "outputs": [
        {
          "output_type": "stream",
          "text": [
            "pqrs\n"
          ],
          "name": "stdout"
        }
      ]
    },
    {
      "cell_type": "code",
      "metadata": {
        "colab": {
          "base_uri": "https://localhost:8080/"
        },
        "id": "xnait2y-WVc_",
        "outputId": "a7b3c99f-8c37-434c-d06e-ddc8807fd152"
      },
      "source": [
        "##12345678910\n",
        "##10987654321\n",
        "for i in range(1,11):\n",
        "  print(i,11-i)"
      ],
      "execution_count": 1,
      "outputs": [
        {
          "output_type": "stream",
          "text": [
            "1 10\n",
            "2 9\n",
            "3 8\n",
            "4 7\n",
            "5 6\n",
            "6 5\n",
            "7 4\n",
            "8 3\n",
            "9 2\n",
            "10 1\n"
          ],
          "name": "stdout"
        }
      ]
    },
    {
      "cell_type": "code",
      "metadata": {
        "colab": {
          "base_uri": "https://localhost:8080/"
        },
        "id": "7zReJGOLWVfb",
        "outputId": "75ac9b66-2892-4a9c-bb08-5816a5d67008"
      },
      "source": [
        "##1Aa\n",
        "##2Bb\n",
        "for i in range(1,11):\n",
        "  print(i,chr(64+i),chr(64+i).lower(),end=' ')"
      ],
      "execution_count": 7,
      "outputs": [
        {
          "output_type": "stream",
          "text": [
            "1 A a 2 B b 3 C c 4 D d 5 E e 6 F f 7 G g 8 H h 9 I i 10 J j "
          ],
          "name": "stdout"
        }
      ]
    },
    {
      "cell_type": "code",
      "metadata": {
        "colab": {
          "base_uri": "https://localhost:8080/"
        },
        "id": "hnVsUqftWVh4",
        "outputId": "297cb7dc-3e92-463a-f733-a8ed73dbfd3a"
      },
      "source": [
        "x=20\n",
        "while x>10:\n",
        "  print('Loop')\n",
        "  x=x-1"
      ],
      "execution_count": 9,
      "outputs": [
        {
          "output_type": "stream",
          "text": [
            "Loop\n",
            "Loop\n",
            "Loop\n",
            "Loop\n",
            "Loop\n",
            "Loop\n",
            "Loop\n",
            "Loop\n",
            "Loop\n",
            "Loop\n"
          ],
          "name": "stdout"
        }
      ]
    },
    {
      "cell_type": "code",
      "metadata": {
        "colab": {
          "base_uri": "https://localhost:8080/"
        },
        "id": "DxOvQa33WVj4",
        "outputId": "2c19fc68-cfbb-4e63-bc82-685581b63ed8"
      },
      "source": [
        "for i in range(1,6): ##For reverse of this patter use x=[5,4,3,2,1] for i in x;\n",
        "  print(i*'*')"
      ],
      "execution_count": 12,
      "outputs": [
        {
          "output_type": "stream",
          "text": [
            "*\n",
            "**\n",
            "***\n",
            "****\n",
            "*****\n"
          ],
          "name": "stdout"
        }
      ]
    },
    {
      "cell_type": "code",
      "metadata": {
        "colab": {
          "base_uri": "https://localhost:8080/"
        },
        "id": "7zyt31s9WVl6",
        "outputId": "66dc82c0-975f-4fb4-acc3-ef2104a96587"
      },
      "source": [
        "a=set('pqr')\n",
        "a.add('abc')\n",
        "print(a)"
      ],
      "execution_count": 13,
      "outputs": [
        {
          "output_type": "stream",
          "text": [
            "{'abc', 'p', 'q', 'r'}\n"
          ],
          "name": "stdout"
        }
      ]
    },
    {
      "cell_type": "code",
      "metadata": {
        "id": "0hHvB1cke8i_"
      },
      "source": [
        ""
      ],
      "execution_count": 17,
      "outputs": []
    },
    {
      "cell_type": "code",
      "metadata": {
        "id": "nriUEkSxe8nz"
      },
      "source": [
        ""
      ],
      "execution_count": null,
      "outputs": []
    },
    {
      "cell_type": "code",
      "metadata": {
        "id": "Oni0J_mje8vO"
      },
      "source": [
        ""
      ],
      "execution_count": null,
      "outputs": []
    },
    {
      "cell_type": "code",
      "metadata": {
        "id": "nPGSFyfTe8xK"
      },
      "source": [
        ""
      ],
      "execution_count": null,
      "outputs": []
    },
    {
      "cell_type": "code",
      "metadata": {
        "id": "ksIIrDSke8y2"
      },
      "source": [
        ""
      ],
      "execution_count": null,
      "outputs": []
    },
    {
      "cell_type": "code",
      "metadata": {
        "id": "y3AvwJ7_WVnz"
      },
      "source": [
        ""
      ],
      "execution_count": null,
      "outputs": []
    }
  ]
}