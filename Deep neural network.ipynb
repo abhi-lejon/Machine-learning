{
 "cells": [
  {
   "cell_type": "code",
   "execution_count": 355,
   "metadata": {
    "ExecuteTime": {
     "end_time": "2020-07-23T10:26:14.037710Z",
     "start_time": "2020-07-23T10:26:14.026739Z"
    }
   },
   "outputs": [],
   "source": [
    "import numpy as np\n",
    "import pandas as pd\n",
    "import warnings\n",
    "warnings.simplefilter('ignore')"
   ]
  },
  {
   "cell_type": "code",
   "execution_count": 356,
   "metadata": {
    "ExecuteTime": {
     "end_time": "2020-07-23T10:26:18.782134Z",
     "start_time": "2020-07-23T10:26:16.640860Z"
    }
   },
   "outputs": [
    {
     "data": {
      "text/plain": [
       "((550068, 12), (233599, 11))"
      ]
     },
     "execution_count": 356,
     "metadata": {},
     "output_type": "execute_result"
    }
   ],
   "source": [
    "train_df=pd.read_csv(r\"D:\\Users\\abhisv\\Desktop\\train.csv\")\n",
    "test_df=pd.read_csv(r\"D:\\Users\\abhisv\\Desktop\\test.csv\")\n",
    "(train_df.shape),(test_df.shape)"
   ]
  },
  {
   "cell_type": "code",
   "execution_count": 357,
   "metadata": {
    "ExecuteTime": {
     "end_time": "2020-07-23T10:26:21.752792Z",
     "start_time": "2020-07-23T10:26:21.549940Z"
    }
   },
   "outputs": [],
   "source": [
    "df=pd.concat([train_df,test_df],axis=0)"
   ]
  },
  {
   "cell_type": "code",
   "execution_count": 358,
   "metadata": {
    "ExecuteTime": {
     "end_time": "2020-07-23T10:28:31.367836Z",
     "start_time": "2020-07-23T10:28:31.360767Z"
    }
   },
   "outputs": [
    {
     "data": {
      "text/plain": [
       "(783667, 12)"
      ]
     },
     "execution_count": 358,
     "metadata": {},
     "output_type": "execute_result"
    }
   ],
   "source": [
    "df.shape"
   ]
  },
  {
   "cell_type": "code",
   "execution_count": 359,
   "metadata": {
    "ExecuteTime": {
     "end_time": "2020-07-23T10:28:34.137219Z",
     "start_time": "2020-07-23T10:28:34.097819Z"
    }
   },
   "outputs": [
    {
     "data": {
      "text/html": [
       "<div>\n",
       "<style scoped>\n",
       "    .dataframe tbody tr th:only-of-type {\n",
       "        vertical-align: middle;\n",
       "    }\n",
       "\n",
       "    .dataframe tbody tr th {\n",
       "        vertical-align: top;\n",
       "    }\n",
       "\n",
       "    .dataframe thead th {\n",
       "        text-align: right;\n",
       "    }\n",
       "</style>\n",
       "<table border=\"1\" class=\"dataframe\">\n",
       "  <thead>\n",
       "    <tr style=\"text-align: right;\">\n",
       "      <th></th>\n",
       "      <th>Age</th>\n",
       "      <th>City_Category</th>\n",
       "      <th>Gender</th>\n",
       "      <th>Marital_Status</th>\n",
       "      <th>Occupation</th>\n",
       "      <th>Product_Category_1</th>\n",
       "      <th>Product_Category_2</th>\n",
       "      <th>Product_Category_3</th>\n",
       "      <th>Product_ID</th>\n",
       "      <th>Purchase</th>\n",
       "      <th>Stay_In_Current_City_Years</th>\n",
       "      <th>User_ID</th>\n",
       "    </tr>\n",
       "  </thead>\n",
       "  <tbody>\n",
       "    <tr>\n",
       "      <th>0</th>\n",
       "      <td>0-17</td>\n",
       "      <td>A</td>\n",
       "      <td>F</td>\n",
       "      <td>0</td>\n",
       "      <td>10</td>\n",
       "      <td>3</td>\n",
       "      <td>NaN</td>\n",
       "      <td>NaN</td>\n",
       "      <td>P00069042</td>\n",
       "      <td>8370.0</td>\n",
       "      <td>2</td>\n",
       "      <td>1000001</td>\n",
       "    </tr>\n",
       "    <tr>\n",
       "      <th>1</th>\n",
       "      <td>0-17</td>\n",
       "      <td>A</td>\n",
       "      <td>F</td>\n",
       "      <td>0</td>\n",
       "      <td>10</td>\n",
       "      <td>1</td>\n",
       "      <td>6.0</td>\n",
       "      <td>14.0</td>\n",
       "      <td>P00248942</td>\n",
       "      <td>15200.0</td>\n",
       "      <td>2</td>\n",
       "      <td>1000001</td>\n",
       "    </tr>\n",
       "    <tr>\n",
       "      <th>2</th>\n",
       "      <td>0-17</td>\n",
       "      <td>A</td>\n",
       "      <td>F</td>\n",
       "      <td>0</td>\n",
       "      <td>10</td>\n",
       "      <td>12</td>\n",
       "      <td>NaN</td>\n",
       "      <td>NaN</td>\n",
       "      <td>P00087842</td>\n",
       "      <td>1422.0</td>\n",
       "      <td>2</td>\n",
       "      <td>1000001</td>\n",
       "    </tr>\n",
       "    <tr>\n",
       "      <th>3</th>\n",
       "      <td>0-17</td>\n",
       "      <td>A</td>\n",
       "      <td>F</td>\n",
       "      <td>0</td>\n",
       "      <td>10</td>\n",
       "      <td>12</td>\n",
       "      <td>14.0</td>\n",
       "      <td>NaN</td>\n",
       "      <td>P00085442</td>\n",
       "      <td>1057.0</td>\n",
       "      <td>2</td>\n",
       "      <td>1000001</td>\n",
       "    </tr>\n",
       "    <tr>\n",
       "      <th>4</th>\n",
       "      <td>55+</td>\n",
       "      <td>C</td>\n",
       "      <td>M</td>\n",
       "      <td>0</td>\n",
       "      <td>16</td>\n",
       "      <td>8</td>\n",
       "      <td>NaN</td>\n",
       "      <td>NaN</td>\n",
       "      <td>P00285442</td>\n",
       "      <td>7969.0</td>\n",
       "      <td>4+</td>\n",
       "      <td>1000002</td>\n",
       "    </tr>\n",
       "  </tbody>\n",
       "</table>\n",
       "</div>"
      ],
      "text/plain": [
       "    Age City_Category Gender  Marital_Status  Occupation  Product_Category_1  \\\n",
       "0  0-17             A      F               0          10                   3   \n",
       "1  0-17             A      F               0          10                   1   \n",
       "2  0-17             A      F               0          10                  12   \n",
       "3  0-17             A      F               0          10                  12   \n",
       "4   55+             C      M               0          16                   8   \n",
       "\n",
       "   Product_Category_2  Product_Category_3 Product_ID  Purchase  \\\n",
       "0                 NaN                 NaN  P00069042    8370.0   \n",
       "1                 6.0                14.0  P00248942   15200.0   \n",
       "2                 NaN                 NaN  P00087842    1422.0   \n",
       "3                14.0                 NaN  P00085442    1057.0   \n",
       "4                 NaN                 NaN  P00285442    7969.0   \n",
       "\n",
       "  Stay_In_Current_City_Years  User_ID  \n",
       "0                          2  1000001  \n",
       "1                          2  1000001  \n",
       "2                          2  1000001  \n",
       "3                          2  1000001  \n",
       "4                         4+  1000002  "
      ]
     },
     "execution_count": 359,
     "metadata": {},
     "output_type": "execute_result"
    }
   ],
   "source": [
    "df.head()"
   ]
  },
  {
   "cell_type": "code",
   "execution_count": 360,
   "metadata": {
    "ExecuteTime": {
     "end_time": "2020-07-23T10:28:37.158391Z",
     "start_time": "2020-07-23T10:28:36.931718Z"
    }
   },
   "outputs": [],
   "source": [
    "df.drop('User_ID',axis=1,inplace=True)"
   ]
  },
  {
   "cell_type": "code",
   "execution_count": 361,
   "metadata": {
    "ExecuteTime": {
     "end_time": "2020-07-23T10:28:40.937917Z",
     "start_time": "2020-07-23T10:28:39.883579Z"
    }
   },
   "outputs": [],
   "source": [
    "df['Product_ID']=df['Product_ID'].str.replace('P00','')"
   ]
  },
  {
   "cell_type": "code",
   "execution_count": 362,
   "metadata": {
    "ExecuteTime": {
     "end_time": "2020-07-23T10:28:43.652248Z",
     "start_time": "2020-07-23T10:28:43.624359Z"
    }
   },
   "outputs": [],
   "source": [
    "def null_valuetreat(df):\n",
    "    null_value_table=df.isna().sum()/df.shape[0]*100\n",
    "    print('Total columns are:',null_value_table)\n",
    "    retained_column=null_value_table[null_value_table<int(input())].index\n",
    "    print('The retained_columns are:',retained_column)\n",
    "    df.drop('Product_Category_3',axis=1,inplace=True)\n",
    "    drop_column=null_value_table[null_value_table>int(input())].index\n",
    "    print('The columns to be dropped are:',drop_column)\n",
    "    numerical=[i for i in df if df[i].dtypes!='O']\n",
    "    print('The numerical columns are:',numerical)\n",
    "    cat=[i for i in df if df[i].dtypes=='O']\n",
    "    print('The categorical columns are:',cat)\n",
    "    #Lets check the discrete and continous variables in numerical\n",
    "    discrete=[i for i in df.columns if len(df[i].unique())<25]\n",
    "    print('The discrete number of columns are:',len(discrete))\n",
    "    print('The discrete columns are:',discrete)\n",
    "    discrete_with_nan=[i for i in discrete if df[i].isna().sum()/df.shape[0]*100]\n",
    "    print('The discrete_with_nan columns are:',discrete_with_nan)\n",
    "    for i in discrete_with_nan:\n",
    "        df[i].fillna(df[i].mean(),inplace=True)\n",
    "    continous=[i for i in df.columns if len(df[i].unique())>25]\n",
    "    print('The continous number of columns are:',len(continous))\n",
    "    print('continous columns are:',continous)\n",
    "    for i in continous:\n",
    "        df[i].fillna(df[i].median(),inplace=True)\n",
    "    return df,cat,numerical,discrete,continous"
   ]
  },
  {
   "cell_type": "code",
   "execution_count": 363,
   "metadata": {
    "ExecuteTime": {
     "end_time": "2020-07-23T10:28:51.103505Z",
     "start_time": "2020-07-23T10:28:46.455666Z"
    }
   },
   "outputs": [
    {
     "name": "stdout",
     "output_type": "stream",
     "text": [
      "Total columns are: Age                            0.000000\n",
      "City_Category                  0.000000\n",
      "Gender                         0.000000\n",
      "Marital_Status                 0.000000\n",
      "Occupation                     0.000000\n",
      "Product_Category_1             0.000000\n",
      "Product_Category_2            31.388587\n",
      "Product_Category_3            69.648078\n",
      "Product_ID                     0.000000\n",
      "Purchase                      29.808452\n",
      "Stay_In_Current_City_Years     0.000000\n",
      "dtype: float64\n",
      "30\n",
      "The retained_columns are: Index(['Age', 'City_Category', 'Gender', 'Marital_Status', 'Occupation',\n",
      "       'Product_Category_1', 'Product_ID', 'Purchase',\n",
      "       'Stay_In_Current_City_Years'],\n",
      "      dtype='object')\n",
      "30\n",
      "The columns to be dropped are: Index(['Product_Category_2', 'Product_Category_3'], dtype='object')\n",
      "The numerical columns are: ['Marital_Status', 'Occupation', 'Product_Category_1', 'Product_Category_2', 'Purchase']\n",
      "The categorical columns are: ['Age', 'City_Category', 'Gender', 'Product_ID', 'Stay_In_Current_City_Years']\n",
      "The discrete number of columns are: 8\n",
      "The discrete columns are: ['Age', 'City_Category', 'Gender', 'Marital_Status', 'Occupation', 'Product_Category_1', 'Product_Category_2', 'Stay_In_Current_City_Years']\n",
      "The discrete_with_nan columns are: ['Product_Category_2']\n",
      "The continous number of columns are: 2\n",
      "continous columns are: ['Product_ID', 'Purchase']\n"
     ]
    }
   ],
   "source": [
    "df,cat,numerical,discrete,continous=null_valuetreat(df)"
   ]
  },
  {
   "cell_type": "code",
   "execution_count": 364,
   "metadata": {
    "ExecuteTime": {
     "end_time": "2020-07-23T10:28:54.434832Z",
     "start_time": "2020-07-23T10:28:54.114517Z"
    }
   },
   "outputs": [
    {
     "data": {
      "text/plain": [
       "Age                           0\n",
       "City_Category                 0\n",
       "Gender                        0\n",
       "Marital_Status                0\n",
       "Occupation                    0\n",
       "Product_Category_1            0\n",
       "Product_Category_2            0\n",
       "Product_ID                    0\n",
       "Purchase                      0\n",
       "Stay_In_Current_City_Years    0\n",
       "dtype: int64"
      ]
     },
     "execution_count": 364,
     "metadata": {},
     "output_type": "execute_result"
    }
   ],
   "source": [
    "df.isna().sum()"
   ]
  },
  {
   "cell_type": "code",
   "execution_count": 365,
   "metadata": {
    "ExecuteTime": {
     "end_time": "2020-07-23T10:28:57.582191Z",
     "start_time": "2020-07-23T10:28:57.065586Z"
    }
   },
   "outputs": [
    {
     "data": {
      "text/plain": [
       "0    590031\n",
       "1    193636\n",
       "Name: Gender, dtype: int64"
      ]
     },
     "execution_count": 365,
     "metadata": {},
     "output_type": "execute_result"
    }
   ],
   "source": [
    "#Lets do some encoding\n",
    "gender_dict={'M':0,'F':1}\n",
    "df['Gender']=df['Gender'].apply(lambda x:gender_dict[x])\n",
    "df['Gender'].value_counts()"
   ]
  },
  {
   "cell_type": "code",
   "execution_count": 366,
   "metadata": {
    "ExecuteTime": {
     "end_time": "2020-07-23T10:29:00.683368Z",
     "start_time": "2020-07-23T10:29:00.210374Z"
    }
   },
   "outputs": [
    {
     "data": {
      "text/plain": [
       "1    329739\n",
       "2    243684\n",
       "0    210244\n",
       "Name: City_Category, dtype: int64"
      ]
     },
     "execution_count": 366,
     "metadata": {},
     "output_type": "execute_result"
    }
   ],
   "source": [
    "city_dict = {'A':0, 'B':1, 'C':2}\n",
    "df['City_Category'] = df['City_Category'].apply(lambda line: city_dict[line])\n",
    "df['City_Category'].value_counts()"
   ]
  },
  {
   "cell_type": "code",
   "execution_count": 367,
   "metadata": {
    "ExecuteTime": {
     "end_time": "2020-07-23T10:29:03.573626Z",
     "start_time": "2020-07-23T10:29:03.285368Z"
    }
   },
   "outputs": [],
   "source": [
    "df=pd.get_dummies(df,columns=['Stay_In_Current_City_Years'])"
   ]
  },
  {
   "cell_type": "code",
   "execution_count": 368,
   "metadata": {
    "ExecuteTime": {
     "end_time": "2020-07-23T10:29:06.484118Z",
     "start_time": "2020-07-23T10:29:06.019966Z"
    }
   },
   "outputs": [],
   "source": [
    "Age={'0-17':0,'18-25':1,'26-35':2,'36-45':3,'46-50':4,'51-55':5,'55+':6}\n",
    "df['Age']=df['Age'].apply(lambda x:Age[x])"
   ]
  },
  {
   "cell_type": "code",
   "execution_count": 369,
   "metadata": {
    "ExecuteTime": {
     "end_time": "2020-07-23T10:29:08.816777Z",
     "start_time": "2020-07-23T10:29:08.812806Z"
    }
   },
   "outputs": [],
   "source": [
    "#df=pd.get_dummies(df,columns=['City_Category'])"
   ]
  },
  {
   "cell_type": "code",
   "execution_count": 370,
   "metadata": {
    "ExecuteTime": {
     "end_time": "2020-07-23T10:29:11.825637Z",
     "start_time": "2020-07-23T10:29:11.568227Z"
    }
   },
   "outputs": [],
   "source": [
    "df=pd.get_dummies(df,columns=['Gender'])"
   ]
  },
  {
   "cell_type": "code",
   "execution_count": 371,
   "metadata": {
    "ExecuteTime": {
     "end_time": "2020-07-23T10:29:14.699553Z",
     "start_time": "2020-07-23T10:29:14.696248Z"
    }
   },
   "outputs": [],
   "source": [
    "#df=pd.get_dummies(df,columns=['Age'])"
   ]
  },
  {
   "cell_type": "code",
   "execution_count": 372,
   "metadata": {
    "ExecuteTime": {
     "end_time": "2020-07-23T10:29:17.588164Z",
     "start_time": "2020-07-23T10:29:17.379076Z"
    }
   },
   "outputs": [],
   "source": [
    "df=pd.get_dummies(df,columns=['Marital_Status'])"
   ]
  },
  {
   "cell_type": "code",
   "execution_count": 373,
   "metadata": {
    "ExecuteTime": {
     "end_time": "2020-07-23T10:29:20.072895Z",
     "start_time": "2020-07-23T10:29:20.055910Z"
    }
   },
   "outputs": [
    {
     "data": {
      "text/html": [
       "<div>\n",
       "<style scoped>\n",
       "    .dataframe tbody tr th:only-of-type {\n",
       "        vertical-align: middle;\n",
       "    }\n",
       "\n",
       "    .dataframe tbody tr th {\n",
       "        vertical-align: top;\n",
       "    }\n",
       "\n",
       "    .dataframe thead th {\n",
       "        text-align: right;\n",
       "    }\n",
       "</style>\n",
       "<table border=\"1\" class=\"dataframe\">\n",
       "  <thead>\n",
       "    <tr style=\"text-align: right;\">\n",
       "      <th></th>\n",
       "      <th>Age</th>\n",
       "      <th>City_Category</th>\n",
       "      <th>Occupation</th>\n",
       "      <th>Product_Category_1</th>\n",
       "      <th>Product_Category_2</th>\n",
       "      <th>Product_ID</th>\n",
       "      <th>Purchase</th>\n",
       "      <th>Stay_In_Current_City_Years_0</th>\n",
       "      <th>Stay_In_Current_City_Years_1</th>\n",
       "      <th>Stay_In_Current_City_Years_2</th>\n",
       "      <th>Stay_In_Current_City_Years_3</th>\n",
       "      <th>Stay_In_Current_City_Years_4+</th>\n",
       "      <th>Gender_0</th>\n",
       "      <th>Gender_1</th>\n",
       "      <th>Marital_Status_0</th>\n",
       "      <th>Marital_Status_1</th>\n",
       "    </tr>\n",
       "  </thead>\n",
       "  <tbody>\n",
       "    <tr>\n",
       "      <th>0</th>\n",
       "      <td>0</td>\n",
       "      <td>0</td>\n",
       "      <td>10</td>\n",
       "      <td>3</td>\n",
       "      <td>9.844506</td>\n",
       "      <td>069042</td>\n",
       "      <td>8370.0</td>\n",
       "      <td>0</td>\n",
       "      <td>0</td>\n",
       "      <td>1</td>\n",
       "      <td>0</td>\n",
       "      <td>0</td>\n",
       "      <td>0</td>\n",
       "      <td>1</td>\n",
       "      <td>1</td>\n",
       "      <td>0</td>\n",
       "    </tr>\n",
       "    <tr>\n",
       "      <th>1</th>\n",
       "      <td>0</td>\n",
       "      <td>0</td>\n",
       "      <td>10</td>\n",
       "      <td>1</td>\n",
       "      <td>6.000000</td>\n",
       "      <td>248942</td>\n",
       "      <td>15200.0</td>\n",
       "      <td>0</td>\n",
       "      <td>0</td>\n",
       "      <td>1</td>\n",
       "      <td>0</td>\n",
       "      <td>0</td>\n",
       "      <td>0</td>\n",
       "      <td>1</td>\n",
       "      <td>1</td>\n",
       "      <td>0</td>\n",
       "    </tr>\n",
       "    <tr>\n",
       "      <th>2</th>\n",
       "      <td>0</td>\n",
       "      <td>0</td>\n",
       "      <td>10</td>\n",
       "      <td>12</td>\n",
       "      <td>9.844506</td>\n",
       "      <td>087842</td>\n",
       "      <td>1422.0</td>\n",
       "      <td>0</td>\n",
       "      <td>0</td>\n",
       "      <td>1</td>\n",
       "      <td>0</td>\n",
       "      <td>0</td>\n",
       "      <td>0</td>\n",
       "      <td>1</td>\n",
       "      <td>1</td>\n",
       "      <td>0</td>\n",
       "    </tr>\n",
       "    <tr>\n",
       "      <th>3</th>\n",
       "      <td>0</td>\n",
       "      <td>0</td>\n",
       "      <td>10</td>\n",
       "      <td>12</td>\n",
       "      <td>14.000000</td>\n",
       "      <td>085442</td>\n",
       "      <td>1057.0</td>\n",
       "      <td>0</td>\n",
       "      <td>0</td>\n",
       "      <td>1</td>\n",
       "      <td>0</td>\n",
       "      <td>0</td>\n",
       "      <td>0</td>\n",
       "      <td>1</td>\n",
       "      <td>1</td>\n",
       "      <td>0</td>\n",
       "    </tr>\n",
       "    <tr>\n",
       "      <th>4</th>\n",
       "      <td>6</td>\n",
       "      <td>2</td>\n",
       "      <td>16</td>\n",
       "      <td>8</td>\n",
       "      <td>9.844506</td>\n",
       "      <td>285442</td>\n",
       "      <td>7969.0</td>\n",
       "      <td>0</td>\n",
       "      <td>0</td>\n",
       "      <td>0</td>\n",
       "      <td>0</td>\n",
       "      <td>1</td>\n",
       "      <td>1</td>\n",
       "      <td>0</td>\n",
       "      <td>1</td>\n",
       "      <td>0</td>\n",
       "    </tr>\n",
       "  </tbody>\n",
       "</table>\n",
       "</div>"
      ],
      "text/plain": [
       "   Age  City_Category  Occupation  Product_Category_1  Product_Category_2  \\\n",
       "0    0              0          10                   3            9.844506   \n",
       "1    0              0          10                   1            6.000000   \n",
       "2    0              0          10                  12            9.844506   \n",
       "3    0              0          10                  12           14.000000   \n",
       "4    6              2          16                   8            9.844506   \n",
       "\n",
       "  Product_ID  Purchase  Stay_In_Current_City_Years_0  \\\n",
       "0     069042    8370.0                             0   \n",
       "1     248942   15200.0                             0   \n",
       "2     087842    1422.0                             0   \n",
       "3     085442    1057.0                             0   \n",
       "4     285442    7969.0                             0   \n",
       "\n",
       "   Stay_In_Current_City_Years_1  Stay_In_Current_City_Years_2  \\\n",
       "0                             0                             1   \n",
       "1                             0                             1   \n",
       "2                             0                             1   \n",
       "3                             0                             1   \n",
       "4                             0                             0   \n",
       "\n",
       "   Stay_In_Current_City_Years_3  Stay_In_Current_City_Years_4+  Gender_0  \\\n",
       "0                             0                              0         0   \n",
       "1                             0                              0         0   \n",
       "2                             0                              0         0   \n",
       "3                             0                              0         0   \n",
       "4                             0                              1         1   \n",
       "\n",
       "   Gender_1  Marital_Status_0  Marital_Status_1  \n",
       "0         1                 1                 0  \n",
       "1         1                 1                 0  \n",
       "2         1                 1                 0  \n",
       "3         1                 1                 0  \n",
       "4         0                 1                 0  "
      ]
     },
     "execution_count": 373,
     "metadata": {},
     "output_type": "execute_result"
    }
   ],
   "source": [
    "df.head()"
   ]
  },
  {
   "cell_type": "code",
   "execution_count": 374,
   "metadata": {
    "ExecuteTime": {
     "end_time": "2020-07-23T10:29:22.852447Z",
     "start_time": "2020-07-23T10:29:22.781668Z"
    }
   },
   "outputs": [],
   "source": [
    "df.drop('Product_ID',axis=1,inplace=True)"
   ]
  },
  {
   "cell_type": "code",
   "execution_count": 375,
   "metadata": {
    "ExecuteTime": {
     "end_time": "2020-07-23T10:29:25.941401Z",
     "start_time": "2020-07-23T10:29:25.193524Z"
    }
   },
   "outputs": [],
   "source": [
    "from sklearn.preprocessing import StandardScaler\n",
    "ss=StandardScaler()\n",
    "df=pd.DataFrame(ss.fit_transform(df),columns=df.columns)"
   ]
  },
  {
   "cell_type": "code",
   "execution_count": 376,
   "metadata": {
    "ExecuteTime": {
     "end_time": "2020-07-23T10:29:28.612619Z",
     "start_time": "2020-07-23T10:29:28.608665Z"
    }
   },
   "outputs": [],
   "source": [
    "#df.cov() # Covariance gives the direction of the relationship, but dont give the strength.\n",
    "#Cov ranges from -inf to +inf. and also doesn't give standardize value"
   ]
  },
  {
   "cell_type": "code",
   "execution_count": 377,
   "metadata": {
    "ExecuteTime": {
     "end_time": "2020-07-23T10:29:31.141132Z",
     "start_time": "2020-07-23T10:29:31.137142Z"
    }
   },
   "outputs": [],
   "source": [
    "#df.corr()"
   ]
  },
  {
   "cell_type": "code",
   "execution_count": 378,
   "metadata": {
    "ExecuteTime": {
     "end_time": "2020-07-23T10:29:33.707971Z",
     "start_time": "2020-07-23T10:29:33.700964Z"
    }
   },
   "outputs": [],
   "source": [
    "#df.corr(method='spearman')"
   ]
  },
  {
   "cell_type": "code",
   "execution_count": 379,
   "metadata": {
    "ExecuteTime": {
     "end_time": "2020-07-23T10:29:37.097722Z",
     "start_time": "2020-07-23T10:29:36.303927Z"
    }
   },
   "outputs": [
    {
     "data": {
      "text/plain": [
       "Text(0.5, 1.0, 'Purchase amount distribution')"
      ]
     },
     "execution_count": 379,
     "metadata": {},
     "output_type": "execute_result"
    },
    {
     "data": {
      "image/png": "[encoded data removed]",
      "text/plain": [
       "<Figure size 360x360 with 1 Axes>"
      ]
     },
     "metadata": {
      "needs_background": "light"
     },
     "output_type": "display_data"
    }
   ],
   "source": [
    "import matplotlib.pyplot as plt\n",
    "import seaborn as sns\n",
    "plt.figure(figsize=(5,5))\n",
    "sns.distplot(df['Purchase'],kde=True,bins=50)\n",
    "plt.xlabel('Amount spent in purchase')\n",
    "plt.ylabel('No of buyers')\n",
    "plt.title('Purchase amount distribution')"
   ]
  },
  {
   "cell_type": "code",
   "execution_count": 380,
   "metadata": {
    "ExecuteTime": {
     "end_time": "2020-07-23T10:29:39.746767Z",
     "start_time": "2020-07-23T10:29:39.735739Z"
    }
   },
   "outputs": [],
   "source": [
    "y=df[['Purchase']]\n",
    "x=df"
   ]
  },
  {
   "cell_type": "code",
   "execution_count": 381,
   "metadata": {
    "ExecuteTime": {
     "end_time": "2020-07-23T10:29:42.377009Z",
     "start_time": "2020-07-23T10:29:42.297666Z"
    }
   },
   "outputs": [],
   "source": [
    "x.drop('Purchase',axis=1,inplace=True)"
   ]
  },
  {
   "cell_type": "code",
   "execution_count": 382,
   "metadata": {
    "ExecuteTime": {
     "end_time": "2020-07-23T10:29:45.076833Z",
     "start_time": "2020-07-23T10:29:44.756852Z"
    }
   },
   "outputs": [],
   "source": [
    "from sklearn.model_selection import train_test_split\n",
    "x_train,x_test,y_train,y_test=train_test_split(x,y,test_size=0.3)"
   ]
  },
  {
   "cell_type": "code",
   "execution_count": 383,
   "metadata": {
    "ExecuteTime": {
     "end_time": "2020-07-23T10:29:47.872276Z",
     "start_time": "2020-07-23T10:29:47.863584Z"
    }
   },
   "outputs": [
    {
     "data": {
      "text/plain": [
       "((548566, 14), (235101, 14), (548566, 1), (235101, 1))"
      ]
     },
     "execution_count": 383,
     "metadata": {},
     "output_type": "execute_result"
    }
   ],
   "source": [
    "x_train.shape,x_test.shape,y_train.shape,y_test.shape"
   ]
  },
  {
   "cell_type": "code",
   "execution_count": 384,
   "metadata": {
    "ExecuteTime": {
     "end_time": "2020-07-23T10:29:51.268918Z",
     "start_time": "2020-07-23T10:29:50.725045Z"
    }
   },
   "outputs": [],
   "source": [
    "from sklearn.linear_model import LinearRegression,Lasso,Ridge\n",
    "LR=LinearRegression()\n",
    "LR.fit(x_train,y_train)\n",
    "y_hat=LR.predict(x_train)"
   ]
  },
  {
   "cell_type": "code",
   "execution_count": 385,
   "metadata": {
    "ExecuteTime": {
     "end_time": "2020-07-23T10:29:54.451517Z",
     "start_time": "2020-07-23T10:29:54.435580Z"
    }
   },
   "outputs": [
    {
     "data": {
      "text/plain": [
       "array([[ 2.77913431e-02,  4.24492548e-02,  7.42076155e-03,\n",
       "        -2.69049749e-01, -4.66466238e-02, -4.96731855e+09,\n",
       "        -6.94782323e+09, -5.65284438e+09, -5.49761482e+09,\n",
       "        -5.24818829e+09, -6.59630064e+10, -6.59630064e+10,\n",
       "        -2.41527238e+10, -2.41527238e+10]])"
      ]
     },
     "execution_count": 385,
     "metadata": {},
     "output_type": "execute_result"
    }
   ],
   "source": [
    "LR.coef_"
   ]
  },
  {
   "cell_type": "code",
   "execution_count": 386,
   "metadata": {
    "ExecuteTime": {
     "end_time": "2020-07-23T10:29:57.012539Z",
     "start_time": "2020-07-23T10:29:57.002911Z"
    }
   },
   "outputs": [
    {
     "data": {
      "text/plain": [
       "array([0.00050337])"
      ]
     },
     "execution_count": 386,
     "metadata": {},
     "output_type": "execute_result"
    }
   ],
   "source": [
    "LR.intercept_"
   ]
  },
  {
   "cell_type": "code",
   "execution_count": 387,
   "metadata": {
    "ExecuteTime": {
     "end_time": "2020-07-23T10:29:59.729656Z",
     "start_time": "2020-07-23T10:29:59.683780Z"
    }
   },
   "outputs": [
    {
     "data": {
      "text/plain": [
       "8.88451867297272"
      ]
     },
     "execution_count": 387,
     "metadata": {},
     "output_type": "execute_result"
    }
   ],
   "source": [
    "from sklearn.metrics import mean_squared_error,mean_absolute_error,r2_score\n",
    "score=r2_score(y_train,y_hat)*100\n",
    "score"
   ]
  },
  {
   "cell_type": "code",
   "execution_count": 388,
   "metadata": {
    "ExecuteTime": {
     "end_time": "2020-07-23T10:30:02.717177Z",
     "start_time": "2020-07-23T10:30:02.714184Z"
    }
   },
   "outputs": [],
   "source": [
    "#import scipy.stats as stats\n",
    "#stats.probplot(df['Purchase'],dist='norm',plot=plt)"
   ]
  },
  {
   "cell_type": "code",
   "execution_count": 389,
   "metadata": {
    "ExecuteTime": {
     "end_time": "2020-07-23T10:30:05.614371Z",
     "start_time": "2020-07-23T10:30:05.330662Z"
    }
   },
   "outputs": [],
   "source": [
    "lasso=Lasso()\n",
    "lasso.fit(x_train,y_train)\n",
    "y_lasso_pred=lasso.predict(x_train)"
   ]
  },
  {
   "cell_type": "code",
   "execution_count": 390,
   "metadata": {
    "ExecuteTime": {
     "end_time": "2020-07-23T10:30:08.434598Z",
     "start_time": "2020-07-23T10:30:08.388724Z"
    }
   },
   "outputs": [
    {
     "data": {
      "text/plain": [
       "0.0"
      ]
     },
     "execution_count": 390,
     "metadata": {},
     "output_type": "execute_result"
    }
   ],
   "source": [
    "from sklearn.metrics import mean_squared_error,mean_absolute_error,r2_score\n",
    "score=r2_score(y_train,y_lasso_pred)\n",
    "score"
   ]
  },
  {
   "cell_type": "code",
   "execution_count": 391,
   "metadata": {
    "ExecuteTime": {
     "end_time": "2020-07-23T10:30:11.386724Z",
     "start_time": "2020-07-23T10:30:11.375755Z"
    }
   },
   "outputs": [
    {
     "data": {
      "text/plain": [
       "array([ 0.,  0.,  0., -0., -0., -0., -0.,  0.,  0.,  0.,  0., -0.,  0.,\n",
       "       -0.])"
      ]
     },
     "execution_count": 391,
     "metadata": {},
     "output_type": "execute_result"
    }
   ],
   "source": [
    "lasso.coef_"
   ]
  },
  {
   "cell_type": "code",
   "execution_count": 392,
   "metadata": {
    "ExecuteTime": {
     "end_time": "2020-07-23T10:30:14.354038Z",
     "start_time": "2020-07-23T10:30:14.345058Z"
    }
   },
   "outputs": [
    {
     "data": {
      "text/plain": [
       "array([0.00031161])"
      ]
     },
     "execution_count": 392,
     "metadata": {},
     "output_type": "execute_result"
    }
   ],
   "source": [
    "lasso.intercept_"
   ]
  },
  {
   "cell_type": "code",
   "execution_count": 393,
   "metadata": {
    "ExecuteTime": {
     "end_time": "2020-07-23T10:30:17.336936Z",
     "start_time": "2020-07-23T10:30:17.330951Z"
    }
   },
   "outputs": [],
   "source": [
    "import statsmodels.api as sm"
   ]
  },
  {
   "cell_type": "code",
   "execution_count": 394,
   "metadata": {
    "ExecuteTime": {
     "end_time": "2020-07-23T10:30:20.446281Z",
     "start_time": "2020-07-23T10:30:20.017368Z"
    }
   },
   "outputs": [],
   "source": [
    "x_train=sm.add_constant(x_train)\n",
    "model=sm.OLS(y_train,x_train.astype(float))"
   ]
  },
  {
   "cell_type": "code",
   "execution_count": 395,
   "metadata": {
    "ExecuteTime": {
     "end_time": "2020-07-23T10:30:24.166769Z",
     "start_time": "2020-07-23T10:30:23.216027Z"
    }
   },
   "outputs": [
    {
     "data": {
      "text/plain": [
       "const                            4.860550e-04\n",
       "Age                              2.761914e-02\n",
       "City_Category                    4.244245e-02\n",
       "Occupation                       7.500425e-03\n",
       "Product_Category_1              -2.690778e-01\n",
       "Product_Category_2              -4.663905e-02\n",
       "Stay_In_Current_City_Years_0     7.331838e+09\n",
       "Stay_In_Current_City_Years_1     1.025509e+10\n",
       "Stay_In_Current_City_Years_2     8.343684e+09\n",
       "Stay_In_Current_City_Years_3     8.114563e+09\n",
       "Stay_In_Current_City_Years_4+    7.746406e+09\n",
       "Gender_0                        -1.836737e+08\n",
       "Gender_1                        -1.836737e+08\n",
       "Marital_Status_0                -2.569396e+08\n",
       "Marital_Status_1                -2.569396e+08\n",
       "dtype: float64"
      ]
     },
     "execution_count": 395,
     "metadata": {},
     "output_type": "execute_result"
    }
   ],
   "source": [
    "results=model.fit()\n",
    "results.params"
   ]
  },
  {
   "cell_type": "code",
   "execution_count": 396,
   "metadata": {
    "ExecuteTime": {
     "end_time": "2020-07-23T10:30:27.189323Z",
     "start_time": "2020-07-23T10:30:26.953302Z"
    }
   },
   "outputs": [
    {
     "name": "stdout",
     "output_type": "stream",
     "text": [
      "                            OLS Regression Results                            \n",
      "==============================================================================\n",
      "Dep. Variable:               Purchase   R-squared:                       0.089\n",
      "Model:                            OLS   Adj. R-squared:                  0.089\n",
      "Method:                 Least Squares   F-statistic:                     4862.\n",
      "Date:                Thu, 23 Jul 2020   Prob (F-statistic):               0.00\n",
      "Time:                        16:00:27   Log-Likelihood:            -7.5297e+05\n",
      "No. Observations:              548566   AIC:                         1.506e+06\n",
      "Df Residuals:                  548554   BIC:                         1.506e+06\n",
      "Df Model:                          11                                         \n",
      "Covariance Type:            nonrobust                                         \n",
      "=================================================================================================\n",
      "                                    coef    std err          t      P>|t|      [0.025      0.975]\n",
      "-------------------------------------------------------------------------------------------------\n",
      "const                             0.0005      0.001      0.366      0.715      -0.002       0.003\n",
      "Age                               0.0276      0.002     15.728      0.000       0.024       0.031\n",
      "City_Category                     0.0424      0.001     32.516      0.000       0.040       0.045\n",
      "Occupation                        0.0075      0.001      5.730      0.000       0.005       0.010\n",
      "Product_Category_1               -0.2691      0.001   -192.544      0.000      -0.272      -0.266\n",
      "Product_Category_2               -0.0466      0.001    -33.442      0.000      -0.049      -0.044\n",
      "Stay_In_Current_City_Years_0   7.332e+09   2.09e+11      0.035      0.972   -4.03e+11    4.17e+11\n",
      "Stay_In_Current_City_Years_1   1.026e+10   2.93e+11      0.035      0.972   -5.63e+11    5.84e+11\n",
      "Stay_In_Current_City_Years_2   8.344e+09   2.38e+11      0.035      0.972   -4.58e+11    4.75e+11\n",
      "Stay_In_Current_City_Years_3   8.115e+09   2.32e+11      0.035      0.972   -4.46e+11    4.62e+11\n",
      "Stay_In_Current_City_Years_4+  7.746e+09   2.21e+11      0.035      0.972   -4.25e+11    4.41e+11\n",
      "Gender_0                      -1.837e+08   5.24e+09     -0.035      0.972   -1.05e+10    1.01e+10\n",
      "Gender_1                      -1.837e+08   5.24e+09     -0.035      0.972   -1.05e+10    1.01e+10\n",
      "Marital_Status_0              -2.569e+08   7.33e+09     -0.035      0.972   -1.46e+10    1.41e+10\n",
      "Marital_Status_1              -2.569e+08   7.33e+09     -0.035      0.972   -1.46e+10    1.41e+10\n",
      "==============================================================================\n",
      "Omnibus:                    99246.411   Durbin-Watson:                   1.998\n",
      "Prob(Omnibus):                  0.000   Jarque-Bera (JB):           185505.878\n",
      "Skew:                           1.131   Prob(JB):                         0.00\n",
      "Kurtosis:                       4.731   Cond. No.                     1.29e+16\n",
      "==============================================================================\n",
      "\n",
      "Warnings:\n",
      "[1] Standard Errors assume that the covariance matrix of the errors is correctly specified.\n",
      "[2] The smallest eigenvalue is 7.27e-27. This might indicate that there are\n",
      "strong multicollinearity problems or that the design matrix is singular.\n"
     ]
    }
   ],
   "source": [
    "print(results.summary())"
   ]
  },
  {
   "cell_type": "code",
   "execution_count": 397,
   "metadata": {
    "ExecuteTime": {
     "end_time": "2020-07-23T10:31:44.782847Z",
     "start_time": "2020-07-23T10:30:29.905759Z"
    }
   },
   "outputs": [
    {
     "name": "stdout",
     "output_type": "stream",
     "text": [
      "[16:00:30] WARNING: C:/Jenkins/workspace/xgboost-win64_release_0.90/src/objective/regression_obj.cu:152: reg:linear is now deprecated in favor of reg:squarederror.\n"
     ]
    }
   ],
   "source": [
    "from xgboost import XGBRegressor\n",
    "xgb=XGBRegressor()\n",
    "xgb.fit(x_train,y_train)\n",
    "y_train_hat=xgb.predict(x_train)"
   ]
  },
  {
   "cell_type": "code",
   "execution_count": 398,
   "metadata": {
    "ExecuteTime": {
     "end_time": "2020-07-23T10:31:47.712517Z",
     "start_time": "2020-07-23T10:31:47.668509Z"
    }
   },
   "outputs": [
    {
     "data": {
      "text/plain": [
       "0.4485407967431714"
      ]
     },
     "execution_count": 398,
     "metadata": {},
     "output_type": "execute_result"
    }
   ],
   "source": [
    "from sklearn.metrics import mean_squared_error,mean_absolute_error,r2_score\n",
    "score=r2_score(y_train,y_train_hat)\n",
    "score"
   ]
  },
  {
   "cell_type": "markdown",
   "metadata": {
    "ExecuteTime": {
     "end_time": "2020-07-23T06:07:46.158733Z",
     "start_time": "2020-07-23T06:07:46.146766Z"
    }
   },
   "source": [
    "### As seen Linear and Lasso doesn't perform well, but XGB made good perform."
   ]
  },
  {
   "cell_type": "markdown",
   "metadata": {},
   "source": [
    "#### ///////////////////////////////////////////////////////////////////\n",
    "Lets Start Neural Network with different layers"
   ]
  },
  {
   "cell_type": "code",
   "execution_count": 411,
   "metadata": {
    "ExecuteTime": {
     "end_time": "2020-07-23T10:33:18.857702Z",
     "start_time": "2020-07-23T10:33:18.852297Z"
    }
   },
   "outputs": [
    {
     "data": {
      "text/plain": [
       "((783667, 14), (783667, 1))"
      ]
     },
     "execution_count": 411,
     "metadata": {},
     "output_type": "execute_result"
    }
   ],
   "source": [
    "x.shape,y.shape"
   ]
  },
  {
   "cell_type": "code",
   "execution_count": 412,
   "metadata": {
    "ExecuteTime": {
     "end_time": "2020-07-23T10:33:21.578006Z",
     "start_time": "2020-07-23T10:33:21.573018Z"
    }
   },
   "outputs": [],
   "source": [
    "def layer_sizes(x,y):\n",
    "    n_x=x.shape[1]\n",
    "    n_h=10\n",
    "    n_y=y.shape[1]\n",
    "    return(n_x,n_h,n_y)"
   ]
  },
  {
   "cell_type": "code",
   "execution_count": 413,
   "metadata": {
    "ExecuteTime": {
     "end_time": "2020-07-23T10:33:24.980358Z",
     "start_time": "2020-07-23T10:33:24.971872Z"
    }
   },
   "outputs": [
    {
     "name": "stdout",
     "output_type": "stream",
     "text": [
      "The size of the input layer is: n_x = 14\n",
      "The size of the hidden layer is: n_h = 10\n",
      "The size of the output layer is: n_y = 1\n"
     ]
    }
   ],
   "source": [
    "n_x,n_h,n_y=layer_sizes(x,y)\n",
    "print(\"The size of the input layer is: n_x = \" + str(n_x))\n",
    "print(\"The size of the hidden layer is: n_h = \" + str(n_h))\n",
    "print(\"The size of the output layer is: n_y = \" + str(n_y))"
   ]
  },
  {
   "cell_type": "code",
   "execution_count": 414,
   "metadata": {
    "ExecuteTime": {
     "end_time": "2020-07-23T10:33:27.635545Z",
     "start_time": "2020-07-23T10:33:27.626568Z"
    }
   },
   "outputs": [],
   "source": [
    "def initialize_parameters(n_x,n_h,n_y):\n",
    "    W1=np.random.randn(n_h,n_x)*0.01\n",
    "    b1=np.zeros((n_h,1))\n",
    "    W2=np.random.randn(n_y,n_h)*0.01\n",
    "    b2=np.zeros((n_y,1))\n",
    "    \n",
    "    assert(W1.shape==(n_h,n_x))\n",
    "    assert(b1.shape==(n_h,1))\n",
    "    assert(W2.shape==(n_y,n_h))\n",
    "    assert(b2.shape==(n_y,1))\n",
    "    \n",
    "    parameters={'W1':W1,'b1':b1,'W2':W2,'b2':b2}\n",
    "    \n",
    "    return parameters"
   ]
  },
  {
   "cell_type": "code",
   "execution_count": 415,
   "metadata": {
    "ExecuteTime": {
     "end_time": "2020-07-23T10:33:30.233437Z",
     "start_time": "2020-07-23T10:33:30.220469Z"
    }
   },
   "outputs": [],
   "source": [
    "parameters=initialize_parameters(n_x,n_h,n_y)"
   ]
  },
  {
   "cell_type": "code",
   "execution_count": 416,
   "metadata": {
    "ExecuteTime": {
     "end_time": "2020-07-23T10:33:32.847724Z",
     "start_time": "2020-07-23T10:33:32.834759Z"
    }
   },
   "outputs": [
    {
     "data": {
      "text/plain": [
       "{'W1': array([[ 0.0059982 ,  0.00549384,  0.01383781,  0.00148349, -0.00653541,\n",
       "          0.01408834,  0.00712061, -0.01800716,  0.00747599, -0.00232897,\n",
       "          0.01110645, -0.00373339,  0.00786146,  0.00194169],\n",
       "        [ 0.00586204, -0.00020387, -0.00414409,  0.00067313,  0.00631799,\n",
       "          0.00417593,  0.01615176,  0.00425606,  0.00635364,  0.02102229,\n",
       "          0.00066126,  0.00535558, -0.00603141,  0.00041958],\n",
       "        [ 0.01641915,  0.00311698,  0.0145117 , -0.01064928, -0.01400845,\n",
       "          0.00307526, -0.01369639,  0.02670337,  0.0124845 , -0.01245727,\n",
       "         -0.00167169, -0.00576611,  0.00416022, -0.00057847],\n",
       "        [ 0.00931887,  0.01468332, -0.00221321, -0.01173156,  0.00562669,\n",
       "         -0.00164515,  0.01144855, -0.00152118,  0.00829789,  0.00336066,\n",
       "         -0.00189044, -0.00449329,  0.00713524,  0.02529735],\n",
       "        [ 0.00837616, -0.00131682,  0.00707593,  0.00114054, -0.01280895,\n",
       "          0.00309846,  0.01548291, -0.00315828, -0.01125904,  0.00488497,\n",
       "          0.01830947,  0.00940176,  0.01018717,  0.02302378],\n",
       "        [ 0.01621093,  0.00712683, -0.00208704,  0.00137618, -0.00103352,\n",
       "          0.00848351, -0.00883126,  0.01545387,  0.0014584 , -0.00400106,\n",
       "          0.00815206, -0.02074922, -0.00834437, -0.00657718],\n",
       "        [ 0.00820564, -0.00489157,  0.01424967, -0.00446858,  0.00521109,\n",
       "         -0.00708194,  0.01155531, -0.0025453 ,  0.00518925, -0.00492995,\n",
       "         -0.01086548, -0.00230917,  0.0109801 , -0.01017878],\n",
       "        [-0.01529391, -0.00307988,  0.00780754, -0.0105584 , -0.00543883,\n",
       "          0.00184302, -0.00330676,  0.00287208,  0.01189528,  0.00021202,\n",
       "         -0.0006541 ,  0.00766116, -0.00061635, -0.00952897],\n",
       "        [-0.01014463, -0.01115264,  0.01912601, -0.00045263,  0.0057691 ,\n",
       "          0.00717806, -0.00938999,  0.00628776, -0.00564493, -0.02087807,\n",
       "         -0.0021505 , -0.01075029, -0.00337972,  0.00343213],\n",
       "        [ 0.0228254 , -0.00495779, -0.00163963,  0.00371622,  0.00186522,\n",
       "         -0.00158429, -0.0108293 , -0.00956626, -0.00183377, -0.01159807,\n",
       "         -0.00657768, -0.01251448,  0.01124483, -0.0149784 ]]),\n",
       " 'b1': array([[0.],\n",
       "        [0.],\n",
       "        [0.],\n",
       "        [0.],\n",
       "        [0.],\n",
       "        [0.],\n",
       "        [0.],\n",
       "        [0.],\n",
       "        [0.],\n",
       "        [0.]]),\n",
       " 'W2': array([[ 0.01902017, -0.00580383, -0.01054916, -0.01182757,  0.0077948 ,\n",
       "          0.01026598, -0.00848666,  0.0033154 , -0.00149591, -0.00242441]]),\n",
       " 'b2': array([[0.]])}"
      ]
     },
     "execution_count": 416,
     "metadata": {},
     "output_type": "execute_result"
    }
   ],
   "source": [
    "parameters"
   ]
  },
  {
   "cell_type": "code",
   "execution_count": 417,
   "metadata": {
    "ExecuteTime": {
     "end_time": "2020-07-23T10:33:35.589121Z",
     "start_time": "2020-07-23T10:33:35.584607Z"
    }
   },
   "outputs": [],
   "source": [
    "##Initialize deep neural network with 3 hidden layers.[14,10,9,8,1]"
   ]
  },
  {
   "cell_type": "code",
   "execution_count": 456,
   "metadata": {
    "ExecuteTime": {
     "end_time": "2020-07-23T13:58:32.878066Z",
     "start_time": "2020-07-23T13:58:32.866096Z"
    }
   },
   "outputs": [],
   "source": [
    "def initialize_deep_layers(layer_dims): #layer_dims is the list containing dimension of each layer.\n",
    "    np.random.seed(2)\n",
    "    parameters={}\n",
    "    L=len(layer_dims)\n",
    "    for l in range(1,L):\n",
    "        parameters['W'+str(l)]=np.random.randn(layer_dims[l],layer_dims[l-1])*0.01\n",
    "        parameters['b'+str(l)]=np.zeros((layer_dims[l],1))\n",
    "        assert(parameters['W' + str(l)].shape == (layer_dims[l], layer_dims[l - 1]))\n",
    "        assert(parameters['b' + str(l)].shape == (layer_dims[l], 1))\n",
    "    return parameters"
   ]
  },
  {
   "cell_type": "code",
   "execution_count": 457,
   "metadata": {
    "ExecuteTime": {
     "end_time": "2020-07-23T13:58:36.674797Z",
     "start_time": "2020-07-23T13:58:36.534412Z"
    },
    "scrolled": true
   },
   "outputs": [
    {
     "name": "stdout",
     "output_type": "stream",
     "text": [
      "W1 = [[-4.16757847e-03 -5.62668272e-04 -2.13619610e-02  1.64027081e-02\n",
      "  -1.79343559e-02]\n",
      " [-8.41747366e-03  5.02881417e-03 -1.24528809e-02 -1.05795222e-02\n",
      "  -9.09007615e-03]\n",
      " [ 5.51454045e-03  2.29220801e-02  4.15393930e-04 -1.11792545e-02\n",
      "   5.39058321e-03]\n",
      " [-5.96159700e-03 -1.91304965e-04  1.17500122e-02 -7.47870949e-03\n",
      "   9.02525097e-05]]\n",
      "b1 = [[0.]\n",
      " [0.]\n",
      " [0.]\n",
      " [0.]]\n",
      "W2 = [[-0.00878108 -0.00156434  0.0025657  -0.00988779]\n",
      " [-0.00338822 -0.00236184 -0.00637655 -0.01187612]\n",
      " [-0.01421217 -0.00153495 -0.00269057  0.02231367]]\n",
      "b2 = [[0.]\n",
      " [0.]\n",
      " [0.]]\n"
     ]
    },
    {
     "ename": "KeyError",
     "evalue": "'W3'",
     "output_type": "error",
     "traceback": [
      "\u001b[1;31m---------------------------------------------------------------------------\u001b[0m",
      "\u001b[1;31mKeyError\u001b[0m                                  Traceback (most recent call last)",
      "\u001b[1;32m<ipython-input-457-c5406143a038>\u001b[0m in \u001b[0;36m<module>\u001b[1;34m\u001b[0m\n\u001b[0;32m      4\u001b[0m \u001b[0mprint\u001b[0m\u001b[1;33m(\u001b[0m\u001b[1;34m\"W2 = \"\u001b[0m \u001b[1;33m+\u001b[0m \u001b[0mstr\u001b[0m\u001b[1;33m(\u001b[0m\u001b[0mparameters\u001b[0m\u001b[1;33m[\u001b[0m\u001b[1;34m\"W2\"\u001b[0m\u001b[1;33m]\u001b[0m\u001b[1;33m)\u001b[0m\u001b[1;33m)\u001b[0m\u001b[1;33m\u001b[0m\u001b[1;33m\u001b[0m\u001b[0m\n\u001b[0;32m      5\u001b[0m \u001b[0mprint\u001b[0m\u001b[1;33m(\u001b[0m\u001b[1;34m\"b2 = \"\u001b[0m \u001b[1;33m+\u001b[0m \u001b[0mstr\u001b[0m\u001b[1;33m(\u001b[0m\u001b[0mparameters\u001b[0m\u001b[1;33m[\u001b[0m\u001b[1;34m\"b2\"\u001b[0m\u001b[1;33m]\u001b[0m\u001b[1;33m)\u001b[0m\u001b[1;33m)\u001b[0m\u001b[1;33m\u001b[0m\u001b[1;33m\u001b[0m\u001b[0m\n\u001b[1;32m----> 6\u001b[1;33m \u001b[0mprint\u001b[0m\u001b[1;33m(\u001b[0m\u001b[1;34m\"W3 = \"\u001b[0m \u001b[1;33m+\u001b[0m \u001b[0mstr\u001b[0m\u001b[1;33m(\u001b[0m\u001b[0mparameters\u001b[0m\u001b[1;33m[\u001b[0m\u001b[1;34m\"W3\"\u001b[0m\u001b[1;33m]\u001b[0m\u001b[1;33m)\u001b[0m\u001b[1;33m)\u001b[0m\u001b[1;33m\u001b[0m\u001b[1;33m\u001b[0m\u001b[0m\n\u001b[0m\u001b[0;32m      7\u001b[0m \u001b[0mprint\u001b[0m\u001b[1;33m(\u001b[0m\u001b[1;34m\"b3 = \"\u001b[0m \u001b[1;33m+\u001b[0m \u001b[0mstr\u001b[0m\u001b[1;33m(\u001b[0m\u001b[0mparameters\u001b[0m\u001b[1;33m[\u001b[0m\u001b[1;34m\"b3\"\u001b[0m\u001b[1;33m]\u001b[0m\u001b[1;33m)\u001b[0m\u001b[1;33m)\u001b[0m\u001b[1;33m\u001b[0m\u001b[1;33m\u001b[0m\u001b[0m\n\u001b[0;32m      8\u001b[0m \u001b[0mprint\u001b[0m\u001b[1;33m(\u001b[0m\u001b[1;34m\"W4 = \"\u001b[0m \u001b[1;33m+\u001b[0m \u001b[0mstr\u001b[0m\u001b[1;33m(\u001b[0m\u001b[0mparameters\u001b[0m\u001b[1;33m[\u001b[0m\u001b[1;34m\"W4\"\u001b[0m\u001b[1;33m]\u001b[0m\u001b[1;33m)\u001b[0m\u001b[1;33m)\u001b[0m\u001b[1;33m\u001b[0m\u001b[1;33m\u001b[0m\u001b[0m\n",
      "\u001b[1;31mKeyError\u001b[0m: 'W3'"
     ]
    }
   ],
   "source": [
    "parameters=initialize_deep_layers([5,4,3])\n",
    "print(\"W1 = \" + str(parameters[\"W1\"]))\n",
    "print(\"b1 = \" + str(parameters[\"b1\"]))\n",
    "print(\"W2 = \" + str(parameters[\"W2\"]))\n",
    "print(\"b2 = \" + str(parameters[\"b2\"]))\n",
    "print(\"W3 = \" + str(parameters[\"W3\"]))\n",
    "print(\"b3 = \" + str(parameters[\"b3\"]))\n",
    "print(\"W4 = \" + str(parameters[\"W4\"]))\n",
    "print(\"b4 = \" + str(parameters[\"b4\"]))"
   ]
  },
  {
   "cell_type": "code",
   "execution_count": 458,
   "metadata": {
    "ExecuteTime": {
     "end_time": "2020-07-23T13:58:40.862454Z",
     "start_time": "2020-07-23T13:58:40.858085Z"
    }
   },
   "outputs": [],
   "source": [
    "#Forward propogation module\n",
    "#Z[l] = W[l]A[l-1] +b[l]\n",
    "#Lets have LINEAR>RELU in hidden layers and LINEAR>SIGMOID in the output layer."
   ]
  },
  {
   "cell_type": "code",
   "execution_count": 482,
   "metadata": {
    "ExecuteTime": {
     "end_time": "2020-07-24T05:49:27.716516Z",
     "start_time": "2020-07-24T05:49:27.707540Z"
    }
   },
   "outputs": [],
   "source": [
    "A = np.random.randn(14,2)\n",
    "W = np.random.randn(1,14)\n",
    "b = np.random.randn(1,1)\n",
    "def linear_forward(A, W, b):\n",
    "    Z=np.dot(W,A)+b\n",
    "    print('The shape of Z',Z.shape)\n",
    "    assert(Z.shape == (W.shape[0], A.shape[1]))\n",
    "    cache = (A, W, b)\n",
    "    return Z,cache"
   ]
  },
  {
   "cell_type": "code",
   "execution_count": 483,
   "metadata": {
    "ExecuteTime": {
     "end_time": "2020-07-24T05:49:29.879734Z",
     "start_time": "2020-07-24T05:49:29.872748Z"
    }
   },
   "outputs": [
    {
     "name": "stdout",
     "output_type": "stream",
     "text": [
      "The shape of Z (1, 2)\n"
     ]
    },
    {
     "data": {
      "text/plain": [
       "array([[-5.96900274, -2.95915886]])"
      ]
     },
     "execution_count": 483,
     "metadata": {},
     "output_type": "execute_result"
    }
   ],
   "source": [
    "Z,cache=linear_forward(A, W, b)\n",
    "Z"
   ]
  },
  {
   "cell_type": "code",
   "execution_count": 487,
   "metadata": {
    "ExecuteTime": {
     "end_time": "2020-07-24T05:50:22.975660Z",
     "start_time": "2020-07-24T05:50:22.966687Z"
    }
   },
   "outputs": [],
   "source": [
    "import math\n",
    "\n",
    "def sigmoid(Z):\n",
    "    \"\"\"\n",
    "    Compute sigmoid of x.\n",
    "\n",
    "    Arguments:\n",
    "    x -- A scalar\n",
    "\n",
    "    Return:\n",
    "    s -- sigmoid(x)\n",
    "    \"\"\"\n",
    "    \n",
    "    ### START CODE HERE ### (≈ 1 line of code)\n",
    "    s = 1/(1+np.exp(-Z))\n",
    "    ### END CODE HERE ###\n",
    "    \n",
    "    return s"
   ]
  },
  {
   "cell_type": "code",
   "execution_count": 507,
   "metadata": {
    "ExecuteTime": {
     "end_time": "2020-07-24T10:59:22.911381Z",
     "start_time": "2020-07-24T10:59:22.901396Z"
    }
   },
   "outputs": [],
   "source": [
    "def ReLU(z): \n",
    "    a=max(0,Z)\n",
    "    return a"
   ]
  },
  {
   "cell_type": "code",
   "execution_count": 509,
   "metadata": {
    "ExecuteTime": {
     "end_time": "2020-07-24T10:59:33.204913Z",
     "start_time": "2020-07-24T10:59:33.195936Z"
    }
   },
   "outputs": [],
   "source": [
    "A_prev = np.random.randn(14,4)\n",
    "def linear_activation_forward(A_prev,W,b,activation):\n",
    "    if activation=='sigmoid':\n",
    "        Z,cache=linear_forward(A_prev, W, b)\n",
    "        A,activation_cache=sigmoid(Z)\n",
    "    elif activation=='relu':\n",
    "        Z,cache=linear_forward(A_prev, W, b)\n",
    "        A,activation_cache=ReLU(Z)\n",
    "        \n",
    "    assert (A.shape == (W.shape[0], A_prev.shape[1]))\n",
    "    cache = (linear_cache, activation_cache)\n",
    "    return A,cache"
   ]
  },
  {
   "cell_type": "code",
   "execution_count": 510,
   "metadata": {
    "ExecuteTime": {
     "end_time": "2020-07-24T10:59:36.841547Z",
     "start_time": "2020-07-24T10:59:36.781500Z"
    }
   },
   "outputs": [
    {
     "name": "stdout",
     "output_type": "stream",
     "text": [
      "The shape of Z (1, 4)\n"
     ]
    },
    {
     "ename": "ValueError",
     "evalue": "The truth value of an array with more than one element is ambiguous. Use a.any() or a.all()",
     "output_type": "error",
     "traceback": [
      "\u001b[1;31m---------------------------------------------------------------------------\u001b[0m",
      "\u001b[1;31mValueError\u001b[0m                                Traceback (most recent call last)",
      "\u001b[1;32m<ipython-input-510-dfebaf3e89f9>\u001b[0m in \u001b[0;36m<module>\u001b[1;34m\u001b[0m\n\u001b[1;32m----> 1\u001b[1;33m \u001b[0mA\u001b[0m\u001b[1;33m,\u001b[0m\u001b[0mlinear_activation_cache\u001b[0m\u001b[1;33m=\u001b[0m\u001b[0mlinear_activation_forward\u001b[0m\u001b[1;33m(\u001b[0m\u001b[0mA_prev\u001b[0m\u001b[1;33m,\u001b[0m\u001b[0mW\u001b[0m\u001b[1;33m,\u001b[0m\u001b[0mb\u001b[0m\u001b[1;33m,\u001b[0m\u001b[0mactivation\u001b[0m\u001b[1;33m=\u001b[0m\u001b[1;34m'relu'\u001b[0m\u001b[1;33m)\u001b[0m\u001b[1;33m\u001b[0m\u001b[1;33m\u001b[0m\u001b[0m\n\u001b[0m",
      "\u001b[1;32m<ipython-input-509-431419300cb5>\u001b[0m in \u001b[0;36mlinear_activation_forward\u001b[1;34m(A_prev, W, b, activation)\u001b[0m\n\u001b[0;32m      6\u001b[0m     \u001b[1;32melif\u001b[0m \u001b[0mactivation\u001b[0m\u001b[1;33m==\u001b[0m\u001b[1;34m'relu'\u001b[0m\u001b[1;33m:\u001b[0m\u001b[1;33m\u001b[0m\u001b[1;33m\u001b[0m\u001b[0m\n\u001b[0;32m      7\u001b[0m         \u001b[0mZ\u001b[0m\u001b[1;33m,\u001b[0m\u001b[0mcache\u001b[0m\u001b[1;33m=\u001b[0m\u001b[0mlinear_forward\u001b[0m\u001b[1;33m(\u001b[0m\u001b[0mA_prev\u001b[0m\u001b[1;33m,\u001b[0m \u001b[0mW\u001b[0m\u001b[1;33m,\u001b[0m \u001b[0mb\u001b[0m\u001b[1;33m)\u001b[0m\u001b[1;33m\u001b[0m\u001b[1;33m\u001b[0m\u001b[0m\n\u001b[1;32m----> 8\u001b[1;33m         \u001b[0mA\u001b[0m\u001b[1;33m,\u001b[0m\u001b[0mactivation_cache\u001b[0m\u001b[1;33m=\u001b[0m\u001b[0mReLU\u001b[0m\u001b[1;33m(\u001b[0m\u001b[0mZ\u001b[0m\u001b[1;33m)\u001b[0m\u001b[1;33m\u001b[0m\u001b[1;33m\u001b[0m\u001b[0m\n\u001b[0m\u001b[0;32m      9\u001b[0m \u001b[1;33m\u001b[0m\u001b[0m\n\u001b[0;32m     10\u001b[0m     \u001b[1;32massert\u001b[0m \u001b[1;33m(\u001b[0m\u001b[0mA\u001b[0m\u001b[1;33m.\u001b[0m\u001b[0mshape\u001b[0m \u001b[1;33m==\u001b[0m \u001b[1;33m(\u001b[0m\u001b[0mW\u001b[0m\u001b[1;33m.\u001b[0m\u001b[0mshape\u001b[0m\u001b[1;33m[\u001b[0m\u001b[1;36m0\u001b[0m\u001b[1;33m]\u001b[0m\u001b[1;33m,\u001b[0m \u001b[0mA_prev\u001b[0m\u001b[1;33m.\u001b[0m\u001b[0mshape\u001b[0m\u001b[1;33m[\u001b[0m\u001b[1;36m1\u001b[0m\u001b[1;33m]\u001b[0m\u001b[1;33m)\u001b[0m\u001b[1;33m)\u001b[0m\u001b[1;33m\u001b[0m\u001b[1;33m\u001b[0m\u001b[0m\n",
      "\u001b[1;32m<ipython-input-507-0ac7be8531a3>\u001b[0m in \u001b[0;36mReLU\u001b[1;34m(z)\u001b[0m\n\u001b[0;32m      1\u001b[0m \u001b[1;32mdef\u001b[0m \u001b[0mReLU\u001b[0m\u001b[1;33m(\u001b[0m\u001b[0mz\u001b[0m\u001b[1;33m)\u001b[0m\u001b[1;33m:\u001b[0m\u001b[1;33m\u001b[0m\u001b[1;33m\u001b[0m\u001b[0m\n\u001b[1;32m----> 2\u001b[1;33m     \u001b[0ma\u001b[0m\u001b[1;33m=\u001b[0m\u001b[0mmax\u001b[0m\u001b[1;33m(\u001b[0m\u001b[1;36m0\u001b[0m\u001b[1;33m,\u001b[0m\u001b[0mZ\u001b[0m\u001b[1;33m)\u001b[0m\u001b[1;33m\u001b[0m\u001b[1;33m\u001b[0m\u001b[0m\n\u001b[0m\u001b[0;32m      3\u001b[0m     \u001b[1;32mreturn\u001b[0m \u001b[0ma\u001b[0m\u001b[1;33m\u001b[0m\u001b[1;33m\u001b[0m\u001b[0m\n",
      "\u001b[1;31mValueError\u001b[0m: The truth value of an array with more than one element is ambiguous. Use a.any() or a.all()"
     ]
    }
   ],
   "source": [
    "A,linear_activation_cache=linear_activation_forward(A_prev,W,b,activation='relu')"
   ]
  },
  {
   "cell_type": "code",
   "execution_count": null,
   "metadata": {},
   "outputs": [],
   "source": []
  },
  {
   "cell_type": "code",
   "execution_count": null,
   "metadata": {},
   "outputs": [],
   "source": []
  },
  {
   "cell_type": "code",
   "execution_count": null,
   "metadata": {},
   "outputs": [],
   "source": []
  }
 ],
 "metadata": {
  "kernelspec": {
   "display_name": "Python 3",
   "language": "python",
   "name": "python3"
  },
  "language_info": {
   "codemirror_mode": {
    "name": "ipython",
    "version": 3
   },
   "file_extension": ".py",
   "mimetype": "text/x-python",
   "name": "python",
   "nbconvert_exporter": "python",
   "pygments_lexer": "ipython3",
   "version": "3.7.3"
  },
  "toc": {
   "base_numbering": 1,
   "nav_menu": {},
   "number_sections": true,
   "sideBar": true,
   "skip_h1_title": false,
   "title_cell": "Table of Contents",
   "title_sidebar": "Contents",
   "toc_cell": false,
   "toc_position": {},
   "toc_section_display": true,
   "toc_window_display": false
  },
  "varInspector": {
   "cols": {
    "lenName": 16,
    "lenType": 16,
    "lenVar": 40
   },
   "kernels_config": {
    "python": {
     "delete_cmd_postfix": "",
     "delete_cmd_prefix": "del ",
     "library": "var_list.py",
     "varRefreshCmd": "print(var_dic_list())"
    },
    "r": {
     "delete_cmd_postfix": ") ",
     "delete_cmd_prefix": "rm(",
     "library": "var_list.r",
     "varRefreshCmd": "cat(var_dic_list()) "
    }
   },
   "types_to_exclude": [
    "module",
    "function",
    "builtin_function_or_method",
    "instance",
    "_Feature"
   ],
   "window_display": false
  }
 },
 "nbformat": 4,
 "nbformat_minor": 2
}
