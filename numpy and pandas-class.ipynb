{
 "cells": [
  {
   "cell_type": "code",
   "execution_count": 2,
   "metadata": {},
   "outputs": [],
   "source": [
    "import pandas as pd\n",
    "import numpy as np"
   ]
  },
  {
   "cell_type": "code",
   "execution_count": 3,
   "metadata": {},
   "outputs": [
    {
     "data": {
      "text/html": [
       "<div>\n",
       "<style scoped>\n",
       "    .dataframe tbody tr th:only-of-type {\n",
       "        vertical-align: middle;\n",
       "    }\n",
       "\n",
       "    .dataframe tbody tr th {\n",
       "        vertical-align: top;\n",
       "    }\n",
       "\n",
       "    .dataframe thead th {\n",
       "        text-align: right;\n",
       "    }\n",
       "</style>\n",
       "<table border=\"1\" class=\"dataframe\">\n",
       "  <thead>\n",
       "    <tr style=\"text-align: right;\">\n",
       "      <th></th>\n",
       "      <th>c1</th>\n",
       "      <th>c2</th>\n",
       "      <th>c3</th>\n",
       "      <th>c4</th>\n",
       "      <th>c5</th>\n",
       "    </tr>\n",
       "  </thead>\n",
       "  <tbody>\n",
       "    <tr>\n",
       "      <th>i1</th>\n",
       "      <td>12</td>\n",
       "      <td>20</td>\n",
       "      <td>10</td>\n",
       "      <td>42</td>\n",
       "      <td>10</td>\n",
       "    </tr>\n",
       "    <tr>\n",
       "      <th>i2</th>\n",
       "      <td>39</td>\n",
       "      <td>48</td>\n",
       "      <td>39</td>\n",
       "      <td>42</td>\n",
       "      <td>46</td>\n",
       "    </tr>\n",
       "    <tr>\n",
       "      <th>i3</th>\n",
       "      <td>17</td>\n",
       "      <td>28</td>\n",
       "      <td>35</td>\n",
       "      <td>14</td>\n",
       "      <td>36</td>\n",
       "    </tr>\n",
       "    <tr>\n",
       "      <th>i4</th>\n",
       "      <td>27</td>\n",
       "      <td>40</td>\n",
       "      <td>49</td>\n",
       "      <td>44</td>\n",
       "      <td>22</td>\n",
       "    </tr>\n",
       "    <tr>\n",
       "      <th>i5</th>\n",
       "      <td>10</td>\n",
       "      <td>43</td>\n",
       "      <td>16</td>\n",
       "      <td>41</td>\n",
       "      <td>18</td>\n",
       "    </tr>\n",
       "  </tbody>\n",
       "</table>\n",
       "</div>"
      ],
      "text/plain": [
       "    c1  c2  c3  c4  c5\n",
       "i1  12  20  10  42  10\n",
       "i2  39  48  39  42  46\n",
       "i3  17  28  35  14  36\n",
       "i4  27  40  49  44  22\n",
       "i5  10  43  16  41  18"
      ]
     },
     "execution_count": 3,
     "metadata": {},
     "output_type": "execute_result"
    }
   ],
   "source": [
    "pd.DataFrame(np.random.randint(10,50,(5,5)),index=['i1','i2','i3','i4','i5'],columns=['c1','c2','c3','c4','c5'])"
   ]
  },
  {
   "cell_type": "code",
   "execution_count": 4,
   "metadata": {},
   "outputs": [],
   "source": [
    "import pandas as pd\n",
    "df=pd.read_csv(r\"D:\\home_credit_default_risk\\application_train.csv\")"
   ]
  },
  {
   "cell_type": "code",
   "execution_count": 5,
   "metadata": {},
   "outputs": [],
   "source": [
    "df=df.sample(1000)"
   ]
  },
  {
   "cell_type": "code",
   "execution_count": 6,
   "metadata": {},
   "outputs": [
    {
     "data": {
      "text/html": [
       "<div>\n",
       "<style scoped>\n",
       "    .dataframe tbody tr th:only-of-type {\n",
       "        vertical-align: middle;\n",
       "    }\n",
       "\n",
       "    .dataframe tbody tr th {\n",
       "        vertical-align: top;\n",
       "    }\n",
       "\n",
       "    .dataframe thead th {\n",
       "        text-align: right;\n",
       "    }\n",
       "</style>\n",
       "<table border=\"1\" class=\"dataframe\">\n",
       "  <thead>\n",
       "    <tr style=\"text-align: right;\">\n",
       "      <th></th>\n",
       "      <th>SK_ID_CURR</th>\n",
       "      <th>TARGET</th>\n",
       "      <th>NAME_CONTRACT_TYPE</th>\n",
       "      <th>CODE_GENDER</th>\n",
       "      <th>FLAG_OWN_CAR</th>\n",
       "      <th>FLAG_OWN_REALTY</th>\n",
       "      <th>CNT_CHILDREN</th>\n",
       "      <th>AMT_INCOME_TOTAL</th>\n",
       "      <th>AMT_CREDIT</th>\n",
       "      <th>AMT_ANNUITY</th>\n",
       "      <th>...</th>\n",
       "      <th>FLAG_DOCUMENT_18</th>\n",
       "      <th>FLAG_DOCUMENT_19</th>\n",
       "      <th>FLAG_DOCUMENT_20</th>\n",
       "      <th>FLAG_DOCUMENT_21</th>\n",
       "      <th>AMT_REQ_CREDIT_BUREAU_HOUR</th>\n",
       "      <th>AMT_REQ_CREDIT_BUREAU_DAY</th>\n",
       "      <th>AMT_REQ_CREDIT_BUREAU_WEEK</th>\n",
       "      <th>AMT_REQ_CREDIT_BUREAU_MON</th>\n",
       "      <th>AMT_REQ_CREDIT_BUREAU_QRT</th>\n",
       "      <th>AMT_REQ_CREDIT_BUREAU_YEAR</th>\n",
       "    </tr>\n",
       "  </thead>\n",
       "  <tbody>\n",
       "    <tr>\n",
       "      <th>306920</th>\n",
       "      <td>455591</td>\n",
       "      <td>0</td>\n",
       "      <td>Cash loans</td>\n",
       "      <td>F</td>\n",
       "      <td>N</td>\n",
       "      <td>Y</td>\n",
       "      <td>0</td>\n",
       "      <td>112500.0</td>\n",
       "      <td>634482.0</td>\n",
       "      <td>20596.5</td>\n",
       "      <td>...</td>\n",
       "      <td>0</td>\n",
       "      <td>0</td>\n",
       "      <td>0</td>\n",
       "      <td>0</td>\n",
       "      <td>0.0</td>\n",
       "      <td>0.0</td>\n",
       "      <td>0.0</td>\n",
       "      <td>0.0</td>\n",
       "      <td>1.0</td>\n",
       "      <td>0.0</td>\n",
       "    </tr>\n",
       "    <tr>\n",
       "      <th>79968</th>\n",
       "      <td>192701</td>\n",
       "      <td>0</td>\n",
       "      <td>Cash loans</td>\n",
       "      <td>M</td>\n",
       "      <td>Y</td>\n",
       "      <td>Y</td>\n",
       "      <td>1</td>\n",
       "      <td>337500.0</td>\n",
       "      <td>1615500.0</td>\n",
       "      <td>44554.5</td>\n",
       "      <td>...</td>\n",
       "      <td>0</td>\n",
       "      <td>0</td>\n",
       "      <td>0</td>\n",
       "      <td>0</td>\n",
       "      <td>0.0</td>\n",
       "      <td>0.0</td>\n",
       "      <td>0.0</td>\n",
       "      <td>0.0</td>\n",
       "      <td>0.0</td>\n",
       "      <td>0.0</td>\n",
       "    </tr>\n",
       "  </tbody>\n",
       "</table>\n",
       "<p>2 rows × 122 columns</p>\n",
       "</div>"
      ],
      "text/plain": [
       "        SK_ID_CURR  TARGET NAME_CONTRACT_TYPE CODE_GENDER FLAG_OWN_CAR  \\\n",
       "306920      455591       0         Cash loans           F            N   \n",
       "79968       192701       0         Cash loans           M            Y   \n",
       "\n",
       "       FLAG_OWN_REALTY  CNT_CHILDREN  AMT_INCOME_TOTAL  AMT_CREDIT  \\\n",
       "306920               Y             0          112500.0    634482.0   \n",
       "79968                Y             1          337500.0   1615500.0   \n",
       "\n",
       "        AMT_ANNUITY  ...  FLAG_DOCUMENT_18 FLAG_DOCUMENT_19 FLAG_DOCUMENT_20  \\\n",
       "306920      20596.5  ...                 0                0                0   \n",
       "79968       44554.5  ...                 0                0                0   \n",
       "\n",
       "       FLAG_DOCUMENT_21 AMT_REQ_CREDIT_BUREAU_HOUR AMT_REQ_CREDIT_BUREAU_DAY  \\\n",
       "306920                0                        0.0                       0.0   \n",
       "79968                 0                        0.0                       0.0   \n",
       "\n",
       "        AMT_REQ_CREDIT_BUREAU_WEEK  AMT_REQ_CREDIT_BUREAU_MON  \\\n",
       "306920                         0.0                        0.0   \n",
       "79968                          0.0                        0.0   \n",
       "\n",
       "        AMT_REQ_CREDIT_BUREAU_QRT  AMT_REQ_CREDIT_BUREAU_YEAR  \n",
       "306920                        1.0                         0.0  \n",
       "79968                         0.0                         0.0  \n",
       "\n",
       "[2 rows x 122 columns]"
      ]
     },
     "execution_count": 6,
     "metadata": {},
     "output_type": "execute_result"
    }
   ],
   "source": [
    "df.head(2)"
   ]
  },
  {
   "cell_type": "code",
   "execution_count": 7,
   "metadata": {},
   "outputs": [
    {
     "data": {
      "text/html": [
       "<div>\n",
       "<style scoped>\n",
       "    .dataframe tbody tr th:only-of-type {\n",
       "        vertical-align: middle;\n",
       "    }\n",
       "\n",
       "    .dataframe tbody tr th {\n",
       "        vertical-align: top;\n",
       "    }\n",
       "\n",
       "    .dataframe thead th {\n",
       "        text-align: right;\n",
       "    }\n",
       "</style>\n",
       "<table border=\"1\" class=\"dataframe\">\n",
       "  <thead>\n",
       "    <tr style=\"text-align: right;\">\n",
       "      <th></th>\n",
       "      <th>SK_ID_CURR</th>\n",
       "      <th>TARGET</th>\n",
       "      <th>NAME_CONTRACT_TYPE</th>\n",
       "      <th>CODE_GENDER</th>\n",
       "      <th>FLAG_OWN_CAR</th>\n",
       "      <th>FLAG_OWN_REALTY</th>\n",
       "      <th>CNT_CHILDREN</th>\n",
       "      <th>AMT_INCOME_TOTAL</th>\n",
       "      <th>AMT_CREDIT</th>\n",
       "      <th>AMT_ANNUITY</th>\n",
       "      <th>...</th>\n",
       "      <th>FLAG_DOCUMENT_18</th>\n",
       "      <th>FLAG_DOCUMENT_19</th>\n",
       "      <th>FLAG_DOCUMENT_20</th>\n",
       "      <th>FLAG_DOCUMENT_21</th>\n",
       "      <th>AMT_REQ_CREDIT_BUREAU_HOUR</th>\n",
       "      <th>AMT_REQ_CREDIT_BUREAU_DAY</th>\n",
       "      <th>AMT_REQ_CREDIT_BUREAU_WEEK</th>\n",
       "      <th>AMT_REQ_CREDIT_BUREAU_MON</th>\n",
       "      <th>AMT_REQ_CREDIT_BUREAU_QRT</th>\n",
       "      <th>AMT_REQ_CREDIT_BUREAU_YEAR</th>\n",
       "    </tr>\n",
       "  </thead>\n",
       "  <tbody>\n",
       "    <tr>\n",
       "      <th>100859</th>\n",
       "      <td>217103</td>\n",
       "      <td>0</td>\n",
       "      <td>Cash loans</td>\n",
       "      <td>F</td>\n",
       "      <td>N</td>\n",
       "      <td>Y</td>\n",
       "      <td>0</td>\n",
       "      <td>108000.0</td>\n",
       "      <td>728460.0</td>\n",
       "      <td>38808.0</td>\n",
       "      <td>...</td>\n",
       "      <td>0</td>\n",
       "      <td>0</td>\n",
       "      <td>0</td>\n",
       "      <td>0</td>\n",
       "      <td>0.0</td>\n",
       "      <td>0.0</td>\n",
       "      <td>0.0</td>\n",
       "      <td>0.0</td>\n",
       "      <td>0.0</td>\n",
       "      <td>0.0</td>\n",
       "    </tr>\n",
       "    <tr>\n",
       "      <th>187424</th>\n",
       "      <td>317271</td>\n",
       "      <td>0</td>\n",
       "      <td>Cash loans</td>\n",
       "      <td>M</td>\n",
       "      <td>Y</td>\n",
       "      <td>Y</td>\n",
       "      <td>1</td>\n",
       "      <td>157500.0</td>\n",
       "      <td>819432.0</td>\n",
       "      <td>24088.5</td>\n",
       "      <td>...</td>\n",
       "      <td>0</td>\n",
       "      <td>0</td>\n",
       "      <td>0</td>\n",
       "      <td>0</td>\n",
       "      <td>0.0</td>\n",
       "      <td>0.0</td>\n",
       "      <td>0.0</td>\n",
       "      <td>0.0</td>\n",
       "      <td>0.0</td>\n",
       "      <td>1.0</td>\n",
       "    </tr>\n",
       "  </tbody>\n",
       "</table>\n",
       "<p>2 rows × 122 columns</p>\n",
       "</div>"
      ],
      "text/plain": [
       "        SK_ID_CURR  TARGET NAME_CONTRACT_TYPE CODE_GENDER FLAG_OWN_CAR  \\\n",
       "100859      217103       0         Cash loans           F            N   \n",
       "187424      317271       0         Cash loans           M            Y   \n",
       "\n",
       "       FLAG_OWN_REALTY  CNT_CHILDREN  AMT_INCOME_TOTAL  AMT_CREDIT  \\\n",
       "100859               Y             0          108000.0    728460.0   \n",
       "187424               Y             1          157500.0    819432.0   \n",
       "\n",
       "        AMT_ANNUITY  ...  FLAG_DOCUMENT_18 FLAG_DOCUMENT_19 FLAG_DOCUMENT_20  \\\n",
       "100859      38808.0  ...                 0                0                0   \n",
       "187424      24088.5  ...                 0                0                0   \n",
       "\n",
       "       FLAG_DOCUMENT_21 AMT_REQ_CREDIT_BUREAU_HOUR AMT_REQ_CREDIT_BUREAU_DAY  \\\n",
       "100859                0                        0.0                       0.0   \n",
       "187424                0                        0.0                       0.0   \n",
       "\n",
       "        AMT_REQ_CREDIT_BUREAU_WEEK  AMT_REQ_CREDIT_BUREAU_MON  \\\n",
       "100859                         0.0                        0.0   \n",
       "187424                         0.0                        0.0   \n",
       "\n",
       "        AMT_REQ_CREDIT_BUREAU_QRT  AMT_REQ_CREDIT_BUREAU_YEAR  \n",
       "100859                        0.0                         0.0  \n",
       "187424                        0.0                         1.0  \n",
       "\n",
       "[2 rows x 122 columns]"
      ]
     },
     "execution_count": 7,
     "metadata": {},
     "output_type": "execute_result"
    }
   ],
   "source": [
    "df.tail(2)"
   ]
  },
  {
   "cell_type": "code",
   "execution_count": 8,
   "metadata": {},
   "outputs": [
    {
     "data": {
      "text/plain": [
       "SK_ID_CURR                      0\n",
       "TARGET                          0\n",
       "NAME_CONTRACT_TYPE              0\n",
       "CODE_GENDER                     0\n",
       "FLAG_OWN_CAR                    0\n",
       "FLAG_OWN_REALTY                 0\n",
       "CNT_CHILDREN                    0\n",
       "AMT_INCOME_TOTAL                0\n",
       "AMT_CREDIT                      0\n",
       "AMT_ANNUITY                     0\n",
       "AMT_GOODS_PRICE                 0\n",
       "NAME_TYPE_SUITE                 1\n",
       "NAME_INCOME_TYPE                0\n",
       "NAME_EDUCATION_TYPE             0\n",
       "NAME_FAMILY_STATUS              0\n",
       "NAME_HOUSING_TYPE               0\n",
       "REGION_POPULATION_RELATIVE      0\n",
       "DAYS_BIRTH                      0\n",
       "DAYS_EMPLOYED                   0\n",
       "DAYS_REGISTRATION               0\n",
       "DAYS_ID_PUBLISH                 0\n",
       "OWN_CAR_AGE                   674\n",
       "FLAG_MOBIL                      0\n",
       "FLAG_EMP_PHONE                  0\n",
       "FLAG_WORK_PHONE                 0\n",
       "FLAG_CONT_MOBILE                0\n",
       "FLAG_PHONE                      0\n",
       "FLAG_EMAIL                      0\n",
       "OCCUPATION_TYPE               285\n",
       "CNT_FAM_MEMBERS                 0\n",
       "                             ... \n",
       "DEF_30_CNT_SOCIAL_CIRCLE        4\n",
       "OBS_60_CNT_SOCIAL_CIRCLE        4\n",
       "DEF_60_CNT_SOCIAL_CIRCLE        4\n",
       "DAYS_LAST_PHONE_CHANGE          0\n",
       "FLAG_DOCUMENT_2                 0\n",
       "FLAG_DOCUMENT_3                 0\n",
       "FLAG_DOCUMENT_4                 0\n",
       "FLAG_DOCUMENT_5                 0\n",
       "FLAG_DOCUMENT_6                 0\n",
       "FLAG_DOCUMENT_7                 0\n",
       "FLAG_DOCUMENT_8                 0\n",
       "FLAG_DOCUMENT_9                 0\n",
       "FLAG_DOCUMENT_10                0\n",
       "FLAG_DOCUMENT_11                0\n",
       "FLAG_DOCUMENT_12                0\n",
       "FLAG_DOCUMENT_13                0\n",
       "FLAG_DOCUMENT_14                0\n",
       "FLAG_DOCUMENT_15                0\n",
       "FLAG_DOCUMENT_16                0\n",
       "FLAG_DOCUMENT_17                0\n",
       "FLAG_DOCUMENT_18                0\n",
       "FLAG_DOCUMENT_19                0\n",
       "FLAG_DOCUMENT_20                0\n",
       "FLAG_DOCUMENT_21                0\n",
       "AMT_REQ_CREDIT_BUREAU_HOUR    117\n",
       "AMT_REQ_CREDIT_BUREAU_DAY     117\n",
       "AMT_REQ_CREDIT_BUREAU_WEEK    117\n",
       "AMT_REQ_CREDIT_BUREAU_MON     117\n",
       "AMT_REQ_CREDIT_BUREAU_QRT     117\n",
       "AMT_REQ_CREDIT_BUREAU_YEAR    117\n",
       "Length: 122, dtype: int64"
      ]
     },
     "execution_count": 8,
     "metadata": {},
     "output_type": "execute_result"
    }
   ],
   "source": [
    "df.isna().sum()"
   ]
  },
  {
   "cell_type": "code",
   "execution_count": 9,
   "metadata": {},
   "outputs": [
    {
     "data": {
      "text/plain": [
       "SK_ID_CURR                     0.0\n",
       "TARGET                         0.0\n",
       "NAME_CONTRACT_TYPE             0.0\n",
       "CODE_GENDER                    0.0\n",
       "FLAG_OWN_CAR                   0.0\n",
       "FLAG_OWN_REALTY                0.0\n",
       "CNT_CHILDREN                   0.0\n",
       "AMT_INCOME_TOTAL               0.0\n",
       "AMT_CREDIT                     0.0\n",
       "AMT_ANNUITY                    0.0\n",
       "AMT_GOODS_PRICE                0.0\n",
       "NAME_TYPE_SUITE                0.1\n",
       "NAME_INCOME_TYPE               0.0\n",
       "NAME_EDUCATION_TYPE            0.0\n",
       "NAME_FAMILY_STATUS             0.0\n",
       "NAME_HOUSING_TYPE              0.0\n",
       "REGION_POPULATION_RELATIVE     0.0\n",
       "DAYS_BIRTH                     0.0\n",
       "DAYS_EMPLOYED                  0.0\n",
       "DAYS_REGISTRATION              0.0\n",
       "DAYS_ID_PUBLISH                0.0\n",
       "OWN_CAR_AGE                   67.4\n",
       "FLAG_MOBIL                     0.0\n",
       "FLAG_EMP_PHONE                 0.0\n",
       "FLAG_WORK_PHONE                0.0\n",
       "FLAG_CONT_MOBILE               0.0\n",
       "FLAG_PHONE                     0.0\n",
       "FLAG_EMAIL                     0.0\n",
       "OCCUPATION_TYPE               28.5\n",
       "CNT_FAM_MEMBERS                0.0\n",
       "                              ... \n",
       "DEF_30_CNT_SOCIAL_CIRCLE       0.4\n",
       "OBS_60_CNT_SOCIAL_CIRCLE       0.4\n",
       "DEF_60_CNT_SOCIAL_CIRCLE       0.4\n",
       "DAYS_LAST_PHONE_CHANGE         0.0\n",
       "FLAG_DOCUMENT_2                0.0\n",
       "FLAG_DOCUMENT_3                0.0\n",
       "FLAG_DOCUMENT_4                0.0\n",
       "FLAG_DOCUMENT_5                0.0\n",
       "FLAG_DOCUMENT_6                0.0\n",
       "FLAG_DOCUMENT_7                0.0\n",
       "FLAG_DOCUMENT_8                0.0\n",
       "FLAG_DOCUMENT_9                0.0\n",
       "FLAG_DOCUMENT_10               0.0\n",
       "FLAG_DOCUMENT_11               0.0\n",
       "FLAG_DOCUMENT_12               0.0\n",
       "FLAG_DOCUMENT_13               0.0\n",
       "FLAG_DOCUMENT_14               0.0\n",
       "FLAG_DOCUMENT_15               0.0\n",
       "FLAG_DOCUMENT_16               0.0\n",
       "FLAG_DOCUMENT_17               0.0\n",
       "FLAG_DOCUMENT_18               0.0\n",
       "FLAG_DOCUMENT_19               0.0\n",
       "FLAG_DOCUMENT_20               0.0\n",
       "FLAG_DOCUMENT_21               0.0\n",
       "AMT_REQ_CREDIT_BUREAU_HOUR    11.7\n",
       "AMT_REQ_CREDIT_BUREAU_DAY     11.7\n",
       "AMT_REQ_CREDIT_BUREAU_WEEK    11.7\n",
       "AMT_REQ_CREDIT_BUREAU_MON     11.7\n",
       "AMT_REQ_CREDIT_BUREAU_QRT     11.7\n",
       "AMT_REQ_CREDIT_BUREAU_YEAR    11.7\n",
       "Length: 122, dtype: float64"
      ]
     },
     "execution_count": 9,
     "metadata": {},
     "output_type": "execute_result"
    }
   ],
   "source": [
    "(df.isna().sum()/df.shape[0])*100"
   ]
  },
  {
   "cell_type": "code",
   "execution_count": 10,
   "metadata": {},
   "outputs": [
    {
     "data": {
      "text/plain": [
       "SK_ID_CURR            0.0\n",
       "TARGET                0.0\n",
       "NAME_CONTRACT_TYPE    0.0\n",
       "CODE_GENDER           0.0\n",
       "FLAG_OWN_CAR          0.0\n",
       "dtype: float64"
      ]
     },
     "execution_count": 10,
     "metadata": {},
     "output_type": "execute_result"
    }
   ],
   "source": [
    "((df.isna().sum()/df.shape[0])*100).head()"
   ]
  },
  {
   "cell_type": "code",
   "execution_count": 11,
   "metadata": {},
   "outputs": [],
   "source": [
    "#import glob\n",
    "#glob.glob(r'D:\\home_credit_default_risk\\*.csv')"
   ]
  },
  {
   "cell_type": "code",
   "execution_count": 12,
   "metadata": {},
   "outputs": [],
   "source": [
    "#import glob\n",
    "#for i in glob.glob(r'D:\\home_credit_default_risk\\*.csv'):\n",
    "   ## df=pd.read_csv(i)\n",
    "  #  print(i.split('\\\\')[2],df.shape)\n",
    "  #  print(20*'-----')\n",
    " #   print(df.isna().sum())\n",
    "   # print(20*'-----')"
   ]
  },
  {
   "cell_type": "code",
   "execution_count": 13,
   "metadata": {},
   "outputs": [
    {
     "data": {
      "text/plain": [
       "(1000, 122)"
      ]
     },
     "execution_count": 13,
     "metadata": {},
     "output_type": "execute_result"
    }
   ],
   "source": [
    "df.shape #last file data"
   ]
  },
  {
   "cell_type": "code",
   "execution_count": 14,
   "metadata": {},
   "outputs": [
    {
     "data": {
      "text/plain": [
       "Index(['SK_ID_CURR', 'TARGET', 'NAME_CONTRACT_TYPE', 'CODE_GENDER',\n",
       "       'FLAG_OWN_CAR', 'FLAG_OWN_REALTY', 'CNT_CHILDREN', 'AMT_INCOME_TOTAL',\n",
       "       'AMT_CREDIT', 'AMT_ANNUITY'],\n",
       "      dtype='object')"
      ]
     },
     "execution_count": 14,
     "metadata": {},
     "output_type": "execute_result"
    }
   ],
   "source": [
    "df.columns[0:10]"
   ]
  },
  {
   "cell_type": "code",
   "execution_count": 15,
   "metadata": {},
   "outputs": [],
   "source": [
    "#df[['SK_ID_CURR','TARGET']].head()"
   ]
  },
  {
   "cell_type": "code",
   "execution_count": 16,
   "metadata": {},
   "outputs": [
    {
     "data": {
      "text/plain": [
       "Index(['SK_ID_CURR', 'TARGET', 'NAME_CONTRACT_TYPE', 'CODE_GENDER',\n",
       "       'FLAG_OWN_CAR', 'FLAG_OWN_REALTY', 'CNT_CHILDREN', 'AMT_INCOME_TOTAL',\n",
       "       'AMT_CREDIT', 'AMT_ANNUITY',\n",
       "       ...\n",
       "       'FLAG_DOCUMENT_18', 'FLAG_DOCUMENT_19', 'FLAG_DOCUMENT_20',\n",
       "       'FLAG_DOCUMENT_21', 'AMT_REQ_CREDIT_BUREAU_HOUR',\n",
       "       'AMT_REQ_CREDIT_BUREAU_DAY', 'AMT_REQ_CREDIT_BUREAU_WEEK',\n",
       "       'AMT_REQ_CREDIT_BUREAU_MON', 'AMT_REQ_CREDIT_BUREAU_QRT',\n",
       "       'AMT_REQ_CREDIT_BUREAU_YEAR'],\n",
       "      dtype='object', length=122)"
      ]
     },
     "execution_count": 16,
     "metadata": {},
     "output_type": "execute_result"
    }
   ],
   "source": [
    "df.columns"
   ]
  },
  {
   "cell_type": "code",
   "execution_count": 17,
   "metadata": {},
   "outputs": [
    {
     "data": {
      "text/plain": [
       "122"
      ]
     },
     "execution_count": 17,
     "metadata": {},
     "output_type": "execute_result"
    }
   ],
   "source": [
    "len(df.columns)"
   ]
  },
  {
   "cell_type": "code",
   "execution_count": 18,
   "metadata": {},
   "outputs": [
    {
     "data": {
      "text/plain": [
       "106"
      ]
     },
     "execution_count": 18,
     "metadata": {},
     "output_type": "execute_result"
    }
   ],
   "source": [
    "len(df.mean().index)#Numerical variables"
   ]
  },
  {
   "cell_type": "code",
   "execution_count": 19,
   "metadata": {},
   "outputs": [],
   "source": [
    "numerical=list(df.mean().index)"
   ]
  },
  {
   "cell_type": "code",
   "execution_count": 20,
   "metadata": {},
   "outputs": [
    {
     "name": "stdout",
     "output_type": "stream",
     "text": [
      "['SK_ID_CURR', 'TARGET', 'CNT_CHILDREN', 'AMT_INCOME_TOTAL', 'AMT_CREDIT', 'AMT_ANNUITY', 'AMT_GOODS_PRICE', 'REGION_POPULATION_RELATIVE', 'DAYS_BIRTH', 'DAYS_EMPLOYED', 'DAYS_REGISTRATION', 'DAYS_ID_PUBLISH', 'OWN_CAR_AGE', 'FLAG_MOBIL', 'FLAG_EMP_PHONE', 'FLAG_WORK_PHONE', 'FLAG_CONT_MOBILE', 'FLAG_PHONE', 'FLAG_EMAIL', 'CNT_FAM_MEMBERS', 'REGION_RATING_CLIENT', 'REGION_RATING_CLIENT_W_CITY', 'HOUR_APPR_PROCESS_START', 'REG_REGION_NOT_LIVE_REGION', 'REG_REGION_NOT_WORK_REGION', 'LIVE_REGION_NOT_WORK_REGION', 'REG_CITY_NOT_LIVE_CITY', 'REG_CITY_NOT_WORK_CITY', 'LIVE_CITY_NOT_WORK_CITY', 'EXT_SOURCE_1', 'EXT_SOURCE_2', 'EXT_SOURCE_3', 'APARTMENTS_AVG', 'BASEMENTAREA_AVG', 'YEARS_BEGINEXPLUATATION_AVG', 'YEARS_BUILD_AVG', 'COMMONAREA_AVG', 'ELEVATORS_AVG', 'ENTRANCES_AVG', 'FLOORSMAX_AVG', 'FLOORSMIN_AVG', 'LANDAREA_AVG', 'LIVINGAPARTMENTS_AVG', 'LIVINGAREA_AVG', 'NONLIVINGAPARTMENTS_AVG', 'NONLIVINGAREA_AVG', 'APARTMENTS_MODE', 'BASEMENTAREA_MODE', 'YEARS_BEGINEXPLUATATION_MODE', 'YEARS_BUILD_MODE', 'COMMONAREA_MODE', 'ELEVATORS_MODE', 'ENTRANCES_MODE', 'FLOORSMAX_MODE', 'FLOORSMIN_MODE', 'LANDAREA_MODE', 'LIVINGAPARTMENTS_MODE', 'LIVINGAREA_MODE', 'NONLIVINGAPARTMENTS_MODE', 'NONLIVINGAREA_MODE', 'APARTMENTS_MEDI', 'BASEMENTAREA_MEDI', 'YEARS_BEGINEXPLUATATION_MEDI', 'YEARS_BUILD_MEDI', 'COMMONAREA_MEDI', 'ELEVATORS_MEDI', 'ENTRANCES_MEDI', 'FLOORSMAX_MEDI', 'FLOORSMIN_MEDI', 'LANDAREA_MEDI', 'LIVINGAPARTMENTS_MEDI', 'LIVINGAREA_MEDI', 'NONLIVINGAPARTMENTS_MEDI', 'NONLIVINGAREA_MEDI', 'TOTALAREA_MODE', 'OBS_30_CNT_SOCIAL_CIRCLE', 'DEF_30_CNT_SOCIAL_CIRCLE', 'OBS_60_CNT_SOCIAL_CIRCLE', 'DEF_60_CNT_SOCIAL_CIRCLE', 'DAYS_LAST_PHONE_CHANGE', 'FLAG_DOCUMENT_2', 'FLAG_DOCUMENT_3', 'FLAG_DOCUMENT_4', 'FLAG_DOCUMENT_5', 'FLAG_DOCUMENT_6', 'FLAG_DOCUMENT_7', 'FLAG_DOCUMENT_8', 'FLAG_DOCUMENT_9', 'FLAG_DOCUMENT_10', 'FLAG_DOCUMENT_11', 'FLAG_DOCUMENT_12', 'FLAG_DOCUMENT_13', 'FLAG_DOCUMENT_14', 'FLAG_DOCUMENT_15', 'FLAG_DOCUMENT_16', 'FLAG_DOCUMENT_17', 'FLAG_DOCUMENT_18', 'FLAG_DOCUMENT_19', 'FLAG_DOCUMENT_20', 'FLAG_DOCUMENT_21', 'AMT_REQ_CREDIT_BUREAU_HOUR', 'AMT_REQ_CREDIT_BUREAU_DAY', 'AMT_REQ_CREDIT_BUREAU_WEEK', 'AMT_REQ_CREDIT_BUREAU_MON', 'AMT_REQ_CREDIT_BUREAU_QRT', 'AMT_REQ_CREDIT_BUREAU_YEAR'] 106\n"
     ]
    }
   ],
   "source": [
    "print(numerical,len(numerical))"
   ]
  },
  {
   "cell_type": "code",
   "execution_count": 21,
   "metadata": {},
   "outputs": [],
   "source": [
    "cat=[]\n",
    "for i in df.columns:\n",
    "    if i not in numerical:\n",
    "        cat.append(i)"
   ]
  },
  {
   "cell_type": "code",
   "execution_count": 22,
   "metadata": {},
   "outputs": [
    {
     "name": "stdout",
     "output_type": "stream",
     "text": [
      "['NAME_CONTRACT_TYPE', 'CODE_GENDER', 'FLAG_OWN_CAR', 'FLAG_OWN_REALTY', 'NAME_TYPE_SUITE', 'NAME_INCOME_TYPE', 'NAME_EDUCATION_TYPE', 'NAME_FAMILY_STATUS', 'NAME_HOUSING_TYPE', 'OCCUPATION_TYPE', 'WEEKDAY_APPR_PROCESS_START', 'ORGANIZATION_TYPE', 'FONDKAPREMONT_MODE', 'HOUSETYPE_MODE', 'WALLSMATERIAL_MODE', 'EMERGENCYSTATE_MODE'] 16\n"
     ]
    }
   ],
   "source": [
    "print(cat,len(cat))"
   ]
  },
  {
   "cell_type": "code",
   "execution_count": 23,
   "metadata": {},
   "outputs": [
    {
     "data": {
      "text/plain": [
       "(16, 106, 122)"
      ]
     },
     "execution_count": 23,
     "metadata": {},
     "output_type": "execute_result"
    }
   ],
   "source": [
    "len(cat),len(numerical),len(df.columns)"
   ]
  },
  {
   "cell_type": "code",
   "execution_count": 24,
   "metadata": {},
   "outputs": [
    {
     "name": "stdout",
     "output_type": "stream",
     "text": [
      "106 43 63\n"
     ]
    }
   ],
   "source": [
    "numerical_cont=[]\n",
    "numerical_class=[]\n",
    "for i in df[numerical].columns:\n",
    "    if df[i].nunique()<8:\n",
    "        numerical_class.append(i)\n",
    "    else:\n",
    "        numerical_cont.append(i)\n",
    "print(len(numerical),len(numerical_class),len(numerical_cont))\n",
    "        \n",
    "    "
   ]
  },
  {
   "cell_type": "code",
   "execution_count": 25,
   "metadata": {},
   "outputs": [
    {
     "name": "stdout",
     "output_type": "stream",
     "text": [
      "16 14 2\n"
     ]
    }
   ],
   "source": [
    "cat_class=[]\n",
    "cat_cont=[]\n",
    "for i in df[cat].columns:\n",
    "    if df[i].nunique()<8:\n",
    "        cat_class.append(i)\n",
    "    else:\n",
    "        cat_cont.append(i)\n",
    "print(len(cat),len(cat_class),len(cat_cont))"
   ]
  },
  {
   "cell_type": "code",
   "execution_count": 26,
   "metadata": {},
   "outputs": [
    {
     "name": "stdout",
     "output_type": "stream",
     "text": [
      "122\n",
      "16 14 2\n",
      "106 43 63\n"
     ]
    }
   ],
   "source": [
    "print(len(df.columns))\n",
    "print(len(cat),len(cat_class),len(cat_cont))\n",
    "print(len(numerical),len(numerical_class),len(numerical_cont))"
   ]
  },
  {
   "cell_type": "code",
   "execution_count": 27,
   "metadata": {},
   "outputs": [],
   "source": [
    "nullvalue_percentage=(df[numerical_cont].isna().sum()/df[numerical_cont].shape[0])*100"
   ]
  },
  {
   "cell_type": "code",
   "execution_count": 28,
   "metadata": {},
   "outputs": [
    {
     "data": {
      "text/plain": [
       "18"
      ]
     },
     "execution_count": 28,
     "metadata": {},
     "output_type": "execute_result"
    }
   ],
   "source": [
    "len(nullvalue_percentage[nullvalue_percentage<30])"
   ]
  },
  {
   "cell_type": "code",
   "execution_count": 29,
   "metadata": {},
   "outputs": [
    {
     "data": {
      "text/plain": [
       "45"
      ]
     },
     "execution_count": 29,
     "metadata": {},
     "output_type": "execute_result"
    }
   ],
   "source": [
    "len(nullvalue_percentage[nullvalue_percentage>30])"
   ]
  },
  {
   "cell_type": "code",
   "execution_count": 30,
   "metadata": {},
   "outputs": [
    {
     "data": {
      "text/plain": [
       "63"
      ]
     },
     "execution_count": 30,
     "metadata": {},
     "output_type": "execute_result"
    }
   ],
   "source": [
    "len(nullvalue_percentage<30)"
   ]
  },
  {
   "cell_type": "code",
   "execution_count": 31,
   "metadata": {},
   "outputs": [
    {
     "data": {
      "text/plain": [
       "Index(['OWN_CAR_AGE', 'EXT_SOURCE_1', 'APARTMENTS_AVG', 'BASEMENTAREA_AVG',\n",
       "       'YEARS_BEGINEXPLUATATION_AVG', 'YEARS_BUILD_AVG', 'COMMONAREA_AVG',\n",
       "       'ELEVATORS_AVG', 'ENTRANCES_AVG', 'FLOORSMAX_AVG', 'FLOORSMIN_AVG',\n",
       "       'LANDAREA_AVG', 'LIVINGAPARTMENTS_AVG', 'LIVINGAREA_AVG',\n",
       "       'NONLIVINGAPARTMENTS_AVG', 'NONLIVINGAREA_AVG', 'APARTMENTS_MODE',\n",
       "       'BASEMENTAREA_MODE', 'YEARS_BEGINEXPLUATATION_MODE', 'YEARS_BUILD_MODE',\n",
       "       'COMMONAREA_MODE', 'ELEVATORS_MODE', 'ENTRANCES_MODE', 'FLOORSMAX_MODE',\n",
       "       'FLOORSMIN_MODE', 'LANDAREA_MODE', 'LIVINGAPARTMENTS_MODE',\n",
       "       'LIVINGAREA_MODE', 'NONLIVINGAPARTMENTS_MODE', 'NONLIVINGAREA_MODE',\n",
       "       'APARTMENTS_MEDI', 'BASEMENTAREA_MEDI', 'YEARS_BEGINEXPLUATATION_MEDI',\n",
       "       'YEARS_BUILD_MEDI', 'COMMONAREA_MEDI', 'ELEVATORS_MEDI',\n",
       "       'ENTRANCES_MEDI', 'FLOORSMAX_MEDI', 'FLOORSMIN_MEDI', 'LANDAREA_MEDI',\n",
       "       'LIVINGAPARTMENTS_MEDI', 'LIVINGAREA_MEDI', 'NONLIVINGAPARTMENTS_MEDI',\n",
       "       'NONLIVINGAREA_MEDI', 'TOTALAREA_MODE'],\n",
       "      dtype='object')"
      ]
     },
     "execution_count": 31,
     "metadata": {},
     "output_type": "execute_result"
    }
   ],
   "source": [
    "nullvalue_percentage[nullvalue_percentage>30].index"
   ]
  },
  {
   "cell_type": "code",
   "execution_count": 32,
   "metadata": {
    "scrolled": false
   },
   "outputs": [
    {
     "data": {
      "text/plain": [
       "Index(['SK_ID_CURR', 'AMT_INCOME_TOTAL', 'AMT_CREDIT', 'AMT_ANNUITY',\n",
       "       'AMT_GOODS_PRICE', 'REGION_POPULATION_RELATIVE', 'DAYS_BIRTH',\n",
       "       'DAYS_EMPLOYED', 'DAYS_REGISTRATION', 'DAYS_ID_PUBLISH',\n",
       "       'HOUR_APPR_PROCESS_START', 'EXT_SOURCE_2', 'EXT_SOURCE_3',\n",
       "       'OBS_30_CNT_SOCIAL_CIRCLE', 'OBS_60_CNT_SOCIAL_CIRCLE',\n",
       "       'DAYS_LAST_PHONE_CHANGE', 'AMT_REQ_CREDIT_BUREAU_MON',\n",
       "       'AMT_REQ_CREDIT_BUREAU_YEAR'],\n",
       "      dtype='object')"
      ]
     },
     "execution_count": 32,
     "metadata": {},
     "output_type": "execute_result"
    }
   ],
   "source": [
    "nullvalue_percentage[nullvalue_percentage<30].index"
   ]
  },
  {
   "cell_type": "code",
   "execution_count": 46,
   "metadata": {},
   "outputs": [],
   "source": [
    "for i in df[numerical_cont].columns:\n",
    "    df[i].fillna(df[i].median(),inplace=True)"
   ]
  },
  {
   "cell_type": "code",
   "execution_count": 47,
   "metadata": {},
   "outputs": [
    {
     "data": {
      "text/plain": [
       "SK_ID_CURR                      0\n",
       "AMT_INCOME_TOTAL                0\n",
       "AMT_CREDIT                      0\n",
       "AMT_ANNUITY                     0\n",
       "AMT_GOODS_PRICE                 0\n",
       "REGION_POPULATION_RELATIVE      0\n",
       "DAYS_BIRTH                      0\n",
       "DAYS_EMPLOYED                   0\n",
       "DAYS_REGISTRATION               0\n",
       "DAYS_ID_PUBLISH                 0\n",
       "OWN_CAR_AGE                     0\n",
       "HOUR_APPR_PROCESS_START         0\n",
       "EXT_SOURCE_1                    0\n",
       "EXT_SOURCE_2                    0\n",
       "EXT_SOURCE_3                    0\n",
       "APARTMENTS_AVG                  0\n",
       "BASEMENTAREA_AVG                0\n",
       "YEARS_BEGINEXPLUATATION_AVG     0\n",
       "YEARS_BUILD_AVG                 0\n",
       "COMMONAREA_AVG                  0\n",
       "ELEVATORS_AVG                   0\n",
       "ENTRANCES_AVG                   0\n",
       "FLOORSMAX_AVG                   0\n",
       "FLOORSMIN_AVG                   0\n",
       "LANDAREA_AVG                    0\n",
       "LIVINGAPARTMENTS_AVG            0\n",
       "LIVINGAREA_AVG                  0\n",
       "NONLIVINGAPARTMENTS_AVG         0\n",
       "NONLIVINGAREA_AVG               0\n",
       "APARTMENTS_MODE                 0\n",
       "                               ..\n",
       "COMMONAREA_MODE                 0\n",
       "ELEVATORS_MODE                  0\n",
       "ENTRANCES_MODE                  0\n",
       "FLOORSMAX_MODE                  0\n",
       "FLOORSMIN_MODE                  0\n",
       "LANDAREA_MODE                   0\n",
       "LIVINGAPARTMENTS_MODE           0\n",
       "LIVINGAREA_MODE                 0\n",
       "NONLIVINGAPARTMENTS_MODE        0\n",
       "NONLIVINGAREA_MODE              0\n",
       "APARTMENTS_MEDI                 0\n",
       "BASEMENTAREA_MEDI               0\n",
       "YEARS_BEGINEXPLUATATION_MEDI    0\n",
       "YEARS_BUILD_MEDI                0\n",
       "COMMONAREA_MEDI                 0\n",
       "ELEVATORS_MEDI                  0\n",
       "ENTRANCES_MEDI                  0\n",
       "FLOORSMAX_MEDI                  0\n",
       "FLOORSMIN_MEDI                  0\n",
       "LANDAREA_MEDI                   0\n",
       "LIVINGAPARTMENTS_MEDI           0\n",
       "LIVINGAREA_MEDI                 0\n",
       "NONLIVINGAPARTMENTS_MEDI        0\n",
       "NONLIVINGAREA_MEDI              0\n",
       "TOTALAREA_MODE                  0\n",
       "OBS_30_CNT_SOCIAL_CIRCLE        0\n",
       "OBS_60_CNT_SOCIAL_CIRCLE        0\n",
       "DAYS_LAST_PHONE_CHANGE          0\n",
       "AMT_REQ_CREDIT_BUREAU_MON       0\n",
       "AMT_REQ_CREDIT_BUREAU_YEAR      0\n",
       "Length: 63, dtype: int64"
      ]
     },
     "execution_count": 47,
     "metadata": {},
     "output_type": "execute_result"
    }
   ],
   "source": [
    "df[numerical_cont].isna().sum()"
   ]
  },
  {
   "cell_type": "code",
   "execution_count": 35,
   "metadata": {},
   "outputs": [],
   "source": [
    "nullvalue_percentagenumericalclass=(df[numerical_class].isna().sum()/df[numerical_class].shape[0])*100"
   ]
  },
  {
   "cell_type": "code",
   "execution_count": 36,
   "metadata": {},
   "outputs": [
    {
     "data": {
      "text/plain": [
       "43"
      ]
     },
     "execution_count": 36,
     "metadata": {},
     "output_type": "execute_result"
    }
   ],
   "source": [
    "len(nullvalue_percentagenumericalclass[nullvalue_percentagenumericalclass<30])"
   ]
  },
  {
   "cell_type": "code",
   "execution_count": 37,
   "metadata": {},
   "outputs": [
    {
     "data": {
      "text/plain": [
       "0"
      ]
     },
     "execution_count": 37,
     "metadata": {},
     "output_type": "execute_result"
    }
   ],
   "source": [
    "len(nullvalue_percentagenumericalclass[nullvalue_percentagenumericalclass>30])"
   ]
  },
  {
   "cell_type": "code",
   "execution_count": 113,
   "metadata": {},
   "outputs": [
    {
     "data": {
      "text/plain": [
       "0"
      ]
     },
     "execution_count": 113,
     "metadata": {},
     "output_type": "execute_result"
    }
   ],
   "source": [
    "df[numerical_class]['TARGET'].value_counts().index[0]"
   ]
  },
  {
   "cell_type": "code",
   "execution_count": 83,
   "metadata": {},
   "outputs": [],
   "source": [
    "for i in df[numerical_class].columns:\n",
    "    df[i].fillna(df[i].value_counts().index[],inplace=True)"
   ]
  },
  {
   "cell_type": "code",
   "execution_count": 84,
   "metadata": {},
   "outputs": [
    {
     "data": {
      "text/plain": [
       "TARGET                           0\n",
       "CNT_CHILDREN                     0\n",
       "FLAG_MOBIL                       0\n",
       "FLAG_EMP_PHONE                   0\n",
       "FLAG_WORK_PHONE                  0\n",
       "FLAG_CONT_MOBILE                 0\n",
       "FLAG_PHONE                       0\n",
       "FLAG_EMAIL                       0\n",
       "CNT_FAM_MEMBERS                  0\n",
       "REGION_RATING_CLIENT             0\n",
       "REGION_RATING_CLIENT_W_CITY      0\n",
       "REG_REGION_NOT_LIVE_REGION       0\n",
       "REG_REGION_NOT_WORK_REGION       0\n",
       "LIVE_REGION_NOT_WORK_REGION      0\n",
       "REG_CITY_NOT_LIVE_CITY           0\n",
       "REG_CITY_NOT_WORK_CITY           0\n",
       "LIVE_CITY_NOT_WORK_CITY          0\n",
       "DEF_30_CNT_SOCIAL_CIRCLE         4\n",
       "DEF_60_CNT_SOCIAL_CIRCLE         4\n",
       "FLAG_DOCUMENT_2                  0\n",
       "FLAG_DOCUMENT_3                  0\n",
       "FLAG_DOCUMENT_4                  0\n",
       "FLAG_DOCUMENT_5                  0\n",
       "FLAG_DOCUMENT_6                  0\n",
       "FLAG_DOCUMENT_7                  0\n",
       "FLAG_DOCUMENT_8                  0\n",
       "FLAG_DOCUMENT_9                  0\n",
       "FLAG_DOCUMENT_10                 0\n",
       "FLAG_DOCUMENT_11                 0\n",
       "FLAG_DOCUMENT_12                 0\n",
       "FLAG_DOCUMENT_13                 0\n",
       "FLAG_DOCUMENT_14                 0\n",
       "FLAG_DOCUMENT_15                 0\n",
       "FLAG_DOCUMENT_16                 0\n",
       "FLAG_DOCUMENT_17                 0\n",
       "FLAG_DOCUMENT_18                 0\n",
       "FLAG_DOCUMENT_19                 0\n",
       "FLAG_DOCUMENT_20                 0\n",
       "FLAG_DOCUMENT_21                 0\n",
       "AMT_REQ_CREDIT_BUREAU_HOUR     117\n",
       "AMT_REQ_CREDIT_BUREAU_DAY      117\n",
       "AMT_REQ_CREDIT_BUREAU_WEEK     117\n",
       "AMT_REQ_CREDIT_BUREAU_QRT      117\n",
       "dtype: int64"
      ]
     },
     "execution_count": 84,
     "metadata": {},
     "output_type": "execute_result"
    }
   ],
   "source": [
    "df[numerical_class].isna().sum()"
   ]
  },
  {
   "cell_type": "code",
   "execution_count": 40,
   "metadata": {},
   "outputs": [],
   "source": [
    "#nullvalue_percentagenumericalclass=(df[numerical_class].isna().sum()/df[numerical_class].shape[0])*100"
   ]
  },
  {
   "cell_type": "code",
   "execution_count": 41,
   "metadata": {},
   "outputs": [],
   "source": [
    "#nullvalue_percentagenumericalclass[nullvalue_percentagenumericalclass<30].index"
   ]
  },
  {
   "cell_type": "code",
   "execution_count": 42,
   "metadata": {},
   "outputs": [
    {
     "data": {
      "text/plain": [
       "['OCCUPATION_TYPE', 'ORGANIZATION_TYPE']"
      ]
     },
     "execution_count": 42,
     "metadata": {},
     "output_type": "execute_result"
    }
   ],
   "source": [
    "cat_cont"
   ]
  },
  {
   "cell_type": "code",
   "execution_count": 43,
   "metadata": {},
   "outputs": [
    {
     "data": {
      "text/plain": [
       "(1000, 14)"
      ]
     },
     "execution_count": 43,
     "metadata": {},
     "output_type": "execute_result"
    }
   ],
   "source": [
    "df[cat_class].shape"
   ]
  },
  {
   "cell_type": "code",
   "execution_count": 44,
   "metadata": {},
   "outputs": [
    {
     "data": {
      "text/html": [
       "<div>\n",
       "<style scoped>\n",
       "    .dataframe tbody tr th:only-of-type {\n",
       "        vertical-align: middle;\n",
       "    }\n",
       "\n",
       "    .dataframe tbody tr th {\n",
       "        vertical-align: top;\n",
       "    }\n",
       "\n",
       "    .dataframe thead th {\n",
       "        text-align: right;\n",
       "    }\n",
       "</style>\n",
       "<table border=\"1\" class=\"dataframe\">\n",
       "  <thead>\n",
       "    <tr style=\"text-align: right;\">\n",
       "      <th></th>\n",
       "      <th>Cash loans</th>\n",
       "      <th>Revolving loans</th>\n",
       "    </tr>\n",
       "  </thead>\n",
       "  <tbody>\n",
       "    <tr>\n",
       "      <th>306920</th>\n",
       "      <td>1</td>\n",
       "      <td>0</td>\n",
       "    </tr>\n",
       "    <tr>\n",
       "      <th>79968</th>\n",
       "      <td>1</td>\n",
       "      <td>0</td>\n",
       "    </tr>\n",
       "    <tr>\n",
       "      <th>141247</th>\n",
       "      <td>1</td>\n",
       "      <td>0</td>\n",
       "    </tr>\n",
       "    <tr>\n",
       "      <th>196115</th>\n",
       "      <td>1</td>\n",
       "      <td>0</td>\n",
       "    </tr>\n",
       "    <tr>\n",
       "      <th>199249</th>\n",
       "      <td>1</td>\n",
       "      <td>0</td>\n",
       "    </tr>\n",
       "    <tr>\n",
       "      <th>30471</th>\n",
       "      <td>1</td>\n",
       "      <td>0</td>\n",
       "    </tr>\n",
       "    <tr>\n",
       "      <th>58454</th>\n",
       "      <td>1</td>\n",
       "      <td>0</td>\n",
       "    </tr>\n",
       "    <tr>\n",
       "      <th>30121</th>\n",
       "      <td>1</td>\n",
       "      <td>0</td>\n",
       "    </tr>\n",
       "    <tr>\n",
       "      <th>87431</th>\n",
       "      <td>1</td>\n",
       "      <td>0</td>\n",
       "    </tr>\n",
       "    <tr>\n",
       "      <th>53978</th>\n",
       "      <td>1</td>\n",
       "      <td>0</td>\n",
       "    </tr>\n",
       "  </tbody>\n",
       "</table>\n",
       "</div>"
      ],
      "text/plain": [
       "        Cash loans  Revolving loans\n",
       "306920           1                0\n",
       "79968            1                0\n",
       "141247           1                0\n",
       "196115           1                0\n",
       "199249           1                0\n",
       "30471            1                0\n",
       "58454            1                0\n",
       "30121            1                0\n",
       "87431            1                0\n",
       "53978            1                0"
      ]
     },
     "execution_count": 44,
     "metadata": {},
     "output_type": "execute_result"
    }
   ],
   "source": [
    "pd.get_dummies(df[cat_class]['NAME_CONTRACT_TYPE']).head(10)"
   ]
  },
  {
   "cell_type": "code",
   "execution_count": 59,
   "metadata": {},
   "outputs": [
    {
     "data": {
      "text/plain": [
       "(1000, 14)"
      ]
     },
     "execution_count": 59,
     "metadata": {},
     "output_type": "execute_result"
    }
   ],
   "source": [
    "df[cat_class].shape"
   ]
  },
  {
   "cell_type": "code",
   "execution_count": 64,
   "metadata": {},
   "outputs": [],
   "source": [
    "import pandas as pd\n",
    "a=pd.get_dummies(df[cat_class]).head(10).shape"
   ]
  },
  {
   "cell_type": "code",
   "execution_count": 102,
   "metadata": {},
   "outputs": [],
   "source": [
    "for i in df[cat_class].columns:\n",
    "    df[i].fillna(df[i].value_counts().index[0],inplace=True)"
   ]
  },
  {
   "cell_type": "code",
   "execution_count": 103,
   "metadata": {},
   "outputs": [
    {
     "data": {
      "text/plain": [
       "OCCUPATION_TYPE      0\n",
       "ORGANIZATION_TYPE    0\n",
       "dtype: int64"
      ]
     },
     "execution_count": 103,
     "metadata": {},
     "output_type": "execute_result"
    }
   ],
   "source": [
    "df[cat_cont].isna().sum()"
   ]
  },
  {
   "cell_type": "code",
   "execution_count": 115,
   "metadata": {},
   "outputs": [
    {
     "data": {
      "text/plain": [
       "'Cash loans'"
      ]
     },
     "execution_count": 115,
     "metadata": {},
     "output_type": "execute_result"
    }
   ],
   "source": [
    "df[cat_class]['NAME_CONTRACT_TYPE'].value_counts().index[0]"
   ]
  },
  {
   "cell_type": "code",
   "execution_count": 95,
   "metadata": {},
   "outputs": [],
   "source": [
    "for i in df[cat_cont].columns:\n",
    "    df[i].fillna(df[i].value_counts().index[0],inplace=True)"
   ]
  },
  {
   "cell_type": "code",
   "execution_count": 96,
   "metadata": {},
   "outputs": [
    {
     "data": {
      "text/plain": [
       "OCCUPATION_TYPE      0\n",
       "ORGANIZATION_TYPE    0\n",
       "dtype: int64"
      ]
     },
     "execution_count": 96,
     "metadata": {},
     "output_type": "execute_result"
    }
   ],
   "source": [
    "df[cat_cont].isna().sum()"
   ]
  }
 ],
 "metadata": {
  "kernelspec": {
   "display_name": "Python 3",
   "language": "python",
   "name": "python3"
  },
  "language_info": {
   "codemirror_mode": {
    "name": "ipython",
    "version": 3
   },
   "file_extension": ".py",
   "mimetype": "text/x-python",
   "name": "python",
   "nbconvert_exporter": "python",
   "pygments_lexer": "ipython3",
   "version": "3.7.3"
  }
 },
 "nbformat": 4,
 "nbformat_minor": 2
}
