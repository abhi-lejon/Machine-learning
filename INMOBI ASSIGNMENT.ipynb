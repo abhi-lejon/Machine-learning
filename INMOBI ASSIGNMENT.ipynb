{
 "cells": [
  {
   "cell_type": "code",
   "execution_count": null,
   "metadata": {},
   "outputs": [],
   "source": [
    "##Q1 "
   ]
  },
  {
   "cell_type": "code",
   "execution_count": 6,
   "metadata": {
    "ExecuteTime": {
     "end_time": "2021-03-20T04:51:44.270857Z",
     "start_time": "2021-03-20T04:51:43.314746Z"
    }
   },
   "outputs": [],
   "source": [
    "import pandas as pd\n",
    "df1=pd.read_excel(r\"D:\\Users\\abhisv\\Documents\\Metro bank\\INMOBI\\Assignment - 1 (1).xlsx\")"
   ]
  },
  {
   "cell_type": "code",
   "execution_count": 7,
   "metadata": {
    "ExecuteTime": {
     "end_time": "2021-03-20T04:51:44.444865Z",
     "start_time": "2021-03-20T04:51:44.417814Z"
    }
   },
   "outputs": [
    {
     "data": {
      "text/html": [
       "<div>\n",
       "<style scoped>\n",
       "    .dataframe tbody tr th:only-of-type {\n",
       "        vertical-align: middle;\n",
       "    }\n",
       "\n",
       "    .dataframe tbody tr th {\n",
       "        vertical-align: top;\n",
       "    }\n",
       "\n",
       "    .dataframe thead th {\n",
       "        text-align: right;\n",
       "    }\n",
       "</style>\n",
       "<table border=\"1\" class=\"dataframe\">\n",
       "  <thead>\n",
       "    <tr style=\"text-align: right;\">\n",
       "      <th></th>\n",
       "      <th>Date</th>\n",
       "      <th>Country</th>\n",
       "      <th>Advertiser Account</th>\n",
       "      <th>Spends</th>\n",
       "    </tr>\n",
       "  </thead>\n",
       "  <tbody>\n",
       "    <tr>\n",
       "      <th>0</th>\n",
       "      <td>2020-12-19</td>\n",
       "      <td>USA</td>\n",
       "      <td>9a9b24</td>\n",
       "      <td>119090.0</td>\n",
       "    </tr>\n",
       "    <tr>\n",
       "      <th>1</th>\n",
       "      <td>2020-12-20</td>\n",
       "      <td>USA</td>\n",
       "      <td>9a9b24</td>\n",
       "      <td>112809.0</td>\n",
       "    </tr>\n",
       "    <tr>\n",
       "      <th>2</th>\n",
       "      <td>2020-12-26</td>\n",
       "      <td>USA</td>\n",
       "      <td>9a9b24</td>\n",
       "      <td>101680.0</td>\n",
       "    </tr>\n",
       "    <tr>\n",
       "      <th>3</th>\n",
       "      <td>2020-12-13</td>\n",
       "      <td>USA</td>\n",
       "      <td>9a9b24</td>\n",
       "      <td>106725.0</td>\n",
       "    </tr>\n",
       "    <tr>\n",
       "      <th>4</th>\n",
       "      <td>2020-12-12</td>\n",
       "      <td>USA</td>\n",
       "      <td>9a9b24</td>\n",
       "      <td>92708.0</td>\n",
       "    </tr>\n",
       "  </tbody>\n",
       "</table>\n",
       "</div>"
      ],
      "text/plain": [
       "        Date Country Advertiser Account    Spends\n",
       "0 2020-12-19     USA             9a9b24  119090.0\n",
       "1 2020-12-20     USA             9a9b24  112809.0\n",
       "2 2020-12-26     USA             9a9b24  101680.0\n",
       "3 2020-12-13     USA             9a9b24  106725.0\n",
       "4 2020-12-12     USA             9a9b24   92708.0"
      ]
     },
     "execution_count": 7,
     "metadata": {},
     "output_type": "execute_result"
    }
   ],
   "source": [
    "df1.head()"
   ]
  },
  {
   "cell_type": "code",
   "execution_count": 8,
   "metadata": {
    "ExecuteTime": {
     "end_time": "2021-03-20T04:51:44.771794Z",
     "start_time": "2021-03-20T04:51:44.716362Z"
    }
   },
   "outputs": [
    {
     "data": {
      "text/html": [
       "<div>\n",
       "<style scoped>\n",
       "    .dataframe tbody tr th:only-of-type {\n",
       "        vertical-align: middle;\n",
       "    }\n",
       "\n",
       "    .dataframe tbody tr th {\n",
       "        vertical-align: top;\n",
       "    }\n",
       "\n",
       "    .dataframe thead th {\n",
       "        text-align: right;\n",
       "    }\n",
       "</style>\n",
       "<table border=\"1\" class=\"dataframe\">\n",
       "  <thead>\n",
       "    <tr style=\"text-align: right;\">\n",
       "      <th></th>\n",
       "      <th>Country</th>\n",
       "      <th>Region</th>\n",
       "    </tr>\n",
       "  </thead>\n",
       "  <tbody>\n",
       "    <tr>\n",
       "      <th>0</th>\n",
       "      <td>USA</td>\n",
       "      <td>NaN</td>\n",
       "    </tr>\n",
       "    <tr>\n",
       "      <th>1</th>\n",
       "      <td>Canada</td>\n",
       "      <td>NaN</td>\n",
       "    </tr>\n",
       "    <tr>\n",
       "      <th>2</th>\n",
       "      <td>Spain</td>\n",
       "      <td>EU</td>\n",
       "    </tr>\n",
       "    <tr>\n",
       "      <th>3</th>\n",
       "      <td>United Kingdom</td>\n",
       "      <td>EU</td>\n",
       "    </tr>\n",
       "    <tr>\n",
       "      <th>4</th>\n",
       "      <td>India</td>\n",
       "      <td>APAC</td>\n",
       "    </tr>\n",
       "  </tbody>\n",
       "</table>\n",
       "</div>"
      ],
      "text/plain": [
       "          Country Region\n",
       "0             USA    NaN\n",
       "1          Canada    NaN\n",
       "2           Spain     EU\n",
       "3  United Kingdom     EU\n",
       "4           India   APAC"
      ]
     },
     "execution_count": 8,
     "metadata": {},
     "output_type": "execute_result"
    }
   ],
   "source": [
    "df2=pd.read_excel(r\"D:\\Users\\abhisv\\Documents\\Metro bank\\Book1.xlsx\")\n",
    "df2.head()"
   ]
  },
  {
   "cell_type": "code",
   "execution_count": 9,
   "metadata": {
    "ExecuteTime": {
     "end_time": "2021-03-20T04:51:52.192824Z",
     "start_time": "2021-03-20T04:51:52.185845Z"
    }
   },
   "outputs": [],
   "source": [
    "df2.fillna('NA',inplace=True)"
   ]
  },
  {
   "cell_type": "code",
   "execution_count": 10,
   "metadata": {
    "ExecuteTime": {
     "end_time": "2021-03-20T04:51:52.407187Z",
     "start_time": "2021-03-20T04:51:52.378677Z"
    }
   },
   "outputs": [
    {
     "data": {
      "text/html": [
       "<div>\n",
       "<style scoped>\n",
       "    .dataframe tbody tr th:only-of-type {\n",
       "        vertical-align: middle;\n",
       "    }\n",
       "\n",
       "    .dataframe tbody tr th {\n",
       "        vertical-align: top;\n",
       "    }\n",
       "\n",
       "    .dataframe thead th {\n",
       "        text-align: right;\n",
       "    }\n",
       "</style>\n",
       "<table border=\"1\" class=\"dataframe\">\n",
       "  <thead>\n",
       "    <tr style=\"text-align: right;\">\n",
       "      <th></th>\n",
       "      <th>Country</th>\n",
       "      <th>Region</th>\n",
       "    </tr>\n",
       "  </thead>\n",
       "  <tbody>\n",
       "    <tr>\n",
       "      <th>0</th>\n",
       "      <td>USA</td>\n",
       "      <td>NA</td>\n",
       "    </tr>\n",
       "    <tr>\n",
       "      <th>1</th>\n",
       "      <td>Canada</td>\n",
       "      <td>NA</td>\n",
       "    </tr>\n",
       "    <tr>\n",
       "      <th>2</th>\n",
       "      <td>Spain</td>\n",
       "      <td>EU</td>\n",
       "    </tr>\n",
       "    <tr>\n",
       "      <th>3</th>\n",
       "      <td>United Kingdom</td>\n",
       "      <td>EU</td>\n",
       "    </tr>\n",
       "    <tr>\n",
       "      <th>4</th>\n",
       "      <td>India</td>\n",
       "      <td>APAC</td>\n",
       "    </tr>\n",
       "    <tr>\n",
       "      <th>5</th>\n",
       "      <td>Indonesia</td>\n",
       "      <td>APAC</td>\n",
       "    </tr>\n",
       "  </tbody>\n",
       "</table>\n",
       "</div>"
      ],
      "text/plain": [
       "          Country Region\n",
       "0             USA     NA\n",
       "1          Canada     NA\n",
       "2           Spain     EU\n",
       "3  United Kingdom     EU\n",
       "4           India   APAC\n",
       "5       Indonesia   APAC"
      ]
     },
     "execution_count": 10,
     "metadata": {},
     "output_type": "execute_result"
    }
   ],
   "source": [
    "df2"
   ]
  },
  {
   "cell_type": "code",
   "execution_count": 11,
   "metadata": {
    "ExecuteTime": {
     "end_time": "2021-03-20T04:52:38.741692Z",
     "start_time": "2021-03-20T04:52:38.707080Z"
    }
   },
   "outputs": [],
   "source": [
    "df=pd.merge(df1,df2,on='Country',how='inner')"
   ]
  },
  {
   "cell_type": "code",
   "execution_count": 15,
   "metadata": {
    "ExecuteTime": {
     "end_time": "2021-03-20T04:53:36.856878Z",
     "start_time": "2021-03-20T04:53:36.837350Z"
    }
   },
   "outputs": [
    {
     "data": {
      "text/html": [
       "<div>\n",
       "<style scoped>\n",
       "    .dataframe tbody tr th:only-of-type {\n",
       "        vertical-align: middle;\n",
       "    }\n",
       "\n",
       "    .dataframe tbody tr th {\n",
       "        vertical-align: top;\n",
       "    }\n",
       "\n",
       "    .dataframe thead th {\n",
       "        text-align: right;\n",
       "    }\n",
       "</style>\n",
       "<table border=\"1\" class=\"dataframe\">\n",
       "  <thead>\n",
       "    <tr style=\"text-align: right;\">\n",
       "      <th></th>\n",
       "      <th>Date</th>\n",
       "      <th>Country</th>\n",
       "      <th>Advertiser Account</th>\n",
       "      <th>Spends</th>\n",
       "      <th>Region</th>\n",
       "    </tr>\n",
       "  </thead>\n",
       "  <tbody>\n",
       "    <tr>\n",
       "      <th>0</th>\n",
       "      <td>2020-12-19</td>\n",
       "      <td>USA</td>\n",
       "      <td>9a9b24</td>\n",
       "      <td>119090.0</td>\n",
       "      <td>NA</td>\n",
       "    </tr>\n",
       "    <tr>\n",
       "      <th>1</th>\n",
       "      <td>2020-12-20</td>\n",
       "      <td>USA</td>\n",
       "      <td>9a9b24</td>\n",
       "      <td>112809.0</td>\n",
       "      <td>NA</td>\n",
       "    </tr>\n",
       "  </tbody>\n",
       "</table>\n",
       "</div>"
      ],
      "text/plain": [
       "        Date Country Advertiser Account    Spends Region\n",
       "0 2020-12-19     USA             9a9b24  119090.0     NA\n",
       "1 2020-12-20     USA             9a9b24  112809.0     NA"
      ]
     },
     "execution_count": 15,
     "metadata": {},
     "output_type": "execute_result"
    }
   ],
   "source": [
    "df.head(2)"
   ]
  },
  {
   "cell_type": "code",
   "execution_count": null,
   "metadata": {},
   "outputs": [],
   "source": [
    "##Q2- Average daily spends for each account"
   ]
  },
  {
   "cell_type": "code",
   "execution_count": 17,
   "metadata": {
    "ExecuteTime": {
     "end_time": "2021-03-20T04:54:04.682002Z",
     "start_time": "2021-03-20T04:54:04.670034Z"
    }
   },
   "outputs": [
    {
     "data": {
      "text/plain": [
       "83"
      ]
     },
     "execution_count": 17,
     "metadata": {},
     "output_type": "execute_result"
    }
   ],
   "source": [
    "df['Advertiser Account'].nunique()"
   ]
  },
  {
   "cell_type": "code",
   "execution_count": 22,
   "metadata": {
    "ExecuteTime": {
     "end_time": "2021-03-20T04:56:44.602756Z",
     "start_time": "2021-03-20T04:56:44.577858Z"
    }
   },
   "outputs": [
    {
     "data": {
      "text/html": [
       "<div>\n",
       "<style scoped>\n",
       "    .dataframe tbody tr th:only-of-type {\n",
       "        vertical-align: middle;\n",
       "    }\n",
       "\n",
       "    .dataframe tbody tr th {\n",
       "        vertical-align: top;\n",
       "    }\n",
       "\n",
       "    .dataframe thead th {\n",
       "        text-align: right;\n",
       "    }\n",
       "</style>\n",
       "<table border=\"1\" class=\"dataframe\">\n",
       "  <thead>\n",
       "    <tr style=\"text-align: right;\">\n",
       "      <th></th>\n",
       "      <th>Spends</th>\n",
       "    </tr>\n",
       "    <tr>\n",
       "      <th>Advertiser Account</th>\n",
       "      <th></th>\n",
       "    </tr>\n",
       "  </thead>\n",
       "  <tbody>\n",
       "    <tr>\n",
       "      <th>003bde</th>\n",
       "      <td>438.682262</td>\n",
       "    </tr>\n",
       "    <tr>\n",
       "      <th>01347d</th>\n",
       "      <td>391.719662</td>\n",
       "    </tr>\n",
       "  </tbody>\n",
       "</table>\n",
       "</div>"
      ],
      "text/plain": [
       "                        Spends\n",
       "Advertiser Account            \n",
       "003bde              438.682262\n",
       "01347d              391.719662"
      ]
     },
     "execution_count": 22,
     "metadata": {},
     "output_type": "execute_result"
    }
   ],
   "source": [
    "df.groupby('Advertiser Account')[['Spends']].mean().head(2)"
   ]
  },
  {
   "cell_type": "code",
   "execution_count": null,
   "metadata": {},
   "outputs": [],
   "source": [
    "##Q3- For each region, top 3 accounts by spend"
   ]
  },
  {
   "cell_type": "code",
   "execution_count": 80,
   "metadata": {
    "ExecuteTime": {
     "end_time": "2021-03-20T05:26:12.170490Z",
     "start_time": "2021-03-20T05:26:12.147983Z"
    }
   },
   "outputs": [],
   "source": [
    "df_NA=df.groupby(['Region','Advertiser Account'])[['Spends']].sum().nlargest(3,'Spends')"
   ]
  },
  {
   "cell_type": "code",
   "execution_count": 81,
   "metadata": {
    "ExecuteTime": {
     "end_time": "2021-03-20T05:26:12.642718Z",
     "start_time": "2021-03-20T05:26:12.631903Z"
    }
   },
   "outputs": [
    {
     "data": {
      "text/html": [
       "<div>\n",
       "<style scoped>\n",
       "    .dataframe tbody tr th:only-of-type {\n",
       "        vertical-align: middle;\n",
       "    }\n",
       "\n",
       "    .dataframe tbody tr th {\n",
       "        vertical-align: top;\n",
       "    }\n",
       "\n",
       "    .dataframe thead th {\n",
       "        text-align: right;\n",
       "    }\n",
       "</style>\n",
       "<table border=\"1\" class=\"dataframe\">\n",
       "  <thead>\n",
       "    <tr style=\"text-align: right;\">\n",
       "      <th></th>\n",
       "      <th></th>\n",
       "      <th>Spends</th>\n",
       "    </tr>\n",
       "    <tr>\n",
       "      <th>Region</th>\n",
       "      <th>Advertiser Account</th>\n",
       "      <th></th>\n",
       "    </tr>\n",
       "  </thead>\n",
       "  <tbody>\n",
       "    <tr>\n",
       "      <th rowspan=\"3\" valign=\"top\">NA</th>\n",
       "      <th>9a9b24</th>\n",
       "      <td>2.628114e+06</td>\n",
       "    </tr>\n",
       "    <tr>\n",
       "      <th>fd61ae</th>\n",
       "      <td>1.745500e+06</td>\n",
       "    </tr>\n",
       "    <tr>\n",
       "      <th>1b1bdc</th>\n",
       "      <td>1.676122e+06</td>\n",
       "    </tr>\n",
       "  </tbody>\n",
       "</table>\n",
       "</div>"
      ],
      "text/plain": [
       "                                 Spends\n",
       "Region Advertiser Account              \n",
       "NA     9a9b24              2.628114e+06\n",
       "       fd61ae              1.745500e+06\n",
       "       1b1bdc              1.676122e+06"
      ]
     },
     "execution_count": 81,
     "metadata": {},
     "output_type": "execute_result"
    }
   ],
   "source": [
    "df_NA"
   ]
  },
  {
   "cell_type": "code",
   "execution_count": 82,
   "metadata": {
    "ExecuteTime": {
     "end_time": "2021-03-20T05:26:22.363558Z",
     "start_time": "2021-03-20T05:26:22.355639Z"
    }
   },
   "outputs": [],
   "source": [
    "df_2=df[df['Region']=='EU']"
   ]
  },
  {
   "cell_type": "code",
   "execution_count": 84,
   "metadata": {
    "ExecuteTime": {
     "end_time": "2021-03-20T05:26:27.559552Z",
     "start_time": "2021-03-20T05:26:27.534797Z"
    }
   },
   "outputs": [
    {
     "data": {
      "text/html": [
       "<div>\n",
       "<style scoped>\n",
       "    .dataframe tbody tr th:only-of-type {\n",
       "        vertical-align: middle;\n",
       "    }\n",
       "\n",
       "    .dataframe tbody tr th {\n",
       "        vertical-align: top;\n",
       "    }\n",
       "\n",
       "    .dataframe thead th {\n",
       "        text-align: right;\n",
       "    }\n",
       "</style>\n",
       "<table border=\"1\" class=\"dataframe\">\n",
       "  <thead>\n",
       "    <tr style=\"text-align: right;\">\n",
       "      <th></th>\n",
       "      <th></th>\n",
       "      <th>Spends</th>\n",
       "    </tr>\n",
       "    <tr>\n",
       "      <th>Region</th>\n",
       "      <th>Advertiser Account</th>\n",
       "      <th></th>\n",
       "    </tr>\n",
       "  </thead>\n",
       "  <tbody>\n",
       "    <tr>\n",
       "      <th rowspan=\"3\" valign=\"top\">EU</th>\n",
       "      <th>9a9b24</th>\n",
       "      <td>83510.401173</td>\n",
       "    </tr>\n",
       "    <tr>\n",
       "      <th>1b1bdc</th>\n",
       "      <td>31748.985370</td>\n",
       "    </tr>\n",
       "    <tr>\n",
       "      <th>575232</th>\n",
       "      <td>29058.033085</td>\n",
       "    </tr>\n",
       "  </tbody>\n",
       "</table>\n",
       "</div>"
      ],
      "text/plain": [
       "                                 Spends\n",
       "Region Advertiser Account              \n",
       "EU     9a9b24              83510.401173\n",
       "       1b1bdc              31748.985370\n",
       "       575232              29058.033085"
      ]
     },
     "execution_count": 84,
     "metadata": {},
     "output_type": "execute_result"
    }
   ],
   "source": [
    "df_EU=df_2.groupby(['Region','Advertiser Account'])[['Spends']].sum().nlargest(3,'Spends')\n",
    "df_EU"
   ]
  },
  {
   "cell_type": "code",
   "execution_count": null,
   "metadata": {},
   "outputs": [],
   "source": [
    "df_3=df[df['Region']=='APAC']"
   ]
  },
  {
   "cell_type": "code",
   "execution_count": 85,
   "metadata": {
    "ExecuteTime": {
     "end_time": "2021-03-20T05:26:58.215474Z",
     "start_time": "2021-03-20T05:26:58.176930Z"
    }
   },
   "outputs": [
    {
     "data": {
      "text/html": [
       "<div>\n",
       "<style scoped>\n",
       "    .dataframe tbody tr th:only-of-type {\n",
       "        vertical-align: middle;\n",
       "    }\n",
       "\n",
       "    .dataframe tbody tr th {\n",
       "        vertical-align: top;\n",
       "    }\n",
       "\n",
       "    .dataframe thead th {\n",
       "        text-align: right;\n",
       "    }\n",
       "</style>\n",
       "<table border=\"1\" class=\"dataframe\">\n",
       "  <thead>\n",
       "    <tr style=\"text-align: right;\">\n",
       "      <th></th>\n",
       "      <th></th>\n",
       "      <th>Spends</th>\n",
       "    </tr>\n",
       "    <tr>\n",
       "      <th>Region</th>\n",
       "      <th>Advertiser Account</th>\n",
       "      <th></th>\n",
       "    </tr>\n",
       "  </thead>\n",
       "  <tbody>\n",
       "    <tr>\n",
       "      <th rowspan=\"3\" valign=\"top\">EU</th>\n",
       "      <th>9a9b24</th>\n",
       "      <td>83510.401173</td>\n",
       "    </tr>\n",
       "    <tr>\n",
       "      <th>1b1bdc</th>\n",
       "      <td>31748.985370</td>\n",
       "    </tr>\n",
       "    <tr>\n",
       "      <th>575232</th>\n",
       "      <td>29058.033085</td>\n",
       "    </tr>\n",
       "  </tbody>\n",
       "</table>\n",
       "</div>"
      ],
      "text/plain": [
       "                                 Spends\n",
       "Region Advertiser Account              \n",
       "EU     9a9b24              83510.401173\n",
       "       1b1bdc              31748.985370\n",
       "       575232              29058.033085"
      ]
     },
     "execution_count": 85,
     "metadata": {},
     "output_type": "execute_result"
    }
   ],
   "source": [
    "df_APAC=df_2.groupby(['Region','Advertiser Account'])[['Spends']].sum().nlargest(3,'Spends')\n",
    "df_APAC"
   ]
  },
  {
   "cell_type": "code",
   "execution_count": 88,
   "metadata": {
    "ExecuteTime": {
     "end_time": "2021-03-20T05:31:13.186709Z",
     "start_time": "2021-03-20T05:31:12.738727Z"
    }
   },
   "outputs": [
    {
     "data": {
      "text/html": [
       "<div>\n",
       "<style scoped>\n",
       "    .dataframe tbody tr th:only-of-type {\n",
       "        vertical-align: middle;\n",
       "    }\n",
       "\n",
       "    .dataframe tbody tr th {\n",
       "        vertical-align: top;\n",
       "    }\n",
       "\n",
       "    .dataframe thead th {\n",
       "        text-align: right;\n",
       "    }\n",
       "</style>\n",
       "<table border=\"1\" class=\"dataframe\">\n",
       "  <thead>\n",
       "    <tr style=\"text-align: right;\">\n",
       "      <th></th>\n",
       "      <th>Date</th>\n",
       "      <th>Country</th>\n",
       "      <th>Advertiser Account</th>\n",
       "      <th>Spends</th>\n",
       "      <th>Region</th>\n",
       "    </tr>\n",
       "  </thead>\n",
       "  <tbody>\n",
       "    <tr>\n",
       "      <th>0</th>\n",
       "      <td>3775.0</td>\n",
       "      <td>5550.5</td>\n",
       "      <td>4324.5</td>\n",
       "      <td>7708.0</td>\n",
       "      <td>5973.0</td>\n",
       "    </tr>\n",
       "    <tr>\n",
       "      <th>1</th>\n",
       "      <td>4053.5</td>\n",
       "      <td>5550.5</td>\n",
       "      <td>4324.5</td>\n",
       "      <td>7704.0</td>\n",
       "      <td>5973.0</td>\n",
       "    </tr>\n",
       "  </tbody>\n",
       "</table>\n",
       "</div>"
      ],
      "text/plain": [
       "     Date  Country  Advertiser Account  Spends  Region\n",
       "0  3775.0   5550.5              4324.5  7708.0  5973.0\n",
       "1  4053.5   5550.5              4324.5  7704.0  5973.0"
      ]
     },
     "execution_count": 88,
     "metadata": {},
     "output_type": "execute_result"
    }
   ],
   "source": [
    "df.rank().head(2)"
   ]
  },
  {
   "cell_type": "code",
   "execution_count": 89,
   "metadata": {
    "ExecuteTime": {
     "end_time": "2021-03-20T05:31:44.751830Z",
     "start_time": "2021-03-20T05:31:44.743138Z"
    }
   },
   "outputs": [],
   "source": [
    "df['Rank by spends']=df['Spends'].rank(ascending=True)"
   ]
  },
  {
   "cell_type": "code",
   "execution_count": 90,
   "metadata": {
    "ExecuteTime": {
     "end_time": "2021-03-20T05:31:53.393738Z",
     "start_time": "2021-03-20T05:31:53.375245Z"
    }
   },
   "outputs": [
    {
     "data": {
      "text/html": [
       "<div>\n",
       "<style scoped>\n",
       "    .dataframe tbody tr th:only-of-type {\n",
       "        vertical-align: middle;\n",
       "    }\n",
       "\n",
       "    .dataframe tbody tr th {\n",
       "        vertical-align: top;\n",
       "    }\n",
       "\n",
       "    .dataframe thead th {\n",
       "        text-align: right;\n",
       "    }\n",
       "</style>\n",
       "<table border=\"1\" class=\"dataframe\">\n",
       "  <thead>\n",
       "    <tr style=\"text-align: right;\">\n",
       "      <th></th>\n",
       "      <th>Date</th>\n",
       "      <th>Country</th>\n",
       "      <th>Advertiser Account</th>\n",
       "      <th>Spends</th>\n",
       "      <th>Region</th>\n",
       "      <th>Rank by spends</th>\n",
       "    </tr>\n",
       "  </thead>\n",
       "  <tbody>\n",
       "    <tr>\n",
       "      <th>0</th>\n",
       "      <td>2020-12-19</td>\n",
       "      <td>USA</td>\n",
       "      <td>9a9b24</td>\n",
       "      <td>119090.0</td>\n",
       "      <td>NA</td>\n",
       "      <td>7708.0</td>\n",
       "    </tr>\n",
       "    <tr>\n",
       "      <th>1</th>\n",
       "      <td>2020-12-20</td>\n",
       "      <td>USA</td>\n",
       "      <td>9a9b24</td>\n",
       "      <td>112809.0</td>\n",
       "      <td>NA</td>\n",
       "      <td>7704.0</td>\n",
       "    </tr>\n",
       "    <tr>\n",
       "      <th>2</th>\n",
       "      <td>2020-12-26</td>\n",
       "      <td>USA</td>\n",
       "      <td>9a9b24</td>\n",
       "      <td>101680.0</td>\n",
       "      <td>NA</td>\n",
       "      <td>7702.0</td>\n",
       "    </tr>\n",
       "    <tr>\n",
       "      <th>3</th>\n",
       "      <td>2020-12-13</td>\n",
       "      <td>USA</td>\n",
       "      <td>9a9b24</td>\n",
       "      <td>106725.0</td>\n",
       "      <td>NA</td>\n",
       "      <td>7703.0</td>\n",
       "    </tr>\n",
       "    <tr>\n",
       "      <th>4</th>\n",
       "      <td>2020-12-12</td>\n",
       "      <td>USA</td>\n",
       "      <td>9a9b24</td>\n",
       "      <td>92708.0</td>\n",
       "      <td>NA</td>\n",
       "      <td>7694.0</td>\n",
       "    </tr>\n",
       "  </tbody>\n",
       "</table>\n",
       "</div>"
      ],
      "text/plain": [
       "        Date Country Advertiser Account    Spends Region  Rank by spends\n",
       "0 2020-12-19     USA             9a9b24  119090.0     NA          7708.0\n",
       "1 2020-12-20     USA             9a9b24  112809.0     NA          7704.0\n",
       "2 2020-12-26     USA             9a9b24  101680.0     NA          7702.0\n",
       "3 2020-12-13     USA             9a9b24  106725.0     NA          7703.0\n",
       "4 2020-12-12     USA             9a9b24   92708.0     NA          7694.0"
      ]
     },
     "execution_count": 90,
     "metadata": {},
     "output_type": "execute_result"
    }
   ],
   "source": [
    "df.head()"
   ]
  },
  {
   "cell_type": "code",
   "execution_count": 92,
   "metadata": {
    "ExecuteTime": {
     "end_time": "2021-03-20T05:33:00.098589Z",
     "start_time": "2021-03-20T05:33:00.079091Z"
    }
   },
   "outputs": [
    {
     "data": {
      "text/html": [
       "<div>\n",
       "<style scoped>\n",
       "    .dataframe tbody tr th:only-of-type {\n",
       "        vertical-align: middle;\n",
       "    }\n",
       "\n",
       "    .dataframe tbody tr th {\n",
       "        vertical-align: top;\n",
       "    }\n",
       "\n",
       "    .dataframe thead th {\n",
       "        text-align: right;\n",
       "    }\n",
       "</style>\n",
       "<table border=\"1\" class=\"dataframe\">\n",
       "  <thead>\n",
       "    <tr style=\"text-align: right;\">\n",
       "      <th></th>\n",
       "      <th>Date</th>\n",
       "      <th>Country</th>\n",
       "      <th>Advertiser Account</th>\n",
       "      <th>Spends</th>\n",
       "      <th>Region</th>\n",
       "      <th>Rank by spends</th>\n",
       "    </tr>\n",
       "  </thead>\n",
       "  <tbody>\n",
       "    <tr>\n",
       "      <th>19</th>\n",
       "      <td>2020-12-07</td>\n",
       "      <td>USA</td>\n",
       "      <td>9a9b24</td>\n",
       "      <td>119743.0</td>\n",
       "      <td>NA</td>\n",
       "      <td>7710.0</td>\n",
       "    </tr>\n",
       "    <tr>\n",
       "      <th>5</th>\n",
       "      <td>2020-12-23</td>\n",
       "      <td>USA</td>\n",
       "      <td>9a9b24</td>\n",
       "      <td>119274.0</td>\n",
       "      <td>NA</td>\n",
       "      <td>7709.0</td>\n",
       "    </tr>\n",
       "    <tr>\n",
       "      <th>0</th>\n",
       "      <td>2020-12-19</td>\n",
       "      <td>USA</td>\n",
       "      <td>9a9b24</td>\n",
       "      <td>119090.0</td>\n",
       "      <td>NA</td>\n",
       "      <td>7708.0</td>\n",
       "    </tr>\n",
       "    <tr>\n",
       "      <th>14</th>\n",
       "      <td>2020-12-17</td>\n",
       "      <td>USA</td>\n",
       "      <td>9a9b24</td>\n",
       "      <td>116453.0</td>\n",
       "      <td>NA</td>\n",
       "      <td>7707.0</td>\n",
       "    </tr>\n",
       "    <tr>\n",
       "      <th>10</th>\n",
       "      <td>2020-12-25</td>\n",
       "      <td>USA</td>\n",
       "      <td>9a9b24</td>\n",
       "      <td>114825.0</td>\n",
       "      <td>NA</td>\n",
       "      <td>7706.0</td>\n",
       "    </tr>\n",
       "  </tbody>\n",
       "</table>\n",
       "</div>"
      ],
      "text/plain": [
       "         Date Country Advertiser Account    Spends Region  Rank by spends\n",
       "19 2020-12-07     USA             9a9b24  119743.0     NA          7710.0\n",
       "5  2020-12-23     USA             9a9b24  119274.0     NA          7709.0\n",
       "0  2020-12-19     USA             9a9b24  119090.0     NA          7708.0\n",
       "14 2020-12-17     USA             9a9b24  116453.0     NA          7707.0\n",
       "10 2020-12-25     USA             9a9b24  114825.0     NA          7706.0"
      ]
     },
     "execution_count": 92,
     "metadata": {},
     "output_type": "execute_result"
    }
   ],
   "source": [
    "df.sort_values('Spends',ascending=False).head()"
   ]
  },
  {
   "cell_type": "code",
   "execution_count": 93,
   "metadata": {
    "ExecuteTime": {
     "end_time": "2021-03-20T05:34:04.137143Z",
     "start_time": "2021-03-20T05:34:04.119212Z"
    }
   },
   "outputs": [],
   "source": [
    "df_1=df.groupby(['Region','Advertiser Account'])[['Spends']].sum().nlargest(3,'Spends')"
   ]
  },
  {
   "cell_type": "code",
   "execution_count": 101,
   "metadata": {
    "ExecuteTime": {
     "end_time": "2021-03-20T05:37:03.282432Z",
     "start_time": "2021-03-20T05:37:03.276345Z"
    }
   },
   "outputs": [],
   "source": [
    "df_1['Rank by spends']=df_1['Spends'].rank(ascending=True)"
   ]
  },
  {
   "cell_type": "code",
   "execution_count": 97,
   "metadata": {
    "ExecuteTime": {
     "end_time": "2021-03-20T05:35:46.804506Z",
     "start_time": "2021-03-20T05:35:46.786484Z"
    }
   },
   "outputs": [
    {
     "data": {
      "text/html": [
       "<div>\n",
       "<style scoped>\n",
       "    .dataframe tbody tr th:only-of-type {\n",
       "        vertical-align: middle;\n",
       "    }\n",
       "\n",
       "    .dataframe tbody tr th {\n",
       "        vertical-align: top;\n",
       "    }\n",
       "\n",
       "    .dataframe thead th {\n",
       "        text-align: right;\n",
       "    }\n",
       "</style>\n",
       "<table border=\"1\" class=\"dataframe\">\n",
       "  <thead>\n",
       "    <tr style=\"text-align: right;\">\n",
       "      <th></th>\n",
       "      <th></th>\n",
       "      <th>Spends</th>\n",
       "      <th>Rank by spends</th>\n",
       "    </tr>\n",
       "    <tr>\n",
       "      <th>Region</th>\n",
       "      <th>Advertiser Account</th>\n",
       "      <th></th>\n",
       "      <th></th>\n",
       "    </tr>\n",
       "  </thead>\n",
       "  <tbody>\n",
       "    <tr>\n",
       "      <th rowspan=\"3\" valign=\"top\">NA</th>\n",
       "      <th>9a9b24</th>\n",
       "      <td>2.628114e+06</td>\n",
       "      <td>3.0</td>\n",
       "    </tr>\n",
       "    <tr>\n",
       "      <th>fd61ae</th>\n",
       "      <td>1.745500e+06</td>\n",
       "      <td>2.0</td>\n",
       "    </tr>\n",
       "    <tr>\n",
       "      <th>1b1bdc</th>\n",
       "      <td>1.676122e+06</td>\n",
       "      <td>1.0</td>\n",
       "    </tr>\n",
       "  </tbody>\n",
       "</table>\n",
       "</div>"
      ],
      "text/plain": [
       "                                 Spends  Rank by spends\n",
       "Region Advertiser Account                              \n",
       "NA     9a9b24              2.628114e+06             3.0\n",
       "       fd61ae              1.745500e+06             2.0\n",
       "       1b1bdc              1.676122e+06             1.0"
      ]
     },
     "execution_count": 97,
     "metadata": {},
     "output_type": "execute_result"
    }
   ],
   "source": [
    "df_1.sort_values('Spends',ascending=False)"
   ]
  },
  {
   "cell_type": "code",
   "execution_count": 1,
   "metadata": {
    "ExecuteTime": {
     "end_time": "2021-04-11T09:58:51.923415Z",
     "start_time": "2021-04-11T09:58:51.902458Z"
    }
   },
   "outputs": [
    {
     "name": "stdout",
     "output_type": "stream",
     "text": [
      "Python logging demo\n"
     ]
    }
   ],
   "source": [
    "import logging\n",
    "logging.basicConfig(filename='log.txt',level=logging.DEBUG)\n",
    "print('Python logging demo')\n",
    "logging.debug(\"debug message\")\n",
    "logging.info(\"info message\")\n",
    "logging.warning(\"warning message\")\n",
    "logging.error(\"error message\")\n",
    "logging.critical(\"critical message\")\n",
    "\n",
    "logging.exception('msg')"
   ]
  },
  {
   "cell_type": "code",
   "execution_count": 4,
   "metadata": {
    "ExecuteTime": {
     "end_time": "2021-04-11T10:01:24.048001Z",
     "start_time": "2021-04-11T10:01:24.041050Z"
    }
   },
   "outputs": [
    {
     "data": {
      "text/plain": [
       "'C:\\\\Users\\\\abhisv.CORP'"
      ]
     },
     "execution_count": 4,
     "metadata": {},
     "output_type": "execute_result"
    }
   ],
   "source": [
    "import os\n",
    "cwd = os.getcwd()\n",
    "cwd"
   ]
  },
  {
   "cell_type": "code",
   "execution_count": 3,
   "metadata": {
    "ExecuteTime": {
     "end_time": "2021-05-28T14:17:23.783160Z",
     "start_time": "2021-05-28T14:17:23.777174Z"
    }
   },
   "outputs": [
    {
     "name": "stdout",
     "output_type": "stream",
     "text": [
      "Average of mark1: 10.0\n",
      "1 10\n"
     ]
    }
   ],
   "source": [
    "def avg(marks):\n",
    "    assert len(marks) != 0\n",
    "    return sum(marks)/len(marks)\n",
    "\n",
    "marks = [10]\n",
    "print(\"Average of mark1:\",avg(marks))\n",
    "print(len(marks),sum(marks))"
   ]
  },
  {
   "cell_type": "code",
   "execution_count": 8,
   "metadata": {
    "ExecuteTime": {
     "end_time": "2021-04-11T10:20:23.879632Z",
     "start_time": "2021-04-11T10:20:23.843952Z"
    }
   },
   "outputs": [
    {
     "name": "stdout",
     "output_type": "stream",
     "text": [
      "Pickling employee object completed\n",
      "Unpickling\n",
      "100 Abhi BENGALURU\n"
     ]
    }
   ],
   "source": [
    "import pickle\n",
    "class Employee:\n",
    "    def __init__(self,eno,ename,eadd): ##Constructor\n",
    "        self.eno=eno\n",
    "        self.ename=ename\n",
    "        self.eadd=eadd\n",
    "    def display(self): #My own object\n",
    "        print(self.eno,self.ename,self.eadd)\n",
    "with open ('emp.dat','wb') as f: #opening a file\n",
    "    e=Employee(100,'Abhi','BENGALURU')\n",
    "    pickle.dump(e,f)\n",
    "    print('Pickling employee object completed')\n",
    "with open ('emp.dat','rb',) as f:\n",
    "    obj=pickle.load(f)\n",
    "    print('Unpickling')\n",
    "    obj.display()"
   ]
  },
  {
   "cell_type": "code",
   "execution_count": 24,
   "metadata": {
    "ExecuteTime": {
     "end_time": "2021-04-11T10:27:14.017889Z",
     "start_time": "2021-04-11T10:27:14.004130Z"
    }
   },
   "outputs": [
    {
     "name": "stdout",
     "output_type": "stream",
     "text": [
      "Emp details\n",
      "No such file\n"
     ]
    }
   ],
   "source": [
    "import pickle\n",
    "f=open('empppp.dat','rb')\n",
    "print('Emp details')\n",
    "while True:\n",
    "    try:\n",
    "        obj=pickle.load(f)\n",
    "        obj.display()\n",
    "    except EOFError:\n",
    "        print('No such file')\n",
    "        break\n",
    "        f.close()"
   ]
  },
  {
   "cell_type": "code",
   "execution_count": 138,
   "metadata": {
    "ExecuteTime": {
     "end_time": "2021-03-23T09:24:10.428162Z",
     "start_time": "2021-03-23T09:24:10.411208Z"
    }
   },
   "outputs": [
    {
     "name": "stdout",
     "output_type": "stream",
     "text": [
      "Constructor decleration\n",
      "The name is  Abhi\n",
      "The no is  100\n",
      "The address is  Bangalore\n",
      "Abhi\n"
     ]
    }
   ],
   "source": [
    "class Student:\n",
    "    def __init__(self,name,no,address):\n",
    "        print('Constructor decleration')\n",
    "        self.name=name\n",
    "        self.no=no\n",
    "        self.address=address\n",
    "    def get_values(self):\n",
    "        print('The name is ',self.name)\n",
    "        print('The no is ',self.no)\n",
    "        print('The address is ',self.address)\n",
    "S=Student('Abhi',100,'Bangalore')\n",
    "S.get_values()\n",
    "print(S.name)"
   ]
  },
  {
   "cell_type": "code",
   "execution_count": 27,
   "metadata": {
    "ExecuteTime": {
     "end_time": "2021-04-11T10:45:28.407848Z",
     "start_time": "2021-04-11T10:45:28.367267Z"
    }
   },
   "outputs": [
    {
     "name": "stdout",
     "output_type": "stream",
     "text": [
      "The name is  Abhi\n",
      "The no is  100\n",
      "The name is  shek\n",
      "The no is  100\n",
      "The name is  sv\n",
      "The no is  100\n",
      "The college is  xyz\n",
      "Average  15.0\n"
     ]
    }
   ],
   "source": [
    "class Student:\n",
    "    cname='xyz' ##Class variable or Static variable\n",
    "    def __init__(self,name,no): ##name and no are instance variable (Used along with Self)\n",
    "        x=10 ##Local variable (Inside a class or method) or Method variable.\n",
    "        self.name=name\n",
    "        self.no=no\n",
    "    def display(self): ##Instance Method (If we are accessing the instance variable)\n",
    "        print('The name is ',self.name)\n",
    "        print('The no is ',self.no)\n",
    "    @classmethod ##To access class variable data\n",
    "    def getcollegename(cls): ##Reference variable\n",
    "        print('The college is ',cls.cname)\n",
    "        \n",
    "    ##@staticmethod ##Not related to class or object\n",
    "    def findavg(x,y):\n",
    "        print('Average ',(x+y)/2)\n",
    "s1=Student('Abhi','100') ##Instance methods should be called using object names only.\n",
    "s2=Student('shek','100')\n",
    "s3=Student('sv','100')\n",
    "s1.display() #main for calling on object\n",
    "s2.display()\n",
    "s3.display()\n",
    "Student.getcollegename() ##Using class name the class method can be accessed\n",
    "Student.findavg(10,20) ##Using the Classname the static method can also be accessed"
   ]
  },
  {
   "cell_type": "code",
   "execution_count": 159,
   "metadata": {
    "ExecuteTime": {
     "end_time": "2021-03-23T13:59:09.119331Z",
     "start_time": "2021-03-23T13:59:09.105364Z"
    }
   },
   "outputs": [
    {
     "name": "stdout",
     "output_type": "stream",
     "text": [
      "{'a': 10, 'b': 20, 'c': 30, 'd': 40}\n",
      "{'a': 10, 'b': 20, 'c': 30, 'e': 50, 's': 100, 'y': 200}\n"
     ]
    }
   ],
   "source": [
    "class test:\n",
    "    def __init__(self):\n",
    "        self.a=10\n",
    "        self.b=20\n",
    "        self.c=30\n",
    "    def m1(self):\n",
    "        self.d=40\n",
    "    def m2(self):\n",
    "        self.e=50\n",
    "t1=test() ##Total 4 variables are coming, with constructor 3 variables and m1 variable\n",
    "t1.m1()\n",
    "t2=test() ##Total 4 variables are coming, with constructor 3 variables and m2 variable\n",
    "t2.m2()\n",
    "t2.s=100 ##2 variables by s and y\n",
    "t2.y=200 ##outside the class by using object reference or class name\n",
    "\n",
    "print(t1.__dict__)\n",
    "print(t2.__dict__)"
   ]
  },
  {
   "cell_type": "code",
   "execution_count": 28,
   "metadata": {
    "ExecuteTime": {
     "end_time": "2021-04-11T11:22:33.991784Z",
     "start_time": "2021-04-11T11:22:33.978236Z"
    }
   },
   "outputs": [
    {
     "name": "stdout",
     "output_type": "stream",
     "text": [
      "888 999\n",
      "10 20\n"
     ]
    }
   ],
   "source": [
    "class test:\n",
    "    def __init__(self):\n",
    "        self.a=10\n",
    "        self.b=20\n",
    "t1=test()\n",
    "t2=test()\n",
    "t1.a=888\n",
    "t1.b=999\n",
    "print(t1.a,t1.b)\n",
    "print(t2.a,t2.b)"
   ]
  },
  {
   "cell_type": "code",
   "execution_count": 48,
   "metadata": {
    "ExecuteTime": {
     "end_time": "2021-04-11T11:38:00.386557Z",
     "start_time": "2021-04-11T11:38:00.377071Z"
    }
   },
   "outputs": [
    {
     "name": "stdout",
     "output_type": "stream",
     "text": [
      "1000\n",
      "888\n",
      "888 20\n",
      "999 20\n"
     ]
    }
   ],
   "source": [
    "class test:\n",
    "    x=10\n",
    "    def m1(self):\n",
    "        self.y=20\n",
    "t1=test()\n",
    "t2=test()\n",
    "t1.x=888\n",
    "t2.x=999\n",
    "t1.m1()\n",
    "t2.m1()\n",
    "test.x=1000 ##using classname we can call outside the class\n",
    "print(test.x)\n",
    "print(t1.x)\n",
    "print(t1.x,t1.y)\n",
    "print(t2.x,t2.y)"
   ]
  },
  {
   "cell_type": "code",
   "execution_count": 31,
   "metadata": {
    "ExecuteTime": {
     "end_time": "2021-04-11T11:26:06.445911Z",
     "start_time": "2021-04-11T11:26:06.423175Z"
    }
   },
   "outputs": [
    {
     "name": "stdout",
     "output_type": "stream",
     "text": [
      "Inside constructor\n",
      "10\n",
      "10\n",
      "Instance method\n",
      "10\n",
      "10\n",
      "Inside classmethod\n",
      "10\n",
      "10\n",
      "Inside static method\n",
      "10\n",
      "outside class method\n",
      "10\n",
      "10\n"
     ]
    }
   ],
   "source": [
    "##inside the class the static variable can be accessed by using classname,self,cls and\n",
    "##outside the class by using object reference and classname.\n",
    "class test:\n",
    "    a=10\n",
    "    def __init__(self): ###It is a pyhton special method.\n",
    "        print('Inside constructor')\n",
    "        print(test.a)\n",
    "        print(self.a)\n",
    "    def m1(self): ###It is a instance method, if self is used.\n",
    "        print('Instance method')\n",
    "        print(test.a)\n",
    "        print(self.a)\n",
    "    @classmethod\n",
    "    def m2(cls): ###It is a class method.\n",
    "        print('Inside classmethod')\n",
    "        print(cls.a)\n",
    "        print(test.a)\n",
    "    @staticmethod\n",
    "    def m3(): ###It is a static method. while calling static method compulsory it should be called via class name only.\n",
    "        print('Inside static method')\n",
    "        print(test.a)\n",
    "t=test()\n",
    "t.m1()\n",
    "t.m2()\n",
    "t.m3()\n",
    "print('outside class method')\n",
    "print(test.a)\n",
    "print(t.a)"
   ]
  },
  {
   "cell_type": "code",
   "execution_count": 49,
   "metadata": {
    "ExecuteTime": {
     "end_time": "2021-04-11T11:39:04.124744Z",
     "start_time": "2021-04-11T11:39:04.103740Z"
    }
   },
   "outputs": [
    {
     "name": "stdout",
     "output_type": "stream",
     "text": [
      "60\n",
      "70\n"
     ]
    }
   ],
   "source": [
    "##Modifying the static variable value.\n",
    "class test:\n",
    "    a=10\n",
    "    def __init__(self):#Inside constructor by using the class name only we can modify the static variable.\n",
    "        test.a=20\n",
    "    @classmethod\n",
    "    def m1(xyz):##Inside the class method by using classname and class method variable we can modify.\n",
    "        test.a=30\n",
    "        xyz.a=40\n",
    "    @staticmethod\n",
    "    def m2():\n",
    "        test.a=50##inside static method also by using cloass name we can modify the value\n",
    "t=test()\n",
    "t.m1()\n",
    "t.m2()\n",
    "test.a=60##using classname we can call outside the class\n",
    "print(test.a)\n",
    "t.a=70 ###new instance variable creation with object reference t with value of a 70.\n",
    "##If we try to change by using self or object reference then new instance variable will be created \n",
    "print(t.a)\n",
    "\n",
    "##Deleting can be done with the help of class name."
   ]
  },
  {
   "cell_type": "code",
   "execution_count": 185,
   "metadata": {
    "ExecuteTime": {
     "end_time": "2021-03-27T14:17:19.901714Z",
     "start_time": "2021-03-27T14:17:19.893760Z"
    }
   },
   "outputs": [
    {
     "name": "stdout",
     "output_type": "stream",
     "text": [
      "10\n",
      "100\n"
     ]
    }
   ],
   "source": [
    "##Banking application\n",
    "x=100 ##Gloabl variable\n",
    "class test:\n",
    "    x=777\n",
    "    def m1(self):\n",
    "        x=10##Gloabl variable can be accessed via instance method.\n",
    "        print(x)\n",
    "    def m2(self):\n",
    "        print(x)\n",
    "t=test()\n",
    "t.m1()\n",
    "t.m2()"
   ]
  },
  {
   "cell_type": "markdown",
   "metadata": {},
   "source": [
    "#Class variable can be accessed via class name and self.\n",
    "#static variable can be accessed via object reference and class name.\n",
    "#Global variable can be accessed directly anywhere.\n",
    "#Local variable gets highest priority.\n",
    "#Global variable can be accessed inside a method by using global keyword."
   ]
  },
  {
   "cell_type": "code",
   "execution_count": 190,
   "metadata": {
    "ExecuteTime": {
     "end_time": "2021-03-27T14:42:24.517362Z",
     "start_time": "2021-03-27T14:42:24.500855Z"
    }
   },
   "outputs": [
    {
     "name": "stdout",
     "output_type": "stream",
     "text": [
      "1000\n",
      "200\n",
      "100\n",
      "200\n"
     ]
    }
   ],
   "source": [
    "x=100\n",
    "class test:\n",
    "    x=200\n",
    "    def m1(self):\n",
    "        x=1000 #Local variable will have highest priority.\n",
    "        print(x)\n",
    "        print(self.x)\n",
    "    def m2(self):\n",
    "        print(x)\n",
    "        print(test.x)\n",
    "t=test()\n",
    "t.m1()\n",
    "t.m2()"
   ]
  },
  {
   "cell_type": "code",
   "execution_count": 202,
   "metadata": {
    "ExecuteTime": {
     "end_time": "2021-03-27T15:18:30.556805Z",
     "start_time": "2021-03-27T15:18:30.535835Z"
    }
   },
   "outputs": [
    {
     "name": "stdout",
     "output_type": "stream",
     "text": [
      "The value global variable 1000\n",
      "The value of static or class variable is 200\n",
      "The value of global variable is 1000\n",
      "The value of static variable is  200\n",
      "The value of global variable is 1000 And it can be accessed outside the class\n"
     ]
    }
   ],
   "source": [
    "\n",
    "#Global variable can be accessed inside a method by using global keyword.\n",
    "class test:\n",
    "    x=200\n",
    "    def m1(self):\n",
    "        global x #we can use the global variable anywhere using global keyword. #can use within the class also.\n",
    "        x=1000 #Local variable will have highest priority.\n",
    "        print(\"The value global variable\" ,x)\n",
    "        print(\"The value of static or class variable is\" ,self.x)\n",
    "    def m2(self):\n",
    "        print(\"The value of global variable is\" ,x)\n",
    "        print(\"The value of static variable is \" ,test.x)\n",
    "t=test()\n",
    "t.m1()\n",
    "t.m2()\n",
    "print(\"The value of global variable is\" ,x,\"And it can be accessed outside the class\")"
   ]
  },
  {
   "cell_type": "code",
   "execution_count": 205,
   "metadata": {
    "ExecuteTime": {
     "end_time": "2021-03-27T16:54:37.202884Z",
     "start_time": "2021-03-27T16:54:37.195899Z"
    }
   },
   "outputs": [],
   "source": [
    "###Bank application"
   ]
  },
  {
   "cell_type": "code",
   "execution_count": null,
   "metadata": {
    "ExecuteTime": {
     "start_time": "2021-04-11T12:22:32.643Z"
    }
   },
   "outputs": [],
   "source": [
    "import sys\n",
    "class Customer:\n",
    "    '''Customer class with bank related operations'''\n",
    "    Bankname='ABHIBANK' ##static variable\n",
    "    \n",
    "    \n",
    "    def __init__(self,name,balance=0):\n",
    "        self.name=name\n",
    "        self.balance=balance\n",
    "    def deposit(self,amt):\n",
    "        self.balance=self.balance+amt\n",
    "        print('After deposit the balance is ',self.balance)\n",
    "    def withdraw(self,amt):\n",
    "        if amt>self.balance:\n",
    "            print('Insufficient funds cannot perform this operation')\n",
    "            sys.exit()##stop the program\n",
    "        #else: ##No need of else here (analysed it)\n",
    "        self.balance=self.balance-amt\n",
    "        print('After withdraw the balance is:',self.balance)\n",
    "            \n",
    "print('Welcome to', Customer.Bankname) ##Calling static variable/class variable(Bank name) via class name.\n",
    "name=input('Enter your name')\n",
    "c=Customer(name)\n",
    "while True:\n",
    "    print('d-Deposit\\nw-withdraw\\ne-Exit')\n",
    "    option=input('Choose your option')\n",
    "    if option=='d' or option=='D': ##we can also choose d.lower()\n",
    "        amt=float(input('Enter the amount to deposit'))\n",
    "        c.deposit(amt)\n",
    "    elif option=='w' or option=='W':\n",
    "        amt=float(input('Enter the amount to withdraw'))\n",
    "        c.withdraw(amt)\n",
    "    elif option=='e' or option=='E':\n",
    "        print('Thanks for using the application')\n",
    "        sys.exit()\n",
    "    else:\n",
    "        print('Choose valid option')"
   ]
  },
  {
   "cell_type": "code",
   "execution_count": 3,
   "metadata": {
    "ExecuteTime": {
     "end_time": "2021-03-27T17:22:54.252822Z",
     "start_time": "2021-03-27T17:22:54.248835Z"
    }
   },
   "outputs": [],
   "source": [
    "##When to go for instance method\n",
    "##Inside method implementation if am using atleast one instance variable then this method is always gng to consider as instance method.(one particular object)\n",
    "##if u r using oly static variable but not instance variable, class method. (By using cls variable we can able to access static variable.)\n",
    "##If u r not using any instance or static variable then go for static method."
   ]
  },
  {
   "cell_type": "code",
   "execution_count": null,
   "metadata": {},
   "outputs": [],
   "source": []
  },
  {
   "cell_type": "code",
   "execution_count": null,
   "metadata": {},
   "outputs": [],
   "source": []
  }
 ],
 "metadata": {
  "kernelspec": {
   "display_name": "Python 3",
   "language": "python",
   "name": "python3"
  },
  "language_info": {
   "codemirror_mode": {
    "name": "ipython",
    "version": 3
   },
   "file_extension": ".py",
   "mimetype": "text/x-python",
   "name": "python",
   "nbconvert_exporter": "python",
   "pygments_lexer": "ipython3",
   "version": "3.7.3"
  },
  "toc": {
   "base_numbering": 1,
   "nav_menu": {},
   "number_sections": true,
   "sideBar": true,
   "skip_h1_title": false,
   "title_cell": "Table of Contents",
   "title_sidebar": "Contents",
   "toc_cell": false,
   "toc_position": {},
   "toc_section_display": true,
   "toc_window_display": false
  },
  "varInspector": {
   "cols": {
    "lenName": 16,
    "lenType": 16,
    "lenVar": 40
   },
   "kernels_config": {
    "python": {
     "delete_cmd_postfix": "",
     "delete_cmd_prefix": "del ",
     "library": "var_list.py",
     "varRefreshCmd": "print(var_dic_list())"
    },
    "r": {
     "delete_cmd_postfix": ") ",
     "delete_cmd_prefix": "rm(",
     "library": "var_list.r",
     "varRefreshCmd": "cat(var_dic_list()) "
    }
   },
   "types_to_exclude": [
    "module",
    "function",
    "builtin_function_or_method",
    "instance",
    "_Feature"
   ],
   "window_display": false
  }
 },
 "nbformat": 4,
 "nbformat_minor": 2
}
