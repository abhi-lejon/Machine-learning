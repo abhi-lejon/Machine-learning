{
 "cells": [
  {
   "cell_type": "code",
   "execution_count": 71,
   "metadata": {
    "ExecuteTime": {
     "end_time": "2020-07-16T13:29:08.309000Z",
     "start_time": "2020-07-16T13:29:08.256128Z"
    }
   },
   "outputs": [],
   "source": [
    "import pandas as pd\n",
    "import numpy as np\n",
    "import seaborn as sns\n",
    "import matplotlib.pyplot as plt\n",
    "df=pd.read_csv(r\"D:\\Users\\abhisv\\Desktop\\Churn_Modelling.csv\")"
   ]
  },
  {
   "cell_type": "code",
   "execution_count": 72,
   "metadata": {
    "ExecuteTime": {
     "end_time": "2020-07-16T13:29:08.532390Z",
     "start_time": "2020-07-16T13:29:08.510447Z"
    }
   },
   "outputs": [
    {
     "data": {
      "text/plain": [
       "(10000, 14)"
      ]
     },
     "execution_count": 72,
     "metadata": {},
     "output_type": "execute_result"
    }
   ],
   "source": [
    "df.shape"
   ]
  },
  {
   "cell_type": "code",
   "execution_count": 73,
   "metadata": {
    "ExecuteTime": {
     "end_time": "2020-07-16T13:29:08.783716Z",
     "start_time": "2020-07-16T13:29:08.739835Z"
    }
   },
   "outputs": [
    {
     "data": {
      "text/html": [
       "<div>\n",
       "<style scoped>\n",
       "    .dataframe tbody tr th:only-of-type {\n",
       "        vertical-align: middle;\n",
       "    }\n",
       "\n",
       "    .dataframe tbody tr th {\n",
       "        vertical-align: top;\n",
       "    }\n",
       "\n",
       "    .dataframe thead th {\n",
       "        text-align: right;\n",
       "    }\n",
       "</style>\n",
       "<table border=\"1\" class=\"dataframe\">\n",
       "  <thead>\n",
       "    <tr style=\"text-align: right;\">\n",
       "      <th></th>\n",
       "      <th>RowNumber</th>\n",
       "      <th>CustomerId</th>\n",
       "      <th>Surname</th>\n",
       "      <th>CreditScore</th>\n",
       "      <th>Geography</th>\n",
       "      <th>Gender</th>\n",
       "      <th>Age</th>\n",
       "      <th>Tenure</th>\n",
       "      <th>Balance</th>\n",
       "      <th>NumOfProducts</th>\n",
       "      <th>HasCrCard</th>\n",
       "      <th>IsActiveMember</th>\n",
       "      <th>EstimatedSalary</th>\n",
       "      <th>Exited</th>\n",
       "    </tr>\n",
       "  </thead>\n",
       "  <tbody>\n",
       "    <tr>\n",
       "      <th>0</th>\n",
       "      <td>1</td>\n",
       "      <td>15634602</td>\n",
       "      <td>Hargrave</td>\n",
       "      <td>619</td>\n",
       "      <td>France</td>\n",
       "      <td>Female</td>\n",
       "      <td>42</td>\n",
       "      <td>2</td>\n",
       "      <td>0.00</td>\n",
       "      <td>1</td>\n",
       "      <td>1</td>\n",
       "      <td>1</td>\n",
       "      <td>101348.88</td>\n",
       "      <td>1</td>\n",
       "    </tr>\n",
       "    <tr>\n",
       "      <th>1</th>\n",
       "      <td>2</td>\n",
       "      <td>15647311</td>\n",
       "      <td>Hill</td>\n",
       "      <td>608</td>\n",
       "      <td>Spain</td>\n",
       "      <td>Female</td>\n",
       "      <td>41</td>\n",
       "      <td>1</td>\n",
       "      <td>83807.86</td>\n",
       "      <td>1</td>\n",
       "      <td>0</td>\n",
       "      <td>1</td>\n",
       "      <td>112542.58</td>\n",
       "      <td>0</td>\n",
       "    </tr>\n",
       "    <tr>\n",
       "      <th>2</th>\n",
       "      <td>3</td>\n",
       "      <td>15619304</td>\n",
       "      <td>Onio</td>\n",
       "      <td>502</td>\n",
       "      <td>France</td>\n",
       "      <td>Female</td>\n",
       "      <td>42</td>\n",
       "      <td>8</td>\n",
       "      <td>159660.80</td>\n",
       "      <td>3</td>\n",
       "      <td>1</td>\n",
       "      <td>0</td>\n",
       "      <td>113931.57</td>\n",
       "      <td>1</td>\n",
       "    </tr>\n",
       "    <tr>\n",
       "      <th>3</th>\n",
       "      <td>4</td>\n",
       "      <td>15701354</td>\n",
       "      <td>Boni</td>\n",
       "      <td>699</td>\n",
       "      <td>France</td>\n",
       "      <td>Female</td>\n",
       "      <td>39</td>\n",
       "      <td>1</td>\n",
       "      <td>0.00</td>\n",
       "      <td>2</td>\n",
       "      <td>0</td>\n",
       "      <td>0</td>\n",
       "      <td>93826.63</td>\n",
       "      <td>0</td>\n",
       "    </tr>\n",
       "    <tr>\n",
       "      <th>4</th>\n",
       "      <td>5</td>\n",
       "      <td>15737888</td>\n",
       "      <td>Mitchell</td>\n",
       "      <td>850</td>\n",
       "      <td>Spain</td>\n",
       "      <td>Female</td>\n",
       "      <td>43</td>\n",
       "      <td>2</td>\n",
       "      <td>125510.82</td>\n",
       "      <td>1</td>\n",
       "      <td>1</td>\n",
       "      <td>1</td>\n",
       "      <td>79084.10</td>\n",
       "      <td>0</td>\n",
       "    </tr>\n",
       "  </tbody>\n",
       "</table>\n",
       "</div>"
      ],
      "text/plain": [
       "   RowNumber  CustomerId   Surname  CreditScore Geography  Gender  Age  \\\n",
       "0          1    15634602  Hargrave          619    France  Female   42   \n",
       "1          2    15647311      Hill          608     Spain  Female   41   \n",
       "2          3    15619304      Onio          502    France  Female   42   \n",
       "3          4    15701354      Boni          699    France  Female   39   \n",
       "4          5    15737888  Mitchell          850     Spain  Female   43   \n",
       "\n",
       "   Tenure    Balance  NumOfProducts  HasCrCard  IsActiveMember  \\\n",
       "0       2       0.00              1          1               1   \n",
       "1       1   83807.86              1          0               1   \n",
       "2       8  159660.80              3          1               0   \n",
       "3       1       0.00              2          0               0   \n",
       "4       2  125510.82              1          1               1   \n",
       "\n",
       "   EstimatedSalary  Exited  \n",
       "0        101348.88       1  \n",
       "1        112542.58       0  \n",
       "2        113931.57       1  \n",
       "3         93826.63       0  \n",
       "4         79084.10       0  "
      ]
     },
     "execution_count": 73,
     "metadata": {},
     "output_type": "execute_result"
    }
   ],
   "source": [
    "df.head()"
   ]
  },
  {
   "cell_type": "code",
   "execution_count": 74,
   "metadata": {
    "ExecuteTime": {
     "end_time": "2020-07-16T13:29:08.955258Z",
     "start_time": "2020-07-16T13:29:08.946283Z"
    }
   },
   "outputs": [],
   "source": [
    "df.drop(['RowNumber','CustomerId','Surname'],axis=1,inplace=True)"
   ]
  },
  {
   "cell_type": "code",
   "execution_count": 75,
   "metadata": {
    "ExecuteTime": {
     "end_time": "2020-07-16T13:29:08.981187Z",
     "start_time": "2020-07-16T13:29:08.958253Z"
    }
   },
   "outputs": [
    {
     "data": {
      "text/html": [
       "<div>\n",
       "<style scoped>\n",
       "    .dataframe tbody tr th:only-of-type {\n",
       "        vertical-align: middle;\n",
       "    }\n",
       "\n",
       "    .dataframe tbody tr th {\n",
       "        vertical-align: top;\n",
       "    }\n",
       "\n",
       "    .dataframe thead th {\n",
       "        text-align: right;\n",
       "    }\n",
       "</style>\n",
       "<table border=\"1\" class=\"dataframe\">\n",
       "  <thead>\n",
       "    <tr style=\"text-align: right;\">\n",
       "      <th></th>\n",
       "      <th>CreditScore</th>\n",
       "      <th>Geography</th>\n",
       "      <th>Gender</th>\n",
       "      <th>Age</th>\n",
       "      <th>Tenure</th>\n",
       "      <th>Balance</th>\n",
       "      <th>NumOfProducts</th>\n",
       "      <th>HasCrCard</th>\n",
       "      <th>IsActiveMember</th>\n",
       "      <th>EstimatedSalary</th>\n",
       "      <th>Exited</th>\n",
       "    </tr>\n",
       "  </thead>\n",
       "  <tbody>\n",
       "    <tr>\n",
       "      <th>0</th>\n",
       "      <td>619</td>\n",
       "      <td>France</td>\n",
       "      <td>Female</td>\n",
       "      <td>42</td>\n",
       "      <td>2</td>\n",
       "      <td>0.00</td>\n",
       "      <td>1</td>\n",
       "      <td>1</td>\n",
       "      <td>1</td>\n",
       "      <td>101348.88</td>\n",
       "      <td>1</td>\n",
       "    </tr>\n",
       "    <tr>\n",
       "      <th>1</th>\n",
       "      <td>608</td>\n",
       "      <td>Spain</td>\n",
       "      <td>Female</td>\n",
       "      <td>41</td>\n",
       "      <td>1</td>\n",
       "      <td>83807.86</td>\n",
       "      <td>1</td>\n",
       "      <td>0</td>\n",
       "      <td>1</td>\n",
       "      <td>112542.58</td>\n",
       "      <td>0</td>\n",
       "    </tr>\n",
       "    <tr>\n",
       "      <th>2</th>\n",
       "      <td>502</td>\n",
       "      <td>France</td>\n",
       "      <td>Female</td>\n",
       "      <td>42</td>\n",
       "      <td>8</td>\n",
       "      <td>159660.80</td>\n",
       "      <td>3</td>\n",
       "      <td>1</td>\n",
       "      <td>0</td>\n",
       "      <td>113931.57</td>\n",
       "      <td>1</td>\n",
       "    </tr>\n",
       "    <tr>\n",
       "      <th>3</th>\n",
       "      <td>699</td>\n",
       "      <td>France</td>\n",
       "      <td>Female</td>\n",
       "      <td>39</td>\n",
       "      <td>1</td>\n",
       "      <td>0.00</td>\n",
       "      <td>2</td>\n",
       "      <td>0</td>\n",
       "      <td>0</td>\n",
       "      <td>93826.63</td>\n",
       "      <td>0</td>\n",
       "    </tr>\n",
       "    <tr>\n",
       "      <th>4</th>\n",
       "      <td>850</td>\n",
       "      <td>Spain</td>\n",
       "      <td>Female</td>\n",
       "      <td>43</td>\n",
       "      <td>2</td>\n",
       "      <td>125510.82</td>\n",
       "      <td>1</td>\n",
       "      <td>1</td>\n",
       "      <td>1</td>\n",
       "      <td>79084.10</td>\n",
       "      <td>0</td>\n",
       "    </tr>\n",
       "  </tbody>\n",
       "</table>\n",
       "</div>"
      ],
      "text/plain": [
       "   CreditScore Geography  Gender  Age  Tenure    Balance  NumOfProducts  \\\n",
       "0          619    France  Female   42       2       0.00              1   \n",
       "1          608     Spain  Female   41       1   83807.86              1   \n",
       "2          502    France  Female   42       8  159660.80              3   \n",
       "3          699    France  Female   39       1       0.00              2   \n",
       "4          850     Spain  Female   43       2  125510.82              1   \n",
       "\n",
       "   HasCrCard  IsActiveMember  EstimatedSalary  Exited  \n",
       "0          1               1        101348.88       1  \n",
       "1          0               1        112542.58       0  \n",
       "2          1               0        113931.57       1  \n",
       "3          0               0         93826.63       0  \n",
       "4          1               1         79084.10       0  "
      ]
     },
     "execution_count": 75,
     "metadata": {},
     "output_type": "execute_result"
    }
   ],
   "source": [
    "df.head()"
   ]
  },
  {
   "cell_type": "code",
   "execution_count": 76,
   "metadata": {
    "ExecuteTime": {
     "end_time": "2020-07-16T13:29:09.158713Z",
     "start_time": "2020-07-16T13:29:09.147747Z"
    }
   },
   "outputs": [],
   "source": [
    "geo={'France':1,'Spain':2,'Germany':3}\n",
    "df.Geography=df.Geography.apply(lambda x:geo[x])"
   ]
  },
  {
   "cell_type": "code",
   "execution_count": 77,
   "metadata": {
    "ExecuteTime": {
     "end_time": "2020-07-16T13:29:09.214564Z",
     "start_time": "2020-07-16T13:29:09.199604Z"
    }
   },
   "outputs": [],
   "source": [
    "age={'Female':1,'Male':2}\n",
    "df.Gender=df.Gender.apply(lambda x:age[x])"
   ]
  },
  {
   "cell_type": "code",
   "execution_count": 78,
   "metadata": {
    "ExecuteTime": {
     "end_time": "2020-07-16T13:29:09.782049Z",
     "start_time": "2020-07-16T13:29:09.768085Z"
    }
   },
   "outputs": [],
   "source": [
    "y=df[['Exited']]"
   ]
  },
  {
   "cell_type": "code",
   "execution_count": 79,
   "metadata": {
    "ExecuteTime": {
     "end_time": "2020-07-16T13:29:10.276622Z",
     "start_time": "2020-07-16T13:29:10.270638Z"
    }
   },
   "outputs": [],
   "source": [
    "x=df.iloc[:,0:9]"
   ]
  },
  {
   "cell_type": "code",
   "execution_count": 80,
   "metadata": {
    "ExecuteTime": {
     "end_time": "2020-07-16T13:29:10.466117Z",
     "start_time": "2020-07-16T13:29:10.458137Z"
    }
   },
   "outputs": [
    {
     "data": {
      "text/plain": [
       "Index(['CreditScore', 'Geography', 'Gender', 'Age', 'Tenure', 'Balance',\n",
       "       'NumOfProducts', 'HasCrCard', 'IsActiveMember'],\n",
       "      dtype='object')"
      ]
     },
     "execution_count": 80,
     "metadata": {},
     "output_type": "execute_result"
    }
   ],
   "source": [
    "x.columns"
   ]
  },
  {
   "cell_type": "code",
   "execution_count": 81,
   "metadata": {
    "ExecuteTime": {
     "end_time": "2020-07-16T13:29:10.679546Z",
     "start_time": "2020-07-16T13:29:10.664585Z"
    }
   },
   "outputs": [],
   "source": [
    "from sklearn.preprocessing import MinMaxScaler\n",
    "mms=MinMaxScaler()\n",
    "x=pd.DataFrame(mms.fit_transform(x),columns=['CreditScore', 'Geography', 'Gender', 'Age', 'Tenure', 'Balance','NumOfProducts', 'HasCrCard', 'IsActiveMember'])"
   ]
  },
  {
   "cell_type": "code",
   "execution_count": 82,
   "metadata": {
    "ExecuteTime": {
     "end_time": "2020-07-16T13:29:10.997695Z",
     "start_time": "2020-07-16T13:29:10.920900Z"
    }
   },
   "outputs": [
    {
     "name": "stderr",
     "output_type": "stream",
     "text": [
      "D:\\Python\\Anaconda\\lib\\site-packages\\sklearn\\linear_model\\logistic.py:432: FutureWarning: Default solver will be changed to 'lbfgs' in 0.22. Specify a solver to silence this warning.\n",
      "  FutureWarning)\n",
      "D:\\Python\\Anaconda\\lib\\site-packages\\sklearn\\utils\\validation.py:724: DataConversionWarning: A column-vector y was passed when a 1d array was expected. Please change the shape of y to (n_samples, ), for example using ravel().\n",
      "  y = column_or_1d(y, warn=True)\n"
     ]
    }
   ],
   "source": [
    "from sklearn.linear_model import LogisticRegression\n",
    "lr=LogisticRegression()\n",
    "lr.fit(x,y)\n",
    "y_pred=lr.predict(x)"
   ]
  },
  {
   "cell_type": "code",
   "execution_count": 83,
   "metadata": {
    "ExecuteTime": {
     "end_time": "2020-07-16T13:29:11.013652Z",
     "start_time": "2020-07-16T13:29:11.003678Z"
    }
   },
   "outputs": [
    {
     "name": "stdout",
     "output_type": "stream",
     "text": [
      "0.8128\n"
     ]
    }
   ],
   "source": [
    "from sklearn.metrics import confusion_matrix,accuracy_score\n",
    "ascore=accuracy_score(y,y_pred)\n",
    "print(ascore)"
   ]
  },
  {
   "cell_type": "code",
   "execution_count": 84,
   "metadata": {
    "ExecuteTime": {
     "end_time": "2020-07-16T13:29:11.617038Z",
     "start_time": "2020-07-16T13:29:11.597094Z"
    }
   },
   "outputs": [
    {
     "name": "stdout",
     "output_type": "stream",
     "text": [
      "[[7710  253]\n",
      " [1619  418]]\n"
     ]
    }
   ],
   "source": [
    "cm=confusion_matrix(y,y_pred)\n",
    "print(cm)"
   ]
  },
  {
   "cell_type": "code",
   "execution_count": 85,
   "metadata": {
    "ExecuteTime": {
     "end_time": "2020-07-16T13:29:11.923228Z",
     "start_time": "2020-07-16T13:29:11.920227Z"
    }
   },
   "outputs": [],
   "source": [
    "# Lets apply simple one layer neural network"
   ]
  },
  {
   "cell_type": "code",
   "execution_count": 86,
   "metadata": {
    "ExecuteTime": {
     "end_time": "2020-07-16T13:29:11.938181Z",
     "start_time": "2020-07-16T13:29:11.927209Z"
    }
   },
   "outputs": [
    {
     "name": "stdout",
     "output_type": "stream",
     "text": [
      "(10000, 9) (10000, 1)\n"
     ]
    }
   ],
   "source": [
    "print(x.shape,y.shape)"
   ]
  },
  {
   "cell_type": "code",
   "execution_count": 87,
   "metadata": {
    "ExecuteTime": {
     "end_time": "2020-07-16T13:29:12.418897Z",
     "start_time": "2020-07-16T13:29:12.408921Z"
    }
   },
   "outputs": [
    {
     "name": "stdout",
     "output_type": "stream",
     "text": [
      "The shape of x:(10000, 9)\n",
      "The shape of y:(10000, 1)\n",
      "I have m=10000 training examples\n"
     ]
    }
   ],
   "source": [
    "shape_x=x.shape\n",
    "shape_y=y.shape\n",
    "m=x.shape[0]\n",
    "print('The shape of x:' +str(x.shape))\n",
    "print('The shape of y:' +str(y.shape))\n",
    "print('I have m=%d training examples'%(m))"
   ]
  },
  {
   "cell_type": "code",
   "execution_count": 88,
   "metadata": {
    "ExecuteTime": {
     "end_time": "2020-07-16T13:29:13.045219Z",
     "start_time": "2020-07-16T13:29:13.038238Z"
    }
   },
   "outputs": [],
   "source": [
    "x=x.T\n",
    "y=y.T"
   ]
  },
  {
   "cell_type": "code",
   "execution_count": 89,
   "metadata": {
    "ExecuteTime": {
     "end_time": "2020-07-16T13:29:16.066966Z",
     "start_time": "2020-07-16T13:29:16.061975Z"
    }
   },
   "outputs": [
    {
     "data": {
      "text/plain": [
       "((9, 10000), (1, 10000))"
      ]
     },
     "execution_count": 89,
     "metadata": {},
     "output_type": "execute_result"
    }
   ],
   "source": [
    "x.shape,y.shape"
   ]
  },
  {
   "cell_type": "code",
   "execution_count": 20,
   "metadata": {
    "ExecuteTime": {
     "end_time": "2020-07-16T07:33:01.625201Z",
     "start_time": "2020-07-16T07:33:01.619217Z"
    }
   },
   "outputs": [],
   "source": [
    "#Defining layer sizes\n",
    "def layer_size(x,y):\n",
    "    n_x=x.shape[0]\n",
    "    n_h=10\n",
    "    n_y=y.shape[0]\n",
    "    return (n_x,n_h,n_y)"
   ]
  },
  {
   "cell_type": "code",
   "execution_count": 21,
   "metadata": {
    "ExecuteTime": {
     "end_time": "2020-07-16T07:33:01.634179Z",
     "start_time": "2020-07-16T07:33:01.627195Z"
    }
   },
   "outputs": [
    {
     "name": "stdout",
     "output_type": "stream",
     "text": [
      "The size of the input layer is: n_x = 9\n",
      "The size of the hidden layer is: n_h = 10\n",
      "The size of the output layer is: n_y = 1\n"
     ]
    }
   ],
   "source": [
    "n_x,n_h,n_y=layer_size(x,y)\n",
    "print(\"The size of the input layer is: n_x = \" + str(n_x))\n",
    "print(\"The size of the hidden layer is: n_h = \" + str(n_h))\n",
    "print(\"The size of the output layer is: n_y = \" + str(n_y))"
   ]
  },
  {
   "cell_type": "code",
   "execution_count": 22,
   "metadata": {
    "ExecuteTime": {
     "end_time": "2020-07-16T07:33:01.646145Z",
     "start_time": "2020-07-16T07:33:01.637169Z"
    }
   },
   "outputs": [],
   "source": [
    "#Initialize model parameters\n",
    "def initialize_parameters(n_x,n_h,n_y):\n",
    "    np.random.seed(2)\n",
    "    W1=np.random.randn(n_h,n_x)*0.01\n",
    "    b1=np.zeros(shape=(n_h,1))\n",
    "    W2=np.random.randn(n_y,n_h)*0.01\n",
    "    b2=np.zeros(shape=(n_y,1))\n",
    "    \n",
    "    assert(W1.shape==(n_h,n_x))\n",
    "    assert(b1.shape==(n_h,1))\n",
    "    assert(W2.shape==(n_y,n_h))\n",
    "    assert(b2.shape==(n_y,1))\n",
    "    \n",
    "    parameters={'W1':W1,'b1':b1,'W2':W2,'b2':b2}\n",
    "    return parameters"
   ]
  },
  {
   "cell_type": "code",
   "execution_count": 23,
   "metadata": {
    "ExecuteTime": {
     "end_time": "2020-07-16T07:33:01.658116Z",
     "start_time": "2020-07-16T07:33:01.653128Z"
    }
   },
   "outputs": [],
   "source": [
    "parameters=initialize_parameters(n_x,n_h,n_y)"
   ]
  },
  {
   "cell_type": "code",
   "execution_count": 24,
   "metadata": {
    "ExecuteTime": {
     "end_time": "2020-07-16T07:33:01.673074Z",
     "start_time": "2020-07-16T07:33:01.664097Z"
    }
   },
   "outputs": [
    {
     "data": {
      "text/plain": [
       "{'W1': array([[-4.16757847e-03, -5.62668272e-04, -2.13619610e-02,\n",
       "          1.64027081e-02, -1.79343559e-02, -8.41747366e-03,\n",
       "          5.02881417e-03, -1.24528809e-02, -1.05795222e-02],\n",
       "        [-9.09007615e-03,  5.51454045e-03,  2.29220801e-02,\n",
       "          4.15393930e-04, -1.11792545e-02,  5.39058321e-03,\n",
       "         -5.96159700e-03, -1.91304965e-04,  1.17500122e-02],\n",
       "        [-7.47870949e-03,  9.02525097e-05, -8.78107893e-03,\n",
       "         -1.56434170e-03,  2.56570452e-03, -9.88779049e-03,\n",
       "         -3.38821966e-03, -2.36184031e-03, -6.37655012e-03],\n",
       "        [-1.18761229e-02, -1.42121723e-02, -1.53495196e-03,\n",
       "         -2.69056960e-03,  2.23136679e-02, -2.43476758e-02,\n",
       "          1.12726505e-03,  3.70444537e-03,  1.35963386e-02],\n",
       "        [ 5.01857207e-03, -8.44213704e-03,  9.76147160e-08,\n",
       "          5.42352572e-03, -3.13508197e-03,  7.71011738e-03,\n",
       "         -1.86809065e-02,  1.73118467e-02,  1.46767801e-02],\n",
       "        [-3.35677339e-03,  6.11340780e-03,  4.79705919e-04,\n",
       "         -8.29135289e-03,  8.77102184e-04,  1.00036589e-02,\n",
       "         -3.81092518e-03, -3.75669423e-03, -7.44707629e-04],\n",
       "        [ 4.33496330e-03,  1.27837923e-02, -6.34679305e-03,\n",
       "          5.08396243e-03,  2.16116006e-03, -1.85861239e-02,\n",
       "         -4.19316482e-03, -1.32328898e-03, -3.95702397e-04],\n",
       "        [ 3.26003433e-03, -2.04032305e-02,  4.62555231e-04,\n",
       "         -6.77675577e-03, -1.43943903e-02,  5.24296430e-03,\n",
       "          7.35279576e-03, -6.53250268e-03,  8.42456282e-03],\n",
       "        [-3.81516482e-03,  6.64890091e-04, -1.09873895e-02,\n",
       "          1.58448706e-02, -2.65944946e-02, -9.14526229e-04,\n",
       "          6.95119605e-03, -2.03346655e-02, -1.89469265e-03],\n",
       "        [-7.72186654e-04,  8.24703005e-03,  1.24821292e-02,\n",
       "         -4.03892269e-03, -1.38451867e-02,  1.36723542e-02,\n",
       "          1.21788563e-02, -4.62005348e-03,  3.50888494e-03]]),\n",
       " 'b1': array([[0.],\n",
       "        [0.],\n",
       "        [0.],\n",
       "        [0.],\n",
       "        [0.],\n",
       "        [0.],\n",
       "        [0.],\n",
       "        [0.],\n",
       "        [0.],\n",
       "        [0.]]),\n",
       " 'W2': array([[ 0.00381866,  0.00566275,  0.00204208,  0.01406696, -0.0173796 ,\n",
       "          0.01040824,  0.00380472, -0.00217135,  0.01173531, -0.02343603]]),\n",
       " 'b2': array([[0.]])}"
      ]
     },
     "execution_count": 24,
     "metadata": {},
     "output_type": "execute_result"
    }
   ],
   "source": [
    "parameters"
   ]
  },
  {
   "cell_type": "code",
   "execution_count": 25,
   "metadata": {
    "ExecuteTime": {
     "end_time": "2020-07-16T07:33:01.682049Z",
     "start_time": "2020-07-16T07:33:01.676065Z"
    }
   },
   "outputs": [],
   "source": [
    "import math\n",
    "\n",
    "def sigmoid(x):\n",
    "    \"\"\"\n",
    "    Compute sigmoid of x.\n",
    "\n",
    "    Arguments:\n",
    "    x -- A scalar\n",
    "\n",
    "    Return:\n",
    "    s -- sigmoid(x)\n",
    "    \"\"\"\n",
    "    \n",
    "    ### START CODE HERE ### (≈ 1 line of code)\n",
    "    s = 1/(1+np.exp(-x))\n",
    "    ### END CODE HERE ###\n",
    "    \n",
    "    return s"
   ]
  },
  {
   "cell_type": "code",
   "execution_count": 26,
   "metadata": {
    "ExecuteTime": {
     "end_time": "2020-07-16T07:33:01.693019Z",
     "start_time": "2020-07-16T07:33:01.685041Z"
    }
   },
   "outputs": [
    {
     "data": {
      "text/plain": [
       "9"
      ]
     },
     "execution_count": 26,
     "metadata": {},
     "output_type": "execute_result"
    }
   ],
   "source": [
    "x.shape[0]"
   ]
  },
  {
   "cell_type": "code",
   "execution_count": 27,
   "metadata": {
    "ExecuteTime": {
     "end_time": "2020-07-16T07:33:01.702994Z",
     "start_time": "2020-07-16T07:33:01.696014Z"
    }
   },
   "outputs": [
    {
     "data": {
      "text/plain": [
       "(9, 10000)"
      ]
     },
     "execution_count": 27,
     "metadata": {},
     "output_type": "execute_result"
    }
   ],
   "source": [
    "x.shape"
   ]
  },
  {
   "cell_type": "code",
   "execution_count": 28,
   "metadata": {
    "ExecuteTime": {
     "end_time": "2020-07-16T07:33:01.716956Z",
     "start_time": "2020-07-16T07:33:01.705985Z"
    }
   },
   "outputs": [],
   "source": [
    "#Implement Forward propagation\n",
    "A0=np.random.randn(x.shape[0],1)\n",
    "def forward_propagation(A0,parameters):\n",
    "    np.random.seed(2)\n",
    "    W1=parameters['W1']\n",
    "    #print('The shape of W1:',W1.shape)\n",
    "    b1=parameters['b1']\n",
    "    #print('The shape of b1:',b1.shape)\n",
    "    W2=parameters['W2']\n",
    "    #print('The shape of W2:',W2.shape)\n",
    "    b2=parameters['b2']\n",
    "    #print('The shape of b2:',b2.shape)\n",
    "    Z1 = np.dot(W1, A0) + b1\n",
    "    #print('The shape of Z1:',Z1.shape)\n",
    "    A1 = np.tanh(Z1)\n",
    "    #print('The shape of A1:',A1.shape)\n",
    "    Z2 = np.dot(W2, A1) + b2\n",
    "    #print('The shape of Z2:',Z2.shape)\n",
    "    A2 = sigmoid(Z2)\n",
    "    #print('The shape of A2:',A2.shape)\n",
    "    assert(A2.shape == (A0.shape[1],1))\n",
    "    cache={'Z1':Z1,'A1':A1,'Z2':Z2,'A2':A2}\n",
    "    return A2,cache"
   ]
  },
  {
   "cell_type": "code",
   "execution_count": 29,
   "metadata": {
    "ExecuteTime": {
     "end_time": "2020-07-16T07:33:01.729920Z",
     "start_time": "2020-07-16T07:33:01.719947Z"
    }
   },
   "outputs": [
    {
     "name": "stdout",
     "output_type": "stream",
     "text": [
      "-0.00902168680746986 -0.008993356356624415 -0.0020806262194431597 0.49947984363278586\n"
     ]
    }
   ],
   "source": [
    "A2,cache=forward_propagation(A0,parameters)\n",
    "print(np.mean(cache['Z1']) ,np.mean(cache['A1']),np.mean(cache['Z2']),np.mean(cache['A2']))"
   ]
  },
  {
   "cell_type": "code",
   "execution_count": 30,
   "metadata": {
    "ExecuteTime": {
     "end_time": "2020-07-16T07:33:01.738897Z",
     "start_time": "2020-07-16T07:33:01.732913Z"
    }
   },
   "outputs": [
    {
     "name": "stdout",
     "output_type": "stream",
     "text": [
      "shape of A2: (1, 1)\n",
      "shape of y: (1, 10000)\n"
     ]
    }
   ],
   "source": [
    "print('shape of A2:',A2.shape)\n",
    "print('shape of y:',y.shape)"
   ]
  },
  {
   "cell_type": "code",
   "execution_count": 31,
   "metadata": {
    "ExecuteTime": {
     "end_time": "2020-07-16T07:33:01.748873Z",
     "start_time": "2020-07-16T07:33:01.741888Z"
    }
   },
   "outputs": [
    {
     "name": "stdout",
     "output_type": "stream",
     "text": [
      "shape of y: (1, 10000)\n"
     ]
    }
   ],
   "source": [
    "print('shape of y:',y.shape)"
   ]
  },
  {
   "cell_type": "code",
   "execution_count": 32,
   "metadata": {
    "ExecuteTime": {
     "end_time": "2020-07-16T07:33:01.760839Z",
     "start_time": "2020-07-16T07:33:01.751864Z"
    }
   },
   "outputs": [],
   "source": [
    "Y=(np.random.randn(1,1)>0)\n",
    "def compute_cost(A2,Y,parameters):\n",
    "    m=y.shape[0]\n",
    "    W1 = parameters['W1']\n",
    "    W2 = parameters['W2']\n",
    "    #logprobs = np.multiply(np.log(A2), y) + np.multiply((1 - y), np.log(1 - A2))\n",
    "    #cost = - np.sum(logprobs) / m\n",
    "    logprobs = Y*np.log(A2) + (1-Y)*np.log(1-A2)\n",
    "    cost = -1/m*np.sum(logprobs)\n",
    "    cost = np.squeeze(cost) \n",
    "    #print('The shape of cost', cost.shape)\n",
    "    #assert(isinstance(cost,float))\n",
    "    return cost"
   ]
  },
  {
   "cell_type": "code",
   "execution_count": 33,
   "metadata": {
    "ExecuteTime": {
     "end_time": "2020-07-16T07:33:01.772806Z",
     "start_time": "2020-07-16T07:33:01.763831Z"
    }
   },
   "outputs": [
    {
     "name": "stdout",
     "output_type": "stream",
     "text": [
      "cost = 0.6921074085758093\n"
     ]
    }
   ],
   "source": [
    "cost=compute_cost(A2,Y,parameters)\n",
    "print(\"cost = \" + str(compute_cost(A2,Y,parameters)))"
   ]
  },
  {
   "cell_type": "code",
   "execution_count": 34,
   "metadata": {
    "ExecuteTime": {
     "end_time": "2020-07-16T07:33:01.784776Z",
     "start_time": "2020-07-16T07:33:01.775799Z"
    }
   },
   "outputs": [],
   "source": [
    "def backward_propagation(parameters,cache,A0,Y):\n",
    "    m=y.shape[1]\n",
    "    W1=parameters['W1']\n",
    "    W2=parameters['W2']\n",
    "    A1=cache['A1']\n",
    "    A2=cache['A2']\n",
    "    dZ2=A2-Y\n",
    "    dW2=1/m * (dZ2@A1.T)\n",
    "    db2=1/m * np.sum(dZ2,axis=1, keepdims=True)\n",
    "    dZ1=W2.T @ dZ2 * (1-A1**2)\n",
    "    dW1=1/m * dZ1 @ A0.T\n",
    "    db1=1/m * np.sum(dZ1,axis=1, keepdims=True)\n",
    "    grads={'dW1':dW1,'dW2':dW2,'dZ1':dZ1,'dZ2':dZ2,'db1':db1,'db2':db2}\n",
    "    return grads"
   ]
  },
  {
   "cell_type": "code",
   "execution_count": 35,
   "metadata": {
    "ExecuteTime": {
     "end_time": "2020-07-16T07:33:01.796744Z",
     "start_time": "2020-07-16T07:33:01.787766Z"
    }
   },
   "outputs": [
    {
     "name": "stdout",
     "output_type": "stream",
     "text": [
      "dW1 = [[ 2.21441773e-07  7.36050155e-08 -2.16029616e-07  8.25682382e-08\n",
      "  -5.79734776e-08  4.92881349e-07  3.49902550e-07  8.40166518e-08\n",
      "  -1.37124321e-07]\n",
      " [ 3.28094364e-07  1.09055263e-07 -3.20075559e-07  1.22335426e-07\n",
      "  -8.58951362e-08  7.30266879e-07  5.18425467e-07  1.24481436e-07\n",
      "  -2.03167254e-07]\n",
      " [ 1.18377129e-07  3.93473657e-08 -1.15483928e-07  4.41388762e-08\n",
      "  -3.09911439e-08  2.63481810e-07  1.87048987e-07  4.49131612e-08\n",
      "  -7.33031679e-08]\n",
      " [ 8.08856736e-07  2.68855834e-07 -7.89087837e-07  3.01595651e-07\n",
      "  -2.11758772e-07  1.80033963e-06  1.27808331e-06  3.06886248e-07\n",
      "  -5.00871761e-07]\n",
      " [-1.00815742e-06 -3.35101375e-07  9.83517505e-07 -3.75908217e-07\n",
      "   2.63935710e-07 -2.24393972e-06 -1.59300049e-06 -3.82502406e-07\n",
      "   6.24285563e-07]\n",
      " [ 6.03756669e-07  2.00682637e-07 -5.89000527e-07  2.25120689e-07\n",
      "  -1.58063554e-07  1.34383137e-06  9.54002469e-07  2.29069760e-07\n",
      "  -3.73866783e-07]\n",
      " [ 2.20425871e-07  7.32673401e-08 -2.15038543e-07  8.21894425e-08\n",
      "  -5.77075145e-08  4.90620172e-07  3.48297313e-07  8.36312112e-08\n",
      "  -1.36495240e-07]\n",
      " [-1.25944345e-07 -4.18626321e-08  1.22866197e-07 -4.69604382e-08\n",
      "   3.29722418e-08 -2.80324791e-07 -1.99006028e-07 -4.77842191e-08\n",
      "   7.79890469e-08]\n",
      " [ 6.80371279e-07  2.26148562e-07 -6.63742635e-07  2.53687717e-07\n",
      "  -1.78121267e-07  1.51435887e-06  1.07506205e-06  2.58137912e-07\n",
      "  -4.21309171e-07]\n",
      " [-1.35705840e-06 -4.51072548e-07  1.32389116e-06 -5.06001736e-07\n",
      "   3.55278021e-07 -3.02051762e-06 -2.14430272e-06 -5.14878028e-07\n",
      "   8.40336986e-07]]\n",
      "db1 = [[ 1.90648020e-07]\n",
      " [ 2.82469473e-07]\n",
      " [ 1.01915574e-07]\n",
      " [ 6.96376901e-07]\n",
      " [-8.67962779e-07]\n",
      " [ 5.19798104e-07]\n",
      " [ 1.89773390e-07]\n",
      " [-1.08430491e-07]\n",
      " [ 5.85758666e-07]\n",
      " [-1.16834550e-06]]\n",
      "dW2 = [[ 1.06347495e-06 -1.81553319e-06 -1.41790447e-06 -4.70689322e-06\n",
      "  -5.69779777e-07  5.89771787e-07 -1.86408712e-06  7.46098891e-07\n",
      "   1.29933946e-06  2.18351246e-06]]\n",
      "db2 = [[4.99479844e-05]]\n"
     ]
    }
   ],
   "source": [
    "grads=backward_propagation(parameters,cache,A0,Y)\n",
    "print (\"dW1 = \"+ str(grads[\"dW1\"]))\n",
    "print (\"db1 = \"+ str(grads[\"db1\"]))\n",
    "print (\"dW2 = \"+ str(grads[\"dW2\"]))\n",
    "print (\"db2 = \"+ str(grads[\"db2\"]))"
   ]
  },
  {
   "cell_type": "code",
   "execution_count": 36,
   "metadata": {
    "ExecuteTime": {
     "end_time": "2020-07-16T07:33:01.806716Z",
     "start_time": "2020-07-16T07:33:01.799735Z"
    }
   },
   "outputs": [],
   "source": [
    "def update_parameters(parameters,grads,learning_rate=0.01):#to update W1,b1,W2,b2\n",
    "    W1=parameters['W1']\n",
    "    b1=parameters['b1']\n",
    "    W2=parameters['W2']\n",
    "    b2=parameters['b2']\n",
    "    \n",
    "    dW1=grads['dW1']\n",
    "    db1=grads['db1']\n",
    "    dW2=grads['dW2']\n",
    "    db2=grads['db2']\n",
    "    \n",
    "    W1=W1-learning_rate*dW1\n",
    "    b1=b1-learning_rate*db1\n",
    "    W2=W2-learning_rate*dW2\n",
    "    b2=b2-learning_rate*db2\n",
    "    \n",
    "    parameters={'W1':W1,'b1':b1,'W2':W2,'b2':b2}\n",
    "    return parameters"
   ]
  },
  {
   "cell_type": "code",
   "execution_count": 37,
   "metadata": {
    "ExecuteTime": {
     "end_time": "2020-07-16T07:33:01.819680Z",
     "start_time": "2020-07-16T07:33:01.808709Z"
    },
    "scrolled": false
   },
   "outputs": [
    {
     "name": "stdout",
     "output_type": "stream",
     "text": [
      "W1 = [[-4.16758069e-03 -5.62669008e-04 -2.13619588e-02  1.64027073e-02\n",
      "  -1.79343553e-02 -8.41747859e-03  5.02881067e-03 -1.24528817e-02\n",
      "  -1.05795208e-02]\n",
      " [-9.09007943e-03  5.51453935e-03  2.29220833e-02  4.15392707e-04\n",
      "  -1.11792536e-02  5.39057590e-03 -5.96160218e-03 -1.91306210e-04\n",
      "   1.17500142e-02]\n",
      " [-7.47871068e-03  9.02521163e-05 -8.78107778e-03 -1.56434215e-03\n",
      "   2.56570483e-03 -9.88779312e-03 -3.38822153e-03 -2.36184076e-03\n",
      "  -6.37654939e-03]\n",
      " [-1.18761310e-02 -1.42121750e-02 -1.53494407e-03 -2.69057262e-03\n",
      "   2.23136700e-02 -2.43476938e-02  1.12725227e-03  3.70444230e-03\n",
      "   1.35963436e-02]\n",
      " [ 5.01858215e-03 -8.44213369e-03  8.77795409e-08  5.42352948e-03\n",
      "  -3.13508461e-03  7.71013982e-03 -1.86808906e-02  1.73118505e-02\n",
      "   1.46767739e-02]\n",
      " [-3.35677942e-03  6.11340579e-03  4.79711809e-04 -8.29135514e-03\n",
      "   8.77103765e-04  1.00036454e-02 -3.81093472e-03 -3.75669652e-03\n",
      "  -7.44703890e-04]\n",
      " [ 4.33496110e-03  1.27837916e-02 -6.34679090e-03  5.08396160e-03\n",
      "   2.16116064e-03 -1.85861288e-02 -4.19316830e-03 -1.32328982e-03\n",
      "  -3.95701032e-04]\n",
      " [ 3.26003559e-03 -2.04032301e-02  4.62554003e-04 -6.77675530e-03\n",
      "  -1.43943906e-02  5.24296710e-03  7.35279775e-03 -6.53250220e-03\n",
      "   8.42456204e-03]\n",
      " [-3.81517162e-03  6.64887830e-04 -1.09873828e-02  1.58448680e-02\n",
      "  -2.65944928e-02 -9.14541372e-04  6.95118530e-03 -2.03346680e-02\n",
      "  -1.89468843e-03]\n",
      " [-7.72173083e-04  8.24703457e-03  1.24821160e-02 -4.03891763e-03\n",
      "  -1.38451902e-02  1.36723844e-02  1.21788778e-02 -4.62004833e-03\n",
      "   3.50887654e-03]]\n",
      "b1 = [[-1.90648020e-09]\n",
      " [-2.82469473e-09]\n",
      " [-1.01915574e-09]\n",
      " [-6.96376901e-09]\n",
      " [ 8.67962779e-09]\n",
      " [-5.19798104e-09]\n",
      " [-1.89773390e-09]\n",
      " [ 1.08430491e-09]\n",
      " [-5.85758666e-09]\n",
      " [ 1.16834550e-08]]\n",
      "W2 = [[ 0.00381865  0.00566277  0.00204209  0.01406701 -0.01737959  0.01040823\n",
      "   0.00380474 -0.00217136  0.0117353  -0.02343605]]\n",
      "b2 = [[-4.99479844e-07]]\n"
     ]
    }
   ],
   "source": [
    "parameters=update_parameters(parameters,grads)\n",
    "print(\"W1 = \" + str(parameters[\"W1\"]))\n",
    "print(\"b1 = \" + str(parameters[\"b1\"]))\n",
    "print(\"W2 = \" + str(parameters[\"W2\"]))\n",
    "print(\"b2 = \" + str(parameters[\"b2\"]))"
   ]
  },
  {
   "cell_type": "code",
   "execution_count": 38,
   "metadata": {
    "ExecuteTime": {
     "end_time": "2020-07-16T07:33:01.830650Z",
     "start_time": "2020-07-16T07:33:01.821675Z"
    }
   },
   "outputs": [],
   "source": [
    "def nn_model(A0,Y,n_h,num_iterations=20000,print_cost=False):\n",
    "    np.random.seed(2)\n",
    "    n_x = layer_size(x,y)[0]\n",
    "    n_h = layer_size(x,y)[1]\n",
    "    n_y = layer_size(x,y)[2]\n",
    "    parameters=initialize_parameters(n_x,n_h,n_y)\n",
    "    W1 = parameters['W1']\n",
    "    b1 = parameters['b1']\n",
    "    W2 = parameters['W2']\n",
    "    b2 = parameters['b2']\n",
    "    for i in range(0,num_iterations):\n",
    "        A2,cache=forward_propagation(A0,parameters)\n",
    "        cost=compute_cost(A2, Y, parameters)\n",
    "        grads=backward_propagation(parameters,cache,A0,Y)\n",
    "        parameters=update_parameters(parameters,grads)\n",
    "        if print_cost and i%1000==0:\n",
    "            print('Cost after iteration %i:%f'%(i,cost))\n",
    "            \n",
    "    return parameters"
   ]
  },
  {
   "cell_type": "code",
   "execution_count": 39,
   "metadata": {
    "ExecuteTime": {
     "end_time": "2020-07-16T07:33:03.268402Z",
     "start_time": "2020-07-16T07:33:01.832645Z"
    },
    "scrolled": true
   },
   "outputs": [
    {
     "name": "stdout",
     "output_type": "stream",
     "text": [
      "Cost after iteration 0:0.692107\n",
      "Cost after iteration 1000:0.691849\n",
      "Cost after iteration 2000:0.691591\n",
      "Cost after iteration 3000:0.691332\n",
      "Cost after iteration 4000:0.691074\n",
      "Cost after iteration 5000:0.690816\n",
      "Cost after iteration 6000:0.690559\n",
      "Cost after iteration 7000:0.690301\n",
      "Cost after iteration 8000:0.690043\n",
      "Cost after iteration 9000:0.689786\n",
      "Cost after iteration 10000:0.689528\n",
      "Cost after iteration 11000:0.689271\n",
      "Cost after iteration 12000:0.689014\n",
      "Cost after iteration 13000:0.688757\n",
      "Cost after iteration 14000:0.688500\n",
      "Cost after iteration 15000:0.688243\n",
      "Cost after iteration 16000:0.687987\n",
      "Cost after iteration 17000:0.687730\n",
      "Cost after iteration 18000:0.687474\n",
      "Cost after iteration 19000:0.687217\n"
     ]
    }
   ],
   "source": [
    "parameters = nn_model(A0,Y,10,num_iterations=20000, print_cost=True)"
   ]
  },
  {
   "cell_type": "code",
   "execution_count": 51,
   "metadata": {
    "ExecuteTime": {
     "end_time": "2020-07-16T07:41:26.423661Z",
     "start_time": "2020-07-16T07:41:26.417677Z"
    }
   },
   "outputs": [],
   "source": [
    "def predict(parameters,A0):\n",
    "    A2,cache=forward_propagation(A0,parameters)\n",
    "    predictions=(A2>0.5)*1\n",
    "    return predictions"
   ]
  },
  {
   "cell_type": "code",
   "execution_count": 70,
   "metadata": {
    "ExecuteTime": {
     "end_time": "2020-07-16T10:22:02.837285Z",
     "start_time": "2020-07-16T10:22:02.831331Z"
    }
   },
   "outputs": [
    {
     "name": "stdout",
     "output_type": "stream",
     "text": [
      "predictions mean = 0.0\n"
     ]
    }
   ],
   "source": [
    "predictions=predict(parameters,A0)\n",
    "print(\"predictions mean = \" + str(np.mean(predictions)))"
   ]
  },
  {
   "cell_type": "code",
   "execution_count": null,
   "metadata": {},
   "outputs": [],
   "source": []
  },
  {
   "cell_type": "code",
   "execution_count": null,
   "metadata": {},
   "outputs": [],
   "source": []
  },
  {
   "cell_type": "code",
   "execution_count": null,
   "metadata": {},
   "outputs": [],
   "source": []
  },
  {
   "cell_type": "code",
   "execution_count": null,
   "metadata": {},
   "outputs": [],
   "source": []
  },
  {
   "cell_type": "code",
   "execution_count": null,
   "metadata": {},
   "outputs": [],
   "source": []
  },
  {
   "cell_type": "code",
   "execution_count": null,
   "metadata": {},
   "outputs": [],
   "source": []
  },
  {
   "cell_type": "code",
   "execution_count": null,
   "metadata": {},
   "outputs": [],
   "source": []
  },
  {
   "cell_type": "code",
   "execution_count": null,
   "metadata": {},
   "outputs": [],
   "source": []
  },
  {
   "cell_type": "code",
   "execution_count": null,
   "metadata": {},
   "outputs": [],
   "source": []
  },
  {
   "cell_type": "code",
   "execution_count": null,
   "metadata": {},
   "outputs": [],
   "source": []
  },
  {
   "cell_type": "code",
   "execution_count": null,
   "metadata": {},
   "outputs": [],
   "source": []
  },
  {
   "cell_type": "code",
   "execution_count": null,
   "metadata": {},
   "outputs": [],
   "source": []
  }
 ],
 "metadata": {
  "kernelspec": {
   "display_name": "Python 3",
   "language": "python",
   "name": "python3"
  },
  "language_info": {
   "codemirror_mode": {
    "name": "ipython",
    "version": 3
   },
   "file_extension": ".py",
   "mimetype": "text/x-python",
   "name": "python",
   "nbconvert_exporter": "python",
   "pygments_lexer": "ipython3",
   "version": "3.7.3"
  },
  "toc": {
   "base_numbering": 1,
   "nav_menu": {},
   "number_sections": true,
   "sideBar": true,
   "skip_h1_title": false,
   "title_cell": "Table of Contents",
   "title_sidebar": "Contents",
   "toc_cell": false,
   "toc_position": {},
   "toc_section_display": true,
   "toc_window_display": false
  },
  "varInspector": {
   "cols": {
    "lenName": 16,
    "lenType": 16,
    "lenVar": 40
   },
   "kernels_config": {
    "python": {
     "delete_cmd_postfix": "",
     "delete_cmd_prefix": "del ",
     "library": "var_list.py",
     "varRefreshCmd": "print(var_dic_list())"
    },
    "r": {
     "delete_cmd_postfix": ") ",
     "delete_cmd_prefix": "rm(",
     "library": "var_list.r",
     "varRefreshCmd": "cat(var_dic_list()) "
    }
   },
   "types_to_exclude": [
    "module",
    "function",
    "builtin_function_or_method",
    "instance",
    "_Feature"
   ],
   "window_display": false
  }
 },
 "nbformat": 4,
 "nbformat_minor": 2
}
