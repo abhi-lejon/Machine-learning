{
 "cells": [
  {
   "cell_type": "code",
   "execution_count": 7,
   "metadata": {
    "ExecuteTime": {
     "end_time": "2020-02-13T02:17:27.230048Z",
     "start_time": "2020-02-13T02:17:27.222071Z"
    }
   },
   "outputs": [
    {
     "name": "stdout",
     "output_type": "stream",
     "text": [
      "Hello world\n"
     ]
    }
   ],
   "source": [
    "class First:\n",
    "    def f1(self):\n",
    "        print('Hello world')\n",
    "a=First()\n",
    "a.f1()"
   ]
  },
  {
   "cell_type": "code",
   "execution_count": 17,
   "metadata": {
    "ExecuteTime": {
     "end_time": "2020-02-13T02:34:45.832997Z",
     "start_time": "2020-02-13T02:34:45.825023Z"
    }
   },
   "outputs": [
    {
     "name": "stdout",
     "output_type": "stream",
     "text": [
      "Hello, my name is mllabs\n"
     ]
    }
   ],
   "source": [
    "# A Sample class with init method \n",
    "class Test123: \n",
    "  \n",
    "    # init method or constructor  \n",
    "    def __init__(self, name): \n",
    "        self.name = name \n",
    "  \n",
    "    # Sample Method  \n",
    "    def say_hi(self): \n",
    "        print('Hello, my name is', self.name) \n",
    "  \n",
    "p = Test123('mllabs')\n",
    "p.say_hi()"
   ]
  },
  {
   "cell_type": "code",
   "execution_count": 18,
   "metadata": {
    "ExecuteTime": {
     "end_time": "2020-02-13T02:35:04.615425Z",
     "start_time": "2020-02-13T02:35:04.606440Z"
    }
   },
   "outputs": [
    {
     "name": "stdout",
     "output_type": "stream",
     "text": [
      "mlllabs\n",
      "mlllabs\n",
      "101\n",
      "mlllabs\n"
     ]
    }
   ],
   "source": [
    "class CSStudent: \n",
    "  \n",
    "    # Class Variable \n",
    "    stream = 'mlllabs'             \n",
    "  \n",
    "    # The init method or constructor \n",
    "    def __init__(self, roll): \n",
    "    \n",
    "        # Instance Variable     \n",
    "        self.name = roll        \n",
    "   \n",
    "# Objects of CSStudent class \n",
    "a = CSStudent(101) \n",
    "b = CSStudent(102) \n",
    "   \n",
    "print(a.stream)  # prints \"cse\" \n",
    "print(b.stream)  # prints \"cse\" \n",
    "print(a.name)    # prints 101 \n",
    "   \n",
    "# Class variables can be accessed using class \n",
    "# name also \n",
    "print(CSStudent.stream) # prints \"cse\""
   ]
  },
  {
   "cell_type": "code",
   "execution_count": 22,
   "metadata": {
    "ExecuteTime": {
     "end_time": "2020-02-13T02:46:18.213826Z",
     "start_time": "2020-02-13T02:46:18.206841Z"
    }
   },
   "outputs": [],
   "source": [
    "class circle:\n",
    "    def __init__(self,r,pi):\n",
    "        self.r=r\n",
    "        self.pi=pi\n",
    "    def f1(self):\n",
    "        return self.pi*self.r**2"
   ]
  },
  {
   "cell_type": "code",
   "execution_count": 23,
   "metadata": {
    "ExecuteTime": {
     "end_time": "2020-02-13T02:46:18.560994Z",
     "start_time": "2020-02-13T02:46:18.554022Z"
    }
   },
   "outputs": [],
   "source": [
    "x=circle(2,4)"
   ]
  },
  {
   "cell_type": "code",
   "execution_count": 24,
   "metadata": {
    "ExecuteTime": {
     "end_time": "2020-02-13T02:46:19.152553Z",
     "start_time": "2020-02-13T02:46:19.131623Z"
    }
   },
   "outputs": [
    {
     "data": {
      "text/plain": [
       "16"
      ]
     },
     "execution_count": 24,
     "metadata": {},
     "output_type": "execute_result"
    }
   ],
   "source": [
    "x.f1()"
   ]
  },
  {
   "cell_type": "code",
   "execution_count": 25,
   "metadata": {
    "ExecuteTime": {
     "end_time": "2020-02-13T03:03:52.282449Z",
     "start_time": "2020-02-13T03:03:52.269913Z"
    }
   },
   "outputs": [],
   "source": [
    "class Animal:\n",
    "    def __init__(self):\n",
    "        print(\"Animal created\")\n",
    "\n",
    "    def whoAmI(self):\n",
    "        print(\"Animal\")\n",
    "\n",
    "    def eat(self):\n",
    "        print(\"Eating\")\n",
    "\n",
    "\n",
    "class Dog(Animal):\n",
    "    def __init__(self):\n",
    "        Animal.__init__(self)\n",
    "        print(\"Dog created\")\n",
    "\n",
    "    def whoAmI(self):\n",
    "        print(\"Dog\")\n",
    "\n",
    "    def bark(self):\n",
    "        print(\"Woof!\")"
   ]
  },
  {
   "cell_type": "code",
   "execution_count": 26,
   "metadata": {
    "ExecuteTime": {
     "end_time": "2020-02-13T03:04:07.075162Z",
     "start_time": "2020-02-13T03:04:07.069029Z"
    }
   },
   "outputs": [
    {
     "name": "stdout",
     "output_type": "stream",
     "text": [
      "Animal created\n",
      "Dog created\n"
     ]
    }
   ],
   "source": [
    "d = Dog()"
   ]
  },
  {
   "cell_type": "code",
   "execution_count": 27,
   "metadata": {
    "ExecuteTime": {
     "end_time": "2020-02-13T03:04:21.309168Z",
     "start_time": "2020-02-13T03:04:21.303152Z"
    }
   },
   "outputs": [
    {
     "name": "stdout",
     "output_type": "stream",
     "text": [
      "Dog\n"
     ]
    }
   ],
   "source": [
    "d.whoAmI()"
   ]
  },
  {
   "cell_type": "code",
   "execution_count": 28,
   "metadata": {
    "ExecuteTime": {
     "end_time": "2020-02-13T03:04:32.591019Z",
     "start_time": "2020-02-13T03:04:32.585998Z"
    }
   },
   "outputs": [
    {
     "name": "stdout",
     "output_type": "stream",
     "text": [
      "Eating\n"
     ]
    }
   ],
   "source": [
    "d.eat()"
   ]
  },
  {
   "cell_type": "code",
   "execution_count": 29,
   "metadata": {
    "ExecuteTime": {
     "end_time": "2020-02-13T03:04:42.214489Z",
     "start_time": "2020-02-13T03:04:42.208619Z"
    }
   },
   "outputs": [
    {
     "name": "stdout",
     "output_type": "stream",
     "text": [
      "Woof!\n"
     ]
    }
   ],
   "source": [
    "d.bark()"
   ]
  },
  {
   "cell_type": "code",
   "execution_count": 30,
   "metadata": {
    "ExecuteTime": {
     "end_time": "2020-02-13T03:10:52.235399Z",
     "start_time": "2020-02-13T03:10:43.779607Z"
    }
   },
   "outputs": [
    {
     "data": {
      "text/plain": [
       "survived         0\n",
       "pclass           0\n",
       "sex              0\n",
       "age            177\n",
       "sibsp            0\n",
       "parch            0\n",
       "fare             0\n",
       "embarked         2\n",
       "class            0\n",
       "who              0\n",
       "adult_male       0\n",
       "deck           688\n",
       "embark_town      2\n",
       "alive            0\n",
       "alone            0\n",
       "dtype: int64"
      ]
     },
     "execution_count": 30,
     "metadata": {},
     "output_type": "execute_result"
    }
   ],
   "source": [
    "import numpy as np\n",
    "import seaborn as sns\n",
    "df=sns.load_dataset(\"titanic\")\n",
    "\n",
    "class models_machine_leanring:\n",
    "        def __init__(self,df):\n",
    "            self.df=df\n",
    "        def null_values(self):\n",
    "            return self.df.isna().sum()\n",
    "        def outliers(self):\n",
    "            return self.df/3   \n",
    "df_outs=models_machine_leanring(df)\n",
    "df_outs.null_values()"
   ]
  },
  {
   "cell_type": "code",
   "execution_count": 42,
   "metadata": {
    "ExecuteTime": {
     "end_time": "2020-02-13T03:21:48.744323Z",
     "start_time": "2020-02-13T03:21:48.706058Z"
    }
   },
   "outputs": [],
   "source": [
    "import numpy as np\n",
    "import seaborn as sns\n",
    "df=sns.load_dataset(\"titanic\")\n",
    "\n",
    "class models_machine_leanring:\n",
    "        def __init__(self,df):\n",
    "            self.df=df\n",
    "        def null_values(self):\n",
    "            print(self.df.isna().sum())\n",
    "            ## null value percentage     \n",
    "            null_value_table=(self.df.isna().sum()/self.df.shape[0])*100\n",
    "            ## null value percentage beyond threshold drop , else treat the columns \n",
    "\n",
    "            retained_columns=null_value_table[null_value_table<int(input(\"Enter the null value threshold percentage the columns below which to be retained:\"))].index\n",
    "            # if any variable as null value greater than input(like 30% of the data) value than those variable are consider as drop\n",
    "            drop_columns=null_value_table[null_value_table>int(input(\"Enter the null value threshold percentage the columns above which to be dropped:\"))].index\n",
    "            self.df.drop(drop_columns,axis=1,inplace=True)\n",
    "            len(self.df.isna().sum().index)\n",
    "            cont=self.df.describe().columns\n",
    "            cat=[i for i in self.df.columns if i not in self.df.describe().columns]\n",
    "            for i in cat:\n",
    "                self.df[i].fillna(self.df[i].value_counts().index[0],inplace=True)\n",
    "            for i in cont:\n",
    "                self.df[i].fillna(self.df[i].median(),inplace=True)\n",
    "            print(self.df.isna().sum())\n",
    "            return self.df,cat,cont"
   ]
  },
  {
   "cell_type": "code",
   "execution_count": 43,
   "metadata": {
    "ExecuteTime": {
     "end_time": "2020-02-13T03:21:52.605136Z",
     "start_time": "2020-02-13T03:21:52.599076Z"
    }
   },
   "outputs": [],
   "source": [
    "x=models_machine_leanring(df)"
   ]
  },
  {
   "cell_type": "code",
   "execution_count": 44,
   "metadata": {
    "ExecuteTime": {
     "end_time": "2020-02-13T03:21:57.072822Z",
     "start_time": "2020-02-13T03:21:53.299325Z"
    }
   },
   "outputs": [
    {
     "name": "stdout",
     "output_type": "stream",
     "text": [
      "survived         0\n",
      "pclass           0\n",
      "sex              0\n",
      "age            177\n",
      "sibsp            0\n",
      "parch            0\n",
      "fare             0\n",
      "embarked         2\n",
      "class            0\n",
      "who              0\n",
      "adult_male       0\n",
      "deck           688\n",
      "embark_town      2\n",
      "alive            0\n",
      "alone            0\n",
      "dtype: int64\n",
      "Enter the null value threshold percentage the columns below which to be retained:30\n",
      "Enter the null value threshold percentage the columns above which to be dropped:30\n",
      "survived       0\n",
      "pclass         0\n",
      "sex            0\n",
      "age            0\n",
      "sibsp          0\n",
      "parch          0\n",
      "fare           0\n",
      "embarked       0\n",
      "class          0\n",
      "who            0\n",
      "adult_male     0\n",
      "embark_town    0\n",
      "alive          0\n",
      "alone          0\n",
      "dtype: int64\n"
     ]
    },
    {
     "data": {
      "text/plain": [
       "(     survived  pclass     sex   age  sibsp  parch      fare embarked   class  \\\n",
       " 0           0       3    male  22.0      1      0    7.2500        S   Third   \n",
       " 1           1       1  female  38.0      1      0   71.2833        C   First   \n",
       " 2           1       3  female  26.0      0      0    7.9250        S   Third   \n",
       " 3           1       1  female  35.0      1      0   53.1000        S   First   \n",
       " 4           0       3    male  35.0      0      0    8.0500        S   Third   \n",
       " 5           0       3    male  28.0      0      0    8.4583        Q   Third   \n",
       " 6           0       1    male  54.0      0      0   51.8625        S   First   \n",
       " 7           0       3    male   2.0      3      1   21.0750        S   Third   \n",
       " 8           1       3  female  27.0      0      2   11.1333        S   Third   \n",
       " 9           1       2  female  14.0      1      0   30.0708        C  Second   \n",
       " 10          1       3  female   4.0      1      1   16.7000        S   Third   \n",
       " 11          1       1  female  58.0      0      0   26.5500        S   First   \n",
       " 12          0       3    male  20.0      0      0    8.0500        S   Third   \n",
       " 13          0       3    male  39.0      1      5   31.2750        S   Third   \n",
       " 14          0       3  female  14.0      0      0    7.8542        S   Third   \n",
       " 15          1       2  female  55.0      0      0   16.0000        S  Second   \n",
       " 16          0       3    male   2.0      4      1   29.1250        Q   Third   \n",
       " 17          1       2    male  28.0      0      0   13.0000        S  Second   \n",
       " 18          0       3  female  31.0      1      0   18.0000        S   Third   \n",
       " 19          1       3  female  28.0      0      0    7.2250        C   Third   \n",
       " 20          0       2    male  35.0      0      0   26.0000        S  Second   \n",
       " 21          1       2    male  34.0      0      0   13.0000        S  Second   \n",
       " 22          1       3  female  15.0      0      0    8.0292        Q   Third   \n",
       " 23          1       1    male  28.0      0      0   35.5000        S   First   \n",
       " 24          0       3  female   8.0      3      1   21.0750        S   Third   \n",
       " 25          1       3  female  38.0      1      5   31.3875        S   Third   \n",
       " 26          0       3    male  28.0      0      0    7.2250        C   Third   \n",
       " 27          0       1    male  19.0      3      2  263.0000        S   First   \n",
       " 28          1       3  female  28.0      0      0    7.8792        Q   Third   \n",
       " 29          0       3    male  28.0      0      0    7.8958        S   Third   \n",
       " ..        ...     ...     ...   ...    ...    ...       ...      ...     ...   \n",
       " 861         0       2    male  21.0      1      0   11.5000        S  Second   \n",
       " 862         1       1  female  48.0      0      0   25.9292        S   First   \n",
       " 863         0       3  female  28.0      8      2   69.5500        S   Third   \n",
       " 864         0       2    male  24.0      0      0   13.0000        S  Second   \n",
       " 865         1       2  female  42.0      0      0   13.0000        S  Second   \n",
       " 866         1       2  female  27.0      1      0   13.8583        C  Second   \n",
       " 867         0       1    male  31.0      0      0   50.4958        S   First   \n",
       " 868         0       3    male  28.0      0      0    9.5000        S   Third   \n",
       " 869         1       3    male   4.0      1      1   11.1333        S   Third   \n",
       " 870         0       3    male  26.0      0      0    7.8958        S   Third   \n",
       " 871         1       1  female  47.0      1      1   52.5542        S   First   \n",
       " 872         0       1    male  33.0      0      0    5.0000        S   First   \n",
       " 873         0       3    male  47.0      0      0    9.0000        S   Third   \n",
       " 874         1       2  female  28.0      1      0   24.0000        C  Second   \n",
       " 875         1       3  female  15.0      0      0    7.2250        C   Third   \n",
       " 876         0       3    male  20.0      0      0    9.8458        S   Third   \n",
       " 877         0       3    male  19.0      0      0    7.8958        S   Third   \n",
       " 878         0       3    male  28.0      0      0    7.8958        S   Third   \n",
       " 879         1       1  female  56.0      0      1   83.1583        C   First   \n",
       " 880         1       2  female  25.0      0      1   26.0000        S  Second   \n",
       " 881         0       3    male  33.0      0      0    7.8958        S   Third   \n",
       " 882         0       3  female  22.0      0      0   10.5167        S   Third   \n",
       " 883         0       2    male  28.0      0      0   10.5000        S  Second   \n",
       " 884         0       3    male  25.0      0      0    7.0500        S   Third   \n",
       " 885         0       3  female  39.0      0      5   29.1250        Q   Third   \n",
       " 886         0       2    male  27.0      0      0   13.0000        S  Second   \n",
       " 887         1       1  female  19.0      0      0   30.0000        S   First   \n",
       " 888         0       3  female  28.0      1      2   23.4500        S   Third   \n",
       " 889         1       1    male  26.0      0      0   30.0000        C   First   \n",
       " 890         0       3    male  32.0      0      0    7.7500        Q   Third   \n",
       " \n",
       "        who  adult_male  embark_town alive  alone  \n",
       " 0      man        True  Southampton    no  False  \n",
       " 1    woman       False    Cherbourg   yes  False  \n",
       " 2    woman       False  Southampton   yes   True  \n",
       " 3    woman       False  Southampton   yes  False  \n",
       " 4      man        True  Southampton    no   True  \n",
       " 5      man        True   Queenstown    no   True  \n",
       " 6      man        True  Southampton    no   True  \n",
       " 7    child       False  Southampton    no  False  \n",
       " 8    woman       False  Southampton   yes  False  \n",
       " 9    child       False    Cherbourg   yes  False  \n",
       " 10   child       False  Southampton   yes  False  \n",
       " 11   woman       False  Southampton   yes   True  \n",
       " 12     man        True  Southampton    no   True  \n",
       " 13     man        True  Southampton    no  False  \n",
       " 14   child       False  Southampton    no   True  \n",
       " 15   woman       False  Southampton   yes   True  \n",
       " 16   child       False   Queenstown    no  False  \n",
       " 17     man        True  Southampton   yes   True  \n",
       " 18   woman       False  Southampton    no  False  \n",
       " 19   woman       False    Cherbourg   yes   True  \n",
       " 20     man        True  Southampton    no   True  \n",
       " 21     man        True  Southampton   yes   True  \n",
       " 22   child       False   Queenstown   yes   True  \n",
       " 23     man        True  Southampton   yes   True  \n",
       " 24   child       False  Southampton    no  False  \n",
       " 25   woman       False  Southampton   yes  False  \n",
       " 26     man        True    Cherbourg    no   True  \n",
       " 27     man        True  Southampton    no  False  \n",
       " 28   woman       False   Queenstown   yes   True  \n",
       " 29     man        True  Southampton    no   True  \n",
       " ..     ...         ...          ...   ...    ...  \n",
       " 861    man        True  Southampton    no  False  \n",
       " 862  woman       False  Southampton   yes   True  \n",
       " 863  woman       False  Southampton    no  False  \n",
       " 864    man        True  Southampton    no   True  \n",
       " 865  woman       False  Southampton   yes   True  \n",
       " 866  woman       False    Cherbourg   yes  False  \n",
       " 867    man        True  Southampton    no   True  \n",
       " 868    man        True  Southampton    no   True  \n",
       " 869  child       False  Southampton   yes  False  \n",
       " 870    man        True  Southampton    no   True  \n",
       " 871  woman       False  Southampton   yes  False  \n",
       " 872    man        True  Southampton    no   True  \n",
       " 873    man        True  Southampton    no   True  \n",
       " 874  woman       False    Cherbourg   yes  False  \n",
       " 875  child       False    Cherbourg   yes   True  \n",
       " 876    man        True  Southampton    no   True  \n",
       " 877    man        True  Southampton    no   True  \n",
       " 878    man        True  Southampton    no   True  \n",
       " 879  woman       False    Cherbourg   yes  False  \n",
       " 880  woman       False  Southampton   yes  False  \n",
       " 881    man        True  Southampton    no   True  \n",
       " 882  woman       False  Southampton    no   True  \n",
       " 883    man        True  Southampton    no   True  \n",
       " 884    man        True  Southampton    no   True  \n",
       " 885  woman       False   Queenstown    no  False  \n",
       " 886    man        True  Southampton    no   True  \n",
       " 887  woman       False  Southampton   yes   True  \n",
       " 888  woman       False  Southampton    no  False  \n",
       " 889    man        True    Cherbourg   yes   True  \n",
       " 890    man        True   Queenstown    no   True  \n",
       " \n",
       " [891 rows x 14 columns],\n",
       " ['sex',\n",
       "  'embarked',\n",
       "  'class',\n",
       "  'who',\n",
       "  'adult_male',\n",
       "  'embark_town',\n",
       "  'alive',\n",
       "  'alone'],\n",
       " Index(['survived', 'pclass', 'age', 'sibsp', 'parch', 'fare'], dtype='object'))"
      ]
     },
     "execution_count": 44,
     "metadata": {},
     "output_type": "execute_result"
    }
   ],
   "source": [
    "x.null_values()"
   ]
  },
  {
   "cell_type": "code",
   "execution_count": null,
   "metadata": {},
   "outputs": [],
   "source": []
  }
 ],
 "metadata": {
  "kernelspec": {
   "display_name": "Python 3",
   "language": "python",
   "name": "python3"
  },
  "language_info": {
   "codemirror_mode": {
    "name": "ipython",
    "version": 3
   },
   "file_extension": ".py",
   "mimetype": "text/x-python",
   "name": "python",
   "nbconvert_exporter": "python",
   "pygments_lexer": "ipython3",
   "version": "3.7.3"
  },
  "toc": {
   "base_numbering": 1,
   "nav_menu": {},
   "number_sections": true,
   "sideBar": true,
   "skip_h1_title": false,
   "title_cell": "Table of Contents",
   "title_sidebar": "Contents",
   "toc_cell": false,
   "toc_position": {},
   "toc_section_display": true,
   "toc_window_display": false
  },
  "varInspector": {
   "cols": {
    "lenName": 16,
    "lenType": 16,
    "lenVar": 40
   },
   "kernels_config": {
    "python": {
     "delete_cmd_postfix": "",
     "delete_cmd_prefix": "del ",
     "library": "var_list.py",
     "varRefreshCmd": "print(var_dic_list())"
    },
    "r": {
     "delete_cmd_postfix": ") ",
     "delete_cmd_prefix": "rm(",
     "library": "var_list.r",
     "varRefreshCmd": "cat(var_dic_list()) "
    }
   },
   "types_to_exclude": [
    "module",
    "function",
    "builtin_function_or_method",
    "instance",
    "_Feature"
   ],
   "window_display": false
  }
 },
 "nbformat": 4,
 "nbformat_minor": 2
}
