{
 "cells": [
  {
   "cell_type": "code",
   "execution_count": 249,
   "metadata": {
    "ExecuteTime": {
     "end_time": "2020-08-19T11:35:50.007848Z",
     "start_time": "2020-08-19T11:35:49.986396Z"
    }
   },
   "outputs": [],
   "source": [
    "import pandas as pd\n",
    "import numpy as np\n",
    "import matplotlib.pyplot as plt\n",
    "import seaborn as sns\n",
    "import warnings\n",
    "warnings.simplefilter('ignore')\n",
    "pd.pandas.set_option('display.max_columns',None)"
   ]
  },
  {
   "cell_type": "code",
   "execution_count": 250,
   "metadata": {
    "ExecuteTime": {
     "end_time": "2020-08-19T11:35:51.708998Z",
     "start_time": "2020-08-19T11:35:50.780237Z"
    }
   },
   "outputs": [],
   "source": [
    "df=pd.read_excel(r\"D:\\Users\\abhisv\\Desktop\\Historical Product Demand.xlsx\")"
   ]
  },
  {
   "cell_type": "code",
   "execution_count": 251,
   "metadata": {
    "ExecuteTime": {
     "end_time": "2020-08-19T11:35:52.254905Z",
     "start_time": "2020-08-19T11:35:52.247923Z"
    }
   },
   "outputs": [
    {
     "data": {
      "text/plain": [
       "(6271, 5)"
      ]
     },
     "execution_count": 251,
     "metadata": {},
     "output_type": "execute_result"
    }
   ],
   "source": [
    "df.shape"
   ]
  },
  {
   "cell_type": "code",
   "execution_count": 252,
   "metadata": {
    "ExecuteTime": {
     "end_time": "2020-08-19T11:35:52.898326Z",
     "start_time": "2020-08-19T11:35:52.891344Z"
    }
   },
   "outputs": [
    {
     "data": {
      "text/plain": [
       "Index(['Product_Code', 'Warehouse', 'Product_Category', 'Date',\n",
       "       'Order_Demand'],\n",
       "      dtype='object')"
      ]
     },
     "execution_count": 252,
     "metadata": {},
     "output_type": "execute_result"
    }
   ],
   "source": [
    "df.columns"
   ]
  },
  {
   "cell_type": "code",
   "execution_count": 253,
   "metadata": {
    "ExecuteTime": {
     "end_time": "2020-08-19T11:35:53.505547Z",
     "start_time": "2020-08-19T11:35:53.490586Z"
    },
    "scrolled": true
   },
   "outputs": [
    {
     "data": {
      "text/html": [
       "<div>\n",
       "<style scoped>\n",
       "    .dataframe tbody tr th:only-of-type {\n",
       "        vertical-align: middle;\n",
       "    }\n",
       "\n",
       "    .dataframe tbody tr th {\n",
       "        vertical-align: top;\n",
       "    }\n",
       "\n",
       "    .dataframe thead th {\n",
       "        text-align: right;\n",
       "    }\n",
       "</style>\n",
       "<table border=\"1\" class=\"dataframe\">\n",
       "  <thead>\n",
       "    <tr style=\"text-align: right;\">\n",
       "      <th></th>\n",
       "      <th>Product_Code</th>\n",
       "      <th>Warehouse</th>\n",
       "      <th>Product_Category</th>\n",
       "      <th>Date</th>\n",
       "      <th>Order_Demand</th>\n",
       "    </tr>\n",
       "  </thead>\n",
       "  <tbody>\n",
       "    <tr>\n",
       "      <th>0</th>\n",
       "      <td>Product_1295</td>\n",
       "      <td>Whse_J</td>\n",
       "      <td>Category_019</td>\n",
       "      <td>2012-03-26</td>\n",
       "      <td>10000</td>\n",
       "    </tr>\n",
       "    <tr>\n",
       "      <th>1</th>\n",
       "      <td>Product_1377</td>\n",
       "      <td>Whse_J</td>\n",
       "      <td>Category_019</td>\n",
       "      <td>2012-03-26</td>\n",
       "      <td>5000</td>\n",
       "    </tr>\n",
       "    <tr>\n",
       "      <th>2</th>\n",
       "      <td>Product_1378</td>\n",
       "      <td>Whse_J</td>\n",
       "      <td>Category_019</td>\n",
       "      <td>2012-03-26</td>\n",
       "      <td>10000</td>\n",
       "    </tr>\n",
       "    <tr>\n",
       "      <th>3</th>\n",
       "      <td>Product_1382</td>\n",
       "      <td>Whse_J</td>\n",
       "      <td>Category_019</td>\n",
       "      <td>2012-03-26</td>\n",
       "      <td>5000</td>\n",
       "    </tr>\n",
       "    <tr>\n",
       "      <th>4</th>\n",
       "      <td>Product_1452</td>\n",
       "      <td>Whse_J</td>\n",
       "      <td>Category_019</td>\n",
       "      <td>2012-03-26</td>\n",
       "      <td>5000</td>\n",
       "    </tr>\n",
       "  </tbody>\n",
       "</table>\n",
       "</div>"
      ],
      "text/plain": [
       "   Product_Code Warehouse Product_Category       Date  Order_Demand\n",
       "0  Product_1295    Whse_J     Category_019 2012-03-26         10000\n",
       "1  Product_1377    Whse_J     Category_019 2012-03-26          5000\n",
       "2  Product_1378    Whse_J     Category_019 2012-03-26         10000\n",
       "3  Product_1382    Whse_J     Category_019 2012-03-26          5000\n",
       "4  Product_1452    Whse_J     Category_019 2012-03-26          5000"
      ]
     },
     "execution_count": 253,
     "metadata": {},
     "output_type": "execute_result"
    }
   ],
   "source": [
    "df.head()"
   ]
  },
  {
   "cell_type": "code",
   "execution_count": 254,
   "metadata": {
    "ExecuteTime": {
     "end_time": "2020-08-19T11:35:54.110904Z",
     "start_time": "2020-08-19T11:35:54.094931Z"
    }
   },
   "outputs": [
    {
     "data": {
      "text/plain": [
       "Product_Code                object\n",
       "Warehouse                   object\n",
       "Product_Category            object\n",
       "Date                datetime64[ns]\n",
       "Order_Demand                 int64\n",
       "dtype: object"
      ]
     },
     "execution_count": 254,
     "metadata": {},
     "output_type": "execute_result"
    }
   ],
   "source": [
    "df.dtypes"
   ]
  },
  {
   "cell_type": "code",
   "execution_count": 255,
   "metadata": {
    "ExecuteTime": {
     "end_time": "2020-08-19T11:35:54.800539Z",
     "start_time": "2020-08-19T11:35:54.776605Z"
    }
   },
   "outputs": [
    {
     "data": {
      "text/plain": [
       "(495, 2, 21)"
      ]
     },
     "execution_count": 255,
     "metadata": {},
     "output_type": "execute_result"
    }
   ],
   "source": [
    "df['Product_Code'].nunique(),df['Warehouse'].nunique(),df['Product_Category'].nunique()"
   ]
  },
  {
   "cell_type": "code",
   "execution_count": 256,
   "metadata": {
    "ExecuteTime": {
     "end_time": "2020-08-19T11:35:55.650264Z",
     "start_time": "2020-08-19T11:35:55.626764Z"
    }
   },
   "outputs": [],
   "source": [
    "#Lets split the date interms of Day,Month,Year\n",
    "df['Date']=pd.to_datetime(df['Date'])\n",
    "df['Day']=df['Date'].dt.day\n",
    "df['Month']=df['Date'].dt.month\n",
    "df['Year']=df['Date'].dt.year"
   ]
  },
  {
   "cell_type": "code",
   "execution_count": 257,
   "metadata": {
    "ExecuteTime": {
     "end_time": "2020-08-19T11:35:56.283301Z",
     "start_time": "2020-08-19T11:35:56.266031Z"
    }
   },
   "outputs": [],
   "source": [
    "df.drop(['Date','Product_Code'],axis=1,inplace=True)"
   ]
  },
  {
   "cell_type": "code",
   "execution_count": 258,
   "metadata": {
    "ExecuteTime": {
     "end_time": "2020-08-19T11:35:56.874623Z",
     "start_time": "2020-08-19T11:35:56.856670Z"
    }
   },
   "outputs": [
    {
     "data": {
      "text/plain": [
       "array([2012, 2011], dtype=int64)"
      ]
     },
     "execution_count": 258,
     "metadata": {},
     "output_type": "execute_result"
    }
   ],
   "source": [
    "df['Year'].unique()"
   ]
  },
  {
   "cell_type": "code",
   "execution_count": 259,
   "metadata": {
    "ExecuteTime": {
     "end_time": "2020-08-19T11:35:57.397244Z",
     "start_time": "2020-08-19T11:35:57.389182Z"
    }
   },
   "outputs": [],
   "source": [
    "df.drop('Product_Category',axis=1,inplace=True)"
   ]
  },
  {
   "cell_type": "code",
   "execution_count": 260,
   "metadata": {
    "ExecuteTime": {
     "end_time": "2020-08-19T11:35:57.996880Z",
     "start_time": "2020-08-19T11:35:57.991890Z"
    }
   },
   "outputs": [],
   "source": [
    "#Lets see some distributions"
   ]
  },
  {
   "cell_type": "code",
   "execution_count": 261,
   "metadata": {
    "ExecuteTime": {
     "end_time": "2020-08-19T11:35:58.565111Z",
     "start_time": "2020-08-19T11:35:58.540930Z"
    }
   },
   "outputs": [],
   "source": [
    "def nulltreat(df):\n",
    "    nullvaluetable=df.isna().sum()/df.shape[0]*100\n",
    "    print('The total columns are',len(nullvaluetable))\n",
    "    print('The columns are ',nullvaluetable)\n",
    "    drop_cols=nullvaluetable[nullvaluetable>30].index\n",
    "    print('The columns to be dropped are',len(drop_cols))\n",
    "    print('The columns to be dropped are:',drop_cols)\n",
    "    retained_cols=nullvaluetable[nullvaluetable<30].index\n",
    "    print('The columns to be retained are',retained_cols)\n",
    "    numerical=[feature for feature in df if df[feature].dtypes!='O']\n",
    "    print('The numerical columns are', numerical)\n",
    "    categorical=[feature for feature in df if df[feature].dtypes=='O']\n",
    "    print('The categorical columns are',categorical)\n",
    "    #Lets check the discrete and continous variables in numerical\n",
    "    numerical_continous=[feature for feature in numerical if len(df[feature].unique())>25]\n",
    "    print('The numerical_continous columns are',numerical_continous)\n",
    "    numerical_discrete=[feature for feature in numerical if len(df[feature].unique())<25]\n",
    "    print('The numerical_discrete columns are',numerical_discrete)\n",
    "    return drop_cols,retained_cols,numerical,categorical,numerical_continous,numerical_discrete"
   ]
  },
  {
   "cell_type": "code",
   "execution_count": 262,
   "metadata": {
    "ExecuteTime": {
     "end_time": "2020-08-19T11:35:59.150546Z",
     "start_time": "2020-08-19T11:35:59.105604Z"
    }
   },
   "outputs": [
    {
     "name": "stdout",
     "output_type": "stream",
     "text": [
      "The total columns are 5\n",
      "The columns are  Warehouse       0.0\n",
      "Order_Demand    0.0\n",
      "Day             0.0\n",
      "Month           0.0\n",
      "Year            0.0\n",
      "dtype: float64\n",
      "The columns to be dropped are 0\n",
      "The columns to be dropped are: Index([], dtype='object')\n",
      "The columns to be retained are Index(['Warehouse', 'Order_Demand', 'Day', 'Month', 'Year'], dtype='object')\n",
      "The numerical columns are ['Order_Demand', 'Day', 'Month', 'Year']\n",
      "The categorical columns are ['Warehouse']\n",
      "The numerical_continous columns are ['Order_Demand', 'Day']\n",
      "The numerical_discrete columns are ['Month', 'Year']\n"
     ]
    }
   ],
   "source": [
    "drop_cols,retained_cols,numerical,categorical,numerical_continous,numerical_discrete=nulltreat(df)"
   ]
  },
  {
   "cell_type": "code",
   "execution_count": 263,
   "metadata": {
    "ExecuteTime": {
     "end_time": "2020-08-19T11:36:02.734121Z",
     "start_time": "2020-08-19T11:36:02.509395Z"
    }
   },
   "outputs": [
    {
     "data": {
      "text/plain": [
       "<matplotlib.axes._subplots.AxesSubplot at 0x1bf90e7aac8>"
      ]
     },
     "execution_count": 263,
     "metadata": {},
     "output_type": "execute_result"
    },
    {
     "data": {
      "image/png": "[encoded data removed]",
      "text/plain": [
       "<Figure size 432x288 with 1 Axes>"
      ]
     },
     "metadata": {
      "needs_background": "light"
     },
     "output_type": "display_data"
    }
   ],
   "source": [
    "df.groupby('Year')['Order_Demand'].mean().plot.bar()"
   ]
  },
  {
   "cell_type": "code",
   "execution_count": 264,
   "metadata": {
    "ExecuteTime": {
     "end_time": "2020-08-19T11:36:04.120600Z",
     "start_time": "2020-08-19T11:36:03.704956Z"
    }
   },
   "outputs": [
    {
     "data": {
      "image/png": "[encoded data removed]",
      "text/plain": [
       "<Figure size 432x288 with 1 Axes>"
      ]
     },
     "metadata": {
      "needs_background": "light"
     },
     "output_type": "display_data"
    },
    {
     "data": {
      "image/png": "[encoded data removed]",
      "text/plain": [
       "<Figure size 432x288 with 1 Axes>"
      ]
     },
     "metadata": {
      "needs_background": "light"
     },
     "output_type": "display_data"
    }
   ],
   "source": [
    "#Lets find relationship between numerical_discrete and order_demand\n",
    "for feature in numerical_discrete:\n",
    "    data=df.copy()\n",
    "    data.groupby(feature)['Order_Demand'].median().plot.bar()\n",
    "    plt.xlabel(feature)\n",
    "    plt.ylabel('Order_Demand')\n",
    "    plt.show()"
   ]
  },
  {
   "cell_type": "code",
   "execution_count": 265,
   "metadata": {
    "ExecuteTime": {
     "end_time": "2020-08-19T11:36:05.211488Z",
     "start_time": "2020-08-19T11:36:04.687371Z"
    }
   },
   "outputs": [
    {
     "data": {
      "image/png": "[encoded data removed]",
      "text/plain": [
       "<Figure size 432x288 with 1 Axes>"
      ]
     },
     "metadata": {
      "needs_background": "light"
     },
     "output_type": "display_data"
    },
    {
     "data": {
      "image/png": "[encoded data removed]",
      "text/plain": [
       "<Figure size 432x288 with 1 Axes>"
      ]
     },
     "metadata": {
      "needs_background": "light"
     },
     "output_type": "display_data"
    }
   ],
   "source": [
    "#Lets understand the distribution of continous variable with Order Demand\n",
    "for feature in numerical_continous:\n",
    "    data=df.copy()\n",
    "    data[feature].hist(bins=25)\n",
    "    plt.xlabel(feature)\n",
    "    plt.ylabel('count')\n",
    "    plt.show()"
   ]
  },
  {
   "cell_type": "code",
   "execution_count": 266,
   "metadata": {
    "ExecuteTime": {
     "end_time": "2020-08-19T11:36:08.321316Z",
     "start_time": "2020-08-19T11:36:05.749463Z"
    }
   },
   "outputs": [
    {
     "data": {
      "image/png": "[encoded data removed]",
      "text/plain": [
       "<Figure size 432x288 with 1 Axes>"
      ]
     },
     "metadata": {
      "needs_background": "light"
     },
     "output_type": "display_data"
    },
    {
     "data": {
      "image/png": "[encoded data removed]",
      "text/plain": [
       "<Figure size 432x288 with 1 Axes>"
      ]
     },
     "metadata": {
      "needs_background": "light"
     },
     "output_type": "display_data"
    }
   ],
   "source": [
    "for feature in numerical_continous:\n",
    "    data=df.copy()\n",
    "    sns.regplot(data[feature],data['Order_Demand'])\n",
    "    plt.xlabel(feature)\n",
    "    plt.ylabel('Order_Demand')\n",
    "    plt.show()"
   ]
  },
  {
   "cell_type": "code",
   "execution_count": 267,
   "metadata": {
    "ExecuteTime": {
     "end_time": "2020-08-19T11:36:09.017370Z",
     "start_time": "2020-08-19T11:36:08.877183Z"
    }
   },
   "outputs": [
    {
     "data": {
      "image/png": "[encoded data removed]",
      "text/plain": [
       "<Figure size 432x288 with 1 Axes>"
      ]
     },
     "metadata": {
      "needs_background": "light"
     },
     "output_type": "display_data"
    }
   ],
   "source": [
    "for feature in categorical:\n",
    "    data=df.copy()\n",
    "    data.groupby(feature)['Order_Demand'].mean().plot.bar()\n",
    "    plt.xlabel(feature)\n",
    "    plt.ylabel('Order_Demand')\n",
    "    plt.show()"
   ]
  },
  {
   "cell_type": "code",
   "execution_count": 268,
   "metadata": {
    "ExecuteTime": {
     "end_time": "2020-08-19T11:36:09.873892Z",
     "start_time": "2020-08-19T11:36:09.530340Z"
    }
   },
   "outputs": [
    {
     "data": {
      "image/png": "[encoded data removed]",
      "text/plain": [
       "<Figure size 432x288 with 1 Axes>"
      ]
     },
     "metadata": {
      "needs_background": "light"
     },
     "output_type": "display_data"
    },
    {
     "data": {
      "image/png": "[encoded data removed]",
      "text/plain": [
       "<Figure size 432x288 with 1 Axes>"
      ]
     },
     "metadata": {
      "needs_background": "light"
     },
     "output_type": "display_data"
    }
   ],
   "source": [
    "for feature in numerical_continous:\n",
    "    data=df.copy()\n",
    "    data.boxplot(column=feature)\n",
    "    plt.ylabel(feature)\n",
    "    plt.show()"
   ]
  },
  {
   "cell_type": "code",
   "execution_count": 269,
   "metadata": {
    "ExecuteTime": {
     "end_time": "2020-08-19T11:36:10.485892Z",
     "start_time": "2020-08-19T11:36:10.466939Z"
    }
   },
   "outputs": [],
   "source": [
    "df['Order_Demand']=df['Order_Demand'].astype('str')"
   ]
  },
  {
   "cell_type": "code",
   "execution_count": 270,
   "metadata": {
    "ExecuteTime": {
     "end_time": "2020-08-19T11:36:11.049378Z",
     "start_time": "2020-08-19T11:36:11.044183Z"
    }
   },
   "outputs": [
    {
     "data": {
      "text/plain": [
       "dtype('O')"
      ]
     },
     "execution_count": 270,
     "metadata": {},
     "output_type": "execute_result"
    }
   ],
   "source": [
    "df['Order_Demand'].dtype"
   ]
  },
  {
   "cell_type": "code",
   "execution_count": 271,
   "metadata": {
    "ExecuteTime": {
     "end_time": "2020-08-19T11:36:11.579016Z",
     "start_time": "2020-08-19T11:36:11.561067Z"
    }
   },
   "outputs": [
    {
     "data": {
      "text/plain": [
       "0        767\n",
       "1000     645\n",
       "500      367\n",
       "2000     361\n",
       "5000     308\n",
       "100      264\n",
       "10000    255\n",
       "200      255\n",
       "3000     185\n",
       "10       167\n",
       "1        165\n",
       "50       158\n",
       "2        157\n",
       "300      154\n",
       "20       139\n",
       "400      125\n",
       "600       90\n",
       "4         83\n",
       "3         80\n",
       "5         74\n",
       "2500      74\n",
       "4000      60\n",
       "6         49\n",
       "250       48\n",
       "30        47\n",
       "1500      46\n",
       "40        39\n",
       "6000      35\n",
       "800       33\n",
       "20000     30\n",
       "        ... \n",
       "552        1\n",
       "480        1\n",
       "168        1\n",
       "17500      1\n",
       "55         1\n",
       "9100       1\n",
       "-90        1\n",
       "79         1\n",
       "436        1\n",
       "-5000      1\n",
       "360        1\n",
       "275        1\n",
       "-1200      1\n",
       "1038       1\n",
       "1350       1\n",
       "31000      1\n",
       "720        1\n",
       "14300      1\n",
       "-360       1\n",
       "9900       1\n",
       "3900       1\n",
       "-5         1\n",
       "626        1\n",
       "71         1\n",
       "1950       1\n",
       "-3         1\n",
       "54400      1\n",
       "2676       1\n",
       "190        1\n",
       "4350       1\n",
       "Name: Order_Demand, Length: 317, dtype: int64"
      ]
     },
     "execution_count": 271,
     "metadata": {},
     "output_type": "execute_result"
    }
   ],
   "source": [
    "df['Order_Demand'].value_counts()"
   ]
  },
  {
   "cell_type": "code",
   "execution_count": 272,
   "metadata": {
    "ExecuteTime": {
     "end_time": "2020-08-19T11:36:12.149394Z",
     "start_time": "2020-08-19T11:36:12.138333Z"
    }
   },
   "outputs": [],
   "source": [
    "df.Order_Demand=df.Order_Demand.map(lambda x:x.lstrip('-'))"
   ]
  },
  {
   "cell_type": "code",
   "execution_count": 280,
   "metadata": {
    "ExecuteTime": {
     "end_time": "2020-08-19T11:36:23.322719Z",
     "start_time": "2020-08-19T11:36:23.310624Z"
    }
   },
   "outputs": [],
   "source": [
    "#Lets remove outliers\n",
    "def outliers(df):\n",
    "    for i in df.describe().columns:\n",
    "        Q1=df.describe().at['25%',i]\n",
    "        Q3=df.describe().at['75%',i]\n",
    "        IQR=Q3-Q1\n",
    "        LTV=Q1-1.5*IQR\n",
    "        UTV=Q3+1.5*IQR\n",
    "        x=np.array(df[i])\n",
    "        p=[]\n",
    "        for j in x:\n",
    "            if j<LTV or j>UTV:\n",
    "                p.append(df[i].median())\n",
    "            else:\n",
    "                p.append(j)\n",
    "        df[i]=p"
   ]
  },
  {
   "cell_type": "code",
   "execution_count": 281,
   "metadata": {
    "ExecuteTime": {
     "end_time": "2020-08-19T11:36:24.401352Z",
     "start_time": "2020-08-19T11:36:23.976204Z"
    }
   },
   "outputs": [],
   "source": [
    "outliers(df)"
   ]
  },
  {
   "cell_type": "code",
   "execution_count": 282,
   "metadata": {
    "ExecuteTime": {
     "end_time": "2020-08-19T11:36:24.947625Z",
     "start_time": "2020-08-19T11:36:24.940607Z"
    }
   },
   "outputs": [
    {
     "data": {
      "text/plain": [
       "dtype('float64')"
      ]
     },
     "execution_count": 282,
     "metadata": {},
     "output_type": "execute_result"
    }
   ],
   "source": [
    "df.Order_Demand.dtypes"
   ]
  },
  {
   "cell_type": "code",
   "execution_count": 283,
   "metadata": {
    "ExecuteTime": {
     "end_time": "2020-08-19T11:36:25.549124Z",
     "start_time": "2020-08-19T11:36:25.532639Z"
    }
   },
   "outputs": [
    {
     "data": {
      "text/html": [
       "<div>\n",
       "<style scoped>\n",
       "    .dataframe tbody tr th:only-of-type {\n",
       "        vertical-align: middle;\n",
       "    }\n",
       "\n",
       "    .dataframe tbody tr th {\n",
       "        vertical-align: top;\n",
       "    }\n",
       "\n",
       "    .dataframe thead th {\n",
       "        text-align: right;\n",
       "    }\n",
       "</style>\n",
       "<table border=\"1\" class=\"dataframe\">\n",
       "  <thead>\n",
       "    <tr style=\"text-align: right;\">\n",
       "      <th></th>\n",
       "      <th>Warehouse</th>\n",
       "      <th>Order_Demand</th>\n",
       "      <th>Day</th>\n",
       "      <th>Month</th>\n",
       "      <th>Year</th>\n",
       "    </tr>\n",
       "  </thead>\n",
       "  <tbody>\n",
       "    <tr>\n",
       "      <th>0</th>\n",
       "      <td>Whse_J</td>\n",
       "      <td>400.0</td>\n",
       "      <td>26</td>\n",
       "      <td>3</td>\n",
       "      <td>2012.0</td>\n",
       "    </tr>\n",
       "    <tr>\n",
       "      <th>1</th>\n",
       "      <td>Whse_J</td>\n",
       "      <td>400.0</td>\n",
       "      <td>26</td>\n",
       "      <td>3</td>\n",
       "      <td>2012.0</td>\n",
       "    </tr>\n",
       "  </tbody>\n",
       "</table>\n",
       "</div>"
      ],
      "text/plain": [
       "  Warehouse  Order_Demand  Day  Month    Year\n",
       "0    Whse_J         400.0   26      3  2012.0\n",
       "1    Whse_J         400.0   26      3  2012.0"
      ]
     },
     "execution_count": 283,
     "metadata": {},
     "output_type": "execute_result"
    }
   ],
   "source": [
    "df.head(2)"
   ]
  },
  {
   "cell_type": "code",
   "execution_count": 284,
   "metadata": {
    "ExecuteTime": {
     "end_time": "2020-08-19T11:36:26.131983Z",
     "start_time": "2020-08-19T11:36:26.122009Z"
    }
   },
   "outputs": [
    {
     "data": {
      "text/plain": [
       "Warehouse        object\n",
       "Order_Demand    float64\n",
       "Day               int64\n",
       "Month             int64\n",
       "Year            float64\n",
       "dtype: object"
      ]
     },
     "execution_count": 284,
     "metadata": {},
     "output_type": "execute_result"
    }
   ],
   "source": [
    "df.dtypes"
   ]
  },
  {
   "cell_type": "code",
   "execution_count": 285,
   "metadata": {
    "ExecuteTime": {
     "end_time": "2020-08-19T11:36:26.718150Z",
     "start_time": "2020-08-19T11:36:26.712166Z"
    }
   },
   "outputs": [],
   "source": [
    "df.Order_Demand=df.Order_Demand.astype('int64')"
   ]
  },
  {
   "cell_type": "code",
   "execution_count": 286,
   "metadata": {
    "ExecuteTime": {
     "end_time": "2020-08-19T11:36:27.499117Z",
     "start_time": "2020-08-19T11:36:27.328127Z"
    }
   },
   "outputs": [
    {
     "data": {
      "text/plain": [
       "<matplotlib.axes._subplots.AxesSubplot at 0x1bf91fb5dd8>"
      ]
     },
     "execution_count": 286,
     "metadata": {},
     "output_type": "execute_result"
    },
    {
     "data": {
      "image/png": "[encoded data removed]",
      "text/plain": [
       "<Figure size 432x288 with 1 Axes>"
      ]
     },
     "metadata": {
      "needs_background": "light"
     },
     "output_type": "display_data"
    }
   ],
   "source": [
    "sns.boxplot(df.Order_Demand)"
   ]
  },
  {
   "cell_type": "code",
   "execution_count": 287,
   "metadata": {
    "ExecuteTime": {
     "end_time": "2020-08-19T11:36:28.403778Z",
     "start_time": "2020-08-19T11:36:28.399791Z"
    }
   },
   "outputs": [],
   "source": [
    "#Feature extraction"
   ]
  },
  {
   "cell_type": "code",
   "execution_count": 288,
   "metadata": {
    "ExecuteTime": {
     "end_time": "2020-08-19T11:36:29.034434Z",
     "start_time": "2020-08-19T11:36:29.024358Z"
    }
   },
   "outputs": [
    {
     "data": {
      "text/plain": [
       "Whse_A    4785\n",
       "Whse_J    1486\n",
       "Name: Warehouse, dtype: int64"
      ]
     },
     "execution_count": 288,
     "metadata": {},
     "output_type": "execute_result"
    }
   ],
   "source": [
    "df.Warehouse.value_counts()"
   ]
  },
  {
   "cell_type": "code",
   "execution_count": 289,
   "metadata": {
    "ExecuteTime": {
     "end_time": "2020-08-19T11:36:37.502989Z",
     "start_time": "2020-08-19T11:36:37.483006Z"
    }
   },
   "outputs": [],
   "source": [
    "df=pd.get_dummies(df,'Warehouse',drop_first=True)"
   ]
  },
  {
   "cell_type": "code",
   "execution_count": 290,
   "metadata": {
    "ExecuteTime": {
     "end_time": "2020-08-19T11:36:38.334426Z",
     "start_time": "2020-08-19T11:36:38.322426Z"
    }
   },
   "outputs": [
    {
     "data": {
      "text/html": [
       "<div>\n",
       "<style scoped>\n",
       "    .dataframe tbody tr th:only-of-type {\n",
       "        vertical-align: middle;\n",
       "    }\n",
       "\n",
       "    .dataframe tbody tr th {\n",
       "        vertical-align: top;\n",
       "    }\n",
       "\n",
       "    .dataframe thead th {\n",
       "        text-align: right;\n",
       "    }\n",
       "</style>\n",
       "<table border=\"1\" class=\"dataframe\">\n",
       "  <thead>\n",
       "    <tr style=\"text-align: right;\">\n",
       "      <th></th>\n",
       "      <th>Order_Demand</th>\n",
       "      <th>Day</th>\n",
       "      <th>Month</th>\n",
       "      <th>Year</th>\n",
       "      <th>Warehouse_Whse_J</th>\n",
       "    </tr>\n",
       "  </thead>\n",
       "  <tbody>\n",
       "    <tr>\n",
       "      <th>0</th>\n",
       "      <td>400</td>\n",
       "      <td>26</td>\n",
       "      <td>3</td>\n",
       "      <td>2012.0</td>\n",
       "      <td>1</td>\n",
       "    </tr>\n",
       "    <tr>\n",
       "      <th>1</th>\n",
       "      <td>400</td>\n",
       "      <td>26</td>\n",
       "      <td>3</td>\n",
       "      <td>2012.0</td>\n",
       "      <td>1</td>\n",
       "    </tr>\n",
       "    <tr>\n",
       "      <th>2</th>\n",
       "      <td>400</td>\n",
       "      <td>26</td>\n",
       "      <td>3</td>\n",
       "      <td>2012.0</td>\n",
       "      <td>1</td>\n",
       "    </tr>\n",
       "    <tr>\n",
       "      <th>3</th>\n",
       "      <td>400</td>\n",
       "      <td>26</td>\n",
       "      <td>3</td>\n",
       "      <td>2012.0</td>\n",
       "      <td>1</td>\n",
       "    </tr>\n",
       "    <tr>\n",
       "      <th>4</th>\n",
       "      <td>400</td>\n",
       "      <td>26</td>\n",
       "      <td>3</td>\n",
       "      <td>2012.0</td>\n",
       "      <td>1</td>\n",
       "    </tr>\n",
       "  </tbody>\n",
       "</table>\n",
       "</div>"
      ],
      "text/plain": [
       "   Order_Demand  Day  Month    Year  Warehouse_Whse_J\n",
       "0           400   26      3  2012.0                 1\n",
       "1           400   26      3  2012.0                 1\n",
       "2           400   26      3  2012.0                 1\n",
       "3           400   26      3  2012.0                 1\n",
       "4           400   26      3  2012.0                 1"
      ]
     },
     "execution_count": 290,
     "metadata": {},
     "output_type": "execute_result"
    }
   ],
   "source": [
    "df.head()"
   ]
  },
  {
   "cell_type": "code",
   "execution_count": 291,
   "metadata": {
    "ExecuteTime": {
     "end_time": "2020-08-19T11:36:39.359043Z",
     "start_time": "2020-08-19T11:36:39.355203Z"
    }
   },
   "outputs": [],
   "source": [
    "#Feature scaling, as far now the values are not heavy, so not doing scaling"
   ]
  },
  {
   "cell_type": "code",
   "execution_count": 292,
   "metadata": {
    "ExecuteTime": {
     "end_time": "2020-08-19T11:36:41.574576Z",
     "start_time": "2020-08-19T11:36:41.565789Z"
    }
   },
   "outputs": [],
   "source": [
    "y=pd.DataFrame(df.iloc[:,0])\n",
    "x=df.iloc[:,1:]"
   ]
  },
  {
   "cell_type": "code",
   "execution_count": 293,
   "metadata": {
    "ExecuteTime": {
     "end_time": "2020-08-19T11:36:42.231758Z",
     "start_time": "2020-08-19T11:36:42.219765Z"
    }
   },
   "outputs": [],
   "source": [
    "from sklearn.model_selection import train_test_split\n",
    "x_train,x_test,y_train,y_test=train_test_split(x,y,test_size=0.25,random_state=0)"
   ]
  },
  {
   "cell_type": "code",
   "execution_count": 294,
   "metadata": {
    "ExecuteTime": {
     "end_time": "2020-08-19T11:36:42.829310Z",
     "start_time": "2020-08-19T11:36:42.816346Z"
    }
   },
   "outputs": [],
   "source": [
    "from sklearn.linear_model import LinearRegression\n",
    "lr=LinearRegression()\n",
    "lr.fit(x_train,y_train)\n",
    "y_pred=lr.predict(x_train)"
   ]
  },
  {
   "cell_type": "code",
   "execution_count": 295,
   "metadata": {
    "ExecuteTime": {
     "end_time": "2020-08-19T11:36:43.404368Z",
     "start_time": "2020-08-19T11:36:43.396344Z"
    }
   },
   "outputs": [
    {
     "data": {
      "text/plain": [
       "0.006542866593417407"
      ]
     },
     "execution_count": 295,
     "metadata": {},
     "output_type": "execute_result"
    }
   ],
   "source": [
    "from sklearn.metrics import r2_score\n",
    "score=r2_score(y_train,y_pred)\n",
    "score"
   ]
  },
  {
   "cell_type": "code",
   "execution_count": 296,
   "metadata": {
    "ExecuteTime": {
     "end_time": "2020-08-19T11:36:46.561204Z",
     "start_time": "2020-08-19T11:36:46.554226Z"
    }
   },
   "outputs": [
    {
     "data": {
      "text/plain": [
       "array([[  0.42010868,  -2.69171011,   0.        , 166.94157009]])"
      ]
     },
     "execution_count": 296,
     "metadata": {},
     "output_type": "execute_result"
    }
   ],
   "source": [
    "lr.coef_"
   ]
  },
  {
   "cell_type": "code",
   "execution_count": 297,
   "metadata": {
    "ExecuteTime": {
     "end_time": "2020-08-19T11:36:49.885420Z",
     "start_time": "2020-08-19T11:36:49.880080Z"
    }
   },
   "outputs": [
    {
     "data": {
      "text/plain": [
       "array([585.51372456])"
      ]
     },
     "execution_count": 297,
     "metadata": {},
     "output_type": "execute_result"
    }
   ],
   "source": [
    "lr.intercept_"
   ]
  },
  {
   "cell_type": "code",
   "execution_count": 306,
   "metadata": {
    "ExecuteTime": {
     "end_time": "2020-08-19T13:30:07.677915Z",
     "start_time": "2020-08-19T13:30:07.668886Z"
    }
   },
   "outputs": [],
   "source": [
    "residual=y_train-y_pred"
   ]
  },
  {
   "cell_type": "code",
   "execution_count": 299,
   "metadata": {
    "ExecuteTime": {
     "end_time": "2020-08-19T11:36:55.926447Z",
     "start_time": "2020-08-19T11:36:55.893571Z"
    }
   },
   "outputs": [
    {
     "data": {
      "text/html": [
       "<div>\n",
       "<style scoped>\n",
       "    .dataframe tbody tr th:only-of-type {\n",
       "        vertical-align: middle;\n",
       "    }\n",
       "\n",
       "    .dataframe tbody tr th {\n",
       "        vertical-align: top;\n",
       "    }\n",
       "\n",
       "    .dataframe thead th {\n",
       "        text-align: right;\n",
       "    }\n",
       "</style>\n",
       "<table border=\"1\" class=\"dataframe\">\n",
       "  <thead>\n",
       "    <tr style=\"text-align: right;\">\n",
       "      <th></th>\n",
       "      <th>Day</th>\n",
       "      <th>Month</th>\n",
       "      <th>Year</th>\n",
       "      <th>Warehouse_Whse_J</th>\n",
       "    </tr>\n",
       "  </thead>\n",
       "  <tbody>\n",
       "    <tr>\n",
       "      <th>vif</th>\n",
       "      <td>1.000951</td>\n",
       "      <td>1.014787</td>\n",
       "      <td>7.842196</td>\n",
       "      <td>1.01536</td>\n",
       "    </tr>\n",
       "  </tbody>\n",
       "</table>\n",
       "</div>"
      ],
      "text/plain": [
       "          Day     Month      Year  Warehouse_Whse_J\n",
       "vif  1.000951  1.014787  7.842196           1.01536"
      ]
     },
     "execution_count": 299,
     "metadata": {},
     "output_type": "execute_result"
    }
   ],
   "source": [
    "from statsmodels.stats.outliers_influence import variance_inflation_factor\n",
    "vif = [variance_inflation_factor(x_train.values, i) for i in range(x_train.shape[1])]\n",
    "pd.DataFrame({'vif': vif[0:]}, index=x_train.columns).T"
   ]
  },
  {
   "cell_type": "code",
   "execution_count": 300,
   "metadata": {
    "ExecuteTime": {
     "end_time": "2020-08-19T11:37:08.515558Z",
     "start_time": "2020-08-19T11:37:08.136490Z"
    }
   },
   "outputs": [
    {
     "data": {
      "text/plain": [
       "<matplotlib.axes._subplots.AxesSubplot at 0x1bf92073be0>"
      ]
     },
     "execution_count": 300,
     "metadata": {},
     "output_type": "execute_result"
    },
    {
     "data": {
      "image/png": "[encoded data removed]",
      "text/plain": [
       "<Figure size 432x288 with 1 Axes>"
      ]
     },
     "metadata": {
      "needs_background": "light"
     },
     "output_type": "display_data"
    }
   ],
   "source": [
    "sns.distplot(residual)"
   ]
  },
  {
   "cell_type": "code",
   "execution_count": 301,
   "metadata": {
    "ExecuteTime": {
     "end_time": "2020-08-19T11:37:09.669627Z",
     "start_time": "2020-08-19T11:37:09.362249Z"
    }
   },
   "outputs": [
    {
     "data": {
      "text/plain": [
       "<matplotlib.collections.PathCollection at 0x1bf9269eb38>"
      ]
     },
     "execution_count": 301,
     "metadata": {},
     "output_type": "execute_result"
    },
    {
     "data": {
      "image/png": "[encoded data removed]",
      "text/plain": [
       "<Figure size 432x288 with 1 Axes>"
      ]
     },
     "metadata": {
      "needs_background": "light"
     },
     "output_type": "display_data"
    }
   ],
   "source": [
    "plt.scatter(y_pred,residual)"
   ]
  },
  {
   "cell_type": "code",
   "execution_count": 302,
   "metadata": {
    "ExecuteTime": {
     "end_time": "2020-08-19T11:37:10.642542Z",
     "start_time": "2020-08-19T11:37:10.637553Z"
    }
   },
   "outputs": [],
   "source": [
    "import statsmodels.api as sm"
   ]
  },
  {
   "cell_type": "code",
   "execution_count": 303,
   "metadata": {
    "ExecuteTime": {
     "end_time": "2020-08-19T11:37:11.227676Z",
     "start_time": "2020-08-19T11:37:11.213957Z"
    }
   },
   "outputs": [],
   "source": [
    "X=sm.add_constant(x_train)\n",
    "model=sm.OLS(y_train,x_train)"
   ]
  },
  {
   "cell_type": "code",
   "execution_count": 304,
   "metadata": {
    "ExecuteTime": {
     "end_time": "2020-08-19T11:37:11.790519Z",
     "start_time": "2020-08-19T11:37:11.773565Z"
    }
   },
   "outputs": [
    {
     "data": {
      "text/plain": [
       "Day                   0.420109\n",
       "Month                -2.691710\n",
       "Year                  0.291011\n",
       "Warehouse_Whse_J    166.941570\n",
       "dtype: float64"
      ]
     },
     "execution_count": 304,
     "metadata": {},
     "output_type": "execute_result"
    }
   ],
   "source": [
    "results=model.fit()\n",
    "results.params"
   ]
  },
  {
   "cell_type": "code",
   "execution_count": 305,
   "metadata": {
    "ExecuteTime": {
     "end_time": "2020-08-19T11:37:12.679235Z",
     "start_time": "2020-08-19T11:37:12.659922Z"
    }
   },
   "outputs": [
    {
     "name": "stdout",
     "output_type": "stream",
     "text": [
      "                            OLS Regression Results                            \n",
      "==============================================================================\n",
      "Dep. Variable:           Order_Demand   R-squared:                       0.007\n",
      "Model:                            OLS   Adj. R-squared:                  0.006\n",
      "Method:                 Least Squares   F-statistic:                     10.32\n",
      "Date:                Wed, 19 Aug 2020   Prob (F-statistic):           9.15e-07\n",
      "Time:                        17:07:12   Log-Likelihood:                -38532.\n",
      "No. Observations:                4703   AIC:                         7.707e+04\n",
      "Df Residuals:                    4699   BIC:                         7.710e+04\n",
      "Df Model:                           3                                         \n",
      "Covariance Type:            nonrobust                                         \n",
      "====================================================================================\n",
      "                       coef    std err          t      P>|t|      [0.025      0.975]\n",
      "------------------------------------------------------------------------------------\n",
      "Day                  0.4201      1.448      0.290      0.772      -2.419       3.259\n",
      "Month               -2.6917      3.665     -0.734      0.463      -9.877       4.493\n",
      "Year                 0.2910      0.018     16.382      0.000       0.256       0.326\n",
      "Warehouse_Whse_J   166.9416     30.109      5.545      0.000     107.913     225.970\n",
      "==============================================================================\n",
      "Omnibus:                     1895.824   Durbin-Watson:                   1.978\n",
      "Prob(Omnibus):                  0.000   Jarque-Bera (JB):             6727.273\n",
      "Skew:                           2.067   Prob(JB):                         0.00\n",
      "Kurtosis:                       7.152   Cond. No.                     4.75e+03\n",
      "==============================================================================\n",
      "\n",
      "Warnings:\n",
      "[1] Standard Errors assume that the covariance matrix of the errors is correctly specified.\n",
      "[2] The condition number is large, 4.75e+03. This might indicate that there are\n",
      "strong multicollinearity or other numerical problems.\n"
     ]
    }
   ],
   "source": [
    "print(results.summary())# R2 value closer to 1, then our model really fits well."
   ]
  },
  {
   "cell_type": "code",
   "execution_count": null,
   "metadata": {},
   "outputs": [],
   "source": []
  },
  {
   "cell_type": "code",
   "execution_count": null,
   "metadata": {},
   "outputs": [],
   "source": []
  },
  {
   "cell_type": "code",
   "execution_count": null,
   "metadata": {},
   "outputs": [],
   "source": []
  }
 ],
 "metadata": {
  "kernelspec": {
   "display_name": "Python 3",
   "language": "python",
   "name": "python3"
  },
  "language_info": {
   "codemirror_mode": {
    "name": "ipython",
    "version": 3
   },
   "file_extension": ".py",
   "mimetype": "text/x-python",
   "name": "python",
   "nbconvert_exporter": "python",
   "pygments_lexer": "ipython3",
   "version": "3.7.3"
  },
  "toc": {
   "base_numbering": 1,
   "nav_menu": {},
   "number_sections": true,
   "sideBar": true,
   "skip_h1_title": false,
   "title_cell": "Table of Contents",
   "title_sidebar": "Contents",
   "toc_cell": false,
   "toc_position": {},
   "toc_section_display": true,
   "toc_window_display": false
  },
  "varInspector": {
   "cols": {
    "lenName": 16,
    "lenType": 16,
    "lenVar": 40
   },
   "kernels_config": {
    "python": {
     "delete_cmd_postfix": "",
     "delete_cmd_prefix": "del ",
     "library": "var_list.py",
     "varRefreshCmd": "print(var_dic_list())"
    },
    "r": {
     "delete_cmd_postfix": ") ",
     "delete_cmd_prefix": "rm(",
     "library": "var_list.r",
     "varRefreshCmd": "cat(var_dic_list()) "
    }
   },
   "types_to_exclude": [
    "module",
    "function",
    "builtin_function_or_method",
    "instance",
    "_Feature"
   ],
   "window_display": false
  }
 },
 "nbformat": 4,
 "nbformat_minor": 2
}
