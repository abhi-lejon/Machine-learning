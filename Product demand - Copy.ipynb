{
 "cells": [
  {
   "cell_type": "code",
   "execution_count": 1,
   "metadata": {
    "ExecuteTime": {
     "end_time": "2020-05-01T06:18:06.206674Z",
     "start_time": "2020-05-01T06:17:58.004155Z"
    }
   },
   "outputs": [],
   "source": [
    "import pandas as pd\n",
    "import numpy as np\n",
    "import seaborn as sns\n",
    "import matplotlib.pyplot as plt"
   ]
  },
  {
   "cell_type": "code",
   "execution_count": 2,
   "metadata": {
    "ExecuteTime": {
     "end_time": "2020-05-01T06:18:07.608350Z",
     "start_time": "2020-05-01T06:18:06.232187Z"
    }
   },
   "outputs": [],
   "source": [
    "df=pd.read_csv(r\"D:\\Users\\abhisv\\Desktop\\Historical Product Demand.csv\")"
   ]
  },
  {
   "cell_type": "code",
   "execution_count": 3,
   "metadata": {
    "ExecuteTime": {
     "end_time": "2020-05-01T06:18:10.233339Z",
     "start_time": "2020-05-01T06:18:10.097190Z"
    }
   },
   "outputs": [],
   "source": [
    "df=df.sample(10000)"
   ]
  },
  {
   "cell_type": "code",
   "execution_count": 4,
   "metadata": {
    "ExecuteTime": {
     "end_time": "2020-05-01T06:18:11.096498Z",
     "start_time": "2020-05-01T06:18:11.086524Z"
    }
   },
   "outputs": [
    {
     "data": {
      "text/plain": [
       "(10000, 5)"
      ]
     },
     "execution_count": 4,
     "metadata": {},
     "output_type": "execute_result"
    }
   ],
   "source": [
    "df.shape"
   ]
  },
  {
   "cell_type": "code",
   "execution_count": 5,
   "metadata": {
    "ExecuteTime": {
     "end_time": "2020-05-01T06:18:11.950691Z",
     "start_time": "2020-05-01T06:18:11.943159Z"
    }
   },
   "outputs": [
    {
     "data": {
      "text/plain": [
       "Index(['Product_Code', 'Warehouse', 'Product_Category', 'Date',\n",
       "       'Order_Demand'],\n",
       "      dtype='object')"
      ]
     },
     "execution_count": 5,
     "metadata": {},
     "output_type": "execute_result"
    }
   ],
   "source": [
    "df.columns"
   ]
  },
  {
   "cell_type": "code",
   "execution_count": 6,
   "metadata": {
    "ExecuteTime": {
     "end_time": "2020-05-01T06:18:12.947648Z",
     "start_time": "2020-05-01T06:18:12.906200Z"
    }
   },
   "outputs": [
    {
     "data": {
      "text/html": [
       "<div>\n",
       "<style scoped>\n",
       "    .dataframe tbody tr th:only-of-type {\n",
       "        vertical-align: middle;\n",
       "    }\n",
       "\n",
       "    .dataframe tbody tr th {\n",
       "        vertical-align: top;\n",
       "    }\n",
       "\n",
       "    .dataframe thead th {\n",
       "        text-align: right;\n",
       "    }\n",
       "</style>\n",
       "<table border=\"1\" class=\"dataframe\">\n",
       "  <thead>\n",
       "    <tr style=\"text-align: right;\">\n",
       "      <th></th>\n",
       "      <th>Product_Code</th>\n",
       "      <th>Warehouse</th>\n",
       "      <th>Product_Category</th>\n",
       "      <th>Date</th>\n",
       "      <th>Order_Demand</th>\n",
       "    </tr>\n",
       "  </thead>\n",
       "  <tbody>\n",
       "    <tr>\n",
       "      <th>559140</th>\n",
       "      <td>Product_1539</td>\n",
       "      <td>Whse_A</td>\n",
       "      <td>Category_019</td>\n",
       "      <td>2014/3/5</td>\n",
       "      <td>0</td>\n",
       "    </tr>\n",
       "    <tr>\n",
       "      <th>863807</th>\n",
       "      <td>Product_1195</td>\n",
       "      <td>Whse_C</td>\n",
       "      <td>Category_019</td>\n",
       "      <td>2016/6/20</td>\n",
       "      <td>5000</td>\n",
       "    </tr>\n",
       "    <tr>\n",
       "      <th>20273</th>\n",
       "      <td>Product_0831</td>\n",
       "      <td>Whse_J</td>\n",
       "      <td>Category_019</td>\n",
       "      <td>2012/8/29</td>\n",
       "      <td>2000</td>\n",
       "    </tr>\n",
       "    <tr>\n",
       "      <th>166411</th>\n",
       "      <td>Product_1825</td>\n",
       "      <td>Whse_J</td>\n",
       "      <td>Category_006</td>\n",
       "      <td>2012/9/18</td>\n",
       "      <td>2500</td>\n",
       "    </tr>\n",
       "    <tr>\n",
       "      <th>209064</th>\n",
       "      <td>Product_1341</td>\n",
       "      <td>Whse_S</td>\n",
       "      <td>Category_019</td>\n",
       "      <td>2013/3/7</td>\n",
       "      <td>50000</td>\n",
       "    </tr>\n",
       "  </tbody>\n",
       "</table>\n",
       "</div>"
      ],
      "text/plain": [
       "        Product_Code Warehouse Product_Category       Date Order_Demand\n",
       "559140  Product_1539    Whse_A     Category_019   2014/3/5           0 \n",
       "863807  Product_1195    Whse_C     Category_019  2016/6/20        5000 \n",
       "20273   Product_0831    Whse_J     Category_019  2012/8/29        2000 \n",
       "166411  Product_1825    Whse_J     Category_006  2012/9/18        2500 \n",
       "209064  Product_1341    Whse_S     Category_019   2013/3/7       50000 "
      ]
     },
     "execution_count": 6,
     "metadata": {},
     "output_type": "execute_result"
    }
   ],
   "source": [
    "df.head()"
   ]
  },
  {
   "cell_type": "code",
   "execution_count": 7,
   "metadata": {
    "ExecuteTime": {
     "end_time": "2020-05-01T06:18:13.731869Z",
     "start_time": "2020-05-01T06:18:13.712890Z"
    }
   },
   "outputs": [
    {
     "data": {
      "text/plain": [
       "Product_Code          0\n",
       "Warehouse             0\n",
       "Product_Category      0\n",
       "Date                130\n",
       "Order_Demand          0\n",
       "dtype: int64"
      ]
     },
     "execution_count": 7,
     "metadata": {},
     "output_type": "execute_result"
    }
   ],
   "source": [
    "df.isna().sum()"
   ]
  },
  {
   "cell_type": "code",
   "execution_count": 8,
   "metadata": {
    "ExecuteTime": {
     "end_time": "2020-05-01T06:18:14.708468Z",
     "start_time": "2020-05-01T06:18:14.686532Z"
    }
   },
   "outputs": [],
   "source": [
    "df[\"Date\"] = pd.to_datetime(df[\"Date\"])"
   ]
  },
  {
   "cell_type": "code",
   "execution_count": 9,
   "metadata": {
    "ExecuteTime": {
     "end_time": "2020-05-01T06:18:15.347042Z",
     "start_time": "2020-05-01T06:18:15.336277Z"
    }
   },
   "outputs": [
    {
     "data": {
      "text/plain": [
       "130"
      ]
     },
     "execution_count": 9,
     "metadata": {},
     "output_type": "execute_result"
    }
   ],
   "source": [
    "df['Date'].isna().sum()"
   ]
  },
  {
   "cell_type": "code",
   "execution_count": 10,
   "metadata": {
    "ExecuteTime": {
     "end_time": "2020-05-01T06:18:15.565210Z",
     "start_time": "2020-05-01T06:18:15.553565Z"
    }
   },
   "outputs": [],
   "source": [
    "df['Year'] = df['Date'].dt.year\n",
    "df['Month'] = df['Date'].dt.month\n",
    "df['Day'] = df['Date'].dt.day"
   ]
  },
  {
   "cell_type": "code",
   "execution_count": 11,
   "metadata": {
    "ExecuteTime": {
     "end_time": "2020-05-01T06:18:15.699634Z",
     "start_time": "2020-05-01T06:18:15.686555Z"
    }
   },
   "outputs": [],
   "source": [
    "df.drop('Date',axis=1,inplace=True)"
   ]
  },
  {
   "cell_type": "code",
   "execution_count": 12,
   "metadata": {
    "ExecuteTime": {
     "end_time": "2020-05-01T06:18:15.850143Z",
     "start_time": "2020-05-01T06:18:15.833188Z"
    }
   },
   "outputs": [
    {
     "data": {
      "text/plain": [
       "Product_Code          0\n",
       "Warehouse             0\n",
       "Product_Category      0\n",
       "Order_Demand          0\n",
       "Year                130\n",
       "Month               130\n",
       "Day                 130\n",
       "dtype: int64"
      ]
     },
     "execution_count": 12,
     "metadata": {},
     "output_type": "execute_result"
    }
   ],
   "source": [
    "df.isna().sum()"
   ]
  },
  {
   "cell_type": "code",
   "execution_count": 13,
   "metadata": {
    "ExecuteTime": {
     "end_time": "2020-05-01T06:18:16.654721Z",
     "start_time": "2020-05-01T06:18:16.027070Z"
    }
   },
   "outputs": [
    {
     "data": {
      "text/plain": [
       "<matplotlib.axes._subplots.AxesSubplot at 0x1d192665940>"
      ]
     },
     "execution_count": 13,
     "metadata": {},
     "output_type": "execute_result"
    },
    {
     "data": {
      "image/png": "[encoded data removed]",
      "text/plain": [
       "<Figure size 432x288 with 2 Axes>"
      ]
     },
     "metadata": {
      "needs_background": "light"
     },
     "output_type": "display_data"
    }
   ],
   "source": [
    "sns.heatmap(df.isnull(),yticklabels=False,cbar=True,cmap='viridis')"
   ]
  },
  {
   "cell_type": "code",
   "execution_count": 14,
   "metadata": {
    "ExecuteTime": {
     "end_time": "2020-05-01T06:18:16.663561Z",
     "start_time": "2020-05-01T06:18:16.659563Z"
    }
   },
   "outputs": [],
   "source": [
    "#df['Year'].notnull()==False"
   ]
  },
  {
   "cell_type": "code",
   "execution_count": 15,
   "metadata": {
    "ExecuteTime": {
     "end_time": "2020-05-01T06:18:16.684499Z",
     "start_time": "2020-05-01T06:18:16.668540Z"
    }
   },
   "outputs": [],
   "source": [
    "df['Year'].fillna(df['Year'].mode(),axis=0,inplace=True)"
   ]
  },
  {
   "cell_type": "code",
   "execution_count": 16,
   "metadata": {
    "ExecuteTime": {
     "end_time": "2020-05-01T06:18:16.703446Z",
     "start_time": "2020-05-01T06:18:16.689483Z"
    }
   },
   "outputs": [],
   "source": [
    "df.dropna(axis=0,how='any',inplace=True)"
   ]
  },
  {
   "cell_type": "code",
   "execution_count": 17,
   "metadata": {
    "ExecuteTime": {
     "end_time": "2020-05-01T06:18:16.819702Z",
     "start_time": "2020-05-01T06:18:16.799223Z"
    }
   },
   "outputs": [
    {
     "data": {
      "text/plain": [
       "Product_Code        0\n",
       "Warehouse           0\n",
       "Product_Category    0\n",
       "Order_Demand        0\n",
       "Year                0\n",
       "Month               0\n",
       "Day                 0\n",
       "dtype: int64"
      ]
     },
     "execution_count": 17,
     "metadata": {},
     "output_type": "execute_result"
    }
   ],
   "source": [
    "df.isna().sum()"
   ]
  },
  {
   "cell_type": "code",
   "execution_count": 18,
   "metadata": {
    "ExecuteTime": {
     "end_time": "2020-05-01T06:18:16.834669Z",
     "start_time": "2020-05-01T06:18:16.827669Z"
    }
   },
   "outputs": [
    {
     "data": {
      "text/plain": [
       "(9870, 7)"
      ]
     },
     "execution_count": 18,
     "metadata": {},
     "output_type": "execute_result"
    }
   ],
   "source": [
    "df.shape"
   ]
  },
  {
   "cell_type": "code",
   "execution_count": 19,
   "metadata": {
    "ExecuteTime": {
     "end_time": "2020-05-01T06:18:16.962320Z",
     "start_time": "2020-05-01T06:18:16.958322Z"
    }
   },
   "outputs": [],
   "source": [
    "# As the null valued rows are removed, in 10k rows, just 114 rows are removed, the information lost is minimum"
   ]
  },
  {
   "cell_type": "code",
   "execution_count": 20,
   "metadata": {
    "ExecuteTime": {
     "end_time": "2020-05-01T06:18:17.455727Z",
     "start_time": "2020-05-01T06:18:17.436179Z"
    }
   },
   "outputs": [
    {
     "name": "stdout",
     "output_type": "stream",
     "text": [
      "<class 'pandas.core.frame.DataFrame'>\n",
      "Int64Index: 9870 entries, 559140 to 138207\n",
      "Data columns (total 7 columns):\n",
      "Product_Code        9870 non-null object\n",
      "Warehouse           9870 non-null object\n",
      "Product_Category    9870 non-null object\n",
      "Order_Demand        9870 non-null object\n",
      "Year                9870 non-null float64\n",
      "Month               9870 non-null float64\n",
      "Day                 9870 non-null float64\n",
      "dtypes: float64(3), object(4)\n",
      "memory usage: 616.9+ KB\n"
     ]
    }
   ],
   "source": [
    "df.info()"
   ]
  },
  {
   "cell_type": "code",
   "execution_count": 21,
   "metadata": {
    "ExecuteTime": {
     "end_time": "2020-05-01T06:18:17.483583Z",
     "start_time": "2020-05-01T06:18:17.462651Z"
    }
   },
   "outputs": [],
   "source": [
    "# As per my knowledge as am using linear regression model to forecast, so i will use all the colunms initially.\n",
    "#Since most of the columns are string, i will trim the string from the data."
   ]
  },
  {
   "cell_type": "code",
   "execution_count": 22,
   "metadata": {
    "ExecuteTime": {
     "end_time": "2020-05-01T06:18:17.519071Z",
     "start_time": "2020-05-01T06:18:17.503840Z"
    }
   },
   "outputs": [],
   "source": [
    "df['Product_Code']=df['Product_Code'].map(lambda x:x.lstrip('Product_'))"
   ]
  },
  {
   "cell_type": "code",
   "execution_count": 23,
   "metadata": {
    "ExecuteTime": {
     "end_time": "2020-05-01T06:18:17.876953Z",
     "start_time": "2020-05-01T06:18:17.862351Z"
    }
   },
   "outputs": [],
   "source": [
    "df['Product_Category'] = df['Product_Category'].map(lambda x: x.lstrip('Category_'))"
   ]
  },
  {
   "cell_type": "code",
   "execution_count": 24,
   "metadata": {
    "ExecuteTime": {
     "end_time": "2020-05-01T06:18:21.195818Z",
     "start_time": "2020-05-01T06:18:21.174861Z"
    }
   },
   "outputs": [],
   "source": [
    "df['Warehouse'] = df['Warehouse'].map(lambda x: x.lstrip('Whse_'))"
   ]
  },
  {
   "cell_type": "code",
   "execution_count": 25,
   "metadata": {
    "ExecuteTime": {
     "end_time": "2020-05-01T06:18:22.492098Z",
     "start_time": "2020-05-01T06:18:22.459851Z"
    }
   },
   "outputs": [],
   "source": [
    "df['Order_Demand']=df['Order_Demand'].map(lambda x: x.rstrip(')'))\n",
    "df['Order_Demand']=df['Order_Demand'].map(lambda x: x.lstrip('('))"
   ]
  },
  {
   "cell_type": "code",
   "execution_count": 26,
   "metadata": {
    "ExecuteTime": {
     "end_time": "2020-05-01T06:18:23.445852Z",
     "start_time": "2020-05-01T06:18:23.429848Z"
    }
   },
   "outputs": [],
   "source": [
    "df1=pd.get_dummies(df['Warehouse'],drop_first=True)"
   ]
  },
  {
   "cell_type": "code",
   "execution_count": 27,
   "metadata": {
    "ExecuteTime": {
     "end_time": "2020-05-01T06:18:24.363833Z",
     "start_time": "2020-05-01T06:18:24.356851Z"
    }
   },
   "outputs": [],
   "source": [
    "df=pd.concat([df,df1],axis=1)"
   ]
  },
  {
   "cell_type": "code",
   "execution_count": 28,
   "metadata": {
    "ExecuteTime": {
     "end_time": "2020-05-01T06:18:25.350109Z",
     "start_time": "2020-05-01T06:18:25.342021Z"
    }
   },
   "outputs": [],
   "source": [
    "df.drop('Warehouse',axis=1,inplace=True)"
   ]
  },
  {
   "cell_type": "code",
   "execution_count": 29,
   "metadata": {
    "ExecuteTime": {
     "end_time": "2020-05-01T06:18:26.358835Z",
     "start_time": "2020-05-01T06:18:26.316641Z"
    }
   },
   "outputs": [
    {
     "data": {
      "text/html": [
       "<div>\n",
       "<style scoped>\n",
       "    .dataframe tbody tr th:only-of-type {\n",
       "        vertical-align: middle;\n",
       "    }\n",
       "\n",
       "    .dataframe tbody tr th {\n",
       "        vertical-align: top;\n",
       "    }\n",
       "\n",
       "    .dataframe thead th {\n",
       "        text-align: right;\n",
       "    }\n",
       "</style>\n",
       "<table border=\"1\" class=\"dataframe\">\n",
       "  <thead>\n",
       "    <tr style=\"text-align: right;\">\n",
       "      <th></th>\n",
       "      <th>Product_Code</th>\n",
       "      <th>Product_Category</th>\n",
       "      <th>Order_Demand</th>\n",
       "      <th>Year</th>\n",
       "      <th>Month</th>\n",
       "      <th>Day</th>\n",
       "      <th>C</th>\n",
       "      <th>J</th>\n",
       "      <th>S</th>\n",
       "    </tr>\n",
       "  </thead>\n",
       "  <tbody>\n",
       "    <tr>\n",
       "      <th>559140</th>\n",
       "      <td>1539</td>\n",
       "      <td>019</td>\n",
       "      <td>0</td>\n",
       "      <td>2014.0</td>\n",
       "      <td>3.0</td>\n",
       "      <td>5.0</td>\n",
       "      <td>0</td>\n",
       "      <td>0</td>\n",
       "      <td>0</td>\n",
       "    </tr>\n",
       "    <tr>\n",
       "      <th>863807</th>\n",
       "      <td>1195</td>\n",
       "      <td>019</td>\n",
       "      <td>5000</td>\n",
       "      <td>2016.0</td>\n",
       "      <td>6.0</td>\n",
       "      <td>20.0</td>\n",
       "      <td>1</td>\n",
       "      <td>0</td>\n",
       "      <td>0</td>\n",
       "    </tr>\n",
       "    <tr>\n",
       "      <th>20273</th>\n",
       "      <td>0831</td>\n",
       "      <td>019</td>\n",
       "      <td>2000</td>\n",
       "      <td>2012.0</td>\n",
       "      <td>8.0</td>\n",
       "      <td>29.0</td>\n",
       "      <td>0</td>\n",
       "      <td>1</td>\n",
       "      <td>0</td>\n",
       "    </tr>\n",
       "    <tr>\n",
       "      <th>166411</th>\n",
       "      <td>1825</td>\n",
       "      <td>006</td>\n",
       "      <td>2500</td>\n",
       "      <td>2012.0</td>\n",
       "      <td>9.0</td>\n",
       "      <td>18.0</td>\n",
       "      <td>0</td>\n",
       "      <td>1</td>\n",
       "      <td>0</td>\n",
       "    </tr>\n",
       "    <tr>\n",
       "      <th>209064</th>\n",
       "      <td>1341</td>\n",
       "      <td>019</td>\n",
       "      <td>50000</td>\n",
       "      <td>2013.0</td>\n",
       "      <td>3.0</td>\n",
       "      <td>7.0</td>\n",
       "      <td>0</td>\n",
       "      <td>0</td>\n",
       "      <td>1</td>\n",
       "    </tr>\n",
       "  </tbody>\n",
       "</table>\n",
       "</div>"
      ],
      "text/plain": [
       "       Product_Code Product_Category Order_Demand    Year  Month   Day  C  J  \\\n",
       "559140         1539              019           0   2014.0    3.0   5.0  0  0   \n",
       "863807         1195              019        5000   2016.0    6.0  20.0  1  0   \n",
       "20273          0831              019        2000   2012.0    8.0  29.0  0  1   \n",
       "166411         1825              006        2500   2012.0    9.0  18.0  0  1   \n",
       "209064         1341              019       50000   2013.0    3.0   7.0  0  0   \n",
       "\n",
       "        S  \n",
       "559140  0  \n",
       "863807  0  \n",
       "20273   0  \n",
       "166411  0  \n",
       "209064  1  "
      ]
     },
     "execution_count": 29,
     "metadata": {},
     "output_type": "execute_result"
    }
   ],
   "source": [
    "df.head()"
   ]
  },
  {
   "cell_type": "code",
   "execution_count": 30,
   "metadata": {
    "ExecuteTime": {
     "end_time": "2020-05-01T06:18:27.116997Z",
     "start_time": "2020-05-01T06:18:27.113061Z"
    }
   },
   "outputs": [],
   "source": [
    "##lets do EDA (Null value is already treated)"
   ]
  },
  {
   "cell_type": "code",
   "execution_count": 31,
   "metadata": {
    "ExecuteTime": {
     "end_time": "2020-05-01T06:18:28.365920Z",
     "start_time": "2020-05-01T06:18:28.319982Z"
    }
   },
   "outputs": [],
   "source": [
    "df['Product_Code']=pd.to_numeric(df['Product_Code'])\n",
    "df['Product_Category']=pd.to_numeric(df['Product_Category'])\n",
    "df['Order_Demand']=pd.to_numeric(df['Order_Demand'])"
   ]
  },
  {
   "cell_type": "code",
   "execution_count": 32,
   "metadata": {
    "ExecuteTime": {
     "end_time": "2020-05-01T06:18:29.709144Z",
     "start_time": "2020-05-01T06:18:29.697365Z"
    }
   },
   "outputs": [],
   "source": [
    "## Outlier treatment (Lets check for outlier anamolies)"
   ]
  },
  {
   "cell_type": "code",
   "execution_count": 33,
   "metadata": {
    "ExecuteTime": {
     "end_time": "2020-05-01T06:18:32.581502Z",
     "start_time": "2020-05-01T06:18:32.518182Z"
    }
   },
   "outputs": [
    {
     "data": {
      "text/html": [
       "<div>\n",
       "<style scoped>\n",
       "    .dataframe tbody tr th:only-of-type {\n",
       "        vertical-align: middle;\n",
       "    }\n",
       "\n",
       "    .dataframe tbody tr th {\n",
       "        vertical-align: top;\n",
       "    }\n",
       "\n",
       "    .dataframe thead th {\n",
       "        text-align: right;\n",
       "    }\n",
       "</style>\n",
       "<table border=\"1\" class=\"dataframe\">\n",
       "  <thead>\n",
       "    <tr style=\"text-align: right;\">\n",
       "      <th></th>\n",
       "      <th>Product_Code</th>\n",
       "      <th>Product_Category</th>\n",
       "      <th>Order_Demand</th>\n",
       "      <th>Year</th>\n",
       "      <th>Month</th>\n",
       "      <th>Day</th>\n",
       "      <th>C</th>\n",
       "      <th>J</th>\n",
       "      <th>S</th>\n",
       "    </tr>\n",
       "  </thead>\n",
       "  <tbody>\n",
       "    <tr>\n",
       "      <th>559140</th>\n",
       "      <td>1539</td>\n",
       "      <td>19</td>\n",
       "      <td>0</td>\n",
       "      <td>2014.0</td>\n",
       "      <td>3.0</td>\n",
       "      <td>5.0</td>\n",
       "      <td>0</td>\n",
       "      <td>0</td>\n",
       "      <td>0</td>\n",
       "    </tr>\n",
       "    <tr>\n",
       "      <th>863807</th>\n",
       "      <td>1195</td>\n",
       "      <td>19</td>\n",
       "      <td>5000</td>\n",
       "      <td>2016.0</td>\n",
       "      <td>6.0</td>\n",
       "      <td>20.0</td>\n",
       "      <td>1</td>\n",
       "      <td>0</td>\n",
       "      <td>0</td>\n",
       "    </tr>\n",
       "    <tr>\n",
       "      <th>20273</th>\n",
       "      <td>831</td>\n",
       "      <td>19</td>\n",
       "      <td>2000</td>\n",
       "      <td>2012.0</td>\n",
       "      <td>8.0</td>\n",
       "      <td>29.0</td>\n",
       "      <td>0</td>\n",
       "      <td>1</td>\n",
       "      <td>0</td>\n",
       "    </tr>\n",
       "    <tr>\n",
       "      <th>166411</th>\n",
       "      <td>1825</td>\n",
       "      <td>6</td>\n",
       "      <td>2500</td>\n",
       "      <td>2012.0</td>\n",
       "      <td>9.0</td>\n",
       "      <td>18.0</td>\n",
       "      <td>0</td>\n",
       "      <td>1</td>\n",
       "      <td>0</td>\n",
       "    </tr>\n",
       "    <tr>\n",
       "      <th>209064</th>\n",
       "      <td>1341</td>\n",
       "      <td>19</td>\n",
       "      <td>50000</td>\n",
       "      <td>2013.0</td>\n",
       "      <td>3.0</td>\n",
       "      <td>7.0</td>\n",
       "      <td>0</td>\n",
       "      <td>0</td>\n",
       "      <td>1</td>\n",
       "    </tr>\n",
       "  </tbody>\n",
       "</table>\n",
       "</div>"
      ],
      "text/plain": [
       "        Product_Code  Product_Category  Order_Demand    Year  Month   Day  C  \\\n",
       "559140          1539                19             0  2014.0    3.0   5.0  0   \n",
       "863807          1195                19          5000  2016.0    6.0  20.0  1   \n",
       "20273            831                19          2000  2012.0    8.0  29.0  0   \n",
       "166411          1825                 6          2500  2012.0    9.0  18.0  0   \n",
       "209064          1341                19         50000  2013.0    3.0   7.0  0   \n",
       "\n",
       "        J  S  \n",
       "559140  0  0  \n",
       "863807  0  0  \n",
       "20273   1  0  \n",
       "166411  1  0  \n",
       "209064  0  1  "
      ]
     },
     "execution_count": 33,
     "metadata": {},
     "output_type": "execute_result"
    }
   ],
   "source": [
    "df.head()"
   ]
  },
  {
   "cell_type": "code",
   "execution_count": 34,
   "metadata": {
    "ExecuteTime": {
     "end_time": "2020-05-01T06:18:34.914847Z",
     "start_time": "2020-05-01T06:18:34.606931Z"
    }
   },
   "outputs": [
    {
     "data": {
      "text/plain": [
       "<matplotlib.axes._subplots.AxesSubplot at 0x1d18e14ac50>"
      ]
     },
     "execution_count": 34,
     "metadata": {},
     "output_type": "execute_result"
    },
    {
     "data": {
      "image/png": "[encoded data removed]",
      "text/plain": [
       "<Figure size 432x288 with 1 Axes>"
      ]
     },
     "metadata": {
      "needs_background": "light"
     },
     "output_type": "display_data"
    }
   ],
   "source": [
    "sns.boxplot(df['Order_Demand']) #(We have outliers, lets treat them, i use IQR method)"
   ]
  },
  {
   "cell_type": "code",
   "execution_count": 35,
   "metadata": {
    "ExecuteTime": {
     "end_time": "2020-05-01T06:18:35.890698Z",
     "start_time": "2020-05-01T06:18:35.878730Z"
    }
   },
   "outputs": [],
   "source": [
    "def outlier_detect(df):\n",
    "    for i in df.describe().columns:\n",
    "        Q1=df.describe().at['25%',i]\n",
    "        Q3=df.describe().at['75%',i]\n",
    "        IQR=Q3 - Q1\n",
    "        LTV=Q1 - 1.5 * IQR\n",
    "        UTV=Q3 + 1.5 * IQR\n",
    "        x=np.array(df[i])\n",
    "        p=[]\n",
    "        for j in x:\n",
    "            if j < LTV or j>UTV:\n",
    "                p.append(df[i].median())\n",
    "            else:\n",
    "                p.append(j)\n",
    "        df[i]=p"
   ]
  },
  {
   "cell_type": "code",
   "execution_count": 36,
   "metadata": {
    "ExecuteTime": {
     "end_time": "2020-05-01T06:18:39.756374Z",
     "start_time": "2020-05-01T06:18:37.021954Z"
    }
   },
   "outputs": [],
   "source": [
    "outlier_detect(df)"
   ]
  },
  {
   "cell_type": "code",
   "execution_count": 37,
   "metadata": {
    "ExecuteTime": {
     "end_time": "2020-05-01T06:18:40.055155Z",
     "start_time": "2020-05-01T06:18:39.859071Z"
    }
   },
   "outputs": [
    {
     "data": {
      "text/plain": [
       "<matplotlib.axes._subplots.AxesSubplot at 0x1d18e1ab240>"
      ]
     },
     "execution_count": 37,
     "metadata": {},
     "output_type": "execute_result"
    },
    {
     "data": {
      "image/png": "[encoded data removed]",
      "text/plain": [
       "<Figure size 432x288 with 1 Axes>"
      ]
     },
     "metadata": {
      "needs_background": "light"
     },
     "output_type": "display_data"
    }
   ],
   "source": [
    "sns.boxplot(df['Order_Demand'])"
   ]
  },
  {
   "cell_type": "code",
   "execution_count": 38,
   "metadata": {
    "ExecuteTime": {
     "end_time": "2020-05-01T06:18:41.446354Z",
     "start_time": "2020-05-01T06:18:40.971491Z"
    }
   },
   "outputs": [
    {
     "data": {
      "text/plain": [
       "<matplotlib.collections.PathCollection at 0x1d18e22f780>"
      ]
     },
     "execution_count": 38,
     "metadata": {},
     "output_type": "execute_result"
    },
    {
     "data": {
      "image/png": "[encoded data removed]",
      "text/plain": [
       "<Figure size 432x288 with 1 Axes>"
      ]
     },
     "metadata": {
      "needs_background": "light"
     },
     "output_type": "display_data"
    }
   ],
   "source": [
    "plt.scatter(df['Year'],df['Order_Demand'])# Apart from 2011, rest of the year have constant demand)"
   ]
  },
  {
   "cell_type": "code",
   "execution_count": 39,
   "metadata": {
    "ExecuteTime": {
     "end_time": "2020-05-01T06:18:42.459034Z",
     "start_time": "2020-05-01T06:18:42.451307Z"
    }
   },
   "outputs": [],
   "source": [
    "#Lets check the distribution of each variables"
   ]
  },
  {
   "cell_type": "code",
   "execution_count": 40,
   "metadata": {
    "ExecuteTime": {
     "end_time": "2020-05-01T06:18:43.942035Z",
     "start_time": "2020-05-01T06:18:43.285216Z"
    }
   },
   "outputs": [
    {
     "data": {
      "text/plain": [
       "<matplotlib.axes._subplots.AxesSubplot at 0x1d18e25ac18>"
      ]
     },
     "execution_count": 40,
     "metadata": {},
     "output_type": "execute_result"
    },
    {
     "data": {
      "image/png": "[encoded data removed]",
      "text/plain": [
       "<Figure size 648x576 with 1 Axes>"
      ]
     },
     "metadata": {
      "needs_background": "light"
     },
     "output_type": "display_data"
    }
   ],
   "source": [
    "plt.figure(figsize=(9,8))\n",
    "sns.distplot((df['Order_Demand']),color='g',bins=100) # as we can see order_demand is quite normally distributed."
   ]
  },
  {
   "cell_type": "code",
   "execution_count": 41,
   "metadata": {
    "ExecuteTime": {
     "end_time": "2020-05-01T06:18:44.580177Z",
     "start_time": "2020-05-01T06:18:43.945027Z"
    }
   },
   "outputs": [
    {
     "data": {
      "text/plain": [
       "<matplotlib.axes._subplots.AxesSubplot at 0x1d18f5c9a58>"
      ]
     },
     "execution_count": 41,
     "metadata": {},
     "output_type": "execute_result"
    },
    {
     "data": {
      "image/png": "[encoded data removed]",
      "text/plain": [
       "<Figure size 432x288 with 1 Axes>"
      ]
     },
     "metadata": {
      "needs_background": "light"
     },
     "output_type": "display_data"
    }
   ],
   "source": [
    "sns.distplot((df['Product_Code']),bins=100)"
   ]
  },
  {
   "cell_type": "code",
   "execution_count": 42,
   "metadata": {
    "ExecuteTime": {
     "end_time": "2020-05-01T06:18:44.920157Z",
     "start_time": "2020-05-01T06:18:44.584159Z"
    }
   },
   "outputs": [
    {
     "data": {
      "text/plain": [
       "<matplotlib.axes._subplots.AxesSubplot at 0x1d18e443048>"
      ]
     },
     "execution_count": 42,
     "metadata": {},
     "output_type": "execute_result"
    },
    {
     "data": {
      "image/png": "[encoded data removed]",
      "text/plain": [
       "<Figure size 432x288 with 1 Axes>"
      ]
     },
     "metadata": {
      "needs_background": "light"
     },
     "output_type": "display_data"
    }
   ],
   "source": [
    "sns.distplot((df['Product_Category']),bins=10)"
   ]
  },
  {
   "cell_type": "code",
   "execution_count": 43,
   "metadata": {
    "ExecuteTime": {
     "end_time": "2020-05-01T06:18:45.417086Z",
     "start_time": "2020-05-01T06:18:45.163757Z"
    }
   },
   "outputs": [
    {
     "data": {
      "text/plain": [
       "(array([2.000e+00, 0.000e+00, 1.883e+03, 0.000e+00, 2.077e+03, 0.000e+00,\n",
       "        2.050e+03, 0.000e+00, 2.135e+03, 1.723e+03]),\n",
       " array([2011. , 2011.5, 2012. , 2012.5, 2013. , 2013.5, 2014. , 2014.5,\n",
       "        2015. , 2015.5, 2016. ]),\n",
       " <a list of 10 Patch objects>)"
      ]
     },
     "execution_count": 43,
     "metadata": {},
     "output_type": "execute_result"
    },
    {
     "data": {
      "image/png": "[encoded data removed]",
      "text/plain": [
       "<Figure size 432x288 with 1 Axes>"
      ]
     },
     "metadata": {
      "needs_background": "light"
     },
     "output_type": "display_data"
    }
   ],
   "source": [
    "plt.hist(df['Year'])"
   ]
  },
  {
   "cell_type": "code",
   "execution_count": 44,
   "metadata": {
    "ExecuteTime": {
     "end_time": "2020-05-01T06:18:45.857140Z",
     "start_time": "2020-05-01T06:18:45.518766Z"
    }
   },
   "outputs": [
    {
     "data": {
      "text/plain": [
       "(array([1597.,  889.,  792.,  799.,  812.,  883.,  794.,  847.,  890.,\n",
       "        1567.]),\n",
       " array([ 1. ,  2.1,  3.2,  4.3,  5.4,  6.5,  7.6,  8.7,  9.8, 10.9, 12. ]),\n",
       " <a list of 10 Patch objects>)"
      ]
     },
     "execution_count": 44,
     "metadata": {},
     "output_type": "execute_result"
    },
    {
     "data": {
      "image/png": "[encoded data removed]",
      "text/plain": [
       "<Figure size 432x288 with 1 Axes>"
      ]
     },
     "metadata": {
      "needs_background": "light"
     },
     "output_type": "display_data"
    }
   ],
   "source": [
    "plt.hist(df['Month'])"
   ]
  },
  {
   "cell_type": "code",
   "execution_count": 45,
   "metadata": {
    "ExecuteTime": {
     "end_time": "2020-05-01T06:18:46.227113Z",
     "start_time": "2020-05-01T06:18:45.957871Z"
    }
   },
   "outputs": [
    {
     "data": {
      "text/plain": [
       "(array([ 979.,  997., 1015.,  974.,  922.,  970., 1002., 1008.,  991.,\n",
       "        1012.]),\n",
       " array([ 1.,  4.,  7., 10., 13., 16., 19., 22., 25., 28., 31.]),\n",
       " <a list of 10 Patch objects>)"
      ]
     },
     "execution_count": 45,
     "metadata": {},
     "output_type": "execute_result"
    },
    {
     "data": {
      "image/png": "[encoded data removed]",
      "text/plain": [
       "<Figure size 432x288 with 1 Axes>"
      ]
     },
     "metadata": {
      "needs_background": "light"
     },
     "output_type": "display_data"
    }
   ],
   "source": [
    "plt.hist(df['Day'])"
   ]
  },
  {
   "cell_type": "code",
   "execution_count": 46,
   "metadata": {
    "ExecuteTime": {
     "end_time": "2020-05-01T06:18:46.235094Z",
     "start_time": "2020-05-01T06:18:46.230105Z"
    }
   },
   "outputs": [],
   "source": [
    "# As all the variables are almost normally distributed, we can proceed further."
   ]
  },
  {
   "cell_type": "code",
   "execution_count": 47,
   "metadata": {
    "ExecuteTime": {
     "end_time": "2020-05-01T06:18:46.442230Z",
     "start_time": "2020-05-01T06:18:46.431089Z"
    }
   },
   "outputs": [],
   "source": [
    "# Now will check the assumptions of Linear regression"
   ]
  },
  {
   "cell_type": "code",
   "execution_count": 48,
   "metadata": {
    "ExecuteTime": {
     "end_time": "2020-05-01T06:18:46.461008Z",
     "start_time": "2020-05-01T06:18:46.456209Z"
    }
   },
   "outputs": [],
   "source": [
    "#1) Linearity, all features should fallow relation with target variable,  from heatmap will check the correlation between featureas and target"
   ]
  },
  {
   "cell_type": "code",
   "execution_count": 49,
   "metadata": {
    "ExecuteTime": {
     "end_time": "2020-05-01T06:18:47.346997Z",
     "start_time": "2020-05-01T06:18:46.624616Z"
    }
   },
   "outputs": [
    {
     "data": {
      "text/plain": [
       "<matplotlib.axes._subplots.AxesSubplot at 0x1d18e7d0780>"
      ]
     },
     "execution_count": 49,
     "metadata": {},
     "output_type": "execute_result"
    },
    {
     "data": {
      "image/png": "[encoded data removed]",
      "text/plain": [
       "<Figure size 576x576 with 2 Axes>"
      ]
     },
     "metadata": {
      "needs_background": "light"
     },
     "output_type": "display_data"
    }
   ],
   "source": [
    "plt.figure(figsize=(8,8))\n",
    "sns.heatmap(df.corr(),annot=True)"
   ]
  },
  {
   "cell_type": "code",
   "execution_count": 50,
   "metadata": {
    "ExecuteTime": {
     "end_time": "2020-05-01T06:18:47.446593Z",
     "start_time": "2020-05-01T06:18:47.417671Z"
    }
   },
   "outputs": [
    {
     "data": {
      "text/html": [
       "<div>\n",
       "<style scoped>\n",
       "    .dataframe tbody tr th:only-of-type {\n",
       "        vertical-align: middle;\n",
       "    }\n",
       "\n",
       "    .dataframe tbody tr th {\n",
       "        vertical-align: top;\n",
       "    }\n",
       "\n",
       "    .dataframe thead th {\n",
       "        text-align: right;\n",
       "    }\n",
       "</style>\n",
       "<table border=\"1\" class=\"dataframe\">\n",
       "  <thead>\n",
       "    <tr style=\"text-align: right;\">\n",
       "      <th></th>\n",
       "      <th>Product_Code</th>\n",
       "      <th>Product_Category</th>\n",
       "      <th>Order_Demand</th>\n",
       "      <th>Year</th>\n",
       "      <th>Month</th>\n",
       "      <th>Day</th>\n",
       "      <th>C</th>\n",
       "      <th>J</th>\n",
       "      <th>S</th>\n",
       "    </tr>\n",
       "  </thead>\n",
       "  <tbody>\n",
       "    <tr>\n",
       "      <th>Product_Code</th>\n",
       "      <td>1.000000</td>\n",
       "      <td>0.134431</td>\n",
       "      <td>0.118531</td>\n",
       "      <td>0.011371</td>\n",
       "      <td>0.013800</td>\n",
       "      <td>0.001656</td>\n",
       "      <td>NaN</td>\n",
       "      <td>0.035574</td>\n",
       "      <td>NaN</td>\n",
       "    </tr>\n",
       "    <tr>\n",
       "      <th>Product_Category</th>\n",
       "      <td>0.134431</td>\n",
       "      <td>1.000000</td>\n",
       "      <td>0.120727</td>\n",
       "      <td>-0.014725</td>\n",
       "      <td>-0.002459</td>\n",
       "      <td>0.002330</td>\n",
       "      <td>NaN</td>\n",
       "      <td>-0.180448</td>\n",
       "      <td>NaN</td>\n",
       "    </tr>\n",
       "    <tr>\n",
       "      <th>Order_Demand</th>\n",
       "      <td>0.118531</td>\n",
       "      <td>0.120727</td>\n",
       "      <td>1.000000</td>\n",
       "      <td>-0.010107</td>\n",
       "      <td>0.006046</td>\n",
       "      <td>-0.000602</td>\n",
       "      <td>NaN</td>\n",
       "      <td>0.035822</td>\n",
       "      <td>NaN</td>\n",
       "    </tr>\n",
       "    <tr>\n",
       "      <th>Year</th>\n",
       "      <td>0.011371</td>\n",
       "      <td>-0.014725</td>\n",
       "      <td>-0.010107</td>\n",
       "      <td>1.000000</td>\n",
       "      <td>-0.012005</td>\n",
       "      <td>-0.017450</td>\n",
       "      <td>NaN</td>\n",
       "      <td>0.023457</td>\n",
       "      <td>NaN</td>\n",
       "    </tr>\n",
       "    <tr>\n",
       "      <th>Month</th>\n",
       "      <td>0.013800</td>\n",
       "      <td>-0.002459</td>\n",
       "      <td>0.006046</td>\n",
       "      <td>-0.012005</td>\n",
       "      <td>1.000000</td>\n",
       "      <td>-0.035325</td>\n",
       "      <td>NaN</td>\n",
       "      <td>-0.002007</td>\n",
       "      <td>NaN</td>\n",
       "    </tr>\n",
       "    <tr>\n",
       "      <th>Day</th>\n",
       "      <td>0.001656</td>\n",
       "      <td>0.002330</td>\n",
       "      <td>-0.000602</td>\n",
       "      <td>-0.017450</td>\n",
       "      <td>-0.035325</td>\n",
       "      <td>1.000000</td>\n",
       "      <td>NaN</td>\n",
       "      <td>-0.025551</td>\n",
       "      <td>NaN</td>\n",
       "    </tr>\n",
       "    <tr>\n",
       "      <th>C</th>\n",
       "      <td>NaN</td>\n",
       "      <td>NaN</td>\n",
       "      <td>NaN</td>\n",
       "      <td>NaN</td>\n",
       "      <td>NaN</td>\n",
       "      <td>NaN</td>\n",
       "      <td>NaN</td>\n",
       "      <td>NaN</td>\n",
       "      <td>NaN</td>\n",
       "    </tr>\n",
       "    <tr>\n",
       "      <th>J</th>\n",
       "      <td>0.035574</td>\n",
       "      <td>-0.180448</td>\n",
       "      <td>0.035822</td>\n",
       "      <td>0.023457</td>\n",
       "      <td>-0.002007</td>\n",
       "      <td>-0.025551</td>\n",
       "      <td>NaN</td>\n",
       "      <td>1.000000</td>\n",
       "      <td>NaN</td>\n",
       "    </tr>\n",
       "    <tr>\n",
       "      <th>S</th>\n",
       "      <td>NaN</td>\n",
       "      <td>NaN</td>\n",
       "      <td>NaN</td>\n",
       "      <td>NaN</td>\n",
       "      <td>NaN</td>\n",
       "      <td>NaN</td>\n",
       "      <td>NaN</td>\n",
       "      <td>NaN</td>\n",
       "      <td>NaN</td>\n",
       "    </tr>\n",
       "  </tbody>\n",
       "</table>\n",
       "</div>"
      ],
      "text/plain": [
       "                  Product_Code  Product_Category  Order_Demand      Year  \\\n",
       "Product_Code          1.000000          0.134431      0.118531  0.011371   \n",
       "Product_Category      0.134431          1.000000      0.120727 -0.014725   \n",
       "Order_Demand          0.118531          0.120727      1.000000 -0.010107   \n",
       "Year                  0.011371         -0.014725     -0.010107  1.000000   \n",
       "Month                 0.013800         -0.002459      0.006046 -0.012005   \n",
       "Day                   0.001656          0.002330     -0.000602 -0.017450   \n",
       "C                          NaN               NaN           NaN       NaN   \n",
       "J                     0.035574         -0.180448      0.035822  0.023457   \n",
       "S                          NaN               NaN           NaN       NaN   \n",
       "\n",
       "                     Month       Day   C         J   S  \n",
       "Product_Code      0.013800  0.001656 NaN  0.035574 NaN  \n",
       "Product_Category -0.002459  0.002330 NaN -0.180448 NaN  \n",
       "Order_Demand      0.006046 -0.000602 NaN  0.035822 NaN  \n",
       "Year             -0.012005 -0.017450 NaN  0.023457 NaN  \n",
       "Month             1.000000 -0.035325 NaN -0.002007 NaN  \n",
       "Day              -0.035325  1.000000 NaN -0.025551 NaN  \n",
       "C                      NaN       NaN NaN       NaN NaN  \n",
       "J                -0.002007 -0.025551 NaN  1.000000 NaN  \n",
       "S                      NaN       NaN NaN       NaN NaN  "
      ]
     },
     "execution_count": 50,
     "metadata": {},
     "output_type": "execute_result"
    }
   ],
   "source": [
    "df.corr(method='pearson')"
   ]
  },
  {
   "cell_type": "code",
   "execution_count": 51,
   "metadata": {
    "ExecuteTime": {
     "end_time": "2020-05-01T06:18:49.349053Z",
     "start_time": "2020-05-01T06:18:49.345064Z"
    }
   },
   "outputs": [],
   "source": [
    "#Lets use variables which have positive relation with order_demand"
   ]
  },
  {
   "cell_type": "code",
   "execution_count": 52,
   "metadata": {
    "ExecuteTime": {
     "end_time": "2020-05-01T06:18:50.683672Z",
     "start_time": "2020-05-01T06:18:50.603685Z"
    }
   },
   "outputs": [
    {
     "data": {
      "text/html": [
       "<div>\n",
       "<style scoped>\n",
       "    .dataframe tbody tr th:only-of-type {\n",
       "        vertical-align: middle;\n",
       "    }\n",
       "\n",
       "    .dataframe tbody tr th {\n",
       "        vertical-align: top;\n",
       "    }\n",
       "\n",
       "    .dataframe thead th {\n",
       "        text-align: right;\n",
       "    }\n",
       "</style>\n",
       "<table border=\"1\" class=\"dataframe\">\n",
       "  <thead>\n",
       "    <tr style=\"text-align: right;\">\n",
       "      <th></th>\n",
       "      <th>Product_Code</th>\n",
       "      <th>Product_Category</th>\n",
       "      <th>Order_Demand</th>\n",
       "      <th>Year</th>\n",
       "      <th>Month</th>\n",
       "      <th>Day</th>\n",
       "      <th>C</th>\n",
       "      <th>J</th>\n",
       "      <th>S</th>\n",
       "    </tr>\n",
       "  </thead>\n",
       "  <tbody>\n",
       "    <tr>\n",
       "      <th>Product_Code</th>\n",
       "      <td>326290.326184</td>\n",
       "      <td>607.946382</td>\n",
       "      <td>54909.966250</td>\n",
       "      <td>8.928534</td>\n",
       "      <td>26.969305</td>\n",
       "      <td>8.283007</td>\n",
       "      <td>0.0</td>\n",
       "      <td>8.856346</td>\n",
       "      <td>0.0</td>\n",
       "    </tr>\n",
       "    <tr>\n",
       "      <th>Product_Category</th>\n",
       "      <td>607.946382</td>\n",
       "      <td>62.679380</td>\n",
       "      <td>775.142194</td>\n",
       "      <td>-0.160240</td>\n",
       "      <td>-0.066604</td>\n",
       "      <td>0.161507</td>\n",
       "      <td>0.0</td>\n",
       "      <td>-0.622641</td>\n",
       "      <td>0.0</td>\n",
       "    </tr>\n",
       "    <tr>\n",
       "      <th>Order_Demand</th>\n",
       "      <td>54909.966250</td>\n",
       "      <td>775.142194</td>\n",
       "      <td>657705.856672</td>\n",
       "      <td>-11.266576</td>\n",
       "      <td>16.773990</td>\n",
       "      <td>-4.273932</td>\n",
       "      <td>0.0</td>\n",
       "      <td>12.661620</td>\n",
       "      <td>0.0</td>\n",
       "    </tr>\n",
       "    <tr>\n",
       "      <th>Year</th>\n",
       "      <td>8.928534</td>\n",
       "      <td>-0.160240</td>\n",
       "      <td>-11.266576</td>\n",
       "      <td>1.889424</td>\n",
       "      <td>-0.056456</td>\n",
       "      <td>-0.210004</td>\n",
       "      <td>0.0</td>\n",
       "      <td>0.014052</td>\n",
       "      <td>0.0</td>\n",
       "    </tr>\n",
       "    <tr>\n",
       "      <th>Month</th>\n",
       "      <td>26.969305</td>\n",
       "      <td>-0.066604</td>\n",
       "      <td>16.773990</td>\n",
       "      <td>-0.056456</td>\n",
       "      <td>11.704884</td>\n",
       "      <td>-1.058118</td>\n",
       "      <td>0.0</td>\n",
       "      <td>-0.002992</td>\n",
       "      <td>0.0</td>\n",
       "    </tr>\n",
       "    <tr>\n",
       "      <th>Day</th>\n",
       "      <td>8.283007</td>\n",
       "      <td>0.161507</td>\n",
       "      <td>-4.273932</td>\n",
       "      <td>-0.210004</td>\n",
       "      <td>-1.058118</td>\n",
       "      <td>76.653705</td>\n",
       "      <td>0.0</td>\n",
       "      <td>-0.097500</td>\n",
       "      <td>0.0</td>\n",
       "    </tr>\n",
       "    <tr>\n",
       "      <th>C</th>\n",
       "      <td>0.000000</td>\n",
       "      <td>0.000000</td>\n",
       "      <td>0.000000</td>\n",
       "      <td>0.000000</td>\n",
       "      <td>0.000000</td>\n",
       "      <td>0.000000</td>\n",
       "      <td>0.0</td>\n",
       "      <td>0.000000</td>\n",
       "      <td>0.0</td>\n",
       "    </tr>\n",
       "    <tr>\n",
       "      <th>J</th>\n",
       "      <td>8.856346</td>\n",
       "      <td>-0.622641</td>\n",
       "      <td>12.661620</td>\n",
       "      <td>0.014052</td>\n",
       "      <td>-0.002992</td>\n",
       "      <td>-0.097500</td>\n",
       "      <td>0.0</td>\n",
       "      <td>0.189952</td>\n",
       "      <td>0.0</td>\n",
       "    </tr>\n",
       "    <tr>\n",
       "      <th>S</th>\n",
       "      <td>0.000000</td>\n",
       "      <td>0.000000</td>\n",
       "      <td>0.000000</td>\n",
       "      <td>0.000000</td>\n",
       "      <td>0.000000</td>\n",
       "      <td>0.000000</td>\n",
       "      <td>0.0</td>\n",
       "      <td>0.000000</td>\n",
       "      <td>0.0</td>\n",
       "    </tr>\n",
       "  </tbody>\n",
       "</table>\n",
       "</div>"
      ],
      "text/plain": [
       "                   Product_Code  Product_Category   Order_Demand       Year  \\\n",
       "Product_Code      326290.326184        607.946382   54909.966250   8.928534   \n",
       "Product_Category     607.946382         62.679380     775.142194  -0.160240   \n",
       "Order_Demand       54909.966250        775.142194  657705.856672 -11.266576   \n",
       "Year                   8.928534         -0.160240     -11.266576   1.889424   \n",
       "Month                 26.969305         -0.066604      16.773990  -0.056456   \n",
       "Day                    8.283007          0.161507      -4.273932  -0.210004   \n",
       "C                      0.000000          0.000000       0.000000   0.000000   \n",
       "J                      8.856346         -0.622641      12.661620   0.014052   \n",
       "S                      0.000000          0.000000       0.000000   0.000000   \n",
       "\n",
       "                      Month        Day    C          J    S  \n",
       "Product_Code      26.969305   8.283007  0.0   8.856346  0.0  \n",
       "Product_Category  -0.066604   0.161507  0.0  -0.622641  0.0  \n",
       "Order_Demand      16.773990  -4.273932  0.0  12.661620  0.0  \n",
       "Year              -0.056456  -0.210004  0.0   0.014052  0.0  \n",
       "Month             11.704884  -1.058118  0.0  -0.002992  0.0  \n",
       "Day               -1.058118  76.653705  0.0  -0.097500  0.0  \n",
       "C                  0.000000   0.000000  0.0   0.000000  0.0  \n",
       "J                 -0.002992  -0.097500  0.0   0.189952  0.0  \n",
       "S                  0.000000   0.000000  0.0   0.000000  0.0  "
      ]
     },
     "execution_count": 52,
     "metadata": {},
     "output_type": "execute_result"
    }
   ],
   "source": [
    "df.cov()"
   ]
  },
  {
   "cell_type": "code",
   "execution_count": 53,
   "metadata": {
    "ExecuteTime": {
     "end_time": "2020-05-01T06:18:51.452804Z",
     "start_time": "2020-05-01T06:18:51.449804Z"
    }
   },
   "outputs": [],
   "source": [
    "# So lets split x and y"
   ]
  },
  {
   "cell_type": "code",
   "execution_count": 54,
   "metadata": {
    "ExecuteTime": {
     "end_time": "2020-05-01T06:18:52.309003Z",
     "start_time": "2020-05-01T06:18:52.290817Z"
    }
   },
   "outputs": [],
   "source": [
    "df.drop(['C','S','Month','Day'],axis=1,inplace=True)"
   ]
  },
  {
   "cell_type": "code",
   "execution_count": 55,
   "metadata": {
    "ExecuteTime": {
     "end_time": "2020-05-01T06:18:53.060933Z",
     "start_time": "2020-05-01T06:18:53.047961Z"
    }
   },
   "outputs": [
    {
     "data": {
      "text/html": [
       "<div>\n",
       "<style scoped>\n",
       "    .dataframe tbody tr th:only-of-type {\n",
       "        vertical-align: middle;\n",
       "    }\n",
       "\n",
       "    .dataframe tbody tr th {\n",
       "        vertical-align: top;\n",
       "    }\n",
       "\n",
       "    .dataframe thead th {\n",
       "        text-align: right;\n",
       "    }\n",
       "</style>\n",
       "<table border=\"1\" class=\"dataframe\">\n",
       "  <thead>\n",
       "    <tr style=\"text-align: right;\">\n",
       "      <th></th>\n",
       "      <th>Product_Code</th>\n",
       "      <th>Product_Category</th>\n",
       "      <th>Order_Demand</th>\n",
       "      <th>Year</th>\n",
       "      <th>J</th>\n",
       "    </tr>\n",
       "  </thead>\n",
       "  <tbody>\n",
       "    <tr>\n",
       "      <th>559140</th>\n",
       "      <td>1539</td>\n",
       "      <td>19</td>\n",
       "      <td>0.0</td>\n",
       "      <td>2014.0</td>\n",
       "      <td>0</td>\n",
       "    </tr>\n",
       "    <tr>\n",
       "      <th>863807</th>\n",
       "      <td>1195</td>\n",
       "      <td>19</td>\n",
       "      <td>300.0</td>\n",
       "      <td>2016.0</td>\n",
       "      <td>0</td>\n",
       "    </tr>\n",
       "    <tr>\n",
       "      <th>20273</th>\n",
       "      <td>831</td>\n",
       "      <td>19</td>\n",
       "      <td>2000.0</td>\n",
       "      <td>2012.0</td>\n",
       "      <td>1</td>\n",
       "    </tr>\n",
       "    <tr>\n",
       "      <th>166411</th>\n",
       "      <td>1825</td>\n",
       "      <td>6</td>\n",
       "      <td>2500.0</td>\n",
       "      <td>2012.0</td>\n",
       "      <td>1</td>\n",
       "    </tr>\n",
       "    <tr>\n",
       "      <th>209064</th>\n",
       "      <td>1341</td>\n",
       "      <td>19</td>\n",
       "      <td>300.0</td>\n",
       "      <td>2013.0</td>\n",
       "      <td>0</td>\n",
       "    </tr>\n",
       "  </tbody>\n",
       "</table>\n",
       "</div>"
      ],
      "text/plain": [
       "        Product_Code  Product_Category  Order_Demand    Year  J\n",
       "559140          1539                19           0.0  2014.0  0\n",
       "863807          1195                19         300.0  2016.0  0\n",
       "20273            831                19        2000.0  2012.0  1\n",
       "166411          1825                 6        2500.0  2012.0  1\n",
       "209064          1341                19         300.0  2013.0  0"
      ]
     },
     "execution_count": 55,
     "metadata": {},
     "output_type": "execute_result"
    }
   ],
   "source": [
    "df.head()"
   ]
  },
  {
   "cell_type": "code",
   "execution_count": 56,
   "metadata": {
    "ExecuteTime": {
     "end_time": "2020-05-01T06:18:54.081591Z",
     "start_time": "2020-05-01T06:18:54.064538Z"
    }
   },
   "outputs": [],
   "source": [
    "df.drop('J',axis=1,inplace=True)"
   ]
  },
  {
   "cell_type": "code",
   "execution_count": 57,
   "metadata": {
    "ExecuteTime": {
     "end_time": "2020-05-01T06:18:55.797864Z",
     "start_time": "2020-05-01T06:18:55.793888Z"
    }
   },
   "outputs": [],
   "source": [
    "y=df['Order_Demand']"
   ]
  },
  {
   "cell_type": "code",
   "execution_count": 58,
   "metadata": {
    "ExecuteTime": {
     "end_time": "2020-05-01T06:18:56.636733Z",
     "start_time": "2020-05-01T06:18:56.627844Z"
    }
   },
   "outputs": [
    {
     "data": {
      "text/plain": [
       "(9870,)"
      ]
     },
     "execution_count": 58,
     "metadata": {},
     "output_type": "execute_result"
    }
   ],
   "source": [
    "y.shape"
   ]
  },
  {
   "cell_type": "code",
   "execution_count": 59,
   "metadata": {
    "ExecuteTime": {
     "end_time": "2020-05-01T06:18:57.279046Z",
     "start_time": "2020-05-01T06:18:57.271065Z"
    }
   },
   "outputs": [],
   "source": [
    "x=df[['Product_Code','Product_Category','Year']]"
   ]
  },
  {
   "cell_type": "code",
   "execution_count": 60,
   "metadata": {
    "ExecuteTime": {
     "end_time": "2020-05-01T06:18:58.071221Z",
     "start_time": "2020-05-01T06:18:58.065237Z"
    }
   },
   "outputs": [
    {
     "data": {
      "text/plain": [
       "(9870, 3)"
      ]
     },
     "execution_count": 60,
     "metadata": {},
     "output_type": "execute_result"
    }
   ],
   "source": [
    "x.shape"
   ]
  },
  {
   "cell_type": "code",
   "execution_count": 61,
   "metadata": {
    "ExecuteTime": {
     "end_time": "2020-05-01T06:19:03.615983Z",
     "start_time": "2020-05-01T06:18:59.391643Z"
    }
   },
   "outputs": [],
   "source": [
    "from sklearn.preprocessing import StandardScaler\n",
    "ss=StandardScaler()\n",
    "ss_x=ss.fit_transform(x)"
   ]
  },
  {
   "cell_type": "code",
   "execution_count": 62,
   "metadata": {
    "ExecuteTime": {
     "end_time": "2020-05-01T06:19:04.543942Z",
     "start_time": "2020-05-01T06:19:04.539947Z"
    }
   },
   "outputs": [],
   "source": [
    "x=ss_x"
   ]
  },
  {
   "cell_type": "code",
   "execution_count": 63,
   "metadata": {
    "ExecuteTime": {
     "end_time": "2020-05-01T06:19:05.339422Z",
     "start_time": "2020-05-01T06:19:05.325402Z"
    }
   },
   "outputs": [],
   "source": [
    "x=pd.DataFrame(x)"
   ]
  },
  {
   "cell_type": "code",
   "execution_count": 399,
   "metadata": {
    "ExecuteTime": {
     "end_time": "2020-02-17T17:01:59.088320Z",
     "start_time": "2020-02-17T17:01:59.078345Z"
    }
   },
   "outputs": [
    {
     "data": {
      "text/plain": [
       "((9905, 3), (9905,))"
      ]
     },
     "execution_count": 399,
     "metadata": {},
     "output_type": "execute_result"
    }
   ],
   "source": [
    "x.shape,y.shape"
   ]
  },
  {
   "cell_type": "code",
   "execution_count": 400,
   "metadata": {
    "ExecuteTime": {
     "end_time": "2020-02-17T17:02:01.425873Z",
     "start_time": "2020-02-17T17:02:01.409502Z"
    }
   },
   "outputs": [],
   "source": [
    "from sklearn.model_selection import train_test_split\n",
    "x_train,x_test,y_train,y_test=train_test_split(x,y,test_size=0.3,random_state=0)"
   ]
  },
  {
   "cell_type": "code",
   "execution_count": 401,
   "metadata": {
    "ExecuteTime": {
     "end_time": "2020-02-17T17:02:02.985670Z",
     "start_time": "2020-02-17T17:02:02.979703Z"
    }
   },
   "outputs": [
    {
     "data": {
      "text/plain": [
       "((6933, 3), (2972, 3), (6933,), (2972,))"
      ]
     },
     "execution_count": 401,
     "metadata": {},
     "output_type": "execute_result"
    }
   ],
   "source": [
    "x_train.shape,x_test.shape,y_train.shape,y_test.shape"
   ]
  },
  {
   "cell_type": "code",
   "execution_count": 402,
   "metadata": {
    "ExecuteTime": {
     "end_time": "2020-02-17T17:02:04.414844Z",
     "start_time": "2020-02-17T17:02:04.403928Z"
    }
   },
   "outputs": [
    {
     "data": {
      "text/plain": [
       "LinearRegression(copy_X=True, fit_intercept=True, n_jobs=None, normalize=False)"
      ]
     },
     "execution_count": 402,
     "metadata": {},
     "output_type": "execute_result"
    }
   ],
   "source": [
    "from sklearn.linear_model import LinearRegression\n",
    "lr=LinearRegression()\n",
    "lr.fit(x_train,y_train)"
   ]
  },
  {
   "cell_type": "code",
   "execution_count": 403,
   "metadata": {
    "ExecuteTime": {
     "end_time": "2020-02-17T17:02:05.684911Z",
     "start_time": "2020-02-17T17:02:05.677045Z"
    }
   },
   "outputs": [],
   "source": [
    "y_pred=lr.predict(x_test)"
   ]
  },
  {
   "cell_type": "code",
   "execution_count": 408,
   "metadata": {
    "ExecuteTime": {
     "end_time": "2020-02-17T17:02:18.314865Z",
     "start_time": "2020-02-17T17:02:18.308918Z"
    }
   },
   "outputs": [],
   "source": [
    "from sklearn.metrics import r2_score,accuracy_score"
   ]
  },
  {
   "cell_type": "code",
   "execution_count": 409,
   "metadata": {
    "ExecuteTime": {
     "end_time": "2020-02-17T17:02:19.767639Z",
     "start_time": "2020-02-17T17:02:19.760526Z"
    }
   },
   "outputs": [],
   "source": [
    "r2_scre=r2_score(y_test,y_pred)"
   ]
  },
  {
   "cell_type": "code",
   "execution_count": 410,
   "metadata": {
    "ExecuteTime": {
     "end_time": "2020-02-17T17:02:21.145139Z",
     "start_time": "2020-02-17T17:02:21.135521Z"
    }
   },
   "outputs": [
    {
     "data": {
      "text/plain": [
       "0.035368953556465965"
      ]
     },
     "execution_count": 410,
     "metadata": {},
     "output_type": "execute_result"
    }
   ],
   "source": [
    "r2_scre"
   ]
  },
  {
   "cell_type": "code",
   "execution_count": 411,
   "metadata": {
    "ExecuteTime": {
     "end_time": "2020-02-17T17:02:30.136792Z",
     "start_time": "2020-02-17T17:02:29.832586Z"
    }
   },
   "outputs": [
    {
     "data": {
      "text/plain": [
       "<matplotlib.collections.PathCollection at 0x1aba684fc88>"
      ]
     },
     "execution_count": 411,
     "metadata": {},
     "output_type": "execute_result"
    },
    {
     "data": {
      "image/png": "[encoded data removed]",
      "text/plain": [
       "<Figure size 576x396 with 1 Axes>"
      ]
     },
     "metadata": {},
     "output_type": "display_data"
    }
   ],
   "source": [
    "plt.scatter(y_pred,(y_test-y_pred),marker='^')"
   ]
  },
  {
   "cell_type": "code",
   "execution_count": 412,
   "metadata": {
    "ExecuteTime": {
     "end_time": "2020-02-17T17:02:30.555655Z",
     "start_time": "2020-02-17T17:02:30.548890Z"
    }
   },
   "outputs": [],
   "source": [
    "SSE=sum(y_test-y_pred)**2"
   ]
  },
  {
   "cell_type": "code",
   "execution_count": 413,
   "metadata": {
    "ExecuteTime": {
     "end_time": "2020-02-17T17:02:31.602850Z",
     "start_time": "2020-02-17T17:02:31.596891Z"
    }
   },
   "outputs": [
    {
     "data": {
      "text/plain": [
       "34391209.339696914"
      ]
     },
     "execution_count": 413,
     "metadata": {},
     "output_type": "execute_result"
    }
   ],
   "source": [
    "SSE"
   ]
  },
  {
   "cell_type": "code",
   "execution_count": 414,
   "metadata": {
    "ExecuteTime": {
     "end_time": "2020-02-17T17:02:32.682976Z",
     "start_time": "2020-02-17T17:02:32.677975Z"
    }
   },
   "outputs": [],
   "source": [
    "from sklearn import metrics"
   ]
  },
  {
   "cell_type": "code",
   "execution_count": 415,
   "metadata": {
    "ExecuteTime": {
     "end_time": "2020-02-17T17:02:35.570238Z",
     "start_time": "2020-02-17T17:02:35.563255Z"
    }
   },
   "outputs": [],
   "source": [
    "mse=metrics.mean_squared_error(y_test,y_pred)"
   ]
  },
  {
   "cell_type": "code",
   "execution_count": 416,
   "metadata": {
    "ExecuteTime": {
     "end_time": "2020-02-17T17:02:36.940325Z",
     "start_time": "2020-02-17T17:02:36.929863Z"
    }
   },
   "outputs": [
    {
     "data": {
      "text/plain": [
       "791.7227836356413"
      ]
     },
     "execution_count": 416,
     "metadata": {},
     "output_type": "execute_result"
    }
   ],
   "source": [
    "np.sqrt(metrics.mean_squared_error(y_test,y_pred))"
   ]
  },
  {
   "cell_type": "code",
   "execution_count": 417,
   "metadata": {
    "ExecuteTime": {
     "end_time": "2020-02-17T17:02:38.291922Z",
     "start_time": "2020-02-17T17:02:38.286162Z"
    }
   },
   "outputs": [
    {
     "data": {
      "text/plain": [
       "650026.7118493533"
      ]
     },
     "execution_count": 417,
     "metadata": {},
     "output_type": "execute_result"
    }
   ],
   "source": [
    "var_test = y_test.var()\n",
    "var_test"
   ]
  },
  {
   "cell_type": "code",
   "execution_count": 418,
   "metadata": {
    "ExecuteTime": {
     "end_time": "2020-02-17T17:02:38.540118Z",
     "start_time": "2020-02-17T17:02:38.534134Z"
    }
   },
   "outputs": [
    {
     "data": {
      "text/plain": [
       "0.03569352658689162"
      ]
     },
     "execution_count": 418,
     "metadata": {},
     "output_type": "execute_result"
    }
   ],
   "source": [
    "Adj_rsquare = 1-(mse/var_test)\n",
    "Adj_rsquare"
   ]
  },
  {
   "cell_type": "code",
   "execution_count": 419,
   "metadata": {
    "ExecuteTime": {
     "end_time": "2020-02-17T17:02:39.784788Z",
     "start_time": "2020-02-17T17:02:39.779831Z"
    }
   },
   "outputs": [],
   "source": [
    "from yellowbrick.regressor import ResidualsPlot"
   ]
  },
  {
   "cell_type": "code",
   "execution_count": 420,
   "metadata": {
    "ExecuteTime": {
     "end_time": "2020-02-17T17:02:41.020031Z",
     "start_time": "2020-02-17T17:02:39.787781Z"
    }
   },
   "outputs": [
    {
     "data": {
      "image/png": "[encoded data removed]",
      "text/plain": [
       "<Figure size 576x396 with 2 Axes>"
      ]
     },
     "metadata": {},
     "output_type": "display_data"
    },
    {
     "data": {
      "text/plain": [
       "<matplotlib.axes._subplots.AxesSubplot at 0x1aba398ef28>"
      ]
     },
     "execution_count": 420,
     "metadata": {},
     "output_type": "execute_result"
    }
   ],
   "source": [
    "visualizer=ResidualsPlot(lr)\n",
    "visualizer.fit(x_train,y_train)\n",
    "visualizer.score(x_test,y_test)\n",
    "visualizer.poof()"
   ]
  },
  {
   "cell_type": "code",
   "execution_count": 421,
   "metadata": {
    "ExecuteTime": {
     "end_time": "2020-02-17T17:02:42.309195Z",
     "start_time": "2020-02-17T17:02:42.158454Z"
    }
   },
   "outputs": [
    {
     "name": "stderr",
     "output_type": "stream",
     "text": [
      "D:\\Python\\Anaconda\\lib\\site-packages\\sklearn\\ensemble\\forest.py:245: FutureWarning: The default value of n_estimators will change from 10 in version 0.20 to 100 in 0.22.\n",
      "  \"10 in version 0.20 to 100 in 0.22.\", FutureWarning)\n"
     ]
    }
   ],
   "source": [
    "from sklearn.ensemble import RandomForestRegressor\n",
    "rfc=RandomForestRegressor()\n",
    "rfc.fit(x_train,y_train)\n",
    "y_pred=rfc.predict(x_test)"
   ]
  },
  {
   "cell_type": "code",
   "execution_count": 422,
   "metadata": {
    "ExecuteTime": {
     "end_time": "2020-02-17T17:02:46.469920Z",
     "start_time": "2020-02-17T17:02:46.460969Z"
    }
   },
   "outputs": [
    {
     "data": {
      "text/plain": [
       "0.07041573238825338"
      ]
     },
     "execution_count": 422,
     "metadata": {},
     "output_type": "execute_result"
    }
   ],
   "source": [
    "from sklearn.metrics import r2_score\n",
    "r2_score(y_test,y_pred)"
   ]
  },
  {
   "cell_type": "code",
   "execution_count": null,
   "metadata": {},
   "outputs": [],
   "source": [
    "///////////////////"
   ]
  },
  {
   "cell_type": "code",
   "execution_count": 27,
   "metadata": {
    "ExecuteTime": {
     "end_time": "2020-04-10T08:00:28.147979Z",
     "start_time": "2020-04-10T08:00:28.142990Z"
    }
   },
   "outputs": [],
   "source": [
    "import pandas as pd\n",
    "import numpy as np\n",
    "import matplotlib.pyplot as plt\n",
    "from sklearn.decomposition import PCA"
   ]
  },
  {
   "cell_type": "code",
   "execution_count": 28,
   "metadata": {
    "ExecuteTime": {
     "end_time": "2020-04-10T08:00:28.380060Z",
     "start_time": "2020-04-10T08:00:28.347836Z"
    }
   },
   "outputs": [],
   "source": [
    "df=pd.read_excel(r\"D:\\Users\\abhisv\\Desktop\\pca.xlsx\")"
   ]
  },
  {
   "cell_type": "code",
   "execution_count": 29,
   "metadata": {
    "ExecuteTime": {
     "end_time": "2020-04-10T08:00:28.582792Z",
     "start_time": "2020-04-10T08:00:28.575828Z"
    }
   },
   "outputs": [
    {
     "data": {
      "text/plain": [
       "(6, 2)"
      ]
     },
     "execution_count": 29,
     "metadata": {},
     "output_type": "execute_result"
    }
   ],
   "source": [
    "df.shape"
   ]
  },
  {
   "cell_type": "code",
   "execution_count": 30,
   "metadata": {
    "ExecuteTime": {
     "end_time": "2020-04-10T08:00:28.827943Z",
     "start_time": "2020-04-10T08:00:28.815972Z"
    }
   },
   "outputs": [],
   "source": [
    "pca=PCA()\n",
    "pca.fit(df)\n",
    "pcs=pca.transform(df)"
   ]
  },
  {
   "cell_type": "code",
   "execution_count": 31,
   "metadata": {
    "ExecuteTime": {
     "end_time": "2020-04-10T08:00:29.060147Z",
     "start_time": "2020-04-10T08:00:29.054163Z"
    }
   },
   "outputs": [],
   "source": [
    "pcs=pd.DataFrame(pcs)"
   ]
  },
  {
   "cell_type": "code",
   "execution_count": 32,
   "metadata": {
    "ExecuteTime": {
     "end_time": "2020-04-10T08:00:29.280711Z",
     "start_time": "2020-04-10T08:00:29.269741Z"
    }
   },
   "outputs": [
    {
     "data": {
      "text/html": [
       "<div>\n",
       "<style scoped>\n",
       "    .dataframe tbody tr th:only-of-type {\n",
       "        vertical-align: middle;\n",
       "    }\n",
       "\n",
       "    .dataframe tbody tr th {\n",
       "        vertical-align: top;\n",
       "    }\n",
       "\n",
       "    .dataframe thead th {\n",
       "        text-align: right;\n",
       "    }\n",
       "</style>\n",
       "<table border=\"1\" class=\"dataframe\">\n",
       "  <thead>\n",
       "    <tr style=\"text-align: right;\">\n",
       "      <th></th>\n",
       "      <th>0</th>\n",
       "      <th>1</th>\n",
       "    </tr>\n",
       "  </thead>\n",
       "  <tbody>\n",
       "    <tr>\n",
       "      <th>0</th>\n",
       "      <td>7.597515</td>\n",
       "      <td>-0.235677</td>\n",
       "    </tr>\n",
       "    <tr>\n",
       "      <th>1</th>\n",
       "      <td>0.161778</td>\n",
       "      <td>3.329405</td>\n",
       "    </tr>\n",
       "    <tr>\n",
       "      <th>2</th>\n",
       "      <td>3.505162</td>\n",
       "      <td>-2.039187</td>\n",
       "    </tr>\n",
       "    <tr>\n",
       "      <th>3</th>\n",
       "      <td>-5.074997</td>\n",
       "      <td>-1.422036</td>\n",
       "    </tr>\n",
       "    <tr>\n",
       "      <th>4</th>\n",
       "      <td>-6.614871</td>\n",
       "      <td>-0.145797</td>\n",
       "    </tr>\n",
       "    <tr>\n",
       "      <th>5</th>\n",
       "      <td>0.425413</td>\n",
       "      <td>0.513292</td>\n",
       "    </tr>\n",
       "  </tbody>\n",
       "</table>\n",
       "</div>"
      ],
      "text/plain": [
       "          0         1\n",
       "0  7.597515 -0.235677\n",
       "1  0.161778  3.329405\n",
       "2  3.505162 -2.039187\n",
       "3 -5.074997 -1.422036\n",
       "4 -6.614871 -0.145797\n",
       "5  0.425413  0.513292"
      ]
     },
     "execution_count": 32,
     "metadata": {},
     "output_type": "execute_result"
    }
   ],
   "source": [
    "pcs"
   ]
  },
  {
   "cell_type": "code",
   "execution_count": 33,
   "metadata": {
    "ExecuteTime": {
     "end_time": "2020-04-10T08:00:29.512618Z",
     "start_time": "2020-04-10T08:00:29.501694Z"
    }
   },
   "outputs": [
    {
     "data": {
      "text/plain": [
       "0    27.945531\n",
       "1     3.521135\n",
       "dtype: float64"
      ]
     },
     "execution_count": 33,
     "metadata": {},
     "output_type": "execute_result"
    }
   ],
   "source": [
    "pcs.var()"
   ]
  },
  {
   "cell_type": "code",
   "execution_count": 36,
   "metadata": {
    "ExecuteTime": {
     "end_time": "2020-04-13T06:08:35.741295Z",
     "start_time": "2020-04-13T06:08:35.731322Z"
    }
   },
   "outputs": [
    {
     "name": "stdout",
     "output_type": "stream",
     "text": [
      "data\n"
     ]
    }
   ],
   "source": [
    "a=False\n",
    "b=False\n",
    "c=True\n",
    "if a or b and c:\n",
    "    print('DATA')\n",
    "else:\n",
    "    print('data')"
   ]
  },
  {
   "cell_type": "code",
   "execution_count": null,
   "metadata": {},
   "outputs": [],
   "source": []
  },
  {
   "cell_type": "code",
   "execution_count": null,
   "metadata": {},
   "outputs": [],
   "source": []
  },
  {
   "cell_type": "code",
   "execution_count": null,
   "metadata": {},
   "outputs": [],
   "source": []
  }
 ],
 "metadata": {
  "kernelspec": {
   "display_name": "Python 3",
   "language": "python",
   "name": "python3"
  },
  "language_info": {
   "codemirror_mode": {
    "name": "ipython",
    "version": 3
   },
   "file_extension": ".py",
   "mimetype": "text/x-python",
   "name": "python",
   "nbconvert_exporter": "python",
   "pygments_lexer": "ipython3",
   "version": "3.7.3"
  },
  "toc": {
   "base_numbering": 1,
   "nav_menu": {},
   "number_sections": true,
   "sideBar": true,
   "skip_h1_title": false,
   "title_cell": "Table of Contents",
   "title_sidebar": "Contents",
   "toc_cell": false,
   "toc_position": {},
   "toc_section_display": true,
   "toc_window_display": false
  },
  "varInspector": {
   "cols": {
    "lenName": 16,
    "lenType": 16,
    "lenVar": 40
   },
   "kernels_config": {
    "python": {
     "delete_cmd_postfix": "",
     "delete_cmd_prefix": "del ",
     "library": "var_list.py",
     "varRefreshCmd": "print(var_dic_list())"
    },
    "r": {
     "delete_cmd_postfix": ") ",
     "delete_cmd_prefix": "rm(",
     "library": "var_list.r",
     "varRefreshCmd": "cat(var_dic_list()) "
    }
   },
   "types_to_exclude": [
    "module",
    "function",
    "builtin_function_or_method",
    "instance",
    "_Feature"
   ],
   "window_display": false
  }
 },
 "nbformat": 4,
 "nbformat_minor": 2
}
