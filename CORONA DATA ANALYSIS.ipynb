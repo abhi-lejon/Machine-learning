{
 "cells": [
  {
   "cell_type": "code",
   "execution_count": null,
   "metadata": {
    "ExecuteTime": {
     "start_time": "2020-03-28T09:26:37.082Z"
    }
   },
   "outputs": [],
   "source": [
    "import pandas as pd\n",
    "import numpy as np\n",
    "import seaborn as sns\n",
    "import matplotlib.pyplot as plt\n",
    "import geopandas as gdp\n",
    "from shapely.geometry import Point,Polygon\n",
    "import descartes\n",
    "from IPython.display import Markdown\n",
    "import plotly.graph_objs as go\n",
    "import plotly.offline as py\n",
    "from plotly.subplots import make_subplots\n",
    "import plotly.express as px\n",
    "import folium \n",
    "from folium import plugins"
   ]
  },
  {
   "cell_type": "code",
   "execution_count": null,
   "metadata": {
    "ExecuteTime": {
     "start_time": "2020-03-28T09:26:43.239Z"
    }
   },
   "outputs": [],
   "source": [
    "df=pd.read_csv(r\"D:\\Users\\abhisv\\Downloads\\covid_19_clean_complete.csv\")"
   ]
  },
  {
   "cell_type": "code",
   "execution_count": null,
   "metadata": {
    "ExecuteTime": {
     "start_time": "2020-03-28T09:26:43.747Z"
    }
   },
   "outputs": [],
   "source": [
    "df.shape"
   ]
  },
  {
   "cell_type": "code",
   "execution_count": null,
   "metadata": {
    "ExecuteTime": {
     "start_time": "2020-03-28T09:26:44.049Z"
    }
   },
   "outputs": [],
   "source": [
    "df.info()"
   ]
  },
  {
   "cell_type": "code",
   "execution_count": null,
   "metadata": {
    "ExecuteTime": {
     "start_time": "2020-03-28T09:26:44.464Z"
    }
   },
   "outputs": [],
   "source": [
    "pd.options.display.float_format = '{:.2f}'.format"
   ]
  },
  {
   "cell_type": "code",
   "execution_count": null,
   "metadata": {
    "ExecuteTime": {
     "start_time": "2020-03-28T09:26:45.431Z"
    }
   },
   "outputs": [],
   "source": [
    "df.head()"
   ]
  },
  {
   "cell_type": "code",
   "execution_count": null,
   "metadata": {
    "ExecuteTime": {
     "end_time": "2020-03-26T07:03:54.876772Z",
     "start_time": "2020-03-26T07:03:54.871787Z"
    }
   },
   "outputs": [],
   "source": [
    "##df.columns = df.columns.str.replace(r'\\n','', regex=True)"
   ]
  },
  {
   "cell_type": "code",
   "execution_count": null,
   "metadata": {
    "ExecuteTime": {
     "end_time": "2020-03-26T07:03:56.605150Z",
     "start_time": "2020-03-26T07:03:56.596174Z"
    }
   },
   "outputs": [],
   "source": [
    "df.rename(columns={'Country/Region':'Country','Province/State':'Province'},inplace=True)"
   ]
  },
  {
   "cell_type": "code",
   "execution_count": null,
   "metadata": {
    "ExecuteTime": {
     "end_time": "2020-03-26T07:03:58.260722Z",
     "start_time": "2020-03-26T07:03:58.250751Z"
    }
   },
   "outputs": [],
   "source": [
    "df.columns"
   ]
  },
  {
   "cell_type": "markdown",
   "metadata": {
    "ExecuteTime": {
     "end_time": "2020-03-15T06:14:22.329527Z",
     "start_time": "2020-03-15T06:14:22.322738Z"
    }
   },
   "source": [
    "///No of cases per date"
   ]
  },
  {
   "cell_type": "code",
   "execution_count": null,
   "metadata": {
    "ExecuteTime": {
     "end_time": "2020-03-26T07:04:00.894220Z",
     "start_time": "2020-03-26T07:04:00.871314Z"
    },
    "scrolled": true
   },
   "outputs": [],
   "source": [
    "df_per_day=df.groupby('Date')[['Confirmed','Deaths','Recovered']].sum() # max for that particular day"
   ]
  },
  {
   "cell_type": "code",
   "execution_count": null,
   "metadata": {
    "ExecuteTime": {
     "end_time": "2020-03-26T07:04:03.963014Z",
     "start_time": "2020-03-26T07:04:03.947095Z"
    }
   },
   "outputs": [],
   "source": [
    "df_per_day.head()"
   ]
  },
  {
   "cell_type": "code",
   "execution_count": null,
   "metadata": {
    "ExecuteTime": {
     "end_time": "2020-03-26T07:04:06.330685Z",
     "start_time": "2020-03-26T07:04:06.304755Z"
    }
   },
   "outputs": [],
   "source": [
    "df_per_day.describe()"
   ]
  },
  {
   "cell_type": "code",
   "execution_count": null,
   "metadata": {
    "ExecuteTime": {
     "end_time": "2020-03-26T07:04:08.161788Z",
     "start_time": "2020-03-26T07:04:08.156800Z"
    }
   },
   "outputs": [],
   "source": [
    "from IPython.core.interactiveshell import InteractiveShell\n",
    "InteractiveShell.ast_node_interactivity=\"all\""
   ]
  },
  {
   "cell_type": "code",
   "execution_count": null,
   "metadata": {
    "ExecuteTime": {
     "end_time": "2020-03-26T07:04:09.877200Z",
     "start_time": "2020-03-26T07:04:09.859249Z"
    }
   },
   "outputs": [],
   "source": [
    "# The total confirmed cases, deaths and recovered can be seen here\n",
    "df_per_day['Confirmed'].max()\n",
    "df_per_day['Deaths'].max()\n",
    "df_per_day['Recovered'].max()"
   ]
  },
  {
   "cell_type": "code",
   "execution_count": null,
   "metadata": {
    "ExecuteTime": {
     "end_time": "2020-03-26T07:04:11.944671Z",
     "start_time": "2020-03-26T07:04:11.923730Z"
    }
   },
   "outputs": [],
   "source": [
    "# date for max case\n",
    "df_per_day['Confirmed'].idxmax()\n",
    "df_per_day['Deaths'].idxmax()\n",
    "df_per_day['Recovered'].idxmax()"
   ]
  },
  {
   "cell_type": "markdown",
   "metadata": {
    "ExecuteTime": {
     "end_time": "2020-03-22T06:40:52.319858Z",
     "start_time": "2020-03-22T06:40:52.311879Z"
    }
   },
   "source": [
    "//We can observe from above the Recovering cases are increasing, hope we see end of corona soon. this update is till 3/20/20"
   ]
  },
  {
   "cell_type": "code",
   "execution_count": null,
   "metadata": {
    "ExecuteTime": {
     "end_time": "2020-03-26T07:04:14.402182Z",
     "start_time": "2020-03-26T07:04:14.382284Z"
    }
   },
   "outputs": [],
   "source": [
    "# min no of cases\n",
    "df_per_day['Confirmed'].min()\n",
    "df_per_day['Deaths'].min()\n",
    "df_per_day['Recovered'].min()"
   ]
  },
  {
   "cell_type": "code",
   "execution_count": null,
   "metadata": {
    "ExecuteTime": {
     "end_time": "2020-03-26T07:04:16.139536Z",
     "start_time": "2020-03-26T07:04:16.126573Z"
    }
   },
   "outputs": [],
   "source": [
    "# date for min case\n",
    "df_per_day['Confirmed'].idxmin()\n",
    "df_per_day['Deaths'].idxmin()\n",
    "df_per_day['Recovered'].idxmin()"
   ]
  },
  {
   "cell_type": "markdown",
   "metadata": {},
   "source": [
    "///Number of cases per country"
   ]
  },
  {
   "cell_type": "code",
   "execution_count": null,
   "metadata": {
    "ExecuteTime": {
     "start_time": "2020-03-26T14:11:48.473Z"
    },
    "scrolled": true
   },
   "outputs": [],
   "source": [
    "df.groupby(['Country'])[['Confirmed','Deaths','Recovered']].max()"
   ]
  },
  {
   "cell_type": "code",
   "execution_count": null,
   "metadata": {
    "ExecuteTime": {
     "end_time": "2020-03-26T07:05:49.032301Z",
     "start_time": "2020-03-26T07:05:48.976451Z"
    },
    "scrolled": true
   },
   "outputs": [],
   "source": [
    "df.groupby(['Province','Country'])[['Confirmed','Deaths','Recovered']].max()"
   ]
  },
  {
   "cell_type": "code",
   "execution_count": null,
   "metadata": {
    "ExecuteTime": {
     "end_time": "2020-03-26T07:06:33.251492Z",
     "start_time": "2020-03-26T07:06:33.246504Z"
    },
    "scrolled": true
   },
   "outputs": [],
   "source": [
    "#df['Country'].value_counts()  #value_counts gives the records corresponding to each countries from starting day to current day."
   ]
  },
  {
   "cell_type": "code",
   "execution_count": null,
   "metadata": {
    "ExecuteTime": {
     "end_time": "2020-03-26T07:07:24.046705Z",
     "start_time": "2020-03-26T07:07:24.021733Z"
    }
   },
   "outputs": [],
   "source": [
    "#How many countries are affected\n",
    "df['Country'].unique()\n",
    "df['Country'].nunique()"
   ]
  },
  {
   "cell_type": "code",
   "execution_count": null,
   "metadata": {
    "ExecuteTime": {
     "end_time": "2020-03-26T07:08:30.463816Z",
     "start_time": "2020-03-26T07:08:30.453843Z"
    },
    "scrolled": true
   },
   "outputs": [],
   "source": [
    "#df['Country'].value_counts().plot(kind='bar',figsize=(25,25))"
   ]
  },
  {
   "cell_type": "markdown",
   "metadata": {},
   "source": [
    "### Checking distribution on map"
   ]
  },
  {
   "cell_type": "markdown",
   "metadata": {},
   "source": [
    "//First step is to convert data to geodataframe"
   ]
  },
  {
   "cell_type": "code",
   "execution_count": null,
   "metadata": {
    "ExecuteTime": {
     "end_time": "2020-03-26T07:09:20.451694Z",
     "start_time": "2020-03-26T07:09:20.212935Z"
    }
   },
   "outputs": [],
   "source": [
    "points=[Point(x,y) for x,y in zip(df['Long'],df['Lat'])]"
   ]
  },
  {
   "cell_type": "code",
   "execution_count": null,
   "metadata": {
    "ExecuteTime": {
     "end_time": "2020-03-26T07:10:47.038100Z",
     "start_time": "2020-03-26T07:10:47.016159Z"
    }
   },
   "outputs": [],
   "source": [
    "gdp01=gdp.GeoDataFrame(df,geometry=points)"
   ]
  },
  {
   "cell_type": "code",
   "execution_count": null,
   "metadata": {
    "ExecuteTime": {
     "end_time": "2020-03-26T07:11:45.047959Z",
     "start_time": "2020-03-26T07:11:45.015047Z"
    }
   },
   "outputs": [],
   "source": [
    "gdp01.head(2)"
   ]
  },
  {
   "cell_type": "code",
   "execution_count": null,
   "metadata": {
    "ExecuteTime": {
     "end_time": "2020-03-26T07:12:50.795748Z",
     "start_time": "2020-03-26T07:12:49.599980Z"
    }
   },
   "outputs": [],
   "source": [
    "#map plot\n",
    "gdp01.plot(figsize=(10,20))"
   ]
  },
  {
   "cell_type": "code",
   "execution_count": null,
   "metadata": {
    "ExecuteTime": {
     "end_time": "2020-03-26T07:14:08.142944Z",
     "start_time": "2020-03-26T07:14:07.820291Z"
    }
   },
   "outputs": [],
   "source": [
    "# overlapping with world map\n",
    "world = gdp.read_file(gdp.datasets.get_path('naturalearth_lowres'))\n",
    "ax = world.plot(figsize=(20,10))\n",
    "ax.axis('off')"
   ]
  },
  {
   "cell_type": "code",
   "execution_count": null,
   "metadata": {
    "ExecuteTime": {
     "end_time": "2020-03-26T07:15:24.108944Z",
     "start_time": "2020-03-26T07:15:20.865271Z"
    },
    "scrolled": true
   },
   "outputs": [],
   "source": [
    "# Overlap\n",
    "fig,ax = plt.subplots(figsize=(20,10))\n",
    "gdp01.plot(cmap='Oranges',ax=ax)\n",
    "world.geometry.boundary.plot(color='Blue',edgecolor='k',linewidth=2,ax=ax)"
   ]
  },
  {
   "cell_type": "code",
   "execution_count": null,
   "metadata": {
    "ExecuteTime": {
     "end_time": "2020-03-26T07:16:30.573206Z",
     "start_time": "2020-03-26T07:16:30.533306Z"
    }
   },
   "outputs": [],
   "source": [
    "gdp01[gdp01['Country']=='Sweden']"
   ]
  },
  {
   "cell_type": "code",
   "execution_count": null,
   "metadata": {
    "ExecuteTime": {
     "end_time": "2020-03-26T07:17:39.853014Z",
     "start_time": "2020-03-26T07:17:38.948587Z"
    }
   },
   "outputs": [],
   "source": [
    "# Overlap\n",
    "fig,ax = plt.subplots(figsize=(20,10))\n",
    "gdp01[gdp01['Country']=='US'].plot(cmap='Oranges',ax=ax)\n",
    "world.geometry.boundary.plot(color='Blue',edgecolor='k',linewidth=2,ax=ax)"
   ]
  },
  {
   "cell_type": "code",
   "execution_count": null,
   "metadata": {
    "ExecuteTime": {
     "end_time": "2020-03-26T07:18:39.136564Z",
     "start_time": "2020-03-26T07:18:39.127584Z"
    }
   },
   "outputs": [],
   "source": [
    "df_per_day['Confirmed'].max()"
   ]
  },
  {
   "cell_type": "code",
   "execution_count": null,
   "metadata": {
    "ExecuteTime": {
     "end_time": "2020-03-26T07:19:35.156754Z",
     "start_time": "2020-03-26T07:19:35.137806Z"
    }
   },
   "outputs": [],
   "source": [
    "print('Confirmed Cases around the globe : ',df_per_day['Confirmed'].max())\n",
    "print('Deaths Confirmed around the globe: ',df_per_day['Deaths'].max())\n",
    "print('Recovered Cases around the globe : ',df_per_day['Recovered'].max())"
   ]
  },
  {
   "cell_type": "code",
   "execution_count": null,
   "metadata": {
    "ExecuteTime": {
     "end_time": "2020-03-26T07:20:40.518261Z",
     "start_time": "2020-03-26T07:20:40.513276Z"
    }
   },
   "outputs": [],
   "source": [
    "#Day wise distribution for confirmed, death and recovered"
   ]
  },
  {
   "cell_type": "code",
   "execution_count": null,
   "metadata": {
    "ExecuteTime": {
     "end_time": "2020-03-26T07:21:39.442931Z",
     "start_time": "2020-03-26T07:21:39.437943Z"
    }
   },
   "outputs": [],
   "source": [
    "df_per_day.reset_index(inplace=True)"
   ]
  },
  {
   "cell_type": "code",
   "execution_count": null,
   "metadata": {
    "ExecuteTime": {
     "end_time": "2020-03-26T07:22:37.243305Z",
     "start_time": "2020-03-26T07:22:36.835302Z"
    }
   },
   "outputs": [],
   "source": [
    "df_per_day.plot('Date',['Confirmed','Deaths','Recovered'],figsize=(10,10),rot=30)\n"
   ]
  },
  {
   "cell_type": "code",
   "execution_count": null,
   "metadata": {
    "ExecuteTime": {
     "end_time": "2020-03-26T07:23:40.850561Z",
     "start_time": "2020-03-26T07:23:40.840588Z"
    }
   },
   "outputs": [],
   "source": [
    "##Global spread over time\n",
    "Date_data=df[['Date','Confirmed','Deaths','Recovered']]"
   ]
  },
  {
   "cell_type": "code",
   "execution_count": null,
   "metadata": {
    "ExecuteTime": {
     "end_time": "2020-03-26T07:24:47.076715Z",
     "start_time": "2020-03-26T07:24:47.062741Z"
    }
   },
   "outputs": [],
   "source": [
    "def scatterPlotCasesOverTime(df, country):\n",
    "    plot = make_subplots(rows=1, cols=3, subplot_titles=(\"Confirmed\", \"Deaths\", \"Recovered\"))\n",
    "\n",
    "    subPlot1 = go.Scatter(\n",
    "                    x=df['Date'],\n",
    "                    y=df['Confirmed'],\n",
    "                    name=\"Confirmed\",\n",
    "                    line_color='orange',\n",
    "                    opacity=0.8)\n",
    "\n",
    "    subPlot2 = go.Scatter(\n",
    "                    x=df['Date'],\n",
    "                    y=df['Deaths'],\n",
    "                    name=\"Deaths\",\n",
    "                    line_color='red',\n",
    "                    opacity=0.8)\n",
    "\n",
    "    subPlot3 = go.Scatter(\n",
    "                    x=df['Date'],\n",
    "                    y=df['Recovered'],\n",
    "                    name=\"Recovered\",\n",
    "                    line_color='green',\n",
    "                    opacity=0.8)\n",
    "\n",
    "    plot.append_trace(subPlot1, 1, 1)\n",
    "    plot.append_trace(subPlot2, 1, 2)\n",
    "    plot.append_trace(subPlot3, 1, 3)\n",
    "    plot.update_layout(template=\"ggplot2\", title_text = country + '<b> - Spread of the nCov Over Time</b>')\n",
    "\n",
    "    plot.show()"
   ]
  },
  {
   "cell_type": "code",
   "execution_count": null,
   "metadata": {
    "ExecuteTime": {
     "end_time": "2020-03-26T07:25:59.802923Z",
     "start_time": "2020-03-26T07:25:54.972057Z"
    }
   },
   "outputs": [],
   "source": [
    "global_data_over_time = Date_data.groupby('Date')['Confirmed','Deaths','Recovered'].sum().reset_index()\n",
    "scatterPlotCasesOverTime(global_data_over_time, \"<b>Global</b>\")"
   ]
  },
  {
   "cell_type": "code",
   "execution_count": null,
   "metadata": {
    "ExecuteTime": {
     "end_time": "2020-03-26T07:27:09.380974Z",
     "start_time": "2020-03-26T07:27:09.359030Z"
    }
   },
   "outputs": [],
   "source": [
    "def dailyreportedcasesovertime(df,country):\n",
    "    #confirmed\n",
    "    fig = px.bar(df, x=\"Date\", y=\"Confirmed\")\n",
    "    layout = go.Layout(\n",
    "        title=go.layout.Title(text=\"Daily count of confirmed cases in \"+ country, x=0.5),\n",
    "        font=dict(size=14),\n",
    "        width=800,\n",
    "        height=500,\n",
    "        xaxis_title = \"Date\",\n",
    "        yaxis_title = \"Confirmed cases\")\n",
    "\n",
    "    fig.update_layout(layout)\n",
    "    fig.show()\n",
    "    fig = px.bar(df, x=\"Date\", y=\"Deaths\")\n",
    "    layout = go.Layout(\n",
    "        title=go.layout.Title(text=\"Daily count of Death cases in \"+ country, x=0.5),\n",
    "        font=dict(size=14),\n",
    "        width=800,\n",
    "        height=500,\n",
    "        xaxis_title = \"Date\",\n",
    "        yaxis_title = \"Death cases\")\n",
    "\n",
    "    fig.update_layout(layout)\n",
    "    fig.show()\n",
    "    fig = px.bar(df, x=\"Date\", y=\"Recovered\")\n",
    "    layout = go.Layout(\n",
    "        title=go.layout.Title(text=\"Daily count of Recovered cases in \"+ country, x=0.5),\n",
    "        font=dict(size=14),\n",
    "        width=800,\n",
    "        height=500,\n",
    "        xaxis_title = \"Date\",\n",
    "        yaxis_title = \"Recovered cases\")\n",
    "\n",
    "    fig.update_layout(layout)\n",
    "    fig.show()"
   ]
  },
  {
   "cell_type": "code",
   "execution_count": null,
   "metadata": {
    "ExecuteTime": {
     "end_time": "2020-03-26T07:28:19.725429Z",
     "start_time": "2020-03-26T07:28:17.843538Z"
    },
    "scrolled": true
   },
   "outputs": [],
   "source": [
    "dailyreportedcasesovertime(global_data_over_time,'all over the world')"
   ]
  },
  {
   "cell_type": "code",
   "execution_count": null,
   "metadata": {
    "ExecuteTime": {
     "end_time": "2020-03-26T07:29:28.835538Z",
     "start_time": "2020-03-26T07:29:28.106845Z"
    }
   },
   "outputs": [],
   "source": [
    "df[df['Country']=='China']"
   ]
  },
  {
   "cell_type": "markdown",
   "metadata": {},
   "source": [
    "#### From above graphs we can observe the confirmed cases and deaths are increasing and the recovery cases are not that great, but quiet doing well.If the Confirmed cases decrease then the Recovery cases increases, means the medicine for this cases can be increased."
   ]
  },
  {
   "cell_type": "code",
   "execution_count": null,
   "metadata": {
    "ExecuteTime": {
     "end_time": "2020-03-26T11:15:36.503264Z",
     "start_time": "2020-03-26T11:15:36.479327Z"
    }
   },
   "outputs": [],
   "source": [
    "##china details\n",
    "df_china=df[df['Country']=='China'][['Province','Confirmed','Deaths','Recovered']]"
   ]
  },
  {
   "cell_type": "code",
   "execution_count": null,
   "metadata": {
    "ExecuteTime": {
     "end_time": "2020-03-26T11:17:06.563551Z",
     "start_time": "2020-03-26T11:17:06.551699Z"
    }
   },
   "outputs": [],
   "source": [
    "df_china.head(2)"
   ]
  },
  {
   "cell_type": "code",
   "execution_count": null,
   "metadata": {
    "ExecuteTime": {
     "end_time": "2020-03-26T11:20:11.983675Z",
     "start_time": "2020-03-26T11:20:11.971255Z"
    }
   },
   "outputs": [],
   "source": [
    "df_china=df_china.groupby('Province')[['Confirmed','Deaths','Recovered']].sum()"
   ]
  },
  {
   "cell_type": "code",
   "execution_count": null,
   "metadata": {
    "ExecuteTime": {
     "end_time": "2020-03-26T11:23:51.849765Z",
     "start_time": "2020-03-26T11:23:51.833066Z"
    }
   },
   "outputs": [],
   "source": [
    "df_china.reset_index(inplace=True)"
   ]
  },
  {
   "cell_type": "code",
   "execution_count": null,
   "metadata": {
    "ExecuteTime": {
     "end_time": "2020-03-26T11:26:46.899204Z",
     "start_time": "2020-03-26T11:26:46.886268Z"
    }
   },
   "outputs": [],
   "source": [
    "df_china.head(2)"
   ]
  },
  {
   "cell_type": "code",
   "execution_count": null,
   "metadata": {
    "ExecuteTime": {
     "end_time": "2020-03-26T11:27:59.972137Z",
     "start_time": "2020-03-26T11:27:59.233078Z"
    }
   },
   "outputs": [],
   "source": [
    "df_china.plot('Province',['Confirmed','Deaths','Recovered'],kind='bar',figsize=(10,10),fontsize=15)"
   ]
  },
  {
   "cell_type": "code",
   "execution_count": null,
   "metadata": {
    "ExecuteTime": {
     "end_time": "2020-03-26T11:38:46.329924Z",
     "start_time": "2020-03-26T11:38:46.320949Z"
    }
   },
   "outputs": [],
   "source": [
    "hubei=df[df['Province']=='Hubei']"
   ]
  },
  {
   "cell_type": "code",
   "execution_count": null,
   "metadata": {
    "ExecuteTime": {
     "end_time": "2020-03-26T11:42:08.792456Z",
     "start_time": "2020-03-26T11:42:08.783481Z"
    }
   },
   "outputs": [],
   "source": [
    "hubei=hubei[['Confirmed','Deaths','Recovered']]"
   ]
  },
  {
   "cell_type": "code",
   "execution_count": null,
   "metadata": {
    "ExecuteTime": {
     "end_time": "2020-03-26T11:47:55.962528Z",
     "start_time": "2020-03-26T11:47:55.939589Z"
    }
   },
   "outputs": [],
   "source": [
    "hubei = hubei.iloc[0]"
   ]
  },
  {
   "cell_type": "code",
   "execution_count": null,
   "metadata": {
    "ExecuteTime": {
     "end_time": "2020-03-26T11:50:50.978295Z",
     "start_time": "2020-03-26T11:50:50.969319Z"
    }
   },
   "outputs": [],
   "source": [
    "hubei"
   ]
  },
  {
   "cell_type": "code",
   "execution_count": null,
   "metadata": {
    "ExecuteTime": {
     "end_time": "2020-03-26T11:49:22.328168Z",
     "start_time": "2020-03-26T11:49:22.211479Z"
    }
   },
   "outputs": [],
   "source": [
    "hubei.plot(kind='pie'\n",
    "           , autopct='%1.1f%%'\n",
    "           , shadow=True\n",
    "           , startangle=10)"
   ]
  },
  {
   "cell_type": "code",
   "execution_count": null,
   "metadata": {
    "ExecuteTime": {
     "end_time": "2020-03-26T11:53:38.887552Z",
     "start_time": "2020-03-26T11:53:38.246270Z"
    }
   },
   "outputs": [],
   "source": [
    "plot = make_subplots(rows=1, cols=3, subplot_titles=(\"Confirmed\", \"Deaths\", \"Recovered\"))\n",
    "hubei=df[df['Province']=='Hubei']\n",
    "scatterPlotCasesOverTime(hubei,\"<b>Hibei</b>\")"
   ]
  },
  {
   "cell_type": "code",
   "execution_count": null,
   "metadata": {
    "ExecuteTime": {
     "end_time": "2020-03-26T12:01:58.400463Z",
     "start_time": "2020-03-26T12:01:58.350597Z"
    }
   },
   "outputs": [],
   "source": [
    "rest_of_china=df[df['Province']!='Hubei'][['Province','Confirmed','Deaths','Recovered']]"
   ]
  },
  {
   "cell_type": "code",
   "execution_count": null,
   "metadata": {
    "ExecuteTime": {
     "end_time": "2020-03-26T13:47:05.884492Z",
     "start_time": "2020-03-26T13:47:05.739040Z"
    }
   },
   "outputs": [],
   "source": [
    "rest_of_china.groupby('Province')[['Confirmed','Deaths','Recovered']].sum().reset_index()"
   ]
  },
  {
   "cell_type": "code",
   "execution_count": null,
   "metadata": {
    "ExecuteTime": {
     "start_time": "2020-03-26T13:58:49.915Z"
    }
   },
   "outputs": [],
   "source": [
    "rest_of_china.plot('Province',['Confirmed','Deaths','Recovered'],kind='bar',figsize=(10,10))"
   ]
  },
  {
   "cell_type": "code",
   "execution_count": null,
   "metadata": {},
   "outputs": [],
   "source": [
    "print(rest_of_china[rest_of_china['Confirmed']>500])"
   ]
  },
  {
   "cell_type": "code",
   "execution_count": null,
   "metadata": {
    "ExecuteTime": {
     "start_time": "2020-03-26T14:03:36.579Z"
    }
   },
   "outputs": [],
   "source": [
    "rest_of_hubei=df[df['Province']!='Hubei' & df['Country']=='China'][['Province','Confirmed','Deaths','Recovered']]"
   ]
  },
  {
   "cell_type": "code",
   "execution_count": null,
   "metadata": {},
   "outputs": [],
   "source": []
  },
  {
   "cell_type": "code",
   "execution_count": null,
   "metadata": {},
   "outputs": [],
   "source": []
  },
  {
   "cell_type": "code",
   "execution_count": null,
   "metadata": {},
   "outputs": [],
   "source": []
  },
  {
   "cell_type": "code",
   "execution_count": null,
   "metadata": {},
   "outputs": [],
   "source": []
  },
  {
   "cell_type": "code",
   "execution_count": null,
   "metadata": {},
   "outputs": [],
   "source": []
  },
  {
   "cell_type": "code",
   "execution_count": null,
   "metadata": {},
   "outputs": [],
   "source": []
  },
  {
   "cell_type": "code",
   "execution_count": null,
   "metadata": {},
   "outputs": [],
   "source": []
  },
  {
   "cell_type": "code",
   "execution_count": null,
   "metadata": {},
   "outputs": [],
   "source": []
  },
  {
   "cell_type": "code",
   "execution_count": null,
   "metadata": {},
   "outputs": [],
   "source": []
  }
 ],
 "metadata": {
  "kernelspec": {
   "display_name": "Python 3",
   "language": "python",
   "name": "python3"
  },
  "language_info": {
   "codemirror_mode": {
    "name": "ipython",
    "version": 3
   },
   "file_extension": ".py",
   "mimetype": "text/x-python",
   "name": "python",
   "nbconvert_exporter": "python",
   "pygments_lexer": "ipython3",
   "version": "3.7.3"
  },
  "toc": {
   "base_numbering": 1,
   "nav_menu": {},
   "number_sections": true,
   "sideBar": true,
   "skip_h1_title": false,
   "title_cell": "Table of Contents",
   "title_sidebar": "Contents",
   "toc_cell": false,
   "toc_position": {},
   "toc_section_display": true,
   "toc_window_display": false
  },
  "varInspector": {
   "cols": {
    "lenName": 16,
    "lenType": 16,
    "lenVar": 40
   },
   "kernels_config": {
    "python": {
     "delete_cmd_postfix": "",
     "delete_cmd_prefix": "del ",
     "library": "var_list.py",
     "varRefreshCmd": "print(var_dic_list())"
    },
    "r": {
     "delete_cmd_postfix": ") ",
     "delete_cmd_prefix": "rm(",
     "library": "var_list.r",
     "varRefreshCmd": "cat(var_dic_list()) "
    }
   },
   "types_to_exclude": [
    "module",
    "function",
    "builtin_function_or_method",
    "instance",
    "_Feature"
   ],
   "window_display": false
  }
 },
 "nbformat": 4,
 "nbformat_minor": 2
}
