{
 "cells": [
  {
   "cell_type": "code",
   "execution_count": 78,
   "metadata": {
    "ExecuteTime": {
     "end_time": "2020-05-17T06:26:15.922569Z",
     "start_time": "2020-05-17T06:26:15.907609Z"
    }
   },
   "outputs": [],
   "source": [
    "import pandas as pd\n",
    "import numpy as np\n",
    "import matplotlib.pyplot as plt\n",
    "import seaborn as sns\n",
    "import warnings\n",
    "warnings.simplefilter('ignore')"
   ]
  },
  {
   "cell_type": "code",
   "execution_count": 79,
   "metadata": {
    "ExecuteTime": {
     "end_time": "2020-05-17T06:26:16.627689Z",
     "start_time": "2020-05-17T06:26:16.323496Z"
    }
   },
   "outputs": [],
   "source": [
    "df=pd.read_csv(r\"C:\\Users\\abhisv.CORP\\3D Objects\\Loan\\Mobility analytics.csv\")"
   ]
  },
  {
   "cell_type": "code",
   "execution_count": 80,
   "metadata": {
    "ExecuteTime": {
     "end_time": "2020-05-17T06:26:17.005671Z",
     "start_time": "2020-05-17T06:26:16.995698Z"
    }
   },
   "outputs": [
    {
     "data": {
      "text/plain": [
       "(131662, 14)"
      ]
     },
     "execution_count": 80,
     "metadata": {},
     "output_type": "execute_result"
    }
   ],
   "source": [
    "df.shape"
   ]
  },
  {
   "cell_type": "code",
   "execution_count": 81,
   "metadata": {
    "ExecuteTime": {
     "end_time": "2020-05-17T06:26:17.369697Z",
     "start_time": "2020-05-17T06:26:17.352744Z"
    }
   },
   "outputs": [
    {
     "data": {
      "text/html": [
       "<div>\n",
       "<style scoped>\n",
       "    .dataframe tbody tr th:only-of-type {\n",
       "        vertical-align: middle;\n",
       "    }\n",
       "\n",
       "    .dataframe tbody tr th {\n",
       "        vertical-align: top;\n",
       "    }\n",
       "\n",
       "    .dataframe thead th {\n",
       "        text-align: right;\n",
       "    }\n",
       "</style>\n",
       "<table border=\"1\" class=\"dataframe\">\n",
       "  <thead>\n",
       "    <tr style=\"text-align: right;\">\n",
       "      <th></th>\n",
       "      <th>Trip_ID</th>\n",
       "      <th>Trip_Distance</th>\n",
       "      <th>Type_of_Cab</th>\n",
       "      <th>Customer_Since_Months</th>\n",
       "      <th>Life_Style_Index</th>\n",
       "      <th>Confidence_Life_Style_Index</th>\n",
       "      <th>Destination_Type</th>\n",
       "      <th>Customer_Rating</th>\n",
       "      <th>Cancellation_Last_1Month</th>\n",
       "      <th>Var1</th>\n",
       "      <th>Var2</th>\n",
       "      <th>Var3</th>\n",
       "      <th>Gender</th>\n",
       "      <th>Surge_Pricing_Type</th>\n",
       "    </tr>\n",
       "  </thead>\n",
       "  <tbody>\n",
       "    <tr>\n",
       "      <th>0</th>\n",
       "      <td>T0005689460</td>\n",
       "      <td>6.77</td>\n",
       "      <td>B</td>\n",
       "      <td>1.0</td>\n",
       "      <td>2.42769</td>\n",
       "      <td>A</td>\n",
       "      <td>A</td>\n",
       "      <td>3.90500</td>\n",
       "      <td>0</td>\n",
       "      <td>40.0</td>\n",
       "      <td>46</td>\n",
       "      <td>60</td>\n",
       "      <td>Female</td>\n",
       "      <td>2</td>\n",
       "    </tr>\n",
       "    <tr>\n",
       "      <th>1</th>\n",
       "      <td>T0005689461</td>\n",
       "      <td>29.47</td>\n",
       "      <td>B</td>\n",
       "      <td>10.0</td>\n",
       "      <td>2.78245</td>\n",
       "      <td>B</td>\n",
       "      <td>A</td>\n",
       "      <td>3.45000</td>\n",
       "      <td>0</td>\n",
       "      <td>38.0</td>\n",
       "      <td>56</td>\n",
       "      <td>78</td>\n",
       "      <td>Male</td>\n",
       "      <td>2</td>\n",
       "    </tr>\n",
       "    <tr>\n",
       "      <th>2</th>\n",
       "      <td>T0005689464</td>\n",
       "      <td>41.58</td>\n",
       "      <td>NaN</td>\n",
       "      <td>10.0</td>\n",
       "      <td>NaN</td>\n",
       "      <td>NaN</td>\n",
       "      <td>E</td>\n",
       "      <td>3.50125</td>\n",
       "      <td>2</td>\n",
       "      <td>NaN</td>\n",
       "      <td>56</td>\n",
       "      <td>77</td>\n",
       "      <td>Male</td>\n",
       "      <td>2</td>\n",
       "    </tr>\n",
       "    <tr>\n",
       "      <th>3</th>\n",
       "      <td>T0005689465</td>\n",
       "      <td>61.56</td>\n",
       "      <td>C</td>\n",
       "      <td>10.0</td>\n",
       "      <td>NaN</td>\n",
       "      <td>NaN</td>\n",
       "      <td>A</td>\n",
       "      <td>3.45375</td>\n",
       "      <td>0</td>\n",
       "      <td>NaN</td>\n",
       "      <td>52</td>\n",
       "      <td>74</td>\n",
       "      <td>Male</td>\n",
       "      <td>3</td>\n",
       "    </tr>\n",
       "    <tr>\n",
       "      <th>4</th>\n",
       "      <td>T0005689467</td>\n",
       "      <td>54.95</td>\n",
       "      <td>C</td>\n",
       "      <td>10.0</td>\n",
       "      <td>3.03453</td>\n",
       "      <td>B</td>\n",
       "      <td>A</td>\n",
       "      <td>3.40250</td>\n",
       "      <td>4</td>\n",
       "      <td>51.0</td>\n",
       "      <td>49</td>\n",
       "      <td>102</td>\n",
       "      <td>Male</td>\n",
       "      <td>2</td>\n",
       "    </tr>\n",
       "  </tbody>\n",
       "</table>\n",
       "</div>"
      ],
      "text/plain": [
       "       Trip_ID  Trip_Distance Type_of_Cab  Customer_Since_Months  \\\n",
       "0  T0005689460           6.77           B                    1.0   \n",
       "1  T0005689461          29.47           B                   10.0   \n",
       "2  T0005689464          41.58         NaN                   10.0   \n",
       "3  T0005689465          61.56           C                   10.0   \n",
       "4  T0005689467          54.95           C                   10.0   \n",
       "\n",
       "   Life_Style_Index Confidence_Life_Style_Index Destination_Type  \\\n",
       "0           2.42769                           A                A   \n",
       "1           2.78245                           B                A   \n",
       "2               NaN                         NaN                E   \n",
       "3               NaN                         NaN                A   \n",
       "4           3.03453                           B                A   \n",
       "\n",
       "   Customer_Rating  Cancellation_Last_1Month  Var1  Var2  Var3  Gender  \\\n",
       "0          3.90500                         0  40.0    46    60  Female   \n",
       "1          3.45000                         0  38.0    56    78    Male   \n",
       "2          3.50125                         2   NaN    56    77    Male   \n",
       "3          3.45375                         0   NaN    52    74    Male   \n",
       "4          3.40250                         4  51.0    49   102    Male   \n",
       "\n",
       "   Surge_Pricing_Type  \n",
       "0                   2  \n",
       "1                   2  \n",
       "2                   2  \n",
       "3                   3  \n",
       "4                   2  "
      ]
     },
     "execution_count": 81,
     "metadata": {},
     "output_type": "execute_result"
    }
   ],
   "source": [
    "df.head()"
   ]
  },
  {
   "cell_type": "code",
   "execution_count": 82,
   "metadata": {
    "ExecuteTime": {
     "end_time": "2020-05-17T06:26:17.711782Z",
     "start_time": "2020-05-17T06:26:17.699815Z"
    }
   },
   "outputs": [
    {
     "data": {
      "text/plain": [
       "2    56728\n",
       "3    47720\n",
       "1    27214\n",
       "Name: Surge_Pricing_Type, dtype: int64"
      ]
     },
     "execution_count": 82,
     "metadata": {},
     "output_type": "execute_result"
    }
   ],
   "source": [
    "df.Surge_Pricing_Type.value_counts()"
   ]
  },
  {
   "cell_type": "code",
   "execution_count": 83,
   "metadata": {
    "ExecuteTime": {
     "end_time": "2020-05-17T06:26:18.114707Z",
     "start_time": "2020-05-17T06:26:18.097752Z"
    }
   },
   "outputs": [],
   "source": [
    "df2=df[df['Surge_Pricing_Type']==2]"
   ]
  },
  {
   "cell_type": "code",
   "execution_count": 84,
   "metadata": {
    "ExecuteTime": {
     "end_time": "2020-05-17T06:26:18.474744Z",
     "start_time": "2020-05-17T06:26:18.413905Z"
    }
   },
   "outputs": [],
   "source": [
    "df1=df[df['Surge_Pricing_Type']==1].sample(df2.shape[0],replace=True)\n",
    "df3=df[df['Surge_Pricing_Type']==3].sample(df2.shape[0],replace=True)"
   ]
  },
  {
   "cell_type": "code",
   "execution_count": 85,
   "metadata": {
    "ExecuteTime": {
     "end_time": "2020-05-17T06:26:18.757986Z",
     "start_time": "2020-05-17T06:26:18.750009Z"
    }
   },
   "outputs": [
    {
     "data": {
      "text/plain": [
       "((56728, 14), (56728, 14), (56728, 14))"
      ]
     },
     "execution_count": 85,
     "metadata": {},
     "output_type": "execute_result"
    }
   ],
   "source": [
    "df1.shape,df2.shape,df3.shape"
   ]
  },
  {
   "cell_type": "code",
   "execution_count": 86,
   "metadata": {
    "ExecuteTime": {
     "end_time": "2020-05-17T06:26:19.196812Z",
     "start_time": "2020-05-17T06:26:19.155922Z"
    }
   },
   "outputs": [],
   "source": [
    "df=df1.append(df2)"
   ]
  },
  {
   "cell_type": "code",
   "execution_count": 87,
   "metadata": {
    "ExecuteTime": {
     "end_time": "2020-05-17T06:26:19.579789Z",
     "start_time": "2020-05-17T06:26:19.479057Z"
    }
   },
   "outputs": [],
   "source": [
    "df=df.append(df3)"
   ]
  },
  {
   "cell_type": "code",
   "execution_count": 88,
   "metadata": {
    "ExecuteTime": {
     "end_time": "2020-05-17T06:26:19.862034Z",
     "start_time": "2020-05-17T06:26:19.857046Z"
    }
   },
   "outputs": [
    {
     "data": {
      "text/plain": [
       "(170184, 14)"
      ]
     },
     "execution_count": 88,
     "metadata": {},
     "output_type": "execute_result"
    }
   ],
   "source": [
    "df.shape"
   ]
  },
  {
   "cell_type": "code",
   "execution_count": 89,
   "metadata": {
    "ExecuteTime": {
     "end_time": "2020-05-17T06:26:20.233042Z",
     "start_time": "2020-05-17T06:26:20.150263Z"
    }
   },
   "outputs": [],
   "source": [
    "df.drop('Trip_ID',axis=1,inplace=True)"
   ]
  },
  {
   "cell_type": "code",
   "execution_count": 90,
   "metadata": {
    "ExecuteTime": {
     "end_time": "2020-05-17T06:26:20.546204Z",
     "start_time": "2020-05-17T06:26:20.480379Z"
    }
   },
   "outputs": [
    {
     "data": {
      "text/plain": [
       "Trip_Distance                      0\n",
       "Type_of_Cab                    26320\n",
       "Customer_Since_Months           7541\n",
       "Life_Style_Index               26248\n",
       "Confidence_Life_Style_Index    26248\n",
       "Destination_Type                   0\n",
       "Customer_Rating                    0\n",
       "Cancellation_Last_1Month           0\n",
       "Var1                           94831\n",
       "Var2                               0\n",
       "Var3                               0\n",
       "Gender                             0\n",
       "Surge_Pricing_Type                 0\n",
       "dtype: int64"
      ]
     },
     "execution_count": 90,
     "metadata": {},
     "output_type": "execute_result"
    }
   ],
   "source": [
    "df.isnull().sum()"
   ]
  },
  {
   "cell_type": "code",
   "execution_count": 91,
   "metadata": {
    "ExecuteTime": {
     "end_time": "2020-05-17T06:26:20.855380Z",
     "start_time": "2020-05-17T06:26:20.788556Z"
    }
   },
   "outputs": [
    {
     "name": "stdout",
     "output_type": "stream",
     "text": [
      "<class 'pandas.core.frame.DataFrame'>\n",
      "Int64Index: 170184 entries, 102156 to 98770\n",
      "Data columns (total 13 columns):\n",
      "Trip_Distance                  170184 non-null float64\n",
      "Type_of_Cab                    143864 non-null object\n",
      "Customer_Since_Months          162643 non-null float64\n",
      "Life_Style_Index               143936 non-null float64\n",
      "Confidence_Life_Style_Index    143936 non-null object\n",
      "Destination_Type               170184 non-null object\n",
      "Customer_Rating                170184 non-null float64\n",
      "Cancellation_Last_1Month       170184 non-null int64\n",
      "Var1                           75353 non-null float64\n",
      "Var2                           170184 non-null int64\n",
      "Var3                           170184 non-null int64\n",
      "Gender                         170184 non-null object\n",
      "Surge_Pricing_Type             170184 non-null int64\n",
      "dtypes: float64(5), int64(4), object(4)\n",
      "memory usage: 18.2+ MB\n"
     ]
    }
   ],
   "source": [
    "df.info()"
   ]
  },
  {
   "cell_type": "code",
   "execution_count": 92,
   "metadata": {
    "ExecuteTime": {
     "end_time": "2020-05-17T06:26:21.181512Z",
     "start_time": "2020-05-17T06:26:21.175521Z"
    }
   },
   "outputs": [
    {
     "data": {
      "text/plain": [
       "(170184, 13)"
      ]
     },
     "execution_count": 92,
     "metadata": {},
     "output_type": "execute_result"
    }
   ],
   "source": [
    "df.shape"
   ]
  },
  {
   "cell_type": "code",
   "execution_count": 93,
   "metadata": {
    "ExecuteTime": {
     "end_time": "2020-05-17T06:26:21.488683Z",
     "start_time": "2020-05-17T06:26:21.472726Z"
    }
   },
   "outputs": [],
   "source": [
    "numerical=df.select_dtypes(exclude='O')"
   ]
  },
  {
   "cell_type": "code",
   "execution_count": 94,
   "metadata": {
    "ExecuteTime": {
     "end_time": "2020-05-17T06:26:21.763947Z",
     "start_time": "2020-05-17T06:26:21.752977Z"
    }
   },
   "outputs": [
    {
     "data": {
      "text/plain": [
       "Index(['Trip_Distance', 'Customer_Since_Months', 'Life_Style_Index',\n",
       "       'Customer_Rating', 'Cancellation_Last_1Month', 'Var1', 'Var2', 'Var3',\n",
       "       'Surge_Pricing_Type'],\n",
       "      dtype='object')"
      ]
     },
     "execution_count": 94,
     "metadata": {},
     "output_type": "execute_result"
    }
   ],
   "source": [
    "numerical.columns"
   ]
  },
  {
   "cell_type": "code",
   "execution_count": 95,
   "metadata": {
    "ExecuteTime": {
     "end_time": "2020-05-17T06:26:22.041207Z",
     "start_time": "2020-05-17T06:26:22.026246Z"
    }
   },
   "outputs": [],
   "source": [
    "cat=df.select_dtypes(include='O')"
   ]
  },
  {
   "cell_type": "code",
   "execution_count": 96,
   "metadata": {
    "ExecuteTime": {
     "end_time": "2020-05-17T06:26:22.299520Z",
     "start_time": "2020-05-17T06:26:22.292535Z"
    }
   },
   "outputs": [
    {
     "data": {
      "text/plain": [
       "Index(['Type_of_Cab', 'Confidence_Life_Style_Index', 'Destination_Type',\n",
       "       'Gender'],\n",
       "      dtype='object')"
      ]
     },
     "execution_count": 96,
     "metadata": {},
     "output_type": "execute_result"
    }
   ],
   "source": [
    "cat.columns"
   ]
  },
  {
   "cell_type": "code",
   "execution_count": 97,
   "metadata": {
    "ExecuteTime": {
     "end_time": "2020-05-17T06:26:22.552515Z",
     "start_time": "2020-05-17T06:26:22.542541Z"
    }
   },
   "outputs": [
    {
     "data": {
      "text/html": [
       "<div>\n",
       "<style scoped>\n",
       "    .dataframe tbody tr th:only-of-type {\n",
       "        vertical-align: middle;\n",
       "    }\n",
       "\n",
       "    .dataframe tbody tr th {\n",
       "        vertical-align: top;\n",
       "    }\n",
       "\n",
       "    .dataframe thead th {\n",
       "        text-align: right;\n",
       "    }\n",
       "</style>\n",
       "<table border=\"1\" class=\"dataframe\">\n",
       "  <thead>\n",
       "    <tr style=\"text-align: right;\">\n",
       "      <th></th>\n",
       "      <th>Type_of_Cab</th>\n",
       "      <th>Confidence_Life_Style_Index</th>\n",
       "      <th>Destination_Type</th>\n",
       "      <th>Gender</th>\n",
       "    </tr>\n",
       "  </thead>\n",
       "  <tbody>\n",
       "    <tr>\n",
       "      <th>102156</th>\n",
       "      <td>B</td>\n",
       "      <td>NaN</td>\n",
       "      <td>A</td>\n",
       "      <td>Male</td>\n",
       "    </tr>\n",
       "    <tr>\n",
       "      <th>102748</th>\n",
       "      <td>B</td>\n",
       "      <td>A</td>\n",
       "      <td>A</td>\n",
       "      <td>Male</td>\n",
       "    </tr>\n",
       "    <tr>\n",
       "      <th>127282</th>\n",
       "      <td>A</td>\n",
       "      <td>NaN</td>\n",
       "      <td>B</td>\n",
       "      <td>Male</td>\n",
       "    </tr>\n",
       "  </tbody>\n",
       "</table>\n",
       "</div>"
      ],
      "text/plain": [
       "       Type_of_Cab Confidence_Life_Style_Index Destination_Type Gender\n",
       "102156           B                         NaN                A   Male\n",
       "102748           B                           A                A   Male\n",
       "127282           A                         NaN                B   Male"
      ]
     },
     "execution_count": 97,
     "metadata": {},
     "output_type": "execute_result"
    }
   ],
   "source": [
    "cat.head(3)"
   ]
  },
  {
   "cell_type": "code",
   "execution_count": 98,
   "metadata": {
    "ExecuteTime": {
     "end_time": "2020-05-17T06:26:22.854706Z",
     "start_time": "2020-05-17T06:26:22.836755Z"
    }
   },
   "outputs": [
    {
     "data": {
      "text/html": [
       "<div>\n",
       "<style scoped>\n",
       "    .dataframe tbody tr th:only-of-type {\n",
       "        vertical-align: middle;\n",
       "    }\n",
       "\n",
       "    .dataframe tbody tr th {\n",
       "        vertical-align: top;\n",
       "    }\n",
       "\n",
       "    .dataframe thead th {\n",
       "        text-align: right;\n",
       "    }\n",
       "</style>\n",
       "<table border=\"1\" class=\"dataframe\">\n",
       "  <thead>\n",
       "    <tr style=\"text-align: right;\">\n",
       "      <th></th>\n",
       "      <th>Trip_Distance</th>\n",
       "      <th>Customer_Since_Months</th>\n",
       "      <th>Life_Style_Index</th>\n",
       "      <th>Customer_Rating</th>\n",
       "      <th>Cancellation_Last_1Month</th>\n",
       "      <th>Var1</th>\n",
       "      <th>Var2</th>\n",
       "      <th>Var3</th>\n",
       "      <th>Surge_Pricing_Type</th>\n",
       "    </tr>\n",
       "  </thead>\n",
       "  <tbody>\n",
       "    <tr>\n",
       "      <th>102156</th>\n",
       "      <td>46.58</td>\n",
       "      <td>10.0</td>\n",
       "      <td>NaN</td>\n",
       "      <td>2.81750</td>\n",
       "      <td>0</td>\n",
       "      <td>58.0</td>\n",
       "      <td>47</td>\n",
       "      <td>79</td>\n",
       "      <td>1</td>\n",
       "    </tr>\n",
       "    <tr>\n",
       "      <th>102748</th>\n",
       "      <td>50.38</td>\n",
       "      <td>7.0</td>\n",
       "      <td>2.88047</td>\n",
       "      <td>3.15625</td>\n",
       "      <td>0</td>\n",
       "      <td>64.0</td>\n",
       "      <td>58</td>\n",
       "      <td>86</td>\n",
       "      <td>1</td>\n",
       "    </tr>\n",
       "    <tr>\n",
       "      <th>127282</th>\n",
       "      <td>73.09</td>\n",
       "      <td>10.0</td>\n",
       "      <td>NaN</td>\n",
       "      <td>3.27250</td>\n",
       "      <td>1</td>\n",
       "      <td>NaN</td>\n",
       "      <td>57</td>\n",
       "      <td>97</td>\n",
       "      <td>1</td>\n",
       "    </tr>\n",
       "  </tbody>\n",
       "</table>\n",
       "</div>"
      ],
      "text/plain": [
       "        Trip_Distance  Customer_Since_Months  Life_Style_Index  \\\n",
       "102156          46.58                   10.0               NaN   \n",
       "102748          50.38                    7.0           2.88047   \n",
       "127282          73.09                   10.0               NaN   \n",
       "\n",
       "        Customer_Rating  Cancellation_Last_1Month  Var1  Var2  Var3  \\\n",
       "102156          2.81750                         0  58.0    47    79   \n",
       "102748          3.15625                         0  64.0    58    86   \n",
       "127282          3.27250                         1   NaN    57    97   \n",
       "\n",
       "        Surge_Pricing_Type  \n",
       "102156                   1  \n",
       "102748                   1  \n",
       "127282                   1  "
      ]
     },
     "execution_count": 98,
     "metadata": {},
     "output_type": "execute_result"
    }
   ],
   "source": [
    "numerical.head(3)"
   ]
  },
  {
   "cell_type": "code",
   "execution_count": 99,
   "metadata": {
    "ExecuteTime": {
     "end_time": "2020-05-17T06:26:23.109026Z",
     "start_time": "2020-05-17T06:26:23.104039Z"
    }
   },
   "outputs": [],
   "source": [
    "from sklearn.experimental import enable_iterative_imputer\n",
    "from sklearn.impute import IterativeImputer"
   ]
  },
  {
   "cell_type": "code",
   "execution_count": 100,
   "metadata": {
    "ExecuteTime": {
     "end_time": "2020-05-17T06:26:25.044847Z",
     "start_time": "2020-05-17T06:26:23.404235Z"
    }
   },
   "outputs": [],
   "source": [
    "impute_it=IterativeImputer()\n",
    "numerical1=impute_it.fit_transform(numerical)"
   ]
  },
  {
   "cell_type": "code",
   "execution_count": 101,
   "metadata": {
    "ExecuteTime": {
     "end_time": "2020-05-17T06:26:25.276231Z",
     "start_time": "2020-05-17T06:26:25.269249Z"
    }
   },
   "outputs": [],
   "source": [
    "numerical1=pd.DataFrame(numerical1,columns=['Trip_Distance', 'Customer_Since_Months', 'Life_Style_Index',\n",
    "       'Customer_Rating', 'Cancellation_Last_1Month', 'Var1', 'Var2', 'Var3',\n",
    "       'Surge_Pricing_Type'])"
   ]
  },
  {
   "cell_type": "code",
   "execution_count": 102,
   "metadata": {
    "ExecuteTime": {
     "end_time": "2020-05-17T06:26:25.534540Z",
     "start_time": "2020-05-17T06:26:25.518582Z"
    }
   },
   "outputs": [],
   "source": [
    "df.drop(numerical,axis=1,inplace=True)"
   ]
  },
  {
   "cell_type": "code",
   "execution_count": 106,
   "metadata": {
    "ExecuteTime": {
     "end_time": "2020-05-17T06:27:09.964444Z",
     "start_time": "2020-05-17T06:27:09.960455Z"
    }
   },
   "outputs": [],
   "source": [
    "df.reset_index(drop=True,inplace=True)"
   ]
  },
  {
   "cell_type": "code",
   "execution_count": 107,
   "metadata": {
    "ExecuteTime": {
     "end_time": "2020-05-17T06:27:11.391214Z",
     "start_time": "2020-05-17T06:27:11.376255Z"
    }
   },
   "outputs": [],
   "source": [
    "df=pd.concat([df,numerical1],axis=1)"
   ]
  },
  {
   "cell_type": "code",
   "execution_count": 109,
   "metadata": {
    "ExecuteTime": {
     "end_time": "2020-05-17T06:27:21.961630Z",
     "start_time": "2020-05-17T06:27:21.909772Z"
    }
   },
   "outputs": [
    {
     "data": {
      "text/plain": [
       "Type_of_Cab                    26320\n",
       "Confidence_Life_Style_Index    26248\n",
       "Destination_Type                   0\n",
       "Gender                             0\n",
       "dtype: int64"
      ]
     },
     "execution_count": 109,
     "metadata": {},
     "output_type": "execute_result"
    }
   ],
   "source": [
    "cat.isna().sum()"
   ]
  },
  {
   "cell_type": "code",
   "execution_count": 116,
   "metadata": {
    "ExecuteTime": {
     "end_time": "2020-05-17T06:36:00.922827Z",
     "start_time": "2020-05-17T06:36:00.876914Z"
    }
   },
   "outputs": [],
   "source": [
    "gd_dummy=pd.get_dummies(df[['Gender','Destination_Type']],drop_first=True)"
   ]
  },
  {
   "cell_type": "code",
   "execution_count": 117,
   "metadata": {
    "ExecuteTime": {
     "end_time": "2020-05-17T06:36:23.016719Z",
     "start_time": "2020-05-17T06:36:22.992785Z"
    }
   },
   "outputs": [],
   "source": [
    "df=pd.concat([df,gd_dummy],axis=1)"
   ]
  },
  {
   "cell_type": "code",
   "execution_count": 118,
   "metadata": {
    "ExecuteTime": {
     "end_time": "2020-05-17T06:37:00.485188Z",
     "start_time": "2020-05-17T06:37:00.454272Z"
    }
   },
   "outputs": [],
   "source": [
    "df.drop(['Gender','Destination_Type'],axis=1,inplace=True)"
   ]
  },
  {
   "cell_type": "code",
   "execution_count": 120,
   "metadata": {
    "ExecuteTime": {
     "end_time": "2020-05-17T06:37:14.347333Z",
     "start_time": "2020-05-17T06:37:14.325391Z"
    }
   },
   "outputs": [
    {
     "data": {
      "text/html": [
       "<div>\n",
       "<style scoped>\n",
       "    .dataframe tbody tr th:only-of-type {\n",
       "        vertical-align: middle;\n",
       "    }\n",
       "\n",
       "    .dataframe tbody tr th {\n",
       "        vertical-align: top;\n",
       "    }\n",
       "\n",
       "    .dataframe thead th {\n",
       "        text-align: right;\n",
       "    }\n",
       "</style>\n",
       "<table border=\"1\" class=\"dataframe\">\n",
       "  <thead>\n",
       "    <tr style=\"text-align: right;\">\n",
       "      <th></th>\n",
       "      <th>Type_of_Cab</th>\n",
       "      <th>Confidence_Life_Style_Index</th>\n",
       "      <th>Trip_Distance</th>\n",
       "      <th>Customer_Since_Months</th>\n",
       "      <th>Life_Style_Index</th>\n",
       "      <th>Customer_Rating</th>\n",
       "      <th>Cancellation_Last_1Month</th>\n",
       "      <th>Var1</th>\n",
       "      <th>Var2</th>\n",
       "      <th>Var3</th>\n",
       "      <th>...</th>\n",
       "      <th>Destination_Type_E</th>\n",
       "      <th>Destination_Type_F</th>\n",
       "      <th>Destination_Type_G</th>\n",
       "      <th>Destination_Type_H</th>\n",
       "      <th>Destination_Type_I</th>\n",
       "      <th>Destination_Type_J</th>\n",
       "      <th>Destination_Type_K</th>\n",
       "      <th>Destination_Type_L</th>\n",
       "      <th>Destination_Type_M</th>\n",
       "      <th>Destination_Type_N</th>\n",
       "    </tr>\n",
       "  </thead>\n",
       "  <tbody>\n",
       "    <tr>\n",
       "      <th>0</th>\n",
       "      <td>B</td>\n",
       "      <td>B</td>\n",
       "      <td>46.58</td>\n",
       "      <td>10.0</td>\n",
       "      <td>2.871311</td>\n",
       "      <td>2.8175</td>\n",
       "      <td>0.0</td>\n",
       "      <td>58.0</td>\n",
       "      <td>47.0</td>\n",
       "      <td>79.0</td>\n",
       "      <td>...</td>\n",
       "      <td>0</td>\n",
       "      <td>0</td>\n",
       "      <td>0</td>\n",
       "      <td>0</td>\n",
       "      <td>0</td>\n",
       "      <td>0</td>\n",
       "      <td>0</td>\n",
       "      <td>0</td>\n",
       "      <td>0</td>\n",
       "      <td>0</td>\n",
       "    </tr>\n",
       "  </tbody>\n",
       "</table>\n",
       "<p>1 rows × 25 columns</p>\n",
       "</div>"
      ],
      "text/plain": [
       "  Type_of_Cab Confidence_Life_Style_Index  Trip_Distance  \\\n",
       "0           B                           B          46.58   \n",
       "\n",
       "   Customer_Since_Months  Life_Style_Index  Customer_Rating  \\\n",
       "0                   10.0          2.871311           2.8175   \n",
       "\n",
       "   Cancellation_Last_1Month  Var1  Var2  Var3  ...  Destination_Type_E  \\\n",
       "0                       0.0  58.0  47.0  79.0  ...                   0   \n",
       "\n",
       "   Destination_Type_F  Destination_Type_G  Destination_Type_H  \\\n",
       "0                   0                   0                   0   \n",
       "\n",
       "   Destination_Type_I  Destination_Type_J  Destination_Type_K  \\\n",
       "0                   0                   0                   0   \n",
       "\n",
       "   Destination_Type_L  Destination_Type_M  Destination_Type_N  \n",
       "0                   0                   0                   0  \n",
       "\n",
       "[1 rows x 25 columns]"
      ]
     },
     "execution_count": 120,
     "metadata": {},
     "output_type": "execute_result"
    }
   ],
   "source": [
    "df.head(1)"
   ]
  },
  {
   "cell_type": "code",
   "execution_count": 122,
   "metadata": {
    "ExecuteTime": {
     "end_time": "2020-05-17T06:38:50.494860Z",
     "start_time": "2020-05-17T06:38:50.489873Z"
    }
   },
   "outputs": [],
   "source": [
    "y=df['Type_of_Cab']"
   ]
  },
  {
   "cell_type": "code",
   "execution_count": 123,
   "metadata": {
    "ExecuteTime": {
     "end_time": "2020-05-17T06:39:26.621744Z",
     "start_time": "2020-05-17T06:39:26.601799Z"
    }
   },
   "outputs": [],
   "source": [
    "df.drop('Type_of_Cab',axis=1,inplace=True)"
   ]
  },
  {
   "cell_type": "code",
   "execution_count": 124,
   "metadata": {
    "ExecuteTime": {
     "end_time": "2020-05-17T06:39:32.723378Z",
     "start_time": "2020-05-17T06:39:32.718392Z"
    }
   },
   "outputs": [],
   "source": [
    "x=df"
   ]
  },
  {
   "cell_type": "code",
   "execution_count": 127,
   "metadata": {
    "ExecuteTime": {
     "end_time": "2020-05-17T06:39:49.457326Z",
     "start_time": "2020-05-17T06:39:49.451330Z"
    }
   },
   "outputs": [],
   "source": [
    "y=pd.DataFrame(y)"
   ]
  },
  {
   "cell_type": "code",
   "execution_count": 147,
   "metadata": {
    "ExecuteTime": {
     "end_time": "2020-05-17T06:45:31.587010Z",
     "start_time": "2020-05-17T06:45:31.563076Z"
    }
   },
   "outputs": [],
   "source": [
    "from sklearn.preprocessing import LabelEncoder\n",
    "le=LabelEncoder()\n",
    "y=pd.DataFrame(le.fit_transform(y))"
   ]
  },
  {
   "cell_type": "code",
   "execution_count": 148,
   "metadata": {
    "ExecuteTime": {
     "end_time": "2020-05-17T06:45:34.166963Z",
     "start_time": "2020-05-17T06:45:34.161977Z"
    }
   },
   "outputs": [],
   "source": [
    "from sklearn.neighbors import KNeighborsClassifier"
   ]
  },
  {
   "cell_type": "code",
   "execution_count": 149,
   "metadata": {
    "ExecuteTime": {
     "end_time": "2020-05-17T06:45:34.841166Z",
     "start_time": "2020-05-17T06:45:34.836173Z"
    }
   },
   "outputs": [],
   "source": [
    "knc=KNeighborsClassifier(n_neighbors=5)"
   ]
  },
  {
   "cell_type": "code",
   "execution_count": 156,
   "metadata": {
    "ExecuteTime": {
     "end_time": "2020-05-17T06:46:56.109530Z",
     "start_time": "2020-05-17T06:46:56.095567Z"
    }
   },
   "outputs": [
    {
     "data": {
      "text/plain": [
       "array(['B', 'A', 'C'], dtype=object)"
      ]
     },
     "execution_count": 156,
     "metadata": {},
     "output_type": "execute_result"
    }
   ],
   "source": [
    "x['Confidence_Life_Style_Index'].unique()"
   ]
  },
  {
   "cell_type": "code",
   "execution_count": 157,
   "metadata": {
    "ExecuteTime": {
     "end_time": "2020-05-17T06:47:29.005967Z",
     "start_time": "2020-05-17T06:47:28.985022Z"
    }
   },
   "outputs": [],
   "source": [
    "x['Confidence_Life_Style_Index']=x['Confidence_Life_Style_Index'].map({'B':0,'A':1,'C':2})"
   ]
  },
  {
   "cell_type": "code",
   "execution_count": 158,
   "metadata": {
    "ExecuteTime": {
     "end_time": "2020-05-17T06:47:55.735468Z",
     "start_time": "2020-05-17T06:47:31.553757Z"
    }
   },
   "outputs": [],
   "source": [
    "knc.fit(x,y)\n",
    "ytoc=knc.predict(x)"
   ]
  },
  {
   "cell_type": "code",
   "execution_count": 160,
   "metadata": {
    "ExecuteTime": {
     "end_time": "2020-05-17T06:48:38.100891Z",
     "start_time": "2020-05-17T06:48:38.095906Z"
    }
   },
   "outputs": [],
   "source": [
    "ytoc=pd.DataFrame(ytoc)"
   ]
  },
  {
   "cell_type": "code",
   "execution_count": 161,
   "metadata": {
    "ExecuteTime": {
     "end_time": "2020-05-17T06:49:46.503096Z",
     "start_time": "2020-05-17T06:49:46.489136Z"
    }
   },
   "outputs": [],
   "source": [
    "df=pd.concat([df,ytoc],axis=1)"
   ]
  },
  {
   "cell_type": "code",
   "execution_count": 165,
   "metadata": {
    "ExecuteTime": {
     "end_time": "2020-05-17T06:51:42.371685Z",
     "start_time": "2020-05-17T06:51:42.354730Z"
    }
   },
   "outputs": [],
   "source": [
    "df.rename(columns={0:'Type_of_cabs'},inplace=True)"
   ]
  },
  {
   "cell_type": "code",
   "execution_count": 171,
   "metadata": {
    "ExecuteTime": {
     "end_time": "2020-05-17T06:52:16.116023Z",
     "start_time": "2020-05-17T06:52:16.015292Z"
    }
   },
   "outputs": [
    {
     "data": {
      "text/plain": [
       "Confidence_Life_Style_Index    0\n",
       "Trip_Distance                  0\n",
       "Customer_Since_Months          0\n",
       "Life_Style_Index               0\n",
       "Customer_Rating                0\n",
       "Cancellation_Last_1Month       0\n",
       "Var1                           0\n",
       "Var2                           0\n",
       "Var3                           0\n",
       "Surge_Pricing_Type             0\n",
       "Gender_Male                    0\n",
       "Destination_Type_B             0\n",
       "Destination_Type_C             0\n",
       "Destination_Type_D             0\n",
       "Destination_Type_E             0\n",
       "Destination_Type_F             0\n",
       "Destination_Type_G             0\n",
       "Destination_Type_H             0\n",
       "Destination_Type_I             0\n",
       "Destination_Type_J             0\n",
       "Destination_Type_K             0\n",
       "Destination_Type_L             0\n",
       "Destination_Type_M             0\n",
       "Destination_Type_N             0\n",
       "Type_of_cabs                   0\n",
       "dtype: int64"
      ]
     },
     "execution_count": 171,
     "metadata": {},
     "output_type": "execute_result"
    }
   ],
   "source": [
    "df.isna().sum()"
   ]
  },
  {
   "cell_type": "code",
   "execution_count": null,
   "metadata": {},
   "outputs": [],
   "source": []
  },
  {
   "cell_type": "code",
   "execution_count": null,
   "metadata": {},
   "outputs": [],
   "source": []
  },
  {
   "cell_type": "code",
   "execution_count": 110,
   "metadata": {
    "ExecuteTime": {
     "end_time": "2020-05-17T06:27:23.152383Z",
     "start_time": "2020-05-17T06:27:23.123415Z"
    }
   },
   "outputs": [],
   "source": [
    "df['Type_of_Cab'].fillna('B',inplace=True)"
   ]
  },
  {
   "cell_type": "code",
   "execution_count": 111,
   "metadata": {
    "ExecuteTime": {
     "end_time": "2020-05-17T06:27:24.422442Z",
     "start_time": "2020-05-17T06:27:24.383548Z"
    }
   },
   "outputs": [],
   "source": [
    "df['Confidence_Life_Style_Index'].fillna('B',inplace=True)"
   ]
  },
  {
   "cell_type": "code",
   "execution_count": 112,
   "metadata": {
    "ExecuteTime": {
     "end_time": "2020-05-17T06:27:25.425997Z",
     "start_time": "2020-05-17T06:27:25.368110Z"
    }
   },
   "outputs": [
    {
     "data": {
      "text/plain": [
       "Type_of_Cab                    26320\n",
       "Confidence_Life_Style_Index    26248\n",
       "Destination_Type                   0\n",
       "Gender                             0\n",
       "dtype: int64"
      ]
     },
     "execution_count": 112,
     "metadata": {},
     "output_type": "execute_result"
    }
   ],
   "source": [
    "cat.isna().sum()"
   ]
  },
  {
   "cell_type": "code",
   "execution_count": 482,
   "metadata": {
    "ExecuteTime": {
     "end_time": "2020-05-16T14:42:26.076081Z",
     "start_time": "2020-05-16T14:42:26.043170Z"
    }
   },
   "outputs": [
    {
     "data": {
      "text/html": [
       "<div>\n",
       "<style scoped>\n",
       "    .dataframe tbody tr th:only-of-type {\n",
       "        vertical-align: middle;\n",
       "    }\n",
       "\n",
       "    .dataframe tbody tr th {\n",
       "        vertical-align: top;\n",
       "    }\n",
       "\n",
       "    .dataframe thead th {\n",
       "        text-align: right;\n",
       "    }\n",
       "</style>\n",
       "<table border=\"1\" class=\"dataframe\">\n",
       "  <thead>\n",
       "    <tr style=\"text-align: right;\">\n",
       "      <th></th>\n",
       "      <th>Type_of_Cab</th>\n",
       "      <th>Confidence_Life_Style_Index</th>\n",
       "      <th>Destination_Type</th>\n",
       "      <th>Gender</th>\n",
       "      <th>Trip_Distance</th>\n",
       "      <th>Customer_Since_Months</th>\n",
       "      <th>Life_Style_Index</th>\n",
       "      <th>Customer_Rating</th>\n",
       "      <th>Cancellation_Last_1Month</th>\n",
       "      <th>Var1</th>\n",
       "      <th>Var2</th>\n",
       "      <th>Var3</th>\n",
       "      <th>Surge_Pricing_Type</th>\n",
       "    </tr>\n",
       "  </thead>\n",
       "  <tbody>\n",
       "    <tr>\n",
       "      <th>0</th>\n",
       "      <td>B</td>\n",
       "      <td>A</td>\n",
       "      <td>A</td>\n",
       "      <td>Female</td>\n",
       "      <td>6.77</td>\n",
       "      <td>1.0</td>\n",
       "      <td>2.427690</td>\n",
       "      <td>3.90500</td>\n",
       "      <td>0.0</td>\n",
       "      <td>40.000000</td>\n",
       "      <td>46.0</td>\n",
       "      <td>60.0</td>\n",
       "      <td>2.0</td>\n",
       "    </tr>\n",
       "    <tr>\n",
       "      <th>1</th>\n",
       "      <td>B</td>\n",
       "      <td>B</td>\n",
       "      <td>A</td>\n",
       "      <td>Male</td>\n",
       "      <td>29.47</td>\n",
       "      <td>10.0</td>\n",
       "      <td>2.782450</td>\n",
       "      <td>3.45000</td>\n",
       "      <td>0.0</td>\n",
       "      <td>38.000000</td>\n",
       "      <td>56.0</td>\n",
       "      <td>78.0</td>\n",
       "      <td>2.0</td>\n",
       "    </tr>\n",
       "    <tr>\n",
       "      <th>2</th>\n",
       "      <td>B</td>\n",
       "      <td>B</td>\n",
       "      <td>E</td>\n",
       "      <td>Male</td>\n",
       "      <td>41.58</td>\n",
       "      <td>10.0</td>\n",
       "      <td>2.898417</td>\n",
       "      <td>3.50125</td>\n",
       "      <td>2.0</td>\n",
       "      <td>64.623535</td>\n",
       "      <td>56.0</td>\n",
       "      <td>77.0</td>\n",
       "      <td>2.0</td>\n",
       "    </tr>\n",
       "    <tr>\n",
       "      <th>3</th>\n",
       "      <td>C</td>\n",
       "      <td>B</td>\n",
       "      <td>A</td>\n",
       "      <td>Male</td>\n",
       "      <td>61.56</td>\n",
       "      <td>10.0</td>\n",
       "      <td>2.893587</td>\n",
       "      <td>3.45375</td>\n",
       "      <td>0.0</td>\n",
       "      <td>62.131584</td>\n",
       "      <td>52.0</td>\n",
       "      <td>74.0</td>\n",
       "      <td>3.0</td>\n",
       "    </tr>\n",
       "    <tr>\n",
       "      <th>4</th>\n",
       "      <td>C</td>\n",
       "      <td>B</td>\n",
       "      <td>A</td>\n",
       "      <td>Male</td>\n",
       "      <td>54.95</td>\n",
       "      <td>10.0</td>\n",
       "      <td>3.034530</td>\n",
       "      <td>3.40250</td>\n",
       "      <td>4.0</td>\n",
       "      <td>51.000000</td>\n",
       "      <td>49.0</td>\n",
       "      <td>102.0</td>\n",
       "      <td>2.0</td>\n",
       "    </tr>\n",
       "  </tbody>\n",
       "</table>\n",
       "</div>"
      ],
      "text/plain": [
       "  Type_of_Cab Confidence_Life_Style_Index Destination_Type  Gender  \\\n",
       "0           B                           A                A  Female   \n",
       "1           B                           B                A    Male   \n",
       "2           B                           B                E    Male   \n",
       "3           C                           B                A    Male   \n",
       "4           C                           B                A    Male   \n",
       "\n",
       "   Trip_Distance  Customer_Since_Months  Life_Style_Index  Customer_Rating  \\\n",
       "0           6.77                    1.0          2.427690          3.90500   \n",
       "1          29.47                   10.0          2.782450          3.45000   \n",
       "2          41.58                   10.0          2.898417          3.50125   \n",
       "3          61.56                   10.0          2.893587          3.45375   \n",
       "4          54.95                   10.0          3.034530          3.40250   \n",
       "\n",
       "   Cancellation_Last_1Month       Var1  Var2   Var3  Surge_Pricing_Type  \n",
       "0                       0.0  40.000000  46.0   60.0                 2.0  \n",
       "1                       0.0  38.000000  56.0   78.0                 2.0  \n",
       "2                       2.0  64.623535  56.0   77.0                 2.0  \n",
       "3                       0.0  62.131584  52.0   74.0                 3.0  \n",
       "4                       4.0  51.000000  49.0  102.0                 2.0  "
      ]
     },
     "execution_count": 482,
     "metadata": {},
     "output_type": "execute_result"
    }
   ],
   "source": [
    "df.head()"
   ]
  },
  {
   "cell_type": "code",
   "execution_count": 483,
   "metadata": {
    "ExecuteTime": {
     "end_time": "2020-05-16T14:42:27.539169Z",
     "start_time": "2020-05-16T14:42:27.498279Z"
    }
   },
   "outputs": [],
   "source": [
    "df_cab=pd.DataFrame(df.groupby('Type_of_Cab')[['Trip_Distance']].sum().reset_index())"
   ]
  },
  {
   "cell_type": "code",
   "execution_count": 484,
   "metadata": {
    "ExecuteTime": {
     "end_time": "2020-05-16T14:42:29.123935Z",
     "start_time": "2020-05-16T14:42:28.807778Z"
    }
   },
   "outputs": [
    {
     "data": {
      "text/plain": [
       "Text(0.5, 1.0, 'Business made by each cab')"
      ]
     },
     "execution_count": 484,
     "metadata": {},
     "output_type": "execute_result"
    },
    {
     "data": {
      "image/png": "[encoded data removed]",
      "text/plain": [
       "<Figure size 432x288 with 1 Axes>"
      ]
     },
     "metadata": {
      "needs_background": "light"
     },
     "output_type": "display_data"
    }
   ],
   "source": [
    "plt.scatter(df_cab['Type_of_Cab'],df_cab['Trip_Distance'])\n",
    "plt.xlabel('Type_of_cab')\n",
    "plt.ylabel('Trip_Distance')\n",
    "plt.title('Business made by each cab')"
   ]
  },
  {
   "cell_type": "code",
   "execution_count": 485,
   "metadata": {
    "ExecuteTime": {
     "end_time": "2020-05-16T14:42:30.830370Z",
     "start_time": "2020-05-16T14:42:30.816409Z"
    }
   },
   "outputs": [
    {
     "data": {
      "text/plain": [
       "Index(['Type_of_Cab', 'Confidence_Life_Style_Index', 'Destination_Type',\n",
       "       'Gender'],\n",
       "      dtype='object')"
      ]
     },
     "execution_count": 485,
     "metadata": {},
     "output_type": "execute_result"
    }
   ],
   "source": [
    "cat.columns"
   ]
  },
  {
   "cell_type": "code",
   "execution_count": 486,
   "metadata": {
    "ExecuteTime": {
     "end_time": "2020-05-16T14:42:32.277499Z",
     "start_time": "2020-05-16T14:42:32.269521Z"
    }
   },
   "outputs": [],
   "source": [
    "cat1=pd.DataFrame(cat['Destination_Type'])"
   ]
  },
  {
   "cell_type": "code",
   "execution_count": 487,
   "metadata": {
    "ExecuteTime": {
     "end_time": "2020-05-16T14:42:33.869243Z",
     "start_time": "2020-05-16T14:42:33.697702Z"
    }
   },
   "outputs": [],
   "source": [
    "cat.drop('Destination_Type',axis=1,inplace=True)"
   ]
  },
  {
   "cell_type": "code",
   "execution_count": 488,
   "metadata": {
    "ExecuteTime": {
     "end_time": "2020-05-16T14:42:35.511849Z",
     "start_time": "2020-05-16T14:42:35.429072Z"
    }
   },
   "outputs": [],
   "source": [
    "cat_dummy=pd.get_dummies(cat,drop_first=True)"
   ]
  },
  {
   "cell_type": "code",
   "execution_count": 489,
   "metadata": {
    "ExecuteTime": {
     "end_time": "2020-05-16T14:42:37.072677Z",
     "start_time": "2020-05-16T14:42:37.031787Z"
    }
   },
   "outputs": [],
   "source": [
    "df=pd.concat([df,cat_dummy],axis=1)"
   ]
  },
  {
   "cell_type": "code",
   "execution_count": 490,
   "metadata": {
    "ExecuteTime": {
     "end_time": "2020-05-16T14:42:38.673397Z",
     "start_time": "2020-05-16T14:42:38.649461Z"
    }
   },
   "outputs": [],
   "source": [
    "df.drop(cat,axis=1,inplace=True)"
   ]
  },
  {
   "cell_type": "code",
   "execution_count": 491,
   "metadata": {
    "ExecuteTime": {
     "end_time": "2020-05-16T14:42:40.489540Z",
     "start_time": "2020-05-16T14:42:40.479568Z"
    }
   },
   "outputs": [],
   "source": [
    "def label_encoder(df,cat1):\n",
    "    le=LabelEncoder()\n",
    "    for i in cat1: \n",
    "        le.fit(df[i])\n",
    "        x=le.transform(df[i])\n",
    "        df[i]=x\n",
    "    return df"
   ]
  },
  {
   "cell_type": "code",
   "execution_count": 493,
   "metadata": {
    "ExecuteTime": {
     "end_time": "2020-05-16T14:46:02.127514Z",
     "start_time": "2020-05-16T14:46:02.110560Z"
    }
   },
   "outputs": [],
   "source": [
    "df=label_encoder(df,cat1)"
   ]
  },
  {
   "cell_type": "code",
   "execution_count": 497,
   "metadata": {
    "ExecuteTime": {
     "end_time": "2020-05-16T14:47:04.452975Z",
     "start_time": "2020-05-16T14:47:04.443000Z"
    }
   },
   "outputs": [
    {
     "data": {
      "text/plain": [
       "Index(['Destination_Type', 'Trip_Distance', 'Customer_Since_Months',\n",
       "       'Life_Style_Index', 'Customer_Rating', 'Cancellation_Last_1Month',\n",
       "       'Var1', 'Var2', 'Var3', 'Surge_Pricing_Type', 'Type_of_Cab_B',\n",
       "       'Type_of_Cab_C', 'Type_of_Cab_D', 'Type_of_Cab_E',\n",
       "       'Confidence_Life_Style_Index_B', 'Confidence_Life_Style_Index_C',\n",
       "       'Gender_Male'],\n",
       "      dtype='object')"
      ]
     },
     "execution_count": 497,
     "metadata": {},
     "output_type": "execute_result"
    }
   ],
   "source": [
    "df.columns"
   ]
  },
  {
   "cell_type": "code",
   "execution_count": 498,
   "metadata": {
    "ExecuteTime": {
     "end_time": "2020-05-16T14:47:29.039044Z",
     "start_time": "2020-05-16T14:47:28.985189Z"
    }
   },
   "outputs": [
    {
     "data": {
      "text/plain": [
       "Destination_Type                 0\n",
       "Trip_Distance                    0\n",
       "Customer_Since_Months            0\n",
       "Life_Style_Index                 0\n",
       "Customer_Rating                  0\n",
       "Cancellation_Last_1Month         0\n",
       "Var1                             0\n",
       "Var2                             0\n",
       "Var3                             0\n",
       "Surge_Pricing_Type               0\n",
       "Type_of_Cab_B                    0\n",
       "Type_of_Cab_C                    0\n",
       "Type_of_Cab_D                    0\n",
       "Type_of_Cab_E                    0\n",
       "Confidence_Life_Style_Index_B    0\n",
       "Confidence_Life_Style_Index_C    0\n",
       "Gender_Male                      0\n",
       "dtype: int64"
      ]
     },
     "execution_count": 498,
     "metadata": {},
     "output_type": "execute_result"
    }
   ],
   "source": [
    "df.isna().sum()"
   ]
  },
  {
   "cell_type": "code",
   "execution_count": 499,
   "metadata": {
    "ExecuteTime": {
     "end_time": "2020-05-16T14:47:34.136927Z",
     "start_time": "2020-05-16T14:47:34.129946Z"
    }
   },
   "outputs": [],
   "source": [
    "y=pd.DataFrame(df.Surge_Pricing_Type)"
   ]
  },
  {
   "cell_type": "code",
   "execution_count": 500,
   "metadata": {
    "ExecuteTime": {
     "end_time": "2020-05-16T14:47:35.686209Z",
     "start_time": "2020-05-16T14:47:35.671250Z"
    }
   },
   "outputs": [],
   "source": [
    "df.drop('Surge_Pricing_Type',axis=1,inplace=True)"
   ]
  },
  {
   "cell_type": "code",
   "execution_count": 501,
   "metadata": {
    "ExecuteTime": {
     "end_time": "2020-05-16T14:47:36.975761Z",
     "start_time": "2020-05-16T14:47:36.968781Z"
    }
   },
   "outputs": [],
   "source": [
    "x=df"
   ]
  },
  {
   "cell_type": "code",
   "execution_count": 502,
   "metadata": {
    "ExecuteTime": {
     "end_time": "2020-05-16T14:47:37.712486Z",
     "start_time": "2020-05-16T14:47:37.708523Z"
    }
   },
   "outputs": [],
   "source": [
    "from sklearn.model_selection import KFold,cross_val_score,StratifiedKFold\n",
    "from sklearn.tree import DecisionTreeClassifier\n",
    "from sklearn.ensemble import RandomForestClassifier,BaggingClassifier\n",
    "from xgboost import XGBClassifier"
   ]
  },
  {
   "cell_type": "code",
   "execution_count": 520,
   "metadata": {
    "ExecuteTime": {
     "end_time": "2020-05-16T14:52:14.929521Z",
     "start_time": "2020-05-16T14:52:10.714785Z"
    }
   },
   "outputs": [],
   "source": [
    "rfc=RandomForestClassifier(random_state=1)\n",
    "rfc.fit(x,y)\n",
    "y_pred=rfc.predict(x)"
   ]
  },
  {
   "cell_type": "code",
   "execution_count": 521,
   "metadata": {
    "ExecuteTime": {
     "end_time": "2020-05-16T14:52:16.411555Z",
     "start_time": "2020-05-16T14:52:16.405603Z"
    }
   },
   "outputs": [],
   "source": [
    "from sklearn.metrics import accuracy_score,confusion_matrix,roc_curve,roc_auc_score,r2_score"
   ]
  },
  {
   "cell_type": "code",
   "execution_count": 522,
   "metadata": {
    "ExecuteTime": {
     "end_time": "2020-05-16T14:52:17.786888Z",
     "start_time": "2020-05-16T14:52:17.738006Z"
    }
   },
   "outputs": [
    {
     "data": {
      "text/plain": [
       "0.989594567908736"
      ]
     },
     "execution_count": 522,
     "metadata": {},
     "output_type": "execute_result"
    }
   ],
   "source": [
    "accuracy_score(y,y_pred)"
   ]
  },
  {
   "cell_type": "code",
   "execution_count": 523,
   "metadata": {
    "ExecuteTime": {
     "end_time": "2020-05-16T14:52:18.757943Z",
     "start_time": "2020-05-16T14:52:18.608380Z"
    }
   },
   "outputs": [
    {
     "data": {
      "text/plain": [
       "array([[26932,   207,    75],\n",
       "       [  184, 56322,   222],\n",
       "       [   93,   589, 47038]], dtype=int64)"
      ]
     },
     "execution_count": 523,
     "metadata": {},
     "output_type": "execute_result"
    }
   ],
   "source": [
    "cm=confusion_matrix(y,y_pred)\n",
    "cm"
   ]
  },
  {
   "cell_type": "code",
   "execution_count": 525,
   "metadata": {
    "ExecuteTime": {
     "end_time": "2020-05-16T14:53:19.585785Z",
     "start_time": "2020-05-16T14:53:02.844547Z"
    }
   },
   "outputs": [
    {
     "name": "stdout",
     "output_type": "stream",
     "text": [
      "[0.73197129 0.73387005 0.73322447 0.73511317 0.73024192]\n"
     ]
    }
   ],
   "source": [
    "skf=StratifiedKFold(5,shuffle=True,random_state=1)\n",
    "print(cross_val_score(rfc,x,y,cv=skf,scoring='accuracy'))"
   ]
  },
  {
   "cell_type": "code",
   "execution_count": 422,
   "metadata": {
    "ExecuteTime": {
     "end_time": "2020-05-16T07:52:46.306024Z",
     "start_time": "2020-05-16T07:52:45.992428Z"
    }
   },
   "outputs": [],
   "source": [
    "test_df=pd.read_csv(r\"C:\\Users\\abhisv.CORP\\3D Objects\\test_VsU9xXK.csv\")"
   ]
  },
  {
   "cell_type": "code",
   "execution_count": 423,
   "metadata": {
    "ExecuteTime": {
     "end_time": "2020-05-16T07:53:00.088164Z",
     "start_time": "2020-05-16T07:52:59.994252Z"
    }
   },
   "outputs": [
    {
     "data": {
      "text/plain": [
       "Trip_ID                            0\n",
       "Trip_Distance                      0\n",
       "Type_of_Cab                    13158\n",
       "Customer_Since_Months           3966\n",
       "Life_Style_Index               13327\n",
       "Confidence_Life_Style_Index    13327\n",
       "Destination_Type                   0\n",
       "Customer_Rating                    0\n",
       "Cancellation_Last_1Month           0\n",
       "Var1                           46789\n",
       "Var2                               0\n",
       "Var3                               0\n",
       "Gender                             0\n",
       "dtype: int64"
      ]
     },
     "execution_count": 423,
     "metadata": {},
     "output_type": "execute_result"
    }
   ],
   "source": [
    "test_df.isna().sum()"
   ]
  },
  {
   "cell_type": "code",
   "execution_count": 424,
   "metadata": {
    "ExecuteTime": {
     "end_time": "2020-05-16T07:54:19.251957Z",
     "start_time": "2020-05-16T07:54:19.232000Z"
    }
   },
   "outputs": [],
   "source": [
    "test_df.drop('Trip_ID',axis=1,inplace=True)"
   ]
  },
  {
   "cell_type": "code",
   "execution_count": 425,
   "metadata": {
    "ExecuteTime": {
     "end_time": "2020-05-16T07:54:26.224906Z",
     "start_time": "2020-05-16T07:54:26.203963Z"
    }
   },
   "outputs": [
    {
     "data": {
      "text/html": [
       "<div>\n",
       "<style scoped>\n",
       "    .dataframe tbody tr th:only-of-type {\n",
       "        vertical-align: middle;\n",
       "    }\n",
       "\n",
       "    .dataframe tbody tr th {\n",
       "        vertical-align: top;\n",
       "    }\n",
       "\n",
       "    .dataframe thead th {\n",
       "        text-align: right;\n",
       "    }\n",
       "</style>\n",
       "<table border=\"1\" class=\"dataframe\">\n",
       "  <thead>\n",
       "    <tr style=\"text-align: right;\">\n",
       "      <th></th>\n",
       "      <th>Trip_Distance</th>\n",
       "      <th>Type_of_Cab</th>\n",
       "      <th>Customer_Since_Months</th>\n",
       "      <th>Life_Style_Index</th>\n",
       "      <th>Confidence_Life_Style_Index</th>\n",
       "      <th>Destination_Type</th>\n",
       "      <th>Customer_Rating</th>\n",
       "      <th>Cancellation_Last_1Month</th>\n",
       "      <th>Var1</th>\n",
       "      <th>Var2</th>\n",
       "      <th>Var3</th>\n",
       "      <th>Gender</th>\n",
       "    </tr>\n",
       "  </thead>\n",
       "  <tbody>\n",
       "    <tr>\n",
       "      <th>0</th>\n",
       "      <td>9.44</td>\n",
       "      <td>A</td>\n",
       "      <td>10.0</td>\n",
       "      <td>2.57438</td>\n",
       "      <td>A</td>\n",
       "      <td>B</td>\n",
       "      <td>3.68000</td>\n",
       "      <td>2</td>\n",
       "      <td>NaN</td>\n",
       "      <td>46</td>\n",
       "      <td>63</td>\n",
       "      <td>Male</td>\n",
       "    </tr>\n",
       "    <tr>\n",
       "      <th>1</th>\n",
       "      <td>32.15</td>\n",
       "      <td>B</td>\n",
       "      <td>10.0</td>\n",
       "      <td>2.85143</td>\n",
       "      <td>A</td>\n",
       "      <td>A</td>\n",
       "      <td>1.59375</td>\n",
       "      <td>0</td>\n",
       "      <td>65.0</td>\n",
       "      <td>49</td>\n",
       "      <td>80</td>\n",
       "      <td>Female</td>\n",
       "    </tr>\n",
       "    <tr>\n",
       "      <th>2</th>\n",
       "      <td>10.38</td>\n",
       "      <td>C</td>\n",
       "      <td>4.0</td>\n",
       "      <td>2.70530</td>\n",
       "      <td>A</td>\n",
       "      <td>D</td>\n",
       "      <td>4.50500</td>\n",
       "      <td>0</td>\n",
       "      <td>NaN</td>\n",
       "      <td>47</td>\n",
       "      <td>74</td>\n",
       "      <td>Male</td>\n",
       "    </tr>\n",
       "  </tbody>\n",
       "</table>\n",
       "</div>"
      ],
      "text/plain": [
       "   Trip_Distance Type_of_Cab  Customer_Since_Months  Life_Style_Index  \\\n",
       "0           9.44           A                   10.0           2.57438   \n",
       "1          32.15           B                   10.0           2.85143   \n",
       "2          10.38           C                    4.0           2.70530   \n",
       "\n",
       "  Confidence_Life_Style_Index Destination_Type  Customer_Rating  \\\n",
       "0                           A                B          3.68000   \n",
       "1                           A                A          1.59375   \n",
       "2                           A                D          4.50500   \n",
       "\n",
       "   Cancellation_Last_1Month  Var1  Var2  Var3  Gender  \n",
       "0                         2   NaN    46    63    Male  \n",
       "1                         0  65.0    49    80  Female  \n",
       "2                         0   NaN    47    74    Male  "
      ]
     },
     "execution_count": 425,
     "metadata": {},
     "output_type": "execute_result"
    }
   ],
   "source": [
    "test_df.head(3)"
   ]
  },
  {
   "cell_type": "code",
   "execution_count": 431,
   "metadata": {
    "ExecuteTime": {
     "end_time": "2020-05-16T07:55:39.362832Z",
     "start_time": "2020-05-16T07:55:39.347870Z"
    }
   },
   "outputs": [],
   "source": [
    "cat=test_df.select_dtypes(include='O')"
   ]
  },
  {
   "cell_type": "code",
   "execution_count": 432,
   "metadata": {
    "ExecuteTime": {
     "end_time": "2020-05-16T07:55:43.415634Z",
     "start_time": "2020-05-16T07:55:43.398628Z"
    }
   },
   "outputs": [],
   "source": [
    "numerical=test_df.select_dtypes(exclude='O')"
   ]
  },
  {
   "cell_type": "code",
   "execution_count": 433,
   "metadata": {
    "ExecuteTime": {
     "end_time": "2020-05-16T07:58:06.589359Z",
     "start_time": "2020-05-16T07:58:05.490871Z"
    }
   },
   "outputs": [],
   "source": [
    "from sklearn.experimental import enable_iterative_imputer\n",
    "from sklearn.impute import IterativeImputer\n",
    "\n",
    "impute_it=IterativeImputer()\n",
    "numerical1=impute_it.fit_transform(numerical)\n",
    "\n",
    "numerical1=pd.DataFrame(numerical1,columns=['Trip_Distance', 'Customer_Since_Months', 'Life_Style_Index',\n",
    "       'Customer_Rating', 'Cancellation_Last_1Month', 'Var1', 'Var2', 'Var3'])\n",
    "\n",
    "test_df.drop(numerical,axis=1,inplace=True)\n",
    "\n",
    "test_df=pd.concat([test_df,numerical1],axis=1)\n",
    "\n",
    "cat['Type_of_Cab'].mode()\n",
    "test_df['Type_of_Cab'].fillna('B',inplace=True)\n",
    "test_df['Confidence_Life_Style_Index'].fillna('B',inplace=True)\n",
    "cat_dummy=pd.get_dummies(cat,drop_first=True)\n",
    "test_df.drop(cat,axis=1,inplace=True)\n",
    "test_df=pd.concat([test_df,cat_dummy],axis=1)"
   ]
  },
  {
   "cell_type": "code",
   "execution_count": 434,
   "metadata": {
    "ExecuteTime": {
     "end_time": "2020-05-16T07:58:12.571539Z",
     "start_time": "2020-05-16T07:58:12.564557Z"
    }
   },
   "outputs": [
    {
     "data": {
      "text/plain": [
       "(87395, 28)"
      ]
     },
     "execution_count": 434,
     "metadata": {},
     "output_type": "execute_result"
    }
   ],
   "source": [
    "test_df.shape"
   ]
  },
  {
   "cell_type": "code",
   "execution_count": 436,
   "metadata": {
    "ExecuteTime": {
     "end_time": "2020-05-16T08:01:26.197549Z",
     "start_time": "2020-05-16T08:01:26.192563Z"
    }
   },
   "outputs": [],
   "source": [
    "x_test=test_df"
   ]
  },
  {
   "cell_type": "code",
   "execution_count": 438,
   "metadata": {
    "ExecuteTime": {
     "end_time": "2020-05-16T08:03:32.468995Z",
     "start_time": "2020-05-16T08:03:31.725304Z"
    }
   },
   "outputs": [],
   "source": [
    "x_test_predict=pd.DataFrame(bc.predict(x_test))"
   ]
  },
  {
   "cell_type": "code",
   "execution_count": 440,
   "metadata": {
    "ExecuteTime": {
     "end_time": "2020-05-16T08:04:49.198552Z",
     "start_time": "2020-05-16T08:04:48.835944Z"
    }
   },
   "outputs": [],
   "source": [
    "x_test_predict.to_csv('sample_submission.csv',index=False)"
   ]
  },
  {
   "cell_type": "code",
   "execution_count": null,
   "metadata": {},
   "outputs": [],
   "source": []
  },
  {
   "cell_type": "code",
   "execution_count": null,
   "metadata": {},
   "outputs": [],
   "source": []
  },
  {
   "cell_type": "code",
   "execution_count": null,
   "metadata": {},
   "outputs": [],
   "source": []
  }
 ],
 "metadata": {
  "kernelspec": {
   "display_name": "Python 3",
   "language": "python",
   "name": "python3"
  },
  "language_info": {
   "codemirror_mode": {
    "name": "ipython",
    "version": 3
   },
   "file_extension": ".py",
   "mimetype": "text/x-python",
   "name": "python",
   "nbconvert_exporter": "python",
   "pygments_lexer": "ipython3",
   "version": "3.7.3"
  },
  "toc": {
   "base_numbering": 1,
   "nav_menu": {},
   "number_sections": true,
   "sideBar": true,
   "skip_h1_title": false,
   "title_cell": "Table of Contents",
   "title_sidebar": "Contents",
   "toc_cell": false,
   "toc_position": {},
   "toc_section_display": true,
   "toc_window_display": false
  },
  "varInspector": {
   "cols": {
    "lenName": 16,
    "lenType": 16,
    "lenVar": 40
   },
   "kernels_config": {
    "python": {
     "delete_cmd_postfix": "",
     "delete_cmd_prefix": "del ",
     "library": "var_list.py",
     "varRefreshCmd": "print(var_dic_list())"
    },
    "r": {
     "delete_cmd_postfix": ") ",
     "delete_cmd_prefix": "rm(",
     "library": "var_list.r",
     "varRefreshCmd": "cat(var_dic_list()) "
    }
   },
   "types_to_exclude": [
    "module",
    "function",
    "builtin_function_or_method",
    "instance",
    "_Feature"
   ],
   "window_display": false
  }
 },
 "nbformat": 4,
 "nbformat_minor": 2
}
